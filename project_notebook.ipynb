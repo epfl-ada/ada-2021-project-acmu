{
  "nbformat": 4,
  "nbformat_minor": 0,
  "metadata": {
    "colab": {
      "name": "project_notebook_Mihai (1).ipynb",
      "provenance": [],
      "collapsed_sections": [
        "pTGtp0hqkd3_",
        "fng8VWlseg1Y",
        "4Ul1g1t82jgf"
      ]
    },
    "kernelspec": {
      "display_name": "Python 3",
      "name": "python3"
    },
    "language_info": {
      "name": "python"
    },
    "widgets": {
      "application/vnd.jupyter.widget-state+json": {
        "9e4ab462d46e4be0902022f51e5e641f": {
          "model_module": "@jupyter-widgets/controls",
          "model_name": "HBoxModel",
          "model_module_version": "1.5.0",
          "state": {
            "_view_name": "HBoxView",
            "_dom_classes": [],
            "_model_name": "HBoxModel",
            "_view_module": "@jupyter-widgets/controls",
            "_model_module_version": "1.5.0",
            "_view_count": null,
            "_view_module_version": "1.5.0",
            "box_style": "",
            "layout": "IPY_MODEL_e5992ce35d004681840c171a4438cf51",
            "_model_module": "@jupyter-widgets/controls",
            "children": [
              "IPY_MODEL_6cabcb17fb4542d9bbd5799fd4dbe3dd",
              "IPY_MODEL_96d7f239fec8475d83473cf08c1a8360",
              "IPY_MODEL_20bfa8f59c5347b687def2c254991b9c"
            ]
          }
        },
        "e5992ce35d004681840c171a4438cf51": {
          "model_module": "@jupyter-widgets/base",
          "model_name": "LayoutModel",
          "model_module_version": "1.2.0",
          "state": {
            "_view_name": "LayoutView",
            "grid_template_rows": null,
            "right": null,
            "justify_content": null,
            "_view_module": "@jupyter-widgets/base",
            "overflow": null,
            "_model_module_version": "1.2.0",
            "_view_count": null,
            "flex_flow": null,
            "width": null,
            "min_width": null,
            "border": null,
            "align_items": null,
            "bottom": null,
            "_model_module": "@jupyter-widgets/base",
            "top": null,
            "grid_column": null,
            "overflow_y": null,
            "overflow_x": null,
            "grid_auto_flow": null,
            "grid_area": null,
            "grid_template_columns": null,
            "flex": null,
            "_model_name": "LayoutModel",
            "justify_items": null,
            "grid_row": null,
            "max_height": null,
            "align_content": null,
            "visibility": null,
            "align_self": null,
            "height": null,
            "min_height": null,
            "padding": null,
            "grid_auto_rows": null,
            "grid_gap": null,
            "max_width": null,
            "order": null,
            "_view_module_version": "1.2.0",
            "grid_template_areas": null,
            "object_position": null,
            "object_fit": null,
            "grid_auto_columns": null,
            "margin": null,
            "display": null,
            "left": null
          }
        },
        "6cabcb17fb4542d9bbd5799fd4dbe3dd": {
          "model_module": "@jupyter-widgets/controls",
          "model_name": "HTMLModel",
          "model_module_version": "1.5.0",
          "state": {
            "_view_name": "HTMLView",
            "style": "IPY_MODEL_e04747e09f0e4429834ee48d39b2913c",
            "_dom_classes": [],
            "description": "",
            "_model_name": "HTMLModel",
            "placeholder": "​",
            "_view_module": "@jupyter-widgets/controls",
            "_model_module_version": "1.5.0",
            "value": "Downloading: 100%",
            "_view_count": null,
            "_view_module_version": "1.5.0",
            "description_tooltip": null,
            "_model_module": "@jupyter-widgets/controls",
            "layout": "IPY_MODEL_553b084f761c4983a2d1c41825872532"
          }
        },
        "96d7f239fec8475d83473cf08c1a8360": {
          "model_module": "@jupyter-widgets/controls",
          "model_name": "FloatProgressModel",
          "model_module_version": "1.5.0",
          "state": {
            "_view_name": "ProgressView",
            "style": "IPY_MODEL_4773a051d7444fed82b0a3cdda6471ba",
            "_dom_classes": [],
            "description": "",
            "_model_name": "FloatProgressModel",
            "bar_style": "success",
            "max": 391,
            "_view_module": "@jupyter-widgets/controls",
            "_model_module_version": "1.5.0",
            "value": 391,
            "_view_count": null,
            "_view_module_version": "1.5.0",
            "orientation": "horizontal",
            "min": 0,
            "description_tooltip": null,
            "_model_module": "@jupyter-widgets/controls",
            "layout": "IPY_MODEL_0aab22b1747c451d8294c97d0ba63437"
          }
        },
        "20bfa8f59c5347b687def2c254991b9c": {
          "model_module": "@jupyter-widgets/controls",
          "model_name": "HTMLModel",
          "model_module_version": "1.5.0",
          "state": {
            "_view_name": "HTMLView",
            "style": "IPY_MODEL_91f2258f5b6a4df28fcbeaa2bba39d80",
            "_dom_classes": [],
            "description": "",
            "_model_name": "HTMLModel",
            "placeholder": "​",
            "_view_module": "@jupyter-widgets/controls",
            "_model_module_version": "1.5.0",
            "value": " 391/391 [00:00&lt;00:00, 8.96kB/s]",
            "_view_count": null,
            "_view_module_version": "1.5.0",
            "description_tooltip": null,
            "_model_module": "@jupyter-widgets/controls",
            "layout": "IPY_MODEL_b0651c2051c04a128a2d26a807c53f28"
          }
        },
        "e04747e09f0e4429834ee48d39b2913c": {
          "model_module": "@jupyter-widgets/controls",
          "model_name": "DescriptionStyleModel",
          "model_module_version": "1.5.0",
          "state": {
            "_view_name": "StyleView",
            "_model_name": "DescriptionStyleModel",
            "description_width": "",
            "_view_module": "@jupyter-widgets/base",
            "_model_module_version": "1.5.0",
            "_view_count": null,
            "_view_module_version": "1.2.0",
            "_model_module": "@jupyter-widgets/controls"
          }
        },
        "553b084f761c4983a2d1c41825872532": {
          "model_module": "@jupyter-widgets/base",
          "model_name": "LayoutModel",
          "model_module_version": "1.2.0",
          "state": {
            "_view_name": "LayoutView",
            "grid_template_rows": null,
            "right": null,
            "justify_content": null,
            "_view_module": "@jupyter-widgets/base",
            "overflow": null,
            "_model_module_version": "1.2.0",
            "_view_count": null,
            "flex_flow": null,
            "width": null,
            "min_width": null,
            "border": null,
            "align_items": null,
            "bottom": null,
            "_model_module": "@jupyter-widgets/base",
            "top": null,
            "grid_column": null,
            "overflow_y": null,
            "overflow_x": null,
            "grid_auto_flow": null,
            "grid_area": null,
            "grid_template_columns": null,
            "flex": null,
            "_model_name": "LayoutModel",
            "justify_items": null,
            "grid_row": null,
            "max_height": null,
            "align_content": null,
            "visibility": null,
            "align_self": null,
            "height": null,
            "min_height": null,
            "padding": null,
            "grid_auto_rows": null,
            "grid_gap": null,
            "max_width": null,
            "order": null,
            "_view_module_version": "1.2.0",
            "grid_template_areas": null,
            "object_position": null,
            "object_fit": null,
            "grid_auto_columns": null,
            "margin": null,
            "display": null,
            "left": null
          }
        },
        "4773a051d7444fed82b0a3cdda6471ba": {
          "model_module": "@jupyter-widgets/controls",
          "model_name": "ProgressStyleModel",
          "model_module_version": "1.5.0",
          "state": {
            "_view_name": "StyleView",
            "_model_name": "ProgressStyleModel",
            "description_width": "",
            "_view_module": "@jupyter-widgets/base",
            "_model_module_version": "1.5.0",
            "_view_count": null,
            "_view_module_version": "1.2.0",
            "bar_color": null,
            "_model_module": "@jupyter-widgets/controls"
          }
        },
        "0aab22b1747c451d8294c97d0ba63437": {
          "model_module": "@jupyter-widgets/base",
          "model_name": "LayoutModel",
          "model_module_version": "1.2.0",
          "state": {
            "_view_name": "LayoutView",
            "grid_template_rows": null,
            "right": null,
            "justify_content": null,
            "_view_module": "@jupyter-widgets/base",
            "overflow": null,
            "_model_module_version": "1.2.0",
            "_view_count": null,
            "flex_flow": null,
            "width": null,
            "min_width": null,
            "border": null,
            "align_items": null,
            "bottom": null,
            "_model_module": "@jupyter-widgets/base",
            "top": null,
            "grid_column": null,
            "overflow_y": null,
            "overflow_x": null,
            "grid_auto_flow": null,
            "grid_area": null,
            "grid_template_columns": null,
            "flex": null,
            "_model_name": "LayoutModel",
            "justify_items": null,
            "grid_row": null,
            "max_height": null,
            "align_content": null,
            "visibility": null,
            "align_self": null,
            "height": null,
            "min_height": null,
            "padding": null,
            "grid_auto_rows": null,
            "grid_gap": null,
            "max_width": null,
            "order": null,
            "_view_module_version": "1.2.0",
            "grid_template_areas": null,
            "object_position": null,
            "object_fit": null,
            "grid_auto_columns": null,
            "margin": null,
            "display": null,
            "left": null
          }
        },
        "91f2258f5b6a4df28fcbeaa2bba39d80": {
          "model_module": "@jupyter-widgets/controls",
          "model_name": "DescriptionStyleModel",
          "model_module_version": "1.5.0",
          "state": {
            "_view_name": "StyleView",
            "_model_name": "DescriptionStyleModel",
            "description_width": "",
            "_view_module": "@jupyter-widgets/base",
            "_model_module_version": "1.5.0",
            "_view_count": null,
            "_view_module_version": "1.2.0",
            "_model_module": "@jupyter-widgets/controls"
          }
        },
        "b0651c2051c04a128a2d26a807c53f28": {
          "model_module": "@jupyter-widgets/base",
          "model_name": "LayoutModel",
          "model_module_version": "1.2.0",
          "state": {
            "_view_name": "LayoutView",
            "grid_template_rows": null,
            "right": null,
            "justify_content": null,
            "_view_module": "@jupyter-widgets/base",
            "overflow": null,
            "_model_module_version": "1.2.0",
            "_view_count": null,
            "flex_flow": null,
            "width": null,
            "min_width": null,
            "border": null,
            "align_items": null,
            "bottom": null,
            "_model_module": "@jupyter-widgets/base",
            "top": null,
            "grid_column": null,
            "overflow_y": null,
            "overflow_x": null,
            "grid_auto_flow": null,
            "grid_area": null,
            "grid_template_columns": null,
            "flex": null,
            "_model_name": "LayoutModel",
            "justify_items": null,
            "grid_row": null,
            "max_height": null,
            "align_content": null,
            "visibility": null,
            "align_self": null,
            "height": null,
            "min_height": null,
            "padding": null,
            "grid_auto_rows": null,
            "grid_gap": null,
            "max_width": null,
            "order": null,
            "_view_module_version": "1.2.0",
            "grid_template_areas": null,
            "object_position": null,
            "object_fit": null,
            "grid_auto_columns": null,
            "margin": null,
            "display": null,
            "left": null
          }
        },
        "d5460bb5a90045d090e6cc66e6efd8e7": {
          "model_module": "@jupyter-widgets/controls",
          "model_name": "HBoxModel",
          "model_module_version": "1.5.0",
          "state": {
            "_view_name": "HBoxView",
            "_dom_classes": [],
            "_model_name": "HBoxModel",
            "_view_module": "@jupyter-widgets/controls",
            "_model_module_version": "1.5.0",
            "_view_count": null,
            "_view_module_version": "1.5.0",
            "box_style": "",
            "layout": "IPY_MODEL_de0f92171e01476a916957ad16e5caa6",
            "_model_module": "@jupyter-widgets/controls",
            "children": [
              "IPY_MODEL_74c3eeffb23f4ffc8772f2fb1f9f04e0",
              "IPY_MODEL_7f00d1de5a8345b3a80b891d11d91624",
              "IPY_MODEL_b259bfca45984a17bee65c096414aecc"
            ]
          }
        },
        "de0f92171e01476a916957ad16e5caa6": {
          "model_module": "@jupyter-widgets/base",
          "model_name": "LayoutModel",
          "model_module_version": "1.2.0",
          "state": {
            "_view_name": "LayoutView",
            "grid_template_rows": null,
            "right": null,
            "justify_content": null,
            "_view_module": "@jupyter-widgets/base",
            "overflow": null,
            "_model_module_version": "1.2.0",
            "_view_count": null,
            "flex_flow": null,
            "width": null,
            "min_width": null,
            "border": null,
            "align_items": null,
            "bottom": null,
            "_model_module": "@jupyter-widgets/base",
            "top": null,
            "grid_column": null,
            "overflow_y": null,
            "overflow_x": null,
            "grid_auto_flow": null,
            "grid_area": null,
            "grid_template_columns": null,
            "flex": null,
            "_model_name": "LayoutModel",
            "justify_items": null,
            "grid_row": null,
            "max_height": null,
            "align_content": null,
            "visibility": null,
            "align_self": null,
            "height": null,
            "min_height": null,
            "padding": null,
            "grid_auto_rows": null,
            "grid_gap": null,
            "max_width": null,
            "order": null,
            "_view_module_version": "1.2.0",
            "grid_template_areas": null,
            "object_position": null,
            "object_fit": null,
            "grid_auto_columns": null,
            "margin": null,
            "display": null,
            "left": null
          }
        },
        "74c3eeffb23f4ffc8772f2fb1f9f04e0": {
          "model_module": "@jupyter-widgets/controls",
          "model_name": "HTMLModel",
          "model_module_version": "1.5.0",
          "state": {
            "_view_name": "HTMLView",
            "style": "IPY_MODEL_d363f66ed7844cafa52608b74fd5593b",
            "_dom_classes": [],
            "description": "",
            "_model_name": "HTMLModel",
            "placeholder": "​",
            "_view_module": "@jupyter-widgets/controls",
            "_model_module_version": "1.5.0",
            "value": "Downloading: 100%",
            "_view_count": null,
            "_view_module_version": "1.5.0",
            "description_tooltip": null,
            "_model_module": "@jupyter-widgets/controls",
            "layout": "IPY_MODEL_88cb8eb0b7ca45a1838a8a8ccef28d55"
          }
        },
        "7f00d1de5a8345b3a80b891d11d91624": {
          "model_module": "@jupyter-widgets/controls",
          "model_name": "FloatProgressModel",
          "model_module_version": "1.5.0",
          "state": {
            "_view_name": "ProgressView",
            "style": "IPY_MODEL_0a7f5d1622104c7fb1625a5b0d9d0cd0",
            "_dom_classes": [],
            "description": "",
            "_model_name": "FloatProgressModel",
            "bar_style": "success",
            "max": 3951,
            "_view_module": "@jupyter-widgets/controls",
            "_model_module_version": "1.5.0",
            "value": 3951,
            "_view_count": null,
            "_view_module_version": "1.5.0",
            "orientation": "horizontal",
            "min": 0,
            "description_tooltip": null,
            "_model_module": "@jupyter-widgets/controls",
            "layout": "IPY_MODEL_547833a77cc349a58dd556de1deae961"
          }
        },
        "b259bfca45984a17bee65c096414aecc": {
          "model_module": "@jupyter-widgets/controls",
          "model_name": "HTMLModel",
          "model_module_version": "1.5.0",
          "state": {
            "_view_name": "HTMLView",
            "style": "IPY_MODEL_32c2d7b6422441438adf369ac01db9b9",
            "_dom_classes": [],
            "description": "",
            "_model_name": "HTMLModel",
            "placeholder": "​",
            "_view_module": "@jupyter-widgets/controls",
            "_model_module_version": "1.5.0",
            "value": " 3.95k/3.95k [00:00&lt;00:00, 79.9kB/s]",
            "_view_count": null,
            "_view_module_version": "1.5.0",
            "description_tooltip": null,
            "_model_module": "@jupyter-widgets/controls",
            "layout": "IPY_MODEL_533f3578eef949c1a3d2310db286fc16"
          }
        },
        "d363f66ed7844cafa52608b74fd5593b": {
          "model_module": "@jupyter-widgets/controls",
          "model_name": "DescriptionStyleModel",
          "model_module_version": "1.5.0",
          "state": {
            "_view_name": "StyleView",
            "_model_name": "DescriptionStyleModel",
            "description_width": "",
            "_view_module": "@jupyter-widgets/base",
            "_model_module_version": "1.5.0",
            "_view_count": null,
            "_view_module_version": "1.2.0",
            "_model_module": "@jupyter-widgets/controls"
          }
        },
        "88cb8eb0b7ca45a1838a8a8ccef28d55": {
          "model_module": "@jupyter-widgets/base",
          "model_name": "LayoutModel",
          "model_module_version": "1.2.0",
          "state": {
            "_view_name": "LayoutView",
            "grid_template_rows": null,
            "right": null,
            "justify_content": null,
            "_view_module": "@jupyter-widgets/base",
            "overflow": null,
            "_model_module_version": "1.2.0",
            "_view_count": null,
            "flex_flow": null,
            "width": null,
            "min_width": null,
            "border": null,
            "align_items": null,
            "bottom": null,
            "_model_module": "@jupyter-widgets/base",
            "top": null,
            "grid_column": null,
            "overflow_y": null,
            "overflow_x": null,
            "grid_auto_flow": null,
            "grid_area": null,
            "grid_template_columns": null,
            "flex": null,
            "_model_name": "LayoutModel",
            "justify_items": null,
            "grid_row": null,
            "max_height": null,
            "align_content": null,
            "visibility": null,
            "align_self": null,
            "height": null,
            "min_height": null,
            "padding": null,
            "grid_auto_rows": null,
            "grid_gap": null,
            "max_width": null,
            "order": null,
            "_view_module_version": "1.2.0",
            "grid_template_areas": null,
            "object_position": null,
            "object_fit": null,
            "grid_auto_columns": null,
            "margin": null,
            "display": null,
            "left": null
          }
        },
        "0a7f5d1622104c7fb1625a5b0d9d0cd0": {
          "model_module": "@jupyter-widgets/controls",
          "model_name": "ProgressStyleModel",
          "model_module_version": "1.5.0",
          "state": {
            "_view_name": "StyleView",
            "_model_name": "ProgressStyleModel",
            "description_width": "",
            "_view_module": "@jupyter-widgets/base",
            "_model_module_version": "1.5.0",
            "_view_count": null,
            "_view_module_version": "1.2.0",
            "bar_color": null,
            "_model_module": "@jupyter-widgets/controls"
          }
        },
        "547833a77cc349a58dd556de1deae961": {
          "model_module": "@jupyter-widgets/base",
          "model_name": "LayoutModel",
          "model_module_version": "1.2.0",
          "state": {
            "_view_name": "LayoutView",
            "grid_template_rows": null,
            "right": null,
            "justify_content": null,
            "_view_module": "@jupyter-widgets/base",
            "overflow": null,
            "_model_module_version": "1.2.0",
            "_view_count": null,
            "flex_flow": null,
            "width": null,
            "min_width": null,
            "border": null,
            "align_items": null,
            "bottom": null,
            "_model_module": "@jupyter-widgets/base",
            "top": null,
            "grid_column": null,
            "overflow_y": null,
            "overflow_x": null,
            "grid_auto_flow": null,
            "grid_area": null,
            "grid_template_columns": null,
            "flex": null,
            "_model_name": "LayoutModel",
            "justify_items": null,
            "grid_row": null,
            "max_height": null,
            "align_content": null,
            "visibility": null,
            "align_self": null,
            "height": null,
            "min_height": null,
            "padding": null,
            "grid_auto_rows": null,
            "grid_gap": null,
            "max_width": null,
            "order": null,
            "_view_module_version": "1.2.0",
            "grid_template_areas": null,
            "object_position": null,
            "object_fit": null,
            "grid_auto_columns": null,
            "margin": null,
            "display": null,
            "left": null
          }
        },
        "32c2d7b6422441438adf369ac01db9b9": {
          "model_module": "@jupyter-widgets/controls",
          "model_name": "DescriptionStyleModel",
          "model_module_version": "1.5.0",
          "state": {
            "_view_name": "StyleView",
            "_model_name": "DescriptionStyleModel",
            "description_width": "",
            "_view_module": "@jupyter-widgets/base",
            "_model_module_version": "1.5.0",
            "_view_count": null,
            "_view_module_version": "1.2.0",
            "_model_module": "@jupyter-widgets/controls"
          }
        },
        "533f3578eef949c1a3d2310db286fc16": {
          "model_module": "@jupyter-widgets/base",
          "model_name": "LayoutModel",
          "model_module_version": "1.2.0",
          "state": {
            "_view_name": "LayoutView",
            "grid_template_rows": null,
            "right": null,
            "justify_content": null,
            "_view_module": "@jupyter-widgets/base",
            "overflow": null,
            "_model_module_version": "1.2.0",
            "_view_count": null,
            "flex_flow": null,
            "width": null,
            "min_width": null,
            "border": null,
            "align_items": null,
            "bottom": null,
            "_model_module": "@jupyter-widgets/base",
            "top": null,
            "grid_column": null,
            "overflow_y": null,
            "overflow_x": null,
            "grid_auto_flow": null,
            "grid_area": null,
            "grid_template_columns": null,
            "flex": null,
            "_model_name": "LayoutModel",
            "justify_items": null,
            "grid_row": null,
            "max_height": null,
            "align_content": null,
            "visibility": null,
            "align_self": null,
            "height": null,
            "min_height": null,
            "padding": null,
            "grid_auto_rows": null,
            "grid_gap": null,
            "max_width": null,
            "order": null,
            "_view_module_version": "1.2.0",
            "grid_template_areas": null,
            "object_position": null,
            "object_fit": null,
            "grid_auto_columns": null,
            "margin": null,
            "display": null,
            "left": null
          }
        },
        "7586e9dfa9ba4e16ada52c8f70ca5a3f": {
          "model_module": "@jupyter-widgets/controls",
          "model_name": "HBoxModel",
          "model_module_version": "1.5.0",
          "state": {
            "_view_name": "HBoxView",
            "_dom_classes": [],
            "_model_name": "HBoxModel",
            "_view_module": "@jupyter-widgets/controls",
            "_model_module_version": "1.5.0",
            "_view_count": null,
            "_view_module_version": "1.5.0",
            "box_style": "",
            "layout": "IPY_MODEL_6323d4ca46ae4fd78271f8a44223c404",
            "_model_module": "@jupyter-widgets/controls",
            "children": [
              "IPY_MODEL_4571b7270b3a435cb6053f75ef96bd90",
              "IPY_MODEL_a8ba7e9d3fc848dcafab1f7ad0810d2c",
              "IPY_MODEL_08bfd6939a1640adb74701b7f5cef2b7"
            ]
          }
        },
        "6323d4ca46ae4fd78271f8a44223c404": {
          "model_module": "@jupyter-widgets/base",
          "model_name": "LayoutModel",
          "model_module_version": "1.2.0",
          "state": {
            "_view_name": "LayoutView",
            "grid_template_rows": null,
            "right": null,
            "justify_content": null,
            "_view_module": "@jupyter-widgets/base",
            "overflow": null,
            "_model_module_version": "1.2.0",
            "_view_count": null,
            "flex_flow": null,
            "width": null,
            "min_width": null,
            "border": null,
            "align_items": null,
            "bottom": null,
            "_model_module": "@jupyter-widgets/base",
            "top": null,
            "grid_column": null,
            "overflow_y": null,
            "overflow_x": null,
            "grid_auto_flow": null,
            "grid_area": null,
            "grid_template_columns": null,
            "flex": null,
            "_model_name": "LayoutModel",
            "justify_items": null,
            "grid_row": null,
            "max_height": null,
            "align_content": null,
            "visibility": null,
            "align_self": null,
            "height": null,
            "min_height": null,
            "padding": null,
            "grid_auto_rows": null,
            "grid_gap": null,
            "max_width": null,
            "order": null,
            "_view_module_version": "1.2.0",
            "grid_template_areas": null,
            "object_position": null,
            "object_fit": null,
            "grid_auto_columns": null,
            "margin": null,
            "display": null,
            "left": null
          }
        },
        "4571b7270b3a435cb6053f75ef96bd90": {
          "model_module": "@jupyter-widgets/controls",
          "model_name": "HTMLModel",
          "model_module_version": "1.5.0",
          "state": {
            "_view_name": "HTMLView",
            "style": "IPY_MODEL_6e1436aeb2524c1f81654f2e3dd2dd4c",
            "_dom_classes": [],
            "description": "",
            "_model_name": "HTMLModel",
            "placeholder": "​",
            "_view_module": "@jupyter-widgets/controls",
            "_model_module_version": "1.5.0",
            "value": "Downloading: 100%",
            "_view_count": null,
            "_view_module_version": "1.5.0",
            "description_tooltip": null,
            "_model_module": "@jupyter-widgets/controls",
            "layout": "IPY_MODEL_0425bd2699d742b3a6b281b67cecc67c"
          }
        },
        "a8ba7e9d3fc848dcafab1f7ad0810d2c": {
          "model_module": "@jupyter-widgets/controls",
          "model_name": "FloatProgressModel",
          "model_module_version": "1.5.0",
          "state": {
            "_view_name": "ProgressView",
            "style": "IPY_MODEL_698d8bb351eb489aa76dd4be9653e0dc",
            "_dom_classes": [],
            "description": "",
            "_model_name": "FloatProgressModel",
            "bar_style": "success",
            "max": 2,
            "_view_module": "@jupyter-widgets/controls",
            "_model_module_version": "1.5.0",
            "value": 2,
            "_view_count": null,
            "_view_module_version": "1.5.0",
            "orientation": "horizontal",
            "min": 0,
            "description_tooltip": null,
            "_model_module": "@jupyter-widgets/controls",
            "layout": "IPY_MODEL_7dff46a9ddcf45a98605bdefe5989a5d"
          }
        },
        "08bfd6939a1640adb74701b7f5cef2b7": {
          "model_module": "@jupyter-widgets/controls",
          "model_name": "HTMLModel",
          "model_module_version": "1.5.0",
          "state": {
            "_view_name": "HTMLView",
            "style": "IPY_MODEL_4b32b5949aa44e31acdc4aa698a41b4e",
            "_dom_classes": [],
            "description": "",
            "_model_name": "HTMLModel",
            "placeholder": "​",
            "_view_module": "@jupyter-widgets/controls",
            "_model_module_version": "1.5.0",
            "value": " 2.00/2.00 [00:00&lt;00:00, 33.3B/s]",
            "_view_count": null,
            "_view_module_version": "1.5.0",
            "description_tooltip": null,
            "_model_module": "@jupyter-widgets/controls",
            "layout": "IPY_MODEL_0e0a52e708d848f38efc71a3a9cd357f"
          }
        },
        "6e1436aeb2524c1f81654f2e3dd2dd4c": {
          "model_module": "@jupyter-widgets/controls",
          "model_name": "DescriptionStyleModel",
          "model_module_version": "1.5.0",
          "state": {
            "_view_name": "StyleView",
            "_model_name": "DescriptionStyleModel",
            "description_width": "",
            "_view_module": "@jupyter-widgets/base",
            "_model_module_version": "1.5.0",
            "_view_count": null,
            "_view_module_version": "1.2.0",
            "_model_module": "@jupyter-widgets/controls"
          }
        },
        "0425bd2699d742b3a6b281b67cecc67c": {
          "model_module": "@jupyter-widgets/base",
          "model_name": "LayoutModel",
          "model_module_version": "1.2.0",
          "state": {
            "_view_name": "LayoutView",
            "grid_template_rows": null,
            "right": null,
            "justify_content": null,
            "_view_module": "@jupyter-widgets/base",
            "overflow": null,
            "_model_module_version": "1.2.0",
            "_view_count": null,
            "flex_flow": null,
            "width": null,
            "min_width": null,
            "border": null,
            "align_items": null,
            "bottom": null,
            "_model_module": "@jupyter-widgets/base",
            "top": null,
            "grid_column": null,
            "overflow_y": null,
            "overflow_x": null,
            "grid_auto_flow": null,
            "grid_area": null,
            "grid_template_columns": null,
            "flex": null,
            "_model_name": "LayoutModel",
            "justify_items": null,
            "grid_row": null,
            "max_height": null,
            "align_content": null,
            "visibility": null,
            "align_self": null,
            "height": null,
            "min_height": null,
            "padding": null,
            "grid_auto_rows": null,
            "grid_gap": null,
            "max_width": null,
            "order": null,
            "_view_module_version": "1.2.0",
            "grid_template_areas": null,
            "object_position": null,
            "object_fit": null,
            "grid_auto_columns": null,
            "margin": null,
            "display": null,
            "left": null
          }
        },
        "698d8bb351eb489aa76dd4be9653e0dc": {
          "model_module": "@jupyter-widgets/controls",
          "model_name": "ProgressStyleModel",
          "model_module_version": "1.5.0",
          "state": {
            "_view_name": "StyleView",
            "_model_name": "ProgressStyleModel",
            "description_width": "",
            "_view_module": "@jupyter-widgets/base",
            "_model_module_version": "1.5.0",
            "_view_count": null,
            "_view_module_version": "1.2.0",
            "bar_color": null,
            "_model_module": "@jupyter-widgets/controls"
          }
        },
        "7dff46a9ddcf45a98605bdefe5989a5d": {
          "model_module": "@jupyter-widgets/base",
          "model_name": "LayoutModel",
          "model_module_version": "1.2.0",
          "state": {
            "_view_name": "LayoutView",
            "grid_template_rows": null,
            "right": null,
            "justify_content": null,
            "_view_module": "@jupyter-widgets/base",
            "overflow": null,
            "_model_module_version": "1.2.0",
            "_view_count": null,
            "flex_flow": null,
            "width": null,
            "min_width": null,
            "border": null,
            "align_items": null,
            "bottom": null,
            "_model_module": "@jupyter-widgets/base",
            "top": null,
            "grid_column": null,
            "overflow_y": null,
            "overflow_x": null,
            "grid_auto_flow": null,
            "grid_area": null,
            "grid_template_columns": null,
            "flex": null,
            "_model_name": "LayoutModel",
            "justify_items": null,
            "grid_row": null,
            "max_height": null,
            "align_content": null,
            "visibility": null,
            "align_self": null,
            "height": null,
            "min_height": null,
            "padding": null,
            "grid_auto_rows": null,
            "grid_gap": null,
            "max_width": null,
            "order": null,
            "_view_module_version": "1.2.0",
            "grid_template_areas": null,
            "object_position": null,
            "object_fit": null,
            "grid_auto_columns": null,
            "margin": null,
            "display": null,
            "left": null
          }
        },
        "4b32b5949aa44e31acdc4aa698a41b4e": {
          "model_module": "@jupyter-widgets/controls",
          "model_name": "DescriptionStyleModel",
          "model_module_version": "1.5.0",
          "state": {
            "_view_name": "StyleView",
            "_model_name": "DescriptionStyleModel",
            "description_width": "",
            "_view_module": "@jupyter-widgets/base",
            "_model_module_version": "1.5.0",
            "_view_count": null,
            "_view_module_version": "1.2.0",
            "_model_module": "@jupyter-widgets/controls"
          }
        },
        "0e0a52e708d848f38efc71a3a9cd357f": {
          "model_module": "@jupyter-widgets/base",
          "model_name": "LayoutModel",
          "model_module_version": "1.2.0",
          "state": {
            "_view_name": "LayoutView",
            "grid_template_rows": null,
            "right": null,
            "justify_content": null,
            "_view_module": "@jupyter-widgets/base",
            "overflow": null,
            "_model_module_version": "1.2.0",
            "_view_count": null,
            "flex_flow": null,
            "width": null,
            "min_width": null,
            "border": null,
            "align_items": null,
            "bottom": null,
            "_model_module": "@jupyter-widgets/base",
            "top": null,
            "grid_column": null,
            "overflow_y": null,
            "overflow_x": null,
            "grid_auto_flow": null,
            "grid_area": null,
            "grid_template_columns": null,
            "flex": null,
            "_model_name": "LayoutModel",
            "justify_items": null,
            "grid_row": null,
            "max_height": null,
            "align_content": null,
            "visibility": null,
            "align_self": null,
            "height": null,
            "min_height": null,
            "padding": null,
            "grid_auto_rows": null,
            "grid_gap": null,
            "max_width": null,
            "order": null,
            "_view_module_version": "1.2.0",
            "grid_template_areas": null,
            "object_position": null,
            "object_fit": null,
            "grid_auto_columns": null,
            "margin": null,
            "display": null,
            "left": null
          }
        },
        "177f7f0ee47945f2ba12c96572910622": {
          "model_module": "@jupyter-widgets/controls",
          "model_name": "HBoxModel",
          "model_module_version": "1.5.0",
          "state": {
            "_view_name": "HBoxView",
            "_dom_classes": [],
            "_model_name": "HBoxModel",
            "_view_module": "@jupyter-widgets/controls",
            "_model_module_version": "1.5.0",
            "_view_count": null,
            "_view_module_version": "1.5.0",
            "box_style": "",
            "layout": "IPY_MODEL_3beeffc2daf249a48dc4aba4d44aad1e",
            "_model_module": "@jupyter-widgets/controls",
            "children": [
              "IPY_MODEL_9d74520e405148518f051afd476aa19e",
              "IPY_MODEL_7d689e33c77c422c8d08402e0bcdba60",
              "IPY_MODEL_9bf2dea293e549cf94314a1a221b79db"
            ]
          }
        },
        "3beeffc2daf249a48dc4aba4d44aad1e": {
          "model_module": "@jupyter-widgets/base",
          "model_name": "LayoutModel",
          "model_module_version": "1.2.0",
          "state": {
            "_view_name": "LayoutView",
            "grid_template_rows": null,
            "right": null,
            "justify_content": null,
            "_view_module": "@jupyter-widgets/base",
            "overflow": null,
            "_model_module_version": "1.2.0",
            "_view_count": null,
            "flex_flow": null,
            "width": null,
            "min_width": null,
            "border": null,
            "align_items": null,
            "bottom": null,
            "_model_module": "@jupyter-widgets/base",
            "top": null,
            "grid_column": null,
            "overflow_y": null,
            "overflow_x": null,
            "grid_auto_flow": null,
            "grid_area": null,
            "grid_template_columns": null,
            "flex": null,
            "_model_name": "LayoutModel",
            "justify_items": null,
            "grid_row": null,
            "max_height": null,
            "align_content": null,
            "visibility": null,
            "align_self": null,
            "height": null,
            "min_height": null,
            "padding": null,
            "grid_auto_rows": null,
            "grid_gap": null,
            "max_width": null,
            "order": null,
            "_view_module_version": "1.2.0",
            "grid_template_areas": null,
            "object_position": null,
            "object_fit": null,
            "grid_auto_columns": null,
            "margin": null,
            "display": null,
            "left": null
          }
        },
        "9d74520e405148518f051afd476aa19e": {
          "model_module": "@jupyter-widgets/controls",
          "model_name": "HTMLModel",
          "model_module_version": "1.5.0",
          "state": {
            "_view_name": "HTMLView",
            "style": "IPY_MODEL_d72c516d9cf64b48ad6cb5dc2a418432",
            "_dom_classes": [],
            "description": "",
            "_model_name": "HTMLModel",
            "placeholder": "​",
            "_view_module": "@jupyter-widgets/controls",
            "_model_module_version": "1.5.0",
            "value": "Downloading: 100%",
            "_view_count": null,
            "_view_module_version": "1.5.0",
            "description_tooltip": null,
            "_model_module": "@jupyter-widgets/controls",
            "layout": "IPY_MODEL_bb52e536be38497cacc545a201008757"
          }
        },
        "7d689e33c77c422c8d08402e0bcdba60": {
          "model_module": "@jupyter-widgets/controls",
          "model_name": "FloatProgressModel",
          "model_module_version": "1.5.0",
          "state": {
            "_view_name": "ProgressView",
            "style": "IPY_MODEL_d84d22dea3e94263aee1b7c3f0fd3c08",
            "_dom_classes": [],
            "description": "",
            "_model_name": "FloatProgressModel",
            "bar_style": "success",
            "max": 625,
            "_view_module": "@jupyter-widgets/controls",
            "_model_module_version": "1.5.0",
            "value": 625,
            "_view_count": null,
            "_view_module_version": "1.5.0",
            "orientation": "horizontal",
            "min": 0,
            "description_tooltip": null,
            "_model_module": "@jupyter-widgets/controls",
            "layout": "IPY_MODEL_9e143718970d4049ad37314584e08698"
          }
        },
        "9bf2dea293e549cf94314a1a221b79db": {
          "model_module": "@jupyter-widgets/controls",
          "model_name": "HTMLModel",
          "model_module_version": "1.5.0",
          "state": {
            "_view_name": "HTMLView",
            "style": "IPY_MODEL_ec043b95198a49649817b46bed190785",
            "_dom_classes": [],
            "description": "",
            "_model_name": "HTMLModel",
            "placeholder": "​",
            "_view_module": "@jupyter-widgets/controls",
            "_model_module_version": "1.5.0",
            "value": " 625/625 [00:00&lt;00:00, 9.55kB/s]",
            "_view_count": null,
            "_view_module_version": "1.5.0",
            "description_tooltip": null,
            "_model_module": "@jupyter-widgets/controls",
            "layout": "IPY_MODEL_1890f11286de45bdbbac7d8d70682799"
          }
        },
        "d72c516d9cf64b48ad6cb5dc2a418432": {
          "model_module": "@jupyter-widgets/controls",
          "model_name": "DescriptionStyleModel",
          "model_module_version": "1.5.0",
          "state": {
            "_view_name": "StyleView",
            "_model_name": "DescriptionStyleModel",
            "description_width": "",
            "_view_module": "@jupyter-widgets/base",
            "_model_module_version": "1.5.0",
            "_view_count": null,
            "_view_module_version": "1.2.0",
            "_model_module": "@jupyter-widgets/controls"
          }
        },
        "bb52e536be38497cacc545a201008757": {
          "model_module": "@jupyter-widgets/base",
          "model_name": "LayoutModel",
          "model_module_version": "1.2.0",
          "state": {
            "_view_name": "LayoutView",
            "grid_template_rows": null,
            "right": null,
            "justify_content": null,
            "_view_module": "@jupyter-widgets/base",
            "overflow": null,
            "_model_module_version": "1.2.0",
            "_view_count": null,
            "flex_flow": null,
            "width": null,
            "min_width": null,
            "border": null,
            "align_items": null,
            "bottom": null,
            "_model_module": "@jupyter-widgets/base",
            "top": null,
            "grid_column": null,
            "overflow_y": null,
            "overflow_x": null,
            "grid_auto_flow": null,
            "grid_area": null,
            "grid_template_columns": null,
            "flex": null,
            "_model_name": "LayoutModel",
            "justify_items": null,
            "grid_row": null,
            "max_height": null,
            "align_content": null,
            "visibility": null,
            "align_self": null,
            "height": null,
            "min_height": null,
            "padding": null,
            "grid_auto_rows": null,
            "grid_gap": null,
            "max_width": null,
            "order": null,
            "_view_module_version": "1.2.0",
            "grid_template_areas": null,
            "object_position": null,
            "object_fit": null,
            "grid_auto_columns": null,
            "margin": null,
            "display": null,
            "left": null
          }
        },
        "d84d22dea3e94263aee1b7c3f0fd3c08": {
          "model_module": "@jupyter-widgets/controls",
          "model_name": "ProgressStyleModel",
          "model_module_version": "1.5.0",
          "state": {
            "_view_name": "StyleView",
            "_model_name": "ProgressStyleModel",
            "description_width": "",
            "_view_module": "@jupyter-widgets/base",
            "_model_module_version": "1.5.0",
            "_view_count": null,
            "_view_module_version": "1.2.0",
            "bar_color": null,
            "_model_module": "@jupyter-widgets/controls"
          }
        },
        "9e143718970d4049ad37314584e08698": {
          "model_module": "@jupyter-widgets/base",
          "model_name": "LayoutModel",
          "model_module_version": "1.2.0",
          "state": {
            "_view_name": "LayoutView",
            "grid_template_rows": null,
            "right": null,
            "justify_content": null,
            "_view_module": "@jupyter-widgets/base",
            "overflow": null,
            "_model_module_version": "1.2.0",
            "_view_count": null,
            "flex_flow": null,
            "width": null,
            "min_width": null,
            "border": null,
            "align_items": null,
            "bottom": null,
            "_model_module": "@jupyter-widgets/base",
            "top": null,
            "grid_column": null,
            "overflow_y": null,
            "overflow_x": null,
            "grid_auto_flow": null,
            "grid_area": null,
            "grid_template_columns": null,
            "flex": null,
            "_model_name": "LayoutModel",
            "justify_items": null,
            "grid_row": null,
            "max_height": null,
            "align_content": null,
            "visibility": null,
            "align_self": null,
            "height": null,
            "min_height": null,
            "padding": null,
            "grid_auto_rows": null,
            "grid_gap": null,
            "max_width": null,
            "order": null,
            "_view_module_version": "1.2.0",
            "grid_template_areas": null,
            "object_position": null,
            "object_fit": null,
            "grid_auto_columns": null,
            "margin": null,
            "display": null,
            "left": null
          }
        },
        "ec043b95198a49649817b46bed190785": {
          "model_module": "@jupyter-widgets/controls",
          "model_name": "DescriptionStyleModel",
          "model_module_version": "1.5.0",
          "state": {
            "_view_name": "StyleView",
            "_model_name": "DescriptionStyleModel",
            "description_width": "",
            "_view_module": "@jupyter-widgets/base",
            "_model_module_version": "1.5.0",
            "_view_count": null,
            "_view_module_version": "1.2.0",
            "_model_module": "@jupyter-widgets/controls"
          }
        },
        "1890f11286de45bdbbac7d8d70682799": {
          "model_module": "@jupyter-widgets/base",
          "model_name": "LayoutModel",
          "model_module_version": "1.2.0",
          "state": {
            "_view_name": "LayoutView",
            "grid_template_rows": null,
            "right": null,
            "justify_content": null,
            "_view_module": "@jupyter-widgets/base",
            "overflow": null,
            "_model_module_version": "1.2.0",
            "_view_count": null,
            "flex_flow": null,
            "width": null,
            "min_width": null,
            "border": null,
            "align_items": null,
            "bottom": null,
            "_model_module": "@jupyter-widgets/base",
            "top": null,
            "grid_column": null,
            "overflow_y": null,
            "overflow_x": null,
            "grid_auto_flow": null,
            "grid_area": null,
            "grid_template_columns": null,
            "flex": null,
            "_model_name": "LayoutModel",
            "justify_items": null,
            "grid_row": null,
            "max_height": null,
            "align_content": null,
            "visibility": null,
            "align_self": null,
            "height": null,
            "min_height": null,
            "padding": null,
            "grid_auto_rows": null,
            "grid_gap": null,
            "max_width": null,
            "order": null,
            "_view_module_version": "1.2.0",
            "grid_template_areas": null,
            "object_position": null,
            "object_fit": null,
            "grid_auto_columns": null,
            "margin": null,
            "display": null,
            "left": null
          }
        },
        "fbd6b0dc42ce40038b4713f646e9f99f": {
          "model_module": "@jupyter-widgets/controls",
          "model_name": "HBoxModel",
          "model_module_version": "1.5.0",
          "state": {
            "_view_name": "HBoxView",
            "_dom_classes": [],
            "_model_name": "HBoxModel",
            "_view_module": "@jupyter-widgets/controls",
            "_model_module_version": "1.5.0",
            "_view_count": null,
            "_view_module_version": "1.5.0",
            "box_style": "",
            "layout": "IPY_MODEL_2498ce40f20546dc94e766ca4891ef4c",
            "_model_module": "@jupyter-widgets/controls",
            "children": [
              "IPY_MODEL_7ab102ed02454c4ab1212e1d67ce2b90",
              "IPY_MODEL_d86fbb1f3625481aa89c79fd4237d164",
              "IPY_MODEL_21c172a20f1044dda565dbbd1d026131"
            ]
          }
        },
        "2498ce40f20546dc94e766ca4891ef4c": {
          "model_module": "@jupyter-widgets/base",
          "model_name": "LayoutModel",
          "model_module_version": "1.2.0",
          "state": {
            "_view_name": "LayoutView",
            "grid_template_rows": null,
            "right": null,
            "justify_content": null,
            "_view_module": "@jupyter-widgets/base",
            "overflow": null,
            "_model_module_version": "1.2.0",
            "_view_count": null,
            "flex_flow": null,
            "width": null,
            "min_width": null,
            "border": null,
            "align_items": null,
            "bottom": null,
            "_model_module": "@jupyter-widgets/base",
            "top": null,
            "grid_column": null,
            "overflow_y": null,
            "overflow_x": null,
            "grid_auto_flow": null,
            "grid_area": null,
            "grid_template_columns": null,
            "flex": null,
            "_model_name": "LayoutModel",
            "justify_items": null,
            "grid_row": null,
            "max_height": null,
            "align_content": null,
            "visibility": null,
            "align_self": null,
            "height": null,
            "min_height": null,
            "padding": null,
            "grid_auto_rows": null,
            "grid_gap": null,
            "max_width": null,
            "order": null,
            "_view_module_version": "1.2.0",
            "grid_template_areas": null,
            "object_position": null,
            "object_fit": null,
            "grid_auto_columns": null,
            "margin": null,
            "display": null,
            "left": null
          }
        },
        "7ab102ed02454c4ab1212e1d67ce2b90": {
          "model_module": "@jupyter-widgets/controls",
          "model_name": "HTMLModel",
          "model_module_version": "1.5.0",
          "state": {
            "_view_name": "HTMLView",
            "style": "IPY_MODEL_59d202ca8c9243d79ea3b55b98b9cb8a",
            "_dom_classes": [],
            "description": "",
            "_model_name": "HTMLModel",
            "placeholder": "​",
            "_view_module": "@jupyter-widgets/controls",
            "_model_module_version": "1.5.0",
            "value": "Downloading: 100%",
            "_view_count": null,
            "_view_module_version": "1.5.0",
            "description_tooltip": null,
            "_model_module": "@jupyter-widgets/controls",
            "layout": "IPY_MODEL_5be2637b1e77444ab272d3aca6200bee"
          }
        },
        "d86fbb1f3625481aa89c79fd4237d164": {
          "model_module": "@jupyter-widgets/controls",
          "model_name": "FloatProgressModel",
          "model_module_version": "1.5.0",
          "state": {
            "_view_name": "ProgressView",
            "style": "IPY_MODEL_f03b8a34af4b426e9df64ceee2d59b7a",
            "_dom_classes": [],
            "description": "",
            "_model_name": "FloatProgressModel",
            "bar_style": "success",
            "max": 122,
            "_view_module": "@jupyter-widgets/controls",
            "_model_module_version": "1.5.0",
            "value": 122,
            "_view_count": null,
            "_view_module_version": "1.5.0",
            "orientation": "horizontal",
            "min": 0,
            "description_tooltip": null,
            "_model_module": "@jupyter-widgets/controls",
            "layout": "IPY_MODEL_51a89301bd87418fa587be0fee71c0ee"
          }
        },
        "21c172a20f1044dda565dbbd1d026131": {
          "model_module": "@jupyter-widgets/controls",
          "model_name": "HTMLModel",
          "model_module_version": "1.5.0",
          "state": {
            "_view_name": "HTMLView",
            "style": "IPY_MODEL_e1b8672305ff412487ea23dd093c27f0",
            "_dom_classes": [],
            "description": "",
            "_model_name": "HTMLModel",
            "placeholder": "​",
            "_view_module": "@jupyter-widgets/controls",
            "_model_module_version": "1.5.0",
            "value": " 122/122 [00:00&lt;00:00, 2.32kB/s]",
            "_view_count": null,
            "_view_module_version": "1.5.0",
            "description_tooltip": null,
            "_model_module": "@jupyter-widgets/controls",
            "layout": "IPY_MODEL_da1ce989cde44ef28f72f2d7aacf0012"
          }
        },
        "59d202ca8c9243d79ea3b55b98b9cb8a": {
          "model_module": "@jupyter-widgets/controls",
          "model_name": "DescriptionStyleModel",
          "model_module_version": "1.5.0",
          "state": {
            "_view_name": "StyleView",
            "_model_name": "DescriptionStyleModel",
            "description_width": "",
            "_view_module": "@jupyter-widgets/base",
            "_model_module_version": "1.5.0",
            "_view_count": null,
            "_view_module_version": "1.2.0",
            "_model_module": "@jupyter-widgets/controls"
          }
        },
        "5be2637b1e77444ab272d3aca6200bee": {
          "model_module": "@jupyter-widgets/base",
          "model_name": "LayoutModel",
          "model_module_version": "1.2.0",
          "state": {
            "_view_name": "LayoutView",
            "grid_template_rows": null,
            "right": null,
            "justify_content": null,
            "_view_module": "@jupyter-widgets/base",
            "overflow": null,
            "_model_module_version": "1.2.0",
            "_view_count": null,
            "flex_flow": null,
            "width": null,
            "min_width": null,
            "border": null,
            "align_items": null,
            "bottom": null,
            "_model_module": "@jupyter-widgets/base",
            "top": null,
            "grid_column": null,
            "overflow_y": null,
            "overflow_x": null,
            "grid_auto_flow": null,
            "grid_area": null,
            "grid_template_columns": null,
            "flex": null,
            "_model_name": "LayoutModel",
            "justify_items": null,
            "grid_row": null,
            "max_height": null,
            "align_content": null,
            "visibility": null,
            "align_self": null,
            "height": null,
            "min_height": null,
            "padding": null,
            "grid_auto_rows": null,
            "grid_gap": null,
            "max_width": null,
            "order": null,
            "_view_module_version": "1.2.0",
            "grid_template_areas": null,
            "object_position": null,
            "object_fit": null,
            "grid_auto_columns": null,
            "margin": null,
            "display": null,
            "left": null
          }
        },
        "f03b8a34af4b426e9df64ceee2d59b7a": {
          "model_module": "@jupyter-widgets/controls",
          "model_name": "ProgressStyleModel",
          "model_module_version": "1.5.0",
          "state": {
            "_view_name": "StyleView",
            "_model_name": "ProgressStyleModel",
            "description_width": "",
            "_view_module": "@jupyter-widgets/base",
            "_model_module_version": "1.5.0",
            "_view_count": null,
            "_view_module_version": "1.2.0",
            "bar_color": null,
            "_model_module": "@jupyter-widgets/controls"
          }
        },
        "51a89301bd87418fa587be0fee71c0ee": {
          "model_module": "@jupyter-widgets/base",
          "model_name": "LayoutModel",
          "model_module_version": "1.2.0",
          "state": {
            "_view_name": "LayoutView",
            "grid_template_rows": null,
            "right": null,
            "justify_content": null,
            "_view_module": "@jupyter-widgets/base",
            "overflow": null,
            "_model_module_version": "1.2.0",
            "_view_count": null,
            "flex_flow": null,
            "width": null,
            "min_width": null,
            "border": null,
            "align_items": null,
            "bottom": null,
            "_model_module": "@jupyter-widgets/base",
            "top": null,
            "grid_column": null,
            "overflow_y": null,
            "overflow_x": null,
            "grid_auto_flow": null,
            "grid_area": null,
            "grid_template_columns": null,
            "flex": null,
            "_model_name": "LayoutModel",
            "justify_items": null,
            "grid_row": null,
            "max_height": null,
            "align_content": null,
            "visibility": null,
            "align_self": null,
            "height": null,
            "min_height": null,
            "padding": null,
            "grid_auto_rows": null,
            "grid_gap": null,
            "max_width": null,
            "order": null,
            "_view_module_version": "1.2.0",
            "grid_template_areas": null,
            "object_position": null,
            "object_fit": null,
            "grid_auto_columns": null,
            "margin": null,
            "display": null,
            "left": null
          }
        },
        "e1b8672305ff412487ea23dd093c27f0": {
          "model_module": "@jupyter-widgets/controls",
          "model_name": "DescriptionStyleModel",
          "model_module_version": "1.5.0",
          "state": {
            "_view_name": "StyleView",
            "_model_name": "DescriptionStyleModel",
            "description_width": "",
            "_view_module": "@jupyter-widgets/base",
            "_model_module_version": "1.5.0",
            "_view_count": null,
            "_view_module_version": "1.2.0",
            "_model_module": "@jupyter-widgets/controls"
          }
        },
        "da1ce989cde44ef28f72f2d7aacf0012": {
          "model_module": "@jupyter-widgets/base",
          "model_name": "LayoutModel",
          "model_module_version": "1.2.0",
          "state": {
            "_view_name": "LayoutView",
            "grid_template_rows": null,
            "right": null,
            "justify_content": null,
            "_view_module": "@jupyter-widgets/base",
            "overflow": null,
            "_model_module_version": "1.2.0",
            "_view_count": null,
            "flex_flow": null,
            "width": null,
            "min_width": null,
            "border": null,
            "align_items": null,
            "bottom": null,
            "_model_module": "@jupyter-widgets/base",
            "top": null,
            "grid_column": null,
            "overflow_y": null,
            "overflow_x": null,
            "grid_auto_flow": null,
            "grid_area": null,
            "grid_template_columns": null,
            "flex": null,
            "_model_name": "LayoutModel",
            "justify_items": null,
            "grid_row": null,
            "max_height": null,
            "align_content": null,
            "visibility": null,
            "align_self": null,
            "height": null,
            "min_height": null,
            "padding": null,
            "grid_auto_rows": null,
            "grid_gap": null,
            "max_width": null,
            "order": null,
            "_view_module_version": "1.2.0",
            "grid_template_areas": null,
            "object_position": null,
            "object_fit": null,
            "grid_auto_columns": null,
            "margin": null,
            "display": null,
            "left": null
          }
        },
        "d6f44d14d6ab47008fc1717eb6ba7f5f": {
          "model_module": "@jupyter-widgets/controls",
          "model_name": "HBoxModel",
          "model_module_version": "1.5.0",
          "state": {
            "_view_name": "HBoxView",
            "_dom_classes": [],
            "_model_name": "HBoxModel",
            "_view_module": "@jupyter-widgets/controls",
            "_model_module_version": "1.5.0",
            "_view_count": null,
            "_view_module_version": "1.5.0",
            "box_style": "",
            "layout": "IPY_MODEL_3d82a0d6865241e4be96f2f7c76aa2de",
            "_model_module": "@jupyter-widgets/controls",
            "children": [
              "IPY_MODEL_40896815a6fe4a23b0341fcc08e20895",
              "IPY_MODEL_0e2f63a1dc814200b37ddc26827e9c6b",
              "IPY_MODEL_15f722b8bb534e7faafbd5a3db592925"
            ]
          }
        },
        "3d82a0d6865241e4be96f2f7c76aa2de": {
          "model_module": "@jupyter-widgets/base",
          "model_name": "LayoutModel",
          "model_module_version": "1.2.0",
          "state": {
            "_view_name": "LayoutView",
            "grid_template_rows": null,
            "right": null,
            "justify_content": null,
            "_view_module": "@jupyter-widgets/base",
            "overflow": null,
            "_model_module_version": "1.2.0",
            "_view_count": null,
            "flex_flow": null,
            "width": null,
            "min_width": null,
            "border": null,
            "align_items": null,
            "bottom": null,
            "_model_module": "@jupyter-widgets/base",
            "top": null,
            "grid_column": null,
            "overflow_y": null,
            "overflow_x": null,
            "grid_auto_flow": null,
            "grid_area": null,
            "grid_template_columns": null,
            "flex": null,
            "_model_name": "LayoutModel",
            "justify_items": null,
            "grid_row": null,
            "max_height": null,
            "align_content": null,
            "visibility": null,
            "align_self": null,
            "height": null,
            "min_height": null,
            "padding": null,
            "grid_auto_rows": null,
            "grid_gap": null,
            "max_width": null,
            "order": null,
            "_view_module_version": "1.2.0",
            "grid_template_areas": null,
            "object_position": null,
            "object_fit": null,
            "grid_auto_columns": null,
            "margin": null,
            "display": null,
            "left": null
          }
        },
        "40896815a6fe4a23b0341fcc08e20895": {
          "model_module": "@jupyter-widgets/controls",
          "model_name": "HTMLModel",
          "model_module_version": "1.5.0",
          "state": {
            "_view_name": "HTMLView",
            "style": "IPY_MODEL_c4d09b69cc424bc1b519189b57b548fc",
            "_dom_classes": [],
            "description": "",
            "_model_name": "HTMLModel",
            "placeholder": "​",
            "_view_module": "@jupyter-widgets/controls",
            "_model_module_version": "1.5.0",
            "value": "Downloading: 100%",
            "_view_count": null,
            "_view_module_version": "1.5.0",
            "description_tooltip": null,
            "_model_module": "@jupyter-widgets/controls",
            "layout": "IPY_MODEL_3f9cedbdd6ff4508bd92c50a66106a9a"
          }
        },
        "0e2f63a1dc814200b37ddc26827e9c6b": {
          "model_module": "@jupyter-widgets/controls",
          "model_name": "FloatProgressModel",
          "model_module_version": "1.5.0",
          "state": {
            "_view_name": "ProgressView",
            "style": "IPY_MODEL_064357adf17a4ae18ab19dd6254d3f9c",
            "_dom_classes": [],
            "description": "",
            "_model_name": "FloatProgressModel",
            "bar_style": "success",
            "max": 229,
            "_view_module": "@jupyter-widgets/controls",
            "_model_module_version": "1.5.0",
            "value": 229,
            "_view_count": null,
            "_view_module_version": "1.5.0",
            "orientation": "horizontal",
            "min": 0,
            "description_tooltip": null,
            "_model_module": "@jupyter-widgets/controls",
            "layout": "IPY_MODEL_f66d3732db54439dae9470f0af26e66f"
          }
        },
        "15f722b8bb534e7faafbd5a3db592925": {
          "model_module": "@jupyter-widgets/controls",
          "model_name": "HTMLModel",
          "model_module_version": "1.5.0",
          "state": {
            "_view_name": "HTMLView",
            "style": "IPY_MODEL_166dbf3c9c70411684fed9ddf2fb206f",
            "_dom_classes": [],
            "description": "",
            "_model_name": "HTMLModel",
            "placeholder": "​",
            "_view_module": "@jupyter-widgets/controls",
            "_model_module_version": "1.5.0",
            "value": " 229/229 [00:00&lt;00:00, 5.07kB/s]",
            "_view_count": null,
            "_view_module_version": "1.5.0",
            "description_tooltip": null,
            "_model_module": "@jupyter-widgets/controls",
            "layout": "IPY_MODEL_5955102f584b4bce8235ad293dbba745"
          }
        },
        "c4d09b69cc424bc1b519189b57b548fc": {
          "model_module": "@jupyter-widgets/controls",
          "model_name": "DescriptionStyleModel",
          "model_module_version": "1.5.0",
          "state": {
            "_view_name": "StyleView",
            "_model_name": "DescriptionStyleModel",
            "description_width": "",
            "_view_module": "@jupyter-widgets/base",
            "_model_module_version": "1.5.0",
            "_view_count": null,
            "_view_module_version": "1.2.0",
            "_model_module": "@jupyter-widgets/controls"
          }
        },
        "3f9cedbdd6ff4508bd92c50a66106a9a": {
          "model_module": "@jupyter-widgets/base",
          "model_name": "LayoutModel",
          "model_module_version": "1.2.0",
          "state": {
            "_view_name": "LayoutView",
            "grid_template_rows": null,
            "right": null,
            "justify_content": null,
            "_view_module": "@jupyter-widgets/base",
            "overflow": null,
            "_model_module_version": "1.2.0",
            "_view_count": null,
            "flex_flow": null,
            "width": null,
            "min_width": null,
            "border": null,
            "align_items": null,
            "bottom": null,
            "_model_module": "@jupyter-widgets/base",
            "top": null,
            "grid_column": null,
            "overflow_y": null,
            "overflow_x": null,
            "grid_auto_flow": null,
            "grid_area": null,
            "grid_template_columns": null,
            "flex": null,
            "_model_name": "LayoutModel",
            "justify_items": null,
            "grid_row": null,
            "max_height": null,
            "align_content": null,
            "visibility": null,
            "align_self": null,
            "height": null,
            "min_height": null,
            "padding": null,
            "grid_auto_rows": null,
            "grid_gap": null,
            "max_width": null,
            "order": null,
            "_view_module_version": "1.2.0",
            "grid_template_areas": null,
            "object_position": null,
            "object_fit": null,
            "grid_auto_columns": null,
            "margin": null,
            "display": null,
            "left": null
          }
        },
        "064357adf17a4ae18ab19dd6254d3f9c": {
          "model_module": "@jupyter-widgets/controls",
          "model_name": "ProgressStyleModel",
          "model_module_version": "1.5.0",
          "state": {
            "_view_name": "StyleView",
            "_model_name": "ProgressStyleModel",
            "description_width": "",
            "_view_module": "@jupyter-widgets/base",
            "_model_module_version": "1.5.0",
            "_view_count": null,
            "_view_module_version": "1.2.0",
            "bar_color": null,
            "_model_module": "@jupyter-widgets/controls"
          }
        },
        "f66d3732db54439dae9470f0af26e66f": {
          "model_module": "@jupyter-widgets/base",
          "model_name": "LayoutModel",
          "model_module_version": "1.2.0",
          "state": {
            "_view_name": "LayoutView",
            "grid_template_rows": null,
            "right": null,
            "justify_content": null,
            "_view_module": "@jupyter-widgets/base",
            "overflow": null,
            "_model_module_version": "1.2.0",
            "_view_count": null,
            "flex_flow": null,
            "width": null,
            "min_width": null,
            "border": null,
            "align_items": null,
            "bottom": null,
            "_model_module": "@jupyter-widgets/base",
            "top": null,
            "grid_column": null,
            "overflow_y": null,
            "overflow_x": null,
            "grid_auto_flow": null,
            "grid_area": null,
            "grid_template_columns": null,
            "flex": null,
            "_model_name": "LayoutModel",
            "justify_items": null,
            "grid_row": null,
            "max_height": null,
            "align_content": null,
            "visibility": null,
            "align_self": null,
            "height": null,
            "min_height": null,
            "padding": null,
            "grid_auto_rows": null,
            "grid_gap": null,
            "max_width": null,
            "order": null,
            "_view_module_version": "1.2.0",
            "grid_template_areas": null,
            "object_position": null,
            "object_fit": null,
            "grid_auto_columns": null,
            "margin": null,
            "display": null,
            "left": null
          }
        },
        "166dbf3c9c70411684fed9ddf2fb206f": {
          "model_module": "@jupyter-widgets/controls",
          "model_name": "DescriptionStyleModel",
          "model_module_version": "1.5.0",
          "state": {
            "_view_name": "StyleView",
            "_model_name": "DescriptionStyleModel",
            "description_width": "",
            "_view_module": "@jupyter-widgets/base",
            "_model_module_version": "1.5.0",
            "_view_count": null,
            "_view_module_version": "1.2.0",
            "_model_module": "@jupyter-widgets/controls"
          }
        },
        "5955102f584b4bce8235ad293dbba745": {
          "model_module": "@jupyter-widgets/base",
          "model_name": "LayoutModel",
          "model_module_version": "1.2.0",
          "state": {
            "_view_name": "LayoutView",
            "grid_template_rows": null,
            "right": null,
            "justify_content": null,
            "_view_module": "@jupyter-widgets/base",
            "overflow": null,
            "_model_module_version": "1.2.0",
            "_view_count": null,
            "flex_flow": null,
            "width": null,
            "min_width": null,
            "border": null,
            "align_items": null,
            "bottom": null,
            "_model_module": "@jupyter-widgets/base",
            "top": null,
            "grid_column": null,
            "overflow_y": null,
            "overflow_x": null,
            "grid_auto_flow": null,
            "grid_area": null,
            "grid_template_columns": null,
            "flex": null,
            "_model_name": "LayoutModel",
            "justify_items": null,
            "grid_row": null,
            "max_height": null,
            "align_content": null,
            "visibility": null,
            "align_self": null,
            "height": null,
            "min_height": null,
            "padding": null,
            "grid_auto_rows": null,
            "grid_gap": null,
            "max_width": null,
            "order": null,
            "_view_module_version": "1.2.0",
            "grid_template_areas": null,
            "object_position": null,
            "object_fit": null,
            "grid_auto_columns": null,
            "margin": null,
            "display": null,
            "left": null
          }
        },
        "2ab90e243afe404f929730e4f53be02f": {
          "model_module": "@jupyter-widgets/controls",
          "model_name": "HBoxModel",
          "model_module_version": "1.5.0",
          "state": {
            "_view_name": "HBoxView",
            "_dom_classes": [],
            "_model_name": "HBoxModel",
            "_view_module": "@jupyter-widgets/controls",
            "_model_module_version": "1.5.0",
            "_view_count": null,
            "_view_module_version": "1.5.0",
            "box_style": "",
            "layout": "IPY_MODEL_93320a8bcae14075a6ebb960af8d2b83",
            "_model_module": "@jupyter-widgets/controls",
            "children": [
              "IPY_MODEL_6f91c362ead84081b9595eb64540ac94",
              "IPY_MODEL_e198509c8f5f4757a79cb8bbd74bee92",
              "IPY_MODEL_cdc40242804f415ab384c7fc9baba673"
            ]
          }
        },
        "93320a8bcae14075a6ebb960af8d2b83": {
          "model_module": "@jupyter-widgets/base",
          "model_name": "LayoutModel",
          "model_module_version": "1.2.0",
          "state": {
            "_view_name": "LayoutView",
            "grid_template_rows": null,
            "right": null,
            "justify_content": null,
            "_view_module": "@jupyter-widgets/base",
            "overflow": null,
            "_model_module_version": "1.2.0",
            "_view_count": null,
            "flex_flow": null,
            "width": null,
            "min_width": null,
            "border": null,
            "align_items": null,
            "bottom": null,
            "_model_module": "@jupyter-widgets/base",
            "top": null,
            "grid_column": null,
            "overflow_y": null,
            "overflow_x": null,
            "grid_auto_flow": null,
            "grid_area": null,
            "grid_template_columns": null,
            "flex": null,
            "_model_name": "LayoutModel",
            "justify_items": null,
            "grid_row": null,
            "max_height": null,
            "align_content": null,
            "visibility": null,
            "align_self": null,
            "height": null,
            "min_height": null,
            "padding": null,
            "grid_auto_rows": null,
            "grid_gap": null,
            "max_width": null,
            "order": null,
            "_view_module_version": "1.2.0",
            "grid_template_areas": null,
            "object_position": null,
            "object_fit": null,
            "grid_auto_columns": null,
            "margin": null,
            "display": null,
            "left": null
          }
        },
        "6f91c362ead84081b9595eb64540ac94": {
          "model_module": "@jupyter-widgets/controls",
          "model_name": "HTMLModel",
          "model_module_version": "1.5.0",
          "state": {
            "_view_name": "HTMLView",
            "style": "IPY_MODEL_eeced8c197a14a22a397503b83a3ac0a",
            "_dom_classes": [],
            "description": "",
            "_model_name": "HTMLModel",
            "placeholder": "​",
            "_view_module": "@jupyter-widgets/controls",
            "_model_module_version": "1.5.0",
            "value": "Downloading: 100%",
            "_view_count": null,
            "_view_module_version": "1.5.0",
            "description_tooltip": null,
            "_model_module": "@jupyter-widgets/controls",
            "layout": "IPY_MODEL_b1217dd5c27a46b78eb58ad897730b0d"
          }
        },
        "e198509c8f5f4757a79cb8bbd74bee92": {
          "model_module": "@jupyter-widgets/controls",
          "model_name": "FloatProgressModel",
          "model_module_version": "1.5.0",
          "state": {
            "_view_name": "ProgressView",
            "style": "IPY_MODEL_3c167bed3cf0486aa56b706ef808219a",
            "_dom_classes": [],
            "description": "",
            "_model_name": "FloatProgressModel",
            "bar_style": "success",
            "max": 438007537,
            "_view_module": "@jupyter-widgets/controls",
            "_model_module_version": "1.5.0",
            "value": 438007537,
            "_view_count": null,
            "_view_module_version": "1.5.0",
            "orientation": "horizontal",
            "min": 0,
            "description_tooltip": null,
            "_model_module": "@jupyter-widgets/controls",
            "layout": "IPY_MODEL_0a330e9c40c64377ad8efc44f330edf6"
          }
        },
        "cdc40242804f415ab384c7fc9baba673": {
          "model_module": "@jupyter-widgets/controls",
          "model_name": "HTMLModel",
          "model_module_version": "1.5.0",
          "state": {
            "_view_name": "HTMLView",
            "style": "IPY_MODEL_db8a7e3c9d0548d5a650882f13bd5417",
            "_dom_classes": [],
            "description": "",
            "_model_name": "HTMLModel",
            "placeholder": "​",
            "_view_module": "@jupyter-widgets/controls",
            "_model_module_version": "1.5.0",
            "value": " 438M/438M [00:15&lt;00:00, 26.0MB/s]",
            "_view_count": null,
            "_view_module_version": "1.5.0",
            "description_tooltip": null,
            "_model_module": "@jupyter-widgets/controls",
            "layout": "IPY_MODEL_00674c1fe0064f68969f4553611c9e5e"
          }
        },
        "eeced8c197a14a22a397503b83a3ac0a": {
          "model_module": "@jupyter-widgets/controls",
          "model_name": "DescriptionStyleModel",
          "model_module_version": "1.5.0",
          "state": {
            "_view_name": "StyleView",
            "_model_name": "DescriptionStyleModel",
            "description_width": "",
            "_view_module": "@jupyter-widgets/base",
            "_model_module_version": "1.5.0",
            "_view_count": null,
            "_view_module_version": "1.2.0",
            "_model_module": "@jupyter-widgets/controls"
          }
        },
        "b1217dd5c27a46b78eb58ad897730b0d": {
          "model_module": "@jupyter-widgets/base",
          "model_name": "LayoutModel",
          "model_module_version": "1.2.0",
          "state": {
            "_view_name": "LayoutView",
            "grid_template_rows": null,
            "right": null,
            "justify_content": null,
            "_view_module": "@jupyter-widgets/base",
            "overflow": null,
            "_model_module_version": "1.2.0",
            "_view_count": null,
            "flex_flow": null,
            "width": null,
            "min_width": null,
            "border": null,
            "align_items": null,
            "bottom": null,
            "_model_module": "@jupyter-widgets/base",
            "top": null,
            "grid_column": null,
            "overflow_y": null,
            "overflow_x": null,
            "grid_auto_flow": null,
            "grid_area": null,
            "grid_template_columns": null,
            "flex": null,
            "_model_name": "LayoutModel",
            "justify_items": null,
            "grid_row": null,
            "max_height": null,
            "align_content": null,
            "visibility": null,
            "align_self": null,
            "height": null,
            "min_height": null,
            "padding": null,
            "grid_auto_rows": null,
            "grid_gap": null,
            "max_width": null,
            "order": null,
            "_view_module_version": "1.2.0",
            "grid_template_areas": null,
            "object_position": null,
            "object_fit": null,
            "grid_auto_columns": null,
            "margin": null,
            "display": null,
            "left": null
          }
        },
        "3c167bed3cf0486aa56b706ef808219a": {
          "model_module": "@jupyter-widgets/controls",
          "model_name": "ProgressStyleModel",
          "model_module_version": "1.5.0",
          "state": {
            "_view_name": "StyleView",
            "_model_name": "ProgressStyleModel",
            "description_width": "",
            "_view_module": "@jupyter-widgets/base",
            "_model_module_version": "1.5.0",
            "_view_count": null,
            "_view_module_version": "1.2.0",
            "bar_color": null,
            "_model_module": "@jupyter-widgets/controls"
          }
        },
        "0a330e9c40c64377ad8efc44f330edf6": {
          "model_module": "@jupyter-widgets/base",
          "model_name": "LayoutModel",
          "model_module_version": "1.2.0",
          "state": {
            "_view_name": "LayoutView",
            "grid_template_rows": null,
            "right": null,
            "justify_content": null,
            "_view_module": "@jupyter-widgets/base",
            "overflow": null,
            "_model_module_version": "1.2.0",
            "_view_count": null,
            "flex_flow": null,
            "width": null,
            "min_width": null,
            "border": null,
            "align_items": null,
            "bottom": null,
            "_model_module": "@jupyter-widgets/base",
            "top": null,
            "grid_column": null,
            "overflow_y": null,
            "overflow_x": null,
            "grid_auto_flow": null,
            "grid_area": null,
            "grid_template_columns": null,
            "flex": null,
            "_model_name": "LayoutModel",
            "justify_items": null,
            "grid_row": null,
            "max_height": null,
            "align_content": null,
            "visibility": null,
            "align_self": null,
            "height": null,
            "min_height": null,
            "padding": null,
            "grid_auto_rows": null,
            "grid_gap": null,
            "max_width": null,
            "order": null,
            "_view_module_version": "1.2.0",
            "grid_template_areas": null,
            "object_position": null,
            "object_fit": null,
            "grid_auto_columns": null,
            "margin": null,
            "display": null,
            "left": null
          }
        },
        "db8a7e3c9d0548d5a650882f13bd5417": {
          "model_module": "@jupyter-widgets/controls",
          "model_name": "DescriptionStyleModel",
          "model_module_version": "1.5.0",
          "state": {
            "_view_name": "StyleView",
            "_model_name": "DescriptionStyleModel",
            "description_width": "",
            "_view_module": "@jupyter-widgets/base",
            "_model_module_version": "1.5.0",
            "_view_count": null,
            "_view_module_version": "1.2.0",
            "_model_module": "@jupyter-widgets/controls"
          }
        },
        "00674c1fe0064f68969f4553611c9e5e": {
          "model_module": "@jupyter-widgets/base",
          "model_name": "LayoutModel",
          "model_module_version": "1.2.0",
          "state": {
            "_view_name": "LayoutView",
            "grid_template_rows": null,
            "right": null,
            "justify_content": null,
            "_view_module": "@jupyter-widgets/base",
            "overflow": null,
            "_model_module_version": "1.2.0",
            "_view_count": null,
            "flex_flow": null,
            "width": null,
            "min_width": null,
            "border": null,
            "align_items": null,
            "bottom": null,
            "_model_module": "@jupyter-widgets/base",
            "top": null,
            "grid_column": null,
            "overflow_y": null,
            "overflow_x": null,
            "grid_auto_flow": null,
            "grid_area": null,
            "grid_template_columns": null,
            "flex": null,
            "_model_name": "LayoutModel",
            "justify_items": null,
            "grid_row": null,
            "max_height": null,
            "align_content": null,
            "visibility": null,
            "align_self": null,
            "height": null,
            "min_height": null,
            "padding": null,
            "grid_auto_rows": null,
            "grid_gap": null,
            "max_width": null,
            "order": null,
            "_view_module_version": "1.2.0",
            "grid_template_areas": null,
            "object_position": null,
            "object_fit": null,
            "grid_auto_columns": null,
            "margin": null,
            "display": null,
            "left": null
          }
        },
        "7ed07e55fa74455b89e1958edc2d7a92": {
          "model_module": "@jupyter-widgets/controls",
          "model_name": "HBoxModel",
          "model_module_version": "1.5.0",
          "state": {
            "_view_name": "HBoxView",
            "_dom_classes": [],
            "_model_name": "HBoxModel",
            "_view_module": "@jupyter-widgets/controls",
            "_model_module_version": "1.5.0",
            "_view_count": null,
            "_view_module_version": "1.5.0",
            "box_style": "",
            "layout": "IPY_MODEL_782cd79a079c4799bb304d371c8b4a34",
            "_model_module": "@jupyter-widgets/controls",
            "children": [
              "IPY_MODEL_4db08b16416f4f1882fdb815d8daaae6",
              "IPY_MODEL_67b51399e1a04c0497af7a7b4d1c4d60",
              "IPY_MODEL_2a146b4d40e5486e94541510882cfdd6"
            ]
          }
        },
        "782cd79a079c4799bb304d371c8b4a34": {
          "model_module": "@jupyter-widgets/base",
          "model_name": "LayoutModel",
          "model_module_version": "1.2.0",
          "state": {
            "_view_name": "LayoutView",
            "grid_template_rows": null,
            "right": null,
            "justify_content": null,
            "_view_module": "@jupyter-widgets/base",
            "overflow": null,
            "_model_module_version": "1.2.0",
            "_view_count": null,
            "flex_flow": null,
            "width": null,
            "min_width": null,
            "border": null,
            "align_items": null,
            "bottom": null,
            "_model_module": "@jupyter-widgets/base",
            "top": null,
            "grid_column": null,
            "overflow_y": null,
            "overflow_x": null,
            "grid_auto_flow": null,
            "grid_area": null,
            "grid_template_columns": null,
            "flex": null,
            "_model_name": "LayoutModel",
            "justify_items": null,
            "grid_row": null,
            "max_height": null,
            "align_content": null,
            "visibility": null,
            "align_self": null,
            "height": null,
            "min_height": null,
            "padding": null,
            "grid_auto_rows": null,
            "grid_gap": null,
            "max_width": null,
            "order": null,
            "_view_module_version": "1.2.0",
            "grid_template_areas": null,
            "object_position": null,
            "object_fit": null,
            "grid_auto_columns": null,
            "margin": null,
            "display": null,
            "left": null
          }
        },
        "4db08b16416f4f1882fdb815d8daaae6": {
          "model_module": "@jupyter-widgets/controls",
          "model_name": "HTMLModel",
          "model_module_version": "1.5.0",
          "state": {
            "_view_name": "HTMLView",
            "style": "IPY_MODEL_b351fb1416dc40539515563e42194569",
            "_dom_classes": [],
            "description": "",
            "_model_name": "HTMLModel",
            "placeholder": "​",
            "_view_module": "@jupyter-widgets/controls",
            "_model_module_version": "1.5.0",
            "value": "Downloading: 100%",
            "_view_count": null,
            "_view_module_version": "1.5.0",
            "description_tooltip": null,
            "_model_module": "@jupyter-widgets/controls",
            "layout": "IPY_MODEL_9d41a5971aef4343a89afcff606cf4b1"
          }
        },
        "67b51399e1a04c0497af7a7b4d1c4d60": {
          "model_module": "@jupyter-widgets/controls",
          "model_name": "FloatProgressModel",
          "model_module_version": "1.5.0",
          "state": {
            "_view_name": "ProgressView",
            "style": "IPY_MODEL_588bff708b6d4f1fa2e75b965602343a",
            "_dom_classes": [],
            "description": "",
            "_model_name": "FloatProgressModel",
            "bar_style": "success",
            "max": 53,
            "_view_module": "@jupyter-widgets/controls",
            "_model_module_version": "1.5.0",
            "value": 53,
            "_view_count": null,
            "_view_module_version": "1.5.0",
            "orientation": "horizontal",
            "min": 0,
            "description_tooltip": null,
            "_model_module": "@jupyter-widgets/controls",
            "layout": "IPY_MODEL_25debf63b15a4c9593b1481563f7263b"
          }
        },
        "2a146b4d40e5486e94541510882cfdd6": {
          "model_module": "@jupyter-widgets/controls",
          "model_name": "HTMLModel",
          "model_module_version": "1.5.0",
          "state": {
            "_view_name": "HTMLView",
            "style": "IPY_MODEL_fd5cb942b184403990476e1713d0eff0",
            "_dom_classes": [],
            "description": "",
            "_model_name": "HTMLModel",
            "placeholder": "​",
            "_view_module": "@jupyter-widgets/controls",
            "_model_module_version": "1.5.0",
            "value": " 53.0/53.0 [00:00&lt;00:00, 1.21kB/s]",
            "_view_count": null,
            "_view_module_version": "1.5.0",
            "description_tooltip": null,
            "_model_module": "@jupyter-widgets/controls",
            "layout": "IPY_MODEL_d8ab68b8fb1741eab364c47308f5a9c3"
          }
        },
        "b351fb1416dc40539515563e42194569": {
          "model_module": "@jupyter-widgets/controls",
          "model_name": "DescriptionStyleModel",
          "model_module_version": "1.5.0",
          "state": {
            "_view_name": "StyleView",
            "_model_name": "DescriptionStyleModel",
            "description_width": "",
            "_view_module": "@jupyter-widgets/base",
            "_model_module_version": "1.5.0",
            "_view_count": null,
            "_view_module_version": "1.2.0",
            "_model_module": "@jupyter-widgets/controls"
          }
        },
        "9d41a5971aef4343a89afcff606cf4b1": {
          "model_module": "@jupyter-widgets/base",
          "model_name": "LayoutModel",
          "model_module_version": "1.2.0",
          "state": {
            "_view_name": "LayoutView",
            "grid_template_rows": null,
            "right": null,
            "justify_content": null,
            "_view_module": "@jupyter-widgets/base",
            "overflow": null,
            "_model_module_version": "1.2.0",
            "_view_count": null,
            "flex_flow": null,
            "width": null,
            "min_width": null,
            "border": null,
            "align_items": null,
            "bottom": null,
            "_model_module": "@jupyter-widgets/base",
            "top": null,
            "grid_column": null,
            "overflow_y": null,
            "overflow_x": null,
            "grid_auto_flow": null,
            "grid_area": null,
            "grid_template_columns": null,
            "flex": null,
            "_model_name": "LayoutModel",
            "justify_items": null,
            "grid_row": null,
            "max_height": null,
            "align_content": null,
            "visibility": null,
            "align_self": null,
            "height": null,
            "min_height": null,
            "padding": null,
            "grid_auto_rows": null,
            "grid_gap": null,
            "max_width": null,
            "order": null,
            "_view_module_version": "1.2.0",
            "grid_template_areas": null,
            "object_position": null,
            "object_fit": null,
            "grid_auto_columns": null,
            "margin": null,
            "display": null,
            "left": null
          }
        },
        "588bff708b6d4f1fa2e75b965602343a": {
          "model_module": "@jupyter-widgets/controls",
          "model_name": "ProgressStyleModel",
          "model_module_version": "1.5.0",
          "state": {
            "_view_name": "StyleView",
            "_model_name": "ProgressStyleModel",
            "description_width": "",
            "_view_module": "@jupyter-widgets/base",
            "_model_module_version": "1.5.0",
            "_view_count": null,
            "_view_module_version": "1.2.0",
            "bar_color": null,
            "_model_module": "@jupyter-widgets/controls"
          }
        },
        "25debf63b15a4c9593b1481563f7263b": {
          "model_module": "@jupyter-widgets/base",
          "model_name": "LayoutModel",
          "model_module_version": "1.2.0",
          "state": {
            "_view_name": "LayoutView",
            "grid_template_rows": null,
            "right": null,
            "justify_content": null,
            "_view_module": "@jupyter-widgets/base",
            "overflow": null,
            "_model_module_version": "1.2.0",
            "_view_count": null,
            "flex_flow": null,
            "width": null,
            "min_width": null,
            "border": null,
            "align_items": null,
            "bottom": null,
            "_model_module": "@jupyter-widgets/base",
            "top": null,
            "grid_column": null,
            "overflow_y": null,
            "overflow_x": null,
            "grid_auto_flow": null,
            "grid_area": null,
            "grid_template_columns": null,
            "flex": null,
            "_model_name": "LayoutModel",
            "justify_items": null,
            "grid_row": null,
            "max_height": null,
            "align_content": null,
            "visibility": null,
            "align_self": null,
            "height": null,
            "min_height": null,
            "padding": null,
            "grid_auto_rows": null,
            "grid_gap": null,
            "max_width": null,
            "order": null,
            "_view_module_version": "1.2.0",
            "grid_template_areas": null,
            "object_position": null,
            "object_fit": null,
            "grid_auto_columns": null,
            "margin": null,
            "display": null,
            "left": null
          }
        },
        "fd5cb942b184403990476e1713d0eff0": {
          "model_module": "@jupyter-widgets/controls",
          "model_name": "DescriptionStyleModel",
          "model_module_version": "1.5.0",
          "state": {
            "_view_name": "StyleView",
            "_model_name": "DescriptionStyleModel",
            "description_width": "",
            "_view_module": "@jupyter-widgets/base",
            "_model_module_version": "1.5.0",
            "_view_count": null,
            "_view_module_version": "1.2.0",
            "_model_module": "@jupyter-widgets/controls"
          }
        },
        "d8ab68b8fb1741eab364c47308f5a9c3": {
          "model_module": "@jupyter-widgets/base",
          "model_name": "LayoutModel",
          "model_module_version": "1.2.0",
          "state": {
            "_view_name": "LayoutView",
            "grid_template_rows": null,
            "right": null,
            "justify_content": null,
            "_view_module": "@jupyter-widgets/base",
            "overflow": null,
            "_model_module_version": "1.2.0",
            "_view_count": null,
            "flex_flow": null,
            "width": null,
            "min_width": null,
            "border": null,
            "align_items": null,
            "bottom": null,
            "_model_module": "@jupyter-widgets/base",
            "top": null,
            "grid_column": null,
            "overflow_y": null,
            "overflow_x": null,
            "grid_auto_flow": null,
            "grid_area": null,
            "grid_template_columns": null,
            "flex": null,
            "_model_name": "LayoutModel",
            "justify_items": null,
            "grid_row": null,
            "max_height": null,
            "align_content": null,
            "visibility": null,
            "align_self": null,
            "height": null,
            "min_height": null,
            "padding": null,
            "grid_auto_rows": null,
            "grid_gap": null,
            "max_width": null,
            "order": null,
            "_view_module_version": "1.2.0",
            "grid_template_areas": null,
            "object_position": null,
            "object_fit": null,
            "grid_auto_columns": null,
            "margin": null,
            "display": null,
            "left": null
          }
        },
        "8bd6e40be1a443d187f1d07d9e19e81b": {
          "model_module": "@jupyter-widgets/controls",
          "model_name": "HBoxModel",
          "model_module_version": "1.5.0",
          "state": {
            "_view_name": "HBoxView",
            "_dom_classes": [],
            "_model_name": "HBoxModel",
            "_view_module": "@jupyter-widgets/controls",
            "_model_module_version": "1.5.0",
            "_view_count": null,
            "_view_module_version": "1.5.0",
            "box_style": "",
            "layout": "IPY_MODEL_1a382e1f6462432fa26721dd701c8d29",
            "_model_module": "@jupyter-widgets/controls",
            "children": [
              "IPY_MODEL_c3b7b74a9d6e48c8b7bd0ed8adb071e0",
              "IPY_MODEL_34d3f136ac684df18f2ef3240af485b1",
              "IPY_MODEL_5ab979687a2d4d8eb170f9e4ea68430e"
            ]
          }
        },
        "1a382e1f6462432fa26721dd701c8d29": {
          "model_module": "@jupyter-widgets/base",
          "model_name": "LayoutModel",
          "model_module_version": "1.2.0",
          "state": {
            "_view_name": "LayoutView",
            "grid_template_rows": null,
            "right": null,
            "justify_content": null,
            "_view_module": "@jupyter-widgets/base",
            "overflow": null,
            "_model_module_version": "1.2.0",
            "_view_count": null,
            "flex_flow": null,
            "width": null,
            "min_width": null,
            "border": null,
            "align_items": null,
            "bottom": null,
            "_model_module": "@jupyter-widgets/base",
            "top": null,
            "grid_column": null,
            "overflow_y": null,
            "overflow_x": null,
            "grid_auto_flow": null,
            "grid_area": null,
            "grid_template_columns": null,
            "flex": null,
            "_model_name": "LayoutModel",
            "justify_items": null,
            "grid_row": null,
            "max_height": null,
            "align_content": null,
            "visibility": null,
            "align_self": null,
            "height": null,
            "min_height": null,
            "padding": null,
            "grid_auto_rows": null,
            "grid_gap": null,
            "max_width": null,
            "order": null,
            "_view_module_version": "1.2.0",
            "grid_template_areas": null,
            "object_position": null,
            "object_fit": null,
            "grid_auto_columns": null,
            "margin": null,
            "display": null,
            "left": null
          }
        },
        "c3b7b74a9d6e48c8b7bd0ed8adb071e0": {
          "model_module": "@jupyter-widgets/controls",
          "model_name": "HTMLModel",
          "model_module_version": "1.5.0",
          "state": {
            "_view_name": "HTMLView",
            "style": "IPY_MODEL_27220de8776544bf82fd27ed8e79f8b1",
            "_dom_classes": [],
            "description": "",
            "_model_name": "HTMLModel",
            "placeholder": "​",
            "_view_module": "@jupyter-widgets/controls",
            "_model_module_version": "1.5.0",
            "value": "Downloading: 100%",
            "_view_count": null,
            "_view_module_version": "1.5.0",
            "description_tooltip": null,
            "_model_module": "@jupyter-widgets/controls",
            "layout": "IPY_MODEL_cb2a522b450742f98daa130b17d118a3"
          }
        },
        "34d3f136ac684df18f2ef3240af485b1": {
          "model_module": "@jupyter-widgets/controls",
          "model_name": "FloatProgressModel",
          "model_module_version": "1.5.0",
          "state": {
            "_view_name": "ProgressView",
            "style": "IPY_MODEL_d8b3828ba5a14bdcbeed5ec2aec968cb",
            "_dom_classes": [],
            "description": "",
            "_model_name": "FloatProgressModel",
            "bar_style": "success",
            "max": 112,
            "_view_module": "@jupyter-widgets/controls",
            "_model_module_version": "1.5.0",
            "value": 112,
            "_view_count": null,
            "_view_module_version": "1.5.0",
            "orientation": "horizontal",
            "min": 0,
            "description_tooltip": null,
            "_model_module": "@jupyter-widgets/controls",
            "layout": "IPY_MODEL_dad738e5663145ac8ec70f0dda15d093"
          }
        },
        "5ab979687a2d4d8eb170f9e4ea68430e": {
          "model_module": "@jupyter-widgets/controls",
          "model_name": "HTMLModel",
          "model_module_version": "1.5.0",
          "state": {
            "_view_name": "HTMLView",
            "style": "IPY_MODEL_b2759632305045b392c321cd19b686ae",
            "_dom_classes": [],
            "description": "",
            "_model_name": "HTMLModel",
            "placeholder": "​",
            "_view_module": "@jupyter-widgets/controls",
            "_model_module_version": "1.5.0",
            "value": " 112/112 [00:00&lt;00:00, 2.62kB/s]",
            "_view_count": null,
            "_view_module_version": "1.5.0",
            "description_tooltip": null,
            "_model_module": "@jupyter-widgets/controls",
            "layout": "IPY_MODEL_83a22675fa134767bd75013079c4f214"
          }
        },
        "27220de8776544bf82fd27ed8e79f8b1": {
          "model_module": "@jupyter-widgets/controls",
          "model_name": "DescriptionStyleModel",
          "model_module_version": "1.5.0",
          "state": {
            "_view_name": "StyleView",
            "_model_name": "DescriptionStyleModel",
            "description_width": "",
            "_view_module": "@jupyter-widgets/base",
            "_model_module_version": "1.5.0",
            "_view_count": null,
            "_view_module_version": "1.2.0",
            "_model_module": "@jupyter-widgets/controls"
          }
        },
        "cb2a522b450742f98daa130b17d118a3": {
          "model_module": "@jupyter-widgets/base",
          "model_name": "LayoutModel",
          "model_module_version": "1.2.0",
          "state": {
            "_view_name": "LayoutView",
            "grid_template_rows": null,
            "right": null,
            "justify_content": null,
            "_view_module": "@jupyter-widgets/base",
            "overflow": null,
            "_model_module_version": "1.2.0",
            "_view_count": null,
            "flex_flow": null,
            "width": null,
            "min_width": null,
            "border": null,
            "align_items": null,
            "bottom": null,
            "_model_module": "@jupyter-widgets/base",
            "top": null,
            "grid_column": null,
            "overflow_y": null,
            "overflow_x": null,
            "grid_auto_flow": null,
            "grid_area": null,
            "grid_template_columns": null,
            "flex": null,
            "_model_name": "LayoutModel",
            "justify_items": null,
            "grid_row": null,
            "max_height": null,
            "align_content": null,
            "visibility": null,
            "align_self": null,
            "height": null,
            "min_height": null,
            "padding": null,
            "grid_auto_rows": null,
            "grid_gap": null,
            "max_width": null,
            "order": null,
            "_view_module_version": "1.2.0",
            "grid_template_areas": null,
            "object_position": null,
            "object_fit": null,
            "grid_auto_columns": null,
            "margin": null,
            "display": null,
            "left": null
          }
        },
        "d8b3828ba5a14bdcbeed5ec2aec968cb": {
          "model_module": "@jupyter-widgets/controls",
          "model_name": "ProgressStyleModel",
          "model_module_version": "1.5.0",
          "state": {
            "_view_name": "StyleView",
            "_model_name": "ProgressStyleModel",
            "description_width": "",
            "_view_module": "@jupyter-widgets/base",
            "_model_module_version": "1.5.0",
            "_view_count": null,
            "_view_module_version": "1.2.0",
            "bar_color": null,
            "_model_module": "@jupyter-widgets/controls"
          }
        },
        "dad738e5663145ac8ec70f0dda15d093": {
          "model_module": "@jupyter-widgets/base",
          "model_name": "LayoutModel",
          "model_module_version": "1.2.0",
          "state": {
            "_view_name": "LayoutView",
            "grid_template_rows": null,
            "right": null,
            "justify_content": null,
            "_view_module": "@jupyter-widgets/base",
            "overflow": null,
            "_model_module_version": "1.2.0",
            "_view_count": null,
            "flex_flow": null,
            "width": null,
            "min_width": null,
            "border": null,
            "align_items": null,
            "bottom": null,
            "_model_module": "@jupyter-widgets/base",
            "top": null,
            "grid_column": null,
            "overflow_y": null,
            "overflow_x": null,
            "grid_auto_flow": null,
            "grid_area": null,
            "grid_template_columns": null,
            "flex": null,
            "_model_name": "LayoutModel",
            "justify_items": null,
            "grid_row": null,
            "max_height": null,
            "align_content": null,
            "visibility": null,
            "align_self": null,
            "height": null,
            "min_height": null,
            "padding": null,
            "grid_auto_rows": null,
            "grid_gap": null,
            "max_width": null,
            "order": null,
            "_view_module_version": "1.2.0",
            "grid_template_areas": null,
            "object_position": null,
            "object_fit": null,
            "grid_auto_columns": null,
            "margin": null,
            "display": null,
            "left": null
          }
        },
        "b2759632305045b392c321cd19b686ae": {
          "model_module": "@jupyter-widgets/controls",
          "model_name": "DescriptionStyleModel",
          "model_module_version": "1.5.0",
          "state": {
            "_view_name": "StyleView",
            "_model_name": "DescriptionStyleModel",
            "description_width": "",
            "_view_module": "@jupyter-widgets/base",
            "_model_module_version": "1.5.0",
            "_view_count": null,
            "_view_module_version": "1.2.0",
            "_model_module": "@jupyter-widgets/controls"
          }
        },
        "83a22675fa134767bd75013079c4f214": {
          "model_module": "@jupyter-widgets/base",
          "model_name": "LayoutModel",
          "model_module_version": "1.2.0",
          "state": {
            "_view_name": "LayoutView",
            "grid_template_rows": null,
            "right": null,
            "justify_content": null,
            "_view_module": "@jupyter-widgets/base",
            "overflow": null,
            "_model_module_version": "1.2.0",
            "_view_count": null,
            "flex_flow": null,
            "width": null,
            "min_width": null,
            "border": null,
            "align_items": null,
            "bottom": null,
            "_model_module": "@jupyter-widgets/base",
            "top": null,
            "grid_column": null,
            "overflow_y": null,
            "overflow_x": null,
            "grid_auto_flow": null,
            "grid_area": null,
            "grid_template_columns": null,
            "flex": null,
            "_model_name": "LayoutModel",
            "justify_items": null,
            "grid_row": null,
            "max_height": null,
            "align_content": null,
            "visibility": null,
            "align_self": null,
            "height": null,
            "min_height": null,
            "padding": null,
            "grid_auto_rows": null,
            "grid_gap": null,
            "max_width": null,
            "order": null,
            "_view_module_version": "1.2.0",
            "grid_template_areas": null,
            "object_position": null,
            "object_fit": null,
            "grid_auto_columns": null,
            "margin": null,
            "display": null,
            "left": null
          }
        },
        "8241c860d8d74c48be35fca15b38e88c": {
          "model_module": "@jupyter-widgets/controls",
          "model_name": "HBoxModel",
          "model_module_version": "1.5.0",
          "state": {
            "_view_name": "HBoxView",
            "_dom_classes": [],
            "_model_name": "HBoxModel",
            "_view_module": "@jupyter-widgets/controls",
            "_model_module_version": "1.5.0",
            "_view_count": null,
            "_view_module_version": "1.5.0",
            "box_style": "",
            "layout": "IPY_MODEL_4d38d6dc0cc84d47a94263d40719eee9",
            "_model_module": "@jupyter-widgets/controls",
            "children": [
              "IPY_MODEL_8719198571884d9094f6e7db5a548ec4",
              "IPY_MODEL_a9aca72f84194d578fb6c4055502de10",
              "IPY_MODEL_9707918a8017456d842ec711c8a0d63a"
            ]
          }
        },
        "4d38d6dc0cc84d47a94263d40719eee9": {
          "model_module": "@jupyter-widgets/base",
          "model_name": "LayoutModel",
          "model_module_version": "1.2.0",
          "state": {
            "_view_name": "LayoutView",
            "grid_template_rows": null,
            "right": null,
            "justify_content": null,
            "_view_module": "@jupyter-widgets/base",
            "overflow": null,
            "_model_module_version": "1.2.0",
            "_view_count": null,
            "flex_flow": null,
            "width": null,
            "min_width": null,
            "border": null,
            "align_items": null,
            "bottom": null,
            "_model_module": "@jupyter-widgets/base",
            "top": null,
            "grid_column": null,
            "overflow_y": null,
            "overflow_x": null,
            "grid_auto_flow": null,
            "grid_area": null,
            "grid_template_columns": null,
            "flex": null,
            "_model_name": "LayoutModel",
            "justify_items": null,
            "grid_row": null,
            "max_height": null,
            "align_content": null,
            "visibility": null,
            "align_self": null,
            "height": null,
            "min_height": null,
            "padding": null,
            "grid_auto_rows": null,
            "grid_gap": null,
            "max_width": null,
            "order": null,
            "_view_module_version": "1.2.0",
            "grid_template_areas": null,
            "object_position": null,
            "object_fit": null,
            "grid_auto_columns": null,
            "margin": null,
            "display": null,
            "left": null
          }
        },
        "8719198571884d9094f6e7db5a548ec4": {
          "model_module": "@jupyter-widgets/controls",
          "model_name": "HTMLModel",
          "model_module_version": "1.5.0",
          "state": {
            "_view_name": "HTMLView",
            "style": "IPY_MODEL_dc27d0cc76894f06bf5acf34898d7749",
            "_dom_classes": [],
            "description": "",
            "_model_name": "HTMLModel",
            "placeholder": "​",
            "_view_module": "@jupyter-widgets/controls",
            "_model_module_version": "1.5.0",
            "value": "Downloading: 100%",
            "_view_count": null,
            "_view_module_version": "1.5.0",
            "description_tooltip": null,
            "_model_module": "@jupyter-widgets/controls",
            "layout": "IPY_MODEL_91d2c13fc9c746b08b1d11120a244156"
          }
        },
        "a9aca72f84194d578fb6c4055502de10": {
          "model_module": "@jupyter-widgets/controls",
          "model_name": "FloatProgressModel",
          "model_module_version": "1.5.0",
          "state": {
            "_view_name": "ProgressView",
            "style": "IPY_MODEL_6e33051b04e0418e9f3652ab7c23450a",
            "_dom_classes": [],
            "description": "",
            "_model_name": "FloatProgressModel",
            "bar_style": "success",
            "max": 466081,
            "_view_module": "@jupyter-widgets/controls",
            "_model_module_version": "1.5.0",
            "value": 466081,
            "_view_count": null,
            "_view_module_version": "1.5.0",
            "orientation": "horizontal",
            "min": 0,
            "description_tooltip": null,
            "_model_module": "@jupyter-widgets/controls",
            "layout": "IPY_MODEL_5c4f2e00115341b48ba5f5e30c701de9"
          }
        },
        "9707918a8017456d842ec711c8a0d63a": {
          "model_module": "@jupyter-widgets/controls",
          "model_name": "HTMLModel",
          "model_module_version": "1.5.0",
          "state": {
            "_view_name": "HTMLView",
            "style": "IPY_MODEL_a532bd54cc1e4a168547540b0433f0ba",
            "_dom_classes": [],
            "description": "",
            "_model_name": "HTMLModel",
            "placeholder": "​",
            "_view_module": "@jupyter-widgets/controls",
            "_model_module_version": "1.5.0",
            "value": " 466k/466k [00:00&lt;00:00, 606kB/s]",
            "_view_count": null,
            "_view_module_version": "1.5.0",
            "description_tooltip": null,
            "_model_module": "@jupyter-widgets/controls",
            "layout": "IPY_MODEL_a834b4ff91de4a4ea7011cb0ead1a16e"
          }
        },
        "dc27d0cc76894f06bf5acf34898d7749": {
          "model_module": "@jupyter-widgets/controls",
          "model_name": "DescriptionStyleModel",
          "model_module_version": "1.5.0",
          "state": {
            "_view_name": "StyleView",
            "_model_name": "DescriptionStyleModel",
            "description_width": "",
            "_view_module": "@jupyter-widgets/base",
            "_model_module_version": "1.5.0",
            "_view_count": null,
            "_view_module_version": "1.2.0",
            "_model_module": "@jupyter-widgets/controls"
          }
        },
        "91d2c13fc9c746b08b1d11120a244156": {
          "model_module": "@jupyter-widgets/base",
          "model_name": "LayoutModel",
          "model_module_version": "1.2.0",
          "state": {
            "_view_name": "LayoutView",
            "grid_template_rows": null,
            "right": null,
            "justify_content": null,
            "_view_module": "@jupyter-widgets/base",
            "overflow": null,
            "_model_module_version": "1.2.0",
            "_view_count": null,
            "flex_flow": null,
            "width": null,
            "min_width": null,
            "border": null,
            "align_items": null,
            "bottom": null,
            "_model_module": "@jupyter-widgets/base",
            "top": null,
            "grid_column": null,
            "overflow_y": null,
            "overflow_x": null,
            "grid_auto_flow": null,
            "grid_area": null,
            "grid_template_columns": null,
            "flex": null,
            "_model_name": "LayoutModel",
            "justify_items": null,
            "grid_row": null,
            "max_height": null,
            "align_content": null,
            "visibility": null,
            "align_self": null,
            "height": null,
            "min_height": null,
            "padding": null,
            "grid_auto_rows": null,
            "grid_gap": null,
            "max_width": null,
            "order": null,
            "_view_module_version": "1.2.0",
            "grid_template_areas": null,
            "object_position": null,
            "object_fit": null,
            "grid_auto_columns": null,
            "margin": null,
            "display": null,
            "left": null
          }
        },
        "6e33051b04e0418e9f3652ab7c23450a": {
          "model_module": "@jupyter-widgets/controls",
          "model_name": "ProgressStyleModel",
          "model_module_version": "1.5.0",
          "state": {
            "_view_name": "StyleView",
            "_model_name": "ProgressStyleModel",
            "description_width": "",
            "_view_module": "@jupyter-widgets/base",
            "_model_module_version": "1.5.0",
            "_view_count": null,
            "_view_module_version": "1.2.0",
            "bar_color": null,
            "_model_module": "@jupyter-widgets/controls"
          }
        },
        "5c4f2e00115341b48ba5f5e30c701de9": {
          "model_module": "@jupyter-widgets/base",
          "model_name": "LayoutModel",
          "model_module_version": "1.2.0",
          "state": {
            "_view_name": "LayoutView",
            "grid_template_rows": null,
            "right": null,
            "justify_content": null,
            "_view_module": "@jupyter-widgets/base",
            "overflow": null,
            "_model_module_version": "1.2.0",
            "_view_count": null,
            "flex_flow": null,
            "width": null,
            "min_width": null,
            "border": null,
            "align_items": null,
            "bottom": null,
            "_model_module": "@jupyter-widgets/base",
            "top": null,
            "grid_column": null,
            "overflow_y": null,
            "overflow_x": null,
            "grid_auto_flow": null,
            "grid_area": null,
            "grid_template_columns": null,
            "flex": null,
            "_model_name": "LayoutModel",
            "justify_items": null,
            "grid_row": null,
            "max_height": null,
            "align_content": null,
            "visibility": null,
            "align_self": null,
            "height": null,
            "min_height": null,
            "padding": null,
            "grid_auto_rows": null,
            "grid_gap": null,
            "max_width": null,
            "order": null,
            "_view_module_version": "1.2.0",
            "grid_template_areas": null,
            "object_position": null,
            "object_fit": null,
            "grid_auto_columns": null,
            "margin": null,
            "display": null,
            "left": null
          }
        },
        "a532bd54cc1e4a168547540b0433f0ba": {
          "model_module": "@jupyter-widgets/controls",
          "model_name": "DescriptionStyleModel",
          "model_module_version": "1.5.0",
          "state": {
            "_view_name": "StyleView",
            "_model_name": "DescriptionStyleModel",
            "description_width": "",
            "_view_module": "@jupyter-widgets/base",
            "_model_module_version": "1.5.0",
            "_view_count": null,
            "_view_module_version": "1.2.0",
            "_model_module": "@jupyter-widgets/controls"
          }
        },
        "a834b4ff91de4a4ea7011cb0ead1a16e": {
          "model_module": "@jupyter-widgets/base",
          "model_name": "LayoutModel",
          "model_module_version": "1.2.0",
          "state": {
            "_view_name": "LayoutView",
            "grid_template_rows": null,
            "right": null,
            "justify_content": null,
            "_view_module": "@jupyter-widgets/base",
            "overflow": null,
            "_model_module_version": "1.2.0",
            "_view_count": null,
            "flex_flow": null,
            "width": null,
            "min_width": null,
            "border": null,
            "align_items": null,
            "bottom": null,
            "_model_module": "@jupyter-widgets/base",
            "top": null,
            "grid_column": null,
            "overflow_y": null,
            "overflow_x": null,
            "grid_auto_flow": null,
            "grid_area": null,
            "grid_template_columns": null,
            "flex": null,
            "_model_name": "LayoutModel",
            "justify_items": null,
            "grid_row": null,
            "max_height": null,
            "align_content": null,
            "visibility": null,
            "align_self": null,
            "height": null,
            "min_height": null,
            "padding": null,
            "grid_auto_rows": null,
            "grid_gap": null,
            "max_width": null,
            "order": null,
            "_view_module_version": "1.2.0",
            "grid_template_areas": null,
            "object_position": null,
            "object_fit": null,
            "grid_auto_columns": null,
            "margin": null,
            "display": null,
            "left": null
          }
        },
        "232d63f26297480d81a36874aacd6c90": {
          "model_module": "@jupyter-widgets/controls",
          "model_name": "HBoxModel",
          "model_module_version": "1.5.0",
          "state": {
            "_view_name": "HBoxView",
            "_dom_classes": [],
            "_model_name": "HBoxModel",
            "_view_module": "@jupyter-widgets/controls",
            "_model_module_version": "1.5.0",
            "_view_count": null,
            "_view_module_version": "1.5.0",
            "box_style": "",
            "layout": "IPY_MODEL_dbb88c0306dc4ac69dbd682b61b9d52b",
            "_model_module": "@jupyter-widgets/controls",
            "children": [
              "IPY_MODEL_7d5a58d0033442a8aaf4c0e4ac8385b4",
              "IPY_MODEL_2ed90a7421ad47f180f48acf607d1ec5",
              "IPY_MODEL_19938bbe280148709060f23f3ca45e71"
            ]
          }
        },
        "dbb88c0306dc4ac69dbd682b61b9d52b": {
          "model_module": "@jupyter-widgets/base",
          "model_name": "LayoutModel",
          "model_module_version": "1.2.0",
          "state": {
            "_view_name": "LayoutView",
            "grid_template_rows": null,
            "right": null,
            "justify_content": null,
            "_view_module": "@jupyter-widgets/base",
            "overflow": null,
            "_model_module_version": "1.2.0",
            "_view_count": null,
            "flex_flow": null,
            "width": null,
            "min_width": null,
            "border": null,
            "align_items": null,
            "bottom": null,
            "_model_module": "@jupyter-widgets/base",
            "top": null,
            "grid_column": null,
            "overflow_y": null,
            "overflow_x": null,
            "grid_auto_flow": null,
            "grid_area": null,
            "grid_template_columns": null,
            "flex": null,
            "_model_name": "LayoutModel",
            "justify_items": null,
            "grid_row": null,
            "max_height": null,
            "align_content": null,
            "visibility": null,
            "align_self": null,
            "height": null,
            "min_height": null,
            "padding": null,
            "grid_auto_rows": null,
            "grid_gap": null,
            "max_width": null,
            "order": null,
            "_view_module_version": "1.2.0",
            "grid_template_areas": null,
            "object_position": null,
            "object_fit": null,
            "grid_auto_columns": null,
            "margin": null,
            "display": null,
            "left": null
          }
        },
        "7d5a58d0033442a8aaf4c0e4ac8385b4": {
          "model_module": "@jupyter-widgets/controls",
          "model_name": "HTMLModel",
          "model_module_version": "1.5.0",
          "state": {
            "_view_name": "HTMLView",
            "style": "IPY_MODEL_f27efa2e18fb49f0b809bf67e05761cc",
            "_dom_classes": [],
            "description": "",
            "_model_name": "HTMLModel",
            "placeholder": "​",
            "_view_module": "@jupyter-widgets/controls",
            "_model_module_version": "1.5.0",
            "value": "Downloading: 100%",
            "_view_count": null,
            "_view_module_version": "1.5.0",
            "description_tooltip": null,
            "_model_module": "@jupyter-widgets/controls",
            "layout": "IPY_MODEL_571ac7ec112f4cafb12ac5213701e450"
          }
        },
        "2ed90a7421ad47f180f48acf607d1ec5": {
          "model_module": "@jupyter-widgets/controls",
          "model_name": "FloatProgressModel",
          "model_module_version": "1.5.0",
          "state": {
            "_view_name": "ProgressView",
            "style": "IPY_MODEL_83e93f7654f54e0c944b6d4fffe8a140",
            "_dom_classes": [],
            "description": "",
            "_model_name": "FloatProgressModel",
            "bar_style": "success",
            "max": 399,
            "_view_module": "@jupyter-widgets/controls",
            "_model_module_version": "1.5.0",
            "value": 399,
            "_view_count": null,
            "_view_module_version": "1.5.0",
            "orientation": "horizontal",
            "min": 0,
            "description_tooltip": null,
            "_model_module": "@jupyter-widgets/controls",
            "layout": "IPY_MODEL_939221a75ab547a5adb974a707be5b77"
          }
        },
        "19938bbe280148709060f23f3ca45e71": {
          "model_module": "@jupyter-widgets/controls",
          "model_name": "HTMLModel",
          "model_module_version": "1.5.0",
          "state": {
            "_view_name": "HTMLView",
            "style": "IPY_MODEL_bb6e11a6265e4751826874799a9f8d2b",
            "_dom_classes": [],
            "description": "",
            "_model_name": "HTMLModel",
            "placeholder": "​",
            "_view_module": "@jupyter-widgets/controls",
            "_model_module_version": "1.5.0",
            "value": " 399/399 [00:00&lt;00:00, 7.22kB/s]",
            "_view_count": null,
            "_view_module_version": "1.5.0",
            "description_tooltip": null,
            "_model_module": "@jupyter-widgets/controls",
            "layout": "IPY_MODEL_ece1c2e4fdb64f1586816fd0b874748b"
          }
        },
        "f27efa2e18fb49f0b809bf67e05761cc": {
          "model_module": "@jupyter-widgets/controls",
          "model_name": "DescriptionStyleModel",
          "model_module_version": "1.5.0",
          "state": {
            "_view_name": "StyleView",
            "_model_name": "DescriptionStyleModel",
            "description_width": "",
            "_view_module": "@jupyter-widgets/base",
            "_model_module_version": "1.5.0",
            "_view_count": null,
            "_view_module_version": "1.2.0",
            "_model_module": "@jupyter-widgets/controls"
          }
        },
        "571ac7ec112f4cafb12ac5213701e450": {
          "model_module": "@jupyter-widgets/base",
          "model_name": "LayoutModel",
          "model_module_version": "1.2.0",
          "state": {
            "_view_name": "LayoutView",
            "grid_template_rows": null,
            "right": null,
            "justify_content": null,
            "_view_module": "@jupyter-widgets/base",
            "overflow": null,
            "_model_module_version": "1.2.0",
            "_view_count": null,
            "flex_flow": null,
            "width": null,
            "min_width": null,
            "border": null,
            "align_items": null,
            "bottom": null,
            "_model_module": "@jupyter-widgets/base",
            "top": null,
            "grid_column": null,
            "overflow_y": null,
            "overflow_x": null,
            "grid_auto_flow": null,
            "grid_area": null,
            "grid_template_columns": null,
            "flex": null,
            "_model_name": "LayoutModel",
            "justify_items": null,
            "grid_row": null,
            "max_height": null,
            "align_content": null,
            "visibility": null,
            "align_self": null,
            "height": null,
            "min_height": null,
            "padding": null,
            "grid_auto_rows": null,
            "grid_gap": null,
            "max_width": null,
            "order": null,
            "_view_module_version": "1.2.0",
            "grid_template_areas": null,
            "object_position": null,
            "object_fit": null,
            "grid_auto_columns": null,
            "margin": null,
            "display": null,
            "left": null
          }
        },
        "83e93f7654f54e0c944b6d4fffe8a140": {
          "model_module": "@jupyter-widgets/controls",
          "model_name": "ProgressStyleModel",
          "model_module_version": "1.5.0",
          "state": {
            "_view_name": "StyleView",
            "_model_name": "ProgressStyleModel",
            "description_width": "",
            "_view_module": "@jupyter-widgets/base",
            "_model_module_version": "1.5.0",
            "_view_count": null,
            "_view_module_version": "1.2.0",
            "bar_color": null,
            "_model_module": "@jupyter-widgets/controls"
          }
        },
        "939221a75ab547a5adb974a707be5b77": {
          "model_module": "@jupyter-widgets/base",
          "model_name": "LayoutModel",
          "model_module_version": "1.2.0",
          "state": {
            "_view_name": "LayoutView",
            "grid_template_rows": null,
            "right": null,
            "justify_content": null,
            "_view_module": "@jupyter-widgets/base",
            "overflow": null,
            "_model_module_version": "1.2.0",
            "_view_count": null,
            "flex_flow": null,
            "width": null,
            "min_width": null,
            "border": null,
            "align_items": null,
            "bottom": null,
            "_model_module": "@jupyter-widgets/base",
            "top": null,
            "grid_column": null,
            "overflow_y": null,
            "overflow_x": null,
            "grid_auto_flow": null,
            "grid_area": null,
            "grid_template_columns": null,
            "flex": null,
            "_model_name": "LayoutModel",
            "justify_items": null,
            "grid_row": null,
            "max_height": null,
            "align_content": null,
            "visibility": null,
            "align_self": null,
            "height": null,
            "min_height": null,
            "padding": null,
            "grid_auto_rows": null,
            "grid_gap": null,
            "max_width": null,
            "order": null,
            "_view_module_version": "1.2.0",
            "grid_template_areas": null,
            "object_position": null,
            "object_fit": null,
            "grid_auto_columns": null,
            "margin": null,
            "display": null,
            "left": null
          }
        },
        "bb6e11a6265e4751826874799a9f8d2b": {
          "model_module": "@jupyter-widgets/controls",
          "model_name": "DescriptionStyleModel",
          "model_module_version": "1.5.0",
          "state": {
            "_view_name": "StyleView",
            "_model_name": "DescriptionStyleModel",
            "description_width": "",
            "_view_module": "@jupyter-widgets/base",
            "_model_module_version": "1.5.0",
            "_view_count": null,
            "_view_module_version": "1.2.0",
            "_model_module": "@jupyter-widgets/controls"
          }
        },
        "ece1c2e4fdb64f1586816fd0b874748b": {
          "model_module": "@jupyter-widgets/base",
          "model_name": "LayoutModel",
          "model_module_version": "1.2.0",
          "state": {
            "_view_name": "LayoutView",
            "grid_template_rows": null,
            "right": null,
            "justify_content": null,
            "_view_module": "@jupyter-widgets/base",
            "overflow": null,
            "_model_module_version": "1.2.0",
            "_view_count": null,
            "flex_flow": null,
            "width": null,
            "min_width": null,
            "border": null,
            "align_items": null,
            "bottom": null,
            "_model_module": "@jupyter-widgets/base",
            "top": null,
            "grid_column": null,
            "overflow_y": null,
            "overflow_x": null,
            "grid_auto_flow": null,
            "grid_area": null,
            "grid_template_columns": null,
            "flex": null,
            "_model_name": "LayoutModel",
            "justify_items": null,
            "grid_row": null,
            "max_height": null,
            "align_content": null,
            "visibility": null,
            "align_self": null,
            "height": null,
            "min_height": null,
            "padding": null,
            "grid_auto_rows": null,
            "grid_gap": null,
            "max_width": null,
            "order": null,
            "_view_module_version": "1.2.0",
            "grid_template_areas": null,
            "object_position": null,
            "object_fit": null,
            "grid_auto_columns": null,
            "margin": null,
            "display": null,
            "left": null
          }
        },
        "97f2263ab4204164ae2b38cca64de3ed": {
          "model_module": "@jupyter-widgets/controls",
          "model_name": "HBoxModel",
          "model_module_version": "1.5.0",
          "state": {
            "_view_name": "HBoxView",
            "_dom_classes": [],
            "_model_name": "HBoxModel",
            "_view_module": "@jupyter-widgets/controls",
            "_model_module_version": "1.5.0",
            "_view_count": null,
            "_view_module_version": "1.5.0",
            "box_style": "",
            "layout": "IPY_MODEL_77e20deae03a478abd89d86478fde44c",
            "_model_module": "@jupyter-widgets/controls",
            "children": [
              "IPY_MODEL_ecf5168e9d57459db5a70865851fd8a4",
              "IPY_MODEL_32c6756e45cb4b3da360f361198f2d49",
              "IPY_MODEL_828abb643a724cfb92257a2935cc38d1"
            ]
          }
        },
        "77e20deae03a478abd89d86478fde44c": {
          "model_module": "@jupyter-widgets/base",
          "model_name": "LayoutModel",
          "model_module_version": "1.2.0",
          "state": {
            "_view_name": "LayoutView",
            "grid_template_rows": null,
            "right": null,
            "justify_content": null,
            "_view_module": "@jupyter-widgets/base",
            "overflow": null,
            "_model_module_version": "1.2.0",
            "_view_count": null,
            "flex_flow": null,
            "width": null,
            "min_width": null,
            "border": null,
            "align_items": null,
            "bottom": null,
            "_model_module": "@jupyter-widgets/base",
            "top": null,
            "grid_column": null,
            "overflow_y": null,
            "overflow_x": null,
            "grid_auto_flow": null,
            "grid_area": null,
            "grid_template_columns": null,
            "flex": null,
            "_model_name": "LayoutModel",
            "justify_items": null,
            "grid_row": null,
            "max_height": null,
            "align_content": null,
            "visibility": null,
            "align_self": null,
            "height": null,
            "min_height": null,
            "padding": null,
            "grid_auto_rows": null,
            "grid_gap": null,
            "max_width": null,
            "order": null,
            "_view_module_version": "1.2.0",
            "grid_template_areas": null,
            "object_position": null,
            "object_fit": null,
            "grid_auto_columns": null,
            "margin": null,
            "display": null,
            "left": null
          }
        },
        "ecf5168e9d57459db5a70865851fd8a4": {
          "model_module": "@jupyter-widgets/controls",
          "model_name": "HTMLModel",
          "model_module_version": "1.5.0",
          "state": {
            "_view_name": "HTMLView",
            "style": "IPY_MODEL_cdb1645cd13040d3b57c655b2f250cfe",
            "_dom_classes": [],
            "description": "",
            "_model_name": "HTMLModel",
            "placeholder": "​",
            "_view_module": "@jupyter-widgets/controls",
            "_model_module_version": "1.5.0",
            "value": "Downloading: 100%",
            "_view_count": null,
            "_view_module_version": "1.5.0",
            "description_tooltip": null,
            "_model_module": "@jupyter-widgets/controls",
            "layout": "IPY_MODEL_4239707cb7c44dd9a52333f5abe5e952"
          }
        },
        "32c6756e45cb4b3da360f361198f2d49": {
          "model_module": "@jupyter-widgets/controls",
          "model_name": "FloatProgressModel",
          "model_module_version": "1.5.0",
          "state": {
            "_view_name": "ProgressView",
            "style": "IPY_MODEL_f19382c7c547446fa3122689d58ae3e6",
            "_dom_classes": [],
            "description": "",
            "_model_name": "FloatProgressModel",
            "bar_style": "success",
            "max": 231508,
            "_view_module": "@jupyter-widgets/controls",
            "_model_module_version": "1.5.0",
            "value": 231508,
            "_view_count": null,
            "_view_module_version": "1.5.0",
            "orientation": "horizontal",
            "min": 0,
            "description_tooltip": null,
            "_model_module": "@jupyter-widgets/controls",
            "layout": "IPY_MODEL_a0607fd2030e4abe9792b66e49bc1fff"
          }
        },
        "828abb643a724cfb92257a2935cc38d1": {
          "model_module": "@jupyter-widgets/controls",
          "model_name": "HTMLModel",
          "model_module_version": "1.5.0",
          "state": {
            "_view_name": "HTMLView",
            "style": "IPY_MODEL_fcf5695e7e5e4484915e7008f324b638",
            "_dom_classes": [],
            "description": "",
            "_model_name": "HTMLModel",
            "placeholder": "​",
            "_view_module": "@jupyter-widgets/controls",
            "_model_module_version": "1.5.0",
            "value": " 232k/232k [00:00&lt;00:00, 641kB/s]",
            "_view_count": null,
            "_view_module_version": "1.5.0",
            "description_tooltip": null,
            "_model_module": "@jupyter-widgets/controls",
            "layout": "IPY_MODEL_3835bf05f50340a293261b1c7fbacce1"
          }
        },
        "cdb1645cd13040d3b57c655b2f250cfe": {
          "model_module": "@jupyter-widgets/controls",
          "model_name": "DescriptionStyleModel",
          "model_module_version": "1.5.0",
          "state": {
            "_view_name": "StyleView",
            "_model_name": "DescriptionStyleModel",
            "description_width": "",
            "_view_module": "@jupyter-widgets/base",
            "_model_module_version": "1.5.0",
            "_view_count": null,
            "_view_module_version": "1.2.0",
            "_model_module": "@jupyter-widgets/controls"
          }
        },
        "4239707cb7c44dd9a52333f5abe5e952": {
          "model_module": "@jupyter-widgets/base",
          "model_name": "LayoutModel",
          "model_module_version": "1.2.0",
          "state": {
            "_view_name": "LayoutView",
            "grid_template_rows": null,
            "right": null,
            "justify_content": null,
            "_view_module": "@jupyter-widgets/base",
            "overflow": null,
            "_model_module_version": "1.2.0",
            "_view_count": null,
            "flex_flow": null,
            "width": null,
            "min_width": null,
            "border": null,
            "align_items": null,
            "bottom": null,
            "_model_module": "@jupyter-widgets/base",
            "top": null,
            "grid_column": null,
            "overflow_y": null,
            "overflow_x": null,
            "grid_auto_flow": null,
            "grid_area": null,
            "grid_template_columns": null,
            "flex": null,
            "_model_name": "LayoutModel",
            "justify_items": null,
            "grid_row": null,
            "max_height": null,
            "align_content": null,
            "visibility": null,
            "align_self": null,
            "height": null,
            "min_height": null,
            "padding": null,
            "grid_auto_rows": null,
            "grid_gap": null,
            "max_width": null,
            "order": null,
            "_view_module_version": "1.2.0",
            "grid_template_areas": null,
            "object_position": null,
            "object_fit": null,
            "grid_auto_columns": null,
            "margin": null,
            "display": null,
            "left": null
          }
        },
        "f19382c7c547446fa3122689d58ae3e6": {
          "model_module": "@jupyter-widgets/controls",
          "model_name": "ProgressStyleModel",
          "model_module_version": "1.5.0",
          "state": {
            "_view_name": "StyleView",
            "_model_name": "ProgressStyleModel",
            "description_width": "",
            "_view_module": "@jupyter-widgets/base",
            "_model_module_version": "1.5.0",
            "_view_count": null,
            "_view_module_version": "1.2.0",
            "bar_color": null,
            "_model_module": "@jupyter-widgets/controls"
          }
        },
        "a0607fd2030e4abe9792b66e49bc1fff": {
          "model_module": "@jupyter-widgets/base",
          "model_name": "LayoutModel",
          "model_module_version": "1.2.0",
          "state": {
            "_view_name": "LayoutView",
            "grid_template_rows": null,
            "right": null,
            "justify_content": null,
            "_view_module": "@jupyter-widgets/base",
            "overflow": null,
            "_model_module_version": "1.2.0",
            "_view_count": null,
            "flex_flow": null,
            "width": null,
            "min_width": null,
            "border": null,
            "align_items": null,
            "bottom": null,
            "_model_module": "@jupyter-widgets/base",
            "top": null,
            "grid_column": null,
            "overflow_y": null,
            "overflow_x": null,
            "grid_auto_flow": null,
            "grid_area": null,
            "grid_template_columns": null,
            "flex": null,
            "_model_name": "LayoutModel",
            "justify_items": null,
            "grid_row": null,
            "max_height": null,
            "align_content": null,
            "visibility": null,
            "align_self": null,
            "height": null,
            "min_height": null,
            "padding": null,
            "grid_auto_rows": null,
            "grid_gap": null,
            "max_width": null,
            "order": null,
            "_view_module_version": "1.2.0",
            "grid_template_areas": null,
            "object_position": null,
            "object_fit": null,
            "grid_auto_columns": null,
            "margin": null,
            "display": null,
            "left": null
          }
        },
        "fcf5695e7e5e4484915e7008f324b638": {
          "model_module": "@jupyter-widgets/controls",
          "model_name": "DescriptionStyleModel",
          "model_module_version": "1.5.0",
          "state": {
            "_view_name": "StyleView",
            "_model_name": "DescriptionStyleModel",
            "description_width": "",
            "_view_module": "@jupyter-widgets/base",
            "_model_module_version": "1.5.0",
            "_view_count": null,
            "_view_module_version": "1.2.0",
            "_model_module": "@jupyter-widgets/controls"
          }
        },
        "3835bf05f50340a293261b1c7fbacce1": {
          "model_module": "@jupyter-widgets/base",
          "model_name": "LayoutModel",
          "model_module_version": "1.2.0",
          "state": {
            "_view_name": "LayoutView",
            "grid_template_rows": null,
            "right": null,
            "justify_content": null,
            "_view_module": "@jupyter-widgets/base",
            "overflow": null,
            "_model_module_version": "1.2.0",
            "_view_count": null,
            "flex_flow": null,
            "width": null,
            "min_width": null,
            "border": null,
            "align_items": null,
            "bottom": null,
            "_model_module": "@jupyter-widgets/base",
            "top": null,
            "grid_column": null,
            "overflow_y": null,
            "overflow_x": null,
            "grid_auto_flow": null,
            "grid_area": null,
            "grid_template_columns": null,
            "flex": null,
            "_model_name": "LayoutModel",
            "justify_items": null,
            "grid_row": null,
            "max_height": null,
            "align_content": null,
            "visibility": null,
            "align_self": null,
            "height": null,
            "min_height": null,
            "padding": null,
            "grid_auto_rows": null,
            "grid_gap": null,
            "max_width": null,
            "order": null,
            "_view_module_version": "1.2.0",
            "grid_template_areas": null,
            "object_position": null,
            "object_fit": null,
            "grid_auto_columns": null,
            "margin": null,
            "display": null,
            "left": null
          }
        },
        "c6740c640c0040a1bd7ed3a674e1f3b1": {
          "model_module": "@jupyter-widgets/controls",
          "model_name": "HBoxModel",
          "model_module_version": "1.5.0",
          "state": {
            "_view_name": "HBoxView",
            "_dom_classes": [],
            "_model_name": "HBoxModel",
            "_view_module": "@jupyter-widgets/controls",
            "_model_module_version": "1.5.0",
            "_view_count": null,
            "_view_module_version": "1.5.0",
            "box_style": "",
            "layout": "IPY_MODEL_47737933f2004dd68f067adac5744bf5",
            "_model_module": "@jupyter-widgets/controls",
            "children": [
              "IPY_MODEL_283cd92433484b25896b93b12defc52d",
              "IPY_MODEL_a5d70717615e435aa0211bf1ad1df961",
              "IPY_MODEL_107a1f5f06eb4f5ca3e6457f9e9e3415"
            ]
          }
        },
        "47737933f2004dd68f067adac5744bf5": {
          "model_module": "@jupyter-widgets/base",
          "model_name": "LayoutModel",
          "model_module_version": "1.2.0",
          "state": {
            "_view_name": "LayoutView",
            "grid_template_rows": null,
            "right": null,
            "justify_content": null,
            "_view_module": "@jupyter-widgets/base",
            "overflow": null,
            "_model_module_version": "1.2.0",
            "_view_count": null,
            "flex_flow": null,
            "width": null,
            "min_width": null,
            "border": null,
            "align_items": null,
            "bottom": null,
            "_model_module": "@jupyter-widgets/base",
            "top": null,
            "grid_column": null,
            "overflow_y": null,
            "overflow_x": null,
            "grid_auto_flow": null,
            "grid_area": null,
            "grid_template_columns": null,
            "flex": null,
            "_model_name": "LayoutModel",
            "justify_items": null,
            "grid_row": null,
            "max_height": null,
            "align_content": null,
            "visibility": null,
            "align_self": null,
            "height": null,
            "min_height": null,
            "padding": null,
            "grid_auto_rows": null,
            "grid_gap": null,
            "max_width": null,
            "order": null,
            "_view_module_version": "1.2.0",
            "grid_template_areas": null,
            "object_position": null,
            "object_fit": null,
            "grid_auto_columns": null,
            "margin": null,
            "display": null,
            "left": null
          }
        },
        "283cd92433484b25896b93b12defc52d": {
          "model_module": "@jupyter-widgets/controls",
          "model_name": "HTMLModel",
          "model_module_version": "1.5.0",
          "state": {
            "_view_name": "HTMLView",
            "style": "IPY_MODEL_f1d0d0631ed946d3b9817b058c102be9",
            "_dom_classes": [],
            "description": "",
            "_model_name": "HTMLModel",
            "placeholder": "​",
            "_view_module": "@jupyter-widgets/controls",
            "_model_module_version": "1.5.0",
            "value": "Downloading: 100%",
            "_view_count": null,
            "_view_module_version": "1.5.0",
            "description_tooltip": null,
            "_model_module": "@jupyter-widgets/controls",
            "layout": "IPY_MODEL_ae04d25b8cea46a7897f4f95f4ba5294"
          }
        },
        "a5d70717615e435aa0211bf1ad1df961": {
          "model_module": "@jupyter-widgets/controls",
          "model_name": "FloatProgressModel",
          "model_module_version": "1.5.0",
          "state": {
            "_view_name": "ProgressView",
            "style": "IPY_MODEL_da4f5a80a1eb4c0b8b14a3f60aa9ac3e",
            "_dom_classes": [],
            "description": "",
            "_model_name": "FloatProgressModel",
            "bar_style": "success",
            "max": 190,
            "_view_module": "@jupyter-widgets/controls",
            "_model_module_version": "1.5.0",
            "value": 190,
            "_view_count": null,
            "_view_module_version": "1.5.0",
            "orientation": "horizontal",
            "min": 0,
            "description_tooltip": null,
            "_model_module": "@jupyter-widgets/controls",
            "layout": "IPY_MODEL_501b3bad41bb4663a90bc21d07d16e99"
          }
        },
        "107a1f5f06eb4f5ca3e6457f9e9e3415": {
          "model_module": "@jupyter-widgets/controls",
          "model_name": "HTMLModel",
          "model_module_version": "1.5.0",
          "state": {
            "_view_name": "HTMLView",
            "style": "IPY_MODEL_4a76506540134bf38328b7808892dd5a",
            "_dom_classes": [],
            "description": "",
            "_model_name": "HTMLModel",
            "placeholder": "​",
            "_view_module": "@jupyter-widgets/controls",
            "_model_module_version": "1.5.0",
            "value": " 190/190 [00:00&lt;00:00, 4.56kB/s]",
            "_view_count": null,
            "_view_module_version": "1.5.0",
            "description_tooltip": null,
            "_model_module": "@jupyter-widgets/controls",
            "layout": "IPY_MODEL_149b00efb35c4e0d82afba0d324f0653"
          }
        },
        "f1d0d0631ed946d3b9817b058c102be9": {
          "model_module": "@jupyter-widgets/controls",
          "model_name": "DescriptionStyleModel",
          "model_module_version": "1.5.0",
          "state": {
            "_view_name": "StyleView",
            "_model_name": "DescriptionStyleModel",
            "description_width": "",
            "_view_module": "@jupyter-widgets/base",
            "_model_module_version": "1.5.0",
            "_view_count": null,
            "_view_module_version": "1.2.0",
            "_model_module": "@jupyter-widgets/controls"
          }
        },
        "ae04d25b8cea46a7897f4f95f4ba5294": {
          "model_module": "@jupyter-widgets/base",
          "model_name": "LayoutModel",
          "model_module_version": "1.2.0",
          "state": {
            "_view_name": "LayoutView",
            "grid_template_rows": null,
            "right": null,
            "justify_content": null,
            "_view_module": "@jupyter-widgets/base",
            "overflow": null,
            "_model_module_version": "1.2.0",
            "_view_count": null,
            "flex_flow": null,
            "width": null,
            "min_width": null,
            "border": null,
            "align_items": null,
            "bottom": null,
            "_model_module": "@jupyter-widgets/base",
            "top": null,
            "grid_column": null,
            "overflow_y": null,
            "overflow_x": null,
            "grid_auto_flow": null,
            "grid_area": null,
            "grid_template_columns": null,
            "flex": null,
            "_model_name": "LayoutModel",
            "justify_items": null,
            "grid_row": null,
            "max_height": null,
            "align_content": null,
            "visibility": null,
            "align_self": null,
            "height": null,
            "min_height": null,
            "padding": null,
            "grid_auto_rows": null,
            "grid_gap": null,
            "max_width": null,
            "order": null,
            "_view_module_version": "1.2.0",
            "grid_template_areas": null,
            "object_position": null,
            "object_fit": null,
            "grid_auto_columns": null,
            "margin": null,
            "display": null,
            "left": null
          }
        },
        "da4f5a80a1eb4c0b8b14a3f60aa9ac3e": {
          "model_module": "@jupyter-widgets/controls",
          "model_name": "ProgressStyleModel",
          "model_module_version": "1.5.0",
          "state": {
            "_view_name": "StyleView",
            "_model_name": "ProgressStyleModel",
            "description_width": "",
            "_view_module": "@jupyter-widgets/base",
            "_model_module_version": "1.5.0",
            "_view_count": null,
            "_view_module_version": "1.2.0",
            "bar_color": null,
            "_model_module": "@jupyter-widgets/controls"
          }
        },
        "501b3bad41bb4663a90bc21d07d16e99": {
          "model_module": "@jupyter-widgets/base",
          "model_name": "LayoutModel",
          "model_module_version": "1.2.0",
          "state": {
            "_view_name": "LayoutView",
            "grid_template_rows": null,
            "right": null,
            "justify_content": null,
            "_view_module": "@jupyter-widgets/base",
            "overflow": null,
            "_model_module_version": "1.2.0",
            "_view_count": null,
            "flex_flow": null,
            "width": null,
            "min_width": null,
            "border": null,
            "align_items": null,
            "bottom": null,
            "_model_module": "@jupyter-widgets/base",
            "top": null,
            "grid_column": null,
            "overflow_y": null,
            "overflow_x": null,
            "grid_auto_flow": null,
            "grid_area": null,
            "grid_template_columns": null,
            "flex": null,
            "_model_name": "LayoutModel",
            "justify_items": null,
            "grid_row": null,
            "max_height": null,
            "align_content": null,
            "visibility": null,
            "align_self": null,
            "height": null,
            "min_height": null,
            "padding": null,
            "grid_auto_rows": null,
            "grid_gap": null,
            "max_width": null,
            "order": null,
            "_view_module_version": "1.2.0",
            "grid_template_areas": null,
            "object_position": null,
            "object_fit": null,
            "grid_auto_columns": null,
            "margin": null,
            "display": null,
            "left": null
          }
        },
        "4a76506540134bf38328b7808892dd5a": {
          "model_module": "@jupyter-widgets/controls",
          "model_name": "DescriptionStyleModel",
          "model_module_version": "1.5.0",
          "state": {
            "_view_name": "StyleView",
            "_model_name": "DescriptionStyleModel",
            "description_width": "",
            "_view_module": "@jupyter-widgets/base",
            "_model_module_version": "1.5.0",
            "_view_count": null,
            "_view_module_version": "1.2.0",
            "_model_module": "@jupyter-widgets/controls"
          }
        },
        "149b00efb35c4e0d82afba0d324f0653": {
          "model_module": "@jupyter-widgets/base",
          "model_name": "LayoutModel",
          "model_module_version": "1.2.0",
          "state": {
            "_view_name": "LayoutView",
            "grid_template_rows": null,
            "right": null,
            "justify_content": null,
            "_view_module": "@jupyter-widgets/base",
            "overflow": null,
            "_model_module_version": "1.2.0",
            "_view_count": null,
            "flex_flow": null,
            "width": null,
            "min_width": null,
            "border": null,
            "align_items": null,
            "bottom": null,
            "_model_module": "@jupyter-widgets/base",
            "top": null,
            "grid_column": null,
            "overflow_y": null,
            "overflow_x": null,
            "grid_auto_flow": null,
            "grid_area": null,
            "grid_template_columns": null,
            "flex": null,
            "_model_name": "LayoutModel",
            "justify_items": null,
            "grid_row": null,
            "max_height": null,
            "align_content": null,
            "visibility": null,
            "align_self": null,
            "height": null,
            "min_height": null,
            "padding": null,
            "grid_auto_rows": null,
            "grid_gap": null,
            "max_width": null,
            "order": null,
            "_view_module_version": "1.2.0",
            "grid_template_areas": null,
            "object_position": null,
            "object_fit": null,
            "grid_auto_columns": null,
            "margin": null,
            "display": null,
            "left": null
          }
        },
        "4b6be606eaad4fe19525210685bb20d3": {
          "model_module": "@jupyter-widgets/controls",
          "model_name": "HBoxModel",
          "model_module_version": "1.5.0",
          "state": {
            "_view_name": "HBoxView",
            "_dom_classes": [],
            "_model_name": "HBoxModel",
            "_view_module": "@jupyter-widgets/controls",
            "_model_module_version": "1.5.0",
            "_view_count": null,
            "_view_module_version": "1.5.0",
            "box_style": "",
            "layout": "IPY_MODEL_6448ff6d3a1d455283e2d35f3010edbd",
            "_model_module": "@jupyter-widgets/controls",
            "children": [
              "IPY_MODEL_933e3458ff0c413da947403bd8386327",
              "IPY_MODEL_2f893be8ad61401d99e19794f333e9aa",
              "IPY_MODEL_8ee2fca575954f56a6a0351c17def8b3"
            ]
          }
        },
        "6448ff6d3a1d455283e2d35f3010edbd": {
          "model_module": "@jupyter-widgets/base",
          "model_name": "LayoutModel",
          "model_module_version": "1.2.0",
          "state": {
            "_view_name": "LayoutView",
            "grid_template_rows": null,
            "right": null,
            "justify_content": null,
            "_view_module": "@jupyter-widgets/base",
            "overflow": null,
            "_model_module_version": "1.2.0",
            "_view_count": null,
            "flex_flow": null,
            "width": null,
            "min_width": null,
            "border": null,
            "align_items": null,
            "bottom": null,
            "_model_module": "@jupyter-widgets/base",
            "top": null,
            "grid_column": null,
            "overflow_y": null,
            "overflow_x": null,
            "grid_auto_flow": null,
            "grid_area": null,
            "grid_template_columns": null,
            "flex": null,
            "_model_name": "LayoutModel",
            "justify_items": null,
            "grid_row": null,
            "max_height": null,
            "align_content": null,
            "visibility": null,
            "align_self": null,
            "height": null,
            "min_height": null,
            "padding": null,
            "grid_auto_rows": null,
            "grid_gap": null,
            "max_width": null,
            "order": null,
            "_view_module_version": "1.2.0",
            "grid_template_areas": null,
            "object_position": null,
            "object_fit": null,
            "grid_auto_columns": null,
            "margin": null,
            "display": null,
            "left": null
          }
        },
        "933e3458ff0c413da947403bd8386327": {
          "model_module": "@jupyter-widgets/controls",
          "model_name": "HTMLModel",
          "model_module_version": "1.5.0",
          "state": {
            "_view_name": "HTMLView",
            "style": "IPY_MODEL_328aec5ec82841d0be9b430c8501eb29",
            "_dom_classes": [],
            "description": "",
            "_model_name": "HTMLModel",
            "placeholder": "​",
            "_view_module": "@jupyter-widgets/controls",
            "_model_module_version": "1.5.0",
            "value": "Batches: 100%",
            "_view_count": null,
            "_view_module_version": "1.5.0",
            "description_tooltip": null,
            "_model_module": "@jupyter-widgets/controls",
            "layout": "IPY_MODEL_786dc6551a1d47e3ab71d4fb5767caa6"
          }
        },
        "2f893be8ad61401d99e19794f333e9aa": {
          "model_module": "@jupyter-widgets/controls",
          "model_name": "FloatProgressModel",
          "model_module_version": "1.5.0",
          "state": {
            "_view_name": "ProgressView",
            "style": "IPY_MODEL_ed10e7f095034cdba1e3e02295945c6d",
            "_dom_classes": [],
            "description": "",
            "_model_name": "FloatProgressModel",
            "bar_style": "success",
            "max": 32,
            "_view_module": "@jupyter-widgets/controls",
            "_model_module_version": "1.5.0",
            "value": 32,
            "_view_count": null,
            "_view_module_version": "1.5.0",
            "orientation": "horizontal",
            "min": 0,
            "description_tooltip": null,
            "_model_module": "@jupyter-widgets/controls",
            "layout": "IPY_MODEL_a6014107d7414fe7b0bf57e4f160c291"
          }
        },
        "8ee2fca575954f56a6a0351c17def8b3": {
          "model_module": "@jupyter-widgets/controls",
          "model_name": "HTMLModel",
          "model_module_version": "1.5.0",
          "state": {
            "_view_name": "HTMLView",
            "style": "IPY_MODEL_63d4f15a3e5e4d7c860036a8f4374fc3",
            "_dom_classes": [],
            "description": "",
            "_model_name": "HTMLModel",
            "placeholder": "​",
            "_view_module": "@jupyter-widgets/controls",
            "_model_module_version": "1.5.0",
            "value": " 32/32 [02:00&lt;00:00,  1.14s/it]",
            "_view_count": null,
            "_view_module_version": "1.5.0",
            "description_tooltip": null,
            "_model_module": "@jupyter-widgets/controls",
            "layout": "IPY_MODEL_c0e6ff139aaa4b89a8879c4fe149fa02"
          }
        },
        "328aec5ec82841d0be9b430c8501eb29": {
          "model_module": "@jupyter-widgets/controls",
          "model_name": "DescriptionStyleModel",
          "model_module_version": "1.5.0",
          "state": {
            "_view_name": "StyleView",
            "_model_name": "DescriptionStyleModel",
            "description_width": "",
            "_view_module": "@jupyter-widgets/base",
            "_model_module_version": "1.5.0",
            "_view_count": null,
            "_view_module_version": "1.2.0",
            "_model_module": "@jupyter-widgets/controls"
          }
        },
        "786dc6551a1d47e3ab71d4fb5767caa6": {
          "model_module": "@jupyter-widgets/base",
          "model_name": "LayoutModel",
          "model_module_version": "1.2.0",
          "state": {
            "_view_name": "LayoutView",
            "grid_template_rows": null,
            "right": null,
            "justify_content": null,
            "_view_module": "@jupyter-widgets/base",
            "overflow": null,
            "_model_module_version": "1.2.0",
            "_view_count": null,
            "flex_flow": null,
            "width": null,
            "min_width": null,
            "border": null,
            "align_items": null,
            "bottom": null,
            "_model_module": "@jupyter-widgets/base",
            "top": null,
            "grid_column": null,
            "overflow_y": null,
            "overflow_x": null,
            "grid_auto_flow": null,
            "grid_area": null,
            "grid_template_columns": null,
            "flex": null,
            "_model_name": "LayoutModel",
            "justify_items": null,
            "grid_row": null,
            "max_height": null,
            "align_content": null,
            "visibility": null,
            "align_self": null,
            "height": null,
            "min_height": null,
            "padding": null,
            "grid_auto_rows": null,
            "grid_gap": null,
            "max_width": null,
            "order": null,
            "_view_module_version": "1.2.0",
            "grid_template_areas": null,
            "object_position": null,
            "object_fit": null,
            "grid_auto_columns": null,
            "margin": null,
            "display": null,
            "left": null
          }
        },
        "ed10e7f095034cdba1e3e02295945c6d": {
          "model_module": "@jupyter-widgets/controls",
          "model_name": "ProgressStyleModel",
          "model_module_version": "1.5.0",
          "state": {
            "_view_name": "StyleView",
            "_model_name": "ProgressStyleModel",
            "description_width": "",
            "_view_module": "@jupyter-widgets/base",
            "_model_module_version": "1.5.0",
            "_view_count": null,
            "_view_module_version": "1.2.0",
            "bar_color": null,
            "_model_module": "@jupyter-widgets/controls"
          }
        },
        "a6014107d7414fe7b0bf57e4f160c291": {
          "model_module": "@jupyter-widgets/base",
          "model_name": "LayoutModel",
          "model_module_version": "1.2.0",
          "state": {
            "_view_name": "LayoutView",
            "grid_template_rows": null,
            "right": null,
            "justify_content": null,
            "_view_module": "@jupyter-widgets/base",
            "overflow": null,
            "_model_module_version": "1.2.0",
            "_view_count": null,
            "flex_flow": null,
            "width": null,
            "min_width": null,
            "border": null,
            "align_items": null,
            "bottom": null,
            "_model_module": "@jupyter-widgets/base",
            "top": null,
            "grid_column": null,
            "overflow_y": null,
            "overflow_x": null,
            "grid_auto_flow": null,
            "grid_area": null,
            "grid_template_columns": null,
            "flex": null,
            "_model_name": "LayoutModel",
            "justify_items": null,
            "grid_row": null,
            "max_height": null,
            "align_content": null,
            "visibility": null,
            "align_self": null,
            "height": null,
            "min_height": null,
            "padding": null,
            "grid_auto_rows": null,
            "grid_gap": null,
            "max_width": null,
            "order": null,
            "_view_module_version": "1.2.0",
            "grid_template_areas": null,
            "object_position": null,
            "object_fit": null,
            "grid_auto_columns": null,
            "margin": null,
            "display": null,
            "left": null
          }
        },
        "63d4f15a3e5e4d7c860036a8f4374fc3": {
          "model_module": "@jupyter-widgets/controls",
          "model_name": "DescriptionStyleModel",
          "model_module_version": "1.5.0",
          "state": {
            "_view_name": "StyleView",
            "_model_name": "DescriptionStyleModel",
            "description_width": "",
            "_view_module": "@jupyter-widgets/base",
            "_model_module_version": "1.5.0",
            "_view_count": null,
            "_view_module_version": "1.2.0",
            "_model_module": "@jupyter-widgets/controls"
          }
        },
        "c0e6ff139aaa4b89a8879c4fe149fa02": {
          "model_module": "@jupyter-widgets/base",
          "model_name": "LayoutModel",
          "model_module_version": "1.2.0",
          "state": {
            "_view_name": "LayoutView",
            "grid_template_rows": null,
            "right": null,
            "justify_content": null,
            "_view_module": "@jupyter-widgets/base",
            "overflow": null,
            "_model_module_version": "1.2.0",
            "_view_count": null,
            "flex_flow": null,
            "width": null,
            "min_width": null,
            "border": null,
            "align_items": null,
            "bottom": null,
            "_model_module": "@jupyter-widgets/base",
            "top": null,
            "grid_column": null,
            "overflow_y": null,
            "overflow_x": null,
            "grid_auto_flow": null,
            "grid_area": null,
            "grid_template_columns": null,
            "flex": null,
            "_model_name": "LayoutModel",
            "justify_items": null,
            "grid_row": null,
            "max_height": null,
            "align_content": null,
            "visibility": null,
            "align_self": null,
            "height": null,
            "min_height": null,
            "padding": null,
            "grid_auto_rows": null,
            "grid_gap": null,
            "max_width": null,
            "order": null,
            "_view_module_version": "1.2.0",
            "grid_template_areas": null,
            "object_position": null,
            "object_fit": null,
            "grid_auto_columns": null,
            "margin": null,
            "display": null,
            "left": null
          }
        },
        "4567ae105e1a4dfc9c4969a9eff3b6b8": {
          "model_module": "@jupyter-widgets/controls",
          "model_name": "HBoxModel",
          "model_module_version": "1.5.0",
          "state": {
            "_view_name": "HBoxView",
            "_dom_classes": [],
            "_model_name": "HBoxModel",
            "_view_module": "@jupyter-widgets/controls",
            "_model_module_version": "1.5.0",
            "_view_count": null,
            "_view_module_version": "1.5.0",
            "box_style": "",
            "layout": "IPY_MODEL_a80368f1789346de97427b976dab5a79",
            "_model_module": "@jupyter-widgets/controls",
            "children": [
              "IPY_MODEL_b2ab77f017134c86bdd8736ceadddb7c",
              "IPY_MODEL_fba82eb7c9d44375b2c2f0e2345d1ed8",
              "IPY_MODEL_70a4c099e6664b24889c45828e46291f"
            ]
          }
        },
        "a80368f1789346de97427b976dab5a79": {
          "model_module": "@jupyter-widgets/base",
          "model_name": "LayoutModel",
          "model_module_version": "1.2.0",
          "state": {
            "_view_name": "LayoutView",
            "grid_template_rows": null,
            "right": null,
            "justify_content": null,
            "_view_module": "@jupyter-widgets/base",
            "overflow": null,
            "_model_module_version": "1.2.0",
            "_view_count": null,
            "flex_flow": null,
            "width": null,
            "min_width": null,
            "border": null,
            "align_items": null,
            "bottom": null,
            "_model_module": "@jupyter-widgets/base",
            "top": null,
            "grid_column": null,
            "overflow_y": null,
            "overflow_x": null,
            "grid_auto_flow": null,
            "grid_area": null,
            "grid_template_columns": null,
            "flex": null,
            "_model_name": "LayoutModel",
            "justify_items": null,
            "grid_row": null,
            "max_height": null,
            "align_content": null,
            "visibility": null,
            "align_self": null,
            "height": null,
            "min_height": null,
            "padding": null,
            "grid_auto_rows": null,
            "grid_gap": null,
            "max_width": null,
            "order": null,
            "_view_module_version": "1.2.0",
            "grid_template_areas": null,
            "object_position": null,
            "object_fit": null,
            "grid_auto_columns": null,
            "margin": null,
            "display": null,
            "left": null
          }
        },
        "b2ab77f017134c86bdd8736ceadddb7c": {
          "model_module": "@jupyter-widgets/controls",
          "model_name": "HTMLModel",
          "model_module_version": "1.5.0",
          "state": {
            "_view_name": "HTMLView",
            "style": "IPY_MODEL_c4b0adceebce46b48c3d9a92b8374aac",
            "_dom_classes": [],
            "description": "",
            "_model_name": "HTMLModel",
            "placeholder": "​",
            "_view_module": "@jupyter-widgets/controls",
            "_model_module_version": "1.5.0",
            "value": "Batches: 100%",
            "_view_count": null,
            "_view_module_version": "1.5.0",
            "description_tooltip": null,
            "_model_module": "@jupyter-widgets/controls",
            "layout": "IPY_MODEL_3af3bd99d2a44661a18c399e9bcfc742"
          }
        },
        "fba82eb7c9d44375b2c2f0e2345d1ed8": {
          "model_module": "@jupyter-widgets/controls",
          "model_name": "FloatProgressModel",
          "model_module_version": "1.5.0",
          "state": {
            "_view_name": "ProgressView",
            "style": "IPY_MODEL_fe7a2719e32940d68aecabb18012c122",
            "_dom_classes": [],
            "description": "",
            "_model_name": "FloatProgressModel",
            "bar_style": "success",
            "max": 63,
            "_view_module": "@jupyter-widgets/controls",
            "_model_module_version": "1.5.0",
            "value": 63,
            "_view_count": null,
            "_view_module_version": "1.5.0",
            "orientation": "horizontal",
            "min": 0,
            "description_tooltip": null,
            "_model_module": "@jupyter-widgets/controls",
            "layout": "IPY_MODEL_6cd74c139ad4487e8cad7f7c09e23b20"
          }
        },
        "70a4c099e6664b24889c45828e46291f": {
          "model_module": "@jupyter-widgets/controls",
          "model_name": "HTMLModel",
          "model_module_version": "1.5.0",
          "state": {
            "_view_name": "HTMLView",
            "style": "IPY_MODEL_29ca95e8ccbf4db18224c7d220484412",
            "_dom_classes": [],
            "description": "",
            "_model_name": "HTMLModel",
            "placeholder": "​",
            "_view_module": "@jupyter-widgets/controls",
            "_model_module_version": "1.5.0",
            "value": " 63/63 [04:00&lt;00:00,  1.12s/it]",
            "_view_count": null,
            "_view_module_version": "1.5.0",
            "description_tooltip": null,
            "_model_module": "@jupyter-widgets/controls",
            "layout": "IPY_MODEL_467950e4ceea4e3789531b38d6c948b2"
          }
        },
        "c4b0adceebce46b48c3d9a92b8374aac": {
          "model_module": "@jupyter-widgets/controls",
          "model_name": "DescriptionStyleModel",
          "model_module_version": "1.5.0",
          "state": {
            "_view_name": "StyleView",
            "_model_name": "DescriptionStyleModel",
            "description_width": "",
            "_view_module": "@jupyter-widgets/base",
            "_model_module_version": "1.5.0",
            "_view_count": null,
            "_view_module_version": "1.2.0",
            "_model_module": "@jupyter-widgets/controls"
          }
        },
        "3af3bd99d2a44661a18c399e9bcfc742": {
          "model_module": "@jupyter-widgets/base",
          "model_name": "LayoutModel",
          "model_module_version": "1.2.0",
          "state": {
            "_view_name": "LayoutView",
            "grid_template_rows": null,
            "right": null,
            "justify_content": null,
            "_view_module": "@jupyter-widgets/base",
            "overflow": null,
            "_model_module_version": "1.2.0",
            "_view_count": null,
            "flex_flow": null,
            "width": null,
            "min_width": null,
            "border": null,
            "align_items": null,
            "bottom": null,
            "_model_module": "@jupyter-widgets/base",
            "top": null,
            "grid_column": null,
            "overflow_y": null,
            "overflow_x": null,
            "grid_auto_flow": null,
            "grid_area": null,
            "grid_template_columns": null,
            "flex": null,
            "_model_name": "LayoutModel",
            "justify_items": null,
            "grid_row": null,
            "max_height": null,
            "align_content": null,
            "visibility": null,
            "align_self": null,
            "height": null,
            "min_height": null,
            "padding": null,
            "grid_auto_rows": null,
            "grid_gap": null,
            "max_width": null,
            "order": null,
            "_view_module_version": "1.2.0",
            "grid_template_areas": null,
            "object_position": null,
            "object_fit": null,
            "grid_auto_columns": null,
            "margin": null,
            "display": null,
            "left": null
          }
        },
        "fe7a2719e32940d68aecabb18012c122": {
          "model_module": "@jupyter-widgets/controls",
          "model_name": "ProgressStyleModel",
          "model_module_version": "1.5.0",
          "state": {
            "_view_name": "StyleView",
            "_model_name": "ProgressStyleModel",
            "description_width": "",
            "_view_module": "@jupyter-widgets/base",
            "_model_module_version": "1.5.0",
            "_view_count": null,
            "_view_module_version": "1.2.0",
            "bar_color": null,
            "_model_module": "@jupyter-widgets/controls"
          }
        },
        "6cd74c139ad4487e8cad7f7c09e23b20": {
          "model_module": "@jupyter-widgets/base",
          "model_name": "LayoutModel",
          "model_module_version": "1.2.0",
          "state": {
            "_view_name": "LayoutView",
            "grid_template_rows": null,
            "right": null,
            "justify_content": null,
            "_view_module": "@jupyter-widgets/base",
            "overflow": null,
            "_model_module_version": "1.2.0",
            "_view_count": null,
            "flex_flow": null,
            "width": null,
            "min_width": null,
            "border": null,
            "align_items": null,
            "bottom": null,
            "_model_module": "@jupyter-widgets/base",
            "top": null,
            "grid_column": null,
            "overflow_y": null,
            "overflow_x": null,
            "grid_auto_flow": null,
            "grid_area": null,
            "grid_template_columns": null,
            "flex": null,
            "_model_name": "LayoutModel",
            "justify_items": null,
            "grid_row": null,
            "max_height": null,
            "align_content": null,
            "visibility": null,
            "align_self": null,
            "height": null,
            "min_height": null,
            "padding": null,
            "grid_auto_rows": null,
            "grid_gap": null,
            "max_width": null,
            "order": null,
            "_view_module_version": "1.2.0",
            "grid_template_areas": null,
            "object_position": null,
            "object_fit": null,
            "grid_auto_columns": null,
            "margin": null,
            "display": null,
            "left": null
          }
        },
        "29ca95e8ccbf4db18224c7d220484412": {
          "model_module": "@jupyter-widgets/controls",
          "model_name": "DescriptionStyleModel",
          "model_module_version": "1.5.0",
          "state": {
            "_view_name": "StyleView",
            "_model_name": "DescriptionStyleModel",
            "description_width": "",
            "_view_module": "@jupyter-widgets/base",
            "_model_module_version": "1.5.0",
            "_view_count": null,
            "_view_module_version": "1.2.0",
            "_model_module": "@jupyter-widgets/controls"
          }
        },
        "467950e4ceea4e3789531b38d6c948b2": {
          "model_module": "@jupyter-widgets/base",
          "model_name": "LayoutModel",
          "model_module_version": "1.2.0",
          "state": {
            "_view_name": "LayoutView",
            "grid_template_rows": null,
            "right": null,
            "justify_content": null,
            "_view_module": "@jupyter-widgets/base",
            "overflow": null,
            "_model_module_version": "1.2.0",
            "_view_count": null,
            "flex_flow": null,
            "width": null,
            "min_width": null,
            "border": null,
            "align_items": null,
            "bottom": null,
            "_model_module": "@jupyter-widgets/base",
            "top": null,
            "grid_column": null,
            "overflow_y": null,
            "overflow_x": null,
            "grid_auto_flow": null,
            "grid_area": null,
            "grid_template_columns": null,
            "flex": null,
            "_model_name": "LayoutModel",
            "justify_items": null,
            "grid_row": null,
            "max_height": null,
            "align_content": null,
            "visibility": null,
            "align_self": null,
            "height": null,
            "min_height": null,
            "padding": null,
            "grid_auto_rows": null,
            "grid_gap": null,
            "max_width": null,
            "order": null,
            "_view_module_version": "1.2.0",
            "grid_template_areas": null,
            "object_position": null,
            "object_fit": null,
            "grid_auto_columns": null,
            "margin": null,
            "display": null,
            "left": null
          }
        }
      }
    }
  },
  "cells": [
    {
      "cell_type": "markdown",
      "metadata": {
        "id": "8FOHM0OXeAm7"
      },
      "source": [
        "# Initial Analysis for Political Parties' Interests"
      ]
    },
    {
      "cell_type": "markdown",
      "metadata": {
        "id": "oA_fe4oxWT6p"
      },
      "source": [
        "## Mounting the Google Drive\n",
        "The Quotebank data is stored on Google Drive."
      ]
    },
    {
      "cell_type": "code",
      "metadata": {
        "id": "CEcIlRwfWY4C"
      },
      "source": [
        "from google.colab import drive\n",
        "drive.mount('/content/drive')"
      ],
      "execution_count": null,
      "outputs": []
    },
    {
      "cell_type": "markdown",
      "metadata": {
        "id": "c_Dmorxcf7Am"
      },
      "source": [
        "## Installs"
      ]
    },
    {
      "cell_type": "code",
      "metadata": {
        "id": "hf5YsV90f6Xu"
      },
      "source": [
        "!python -m pip install --upgrade pip\n",
        "!pip install pytrends\n",
        "!pip install nltk\n",
        "!pip install tld\n",
        "!pip install pyarrow\n",
        "!pip install qwikidata\n",
        "!pip install sentence-transformers\n",
        "!pip install transformers\n",
        "!pip install umap-learn\n",
        "!pip install hdbscan\n",
        "!pip install tqdm"
      ],
      "execution_count": null,
      "outputs": []
    },
    {
      "cell_type": "markdown",
      "metadata": {
        "id": "LDxR5xYQBbE4"
      },
      "source": [
        "## Imports"
      ]
    },
    {
      "cell_type": "code",
      "metadata": {
        "id": "GL8NAnbFBez4"
      },
      "source": [
        "import bz2\n",
        "import json\n",
        "import umap\n",
        "import hdbscan\n",
        "import nltk\n",
        "import ast\n",
        "import torch\n",
        "import pyarrow\n",
        "import os.path\n",
        "import pandas as pd\n",
        "import numpy as np\n",
        "import seaborn as sns\n",
        "import matplotlib.pyplot as plt\n",
        "import torch.nn.functional as f\n",
        "from tqdm import tqdm\n",
        "from tld import get_tld\n",
        "from itertools import chain\n",
        "from datetime import datetime\n",
        "from pytrends import dailydata\n",
        "from google.colab import drive\n",
        "from collections import Counter\n",
        "from scipy.stats import pearsonr\n",
        "from nltk.corpus import stopwords\n",
        "from collections import defaultdict\n",
        "from pytrends.request import TrendReq\n",
        "from nltk.cluster import KMeansClusterer\n",
        "from sentence_transformers import SentenceTransformer\n",
        "from transformers import BertModel, BertTokenizer\n",
        "from sklearn.preprocessing import StandardScaler, normalize\n",
        "from qwikidata.entity import WikidataItem, WikidataLexeme, WikidataProperty\n",
        "from qwikidata.linked_data_interface import get_entity_dict_from_api"
      ],
      "execution_count": 3,
      "outputs": []
    },
    {
      "cell_type": "markdown",
      "metadata": {
        "id": "KUt1rItUBfnI"
      },
      "source": [
        "## Constants"
      ]
    },
    {
      "cell_type": "code",
      "metadata": {
        "id": "ejXdQWRrBg8g"
      },
      "source": [
        "# Whether to create a parsed file from the Quotebank dataset.\n",
        "PARSE_QUOTEBANK = True\n",
        "\n",
        "# Colorblind-friendly color palette.\n",
        "COLORS = ['#377EB8', '#FF7F00', '#4DAF4A', '#F781BF']\n",
        "\n",
        "# A mapping between a year and the file that contains the input of that year.\n",
        "QUOTES_BY_YEAR = {year: f\"/content/drive/MyDrive/politicians-quotes-{year}.json.bz2\" for year in range(2015, 2021)}\n",
        "\n",
        "# A mapping between a party and quotes of its members\n",
        "WIKIDATA_POLITICIANS_PATH = f\"/content/drive/MyDrive/wikidata_politicians.csv\"\n",
        "\n",
        "# Path to parquet file used for Wikidata information\n",
        "WIKIDATA_PATH = f\"/content/drive/MyDrive/Quotebank_Wikidata/speaker_attributes.parquet\"\n",
        "\n",
        "# Path to file with mapping between q-codes and labels\n",
        "WIKIDATA_LABELS_PATH = f\"/content/drive/MyDrive/Quotebank_Wikidata/wikidata_labels_descriptions_quotebank.csv.bz2\"\n",
        "\n",
        "# Wikidata columns that are represented by q codes\n",
        "WIKIDATA_QCODES_COL = ['occupation', 'party']\n",
        "\n",
        "# The name of the single-value general stats\n",
        "VALUE_STATS = {'nan_speakers', 'nan_percentage', 'avg_quote_len', 'num_quotes'}\n",
        "\n",
        "# The name of the counter general stats\n",
        "COUNTER_STATS = {'quotes_by_date', 'qids_count'}\n",
        "\n",
        "# Path to csv containing mapping of a speaker to exactly one party\n",
        "SPEAKER_TO_PARTY_PATH_CSV = f\"/content/drive/MyDrive/speaker_to_party.csv\"\n",
        "\n",
        "# Path to filtered quotebank dataset (one party per speaker)\n",
        "QUOTEBANK_ONE_PARTY = f\"/content/drive/MyDrive/quotebank_one_party.csv\"\n",
        "\n",
        "# The year for which the data will be analyzed\n",
        "YEAR = 2018\n",
        "\n",
        "# Dataset for first analysis\n",
        "ARINA_QUTEBANK = {year: f\"/content/drive/MyDrive/ADA_Project2/politicians-quotes-{year}.json.bz2\" for year in range(2015, 2021)}"
      ],
      "execution_count": 89,
      "outputs": []
    },
    {
      "cell_type": "markdown",
      "metadata": {
        "id": "sCm34P0FgHZi"
      },
      "source": [
        "## Setup"
      ]
    },
    {
      "cell_type": "code",
      "metadata": {
        "id": "YlA_werTgHPU"
      },
      "source": [
        "# Connect to Google trends API\n",
        "pytrend = TrendReq()\n",
        "# NLTK setup\n",
        "nltk.download('stopwords')\n",
        "nltk.download('punkt')\n",
        "nltk.download('averaged_perceptron_tagger')\n",
        "tqdm.pandas()"
      ],
      "execution_count": null,
      "outputs": []
    },
    {
      "cell_type": "markdown",
      "metadata": {
        "id": "pTGtp0hqkd3_"
      },
      "source": [
        "## General Quotebank Analysis"
      ]
    },
    {
      "cell_type": "code",
      "metadata": {
        "id": "YczcOet6kd3_"
      },
      "source": [
        "def describe_chunks(df_reader):\n",
        "    \"\"\"\n",
        "    Compute general statistics about the dataset.\n",
        "    \"\"\"\n",
        "    # Initialize single-value stats\n",
        "    stats = {stat: 0 for stat in VALUE_STATS}\n",
        "    # Initialize counter stats\n",
        "    stats = {**stats, **{stat: Counter() for stat in COUNTER_STATS}}\n",
        "    for chunk in df_reader:\n",
        "        # Compute stats per chunk\n",
        "        stats['nan_speakers'] += (chunk['speaker'] == 'None').sum()\n",
        "        stats['avg_quote_len'] += chunk['quotation'].str.len().sum(axis=0)\n",
        "        stats['num_quotes'] += len(chunk)\n",
        "        quotes_by_date = Counter(\n",
        "            (chunk.groupby(by=chunk[\"date\"].dt.date).count())[\"quoteID\"].T.to_dict()\n",
        "        )\n",
        "        stats['quotes_by_date'] += quotes_by_date\n",
        "        stats['qids_count'] += Counter(chain.from_iterable(chunk['qids']))\n",
        "    \n",
        "    stats['avg_quote_len'] = stats['avg_quote_len'] / stats['num_quotes']\n",
        "    stats['nan_percentage'] = stats['nan_speakers'] / stats['num_quotes']\n",
        "    return stats"
      ],
      "execution_count": null,
      "outputs": []
    },
    {
      "cell_type": "code",
      "metadata": {
        "id": "CG0g8zlEkd3_"
      },
      "source": [
        "# Analyze data chunk by chunk\n",
        "df_reader = pd.read_json(f'quotes-{YEAR}.json.bz2', lines=True,\n",
        "                         compression='bz2', chunksize=10000)\n",
        "stats = describe_chunks(df_reader)"
      ],
      "execution_count": null,
      "outputs": []
    },
    {
      "cell_type": "code",
      "metadata": {
        "id": "eGXwwABDkd4A",
        "outputId": "27da9b3e-567d-4c98-d723-cfd58c4b73fe"
      },
      "source": [
        "# Print full data stats\n",
        "pd.DataFrame.from_dict({name: [stats[name]] for name in VALUE_STATS}).style.hide_index()"
      ],
      "execution_count": null,
      "outputs": [
        {
          "data": {
            "text/html": [
              "<style type=\"text/css\">\n",
              "</style>\n",
              "<table id=\"T_6574f_\">\n",
              "  <thead>\n",
              "    <tr>\n",
              "      <th class=\"col_heading level0 col0\" >nan_percentage</th>\n",
              "      <th class=\"col_heading level0 col1\" >nan_speakers</th>\n",
              "      <th class=\"col_heading level0 col2\" >num_quotes</th>\n",
              "      <th class=\"col_heading level0 col3\" >avg_quote_len</th>\n",
              "    </tr>\n",
              "  </thead>\n",
              "  <tbody>\n",
              "    <tr>\n",
              "      <td id=\"T_6574f_row0_col0\" class=\"data row0 col0\" >0.351031</td>\n",
              "      <td id=\"T_6574f_row0_col1\" class=\"data row0 col1\" >9558032</td>\n",
              "      <td id=\"T_6574f_row0_col2\" class=\"data row0 col2\" >27228451</td>\n",
              "      <td id=\"T_6574f_row0_col3\" class=\"data row0 col3\" >134.068001</td>\n",
              "    </tr>\n",
              "  </tbody>\n",
              "</table>\n"
            ],
            "text/plain": [
              "<pandas.io.formats.style.Styler at 0x7f3328a12d90>"
            ]
          },
          "execution_count": 123,
          "metadata": {},
          "output_type": "execute_result"
        }
      ]
    },
    {
      "cell_type": "code",
      "metadata": {
        "id": "wMZrlHgdkd4A",
        "outputId": "b9729527-4a84-4541-a3ae-13c45d8b2f93"
      },
      "source": [
        "# Plot the number of quotes by date\n",
        "plt.figure(figsize=(10, 5))\n",
        "plt.bar((stats['quotes_by_date']).keys(),\n",
        "        stats['quotes_by_date'].values(),\n",
        "        color=COLORS[0]);\n",
        "plt.title('Number of quotes by date')\n",
        "plt.ylabel('Quotes per day')\n",
        "plt.xlabel('Date');"
      ],
      "execution_count": null,
      "outputs": [
        {
          "data": {
            "image/png": "[encoded data removed]",
            "text/plain": [
              "<Figure size 720x360 with 1 Axes>"
            ]
          },
          "metadata": {
            "needs_background": "light"
          },
          "output_type": "display_data"
        }
      ]
    },
    {
      "cell_type": "code",
      "metadata": {
        "id": "Inu6xp5Lkd4A",
        "outputId": "e6910cca-33e1-4020-aeb0-7ac6f26358dd"
      },
      "source": [
        "# Plot the number of quotes for the most common speakers\n",
        "most_common_qids = stats['qids_count'].most_common(10)\n",
        "plt.figure(figsize=(10, 5))\n",
        "plt.bar([t[0] for t in most_common_qids],\n",
        "        [t[1] for t in most_common_qids],\n",
        "        color=COLORS[0])\n",
        "plt.title(f'Number of quotes by speaker Q ID in {YEAR}')\n",
        "plt.xlabel('Speaker')\n",
        "plt.ylabel('Number of quotes');"
      ],
      "execution_count": null,
      "outputs": [
        {
          "data": {
            "image/png": "[encoded data removed]",
            "text/plain": [
              "<Figure size 720x360 with 1 Axes>"
            ]
          },
          "metadata": {
            "needs_background": "light"
          },
          "output_type": "display_data"
        }
      ]
    },
    {
      "cell_type": "markdown",
      "metadata": {
        "id": "Q86936eGA5ZZ"
      },
      "source": [
        "## Quote Parsing"
      ]
    },
    {
      "cell_type": "markdown",
      "metadata": {
        "id": "FUw5Ks39YuIl"
      },
      "source": [
        "The Quotebank data is too large to handle in-memory in a single DataFrame. Therefore, for our initial analyses we select only the quotes from 2018 that were uttered by politicians. We detect these quotes by looking at the Q IDs of the speakers, merging them with Wikidata based on the Q ID, resolving the Q IDs of their profession and filtering those quotes that belong to politicians."
      ]
    },
    {
      "cell_type": "code",
      "metadata": {
        "id": "0OdPWN0HE3Wg"
      },
      "source": [
        "# A list of politicians of interest.\n",
        "politicians = [\"Barack Obama\", \"George W. Bush\", \"Donald Trump\", \"John McCain\",\n",
        "            \"Mitt Romney\", \"Hillary Clinton\", \"Benjamin Netanyahu\",\n",
        "            \"Narendra Modi\", \"Joe Biden\"]"
      ],
      "execution_count": 110,
      "outputs": []
    },
    {
      "cell_type": "code",
      "metadata": {
        "id": "IhcxNMaxA7VY"
      },
      "source": [
        "def get_politicians_data(year):\n",
        "  \"\"\"\n",
        "  Given a year, parses the Quotebank data and creates a file containing\n",
        "  the quotes of politicians from that year.\n",
        "  \"\"\"\n",
        "  path_to_out = QUOTES_BY_YEAR[year]\n",
        "  path_to_file = f'/content/drive/MyDrive/Quotebank/quotes-{year}.json.bz2'\n",
        "  with bz2.open(path_to_file, 'rb') as s_file:\n",
        "    with bz2.open(path_to_out, 'wb') as d_file:\n",
        "      for i, instance in enumerate(s_file):\n",
        "        # Load a sample.\n",
        "        instance = json.loads(instance)\n",
        "        if (sum([politician in instance['speaker'] for politician in politicians]) > 0):\n",
        "          # Write sample to new file.\n",
        "          d_file.write((json.dumps(instance)+'\\n').encode('utf-8'))\n",
        "        print(i)"
      ],
      "execution_count": 8,
      "outputs": []
    },
    {
      "cell_type": "code",
      "metadata": {
        "id": "LFEoxm6XSLx7"
      },
      "source": [
        "# Store politicians data in DataFrame.\n",
        "# data = pd.read_json(QUOTES_BY_YEAR[YEAR], lines=True)\n",
        "data = pd.read_json(ARINA_QUTEBANK[YEAR], lines=True)"
      ],
      "execution_count": 12,
      "outputs": []
    },
    {
      "cell_type": "markdown",
      "metadata": {
        "id": "kOQ8TDgzcRN_"
      },
      "source": [
        "Below, we look at a couple of quotes that belong to Donald Trump and Barack Obama, two of our politicians of interest.\n",
        "\n"
      ]
    },
    {
      "cell_type": "code",
      "metadata": {
        "colab": {
          "base_uri": "https://localhost:8080/",
          "height": 455
        },
        "id": "sZUunRkQTkCS",
        "outputId": "cc4b59c9-c954-4f6e-b4de-35db67b0492f"
      },
      "source": [
        "trump_quotes = data[data[\"speaker\"].str.contains(\"Donald Trump\")]\n",
        "trump_quotes.head()"
      ],
      "execution_count": 13,
      "outputs": [
        {
          "output_type": "execute_result",
          "data": {
            "text/html": [
              "<div>\n",
              "<style scoped>\n",
              "    .dataframe tbody tr th:only-of-type {\n",
              "        vertical-align: middle;\n",
              "    }\n",
              "\n",
              "    .dataframe tbody tr th {\n",
              "        vertical-align: top;\n",
              "    }\n",
              "\n",
              "    .dataframe thead th {\n",
              "        text-align: right;\n",
              "    }\n",
              "</style>\n",
              "<table border=\"1\" class=\"dataframe\">\n",
              "  <thead>\n",
              "    <tr style=\"text-align: right;\">\n",
              "      <th></th>\n",
              "      <th>quoteID</th>\n",
              "      <th>quotation</th>\n",
              "      <th>speaker</th>\n",
              "      <th>qids</th>\n",
              "      <th>date</th>\n",
              "      <th>numOccurrences</th>\n",
              "      <th>probas</th>\n",
              "      <th>urls</th>\n",
              "      <th>phase</th>\n",
              "    </tr>\n",
              "  </thead>\n",
              "  <tbody>\n",
              "    <tr>\n",
              "      <th>0</th>\n",
              "      <td>2018-05-08-001245</td>\n",
              "      <td>A constructive deal could easily have been str...</td>\n",
              "      <td>President Donald Trump</td>\n",
              "      <td>[Q22686]</td>\n",
              "      <td>2018-05-08 18:36:49</td>\n",
              "      <td>8</td>\n",
              "      <td>[[President Donald Trump, 0.5633], [None, 0.38...</td>\n",
              "      <td>[http://baynews9.com/fl/tampa/news/2018/05/08/...</td>\n",
              "      <td>E</td>\n",
              "    </tr>\n",
              "    <tr>\n",
              "      <th>1</th>\n",
              "      <td>2018-09-26-003692</td>\n",
              "      <td>actually admitted that they're going after far...</td>\n",
              "      <td>President Donald Trump</td>\n",
              "      <td>[Q22686]</td>\n",
              "      <td>2018-09-26 00:00:00</td>\n",
              "      <td>138</td>\n",
              "      <td>[[President Donald Trump, 0.6838], [None, 0.30...</td>\n",
              "      <td>[http://dailyherald.com/news/20180926/kavanaug...</td>\n",
              "      <td>E</td>\n",
              "    </tr>\n",
              "    <tr>\n",
              "      <th>3</th>\n",
              "      <td>2018-07-30-004176</td>\n",
              "      <td>always leaves room for negotiation.</td>\n",
              "      <td>President Donald Trump</td>\n",
              "      <td>[Q22686]</td>\n",
              "      <td>2018-07-30 20:44:00</td>\n",
              "      <td>4</td>\n",
              "      <td>[[President Donald Trump, 0.6616], [None, 0.33...</td>\n",
              "      <td>[http://www.10news.com/newsy/trump-25-billion-...</td>\n",
              "      <td>E</td>\n",
              "    </tr>\n",
              "    <tr>\n",
              "      <th>4</th>\n",
              "      <td>2018-10-30-005630</td>\n",
              "      <td>an incredible leader who is respected by every...</td>\n",
              "      <td>President Donald Trump</td>\n",
              "      <td>[Q22686]</td>\n",
              "      <td>2018-10-30 03:10:00</td>\n",
              "      <td>3</td>\n",
              "      <td>[[President Donald Trump, 0.358], [Cathy McMor...</td>\n",
              "      <td>[http://m.spokesman.com/stories/2018/oct/30/pr...</td>\n",
              "      <td>E</td>\n",
              "    </tr>\n",
              "    <tr>\n",
              "      <th>5</th>\n",
              "      <td>2018-04-21-003582</td>\n",
              "      <td>and he is already a proven liar and leaker.</td>\n",
              "      <td>President Donald Trump</td>\n",
              "      <td>[Q22686]</td>\n",
              "      <td>2018-04-21 21:38:52</td>\n",
              "      <td>1</td>\n",
              "      <td>[[President Donald Trump, 0.7394], [None, 0.16...</td>\n",
              "      <td>[https://mic.com/articles/189012/this-week-in-...</td>\n",
              "      <td>E</td>\n",
              "    </tr>\n",
              "  </tbody>\n",
              "</table>\n",
              "</div>"
            ],
            "text/plain": [
              "             quoteID  ... phase\n",
              "0  2018-05-08-001245  ...     E\n",
              "1  2018-09-26-003692  ...     E\n",
              "3  2018-07-30-004176  ...     E\n",
              "4  2018-10-30-005630  ...     E\n",
              "5  2018-04-21-003582  ...     E\n",
              "\n",
              "[5 rows x 9 columns]"
            ]
          },
          "metadata": {},
          "execution_count": 13
        }
      ]
    },
    {
      "cell_type": "code",
      "metadata": {
        "colab": {
          "base_uri": "https://localhost:8080/",
          "height": 371
        },
        "id": "AnSYiIeZ6PVm",
        "outputId": "f3a3730a-1feb-4d1d-abd7-c709a978307b"
      },
      "source": [
        "obama_quotes = data[data[\"speaker\"].str.contains(\"Barack Obama\")]\n",
        "obama_quotes.head()"
      ],
      "execution_count": 14,
      "outputs": [
        {
          "output_type": "execute_result",
          "data": {
            "text/html": [
              "<div>\n",
              "<style scoped>\n",
              "    .dataframe tbody tr th:only-of-type {\n",
              "        vertical-align: middle;\n",
              "    }\n",
              "\n",
              "    .dataframe tbody tr th {\n",
              "        vertical-align: top;\n",
              "    }\n",
              "\n",
              "    .dataframe thead th {\n",
              "        text-align: right;\n",
              "    }\n",
              "</style>\n",
              "<table border=\"1\" class=\"dataframe\">\n",
              "  <thead>\n",
              "    <tr style=\"text-align: right;\">\n",
              "      <th></th>\n",
              "      <th>quoteID</th>\n",
              "      <th>quotation</th>\n",
              "      <th>speaker</th>\n",
              "      <th>qids</th>\n",
              "      <th>date</th>\n",
              "      <th>numOccurrences</th>\n",
              "      <th>probas</th>\n",
              "      <th>urls</th>\n",
              "      <th>phase</th>\n",
              "    </tr>\n",
              "  </thead>\n",
              "  <tbody>\n",
              "    <tr>\n",
              "      <th>21</th>\n",
              "      <td>2018-02-12-035226</td>\n",
              "      <td>I cannot paint.</td>\n",
              "      <td>Barack Obama</td>\n",
              "      <td>[Q76]</td>\n",
              "      <td>2018-02-12 13:50:00</td>\n",
              "      <td>2</td>\n",
              "      <td>[[Barack Obama, 0.8319], [Kehinde Wiley, 0.090...</td>\n",
              "      <td>[http://www.chicagotribune.com/news/ct-obama-p...</td>\n",
              "      <td>E</td>\n",
              "    </tr>\n",
              "    <tr>\n",
              "      <th>34</th>\n",
              "      <td>2018-11-03-029313</td>\n",
              "      <td>incessant, non-stop attempts to divide us with...</td>\n",
              "      <td>Barack Obama</td>\n",
              "      <td>[Q76]</td>\n",
              "      <td>2018-11-03 01:43:21</td>\n",
              "      <td>3</td>\n",
              "      <td>[[Barack Obama, 0.7987], [None, 0.164], [Donal...</td>\n",
              "      <td>[http://thehill.com/homenews/news/414678-obama...</td>\n",
              "      <td>E</td>\n",
              "    </tr>\n",
              "    <tr>\n",
              "      <th>96</th>\n",
              "      <td>2018-10-22-004462</td>\n",
              "      <td>All right? I believe in a fact-based reality. ...</td>\n",
              "      <td>President Barack Obama</td>\n",
              "      <td>[Q76]</td>\n",
              "      <td>2018-10-22 21:36:28</td>\n",
              "      <td>1</td>\n",
              "      <td>[[President Barack Obama, 0.7669], [None, 0.21...</td>\n",
              "      <td>[http://www.rawstory.com/2018/10/dont-believe-...</td>\n",
              "      <td>E</td>\n",
              "    </tr>\n",
              "    <tr>\n",
              "      <th>156</th>\n",
              "      <td>2018-10-26-096425</td>\n",
              "      <td>The biggest threat to our democracy is cynicis...</td>\n",
              "      <td>President Barack Obama</td>\n",
              "      <td>[Q76]</td>\n",
              "      <td>2018-10-26 19:37:30</td>\n",
              "      <td>3</td>\n",
              "      <td>[[President Barack Obama, 0.8994], [None, 0.08...</td>\n",
              "      <td>[http://cbsnews.com/news/live-stream-obama-ral...</td>\n",
              "      <td>E</td>\n",
              "    </tr>\n",
              "    <tr>\n",
              "      <th>179</th>\n",
              "      <td>2018-11-14-125138</td>\n",
              "      <td>was the day I was getting my hair and makeup d...</td>\n",
              "      <td>Barack Obama</td>\n",
              "      <td>[Q76]</td>\n",
              "      <td>2018-11-14 16:01:00</td>\n",
              "      <td>1</td>\n",
              "      <td>[[Barack Obama, 0.7869], [None, 0.2131]]</td>\n",
              "      <td>[http://www.wmagazine.com/story/michelle-obama...</td>\n",
              "      <td>E</td>\n",
              "    </tr>\n",
              "  </tbody>\n",
              "</table>\n",
              "</div>"
            ],
            "text/plain": [
              "               quoteID  ... phase\n",
              "21   2018-02-12-035226  ...     E\n",
              "34   2018-11-03-029313  ...     E\n",
              "96   2018-10-22-004462  ...     E\n",
              "156  2018-10-26-096425  ...     E\n",
              "179  2018-11-14-125138  ...     E\n",
              "\n",
              "[5 rows x 9 columns]"
            ]
          },
          "metadata": {},
          "execution_count": 14
        }
      ]
    },
    {
      "cell_type": "markdown",
      "metadata": {
        "id": "WIA84G5EgonW"
      },
      "source": [
        "## Quotes and Google Trends"
      ]
    },
    {
      "cell_type": "markdown",
      "metadata": {
        "id": "A8JB7rrBcbQJ"
      },
      "source": [
        "One on of our theories is that politicians talk about subjects of interest. For example, when a major event takes place, we would expect to hear about it in the news, and more importantly, we would expect political stakeholders to talk about it. However, not all politicians may pay the same amount of attention to all events.\n",
        "\n",
        "We plot the Google search trends against the number of quotes on specific subjects for Donald Trump and Barack Obama, two leaders from opposing parties."
      ]
    },
    {
      "cell_type": "code",
      "metadata": {
        "id": "P_Ur7WaGVbWM"
      },
      "source": [
        "def plot_trend(all_quotes, keyword, year, ax, speaker_name):\n",
        "  \"\"\"\n",
        "  Given a list of quotes, a keyword of interest and a year, plot the Google\n",
        "  search trend against the politicians' trends of uttering related quotes.\n",
        "  \"\"\"\n",
        "  # Get quotes stats from Quotebank\n",
        "  relevant_quotes = all_quotes[all_quotes[\"quotation\"].str.contains(keyword)]\n",
        "  quotes_by_date = relevant_quotes.groupby(by=relevant_quotes['date'].dt.date)\n",
        "  quotes_occ = pd.DataFrame(quotes_by_date['numOccurrences'].sum(),\n",
        "                           columns=['numOccurrences'])\n",
        "\n",
        "  # Get Google Trends data\n",
        "  pytrend.build_payload(kw_list=[keyword], geo='US',\n",
        "                        timeframe=f'{year}-01-01 {year}-12-31')\n",
        "  df_google = pytrend.interest_over_time()\n",
        "\n",
        "  # Treat missing quote trend values for a nicer plot\n",
        "  idx = pd.date_range(f\"01-01-{year}\", f\"12-31-{year}\")\n",
        "  quotes_occ = quotes_occ.reindex(idx, fill_value=0)\n",
        "\n",
        "  # Scale trend\n",
        "  quotes_occ[\"numOccurrences\"] = StandardScaler().fit_transform(\n",
        "    quotes_occ[[\"numOccurrences\"]]\n",
        "  )\n",
        "\n",
        "  # Scale trend\n",
        "  df_google[keyword] = StandardScaler().fit_transform(df_google[[keyword]])\n",
        "\n",
        "  # Plot trends\n",
        "  ax.plot(quotes_occ, label=f\"{speaker_name} quote trend\", color=COLORS[0])\n",
        "  df_google.plot(y=keyword, use_index=True, ax=ax,\n",
        "                 label='Google trend', color=COLORS[1])\n",
        "  \n",
        "  ax.set_title(f'Quotes & Search Trend for \"{keyword}\"')\n",
        "  ax.set_xlabel('Date')\n",
        "  ax.set_ylabel('Trend')\n",
        "  ax.legend()"
      ],
      "execution_count": 15,
      "outputs": []
    },
    {
      "cell_type": "code",
      "metadata": {
        "colab": {
          "base_uri": "https://localhost:8080/",
          "height": 342
        },
        "id": "DkYuT3jvfuyZ",
        "outputId": "23daed3f-b4fd-42b2-e91d-167fd649b223"
      },
      "source": [
        "fig, axs = plt.subplots(figsize=(10, 5), nrows=1, ncols=1)\n",
        "plot_trend(trump_quotes, \"shooting\", 2018, axs, \"Donald Trump\")"
      ],
      "execution_count": 20,
      "outputs": [
        {
          "output_type": "display_data",
          "data": {
            "image/png": "[encoded data removed]",
            "text/plain": [
              "<Figure size 720x360 with 1 Axes>"
            ]
          },
          "metadata": {
            "needs_background": "light"
          }
        }
      ]
    },
    {
      "cell_type": "code",
      "metadata": {
        "colab": {
          "base_uri": "https://localhost:8080/",
          "height": 342
        },
        "id": "5kQIe4Z93LOg",
        "outputId": "5cd37522-11c9-49e5-c31f-7856b2053cc2"
      },
      "source": [
        "fig, axs = plt.subplots(figsize=(10, 5), nrows=1, ncols=1, sharey=True)\n",
        "plot_trend(trump_quotes, \"Putin\", 2018, axs, \"Donald Trump\")"
      ],
      "execution_count": 32,
      "outputs": [
        {
          "output_type": "display_data",
          "data": {
            "image/png": "[encoded data removed]",
            "text/plain": [
              "<Figure size 720x360 with 1 Axes>"
            ]
          },
          "metadata": {
            "needs_background": "light"
          }
        }
      ]
    },
    {
      "cell_type": "code",
      "metadata": {
        "colab": {
          "base_uri": "https://localhost:8080/",
          "height": 342
        },
        "id": "edOOxX7ul9uI",
        "outputId": "7ad4888c-fcd2-4b28-8993-58f6d1542bd4"
      },
      "source": [
        "fig, axs = plt.subplots(figsize=(10, 5), nrows=1, ncols=1, sharey=True)\n",
        "plot_trend(trump_quotes, \"border\", 2018, axs, \"Donald Trump\")"
      ],
      "execution_count": 33,
      "outputs": [
        {
          "output_type": "display_data",
          "data": {
            "image/png": "[encoded data removed]",
            "text/plain": [
              "<Figure size 720x360 with 1 Axes>"
            ]
          },
          "metadata": {
            "needs_background": "light"
          }
        }
      ]
    },
    {
      "cell_type": "markdown",
      "metadata": {
        "id": "fFLBDQHeCnE7"
      },
      "source": [
        "## Most common words"
      ]
    },
    {
      "cell_type": "markdown",
      "metadata": {
        "id": "s4SFd_WiUM42"
      },
      "source": [
        "We analyze the most common words said by Trump and Obama to see if we can find a pattern. For the current analysis, we only look at the most common nouns of each politician after tokenizing and preprocessing their quotes."
      ]
    },
    {
      "cell_type": "code",
      "metadata": {
        "id": "hQlhsLe7XsLv"
      },
      "source": [
        "def preprocess_text(text):\n",
        "  \"\"\"\n",
        "  Apply NLTK preprocessing operations to extract more meaningful data\n",
        "  from the quotes.\n",
        "  \"\"\"\n",
        "  tokens = nltk.word_tokenize(text)\n",
        "  # Remove stopwords\n",
        "  stopwords_removed = [word for word in tokens if word not in stopwords.words(\"english\")]\n",
        "  tagged = nltk.pos_tag(stopwords_removed)\n",
        "  # Return only nouns\n",
        "  return [word for word, tag in tagged if tag.startswith('N') and word.isalpha()]"
      ],
      "execution_count": 34,
      "outputs": []
    },
    {
      "cell_type": "code",
      "metadata": {
        "id": "B1qij9ZdCpog"
      },
      "source": [
        "# Count most common words for Donald Trump\n",
        "trump_words_cnt = Counter(preprocess_text(\" \".join(trump_quotes[\"quotation\"].str.lower())))"
      ],
      "execution_count": null,
      "outputs": []
    },
    {
      "cell_type": "code",
      "metadata": {
        "colab": {
          "base_uri": "https://localhost:8080/"
        },
        "id": "krlUYxmTwZib",
        "outputId": "58e494a3-7f9e-490f-e794-f46567dbb6f0"
      },
      "source": [
        "trump_words_cnt.most_common(30)"
      ],
      "execution_count": null,
      "outputs": [
        {
          "data": {
            "text/plain": [
              "[('people', 14746),\n",
              " ('country', 8374),\n",
              " ('president', 6797),\n",
              " ('time', 5574),\n",
              " ('trump', 5079),\n",
              " ('states', 4818),\n",
              " ('lot', 4650),\n",
              " ('deal', 4224),\n",
              " ('world', 4175),\n",
              " ('things', 4015),\n",
              " ('years', 4005),\n",
              " ('trade', 3746),\n",
              " ('way', 3711),\n",
              " ('something', 3200),\n",
              " ('thing', 3179),\n",
              " ('countries', 2794),\n",
              " ('russia', 2741),\n",
              " ('democrats', 2729),\n",
              " ('security', 2508),\n",
              " ('nothing', 2311),\n",
              " ('china', 2304),\n",
              " ('border', 2256),\n",
              " ('job', 2242),\n",
              " ('news', 2217),\n",
              " ('money', 2042),\n",
              " ('year', 1971),\n",
              " ('today', 1946),\n",
              " ('house', 1867),\n",
              " ('america', 1826),\n",
              " ('day', 1824)]"
            ]
          },
          "execution_count": 34,
          "metadata": {},
          "output_type": "execute_result"
        }
      ]
    },
    {
      "cell_type": "code",
      "metadata": {
        "id": "4VIZOKhuFTuz"
      },
      "source": [
        "# Count most common words for Barack Obama.\n",
        "obama_words_cnt = Counter(preprocess_text(\" \".join(obama_quotes[\"quotation\"].str.lower())))"
      ],
      "execution_count": null,
      "outputs": []
    },
    {
      "cell_type": "code",
      "metadata": {
        "colab": {
          "base_uri": "https://localhost:8080/"
        },
        "id": "pxXOnILKpPuB",
        "outputId": "c24d659f-dfac-40fa-efa7-b86a27af6fd6"
      },
      "source": [
        "obama_words_cnt.most_common(30)"
      ],
      "execution_count": null,
      "outputs": [
        {
          "data": {
            "text/plain": [
              "[('people', 1585),\n",
              " ('time', 654),\n",
              " ('president', 577),\n",
              " ('world', 574),\n",
              " ('way', 533),\n",
              " ('country', 533),\n",
              " ('politics', 488),\n",
              " ('years', 441),\n",
              " ('democracy', 419),\n",
              " ('things', 402),\n",
              " ('work', 359),\n",
              " ('power', 343),\n",
              " ('something', 325),\n",
              " ('life', 323),\n",
              " ('america', 320),\n",
              " ('obama', 272),\n",
              " ('day', 271),\n",
              " ('thing', 266),\n",
              " ('states', 263),\n",
              " ('change', 258),\n",
              " ('election', 255),\n",
              " ('house', 254),\n",
              " ('history', 254),\n",
              " ('kind', 247),\n",
              " ('vote', 243),\n",
              " ('today', 225),\n",
              " ('trump', 222),\n",
              " ('americans', 212),\n",
              " ('women', 211),\n",
              " ('man', 204)]"
            ]
          },
          "execution_count": 36,
          "metadata": {},
          "output_type": "execute_result"
        }
      ]
    },
    {
      "cell_type": "markdown",
      "metadata": {
        "id": "25b5RVCe-6w0"
      },
      "source": [
        "While Donald Trump talks about _Russia_, _China_, _money_, and _democrats_, Barack Obama chooses to talk about _democracy_, _change_, and _work_. This simple approach has revealed that although some of the main nouns are shared between the representants of the two parties, there are also differences that should be futher analyzed to figure out if they can tell us more about their parties."
      ]
    },
    {
      "cell_type": "code",
      "metadata": {
        "id": "btbKO7SXEDZk"
      },
      "source": [
        "# Using this option to display the full quotes\n",
        "pd.set_option('display.max_colwidth', None)"
      ],
      "execution_count": null,
      "outputs": []
    },
    {
      "cell_type": "code",
      "metadata": {
        "colab": {
          "base_uri": "https://localhost:8080/"
        },
        "id": "8o1T6MedGCgG",
        "outputId": "5ed1c43b-cd19-494d-edc6-37e1489532f7"
      },
      "source": [
        "obama_quotes[obama_quotes[\"quotation\"].str.contains('gay')]['quotation'].head()"
      ],
      "execution_count": 35,
      "outputs": [
        {
          "output_type": "execute_result",
          "data": {
            "text/plain": [
              "2682     the scene of an uprising against police repres...\n",
              "17756    (W) hen I hear people say they don't like iden...\n",
              "28033    I still have to stand here at a lecture and de...\n",
              "33060    Which is why, by the way, when I hear people s...\n",
              "42994    One day, to your horror, your problem is one h...\n",
              "Name: quotation, dtype: object"
            ]
          },
          "metadata": {},
          "execution_count": 35
        }
      ]
    },
    {
      "cell_type": "code",
      "metadata": {
        "colab": {
          "base_uri": "https://localhost:8080/"
        },
        "id": "19CYaL57IidE",
        "outputId": "3f378677-335f-4f38-bb36-c1aef8fc7814"
      },
      "source": [
        "trump_quotes[trump_quotes[\"quotation\"].str.contains('gay')]['quotation'].head()"
      ],
      "execution_count": 36,
      "outputs": [
        {
          "output_type": "execute_result",
          "data": {
            "text/plain": [
              "1660                               I cannot vibe with gays\n",
              "3667     On the surface it may seem like Trump is givin...\n",
              "13736    has shown himself to be completely shameless w...\n",
              "21951    It's not just for me. I got out there because ...\n",
              "26626    Tomorrow marks the 73rd anniversary of the lib...\n",
              "Name: quotation, dtype: object"
            ]
          },
          "metadata": {},
          "execution_count": 36
        }
      ]
    },
    {
      "cell_type": "code",
      "metadata": {
        "id": "TD9CdgJOEKrg"
      },
      "source": [
        "# Resetting the column width\n",
        "pd.reset_option('display.max_colwidth')"
      ],
      "execution_count": null,
      "outputs": []
    },
    {
      "cell_type": "markdown",
      "metadata": {
        "id": "tGzcxuhcSC0A"
      },
      "source": [
        "## News websites and speakers"
      ]
    },
    {
      "cell_type": "markdown",
      "metadata": {
        "id": "1POu59Wn2XCx"
      },
      "source": [
        "### Helpers"
      ]
    },
    {
      "cell_type": "code",
      "metadata": {
        "id": "DWY21v6X2d8P"
      },
      "source": [
        "def get_domain_names(urls):\n",
        "  \"\"\"\n",
        "  Get a list with all domain names for the urls list given as parameter.\n",
        "  \"\"\"\n",
        "  domains = []\n",
        "  for url in urls:\n",
        "    res = get_tld(url, as_object=True)\n",
        "    domains.append(res.domain)\n",
        "  return domains\n",
        "\n",
        "def standardize_speaker_name(x):\n",
        "  \"\"\"\n",
        "  Standardize a speaker name to a common one from the list of politicians.\n",
        "  \"\"\"\n",
        "  plts = np.array(politicians)\n",
        "  return plts[[p in x for p in plts]][0]"
      ],
      "execution_count": 37,
      "outputs": []
    },
    {
      "cell_type": "markdown",
      "metadata": {
        "id": "5J8xW20u2m2h"
      },
      "source": [
        "### News websites' preference for a speaker"
      ]
    },
    {
      "cell_type": "code",
      "metadata": {
        "id": "XH54Ubx1SE-9"
      },
      "source": [
        "# Do not alter original data\n",
        "new_data_domains = data.copy()\n",
        "# Convert urls into domain names -> this takes 1 minute\n",
        "new_data_domains['urls'] = new_data_domains['urls'].apply(get_domain_names)"
      ],
      "execution_count": 111,
      "outputs": []
    },
    {
      "cell_type": "code",
      "metadata": {
        "id": "0IsNy0Vu4Tpp"
      },
      "source": [
        "# Standardize speaker names in order to be able to group quotes\n",
        "new_data_domains['speaker'] = new_data_domains['speaker'].apply(standardize_speaker_name)\n",
        "new_data_domains.head(10)\n",
        "# Gather all sites that retreieved a politician's quotes\n",
        "by_politician = new_data_domains.groupby('speaker')['urls'].agg(lambda x: list(chain.from_iterable(x.values))).reset_index()"
      ],
      "execution_count": 112,
      "outputs": []
    },
    {
      "cell_type": "code",
      "metadata": {
        "id": "mFXk8qocBIBQ"
      },
      "source": [
        "# Get number of quotes retrieved by a website, for each politician\n",
        "politicians_websites = []\n",
        "for index, row in by_politician.iterrows():\n",
        "  p_websites = pd.DataFrame(Counter(row['urls']).most_common(5),\n",
        "                                columns=[\"Website name\", \"{}\".format(row['speaker'])])\n",
        "  politicians_websites.append(p_websites)"
      ],
      "execution_count": 113,
      "outputs": []
    },
    {
      "cell_type": "code",
      "metadata": {
        "colab": {
          "base_uri": "https://localhost:8080/",
          "height": 1000
        },
        "id": "iFpDxjqtCncW",
        "outputId": "2e8b9fe8-9178-4295-a1fe-ba3c79afce4a"
      },
      "source": [
        "# Plot the websites, preferences for each politician\n",
        "w = 2\n",
        "h = len(politicians_websites) // w + 1\n",
        "fig, ax = plt.subplots(h, w, figsize=(20, 20))\n",
        "for i in range(h):\n",
        "  j = 0\n",
        "  while i * w + j < len(politicians_websites) and j < w:\n",
        "    sbplt = ax[i, j]\n",
        "    ax_sns = sns.barplot(x=politicians_websites[j + i * w].columns[-1], y=\"Website name\", \n",
        "                         data=politicians_websites[j + i * w], ax=sbplt, color='blue')#.set(xscale=\"log\")\n",
        "    ax_sns.set(xlabel=\"Count of quotes\", ylabel=None, title=politicians_websites[j + i * w].columns[-1])\n",
        "    j += 1\n",
        "fig.tight_layout()\n",
        "fig.suptitle(\"Websites' interests for politicians\", fontsize=25)\n",
        "fig.subplots_adjust(top=0.90)"
      ],
      "execution_count": 116,
      "outputs": [
        {
          "output_type": "display_data",
          "data": {
            "image/png": "[encoded data removed]",
            "text/plain": [
              "<Figure size 1440x1440 with 10 Axes>"
            ]
          },
          "metadata": {
            "needs_background": "light"
          }
        }
      ]
    },
    {
      "cell_type": "markdown",
      "metadata": {
        "id": "fng8VWlseg1Y"
      },
      "source": [
        "## Wikidata q-codes, first approach"
      ]
    },
    {
      "cell_type": "markdown",
      "metadata": {
        "id": "SBjOq3O6wG2H"
      },
      "source": [
        "### Helpers"
      ]
    },
    {
      "cell_type": "code",
      "metadata": {
        "id": "TMcbDQadwNtP"
      },
      "source": [
        "def convert_qcodes_en(q_codes):\n",
        "  \"\"\"\n",
        "  Function for transforming wikidata q codes into list of english aliases or\n",
        "  labels related to the specific q code. If list of q_codes is given aggregate\n",
        "  all the words corresponding to each code. \n",
        "  \"\"\"\n",
        "  codes_values = []\n",
        "  if q_codes is not None:\n",
        "    for q_code in q_codes:\n",
        "      s = get_entity_dict_from_api(q_code)\n",
        "      s_value = []\n",
        "      if len(s.get('aliases', {}).get(\"en\", [])) > 0:\n",
        "        s_value.extend([v[\"value\"] for v in s['aliases'][\"en\"]])\n",
        "      if s.get('labels', {}).get(\"en\", {}) != dict():\n",
        "        s_value.append(s['labels'][\"en\"][\"value\"])\n",
        "\n",
        "      codes_values.extend(s_value)\n",
        "  if len(codes_values) == 0:\n",
        "    return None\n",
        "\n",
        "  return codes_values"
      ],
      "execution_count": null,
      "outputs": []
    },
    {
      "cell_type": "markdown",
      "metadata": {
        "id": "sUdSoAzAwZeZ"
      },
      "source": [
        "### Converting Q codes into list of aliases and label aggregated"
      ]
    },
    {
      "cell_type": "code",
      "metadata": {
        "id": "ZFha0gA7jRJy"
      },
      "source": [
        "# Read .parquet file into a dataframe\n",
        "wikidata = pd.read_parquet(WIKIDATA_PATH, engine='pyarrow')"
      ],
      "execution_count": null,
      "outputs": []
    },
    {
      "cell_type": "code",
      "metadata": {
        "id": "IQtalz0IwuY8"
      },
      "source": [
        "# Small test for converting wikidata qcodes into words (just first 5 entries)\n",
        "new_wikidata = wikidata.iloc[:5].copy()\n",
        "for name in WIKIDATA_QCODES_COL:\n",
        "  new_wikidata[name] = new_wikidata[name].apply(convert_qcodes_en) \n",
        "new_wikidata.head(1)"
      ],
      "execution_count": null,
      "outputs": []
    },
    {
      "cell_type": "markdown",
      "metadata": {
        "id": "SmFeW5IwITXQ"
      },
      "source": [
        "## Quotebank dataset preprocessing "
      ]
    },
    {
      "cell_type": "markdown",
      "metadata": {
        "id": "syKZeh1JMQj8"
      },
      "source": [
        "### Helpers"
      ]
    },
    {
      "cell_type": "code",
      "metadata": {
        "id": "vemdf8bzMbkK"
      },
      "source": [
        "def convert_qcodes(l, df):\n",
        "  \"\"\"\n",
        "  Convert list of qcodes to labels\n",
        "  \"\"\"\n",
        "  return None if l is None else list(map(lambda x: df.loc[x]['Label'] if x in df.index else None, l))\n",
        "\n",
        "\n",
        "def infer_format(time_stmp):\n",
        "    \"\"\"\n",
        "    Infer date format.\n",
        "    \"\"\"\n",
        "    if time_stmp[6:8] == '00':\n",
        "        time_stmp = time_stmp[:5]\n",
        "        dt_format = '+%Y'\n",
        "    else:\n",
        "        time_stmp = time_stmp[:8]\n",
        "        dt_format = '+%Y-%m'\n",
        "    return time_stmp, dt_format\n",
        "\n",
        "    \n",
        "def get_party_membership(q_code):\n",
        "    \"\"\"\n",
        "    Function for obtaining party membership intervals for speaker with q_code\n",
        "    \"\"\"\n",
        "    tmp = []\n",
        "    if q_code is not None:\n",
        "        try:\n",
        "            s = get_entity_dict_from_api(q_code)\n",
        "        except:\n",
        "            return []\n",
        "        if len(s.get(\"claims\", {}).get(\"P102\", [])) > 0:\n",
        "            for i, v in enumerate(s[\"claims\"][\"P102\"]):\n",
        "                if v[\"mainsnak\"].get(\"datavalue\", {}).get(\"value\", {}).get(\"id\") is not None:\n",
        "                    party = v[\"mainsnak\"][\"datavalue\"][\"value\"][\"id\"]\n",
        "                    if party in q_codes_labels.index:\n",
        "                        party = q_codes_labels.loc[party]['Label']\n",
        "                        if party is not None:\n",
        "                            # Separate case when there is only one political party for a speaker\n",
        "                            # Just consider it as the correct party\n",
        "                            if len(s[\"claims\"][\"P102\"]) == 1:\n",
        "                                tmp.append([party, '+2008-07-31T00:00:00Z', '+2020-05-01T00:00:00Z'])\n",
        "                                continue\n",
        "                            start_time, end_time = None, None\n",
        "                            if len(v.get('qualifiers', {}).get('P580', [])) > 0:\n",
        "                                if v['qualifiers']['P580'][0].get('datavalue', {}).get(\"value\", {}).get('time') is not None:\n",
        "                                    start_time = v['qualifiers']['P580'][0][\"datavalue\"][\"value\"][\"time\"]\n",
        "                            if len(v.get('qualifiers', {}).get('P582', [])) > 0:\n",
        "                                if v['qualifiers']['P582'][0].get('datavalue', {}).get(\"value\", {}).get('time') is not None:\n",
        "                                    end_time = v['qualifiers']['P582'][0][\"datavalue\"][\"value\"][\"time\"]\n",
        "                            # If there are specific start date and end date, take the party into consideration\n",
        "                            if start_time is not None and end_time is not None:\n",
        "                                tmp.append([party, start_time, end_time])\n",
        "                            # If there is a strat date but not end date, consider the end date, the current one\n",
        "                            elif start_time is not None and end_time is None:\n",
        "                                tmp.append([party, start_time, '+2020-05-01T00:00:00Z'])\n",
        "                            else:\n",
        "                                continue\n",
        "\n",
        "    if len(tmp) == 0:\n",
        "        return []\n",
        "\n",
        "    return tmp\n",
        "\n",
        "def map_speaker_to_party(qids):\n",
        "    \"\"\"\n",
        "    Get list of parties for each speaker using Wikidata API\n",
        "    \"\"\"\n",
        "    speaker_to_parties = {}\n",
        "    df_speaker_to_parties = pd.DataFrame(index=range(len(qids)))\n",
        "    df_speaker_to_parties[\"party\"] = ''\n",
        "    df_speaker_to_parties[\"qid\"] = ''\n",
        "\n",
        "    for i, qid in tqdm(enumerate(qids)):\n",
        "        if qid not in speaker_to_parties:\n",
        "            # Create entry in dict of mappings between politicians and party memberships intervals\n",
        "            speaker_to_parties[qid] = get_party_membership(qid)\n",
        "            df_speaker_to_parties.loc[i, 'qid'] = qid\n",
        "\n",
        "    df_speaker_to_parties.at[list(range(len(qids))), 'party'] = list(speaker_to_parties.values())\n",
        "    df_speaker_to_parties.to_csv(SPEAKER_TO_PARTY_PATH_CSV)\n",
        "\n",
        "\n",
        "def get_politicians_party(df, pol_to_party):\n",
        "    \"\"\"\n",
        "    Select only one party for each politician\n",
        "    \"\"\"\n",
        "    keep_quote = []\n",
        "    for i, sample in tqdm(df.iterrows()):\n",
        "        qid = sample['qids']\n",
        "        new_sample = sample\n",
        "        # Get quote date\n",
        "        quote_date = datetime.strptime(new_sample['quoteID'][:7], '%Y-%m')\n",
        "        # Get a politician parties (nan may be encoutered)\n",
        "        try:\n",
        "            pol_parties = ast.literal_eval(pol_to_party.loc[qid, 'party'])\n",
        "        except:\n",
        "            pol_parties = []\n",
        "        tmp = []\n",
        "        # Select the party membership interval corresponding to the quote date\n",
        "        for p in pol_parties:\n",
        "            try:\n",
        "                if datetime.strptime(*infer_format(p[1])) <= quote_date < datetime.strptime(*infer_format(p[2])):\n",
        "                    tmp.append(p[0])\n",
        "            except:\n",
        "                pass\n",
        "\n",
        "        new_sample['party'] = tmp\n",
        "        if len(new_sample['party']) == 0:\n",
        "            keep_quote.append(False)\n",
        "            continue\n",
        "        # If multiple parties found take the last one\n",
        "        if len(new_sample['party']) > 1:\n",
        "            new_sample['party'] = new_sample['party'][-1]\n",
        "        keep_quote.append(True)\n",
        "            \n",
        "    return keep_quote\n",
        "\n",
        "\n",
        "def get_politicians_entire_data(year, wiki_politicians, proba_threshold=0.6, sub_samples=None):\n",
        "    # Given a year, parses the Quotebank data and creates a zip containing\n",
        "    # the quotes of politicians that belong to a party from that year.\n",
        "\n",
        "    to_remove_keys = ('numOccurrences', 'phase', 'urls', 'date', 'probas')\n",
        "    path_to_out = QUOTES_BY_YEAR[year]\n",
        "    path_to_file = f'/content/drive/MyDrive/Quotebank/quotes-{year}.json.bz2'\n",
        "    with bz2.open(path_to_file, 'rb') as s_file:\n",
        "        with bz2.open(path_to_out, 'wb') as d_file:\n",
        "            for i, instance in tqdm(enumerate(s_file)):\n",
        "                if sub_samples is not None and i > sub_samples:\n",
        "                    break\n",
        "                # Load a sample.\n",
        "                instance = json.loads(instance)\n",
        "                # If there is un unknown speaker with the highest probability, \n",
        "                # therefore no qids or the attributed speaker has a lower\n",
        "                # probability than a threshold, then pass. Also keep only politicians\n",
        "                # with a single qid, to be sure that he is the one who said the quote\n",
        "                if len(instance['qids']) == 0 or float(instance['probas'][0][1]) < proba_threshold \\\n",
        "                or len(instance['qids']) > 1:\n",
        "                    continue\n",
        "                # Remove unnecessary keys\n",
        "                for key in to_remove_keys:\n",
        "                    instance.pop(key, None)\n",
        "                qids = instance['qids'].copy()\n",
        "    \n",
        "                # Get corresponding wiki_politicians sample for the specific qid in quotebank\n",
        "                # This happens only if quotebank speaker is politician in a party\n",
        "                try:\n",
        "                    # wikidata_sample = pd.DataFrame(wiki_politicians.loc[qid]).T\n",
        "                    wikidata_sample = wiki_politicians.loc[qid]\n",
        "                except KeyError:\n",
        "                    continue\n",
        "                # Replace qid for politcian\n",
        "                instance['qids'] = qid\n",
        "                # Merge quotebank sample with wikidata sample\n",
        "                instance['party'] = wikidata_sample['party']\n",
        "                instance['party_qcodes'] = wikidata_sample['party_qcodes']\n",
        "                # Write to file\n",
        "                d_file.write((json.dumps(instance)+'\\n').encode('utf-8'))"
      ],
      "execution_count": 75,
      "outputs": []
    },
    {
      "cell_type": "markdown",
      "metadata": {
        "id": "cU6sRkUeMYRc"
      },
      "source": [
        "### Get wikidata politicians \n",
        "(FILE ALREADY CREATED)"
      ]
    },
    {
      "cell_type": "code",
      "metadata": {
        "id": "Zt0hEOffX_DG"
      },
      "source": [
        "# Mapping between wikidata q codes and their labels\n",
        "q_codes_labels = pd.read_csv(WIKIDATA_LABELS_PATH, compression='bz2', index_col='QID')"
      ],
      "execution_count": 46,
      "outputs": []
    },
    {
      "cell_type": "code",
      "metadata": {
        "colab": {
          "base_uri": "https://localhost:8080/",
          "height": 172
        },
        "id": "UNP8BIuwY33k",
        "outputId": "59a46abf-8a7e-465b-854d-62ec2d232e34"
      },
      "source": [
        "q_codes_labels.head(3)"
      ],
      "execution_count": 47,
      "outputs": [
        {
          "output_type": "execute_result",
          "data": {
            "text/html": [
              "<div>\n",
              "<style scoped>\n",
              "    .dataframe tbody tr th:only-of-type {\n",
              "        vertical-align: middle;\n",
              "    }\n",
              "\n",
              "    .dataframe tbody tr th {\n",
              "        vertical-align: top;\n",
              "    }\n",
              "\n",
              "    .dataframe thead th {\n",
              "        text-align: right;\n",
              "    }\n",
              "</style>\n",
              "<table border=\"1\" class=\"dataframe\">\n",
              "  <thead>\n",
              "    <tr style=\"text-align: right;\">\n",
              "      <th></th>\n",
              "      <th>Label</th>\n",
              "      <th>Description</th>\n",
              "    </tr>\n",
              "    <tr>\n",
              "      <th>QID</th>\n",
              "      <th></th>\n",
              "      <th></th>\n",
              "    </tr>\n",
              "  </thead>\n",
              "  <tbody>\n",
              "    <tr>\n",
              "      <th>Q31</th>\n",
              "      <td>Belgium</td>\n",
              "      <td>country in western Europe</td>\n",
              "    </tr>\n",
              "    <tr>\n",
              "      <th>Q45</th>\n",
              "      <td>Portugal</td>\n",
              "      <td>country in southwestern Europe</td>\n",
              "    </tr>\n",
              "    <tr>\n",
              "      <th>Q75</th>\n",
              "      <td>Internet</td>\n",
              "      <td>global system of connected computer networks</td>\n",
              "    </tr>\n",
              "  </tbody>\n",
              "</table>\n",
              "</div>"
            ],
            "text/plain": [
              "        Label                                   Description\n",
              "QID                                                        \n",
              "Q31   Belgium                     country in western Europe\n",
              "Q45  Portugal                country in southwestern Europe\n",
              "Q75  Internet  global system of connected computer networks"
            ]
          },
          "metadata": {},
          "execution_count": 47
        }
      ]
    },
    {
      "cell_type": "code",
      "metadata": {
        "colab": {
          "base_uri": "https://localhost:8080/",
          "height": 189
        },
        "id": "t8lM2huGIPcH",
        "outputId": "e3052e73-fd26-4c14-8812-178c048224c7"
      },
      "source": [
        "# Read wikidata .parquet file into a dataframe\n",
        "wikidata = pd.read_parquet(WIKIDATA_PATH, engine='pyarrow').set_index('id')\n",
        "party_qcodes = wikidata['party']\n",
        "# Map qcodes to labels\n",
        "wikidata = wikidata[WIKIDATA_QCODES_COL].progress_applymap(lambda lst: convert_qcodes(lst, q_codes_labels))\n",
        "wikidata['party_qcodes'] = party_qcodes.values\n",
        "wikidata.head(3)"
      ],
      "execution_count": null,
      "outputs": [
        {
          "name": "stderr",
          "output_type": "stream",
          "text": [
            "100%|██████████| 18111962/18111962 [24:31<00:00, 12307.74it/s] \n"
          ]
        },
        {
          "data": {
            "text/html": [
              "<div>\n",
              "<style scoped>\n",
              "    .dataframe tbody tr th:only-of-type {\n",
              "        vertical-align: middle;\n",
              "    }\n",
              "\n",
              "    .dataframe tbody tr th {\n",
              "        vertical-align: top;\n",
              "    }\n",
              "\n",
              "    .dataframe thead th {\n",
              "        text-align: right;\n",
              "    }\n",
              "</style>\n",
              "<table border=\"1\" class=\"dataframe\">\n",
              "  <thead>\n",
              "    <tr style=\"text-align: right;\">\n",
              "      <th></th>\n",
              "      <th>occupation</th>\n",
              "      <th>party</th>\n",
              "    </tr>\n",
              "    <tr>\n",
              "      <th>id</th>\n",
              "      <th></th>\n",
              "      <th></th>\n",
              "    </tr>\n",
              "  </thead>\n",
              "  <tbody>\n",
              "    <tr>\n",
              "      <th>Q23</th>\n",
              "      <td>[politician, military officer, farmer, cartogr...</td>\n",
              "      <td>[independent politician]</td>\n",
              "    </tr>\n",
              "    <tr>\n",
              "      <th>Q42</th>\n",
              "      <td>[playwright, screenwriter, novelist, children'...</td>\n",
              "      <td>None</td>\n",
              "    </tr>\n",
              "    <tr>\n",
              "      <th>Q1868</th>\n",
              "      <td>[writer, lawyer, librarian, information scient...</td>\n",
              "      <td>None</td>\n",
              "    </tr>\n",
              "  </tbody>\n",
              "</table>\n",
              "</div>"
            ],
            "text/plain": [
              "                                              occupation                     party\n",
              "id                                                                                \n",
              "Q23    [politician, military officer, farmer, cartogr...  [independent politician]\n",
              "Q42    [playwright, screenwriter, novelist, children'...                      None\n",
              "Q1868  [writer, lawyer, librarian, information scient...                      None"
            ]
          },
          "execution_count": 11,
          "metadata": {},
          "output_type": "execute_result"
        }
      ]
    },
    {
      "cell_type": "code",
      "metadata": {
        "colab": {
          "base_uri": "https://localhost:8080/"
        },
        "id": "7d96jOBP0vVx",
        "outputId": "e6b0a1fd-4946-4d4a-811f-96beb1ac8bbe"
      },
      "source": [
        "# Total entries in wikidata\n",
        "wikidata.shape"
      ],
      "execution_count": null,
      "outputs": [
        {
          "data": {
            "text/plain": [
              "(9055981, 3)"
            ]
          },
          "execution_count": 16,
          "metadata": {},
          "output_type": "execute_result"
        }
      ]
    },
    {
      "cell_type": "code",
      "metadata": {
        "colab": {
          "base_uri": "https://localhost:8080/",
          "height": 172
        },
        "id": "OCa2tEET0IJ4",
        "outputId": "cb3f95d7-7fe7-421c-f4b4-d81ab5fca45c"
      },
      "source": [
        "# Keep only politicians\n",
        "wikidata_politicians = wikidata.loc[wikidata['occupation'].apply(lambda lst: 'politician' in str(lst))]\n",
        "wikidata_politicians.head(3)"
      ],
      "execution_count": null,
      "outputs": [
        {
          "data": {
            "text/html": [
              "<div>\n",
              "<style scoped>\n",
              "    .dataframe tbody tr th:only-of-type {\n",
              "        vertical-align: middle;\n",
              "    }\n",
              "\n",
              "    .dataframe tbody tr th {\n",
              "        vertical-align: top;\n",
              "    }\n",
              "\n",
              "    .dataframe thead th {\n",
              "        text-align: right;\n",
              "    }\n",
              "</style>\n",
              "<table border=\"1\" class=\"dataframe\">\n",
              "  <thead>\n",
              "    <tr style=\"text-align: right;\">\n",
              "      <th></th>\n",
              "      <th>occupation</th>\n",
              "      <th>party</th>\n",
              "      <th>party_qcodes</th>\n",
              "    </tr>\n",
              "    <tr>\n",
              "      <th>id</th>\n",
              "      <th></th>\n",
              "      <th></th>\n",
              "      <th></th>\n",
              "    </tr>\n",
              "  </thead>\n",
              "  <tbody>\n",
              "    <tr>\n",
              "      <th>Q23</th>\n",
              "      <td>[politician, military officer, farmer, cartogr...</td>\n",
              "      <td>[independent politician]</td>\n",
              "      <td>[Q327591]</td>\n",
              "    </tr>\n",
              "    <tr>\n",
              "      <th>Q207</th>\n",
              "      <td>[politician, motivational speaker, autobiograp...</td>\n",
              "      <td>[Republican Party]</td>\n",
              "      <td>[Q29468]</td>\n",
              "    </tr>\n",
              "    <tr>\n",
              "      <th>Q368</th>\n",
              "      <td>[military officer, politician]</td>\n",
              "      <td>[independent politician]</td>\n",
              "      <td>[Q327591]</td>\n",
              "    </tr>\n",
              "  </tbody>\n",
              "</table>\n",
              "</div>"
            ],
            "text/plain": [
              "                                             occupation  ... party_qcodes\n",
              "id                                                       ...             \n",
              "Q23   [politician, military officer, farmer, cartogr...  ...    [Q327591]\n",
              "Q207  [politician, motivational speaker, autobiograp...  ...     [Q29468]\n",
              "Q368                     [military officer, politician]  ...    [Q327591]\n",
              "\n",
              "[3 rows x 3 columns]"
            ]
          },
          "execution_count": 15,
          "metadata": {},
          "output_type": "execute_result"
        }
      ]
    },
    {
      "cell_type": "code",
      "metadata": {
        "colab": {
          "base_uri": "https://localhost:8080/"
        },
        "id": "5TTyLwSL0tD7",
        "outputId": "5b1257f3-8b3a-4eac-c99e-521c6ff73122"
      },
      "source": [
        "# Total number of politicians\n",
        "wikidata_politicians.shape"
      ],
      "execution_count": null,
      "outputs": [
        {
          "data": {
            "text/plain": [
              "(659455, 3)"
            ]
          },
          "execution_count": 17,
          "metadata": {},
          "output_type": "execute_result"
        }
      ]
    },
    {
      "cell_type": "code",
      "metadata": {
        "id": "D7OGCaxYze0d"
      },
      "source": [
        "# Save table with wikidata politicians\n",
        "wikidata_politicians.to_csv('/content/drive/MyDrive/wikidata_politicians.csv')"
      ],
      "execution_count": null,
      "outputs": []
    },
    {
      "cell_type": "markdown",
      "metadata": {
        "id": "4Ul1g1t82jgf"
      },
      "source": [
        "### Get quotebank politicians \n",
        "(already made, only for 2018, for analysis purpose)"
      ]
    },
    {
      "cell_type": "code",
      "metadata": {
        "colab": {
          "base_uri": "https://localhost:8080/"
        },
        "id": "_gF9Xdcq4UgO",
        "outputId": "33cc3f5f-0d02-4fd7-925a-90e2a762107c"
      },
      "source": [
        "# Read dataframe with wikidata politicians\n",
        "wikidata_politicians = pd.read_csv(WIKIDATA_POLITICIANS_PATH).set_index('id')\n",
        "# Keep only the ones belonging to a party\n",
        "wikidata_politicians_in_party = wikidata_politicians.loc[~wikidata_politicians['party'].isna()]\n",
        "print(\"There are {} politicians belonging to at least a party in Wikidata !\".format(wikidata_politicians_in_party.shape[0]))"
      ],
      "execution_count": null,
      "outputs": [
        {
          "output_type": "stream",
          "name": "stdout",
          "text": [
            "There are 305302 politicians belonging to at least a party in Wikidata !\n"
          ]
        }
      ]
    },
    {
      "cell_type": "code",
      "metadata": {
        "colab": {
          "base_uri": "https://localhost:8080/"
        },
        "id": "0uyWxMocmevH",
        "outputId": "0bbd280d-0d06-4fd7-b830-083b3a795d41"
      },
      "source": [
        "# Create zipped file for a specific year, with all Quotebank's entries where\n",
        "# the speaker is a politician belonging to at least one party\n",
        "get_politicians_entire_data(YEAR, wikidata_politicians_in_party, proba_threshold=0.6)"
      ],
      "execution_count": null,
      "outputs": [
        {
          "name": "stderr",
          "output_type": "stream",
          "text": [
            "27228451it [1:02:45, 7231.21it/s]\n"
          ]
        }
      ]
    },
    {
      "cell_type": "markdown",
      "metadata": {
        "id": "H03dDj51oeXk"
      },
      "source": [
        "### Code"
      ]
    },
    {
      "cell_type": "code",
      "metadata": {
        "id": "U0n_VLMBYCPL"
      },
      "source": [
        "# Read the Quotebank data just created\n",
        "quotebank_data = pd.read_json(QUOTES_BY_YEAR[YEAR], lines=True)"
      ],
      "execution_count": 48,
      "outputs": []
    },
    {
      "cell_type": "code",
      "metadata": {
        "colab": {
          "base_uri": "https://localhost:8080/"
        },
        "id": "8CO3r0GgD7WU",
        "outputId": "0bb7070e-c583-4ae5-b8d6-f07a0e56bb9c"
      },
      "source": [
        "quotebank_data.shape"
      ],
      "execution_count": 49,
      "outputs": [
        {
          "output_type": "execute_result",
          "data": {
            "text/plain": [
              "(2527083, 6)"
            ]
          },
          "metadata": {},
          "execution_count": 49
        }
      ]
    },
    {
      "cell_type": "code",
      "metadata": {
        "id": "tM4pc10hqT2H"
      },
      "source": [
        "# Replace nan parties (corresponding to when a politician interrupted his political activity)\n",
        "quotebank_data['party'] = quotebank_data['party'].apply(lambda x: x.replace('nan', '\"no_party\"'))"
      ],
      "execution_count": 50,
      "outputs": []
    },
    {
      "cell_type": "code",
      "metadata": {
        "id": "T4GBb_0d_LsP"
      },
      "source": [
        "# Get parties list\n",
        "parties_list = quotebank_data['party'].values"
      ],
      "execution_count": 51,
      "outputs": []
    },
    {
      "cell_type": "code",
      "metadata": {
        "colab": {
          "base_uri": "https://localhost:8080/"
        },
        "id": "Sq2WQB2y_VIh",
        "outputId": "d45544b0-e46b-40ba-ee63-9f59c26a705d"
      },
      "source": [
        "# Map a string representing a list, to a list\n",
        "for i, value in tqdm(enumerate(parties_list)):\n",
        "    try:\n",
        "        parties_list[i] = ast.literal_eval(parties_list[i])\n",
        "    except:\n",
        "        print(parties_list[i])"
      ],
      "execution_count": 52,
      "outputs": [
        {
          "output_type": "stream",
          "name": "stderr",
          "text": [
            "2527083it [00:33, 75813.29it/s]\n"
          ]
        }
      ]
    },
    {
      "cell_type": "markdown",
      "metadata": {
        "id": "UwQ-BGq7FRm6"
      },
      "source": [
        "#### Analysis when a multiple parties per person"
      ]
    },
    {
      "cell_type": "code",
      "metadata": {
        "id": "UFXKa_6PoYdA",
        "colab": {
          "base_uri": "https://localhost:8080/"
        },
        "outputId": "a12e7e3b-ac27-4a7d-b63c-95ddaeb2bc6e"
      },
      "source": [
        "# Number of parties\n",
        "parties_2018 = set(chain.from_iterable(quotebank_data['party'].values))\n",
        "parties_2018.remove('no_party')\n",
        "print(\"Number of parties in year {} is: {}\\n\".format(YEAR, len(parties_2018)))"
      ],
      "execution_count": 53,
      "outputs": [
        {
          "output_type": "stream",
          "name": "stdout",
          "text": [
            "Number of parties in year 2018 is: 2661\n",
            "\n"
          ]
        }
      ]
    },
    {
      "cell_type": "code",
      "metadata": {
        "colab": {
          "base_uri": "https://localhost:8080/",
          "height": 142
        },
        "id": "lryqEOXNwgdD",
        "outputId": "aa5c921f-bf52-4407-9402-abad967c0fd7"
      },
      "source": [
        "# Parties with the most quotes (note that each quote may belong to multiple parties,\n",
        "# as there are speakers belonging to multiple parties over time)\n",
        "parties_quotes_nr = Counter(chain.from_iterable(quotebank_data['party'].values))\n",
        "sorted_parties_quotes_nr = list(sorted(parties_quotes_nr.items(), key=lambda x: x[1], reverse=True))\n",
        "df_sorted_parties_quotes_nr = pd.DataFrame(sorted_parties_quotes_nr, columns=['Party', 'Number of quotes'])\n",
        "df_sorted_parties_quotes_nr.head(3)"
      ],
      "execution_count": 97,
      "outputs": [
        {
          "output_type": "execute_result",
          "data": {
            "text/html": [
              "<div>\n",
              "<style scoped>\n",
              "    .dataframe tbody tr th:only-of-type {\n",
              "        vertical-align: middle;\n",
              "    }\n",
              "\n",
              "    .dataframe tbody tr th {\n",
              "        vertical-align: top;\n",
              "    }\n",
              "\n",
              "    .dataframe thead th {\n",
              "        text-align: right;\n",
              "    }\n",
              "</style>\n",
              "<table border=\"1\" class=\"dataframe\">\n",
              "  <thead>\n",
              "    <tr style=\"text-align: right;\">\n",
              "      <th></th>\n",
              "      <th>Party</th>\n",
              "      <th>Number of quotes</th>\n",
              "    </tr>\n",
              "  </thead>\n",
              "  <tbody>\n",
              "    <tr>\n",
              "      <th>0</th>\n",
              "      <td>Republican Party</td>\n",
              "      <td>878771</td>\n",
              "    </tr>\n",
              "    <tr>\n",
              "      <th>1</th>\n",
              "      <td>Democratic Party</td>\n",
              "      <td>634535</td>\n",
              "    </tr>\n",
              "    <tr>\n",
              "      <th>2</th>\n",
              "      <td>Bharatiya Janata Party</td>\n",
              "      <td>129360</td>\n",
              "    </tr>\n",
              "  </tbody>\n",
              "</table>\n",
              "</div>"
            ],
            "text/plain": [
              "                    Party  Number of quotes\n",
              "0        Republican Party            878771\n",
              "1        Democratic Party            634535\n",
              "2  Bharatiya Janata Party            129360"
            ]
          },
          "metadata": {},
          "execution_count": 97
        }
      ]
    },
    {
      "cell_type": "code",
      "metadata": {
        "id": "PIUE0Alzrqtj",
        "colab": {
          "base_uri": "https://localhost:8080/",
          "height": 203
        },
        "outputId": "dd76ad70-56ea-4e79-ec7c-05cc648b1f0c"
      },
      "source": [
        "# Number of quotes by politician (20 most influential)\n",
        "quotes_by_politician = quotebank_data.groupby('speaker')['quotation'].count()\n",
        "quotes_by_politician = quotes_by_politician.sort_values(ascending=False)\n",
        "df_quotes_by_politician = pd.DataFrame(quotes_by_politician).reset_index().rename(columns={\"quotation\": \"number of quotes\"})\n",
        "df_quotes_by_politician.head(5)"
      ],
      "execution_count": 99,
      "outputs": [
        {
          "output_type": "execute_result",
          "data": {
            "text/html": [
              "<div>\n",
              "<style scoped>\n",
              "    .dataframe tbody tr th:only-of-type {\n",
              "        vertical-align: middle;\n",
              "    }\n",
              "\n",
              "    .dataframe tbody tr th {\n",
              "        vertical-align: top;\n",
              "    }\n",
              "\n",
              "    .dataframe thead th {\n",
              "        text-align: right;\n",
              "    }\n",
              "</style>\n",
              "<table border=\"1\" class=\"dataframe\">\n",
              "  <thead>\n",
              "    <tr style=\"text-align: right;\">\n",
              "      <th></th>\n",
              "      <th>speaker</th>\n",
              "      <th>number of quotes</th>\n",
              "    </tr>\n",
              "  </thead>\n",
              "  <tbody>\n",
              "    <tr>\n",
              "      <th>0</th>\n",
              "      <td>President Donald Trump</td>\n",
              "      <td>68982</td>\n",
              "    </tr>\n",
              "    <tr>\n",
              "      <th>1</th>\n",
              "      <td>President Trump</td>\n",
              "      <td>32700</td>\n",
              "    </tr>\n",
              "    <tr>\n",
              "      <th>2</th>\n",
              "      <td>Narendra Modi</td>\n",
              "      <td>26131</td>\n",
              "    </tr>\n",
              "    <tr>\n",
              "      <th>3</th>\n",
              "      <td>Rahul Gandhi</td>\n",
              "      <td>14228</td>\n",
              "    </tr>\n",
              "    <tr>\n",
              "      <th>4</th>\n",
              "      <td>Benjamin Netanyahu</td>\n",
              "      <td>12681</td>\n",
              "    </tr>\n",
              "  </tbody>\n",
              "</table>\n",
              "</div>"
            ],
            "text/plain": [
              "                  speaker  number of quotes\n",
              "0  President Donald Trump             68982\n",
              "1         President Trump             32700\n",
              "2           Narendra Modi             26131\n",
              "3            Rahul Gandhi             14228\n",
              "4      Benjamin Netanyahu             12681"
            ]
          },
          "metadata": {},
          "execution_count": 99
        }
      ]
    },
    {
      "cell_type": "code",
      "metadata": {
        "id": "umfPJ779nRn3",
        "colab": {
          "base_uri": "https://localhost:8080/",
          "height": 374
        },
        "outputId": "902d3b29-589c-47d6-b2fa-b16ee52451d4"
      },
      "source": [
        "# Number of speakers belonging to each party, if politician belonged to multiple\n",
        "# parties, count him in each of them\n",
        "\n",
        "speakers_parties = quotebank_data.drop_duplicates(subset=['speaker'])['party']\n",
        "\n",
        "party_members = defaultdict(lambda: 0)\n",
        "speakers_parties = speakers_parties.values\n",
        "\n",
        "for parties in tqdm(speakers_parties):\n",
        "    for p in parties:\n",
        "        party_members[p] += 1\n",
        "\n",
        "party_members = list(party_members.items())\n",
        "party_members = sorted(party_members, key=lambda x: x[1], reverse=True)\n",
        "df_party_members = pd.DataFrame(party_members, columns=['Party', 'Members'])\n",
        "df_party_members.head(10)"
      ],
      "execution_count": 56,
      "outputs": [
        {
          "output_type": "stream",
          "name": "stderr",
          "text": [
            "100%|██████████| 36739/36739 [00:00<00:00, 829080.36it/s]\n"
          ]
        },
        {
          "output_type": "execute_result",
          "data": {
            "text/html": [
              "<div>\n",
              "<style scoped>\n",
              "    .dataframe tbody tr th:only-of-type {\n",
              "        vertical-align: middle;\n",
              "    }\n",
              "\n",
              "    .dataframe tbody tr th {\n",
              "        vertical-align: top;\n",
              "    }\n",
              "\n",
              "    .dataframe thead th {\n",
              "        text-align: right;\n",
              "    }\n",
              "</style>\n",
              "<table border=\"1\" class=\"dataframe\">\n",
              "  <thead>\n",
              "    <tr style=\"text-align: right;\">\n",
              "      <th></th>\n",
              "      <th>Party</th>\n",
              "      <th>Members</th>\n",
              "    </tr>\n",
              "  </thead>\n",
              "  <tbody>\n",
              "    <tr>\n",
              "      <th>0</th>\n",
              "      <td>Democratic Party</td>\n",
              "      <td>6563</td>\n",
              "    </tr>\n",
              "    <tr>\n",
              "      <th>1</th>\n",
              "      <td>Republican Party</td>\n",
              "      <td>6180</td>\n",
              "    </tr>\n",
              "    <tr>\n",
              "      <th>2</th>\n",
              "      <td>Bharatiya Janata Party</td>\n",
              "      <td>995</td>\n",
              "    </tr>\n",
              "    <tr>\n",
              "      <th>3</th>\n",
              "      <td>Labour Party</td>\n",
              "      <td>937</td>\n",
              "    </tr>\n",
              "    <tr>\n",
              "      <th>4</th>\n",
              "      <td>Indian National Congress</td>\n",
              "      <td>814</td>\n",
              "    </tr>\n",
              "    <tr>\n",
              "      <th>5</th>\n",
              "      <td>Conservative Party</td>\n",
              "      <td>689</td>\n",
              "    </tr>\n",
              "    <tr>\n",
              "      <th>6</th>\n",
              "      <td>independent politician</td>\n",
              "      <td>521</td>\n",
              "    </tr>\n",
              "    <tr>\n",
              "      <th>7</th>\n",
              "      <td>Australian Labor Party</td>\n",
              "      <td>498</td>\n",
              "    </tr>\n",
              "    <tr>\n",
              "      <th>8</th>\n",
              "      <td>Liberal Party of Canada</td>\n",
              "      <td>385</td>\n",
              "    </tr>\n",
              "    <tr>\n",
              "      <th>9</th>\n",
              "      <td>Christian Democratic Union</td>\n",
              "      <td>341</td>\n",
              "    </tr>\n",
              "  </tbody>\n",
              "</table>\n",
              "</div>"
            ],
            "text/plain": [
              "                        Party  Members\n",
              "0            Democratic Party     6563\n",
              "1            Republican Party     6180\n",
              "2      Bharatiya Janata Party      995\n",
              "3                Labour Party      937\n",
              "4    Indian National Congress      814\n",
              "5          Conservative Party      689\n",
              "6      independent politician      521\n",
              "7      Australian Labor Party      498\n",
              "8     Liberal Party of Canada      385\n",
              "9  Christian Democratic Union      341"
            ]
          },
          "metadata": {},
          "execution_count": 56
        }
      ]
    },
    {
      "cell_type": "markdown",
      "metadata": {
        "id": "PKMRYKiGrAOR"
      },
      "source": [
        "#### Analysis when a single party per person is kept"
      ]
    },
    {
      "cell_type": "code",
      "metadata": {
        "id": "Zqab4OFOrOYP"
      },
      "source": [
        "# Get one party for each speaker and save dataframe to csv\n",
        "quotebank_qids = quotebank_data['qids'].unique()\n",
        "map_speaker_to_party(quotebank_qids)"
      ],
      "execution_count": null,
      "outputs": []
    },
    {
      "cell_type": "code",
      "metadata": {
        "colab": {
          "base_uri": "https://localhost:8080/",
          "height": 234
        },
        "id": "UQ8135i6WHn5",
        "outputId": "e62f3f55-c203-4b22-8fcc-43802c80577f"
      },
      "source": [
        "# Read dataframe with mapping between speaker and parties\n",
        "politician_to_party = pd.read_csv(SPEAKER_TO_PARTY_PATH_CSV).drop(columns='Unnamed: 0').set_index('qid')\n",
        "politician_to_party.head(5)"
      ],
      "execution_count": 57,
      "outputs": [
        {
          "output_type": "execute_result",
          "data": {
            "text/html": [
              "<div>\n",
              "<style scoped>\n",
              "    .dataframe tbody tr th:only-of-type {\n",
              "        vertical-align: middle;\n",
              "    }\n",
              "\n",
              "    .dataframe tbody tr th {\n",
              "        vertical-align: top;\n",
              "    }\n",
              "\n",
              "    .dataframe thead th {\n",
              "        text-align: right;\n",
              "    }\n",
              "</style>\n",
              "<table border=\"1\" class=\"dataframe\">\n",
              "  <thead>\n",
              "    <tr style=\"text-align: right;\">\n",
              "      <th></th>\n",
              "      <th>party</th>\n",
              "    </tr>\n",
              "    <tr>\n",
              "      <th>qid</th>\n",
              "      <th></th>\n",
              "    </tr>\n",
              "  </thead>\n",
              "  <tbody>\n",
              "    <tr>\n",
              "      <th>Q919045</th>\n",
              "      <td>[['Lakas Kampi CMD', '+2008-07-31T00:00:00Z', ...</td>\n",
              "    </tr>\n",
              "    <tr>\n",
              "      <th>Q862103</th>\n",
              "      <td>[['Republican Party', '+2008-07-31T00:00:00Z',...</td>\n",
              "    </tr>\n",
              "    <tr>\n",
              "      <th>Q27986907</th>\n",
              "      <td>[['Republican Party', '+2008-07-31T00:00:00Z',...</td>\n",
              "    </tr>\n",
              "    <tr>\n",
              "      <th>Q57892</th>\n",
              "      <td>[[\"People's National Congress Party\", '+2008-0...</td>\n",
              "    </tr>\n",
              "    <tr>\n",
              "      <th>Q1855840</th>\n",
              "      <td>[['Democratic Party', '+2008-07-31T00:00:00Z',...</td>\n",
              "    </tr>\n",
              "  </tbody>\n",
              "</table>\n",
              "</div>"
            ],
            "text/plain": [
              "                                                       party\n",
              "qid                                                         \n",
              "Q919045    [['Lakas Kampi CMD', '+2008-07-31T00:00:00Z', ...\n",
              "Q862103    [['Republican Party', '+2008-07-31T00:00:00Z',...\n",
              "Q27986907  [['Republican Party', '+2008-07-31T00:00:00Z',...\n",
              "Q57892     [[\"People's National Congress Party\", '+2008-0...\n",
              "Q1855840   [['Democratic Party', '+2008-07-31T00:00:00Z',..."
            ]
          },
          "metadata": {},
          "execution_count": 57
        }
      ]
    },
    {
      "cell_type": "code",
      "metadata": {
        "colab": {
          "base_uri": "https://localhost:8080/"
        },
        "id": "wn8dtjPCx3gI",
        "outputId": "fb1c2323-6ecc-46d1-930c-d18d3f2c7c42"
      },
      "source": [
        "# Get a filtering array for forming a new quotebank dataset\n",
        "quotebank_copy = quotebank_data.copy()\n",
        "filtering_array = get_politicians_party(quotebank_copy, politician_to_party)"
      ],
      "execution_count": 77,
      "outputs": [
        {
          "output_type": "stream",
          "name": "stderr",
          "text": [
            "2527083it [13:15, 3174.75it/s]\n"
          ]
        }
      ]
    },
    {
      "cell_type": "code",
      "metadata": {
        "id": "7YIvWpnWC6Y7"
      },
      "source": [
        "# Write dataset to csv file\n",
        "quotebank_data.loc[filtering_array].to_csv(QUOTEBANK_ONE_PARTY)"
      ],
      "execution_count": 91,
      "outputs": []
    },
    {
      "cell_type": "code",
      "metadata": {
        "id": "DFsIIsxmCasw"
      },
      "source": [
        "# Read filtered quotebank dataset\n",
        "quotebank_one_party = pd.read_csv(QUOTEBANK_ONE_PARTY)"
      ],
      "execution_count": 92,
      "outputs": []
    },
    {
      "cell_type": "code",
      "metadata": {
        "colab": {
          "base_uri": "https://localhost:8080/"
        },
        "id": "ZQR9teImFoH8",
        "outputId": "1171b0a0-a345-46f4-e22c-6996078ada6c"
      },
      "source": [
        "# Number of parties\n",
        "parties_2018_one_party = set(chain.from_iterable(quotebank_one_party['party'].values))\n",
        "print(\"Number of parties in year {} is: {}\\n\".format(YEAR, len(parties_2018_one_party)))"
      ],
      "execution_count": 93,
      "outputs": [
        {
          "output_type": "stream",
          "name": "stdout",
          "text": [
            "Number of parties in year 2018 is: 108\n",
            "\n"
          ]
        }
      ]
    },
    {
      "cell_type": "code",
      "metadata": {
        "colab": {
          "base_uri": "https://localhost:8080/",
          "height": 142
        },
        "id": "r9il-0B4GJiu",
        "outputId": "17234952-790f-4b34-c56d-d2838e63508c"
      },
      "source": [
        "# Parties with the most quotes\n",
        "parties_quotes_one_party_nr = Counter(quotebank_one_party['party'].values)\n",
        "sorted_parties_quotes_one_party_nr = list(sorted(parties_quotes_one_party_nr.items(), key=lambda x: x[1], reverse=True))\n",
        "df_sorted_parties_quotes_one_party_nr = pd.DataFrame(sorted_parties_quotes_one_party_nr, columns=['Party', 'Number of quotes'])\n",
        "df_sorted_parties_quotes_one_party_nr.head(3)"
      ],
      "execution_count": 96,
      "outputs": [
        {
          "output_type": "execute_result",
          "data": {
            "text/html": [
              "<div>\n",
              "<style scoped>\n",
              "    .dataframe tbody tr th:only-of-type {\n",
              "        vertical-align: middle;\n",
              "    }\n",
              "\n",
              "    .dataframe tbody tr th {\n",
              "        vertical-align: top;\n",
              "    }\n",
              "\n",
              "    .dataframe thead th {\n",
              "        text-align: right;\n",
              "    }\n",
              "</style>\n",
              "<table border=\"1\" class=\"dataframe\">\n",
              "  <thead>\n",
              "    <tr style=\"text-align: right;\">\n",
              "      <th></th>\n",
              "      <th>Party</th>\n",
              "      <th>Number of quotes</th>\n",
              "    </tr>\n",
              "  </thead>\n",
              "  <tbody>\n",
              "    <tr>\n",
              "      <th>0</th>\n",
              "      <td>['Republican Party']</td>\n",
              "      <td>492497</td>\n",
              "    </tr>\n",
              "    <tr>\n",
              "      <th>1</th>\n",
              "      <td>['Democratic Party']</td>\n",
              "      <td>451112</td>\n",
              "    </tr>\n",
              "    <tr>\n",
              "      <th>2</th>\n",
              "      <td>['Bharatiya Janata Party']</td>\n",
              "      <td>118399</td>\n",
              "    </tr>\n",
              "  </tbody>\n",
              "</table>\n",
              "</div>"
            ],
            "text/plain": [
              "                        Party  Number of quotes\n",
              "0        ['Republican Party']            492497\n",
              "1        ['Democratic Party']            451112\n",
              "2  ['Bharatiya Janata Party']            118399"
            ]
          },
          "metadata": {},
          "execution_count": 96
        }
      ]
    },
    {
      "cell_type": "code",
      "metadata": {
        "colab": {
          "base_uri": "https://localhost:8080/",
          "height": 203
        },
        "id": "BRT2kVLxHaz4",
        "outputId": "139d6ffc-1e8e-4eaf-d39a-b5e4625c6a22"
      },
      "source": [
        "# Number of quotes by politician (20 most influential)\n",
        "quotes_by_politician_one_party = quotebank_one_party.groupby('speaker')['quotation'].count()\n",
        "quotes_by_politician_one_party = quotes_by_politician_one_party.sort_values(ascending=False)\n",
        "df_quotes_by_politician_one_party = pd.DataFrame(quotes_by_politician_one_party).reset_index().rename(columns={\"quotation\": \"number of quotes\"})\n",
        "df_quotes_by_politician_one_party.head(5)"
      ],
      "execution_count": 98,
      "outputs": [
        {
          "output_type": "execute_result",
          "data": {
            "text/html": [
              "<div>\n",
              "<style scoped>\n",
              "    .dataframe tbody tr th:only-of-type {\n",
              "        vertical-align: middle;\n",
              "    }\n",
              "\n",
              "    .dataframe tbody tr th {\n",
              "        vertical-align: top;\n",
              "    }\n",
              "\n",
              "    .dataframe thead th {\n",
              "        text-align: right;\n",
              "    }\n",
              "</style>\n",
              "<table border=\"1\" class=\"dataframe\">\n",
              "  <thead>\n",
              "    <tr style=\"text-align: right;\">\n",
              "      <th></th>\n",
              "      <th>speaker</th>\n",
              "      <th>number of quotes</th>\n",
              "    </tr>\n",
              "  </thead>\n",
              "  <tbody>\n",
              "    <tr>\n",
              "      <th>0</th>\n",
              "      <td>President Donald Trump</td>\n",
              "      <td>68982</td>\n",
              "    </tr>\n",
              "    <tr>\n",
              "      <th>1</th>\n",
              "      <td>President Trump</td>\n",
              "      <td>32700</td>\n",
              "    </tr>\n",
              "    <tr>\n",
              "      <th>2</th>\n",
              "      <td>Narendra Modi</td>\n",
              "      <td>26131</td>\n",
              "    </tr>\n",
              "    <tr>\n",
              "      <th>3</th>\n",
              "      <td>Rahul Gandhi</td>\n",
              "      <td>14228</td>\n",
              "    </tr>\n",
              "    <tr>\n",
              "      <th>4</th>\n",
              "      <td>Benjamin Netanyahu</td>\n",
              "      <td>12681</td>\n",
              "    </tr>\n",
              "  </tbody>\n",
              "</table>\n",
              "</div>"
            ],
            "text/plain": [
              "                  speaker  number of quotes\n",
              "0  President Donald Trump             68982\n",
              "1         President Trump             32700\n",
              "2           Narendra Modi             26131\n",
              "3            Rahul Gandhi             14228\n",
              "4      Benjamin Netanyahu             12681"
            ]
          },
          "metadata": {},
          "execution_count": 98
        }
      ]
    },
    {
      "cell_type": "markdown",
      "metadata": {
        "id": "xjn5d946aUnc"
      },
      "source": [
        "## BERT"
      ]
    },
    {
      "cell_type": "code",
      "metadata": {
        "id": "wW893RJ6aX7W",
        "colab": {
          "base_uri": "https://localhost:8080/",
          "height": 450,
          "referenced_widgets": [
            "9e4ab462d46e4be0902022f51e5e641f",
            "e5992ce35d004681840c171a4438cf51",
            "6cabcb17fb4542d9bbd5799fd4dbe3dd",
            "96d7f239fec8475d83473cf08c1a8360",
            "20bfa8f59c5347b687def2c254991b9c",
            "e04747e09f0e4429834ee48d39b2913c",
            "553b084f761c4983a2d1c41825872532",
            "4773a051d7444fed82b0a3cdda6471ba",
            "0aab22b1747c451d8294c97d0ba63437",
            "91f2258f5b6a4df28fcbeaa2bba39d80",
            "b0651c2051c04a128a2d26a807c53f28",
            "d5460bb5a90045d090e6cc66e6efd8e7",
            "de0f92171e01476a916957ad16e5caa6",
            "74c3eeffb23f4ffc8772f2fb1f9f04e0",
            "7f00d1de5a8345b3a80b891d11d91624",
            "b259bfca45984a17bee65c096414aecc",
            "d363f66ed7844cafa52608b74fd5593b",
            "88cb8eb0b7ca45a1838a8a8ccef28d55",
            "0a7f5d1622104c7fb1625a5b0d9d0cd0",
            "547833a77cc349a58dd556de1deae961",
            "32c2d7b6422441438adf369ac01db9b9",
            "533f3578eef949c1a3d2310db286fc16",
            "7586e9dfa9ba4e16ada52c8f70ca5a3f",
            "6323d4ca46ae4fd78271f8a44223c404",
            "4571b7270b3a435cb6053f75ef96bd90",
            "a8ba7e9d3fc848dcafab1f7ad0810d2c",
            "08bfd6939a1640adb74701b7f5cef2b7",
            "6e1436aeb2524c1f81654f2e3dd2dd4c",
            "0425bd2699d742b3a6b281b67cecc67c",
            "698d8bb351eb489aa76dd4be9653e0dc",
            "7dff46a9ddcf45a98605bdefe5989a5d",
            "4b32b5949aa44e31acdc4aa698a41b4e",
            "0e0a52e708d848f38efc71a3a9cd357f",
            "177f7f0ee47945f2ba12c96572910622",
            "3beeffc2daf249a48dc4aba4d44aad1e",
            "9d74520e405148518f051afd476aa19e",
            "7d689e33c77c422c8d08402e0bcdba60",
            "9bf2dea293e549cf94314a1a221b79db",
            "d72c516d9cf64b48ad6cb5dc2a418432",
            "bb52e536be38497cacc545a201008757",
            "d84d22dea3e94263aee1b7c3f0fd3c08",
            "9e143718970d4049ad37314584e08698",
            "ec043b95198a49649817b46bed190785",
            "1890f11286de45bdbbac7d8d70682799",
            "fbd6b0dc42ce40038b4713f646e9f99f",
            "2498ce40f20546dc94e766ca4891ef4c",
            "7ab102ed02454c4ab1212e1d67ce2b90",
            "d86fbb1f3625481aa89c79fd4237d164",
            "21c172a20f1044dda565dbbd1d026131",
            "59d202ca8c9243d79ea3b55b98b9cb8a",
            "5be2637b1e77444ab272d3aca6200bee",
            "f03b8a34af4b426e9df64ceee2d59b7a",
            "51a89301bd87418fa587be0fee71c0ee",
            "e1b8672305ff412487ea23dd093c27f0",
            "da1ce989cde44ef28f72f2d7aacf0012",
            "d6f44d14d6ab47008fc1717eb6ba7f5f",
            "3d82a0d6865241e4be96f2f7c76aa2de",
            "40896815a6fe4a23b0341fcc08e20895",
            "0e2f63a1dc814200b37ddc26827e9c6b",
            "15f722b8bb534e7faafbd5a3db592925",
            "c4d09b69cc424bc1b519189b57b548fc",
            "3f9cedbdd6ff4508bd92c50a66106a9a",
            "064357adf17a4ae18ab19dd6254d3f9c",
            "f66d3732db54439dae9470f0af26e66f",
            "166dbf3c9c70411684fed9ddf2fb206f",
            "5955102f584b4bce8235ad293dbba745",
            "2ab90e243afe404f929730e4f53be02f",
            "93320a8bcae14075a6ebb960af8d2b83",
            "6f91c362ead84081b9595eb64540ac94",
            "e198509c8f5f4757a79cb8bbd74bee92",
            "cdc40242804f415ab384c7fc9baba673",
            "eeced8c197a14a22a397503b83a3ac0a",
            "b1217dd5c27a46b78eb58ad897730b0d",
            "3c167bed3cf0486aa56b706ef808219a",
            "0a330e9c40c64377ad8efc44f330edf6",
            "db8a7e3c9d0548d5a650882f13bd5417",
            "00674c1fe0064f68969f4553611c9e5e",
            "7ed07e55fa74455b89e1958edc2d7a92",
            "782cd79a079c4799bb304d371c8b4a34",
            "4db08b16416f4f1882fdb815d8daaae6",
            "67b51399e1a04c0497af7a7b4d1c4d60",
            "2a146b4d40e5486e94541510882cfdd6",
            "b351fb1416dc40539515563e42194569",
            "9d41a5971aef4343a89afcff606cf4b1",
            "588bff708b6d4f1fa2e75b965602343a",
            "25debf63b15a4c9593b1481563f7263b",
            "fd5cb942b184403990476e1713d0eff0",
            "d8ab68b8fb1741eab364c47308f5a9c3",
            "8bd6e40be1a443d187f1d07d9e19e81b",
            "1a382e1f6462432fa26721dd701c8d29",
            "c3b7b74a9d6e48c8b7bd0ed8adb071e0",
            "34d3f136ac684df18f2ef3240af485b1",
            "5ab979687a2d4d8eb170f9e4ea68430e",
            "27220de8776544bf82fd27ed8e79f8b1",
            "cb2a522b450742f98daa130b17d118a3",
            "d8b3828ba5a14bdcbeed5ec2aec968cb",
            "dad738e5663145ac8ec70f0dda15d093",
            "b2759632305045b392c321cd19b686ae",
            "83a22675fa134767bd75013079c4f214",
            "8241c860d8d74c48be35fca15b38e88c",
            "4d38d6dc0cc84d47a94263d40719eee9",
            "8719198571884d9094f6e7db5a548ec4",
            "a9aca72f84194d578fb6c4055502de10",
            "9707918a8017456d842ec711c8a0d63a",
            "dc27d0cc76894f06bf5acf34898d7749",
            "91d2c13fc9c746b08b1d11120a244156",
            "6e33051b04e0418e9f3652ab7c23450a",
            "5c4f2e00115341b48ba5f5e30c701de9",
            "a532bd54cc1e4a168547540b0433f0ba",
            "a834b4ff91de4a4ea7011cb0ead1a16e",
            "232d63f26297480d81a36874aacd6c90",
            "dbb88c0306dc4ac69dbd682b61b9d52b",
            "7d5a58d0033442a8aaf4c0e4ac8385b4",
            "2ed90a7421ad47f180f48acf607d1ec5",
            "19938bbe280148709060f23f3ca45e71",
            "f27efa2e18fb49f0b809bf67e05761cc",
            "571ac7ec112f4cafb12ac5213701e450",
            "83e93f7654f54e0c944b6d4fffe8a140",
            "939221a75ab547a5adb974a707be5b77",
            "bb6e11a6265e4751826874799a9f8d2b",
            "ece1c2e4fdb64f1586816fd0b874748b",
            "97f2263ab4204164ae2b38cca64de3ed",
            "77e20deae03a478abd89d86478fde44c",
            "ecf5168e9d57459db5a70865851fd8a4",
            "32c6756e45cb4b3da360f361198f2d49",
            "828abb643a724cfb92257a2935cc38d1",
            "cdb1645cd13040d3b57c655b2f250cfe",
            "4239707cb7c44dd9a52333f5abe5e952",
            "f19382c7c547446fa3122689d58ae3e6",
            "a0607fd2030e4abe9792b66e49bc1fff",
            "fcf5695e7e5e4484915e7008f324b638",
            "3835bf05f50340a293261b1c7fbacce1",
            "c6740c640c0040a1bd7ed3a674e1f3b1",
            "47737933f2004dd68f067adac5744bf5",
            "283cd92433484b25896b93b12defc52d",
            "a5d70717615e435aa0211bf1ad1df961",
            "107a1f5f06eb4f5ca3e6457f9e9e3415",
            "f1d0d0631ed946d3b9817b058c102be9",
            "ae04d25b8cea46a7897f4f95f4ba5294",
            "da4f5a80a1eb4c0b8b14a3f60aa9ac3e",
            "501b3bad41bb4663a90bc21d07d16e99",
            "4a76506540134bf38328b7808892dd5a",
            "149b00efb35c4e0d82afba0d324f0653"
          ]
        },
        "outputId": "14d8f8e8-0b45-4459-aa56-306adb8d3973"
      },
      "source": [
        "# Check cuda runtime and set model\n",
        "device = torch.device(\"cuda\" if torch.cuda.is_available() else \"cpu\")\n",
        "model = SentenceTransformer('bert-base-nli-mean-tokens')\n",
        "print(device)"
      ],
      "execution_count": 102,
      "outputs": [
        {
          "output_type": "display_data",
          "data": {
            "application/vnd.jupyter.widget-view+json": {
              "model_id": "9e4ab462d46e4be0902022f51e5e641f",
              "version_minor": 0,
              "version_major": 2
            },
            "text/plain": [
              "Downloading:   0%|          | 0.00/391 [00:00<?, ?B/s]"
            ]
          },
          "metadata": {}
        },
        {
          "output_type": "display_data",
          "data": {
            "application/vnd.jupyter.widget-view+json": {
              "model_id": "d5460bb5a90045d090e6cc66e6efd8e7",
              "version_minor": 0,
              "version_major": 2
            },
            "text/plain": [
              "Downloading:   0%|          | 0.00/3.95k [00:00<?, ?B/s]"
            ]
          },
          "metadata": {}
        },
        {
          "output_type": "display_data",
          "data": {
            "application/vnd.jupyter.widget-view+json": {
              "model_id": "7586e9dfa9ba4e16ada52c8f70ca5a3f",
              "version_minor": 0,
              "version_major": 2
            },
            "text/plain": [
              "Downloading:   0%|          | 0.00/2.00 [00:00<?, ?B/s]"
            ]
          },
          "metadata": {}
        },
        {
          "output_type": "display_data",
          "data": {
            "application/vnd.jupyter.widget-view+json": {
              "model_id": "177f7f0ee47945f2ba12c96572910622",
              "version_minor": 0,
              "version_major": 2
            },
            "text/plain": [
              "Downloading:   0%|          | 0.00/625 [00:00<?, ?B/s]"
            ]
          },
          "metadata": {}
        },
        {
          "output_type": "display_data",
          "data": {
            "application/vnd.jupyter.widget-view+json": {
              "model_id": "fbd6b0dc42ce40038b4713f646e9f99f",
              "version_minor": 0,
              "version_major": 2
            },
            "text/plain": [
              "Downloading:   0%|          | 0.00/122 [00:00<?, ?B/s]"
            ]
          },
          "metadata": {}
        },
        {
          "output_type": "display_data",
          "data": {
            "application/vnd.jupyter.widget-view+json": {
              "model_id": "d6f44d14d6ab47008fc1717eb6ba7f5f",
              "version_minor": 0,
              "version_major": 2
            },
            "text/plain": [
              "Downloading:   0%|          | 0.00/229 [00:00<?, ?B/s]"
            ]
          },
          "metadata": {}
        },
        {
          "output_type": "display_data",
          "data": {
            "application/vnd.jupyter.widget-view+json": {
              "model_id": "2ab90e243afe404f929730e4f53be02f",
              "version_minor": 0,
              "version_major": 2
            },
            "text/plain": [
              "Downloading:   0%|          | 0.00/438M [00:00<?, ?B/s]"
            ]
          },
          "metadata": {}
        },
        {
          "output_type": "display_data",
          "data": {
            "application/vnd.jupyter.widget-view+json": {
              "model_id": "7ed07e55fa74455b89e1958edc2d7a92",
              "version_minor": 0,
              "version_major": 2
            },
            "text/plain": [
              "Downloading:   0%|          | 0.00/53.0 [00:00<?, ?B/s]"
            ]
          },
          "metadata": {}
        },
        {
          "output_type": "display_data",
          "data": {
            "application/vnd.jupyter.widget-view+json": {
              "model_id": "8bd6e40be1a443d187f1d07d9e19e81b",
              "version_minor": 0,
              "version_major": 2
            },
            "text/plain": [
              "Downloading:   0%|          | 0.00/112 [00:00<?, ?B/s]"
            ]
          },
          "metadata": {}
        },
        {
          "output_type": "display_data",
          "data": {
            "application/vnd.jupyter.widget-view+json": {
              "model_id": "8241c860d8d74c48be35fca15b38e88c",
              "version_minor": 0,
              "version_major": 2
            },
            "text/plain": [
              "Downloading:   0%|          | 0.00/466k [00:00<?, ?B/s]"
            ]
          },
          "metadata": {}
        },
        {
          "output_type": "display_data",
          "data": {
            "application/vnd.jupyter.widget-view+json": {
              "model_id": "232d63f26297480d81a36874aacd6c90",
              "version_minor": 0,
              "version_major": 2
            },
            "text/plain": [
              "Downloading:   0%|          | 0.00/399 [00:00<?, ?B/s]"
            ]
          },
          "metadata": {}
        },
        {
          "output_type": "display_data",
          "data": {
            "application/vnd.jupyter.widget-view+json": {
              "model_id": "97f2263ab4204164ae2b38cca64de3ed",
              "version_minor": 0,
              "version_major": 2
            },
            "text/plain": [
              "Downloading:   0%|          | 0.00/232k [00:00<?, ?B/s]"
            ]
          },
          "metadata": {}
        },
        {
          "output_type": "display_data",
          "data": {
            "application/vnd.jupyter.widget-view+json": {
              "model_id": "c6740c640c0040a1bd7ed3a674e1f3b1",
              "version_minor": 0,
              "version_major": 2
            },
            "text/plain": [
              "Downloading:   0%|          | 0.00/190 [00:00<?, ?B/s]"
            ]
          },
          "metadata": {}
        },
        {
          "output_type": "stream",
          "name": "stdout",
          "text": [
            "cpu\n"
          ]
        }
      ]
    },
    {
      "cell_type": "markdown",
      "metadata": {
        "id": "JdIoyNZzIOsu"
      },
      "source": [
        "### Multiple parties per speaker"
      ]
    },
    {
      "cell_type": "code",
      "metadata": {
        "id": "KcipuJmjYj-G"
      },
      "source": [
        "# Get a subset of quotebank\n",
        "quotebank_subset = quotebank_data[:1000]"
      ],
      "execution_count": 122,
      "outputs": []
    },
    {
      "cell_type": "code",
      "metadata": {
        "colab": {
          "base_uri": "https://localhost:8080/",
          "height": 102,
          "referenced_widgets": [
            "4b6be606eaad4fe19525210685bb20d3",
            "6448ff6d3a1d455283e2d35f3010edbd",
            "933e3458ff0c413da947403bd8386327",
            "2f893be8ad61401d99e19794f333e9aa",
            "8ee2fca575954f56a6a0351c17def8b3",
            "328aec5ec82841d0be9b430c8501eb29",
            "786dc6551a1d47e3ab71d4fb5767caa6",
            "ed10e7f095034cdba1e3e02295945c6d",
            "a6014107d7414fe7b0bf57e4f160c291",
            "63d4f15a3e5e4d7c860036a8f4374fc3",
            "c0e6ff139aaa4b89a8879c4fe149fa02"
          ]
        },
        "id": "mWvJk0788JDf",
        "outputId": "86c59f1b-efe9-43f0-ced1-3aeb74fd5d45"
      },
      "source": [
        "# Find sentence embeddings\n",
        "sentence_embeddings = model.encode(list(quotebank_subset['quotation']), show_progress_bar=True)\n",
        "# Reduce dimensionality of embeddings\n",
        "umap_embeddings = umap.UMAP(n_neighbors=50, n_components=9, metric='cosine').fit_transform(sentence_embeddings)"
      ],
      "execution_count": 123,
      "outputs": [
        {
          "output_type": "display_data",
          "data": {
            "application/vnd.jupyter.widget-view+json": {
              "model_id": "4b6be606eaad4fe19525210685bb20d3",
              "version_minor": 0,
              "version_major": 2
            },
            "text/plain": [
              "Batches:   0%|          | 0/32 [00:00<?, ?it/s]"
            ]
          },
          "metadata": {}
        },
        {
          "output_type": "stream",
          "name": "stderr",
          "text": [
            "/usr/local/lib/python3.7/dist-packages/numba/np/ufunc/parallel.py:363: NumbaWarning: The TBB threading layer requires TBB version 2019.5 or later i.e., TBB_INTERFACE_VERSION >= 11005. Found TBB_INTERFACE_VERSION = 9107. The TBB threading layer is disabled.\n",
            "  warnings.warn(problem)\n"
          ]
        }
      ]
    },
    {
      "cell_type": "code",
      "metadata": {
        "id": "RCsRvnNs9ct-"
      },
      "source": [
        "# Cluster documents\n",
        "cluster = hdbscan.HDBSCAN(min_cluster_size=10, metric='euclidean', cluster_selection_method='eom').fit(umap_embeddings)"
      ],
      "execution_count": 124,
      "outputs": []
    },
    {
      "cell_type": "code",
      "metadata": {
        "colab": {
          "base_uri": "https://localhost:8080/",
          "height": 714
        },
        "id": "OdG2Q0Mf9-3T",
        "outputId": "74ff048d-ef68-4c98-9706-dccb3cafe907"
      },
      "source": [
        "# Prepare data\n",
        "umap_data = umap.UMAP(n_neighbors=50, n_components=2, min_dist=0.0, metric='cosine').fit_transform(sentence_embeddings)\n",
        "result = pd.DataFrame(umap_data, columns=['x', 'y'])\n",
        "result['labels'] = cluster.labels_\n",
        "quotebank_subset['labels'] = cluster.labels_\n",
        "\n",
        "# Visualize clusters\n",
        "fig, ax = plt.subplots(figsize=(20, 10))\n",
        "outliers = result.loc[result.labels == -1, :]\n",
        "clustered = result.loc[result.labels != -1, :]\n",
        "plt.scatter(outliers.x, outliers.y, color='#BDBDBD', s=0.005)\n",
        "plt.scatter(clustered.x, clustered.y, c=clustered.labels, s=30, cmap='hsv_r')\n",
        "plt.colorbar()"
      ],
      "execution_count": 125,
      "outputs": [
        {
          "output_type": "stream",
          "name": "stderr",
          "text": [
            "/usr/local/lib/python3.7/dist-packages/ipykernel_launcher.py:5: SettingWithCopyWarning: \n",
            "A value is trying to be set on a copy of a slice from a DataFrame.\n",
            "Try using .loc[row_indexer,col_indexer] = value instead\n",
            "\n",
            "See the caveats in the documentation: https://pandas.pydata.org/pandas-docs/stable/user_guide/indexing.html#returning-a-view-versus-a-copy\n",
            "  \"\"\"\n"
          ]
        },
        {
          "output_type": "execute_result",
          "data": {
            "text/plain": [
              "<matplotlib.colorbar.Colorbar at 0x7f71707af750>"
            ]
          },
          "metadata": {},
          "execution_count": 125
        },
        {
          "output_type": "display_data",
          "data": {
            "image/png": "[encoded data removed]",
            "text/plain": [
              "<Figure size 1440x720 with 2 Axes>"
            ]
          },
          "metadata": {
            "needs_background": "light"
          }
        }
      ]
    },
    {
      "cell_type": "code",
      "metadata": {
        "colab": {
          "base_uri": "https://localhost:8080/"
        },
        "id": "gK2QxpTnE3rG",
        "outputId": "448b9870-34ac-4c56-e222-acc0313be6fb"
      },
      "source": [
        "# Check a cluster results\n",
        "clusters = quotebank_subset.groupby('labels')[['quotation', 'party']].agg(list)\n",
        "clusters.quotation.loc[3]"
      ],
      "execution_count": 143,
      "outputs": [
        {
          "output_type": "execute_result",
          "data": {
            "text/plain": [
              "[\"And you don't deserve a promotion when you do not serve the people you've been hired to serve.\",\n",
              " \"I know the little piggy doesn't want to go to market, but if you've got to go to market, you're better off being a little Australian piggy going to market than you are coming from some darker destinations,\",\n",
              " \"I reached the point where I didn't like watching the news because it was like I'd caused this event, though I knew I hadn't.\",\n",
              " 'If you think teachers across this state are not saying the s-word, you are wrong.',\n",
              " 'It is not fair on us to stop all logging there because the state government will be deprived of the revenue needed to provide services to the people,',\n",
              " \"It's really disruptive to those businesses to not know what the cash flow is going to be and not be able to plan new budgets if they believe the window is going to stop,\",\n",
              " \"It's unfortunate that we're in this situation but when the paper just becomes regurgitating Democratic talking points, it's no longer a news outlet that's being fair or objective.\",\n",
              " \"Number 1, I don't like talking about it because frankly nobody should be talking about it. It should be what it is. It should be based on the strength of the country.\",\n",
              " \"some kind of criminal activity, that's not to be tolerated in the House,\",\n",
              " \"That's in violation of the law, no matter how you feel about immigration, that's not legal and right. We all wish it wasn't headed in this direction, but we have to separate the two things. You may feel very strongly about an issue, but breaking the law in order to achieve it, in this issue, is not the right thing to do.\",\n",
              " \"The idea that anyone in the federal government would suppress important health information -- especially to `avoid a PR nightmare' -- is infuriating,\",\n",
              " 'They do not fight directly, but by stealth; they are not honourable, but unprincipled; they are not national, but international; they do not believe in work, but speculate with money; they have no homeland, but feel that the whole world is theirs. They are not generous, but vengeful, and always attack the heart -- especially if it is red, white and green [ the colours of the Hungarian flag ].',\n",
              " \"They don't like to post it over the weekend because then their members see it,\",\n",
              " 'This is beyond a midlife crisis. This is not the Barnaby Joyce I know. I am concerned about his mental welfare.',\n",
              " 'tool to restrict access to health care for people who are transgender and women.',\n",
              " 'Ultimately, trade wars do not solve the problems they are intended to address, but inevitably create more trouble,',\n",
              " 'We do not want our own color, traditions and national culture to be mixed with those of others. We do not want that at all. We do not want to be a diverse country. We want to be how we became 1,100 years ago here in the Carpathian Basin.',\n",
              " 'and are failing to protect the 2nd Amendment to the same extent that they protect other constitutional rights.',\n",
              " 'But we accept there is a lack of transparency around this process and that this lack of transparency has led some people to question its rigour,',\n",
              " 'By his own policy decisions, Bruce Rauner is a man without the base of support he needs to win in a general election.',\n",
              " 'Cryptominers planning to move to the region will not get cheap electricity from the government-owned utility Hydro-Quebec, as the utility may not have enough power to meet the demand.',\n",
              " 'For us to block sales to the country of Bahrain that is housing one of our most important naval bases over something that has nothing to do with them but has something to do with another country, is not a pragmatic nor a sensible step,',\n",
              " \"I don't know if you folks are aware of what's happening -- we want to have strong borders in the United States, the Democrats don't want to let us have strong borders,\",\n",
              " \"It is bad policy, it's wrong (and) it's heartbreaking. It's not the moral thing to do. We need to secure our borders and stop illegal immigration, but separating families is not the right answer.\",\n",
              " \"It is not like we want to make English the official language, if this should happen, when our leaders do not care to converse in Bahasa Melayu, then our country's development will plummet.\",\n",
              " 'Kung seryoso tayo sa pagpapatupad ng mga hangarin laban sa korapsyon, hindi na ibabalik ang mga opisyal na nasangkot sa korupsyon at kakasuhan ang mga ito (If we are serious in implementing anti-corruption measures, we are not going to re-hire officials involved in corruption scandals and file charges against them instead),',\n",
              " \"Rather than put him in the position of being dragged into this petty nonsense, I offered my resignation because I didn't see any other way,\",\n",
              " \"The government is very scared of the bank scam. They know that they can't face the public.\",\n",
              " \"The problem is for well water and private water sources that aren't regulated,\",\n",
              " \"The same can be said about Antifa and Black Lives Matter -- they shouldn't be allowed to be doing what they are doing.\",\n",
              " \"There is a plethora of ways in which foreign-funded organisations that enjoy no popular support in Hungary operate, including ways in which they bypass Hungary's laws,\",\n",
              " \"This clearly means that he is saying that he is not going to return the money. It further says that `as far as I am concerned you can go and climb a tall tree but you are not going to get your money' .\",\n",
              " 'This is baseless. Congress leaders like Digvijaya Singh do not wish for a Congress-BSP alliance. They are afraid of agencies like the ED (Enforcement Directorate, CBI (Central Bureau of Investigation),']"
            ]
          },
          "metadata": {},
          "execution_count": 143
        }
      ]
    },
    {
      "cell_type": "markdown",
      "metadata": {
        "id": "QsPJMQg4UJLC"
      },
      "source": [
        "**We can observe negative terms and tone in the quotes**"
      ]
    },
    {
      "cell_type": "markdown",
      "metadata": {
        "id": "CJUl19S0PVzL"
      },
      "source": [
        "In the clusters below, the hdb scan algorithm assigns label of -1 to quotes that could not be clustered"
      ]
    },
    {
      "cell_type": "code",
      "metadata": {
        "colab": {
          "base_uri": "https://localhost:8080/"
        },
        "id": "rBNXgqU4WobH",
        "outputId": "460986be-1f58-4a8c-9e6a-ece7ff72ced8"
      },
      "source": [
        "import pprint\n",
        "# Show which parties talk the most about a specific topic\n",
        "pp = pprint.PrettyPrinter(indent=4)\n",
        "\n",
        "for label, row in clusters.iterrows():\n",
        "    if label != -1:\n",
        "        party_counts = Counter([x for sublist in row['party'] for x in sublist])\n",
        "        print(f'Parties most interested in topic {label}:')\n",
        "        pp.pprint(list(sorted(party_counts.items(), key=lambda x: -x[1]))[:5])"
      ],
      "execution_count": 131,
      "outputs": [
        {
          "output_type": "stream",
          "name": "stdout",
          "text": [
            "Parties most interested in topic 0:\n",
            "[   ('Republican Party', 3),\n",
            "    ('Democratic Party', 3),\n",
            "    ('Conservative Party', 2),\n",
            "    ('Liberty Korea Party', 1),\n",
            "    ('Partido Demokratiko Pilipino–Lakas ng Bayan', 1)]\n",
            "Parties most interested in topic 1:\n",
            "[   ('Republican Party', 41),\n",
            "    ('Democratic Party', 21),\n",
            "    ('Independence Party of America', 5),\n",
            "    ('Fine Gael', 3),\n",
            "    ('Conservative Party', 2)]\n",
            "Parties most interested in topic 2:\n",
            "[   ('Democratic Party', 41),\n",
            "    ('Republican Party', 38),\n",
            "    ('Labour Party', 6),\n",
            "    ('Independence Party of America', 5),\n",
            "    ('Conservative Party', 5)]\n",
            "Parties most interested in topic 3:\n",
            "[   ('Republican Party', 31),\n",
            "    ('Democratic Party', 19),\n",
            "    ('Indian National Congress', 6),\n",
            "    ('Independence Party of America', 5),\n",
            "    (\"People's Reform Party\", 2)]\n",
            "Parties most interested in topic 4:\n",
            "[   ('Republican Party', 5),\n",
            "    ('Democratic Party', 4),\n",
            "    ('Indian National Congress', 2),\n",
            "    ('Liberal Party of Australia (New South Wales Division)', 1),\n",
            "    ('Democratic Alliance', 1)]\n",
            "Parties most interested in topic 5:\n",
            "[   ('Republican Party', 14),\n",
            "    ('Bharatiya Janata Party', 12),\n",
            "    ('Democratic Party', 11),\n",
            "    ('United Russia', 3),\n",
            "    ('Liberal National Party of Queensland', 3)]\n",
            "Parties most interested in topic 6:\n",
            "[   ('Republican Party', 23),\n",
            "    ('Democratic Party', 21),\n",
            "    ('Liberal Party of Australia', 3),\n",
            "    ('Labour Party', 2),\n",
            "    ('African National Congress', 2)]\n",
            "Parties most interested in topic 7:\n",
            "[   ('Republican Party', 12),\n",
            "    ('Democratic Party', 7),\n",
            "    ('Labour Party', 2),\n",
            "    ('New Zealand Labour Party', 2),\n",
            "    ('African National Congress', 2)]\n"
          ]
        }
      ]
    },
    {
      "cell_type": "markdown",
      "metadata": {
        "id": "kbNfm_4xPDp2"
      },
      "source": [
        "### One party per speaker"
      ]
    },
    {
      "cell_type": "code",
      "metadata": {
        "id": "OG3sJQBRPDp2"
      },
      "source": [
        "# Get a subset of quotebank\n",
        "quotebank_subset = quotebank_one_party[:2000]"
      ],
      "execution_count": 132,
      "outputs": []
    },
    {
      "cell_type": "code",
      "metadata": {
        "colab": {
          "base_uri": "https://localhost:8080/",
          "height": 49,
          "referenced_widgets": [
            "4567ae105e1a4dfc9c4969a9eff3b6b8",
            "a80368f1789346de97427b976dab5a79",
            "b2ab77f017134c86bdd8736ceadddb7c",
            "fba82eb7c9d44375b2c2f0e2345d1ed8",
            "70a4c099e6664b24889c45828e46291f",
            "c4b0adceebce46b48c3d9a92b8374aac",
            "3af3bd99d2a44661a18c399e9bcfc742",
            "fe7a2719e32940d68aecabb18012c122",
            "6cd74c139ad4487e8cad7f7c09e23b20",
            "29ca95e8ccbf4db18224c7d220484412",
            "467950e4ceea4e3789531b38d6c948b2"
          ]
        },
        "id": "3tG4v3VZPDp2",
        "outputId": "d07ebcc0-e901-454a-b8f0-39b25cdd5c12"
      },
      "source": [
        "# Find sentence embeddings\n",
        "sentence_embeddings = model.encode(list(quotebank_subset['quotation']), show_progress_bar=True)\n",
        "# Reduce dimensionality of embeddings\n",
        "umap_embeddings = umap.UMAP(n_neighbors=50, n_components=9, metric='cosine').fit_transform(sentence_embeddings)"
      ],
      "execution_count": 133,
      "outputs": [
        {
          "output_type": "display_data",
          "data": {
            "application/vnd.jupyter.widget-view+json": {
              "model_id": "4567ae105e1a4dfc9c4969a9eff3b6b8",
              "version_minor": 0,
              "version_major": 2
            },
            "text/plain": [
              "Batches:   0%|          | 0/63 [00:00<?, ?it/s]"
            ]
          },
          "metadata": {}
        }
      ]
    },
    {
      "cell_type": "code",
      "metadata": {
        "id": "TlEmo38LPDp2"
      },
      "source": [
        "# Cluster documents\n",
        "cluster = hdbscan.HDBSCAN(min_cluster_size=10, metric='euclidean', cluster_selection_method='eom').fit(umap_embeddings)"
      ],
      "execution_count": 134,
      "outputs": []
    },
    {
      "cell_type": "code",
      "metadata": {
        "colab": {
          "base_uri": "https://localhost:8080/",
          "height": 714
        },
        "id": "IaQ6T26FPDp2",
        "outputId": "fb754004-0086-4b2a-e0b2-4e17e7e46443"
      },
      "source": [
        "# Prepare data\n",
        "umap_data = umap.UMAP(n_neighbors=50, n_components=2, min_dist=0.0, metric='cosine').fit_transform(sentence_embeddings)\n",
        "result = pd.DataFrame(umap_data, columns=['x', 'y'])\n",
        "result['labels'] = cluster.labels_\n",
        "quotebank_subset['labels'] = cluster.labels_\n",
        "\n",
        "# Visualize clusters\n",
        "fig, ax = plt.subplots(figsize=(20, 10))\n",
        "outliers = result.loc[result.labels == -1, :]\n",
        "clustered = result.loc[result.labels != -1, :]\n",
        "plt.scatter(outliers.x, outliers.y, color='#BDBDBD', s=0.005)\n",
        "plt.scatter(clustered.x, clustered.y, c=clustered.labels, s=30, cmap='hsv_r')\n",
        "plt.colorbar()"
      ],
      "execution_count": 135,
      "outputs": [
        {
          "output_type": "stream",
          "name": "stderr",
          "text": [
            "/usr/local/lib/python3.7/dist-packages/ipykernel_launcher.py:5: SettingWithCopyWarning: \n",
            "A value is trying to be set on a copy of a slice from a DataFrame.\n",
            "Try using .loc[row_indexer,col_indexer] = value instead\n",
            "\n",
            "See the caveats in the documentation: https://pandas.pydata.org/pandas-docs/stable/user_guide/indexing.html#returning-a-view-versus-a-copy\n",
            "  \"\"\"\n"
          ]
        },
        {
          "output_type": "execute_result",
          "data": {
            "text/plain": [
              "<matplotlib.colorbar.Colorbar at 0x7f716fa069d0>"
            ]
          },
          "metadata": {},
          "execution_count": 135
        },
        {
          "output_type": "display_data",
          "data": {
            "image/png": "[encoded data removed]",
            "text/plain": [
              "<Figure size 1440x720 with 2 Axes>"
            ]
          },
          "metadata": {
            "needs_background": "light"
          }
        }
      ]
    },
    {
      "cell_type": "code",
      "metadata": {
        "colab": {
          "base_uri": "https://localhost:8080/"
        },
        "id": "6fVDnrh3PDp3",
        "outputId": "99126c64-5c13-42f8-abc2-8a5f0e66a8ea"
      },
      "source": [
        "# Check a cluster results\n",
        "clusters = quotebank_subset.groupby('labels')[['quotation', 'party']].agg(list)\n",
        "clusters.quotation.loc[9]"
      ],
      "execution_count": 137,
      "outputs": [
        {
          "output_type": "execute_result",
          "data": {
            "text/plain": [
              "['and he is already a proven liar and leaker.',\n",
              " 'But the other questions we asked go to the heart of a matter which is a very serious issue.',\n",
              " 'come across a situation that is undesirable.',\n",
              " 'concerned about the scope of the proposed tariffs',\n",
              " 'crisis happened on our watch',\n",
              " 'different groups of Singaporeans have different concerns',\n",
              " 'grave danger to national security',\n",
              " 'I do have concerns and I think actually probably most MPs would',\n",
              " 'is relatively poorer and considerably more diverse',\n",
              " 'It is a threat to the security to the United States.',\n",
              " 'It proved to be insufficient in West Virginia.',\n",
              " \"It's creating confusion and indecision.\",\n",
              " \"It's heartless. It's horrible.\",\n",
              " 'Many political divisions remain. Many issues still must be overcome.',\n",
              " 'petty and, frankly, a waste of public resources',\n",
              " 'Political viewpoints are changing,',\n",
              " 'scandalous and a disgraceful treatment',\n",
              " 'sincerely regret the misfortune on the matter',\n",
              " 'still a tough sell,',\n",
              " 'such false and maliciously defamatory allegations',\n",
              " 'That makes this more complicated.',\n",
              " 'The Government of India is very much concerned about the issue,',\n",
              " 'The State of the Nation feels really backward-facing to me,',\n",
              " 'There are unfortunately two different Claire McCaskills,',\n",
              " 'There is a big difference between comments made and actions taken,',\n",
              " 'These are not productive times, when we have tariffs going both ways.',\n",
              " \"these matters are of great concern to the children's committee\",\n",
              " 'This emotional detachment is just terrible.',\n",
              " 'we disagree on a whole lot.',\n",
              " 'Well, their numbers are wrong. So, fake news,',\n",
              " \"What? You weren't correctly telling the truth? That's an outright lie. Correct?\",\n",
              " 'You had raised this issue and I had answered it. Suddenly, you have gone into a disruptive mood. I do not know what the reason is,',\n",
              " \"you're both liars.\",\n",
              " 'A reality is that often time the victims fall through the cracks,',\n",
              " 'a very different vision for the future of our country',\n",
              " \"a woefully inaccurate reflection of women's achievement\",\n",
              " 'As fare as we are concerned the tender was illegitimate,',\n",
              " 'concerned in the supply of drugs',\n",
              " 'extremely unsatisfactory given the gravity of the cases',\n",
              " 'I actually found it a little bit sinister,',\n",
              " 'I am concerned that consumers may get hurt.',\n",
              " 'I felt myself challenged,',\n",
              " 'I just think it is offensive and insulting.',\n",
              " 'is one of the toughest decisions we will make as a province.',\n",
              " 'It was a significant disaster across the board.',\n",
              " 'knowingly have a sick and biased AGENDA,',\n",
              " 'makes her unsuitable to serve.',\n",
              " 'pathetic, reckless, and selfish op-ed.',\n",
              " 'sad that it has got to this',\n",
              " 'that continually snag every effort.',\n",
              " 'that still leaves many questions unanswered.',\n",
              " \"The court's decision today is triply flawed,\",\n",
              " 'the muse of poison,',\n",
              " 'The rhetoric we hear from the other side on this issue -- as on many others -- has become radicalized,',\n",
              " 'There is a regulatory breakdown -- a failure,',\n",
              " 'This decision derails that plan.',\n",
              " 'This is a stain on the Australian nation,',\n",
              " 'This is an incredibly serious matter,',\n",
              " 'unchristian, worse than uncharitable and that has to stop,']"
            ]
          },
          "metadata": {},
          "execution_count": 137
        }
      ]
    },
    {
      "cell_type": "markdown",
      "metadata": {
        "id": "F-bLC6_GSos9"
      },
      "source": [
        "**We can observe rude words and negative attitude**"
      ]
    },
    {
      "cell_type": "markdown",
      "metadata": {
        "id": "Bv7IDg2WPhq9"
      },
      "source": [
        "In the clusters below, the hdb scan algorithm assigns label of -1 to quotes that could not be clustered"
      ]
    },
    {
      "cell_type": "code",
      "metadata": {
        "colab": {
          "base_uri": "https://localhost:8080/"
        },
        "id": "iU6AFFpKPhq9",
        "outputId": "c2ddb668-2aee-4e97-dd09-f0a7370186ca"
      },
      "source": [
        "import pprint\n",
        "# Show which parties talk the most about a specific topic\n",
        "pp = pprint.PrettyPrinter(indent=4)\n",
        "\n",
        "for label, row in clusters.iterrows():\n",
        "    if label != -1:\n",
        "        party_counts = Counter([x for x in row['party']])\n",
        "        print(f'Parties most interested in topic {label}:')\n",
        "        pp.pprint(list(sorted(party_counts.items(), key=lambda x: -x[1]))[:3])"
      ],
      "execution_count": 142,
      "outputs": [
        {
          "output_type": "stream",
          "name": "stdout",
          "text": [
            "Parties most interested in topic 0:\n",
            "[   (\"['Democratic Party']\", 5),\n",
            "    (\"['Republican Party']\", 4),\n",
            "    (\"['Christian Social Union of Bavaria']\", 1)]\n",
            "Parties most interested in topic 1:\n",
            "[   (\"['Republican Party']\", 94),\n",
            "    (\"['Democratic Party']\", 79),\n",
            "    (\"['Bharatiya Janata Party']\", 19)]\n",
            "Parties most interested in topic 2:\n",
            "[   (\"['Democratic Party']\", 5),\n",
            "    (\"['Conservative Party']\", 3),\n",
            "    (\"['Bharatiya Janata Party']\", 2)]\n",
            "Parties most interested in topic 3:\n",
            "[(\"['Republican Party']\", 10), (\"['Democratic Party']\", 6), (\"['Fidesz']\", 3)]\n",
            "Parties most interested in topic 4:\n",
            "[   (\"['Republican Party']\", 23),\n",
            "    (\"['Democratic Party']\", 16),\n",
            "    (\"['Labour Party']\", 4)]\n",
            "Parties most interested in topic 5:\n",
            "[   (\"['Republican Party']\", 2),\n",
            "    (\"['Democratic Movement Party']\", 1),\n",
            "    (\"['Zionist Union']\", 1)]\n",
            "Parties most interested in topic 6:\n",
            "[   (\"['Democratic Party']\", 4),\n",
            "    (\"['Republican Party']\", 4),\n",
            "    (\"['Bharatiya Janata Party']\", 3)]\n",
            "Parties most interested in topic 7:\n",
            "[   (\"['Republican Party']\", 9),\n",
            "    (\"['Democratic Party']\", 6),\n",
            "    (\"['Indian National Congress']\", 3)]\n",
            "Parties most interested in topic 8:\n",
            "[   (\"['Bharatiya Janata Party']\", 14),\n",
            "    (\"['Republican Party']\", 12),\n",
            "    (\"['Democratic Party']\", 10)]\n",
            "Parties most interested in topic 9:\n",
            "[   (\"['Republican Party']\", 15),\n",
            "    (\"['Democratic Party']\", 10),\n",
            "    (\"['Labour Party']\", 3)]\n",
            "Parties most interested in topic 10:\n",
            "[   (\"['Republican Party']\", 16),\n",
            "    (\"['Democratic Party']\", 13),\n",
            "    (\"['Indian National Congress']\", 6)]\n"
          ]
        }
      ]
    }
  ]
}