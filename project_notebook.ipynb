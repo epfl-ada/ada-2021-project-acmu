{
 "cells": [
  {
   "cell_type": "markdown",
   "metadata": {
    "id": "8FOHM0OXeAm7"
   },
   "source": [
    "# Initial Analysis for Political Parties' Interests"
   ]
  },
  {
   "cell_type": "markdown",
   "metadata": {
    "id": "oA_fe4oxWT6p"
   },
   "source": [
    "## Mounting the Google Drive\n",
    "The Quotebank data is stored on Google Drive."
   ]
  },
  {
   "cell_type": "code",
   "execution_count": 4,
   "metadata": {
    "colab": {
     "base_uri": "https://localhost:8080/"
    },
    "id": "CEcIlRwfWY4C",
    "outputId": "3a167bd5-fa4c-48ec-e81e-a7aae64e48a4"
   },
   "outputs": [],
   "source": [
    "# TODO: remove\n",
    "# from google.colab import drive\n",
    "# drive.mount('/content/drive')"
   ]
  },
  {
   "cell_type": "markdown",
   "metadata": {
    "id": "c_Dmorxcf7Am"
   },
   "source": [
    "## Installs"
   ]
  },
  {
   "cell_type": "code",
   "execution_count": 3,
   "metadata": {
    "id": "hf5YsV90f6Xu"
   },
   "outputs": [
    {
     "name": "stdout",
     "output_type": "stream",
     "text": [
      "/bin/bash: python: command not found\n",
      "Requirement already satisfied: pytrends in /usr/local/lib/python3.8/dist-packages (4.7.3)\n",
      "Requirement already satisfied: pandas>=0.25 in /usr/local/lib/python3.8/dist-packages (from pytrends) (1.3.3)\n",
      "Requirement already satisfied: lxml in /usr/local/lib/python3.8/dist-packages (from pytrends) (4.6.4)\n",
      "Requirement already satisfied: requests in /usr/lib/python3/dist-packages (from pytrends) (2.22.0)\n",
      "Requirement already satisfied: python-dateutil>=2.7.3 in /usr/local/lib/python3.8/dist-packages (from pandas>=0.25->pytrends) (2.8.2)\n",
      "Requirement already satisfied: pytz>=2017.3 in /usr/local/lib/python3.8/dist-packages (from pandas>=0.25->pytrends) (2021.1)\n",
      "Requirement already satisfied: numpy>=1.17.3 in /usr/local/lib/python3.8/dist-packages (from pandas>=0.25->pytrends) (1.20.3)\n",
      "Requirement already satisfied: six>=1.5 in /usr/lib/python3/dist-packages (from python-dateutil>=2.7.3->pandas>=0.25->pytrends) (1.14.0)\n",
      "\u001b[33mWARNING: Running pip as the 'root' user can result in broken permissions and conflicting behaviour with the system package manager. It is recommended to use a virtual environment instead: https://pip.pypa.io/warnings/venv\u001b[0m\n",
      "Requirement already satisfied: nltk in /usr/local/lib/python3.8/dist-packages (3.6.5)\n",
      "Requirement already satisfied: tqdm in /usr/local/lib/python3.8/dist-packages (from nltk) (4.62.3)\n",
      "Requirement already satisfied: joblib in /usr/local/lib/python3.8/dist-packages (from nltk) (1.1.0)\n",
      "Requirement already satisfied: click in /usr/local/lib/python3.8/dist-packages (from nltk) (8.0.3)\n",
      "Requirement already satisfied: regex>=2021.8.3 in /usr/local/lib/python3.8/dist-packages (from nltk) (2021.10.8)\n",
      "\u001b[33mWARNING: Running pip as the 'root' user can result in broken permissions and conflicting behaviour with the system package manager. It is recommended to use a virtual environment instead: https://pip.pypa.io/warnings/venv\u001b[0m\n",
      "Requirement already satisfied: tld in /usr/local/lib/python3.8/dist-packages (0.12.6)\n",
      "\u001b[33mWARNING: Running pip as the 'root' user can result in broken permissions and conflicting behaviour with the system package manager. It is recommended to use a virtual environment instead: https://pip.pypa.io/warnings/venv\u001b[0m\n",
      "Requirement already satisfied: pyarrow in /usr/local/lib/python3.8/dist-packages (6.0.0)\n",
      "Requirement already satisfied: numpy>=1.16.6 in /usr/local/lib/python3.8/dist-packages (from pyarrow) (1.20.3)\n",
      "\u001b[33mWARNING: Running pip as the 'root' user can result in broken permissions and conflicting behaviour with the system package manager. It is recommended to use a virtual environment instead: https://pip.pypa.io/warnings/venv\u001b[0m\n",
      "Requirement already satisfied: qwikidata in /usr/local/lib/python3.8/dist-packages (0.4.0)\n",
      "Requirement already satisfied: mypy-extensions in /usr/local/lib/python3.8/dist-packages (from qwikidata) (0.4.3)\n",
      "Requirement already satisfied: requests in /usr/lib/python3/dist-packages (from qwikidata) (2.22.0)\n",
      "\u001b[33mWARNING: Running pip as the 'root' user can result in broken permissions and conflicting behaviour with the system package manager. It is recommended to use a virtual environment instead: https://pip.pypa.io/warnings/venv\u001b[0m\n",
      "Requirement already satisfied: sentence-transformers in /usr/local/lib/python3.8/dist-packages (2.1.0)\n",
      "Requirement already satisfied: scipy in /usr/local/lib/python3.8/dist-packages (from sentence-transformers) (1.7.1)\n",
      "Requirement already satisfied: sentencepiece in /usr/local/lib/python3.8/dist-packages (from sentence-transformers) (0.1.96)\n",
      "Requirement already satisfied: scikit-learn in /usr/local/lib/python3.8/dist-packages (from sentence-transformers) (1.0)\n",
      "Requirement already satisfied: torchvision in /usr/local/lib/python3.8/dist-packages (from sentence-transformers) (0.11.1)\n",
      "Requirement already satisfied: torch>=1.6.0 in /usr/local/lib/python3.8/dist-packages (from sentence-transformers) (1.10.0)\n",
      "Requirement already satisfied: nltk in /usr/local/lib/python3.8/dist-packages (from sentence-transformers) (3.6.5)\n",
      "Requirement already satisfied: tqdm in /usr/local/lib/python3.8/dist-packages (from sentence-transformers) (4.62.3)\n",
      "Requirement already satisfied: huggingface-hub in /usr/local/lib/python3.8/dist-packages (from sentence-transformers) (0.1.1)\n",
      "Requirement already satisfied: tokenizers>=0.10.3 in /usr/local/lib/python3.8/dist-packages (from sentence-transformers) (0.10.3)\n",
      "Requirement already satisfied: numpy in /usr/local/lib/python3.8/dist-packages (from sentence-transformers) (1.20.3)\n",
      "Requirement already satisfied: transformers<5.0.0,>=4.6.0 in /usr/local/lib/python3.8/dist-packages (from sentence-transformers) (4.12.3)\n",
      "Requirement already satisfied: typing-extensions in /usr/local/lib/python3.8/dist-packages (from torch>=1.6.0->sentence-transformers) (3.10.0.2)\n",
      "Requirement already satisfied: pyyaml>=5.1 in /usr/lib/python3/dist-packages (from transformers<5.0.0,>=4.6.0->sentence-transformers) (5.3.1)\n",
      "Requirement already satisfied: filelock in /usr/local/lib/python3.8/dist-packages (from transformers<5.0.0,>=4.6.0->sentence-transformers) (3.3.2)\n",
      "Requirement already satisfied: sacremoses in /usr/local/lib/python3.8/dist-packages (from transformers<5.0.0,>=4.6.0->sentence-transformers) (0.0.46)\n",
      "Requirement already satisfied: regex!=2019.12.17 in /usr/local/lib/python3.8/dist-packages (from transformers<5.0.0,>=4.6.0->sentence-transformers) (2021.10.8)\n",
      "Requirement already satisfied: packaging>=20.0 in /usr/local/lib/python3.8/dist-packages (from transformers<5.0.0,>=4.6.0->sentence-transformers) (21.0)\n",
      "Requirement already satisfied: requests in /usr/lib/python3/dist-packages (from transformers<5.0.0,>=4.6.0->sentence-transformers) (2.22.0)\n",
      "Requirement already satisfied: click in /usr/local/lib/python3.8/dist-packages (from nltk->sentence-transformers) (8.0.3)\n",
      "Requirement already satisfied: joblib in /usr/local/lib/python3.8/dist-packages (from nltk->sentence-transformers) (1.1.0)\n",
      "Requirement already satisfied: threadpoolctl>=2.0.0 in /usr/local/lib/python3.8/dist-packages (from scikit-learn->sentence-transformers) (3.0.0)\n",
      "Requirement already satisfied: pillow!=8.3.0,>=5.3.0 in /usr/local/lib/python3.8/dist-packages (from torchvision->sentence-transformers) (8.3.2)\n",
      "Requirement already satisfied: pyparsing>=2.0.2 in /usr/local/lib/python3.8/dist-packages (from packaging>=20.0->transformers<5.0.0,>=4.6.0->sentence-transformers) (2.4.7)\n",
      "Requirement already satisfied: six in /usr/lib/python3/dist-packages (from sacremoses->transformers<5.0.0,>=4.6.0->sentence-transformers) (1.14.0)\n",
      "\u001b[33mWARNING: Running pip as the 'root' user can result in broken permissions and conflicting behaviour with the system package manager. It is recommended to use a virtual environment instead: https://pip.pypa.io/warnings/venv\u001b[0m\n",
      "Requirement already satisfied: transformers in /usr/local/lib/python3.8/dist-packages (4.12.3)\n",
      "Requirement already satisfied: tqdm>=4.27 in /usr/local/lib/python3.8/dist-packages (from transformers) (4.62.3)\n",
      "Requirement already satisfied: packaging>=20.0 in /usr/local/lib/python3.8/dist-packages (from transformers) (21.0)\n",
      "Requirement already satisfied: huggingface-hub<1.0,>=0.1.0 in /usr/local/lib/python3.8/dist-packages (from transformers) (0.1.1)\n",
      "Requirement already satisfied: numpy>=1.17 in /usr/local/lib/python3.8/dist-packages (from transformers) (1.20.3)\n",
      "Requirement already satisfied: requests in /usr/lib/python3/dist-packages (from transformers) (2.22.0)\n",
      "Requirement already satisfied: regex!=2019.12.17 in /usr/local/lib/python3.8/dist-packages (from transformers) (2021.10.8)\n",
      "Requirement already satisfied: sacremoses in /usr/local/lib/python3.8/dist-packages (from transformers) (0.0.46)\n",
      "Requirement already satisfied: pyyaml>=5.1 in /usr/lib/python3/dist-packages (from transformers) (5.3.1)\n",
      "Requirement already satisfied: filelock in /usr/local/lib/python3.8/dist-packages (from transformers) (3.3.2)\n",
      "Requirement already satisfied: tokenizers<0.11,>=0.10.1 in /usr/local/lib/python3.8/dist-packages (from transformers) (0.10.3)\n",
      "Requirement already satisfied: typing-extensions>=3.7.4.3 in /usr/local/lib/python3.8/dist-packages (from huggingface-hub<1.0,>=0.1.0->transformers) (3.10.0.2)\n",
      "Requirement already satisfied: pyparsing>=2.0.2 in /usr/local/lib/python3.8/dist-packages (from packaging>=20.0->transformers) (2.4.7)\n"
     ]
    },
    {
     "name": "stdout",
     "output_type": "stream",
     "text": [
      "Requirement already satisfied: six in /usr/lib/python3/dist-packages (from sacremoses->transformers) (1.14.0)\n",
      "Requirement already satisfied: click in /usr/local/lib/python3.8/dist-packages (from sacremoses->transformers) (8.0.3)\n",
      "Requirement already satisfied: joblib in /usr/local/lib/python3.8/dist-packages (from sacremoses->transformers) (1.1.0)\n",
      "\u001b[33mWARNING: Running pip as the 'root' user can result in broken permissions and conflicting behaviour with the system package manager. It is recommended to use a virtual environment instead: https://pip.pypa.io/warnings/venv\u001b[0m\n",
      "Requirement already satisfied: umap-learn in /usr/local/lib/python3.8/dist-packages (0.5.2)\n",
      "Requirement already satisfied: scipy>=1.0 in /usr/local/lib/python3.8/dist-packages (from umap-learn) (1.7.1)\n",
      "Requirement already satisfied: numba>=0.49 in /usr/local/lib/python3.8/dist-packages (from umap-learn) (0.54.1)\n",
      "Requirement already satisfied: pynndescent>=0.5 in /usr/local/lib/python3.8/dist-packages (from umap-learn) (0.5.5)\n",
      "Requirement already satisfied: scikit-learn>=0.22 in /usr/local/lib/python3.8/dist-packages (from umap-learn) (1.0)\n",
      "Requirement already satisfied: tqdm in /usr/local/lib/python3.8/dist-packages (from umap-learn) (4.62.3)\n",
      "Requirement already satisfied: numpy>=1.17 in /usr/local/lib/python3.8/dist-packages (from umap-learn) (1.20.3)\n",
      "Requirement already satisfied: llvmlite<0.38,>=0.37.0rc1 in /usr/local/lib/python3.8/dist-packages (from numba>=0.49->umap-learn) (0.37.0)\n",
      "Requirement already satisfied: setuptools in /usr/lib/python3/dist-packages (from numba>=0.49->umap-learn) (45.2.0)\n",
      "Requirement already satisfied: joblib>=0.11 in /usr/local/lib/python3.8/dist-packages (from pynndescent>=0.5->umap-learn) (1.1.0)\n",
      "Requirement already satisfied: threadpoolctl>=2.0.0 in /usr/local/lib/python3.8/dist-packages (from scikit-learn>=0.22->umap-learn) (3.0.0)\n",
      "\u001b[33mWARNING: Running pip as the 'root' user can result in broken permissions and conflicting behaviour with the system package manager. It is recommended to use a virtual environment instead: https://pip.pypa.io/warnings/venv\u001b[0m\n",
      "Requirement already satisfied: hdbscan in /usr/local/lib/python3.8/dist-packages (0.8.27)\n",
      "Requirement already satisfied: joblib>=1.0 in /usr/local/lib/python3.8/dist-packages (from hdbscan) (1.1.0)\n",
      "Requirement already satisfied: six in /usr/lib/python3/dist-packages (from hdbscan) (1.14.0)\n",
      "Requirement already satisfied: cython>=0.27 in /usr/local/lib/python3.8/dist-packages (from hdbscan) (0.29.24)\n",
      "Requirement already satisfied: scikit-learn>=0.20 in /usr/local/lib/python3.8/dist-packages (from hdbscan) (1.0)\n",
      "Requirement already satisfied: scipy>=1.0 in /usr/local/lib/python3.8/dist-packages (from hdbscan) (1.7.1)\n",
      "Requirement already satisfied: numpy>=1.16 in /usr/local/lib/python3.8/dist-packages (from hdbscan) (1.20.3)\n",
      "Requirement already satisfied: threadpoolctl>=2.0.0 in /usr/local/lib/python3.8/dist-packages (from scikit-learn>=0.20->hdbscan) (3.0.0)\n",
      "\u001b[33mWARNING: Running pip as the 'root' user can result in broken permissions and conflicting behaviour with the system package manager. It is recommended to use a virtual environment instead: https://pip.pypa.io/warnings/venv\u001b[0m\n",
      "Requirement already satisfied: tqdm in /usr/local/lib/python3.8/dist-packages (4.62.3)\n",
      "\u001b[33mWARNING: Running pip as the 'root' user can result in broken permissions and conflicting behaviour with the system package manager. It is recommended to use a virtual environment instead: https://pip.pypa.io/warnings/venv\u001b[0m\n"
     ]
    }
   ],
   "source": [
    "!python -m pip install --upgrade pip\n",
    "!pip install pytrends\n",
    "!pip install nltk\n",
    "!pip install tld\n",
    "!pip install pyarrow\n",
    "!pip install qwikidata\n",
    "!pip install sentence-transformers\n",
    "!pip install transformers\n",
    "!pip install umap-learn\n",
    "!pip install hdbscan\n",
    "!pip install tqdm"
   ]
  },
  {
   "cell_type": "markdown",
   "metadata": {
    "id": "LDxR5xYQBbE4"
   },
   "source": [
    "## Imports"
   ]
  },
  {
   "cell_type": "code",
   "execution_count": 88,
   "metadata": {
    "id": "GL8NAnbFBez4"
   },
   "outputs": [],
   "source": [
    "import bz2\n",
    "import json\n",
    "import umap\n",
    "import hdbscan\n",
    "import nltk\n",
    "import torch\n",
    "import pyarrow\n",
    "import os.path\n",
    "import pandas as pd\n",
    "import numpy as np\n",
    "import seaborn as sns\n",
    "from tqdm import tqdm\n",
    "from tld import get_tld\n",
    "from itertools import chain\n",
    "from datetime import datetime\n",
    "import matplotlib.pyplot as plt\n",
    "import torch.nn.functional as f\n",
    "from collections import Counter\n",
    "from scipy.stats import pearsonr\n",
    "from nltk.corpus import stopwords\n",
    "from pytrends import dailydata\n",
    "from pytrends.request import TrendReq\n",
    "from nltk.cluster import KMeansClusterer\n",
    "from sentence_transformers import SentenceTransformer\n",
    "from transformers import BertModel, BertTokenizer\n",
    "from sklearn.preprocessing import StandardScaler, normalize\n",
    "from qwikidata.entity import WikidataItem, WikidataLexeme, WikidataProperty\n",
    "from qwikidata.linked_data_interface import get_entity_dict_from_api"
   ]
  },
  {
   "cell_type": "markdown",
   "metadata": {
    "id": "KUt1rItUBfnI"
   },
   "source": [
    "## Constants"
   ]
  },
  {
   "cell_type": "code",
   "execution_count": 74,
   "metadata": {
    "id": "ejXdQWRrBg8g"
   },
   "outputs": [],
   "source": [
    "# Whether to create a parsed file from the Quotebank dataset\n",
    "PARSE_QUOTEBANK = True\n",
    "\n",
    "# Colorblind-friendly color palette\n",
    "COLORS = ['#377EB8', '#FF7F00', '#4DAF4A', '#F781BF']\n",
    "\n",
    "# A mapping between a year and the file that contains the input of that year\n",
    "QUOTES_BY_YEAR = {year: f\"politicians-quotes-{year}.json.bz2\" for year in range(2015, 2021)}\n",
    "\n",
    "# A mapping between a party and quotes of its members\n",
    "WIKIDATA_POLITICIANS_PATH = f\"/content/drive/MyDrive/wikidata_politicians.csv\"\n",
    "\n",
    "# Path to parquet file used for Wikidata information\n",
    "WIKIDATA_PATH = f\"/content/drive/MyDrive/Quotebank_Wikidata/speaker_attributes.parquet\"\n",
    "\n",
    "# Path to file with mapping between q-codes and labels\n",
    "WIKIDATA_LABELS_PATH = f\"/content/drive/MyDrive/Quotebank_Wikidata/wikidata_labels_descriptions_quotebank.csv.bz2\"\n",
    "\n",
    "# Wikidata columns that are represented by q codes\n",
    "WIKIDATA_QCODES_COL = ['occupation', 'party']\n",
    "\n",
    "# The name of the single-value general stats\n",
    "VALUE_STATS = {'nan_speakers', 'nan_percentage', 'avg_quote_len', 'num_quotes'}\n",
    "\n",
    "# The name of the counter general stats\n",
    "COUNTER_STATS = {'quotes_by_date', 'qids_count'}\n",
    "\n",
    "# The year for which the data will be analyzed\n",
    "YEAR = 2018"
   ]
  },
  {
   "cell_type": "markdown",
   "metadata": {
    "id": "sCm34P0FgHZi"
   },
   "source": [
    "## Setup"
   ]
  },
  {
   "cell_type": "code",
   "execution_count": 44,
   "metadata": {
    "colab": {
     "base_uri": "https://localhost:8080/"
    },
    "id": "YlA_werTgHPU",
    "outputId": "a3b0f6b7-feab-49f6-d2e0-8f0e3f3f5c83"
   },
   "outputs": [
    {
     "name": "stderr",
     "output_type": "stream",
     "text": [
      "[nltk_data] Downloading package stopwords to /root/nltk_data...\n",
      "[nltk_data]   Package stopwords is already up-to-date!\n",
      "[nltk_data] Downloading package punkt to /root/nltk_data...\n",
      "[nltk_data]   Package punkt is already up-to-date!\n",
      "[nltk_data] Downloading package averaged_perceptron_tagger to\n",
      "[nltk_data]     /root/nltk_data...\n",
      "[nltk_data]   Package averaged_perceptron_tagger is already up-to-\n",
      "[nltk_data]       date!\n"
     ]
    }
   ],
   "source": [
    "# Connect to Google trends API\n",
    "pytrend = TrendReq()\n",
    "# NLTK setup\n",
    "nltk.download('stopwords')\n",
    "nltk.download('punkt')\n",
    "nltk.download('averaged_perceptron_tagger')\n",
    "tqdm.pandas()"
   ]
  },
  {
   "cell_type": "markdown",
   "metadata": {},
   "source": [
    "## General Quotebank Analysis"
   ]
  },
  {
   "cell_type": "code",
   "execution_count": 121,
   "metadata": {},
   "outputs": [],
   "source": [
    "def describe_chunks(df_reader):\n",
    "    \"\"\"\n",
    "    Compute general statistics about the dataset.\n",
    "    \"\"\"\n",
    "    # Initialize single-value stats\n",
    "    stats = {stat: 0 for stat in VALUE_STATS}\n",
    "    # Initialize counter stats\n",
    "    stats = {**stats, **{stat: Counter() for stat in COUNTER_STATS}}\n",
    "    for chunk in df_reader:\n",
    "        # Compute stats per chunk\n",
    "        stats['nan_speakers'] += (chunk['speaker'] == 'None').sum()\n",
    "        stats['avg_quote_len'] += chunk['quotation'].str.len().sum(axis=0)\n",
    "        stats['num_quotes'] += len(chunk)\n",
    "        quotes_by_date = Counter(\n",
    "            (chunk.groupby(by=chunk[\"date\"].dt.date).count())[\"quoteID\"].T.to_dict()\n",
    "        )\n",
    "        stats['quotes_by_date'] += quotes_by_date\n",
    "        stats['qids_count'] += Counter(chain.from_iterable(chunk['qids']))\n",
    "    \n",
    "    stats['avg_quote_len'] = stats['avg_quote_len'] / stats['num_quotes']\n",
    "    stats['nan_percentage'] = stats['nan_speakers'] / stats['num_quotes']\n",
    "    return stats"
   ]
  },
  {
   "cell_type": "code",
   "execution_count": 122,
   "metadata": {},
   "outputs": [],
   "source": [
    "# Analyze data chunk by chunk\n",
    "df_reader = pd.read_json(f'quotes-{YEAR}.json.bz2', lines=True,\n",
    "                         compression='bz2', chunksize=10000)\n",
    "stats = describe_chunks(df_reader)"
   ]
  },
  {
   "cell_type": "code",
   "execution_count": 123,
   "metadata": {},
   "outputs": [
    {
     "data": {
      "text/html": [
       "<style type=\"text/css\">\n",
       "</style>\n",
       "<table id=\"T_6574f_\">\n",
       "  <thead>\n",
       "    <tr>\n",
       "      <th class=\"col_heading level0 col0\" >nan_percentage</th>\n",
       "      <th class=\"col_heading level0 col1\" >nan_speakers</th>\n",
       "      <th class=\"col_heading level0 col2\" >num_quotes</th>\n",
       "      <th class=\"col_heading level0 col3\" >avg_quote_len</th>\n",
       "    </tr>\n",
       "  </thead>\n",
       "  <tbody>\n",
       "    <tr>\n",
       "      <td id=\"T_6574f_row0_col0\" class=\"data row0 col0\" >0.351031</td>\n",
       "      <td id=\"T_6574f_row0_col1\" class=\"data row0 col1\" >9558032</td>\n",
       "      <td id=\"T_6574f_row0_col2\" class=\"data row0 col2\" >27228451</td>\n",
       "      <td id=\"T_6574f_row0_col3\" class=\"data row0 col3\" >134.068001</td>\n",
       "    </tr>\n",
       "  </tbody>\n",
       "</table>\n"
      ],
      "text/plain": [
       "<pandas.io.formats.style.Styler at 0x7f3328a12d90>"
      ]
     },
     "execution_count": 123,
     "metadata": {},
     "output_type": "execute_result"
    }
   ],
   "source": [
    "# Print full data stats\n",
    "pd.DataFrame.from_dict({name: [stats[name]] for name in VALUE_STATS}).style.hide_index()"
   ]
  },
  {
   "cell_type": "code",
   "execution_count": 124,
   "metadata": {},
   "outputs": [
    {
     "data": {
      "image/png": "[encoded data removed]",
      "text/plain": [
       "<Figure size 720x360 with 1 Axes>"
      ]
     },
     "metadata": {
      "needs_background": "light"
     },
     "output_type": "display_data"
    }
   ],
   "source": [
    "# Plot the number of quotes by date\n",
    "plt.figure(figsize=(10, 5))\n",
    "plt.bar((stats['quotes_by_date']).keys(),\n",
    "        stats['quotes_by_date'].values(),\n",
    "        color=COLORS[0]);\n",
    "plt.title('Number of quotes by date')\n",
    "plt.ylabel('Quotes per day')\n",
    "plt.xlabel('Date');"
   ]
  },
  {
   "cell_type": "code",
   "execution_count": 125,
   "metadata": {},
   "outputs": [
    {
     "data": {
      "image/png": "[encoded data removed]",
      "text/plain": [
       "<Figure size 720x360 with 1 Axes>"
      ]
     },
     "metadata": {
      "needs_background": "light"
     },
     "output_type": "display_data"
    }
   ],
   "source": [
    "# Plot the number of quotes for the most common speakers\n",
    "most_common_qids = stats['qids_count'].most_common(10)\n",
    "plt.figure(figsize=(10, 5))\n",
    "plt.bar([t[0] for t in most_common_qids],\n",
    "        [t[1] for t in most_common_qids],\n",
    "        color=COLORS[0])\n",
    "plt.title(f'Number of quotes by speaker Q ID in {YEAR}')\n",
    "plt.xlabel('Speaker')\n",
    "plt.ylabel('Number of quotes');"
   ]
  },
  {
   "cell_type": "markdown",
   "metadata": {
    "id": "Q86936eGA5ZZ"
   },
   "source": [
    "## Quote Parsing"
   ]
  },
  {
   "cell_type": "markdown",
   "metadata": {
    "id": "FUw5Ks39YuIl"
   },
   "source": [
    "The Quotebank data is too large to handle in-memory in a single DataFrame. Therefore, for our initial analyses we select only the quotes from 2018 that were uttered by politicians. We detect these quotes by looking at the Q IDs of the speakers, merging them with Wikidata based on the Q ID, resolving the Q IDs of their profession and filtering those quotes that belong to politicians."
   ]
  },
  {
   "cell_type": "code",
   "execution_count": 72,
   "metadata": {
    "id": "0OdPWN0HE3Wg"
   },
   "outputs": [],
   "source": [
    "# A list of politicians of interest.\n",
    "politicians = [\"Barack Obama\", \"George W. Bush\", \"Donald Trump\", \"John McCain\",\n",
    "            \"Mitt Romney\", \"Hillary Clinton\", \"Benjamin Netanyahu\",\n",
    "            \"Narendra Modi\", \"Joe Biden\", \"Theresa May\", \"Boris Johnson\"]"
   ]
  },
  {
   "cell_type": "code",
   "execution_count": 112,
   "metadata": {
    "id": "IhcxNMaxA7VY"
   },
   "outputs": [],
   "source": [
    "# TODO: remove\n",
    "def get_politicians_data(year):\n",
    "    \"\"\"\n",
    "    Given a year, parses the Quotebank data and creates a file containing\n",
    "    the quotes of politicians from that year.\n",
    "    \"\"\"\n",
    "    path_to_out = QUOTES_BY_YEAR[year]\n",
    "    path_to_file = f'/content/drive/MyDrive/Quotebank/quotes-{year}.json.bz2'\n",
    "    with bz2.open(path_to_file, 'rb') as s_file:\n",
    "        with bz2.open(path_to_out, 'wb') as d_file:\n",
    "            for i, instance in enumerate(s_file):\n",
    "                # Load a sample.\n",
    "                instance = json.loads(instance)\n",
    "                if (sum([politician in instance['speaker'] for politician in politicians]) > 0):\n",
    "                    # Write sample to new file.\n",
    "                    d_file.write((json.dumps(instance) + '\\n').encode('utf-8'))\n",
    "                print(i)\n"
   ]
  },
  {
   "cell_type": "code",
   "execution_count": null,
   "metadata": {
    "id": "YHpJEVHDQFjV"
   },
   "outputs": [],
   "source": [
    "# get_politicians_data(YEAR)"
   ]
  },
  {
   "cell_type": "code",
   "execution_count": 75,
   "metadata": {
    "id": "LFEoxm6XSLx7"
   },
   "outputs": [],
   "source": [
    "# Store politicians data in DataFrame.\n",
    "data = pd.read_json(QUOTES_BY_YEAR[YEAR], lines=True)"
   ]
  },
  {
   "cell_type": "markdown",
   "metadata": {
    "id": "kOQ8TDgzcRN_"
   },
   "source": [
    "Below, we look at a couple of quotes that belong to Donald Trump and Barack Obama, two of our politicians of interest.\n",
    "\n"
   ]
  },
  {
   "cell_type": "code",
   "execution_count": 76,
   "metadata": {
    "colab": {
     "base_uri": "https://localhost:8080/",
     "height": 371
    },
    "id": "sZUunRkQTkCS",
    "outputId": "483592ab-ff9d-4feb-8b42-00b53ae9cb2a"
   },
   "outputs": [
    {
     "data": {
      "text/html": [
       "<div>\n",
       "<style scoped>\n",
       "    .dataframe tbody tr th:only-of-type {\n",
       "        vertical-align: middle;\n",
       "    }\n",
       "\n",
       "    .dataframe tbody tr th {\n",
       "        vertical-align: top;\n",
       "    }\n",
       "\n",
       "    .dataframe thead th {\n",
       "        text-align: right;\n",
       "    }\n",
       "</style>\n",
       "<table border=\"1\" class=\"dataframe\">\n",
       "  <thead>\n",
       "    <tr style=\"text-align: right;\">\n",
       "      <th></th>\n",
       "      <th>quoteID</th>\n",
       "      <th>quotation</th>\n",
       "      <th>speaker</th>\n",
       "      <th>qids</th>\n",
       "      <th>date</th>\n",
       "      <th>numOccurrences</th>\n",
       "      <th>probas</th>\n",
       "      <th>urls</th>\n",
       "      <th>phase</th>\n",
       "    </tr>\n",
       "  </thead>\n",
       "  <tbody>\n",
       "    <tr>\n",
       "      <th>0</th>\n",
       "      <td>2018-05-08-001245</td>\n",
       "      <td>A constructive deal could easily have been str...</td>\n",
       "      <td>President Donald Trump</td>\n",
       "      <td>[Q22686]</td>\n",
       "      <td>2018-05-08 18:36:49</td>\n",
       "      <td>8</td>\n",
       "      <td>[[President Donald Trump, 0.5633], [None, 0.38...</td>\n",
       "      <td>[http://baynews9.com/fl/tampa/news/2018/05/08/...</td>\n",
       "      <td>E</td>\n",
       "    </tr>\n",
       "    <tr>\n",
       "      <th>1</th>\n",
       "      <td>2018-09-26-003692</td>\n",
       "      <td>actually admitted that they're going after far...</td>\n",
       "      <td>President Donald Trump</td>\n",
       "      <td>[Q22686]</td>\n",
       "      <td>2018-09-26 00:00:00</td>\n",
       "      <td>138</td>\n",
       "      <td>[[President Donald Trump, 0.6838], [None, 0.30...</td>\n",
       "      <td>[http://dailyherald.com/news/20180926/kavanaug...</td>\n",
       "      <td>E</td>\n",
       "    </tr>\n",
       "    <tr>\n",
       "      <th>3</th>\n",
       "      <td>2018-07-30-004176</td>\n",
       "      <td>always leaves room for negotiation.</td>\n",
       "      <td>President Donald Trump</td>\n",
       "      <td>[Q22686]</td>\n",
       "      <td>2018-07-30 20:44:00</td>\n",
       "      <td>4</td>\n",
       "      <td>[[President Donald Trump, 0.6616], [None, 0.33...</td>\n",
       "      <td>[http://www.10news.com/newsy/trump-25-billion-...</td>\n",
       "      <td>E</td>\n",
       "    </tr>\n",
       "    <tr>\n",
       "      <th>4</th>\n",
       "      <td>2018-10-30-005630</td>\n",
       "      <td>an incredible leader who is respected by every...</td>\n",
       "      <td>President Donald Trump</td>\n",
       "      <td>[Q22686]</td>\n",
       "      <td>2018-10-30 03:10:00</td>\n",
       "      <td>3</td>\n",
       "      <td>[[President Donald Trump, 0.358], [Cathy McMor...</td>\n",
       "      <td>[http://m.spokesman.com/stories/2018/oct/30/pr...</td>\n",
       "      <td>E</td>\n",
       "    </tr>\n",
       "    <tr>\n",
       "      <th>5</th>\n",
       "      <td>2018-04-21-003582</td>\n",
       "      <td>and he is already a proven liar and leaker.</td>\n",
       "      <td>President Donald Trump</td>\n",
       "      <td>[Q22686]</td>\n",
       "      <td>2018-04-21 21:38:52</td>\n",
       "      <td>1</td>\n",
       "      <td>[[President Donald Trump, 0.7394], [None, 0.16...</td>\n",
       "      <td>[https://mic.com/articles/189012/this-week-in-...</td>\n",
       "      <td>E</td>\n",
       "    </tr>\n",
       "  </tbody>\n",
       "</table>\n",
       "</div>"
      ],
      "text/plain": [
       "             quoteID                                          quotation  \\\n",
       "0  2018-05-08-001245  A constructive deal could easily have been str...   \n",
       "1  2018-09-26-003692  actually admitted that they're going after far...   \n",
       "3  2018-07-30-004176                always leaves room for negotiation.   \n",
       "4  2018-10-30-005630  an incredible leader who is respected by every...   \n",
       "5  2018-04-21-003582        and he is already a proven liar and leaker.   \n",
       "\n",
       "                  speaker      qids                date  numOccurrences  \\\n",
       "0  President Donald Trump  [Q22686] 2018-05-08 18:36:49               8   \n",
       "1  President Donald Trump  [Q22686] 2018-09-26 00:00:00             138   \n",
       "3  President Donald Trump  [Q22686] 2018-07-30 20:44:00               4   \n",
       "4  President Donald Trump  [Q22686] 2018-10-30 03:10:00               3   \n",
       "5  President Donald Trump  [Q22686] 2018-04-21 21:38:52               1   \n",
       "\n",
       "                                              probas  \\\n",
       "0  [[President Donald Trump, 0.5633], [None, 0.38...   \n",
       "1  [[President Donald Trump, 0.6838], [None, 0.30...   \n",
       "3  [[President Donald Trump, 0.6616], [None, 0.33...   \n",
       "4  [[President Donald Trump, 0.358], [Cathy McMor...   \n",
       "5  [[President Donald Trump, 0.7394], [None, 0.16...   \n",
       "\n",
       "                                                urls phase  \n",
       "0  [http://baynews9.com/fl/tampa/news/2018/05/08/...     E  \n",
       "1  [http://dailyherald.com/news/20180926/kavanaug...     E  \n",
       "3  [http://www.10news.com/newsy/trump-25-billion-...     E  \n",
       "4  [http://m.spokesman.com/stories/2018/oct/30/pr...     E  \n",
       "5  [https://mic.com/articles/189012/this-week-in-...     E  "
      ]
     },
     "execution_count": 76,
     "metadata": {},
     "output_type": "execute_result"
    }
   ],
   "source": [
    "trump_quotes = data[data[\"speaker\"].str.contains(\"Donald Trump\")]\n",
    "trump_quotes.head()"
   ]
  },
  {
   "cell_type": "code",
   "execution_count": 77,
   "metadata": {
    "colab": {
     "base_uri": "https://localhost:8080/",
     "height": 354
    },
    "id": "AnSYiIeZ6PVm",
    "outputId": "c1fd0849-44c4-4c05-8b4a-14dd3826ac99"
   },
   "outputs": [
    {
     "data": {
      "text/html": [
       "<div>\n",
       "<style scoped>\n",
       "    .dataframe tbody tr th:only-of-type {\n",
       "        vertical-align: middle;\n",
       "    }\n",
       "\n",
       "    .dataframe tbody tr th {\n",
       "        vertical-align: top;\n",
       "    }\n",
       "\n",
       "    .dataframe thead th {\n",
       "        text-align: right;\n",
       "    }\n",
       "</style>\n",
       "<table border=\"1\" class=\"dataframe\">\n",
       "  <thead>\n",
       "    <tr style=\"text-align: right;\">\n",
       "      <th></th>\n",
       "      <th>quoteID</th>\n",
       "      <th>quotation</th>\n",
       "      <th>speaker</th>\n",
       "      <th>qids</th>\n",
       "      <th>date</th>\n",
       "      <th>numOccurrences</th>\n",
       "      <th>probas</th>\n",
       "      <th>urls</th>\n",
       "      <th>phase</th>\n",
       "    </tr>\n",
       "  </thead>\n",
       "  <tbody>\n",
       "    <tr>\n",
       "      <th>21</th>\n",
       "      <td>2018-02-12-035226</td>\n",
       "      <td>I cannot paint.</td>\n",
       "      <td>Barack Obama</td>\n",
       "      <td>[Q76]</td>\n",
       "      <td>2018-02-12 13:50:00</td>\n",
       "      <td>2</td>\n",
       "      <td>[[Barack Obama, 0.8319], [Kehinde Wiley, 0.090...</td>\n",
       "      <td>[http://www.chicagotribune.com/news/ct-obama-p...</td>\n",
       "      <td>E</td>\n",
       "    </tr>\n",
       "    <tr>\n",
       "      <th>34</th>\n",
       "      <td>2018-11-03-029313</td>\n",
       "      <td>incessant, non-stop attempts to divide us with...</td>\n",
       "      <td>Barack Obama</td>\n",
       "      <td>[Q76]</td>\n",
       "      <td>2018-11-03 01:43:21</td>\n",
       "      <td>3</td>\n",
       "      <td>[[Barack Obama, 0.7987], [None, 0.164], [Donal...</td>\n",
       "      <td>[http://thehill.com/homenews/news/414678-obama...</td>\n",
       "      <td>E</td>\n",
       "    </tr>\n",
       "    <tr>\n",
       "      <th>96</th>\n",
       "      <td>2018-10-22-004462</td>\n",
       "      <td>All right? I believe in a fact-based reality. ...</td>\n",
       "      <td>President Barack Obama</td>\n",
       "      <td>[Q76]</td>\n",
       "      <td>2018-10-22 21:36:28</td>\n",
       "      <td>1</td>\n",
       "      <td>[[President Barack Obama, 0.7669], [None, 0.21...</td>\n",
       "      <td>[http://www.rawstory.com/2018/10/dont-believe-...</td>\n",
       "      <td>E</td>\n",
       "    </tr>\n",
       "    <tr>\n",
       "      <th>156</th>\n",
       "      <td>2018-10-26-096425</td>\n",
       "      <td>The biggest threat to our democracy is cynicis...</td>\n",
       "      <td>President Barack Obama</td>\n",
       "      <td>[Q76]</td>\n",
       "      <td>2018-10-26 19:37:30</td>\n",
       "      <td>3</td>\n",
       "      <td>[[President Barack Obama, 0.8994], [None, 0.08...</td>\n",
       "      <td>[http://cbsnews.com/news/live-stream-obama-ral...</td>\n",
       "      <td>E</td>\n",
       "    </tr>\n",
       "    <tr>\n",
       "      <th>179</th>\n",
       "      <td>2018-11-14-125138</td>\n",
       "      <td>was the day I was getting my hair and makeup d...</td>\n",
       "      <td>Barack Obama</td>\n",
       "      <td>[Q76]</td>\n",
       "      <td>2018-11-14 16:01:00</td>\n",
       "      <td>1</td>\n",
       "      <td>[[Barack Obama, 0.7869], [None, 0.2131]]</td>\n",
       "      <td>[http://www.wmagazine.com/story/michelle-obama...</td>\n",
       "      <td>E</td>\n",
       "    </tr>\n",
       "  </tbody>\n",
       "</table>\n",
       "</div>"
      ],
      "text/plain": [
       "               quoteID                                          quotation  \\\n",
       "21   2018-02-12-035226                                    I cannot paint.   \n",
       "34   2018-11-03-029313  incessant, non-stop attempts to divide us with...   \n",
       "96   2018-10-22-004462  All right? I believe in a fact-based reality. ...   \n",
       "156  2018-10-26-096425  The biggest threat to our democracy is cynicis...   \n",
       "179  2018-11-14-125138  was the day I was getting my hair and makeup d...   \n",
       "\n",
       "                    speaker   qids                date  numOccurrences  \\\n",
       "21             Barack Obama  [Q76] 2018-02-12 13:50:00               2   \n",
       "34             Barack Obama  [Q76] 2018-11-03 01:43:21               3   \n",
       "96   President Barack Obama  [Q76] 2018-10-22 21:36:28               1   \n",
       "156  President Barack Obama  [Q76] 2018-10-26 19:37:30               3   \n",
       "179            Barack Obama  [Q76] 2018-11-14 16:01:00               1   \n",
       "\n",
       "                                                probas  \\\n",
       "21   [[Barack Obama, 0.8319], [Kehinde Wiley, 0.090...   \n",
       "34   [[Barack Obama, 0.7987], [None, 0.164], [Donal...   \n",
       "96   [[President Barack Obama, 0.7669], [None, 0.21...   \n",
       "156  [[President Barack Obama, 0.8994], [None, 0.08...   \n",
       "179           [[Barack Obama, 0.7869], [None, 0.2131]]   \n",
       "\n",
       "                                                  urls phase  \n",
       "21   [http://www.chicagotribune.com/news/ct-obama-p...     E  \n",
       "34   [http://thehill.com/homenews/news/414678-obama...     E  \n",
       "96   [http://www.rawstory.com/2018/10/dont-believe-...     E  \n",
       "156  [http://cbsnews.com/news/live-stream-obama-ral...     E  \n",
       "179  [http://www.wmagazine.com/story/michelle-obama...     E  "
      ]
     },
     "execution_count": 77,
     "metadata": {},
     "output_type": "execute_result"
    }
   ],
   "source": [
    "obama_quotes = data[data[\"speaker\"].str.contains(\"Barack Obama\")]\n",
    "obama_quotes.head()"
   ]
  },
  {
   "cell_type": "markdown",
   "metadata": {
    "id": "WIA84G5EgonW"
   },
   "source": [
    "## Quotes and Google Trends"
   ]
  },
  {
   "cell_type": "markdown",
   "metadata": {
    "id": "A8JB7rrBcbQJ"
   },
   "source": [
    "One on of our theories is that politicians talk about subjects of interest. For example, when a major event takes place, we would expect to hear about it in the news, and more importantly, we would expect political stakeholders to talk about it. However, not all politicians may pay the same amount of attention to all events.\n",
    "\n",
    "We plot the Google search trends against the number of quotes on specific subjects for Donald Trump and Barack Obama, two leaders from opposing parties."
   ]
  },
  {
   "cell_type": "code",
   "execution_count": 113,
   "metadata": {
    "id": "P_Ur7WaGVbWM"
   },
   "outputs": [],
   "source": [
    "def plot_trend(all_quotes, keyword, year, ax, speaker_name):\n",
    "    \"\"\"\n",
    "    Given a list of quotes, a keyword of interest and a year, plot the Google\n",
    "    search trend against the politicians' trends of uttering related quotes.\n",
    "    \"\"\"\n",
    "    # Get quotes stats from Quotebank\n",
    "    relevant_quotes = all_quotes[all_quotes[\"quotation\"].str.contains(keyword)]\n",
    "    quotes_by_date = relevant_quotes.groupby(by=relevant_quotes['date'].dt.date)\n",
    "    quotes_occ = pd.DataFrame(quotes_by_date['numOccurrences'].sum(),\n",
    "                              columns=['numOccurrences'])\n",
    "\n",
    "    # Get Google Trends data\n",
    "    pytrend.build_payload(kw_list=[keyword], geo='US',\n",
    "                          timeframe=f'{year}-01-01 {year}-12-31')\n",
    "    df_google = pytrend.interest_over_time()\n",
    "\n",
    "    # Treat missing quote trend values for a nicer plot\n",
    "    idx = pd.date_range(f\"01-01-{year}\", f\"12-31-{year}\")\n",
    "    quotes_occ = quotes_occ.reindex(idx, fill_value=0)\n",
    "\n",
    "    # Scale trend\n",
    "    quotes_occ[\"numOccurrences\"] = StandardScaler().fit_transform(\n",
    "        quotes_occ[[\"numOccurrences\"]]\n",
    "    )\n",
    "\n",
    "    # Scale trend\n",
    "    df_google[keyword] = StandardScaler().fit_transform(df_google[[keyword]])\n",
    "\n",
    "    # Plot trends\n",
    "    ax.plot(quotes_occ, label=f\"{speaker_name} quote trend\", color=COLORS[0])\n",
    "    df_google.plot(y=keyword, use_index=True, ax=ax,\n",
    "                   label='Google trend', color=COLORS[1])\n",
    "\n",
    "    ax.set_title(f'Quotes & Search Trend for \"{keyword}\"')\n",
    "    ax.set_xlabel('Date')\n",
    "    ax.set_ylabel('Trend')\n",
    "    ax.legend()"
   ]
  },
  {
   "cell_type": "code",
   "execution_count": 114,
   "metadata": {
    "colab": {
     "base_uri": "https://localhost:8080/",
     "height": 342
    },
    "id": "DkYuT3jvfuyZ",
    "outputId": "b1309e9e-b925-4fb7-e73b-e808a1bc1d80"
   },
   "outputs": [
    {
     "data": {
      "image/png": "[encoded data removed]",
      "text/plain": [
       "<Figure size 1080x360 with 2 Axes>"
      ]
     },
     "metadata": {
      "needs_background": "light"
     },
     "output_type": "display_data"
    }
   ],
   "source": [
    "fig, axs = plt.subplots(figsize=(15, 5), nrows=1, ncols=2, sharey=True)\n",
    "plot_trend(trump_quotes, \"shooting\", YEAR, axs[0], \"Donald Trump\")\n",
    "plot_trend(obama_quotes, \"shooting\", YEAR, axs[1], \"Barack Obama\")"
   ]
  },
  {
   "cell_type": "code",
   "execution_count": null,
   "metadata": {
    "colab": {
     "base_uri": "https://localhost:8080/",
     "height": 342
    },
    "id": "5kQIe4Z93LOg",
    "outputId": "397474a7-cc68-4247-e1a8-6b2f47be46c7"
   },
   "outputs": [
    {
     "data": {
      "image/png": "[encoded data removed]",
      "text/plain": [
       "<Figure size 1080x360 with 2 Axes>"
      ]
     },
     "metadata": {
      "needs_background": "light"
     },
     "output_type": "display_data"
    }
   ],
   "source": [
    "fig, axs = plt.subplots(figsize=(15, 5), nrows=1, ncols=2, sharey=True)\n",
    "plot_trend(trump_quotes, \"terror\", YEAR, axs[0], \"Donald Trump\")\n",
    "plot_trend(obama_quotes, \"terror\", YEAR, axs[1], \"Barack Obama\")"
   ]
  },
  {
   "cell_type": "markdown",
   "metadata": {
    "id": "fFLBDQHeCnE7"
   },
   "source": [
    "## Most common words"
   ]
  },
  {
   "cell_type": "markdown",
   "metadata": {
    "id": "s4SFd_WiUM42"
   },
   "source": [
    "We analyze the most common words said by Trump and Obama to see if we can find a pattern. For the current analysis, we only look at the most common nouns of each politician after tokenizing and preprocessing their quotes."
   ]
  },
  {
   "cell_type": "code",
   "execution_count": 115,
   "metadata": {
    "id": "hQlhsLe7XsLv"
   },
   "outputs": [],
   "source": [
    "def preprocess_text(text):\n",
    "    \"\"\"\n",
    "    Apply NLTK preprocessing operations to extract more meaningful data\n",
    "    from the quotes.\n",
    "    \"\"\"\n",
    "    tokens = nltk.word_tokenize(text)\n",
    "    # Remove stopwords\n",
    "    stopwords_removed = [word for word in tokens if word not in stopwords.words(\"english\")]\n",
    "    tagged = nltk.pos_tag(stopwords_removed)\n",
    "    # Return only nouns\n",
    "    return [word for word, tag in tagged if tag.startswith('N') and word.isalpha()]"
   ]
  },
  {
   "cell_type": "code",
   "execution_count": 116,
   "metadata": {
    "id": "B1qij9ZdCpog"
   },
   "outputs": [],
   "source": [
    "# Count most common words for Donald Trump\n",
    "trump_words_cnt = Counter(preprocess_text(\" \".join(trump_quotes[\"quotation\"].str.lower())))"
   ]
  },
  {
   "cell_type": "code",
   "execution_count": 117,
   "metadata": {
    "colab": {
     "base_uri": "https://localhost:8080/"
    },
    "id": "krlUYxmTwZib",
    "outputId": "58e494a3-7f9e-490f-e794-f46567dbb6f0"
   },
   "outputs": [
    {
     "data": {
      "text/plain": [
       "[('people', 14753),\n",
       " ('country', 8376),\n",
       " ('president', 6822),\n",
       " ('time', 5588),\n",
       " ('trump', 5137),\n",
       " ('states', 4819),\n",
       " ('lot', 4651),\n",
       " ('deal', 4247),\n",
       " ('world', 4175),\n",
       " ('things', 4015),\n",
       " ('years', 4007),\n",
       " ('trade', 3750),\n",
       " ('way', 3712),\n",
       " ('something', 3201),\n",
       " ('thing', 3181),\n",
       " ('countries', 2794),\n",
       " ('russia', 2763),\n",
       " ('democrats', 2732),\n",
       " ('security', 2508),\n",
       " ('china', 2320),\n",
       " ('nothing', 2315),\n",
       " ('border', 2258),\n",
       " ('job', 2242),\n",
       " ('news', 2218),\n",
       " ('money', 2043),\n",
       " ('year', 1971),\n",
       " ('today', 1947),\n",
       " ('america', 1884),\n",
       " ('house', 1870),\n",
       " ('day', 1825)]"
      ]
     },
     "execution_count": 117,
     "metadata": {},
     "output_type": "execute_result"
    }
   ],
   "source": [
    "trump_words_cnt.most_common(30)"
   ]
  },
  {
   "cell_type": "code",
   "execution_count": null,
   "metadata": {
    "id": "4VIZOKhuFTuz"
   },
   "outputs": [],
   "source": [
    "# Count most common words for Barack Obama.\n",
    "obama_words_cnt = Counter(preprocess_text(\" \".join(obama_quotes[\"quotation\"].str.lower())))"
   ]
  },
  {
   "cell_type": "code",
   "execution_count": null,
   "metadata": {
    "colab": {
     "base_uri": "https://localhost:8080/"
    },
    "id": "pxXOnILKpPuB",
    "outputId": "c24d659f-dfac-40fa-efa7-b86a27af6fd6"
   },
   "outputs": [
    {
     "data": {
      "text/plain": [
       "[('people', 1585),\n",
       " ('time', 654),\n",
       " ('president', 577),\n",
       " ('world', 574),\n",
       " ('way', 533),\n",
       " ('country', 533),\n",
       " ('politics', 488),\n",
       " ('years', 441),\n",
       " ('democracy', 419),\n",
       " ('things', 402),\n",
       " ('work', 359),\n",
       " ('power', 343),\n",
       " ('something', 325),\n",
       " ('life', 323),\n",
       " ('america', 320),\n",
       " ('obama', 272),\n",
       " ('day', 271),\n",
       " ('thing', 266),\n",
       " ('states', 263),\n",
       " ('change', 258),\n",
       " ('election', 255),\n",
       " ('house', 254),\n",
       " ('history', 254),\n",
       " ('kind', 247),\n",
       " ('vote', 243),\n",
       " ('today', 225),\n",
       " ('trump', 222),\n",
       " ('americans', 212),\n",
       " ('women', 211),\n",
       " ('man', 204)]"
      ]
     },
     "execution_count": 36,
     "metadata": {},
     "output_type": "execute_result"
    }
   ],
   "source": [
    "obama_words_cnt.most_common(30)"
   ]
  },
  {
   "cell_type": "markdown",
   "metadata": {
    "id": "25b5RVCe-6w0"
   },
   "source": [
    "While Donald Trump talks about _Russia_, _China_, _money_, and _democrats_, Barack Obama chooses to talk about _democracy_, _change_, and _work_. This simple approach has revealed that although some of the main nouns are shared between the representants of the two parties, there are also differences that should be futher analyzed to figure out if they can tell us more about their parties."
   ]
  },
  {
   "cell_type": "code",
   "execution_count": null,
   "metadata": {
    "id": "btbKO7SXEDZk"
   },
   "outputs": [],
   "source": [
    "# Using this option to display the full quotes\n",
    "pd.set_option('display.max_colwidth', None)"
   ]
  },
  {
   "cell_type": "code",
   "execution_count": null,
   "metadata": {
    "colab": {
     "base_uri": "https://localhost:8080/"
    },
    "id": "8o1T6MedGCgG",
    "outputId": "6645116a-bd65-40da-eb2c-300841885faa"
   },
   "outputs": [
    {
     "data": {
      "text/plain": [
       "3028                                                                                                                                                                                             the scene of an uprising against police repression that led to a key turning point in the struggle for the civil rights of lesbian, gay, bisexual, and transgender (LGBT) Americans.\n",
       "20109                                                                                                                                                                                        (W) hen I hear people say they don't like identity politics, I think it's important to remember that identity politics doesn't just apply when it's black people or gay people or women,\n",
       "31804    I still have to stand here at a lecture and devote some time to saying that black people and white people and Asian people and Latin American people and women and men and gays and straights... are all human, that our differences are superficial, and that we should treat each other with care and respect. I would have thought we would have figured that out by now.\n",
       "37441                                                                                                                                                                 Which is why, by the way, when I hear people say they don't like identity politics, I think it's important to remember that identity politics doesn't just apply when it's black people or gay people or women,\n",
       "48616                                                                                                                                                  One day, to your horror, your problem is one hundred times more serious than what we have. It came to pass. Si Obama yun (That's Obama). Ngayon pagsabi kay Trump ngayon (But now Trump), he's declaring a national emergency,\n",
       "Name: quotation, dtype: object"
      ]
     },
     "execution_count": 43,
     "metadata": {},
     "output_type": "execute_result"
    }
   ],
   "source": [
    "obama_quotes[obama_quotes[\"quotation\"].str.contains('gay')]['quotation'].head()"
   ]
  },
  {
   "cell_type": "code",
   "execution_count": null,
   "metadata": {
    "colab": {
     "base_uri": "https://localhost:8080/",
     "height": 1000
    },
    "id": "19CYaL57IidE",
    "outputId": "ba35c94f-ca7b-401f-fde9-45b66c7c1fc8"
   },
   "outputs": [
    {
     "data": {
      "text/html": [
       "<div>\n",
       "<style scoped>\n",
       "    .dataframe tbody tr th:only-of-type {\n",
       "        vertical-align: middle;\n",
       "    }\n",
       "\n",
       "    .dataframe tbody tr th {\n",
       "        vertical-align: top;\n",
       "    }\n",
       "\n",
       "    .dataframe thead th {\n",
       "        text-align: right;\n",
       "    }\n",
       "</style>\n",
       "<table border=\"1\" class=\"dataframe\">\n",
       "  <thead>\n",
       "    <tr style=\"text-align: right;\">\n",
       "      <th></th>\n",
       "      <th>quoteID</th>\n",
       "      <th>quotation</th>\n",
       "      <th>speaker</th>\n",
       "      <th>qids</th>\n",
       "      <th>date</th>\n",
       "      <th>numOccurrences</th>\n",
       "      <th>probas</th>\n",
       "      <th>urls</th>\n",
       "      <th>phase</th>\n",
       "    </tr>\n",
       "  </thead>\n",
       "  <tbody>\n",
       "    <tr>\n",
       "      <th>1861</th>\n",
       "      <td>2018-01-18-038590</td>\n",
       "      <td>I cannot vibe with gays</td>\n",
       "      <td>President Donald Trump</td>\n",
       "      <td>[Q22686]</td>\n",
       "      <td>2018-01-18 17:42:12</td>\n",
       "      <td>1</td>\n",
       "      <td>[[President Donald Trump, 0.5233], [None, 0.4767]]</td>\n",
       "      <td>[http://fuse.tv/2018/01/offset-migos-boss-life-queer-lyric-controversy-yfn-lucci]</td>\n",
       "      <td>E</td>\n",
       "    </tr>\n",
       "    <tr>\n",
       "      <th>4127</th>\n",
       "      <td>2018-01-15-062263</td>\n",
       "      <td>On the surface it may seem like Trump is giving a speech to one of our nation's most beloved icons -- the American farmer. But, the Farm Bureau actually represents a small, tight-knit clan of wealthy, far-right ideologues who oppose gay marriage and gun-free zones, support racist voter suppression laws, and want to gut social welfare programs like Medicaid.</td>\n",
       "      <td>President Donald Trump</td>\n",
       "      <td>[Q22686]</td>\n",
       "      <td>2018-01-15 17:55:00</td>\n",
       "      <td>1</td>\n",
       "      <td>[[President Donald Trump, 0.5711], [None, 0.4289]]</td>\n",
       "      <td>[http://www.southeastfarmpress.com/farm-policy/trump-afbf-what-did-everyone-else-say]</td>\n",
       "      <td>E</td>\n",
       "    </tr>\n",
       "    <tr>\n",
       "      <th>15536</th>\n",
       "      <td>2018-10-29-025115</td>\n",
       "      <td>has shown himself to be completely shameless when it comes to throwing anybody under the bus to score political points. As a gay man, I feel that threat.</td>\n",
       "      <td>President Donald Trump</td>\n",
       "      <td>[Q22686]</td>\n",
       "      <td>2018-10-29 00:17:18</td>\n",
       "      <td>4</td>\n",
       "      <td>[[President Donald Trump, 0.6485], [None, 0.2856], [Nickie Antonio, 0.0659]]</td>\n",
       "      <td>[https://www.ohio.com/news/20181028/blue-wave-lgbt-candidates-hope-for-rainbow-wave, https://www.times-gazette.com/news/20181031/blue-wave-lgbtq-candidates-hope-for-rainbow-wave, https://www.dispatch.com/news/20181101/blue-wave-lgbtq-candidates-hope-for-rainbow-wave, https://www.indeonline.com/news/20181101/blue-wave-lgbtq-candidates-hope-for-rainbow-wave]</td>\n",
       "      <td>E</td>\n",
       "    </tr>\n",
       "    <tr>\n",
       "      <th>24896</th>\n",
       "      <td>2018-02-13-074191</td>\n",
       "      <td>It's not just for me. I got out there because -- it's not just gay kids, I think that everybody can relate to being different or feeling like they're not good enough or they'll never make it because they're from a small town, or maybe they just don't feel like they're good enough.</td>\n",
       "      <td>President Donald Trump</td>\n",
       "      <td>[Q22686]</td>\n",
       "      <td>2018-02-13 16:14:48</td>\n",
       "      <td>2</td>\n",
       "      <td>[[President Donald Trump, 0.3286], [None, 0.3038], [Mike Pence, 0.2501], [Adam Rippon, 0.1175]]</td>\n",
       "      <td>[http://people.com/sports/winter-olympics-2018-adam-rippon-message-haters/, http://people.com/sports/winter-olympics-2018-adam-rippon-gus-kenworthy-competing-openly-gay-athletes/]</td>\n",
       "      <td>E</td>\n",
       "    </tr>\n",
       "    <tr>\n",
       "      <th>30200</th>\n",
       "      <td>2018-01-26-124359</td>\n",
       "      <td>Tomorrow marks the 73rd anniversary of the liberation of Auschwitz-Birkenau, the Nazi death and concentration camp in Poland. We take this opportunity to recall the Nazis' systematic persecution and brutal murder of six million Jewish people. In their death camps and under their inhuman rule, the Nazis also enslaved and killed millions of Slavs, Roma, gays, people with disabilities, priests and religious leaders, and others who courageously opposed their brutal regime,</td>\n",
       "      <td>President Donald Trump</td>\n",
       "      <td>[Q22686]</td>\n",
       "      <td>2018-01-26 21:54:07</td>\n",
       "      <td>1</td>\n",
       "      <td>[[President Donald Trump, 0.8092], [None, 0.1908]]</td>\n",
       "      <td>[http://israelnationalnews.com/News/News.aspx/241218]</td>\n",
       "      <td>E</td>\n",
       "    </tr>\n",
       "  </tbody>\n",
       "</table>\n",
       "</div>"
      ],
      "text/plain": [
       "                 quoteID  ... phase\n",
       "1861   2018-01-18-038590  ...     E\n",
       "4127   2018-01-15-062263  ...     E\n",
       "15536  2018-10-29-025115  ...     E\n",
       "24896  2018-02-13-074191  ...     E\n",
       "30200  2018-01-26-124359  ...     E\n",
       "\n",
       "[5 rows x 9 columns]"
      ]
     },
     "execution_count": 45,
     "metadata": {},
     "output_type": "execute_result"
    }
   ],
   "source": [
    "trump_quotes[trump_quotes[\"quotation\"].str.contains('gay')].head()"
   ]
  },
  {
   "cell_type": "code",
   "execution_count": null,
   "metadata": {
    "id": "TD9CdgJOEKrg"
   },
   "outputs": [],
   "source": [
    "# Resetting the column width\n",
    "pd.reset_option('display.max_colwidth')"
   ]
  },
  {
   "cell_type": "markdown",
   "metadata": {
    "id": "tGzcxuhcSC0A"
   },
   "source": [
    "## News websites and speakers"
   ]
  },
  {
   "cell_type": "markdown",
   "metadata": {
    "id": "1POu59Wn2XCx"
   },
   "source": [
    "### Helpers"
   ]
  },
  {
   "cell_type": "code",
   "execution_count": null,
   "metadata": {
    "id": "DWY21v6X2d8P"
   },
   "outputs": [],
   "source": [
    "def get_domain_names(urls):\n",
    "    \"\"\"\n",
    "    Get a list with all domain names for the urls list given as parameter.\n",
    "    \"\"\"\n",
    "    domains = []\n",
    "    for url in urls:\n",
    "        res = get_tld(url, as_object=True)\n",
    "        domains.append(res.domain)\n",
    "    return domains\n",
    "\n",
    "\n",
    "def standardize_speaker_name(x):\n",
    "    \"\"\"\n",
    "    Standardize a speaker name to a common one from the list of politicians.\n",
    "    \"\"\"\n",
    "    plts = np.array(politicians)\n",
    "    return plts[[p in x for p in plts]][0]"
   ]
  },
  {
   "cell_type": "markdown",
   "metadata": {
    "id": "5J8xW20u2m2h"
   },
   "source": [
    "### News websites' preference for a speaker"
   ]
  },
  {
   "cell_type": "code",
   "execution_count": null,
   "metadata": {
    "id": "XH54Ubx1SE-9"
   },
   "outputs": [],
   "source": [
    "# Do not alter original data\n",
    "new_data_domains = data.copy()\n",
    "# Convert urls into domain names -> this takes 1 minute\n",
    "new_data_domains['urls'] = new_data_domains['urls'].apply(get_domain_names)"
   ]
  },
  {
   "cell_type": "code",
   "execution_count": null,
   "metadata": {
    "id": "0IsNy0Vu4Tpp"
   },
   "outputs": [],
   "source": [
    "# Standardize speaker names in order to be able to group quotes\n",
    "new_data_domains['speaker'] = new_data_domains['speaker'].apply(standardize_speaker_name)\n",
    "new_data_domains.head(10)\n",
    "# Gather all sites that retreieved a politician's quotes\n",
    "by_politician = new_data_domains.groupby('speaker')['urls'].agg(lambda x: list(chain.from_iterable(x.values))).reset_index()"
   ]
  },
  {
   "cell_type": "code",
   "execution_count": null,
   "metadata": {
    "id": "mFXk8qocBIBQ"
   },
   "outputs": [],
   "source": [
    "# Get number of quotes retrieved by a website, for each politician\n",
    "politicians_websites = []\n",
    "for index, row in by_politician.iterrows():\n",
    "    p_websites = pd.DataFrame(Counter(row['urls']).most_common(5),\n",
    "                              columns=[\"Website name\", \"{}\".format(row['speaker'])])\n",
    "    politicians_websites.append(p_websites)"
   ]
  },
  {
   "cell_type": "code",
   "execution_count": null,
   "metadata": {
    "colab": {
     "base_uri": "https://localhost:8080/",
     "height": 1000
    },
    "id": "iFpDxjqtCncW",
    "outputId": "c47a2bb3-2024-4998-c779-27480d293c46"
   },
   "outputs": [
    {
     "data": {
      "image/png": "[encoded data removed]",
      "text/plain": [
       "<Figure size 1440x1440 with 12 Axes>"
      ]
     },
     "metadata": {
      "needs_background": "light"
     },
     "output_type": "display_data"
    }
   ],
   "source": [
    "# Plot the websites, preferences for each politician\n",
    "w = 2\n",
    "h = len(politicians_websites) // w + 1\n",
    "fig, ax = plt.subplots(h, w, figsize=(20, 20))\n",
    "# TODO: See why title is not showing\n",
    "# fig.suptitle(\"Title centered above all subplots\", fontsize=25)\n",
    "for i in range(h):\n",
    "    j = 0\n",
    "    while i * w + j < len(politicians_websites) and j < w:\n",
    "        sbplt = ax[i, j]\n",
    "        ax_sns = sns.barplot(x=politicians_websites[j + i * w].columns[-1], y=\"Website name\",\n",
    "                             data=politicians_websites[j + i * w], ax=sbplt, color='blue')  # .set(xscale=\"log\")\n",
    "        ax_sns.set(xlabel=\"Count of quotes\", ylabel=None, title=politicians_websites[j + i * w].columns[-1])\n",
    "        j += 1\n",
    "fig.tight_layout()\n"
   ]
  },
  {
   "cell_type": "markdown",
   "metadata": {
    "id": "fng8VWlseg1Y"
   },
   "source": [
    "## Wikidata q-codes, first approach"
   ]
  },
  {
   "cell_type": "markdown",
   "metadata": {
    "id": "SBjOq3O6wG2H"
   },
   "source": [
    "### Helpers"
   ]
  },
  {
   "cell_type": "code",
   "execution_count": null,
   "metadata": {
    "id": "TMcbDQadwNtP"
   },
   "outputs": [],
   "source": [
    "def convert_qcodes_en(q_codes):\n",
    "    \"\"\"\n",
    "    Function for transforming wikidata q codes into list of english aliases or\n",
    "    labels related to the specific q code. If list of q_codes is given aggregate\n",
    "    all the words corresponding to each code. \n",
    "    \"\"\"\n",
    "    codes_values = []\n",
    "    if q_codes is not None:\n",
    "        for q_code in q_codes:\n",
    "            s = get_entity_dict_from_api(q_code)\n",
    "            s_value = []\n",
    "            if len(s.get('aliases', {}).get(\"en\", [])) > 0:\n",
    "                s_value.extend([v[\"value\"] for v in s['aliases'][\"en\"]])\n",
    "            if s.get('labels', {}).get(\"en\", {}) != dict():\n",
    "                s_value.append(s['labels'][\"en\"][\"value\"])\n",
    "\n",
    "            codes_values.extend(s_value)\n",
    "    if len(codes_values) == 0:\n",
    "        return None\n",
    "\n",
    "    return codes_values"
   ]
  },
  {
   "cell_type": "markdown",
   "metadata": {
    "id": "sUdSoAzAwZeZ"
   },
   "source": [
    "### Converting Q codes into list of aliases and label aggregated"
   ]
  },
  {
   "cell_type": "code",
   "execution_count": null,
   "metadata": {
    "id": "ZFha0gA7jRJy"
   },
   "outputs": [],
   "source": [
    "# Read .parquet file into a dataframe\n",
    "wikidata = pd.read_parquet(WIKIDATA_PATH, engine='pyarrow')"
   ]
  },
  {
   "cell_type": "code",
   "execution_count": null,
   "metadata": {
    "id": "IQtalz0IwuY8"
   },
   "outputs": [],
   "source": [
    "# Small test for converting wikidata qcodes into words (just first 5 entries)\n",
    "new_wikidata = wikidata.iloc[:5].copy()\n",
    "for name in WIKIDATA_QCODES_COL:\n",
    "    new_wikidata[name] = new_wikidata[name].apply(convert_qcodes_en)\n",
    "new_wikidata.head(1)"
   ]
  },
  {
   "cell_type": "markdown",
   "metadata": {
    "id": "SmFeW5IwITXQ"
   },
   "source": [
    "## Select all politicians' quotes and merge them with wikidata "
   ]
  },
  {
   "cell_type": "markdown",
   "metadata": {
    "id": "syKZeh1JMQj8"
   },
   "source": [
    "### Helpers"
   ]
  },
  {
   "cell_type": "code",
   "execution_count": 8,
   "metadata": {
    "id": "vemdf8bzMbkK"
   },
   "outputs": [],
   "source": [
    "def convert_qcodes(l, df):\n",
    "  \"\"\"\n",
    "  Convert list of qcodes to labels\n",
    "  \"\"\"\n",
    "  return None if l is None else list(map(lambda x: df.loc[x]['Label'] if x in df.index else None, l))\n",
    "\n",
    "\n",
    "def infer_format(time_stmp):\n",
    "    if time_stmp[6:8] == '00':\n",
    "        time_stmp = time_stmp[:5]\n",
    "        dt_format = '+%Y'\n",
    "    else:\n",
    "        time_stmp = time_stmp[:8]\n",
    "        dt_format = '+%Y-%m'\n",
    "    return time_stmp, dt_format\n",
    "\n",
    "    \n",
    "def get_party_membership(q_code):\n",
    "    \"\"\"\n",
    "    Function for obtaining party membership intervals for speaker with q_code\n",
    "    \"\"\"\n",
    "    tmp = []\n",
    "    if q_code is not None:\n",
    "        try:\n",
    "            s = get_entity_dict_from_api(q_code)\n",
    "        except:\n",
    "            return None\n",
    "        if len(s.get(\"claims\", {}).get(\"P102\", [])) > 0:\n",
    "            for v in s[\"claims\"][\"P102\"]:\n",
    "                if v[\"mainsnak\"].get(\"datavalue\", {}).get(\"value\", {}).get(\"id\") is not None:\n",
    "                    party = v[\"mainsnak\"][\"datavalue\"][\"value\"][\"id\"]\n",
    "                    if party in q_codes_labels.index:\n",
    "                        party = q_codes_labels.loc[party]['Label']\n",
    "                        # start_time, end_time = '+2008-07-31T00:00:00Z', '+2020-05-01T00:00:00Z'\n",
    "                        start_time, end_time = None, None\n",
    "                        if len(v.get('qualifiers', {}).get('P580', [])) > 0:\n",
    "                            if v['qualifiers']['P580'][0].get('datavalue', {}).get(\"value\", {}).get('time') is not None:\n",
    "                                start_time = v['qualifiers']['P580'][0][\"datavalue\"][\"value\"][\"time\"]\n",
    "                        if len(v.get('qualifiers', {}).get('P582', [])) > 0:\n",
    "                            if v['qualifiers']['P582'][0].get('datavalue', {}).get(\"value\", {}).get('time') is not None:\n",
    "                                end_time = v['qualifiers']['P582'][0][\"datavalue\"][\"value\"][\"time\"]\n",
    "                        if start_time is not None and end_time is not None:\n",
    "                            tmp.append([party, datetime.strptime(*infer_format(start_time)),\n",
    "                                        datetime.strptime(*infer_format(end_time))])\n",
    "                        elif start_time is not None and end_time is None:\n",
    "                            tmp.append([party, datetime.strptime(*infer_format(start_time)),\n",
    "                                        datetime.strptime(*infer_format('+2020-05-01T00:00:00Z'))])\n",
    "                        else:\n",
    "                            continue\n",
    "\n",
    "    if len(tmp) == 0:\n",
    "        return None\n",
    "\n",
    "    return tmp\n",
    "\n",
    "\n",
    "def get_politicians_entire_data(year, wiki_politicians, proba_threshold=0.6, sub_samples=None):\n",
    "    # Given a year, parses the Quotebank data and Wikidata and creates a file containing\n",
    "    # the quotes of politicians from that year, with wikidata qcodes as labels.\n",
    "\n",
    "    speaker_to_parties = {}\n",
    "    path_to_out = QUOTES_BY_YEAR[year]\n",
    "    path_to_file = f'/content/drive/MyDrive/Quotebank/quotes-{year}.json.bz2'\n",
    "    with bz2.open(path_to_file, 'rb') as s_file:\n",
    "        with bz2.open(path_to_out, 'wb') as d_file:\n",
    "            for i, instance in tqdm(enumerate(s_file)):\n",
    "                if sub_samples is not None and i > sub_samples:\n",
    "                    break\n",
    "                # Load a sample.\n",
    "                instance = json.loads(instance)\n",
    "                # Turn instance into Series\n",
    "                instance = pd.Series(instance)\n",
    "                # If there is un unknown speaker with the highest probability, \n",
    "                # therefore no qids or the attributed speaker has a lower\n",
    "                # probability than a threshold, then pass\n",
    "                if len(instance['qids']) == 0 or float(instance['probas'][0][1]) < proba_threshold:\n",
    "                    continue\n",
    "                # For each attributed qid in the list of qids\n",
    "                for qid in instance['qids']:\n",
    "                    # Get corresponding wiki_politicians sample for the specific qid in quotebank\n",
    "                    # This happens only if quotebank speaker is politician in a party\n",
    "                    try:\n",
    "                        wikidata_sample = pd.DataFrame(wiki_politicians.loc[qid]).T\n",
    "                    except KeyError:\n",
    "                        continue\n",
    "                    # Create new entry in series with politician qid\n",
    "                    instance['qid_politician'] = qid\n",
    "                    # Merge quotebank sample with wikidata sample based on qids\n",
    "                    new_sample = pd.merge(pd.DataFrame(instance).T, wikidata_sample,\n",
    "                                          left_on='qid_politician', right_index=True,\n",
    "                                          how='inner')\n",
    "                    # Transform dataframe into series\n",
    "                    new_sample = new_sample.squeeze(axis=0)\n",
    "\n",
    "\n",
    "                    # if qid not in speaker_to_parties:\n",
    "                    #     # Create entry in dict of mappings between politicians and party memberships intervals\n",
    "                    #     speaker_to_parties[qid] = get_party_membership(qid)\n",
    "                    # # Map parties to parties membership intervals\n",
    "                    # new_sample['party'] = speaker_to_parties[qid]\n",
    "                    # # Get quote date\n",
    "                    # quote_date = datetime.strptime(new_sample['quoteID'][:7], '%Y-%m')\n",
    "                    # # Select the party membership interval corresponding to the quote date\n",
    "                    # if new_sample['party'] is not None:\n",
    "                    #     new_sample['party'] = [p for p in new_sample['party'] if p[1] <= quote_date < p[2]]\n",
    "                    #     # If no membership interval found, take the last party\n",
    "                    #     if len(new_sample['party']) == 0:\n",
    "                    #         continue\n",
    "                    #         # new_sample['party'] = [speaker_to_parties[qid][-1]]\n",
    "                    #     # If multiple parties found  take the last one\n",
    "                    #     if len(new_sample['party']) > 1:\n",
    "                    #         new_sample['party'] = [speaker_to_parties[qid][-1]]\n",
    "\n",
    "\n",
    "                    # Write to file\n",
    "                    d_file.write((new_sample.to_json() + '\\n').encode('utf-8'))"
   ]
  },
  {
   "cell_type": "markdown",
   "metadata": {
    "id": "cU6sRkUeMYRc"
   },
   "source": [
    "### Get wikidata politicians (DO NOT RUN THIS AGAIN, FILE ALREADY CREATED)"
   ]
  },
  {
   "cell_type": "code",
   "execution_count": null,
   "metadata": {
    "id": "Zt0hEOffX_DG"
   },
   "outputs": [],
   "source": [
    "# Mapping between wikidata q codes and their labels\n",
    "q_codes_labels = pd.read_csv(WIKIDATA_LABELS_PATH, compression='bz2', index_col='QID')"
   ]
  },
  {
   "cell_type": "code",
   "execution_count": null,
   "metadata": {
    "colab": {
     "base_uri": "https://localhost:8080/",
     "height": 172
    },
    "id": "UNP8BIuwY33k",
    "outputId": "24b65f7b-192b-471f-e906-a60856d71f80"
   },
   "outputs": [
    {
     "data": {
      "text/html": [
       "<div>\n",
       "<style scoped>\n",
       "    .dataframe tbody tr th:only-of-type {\n",
       "        vertical-align: middle;\n",
       "    }\n",
       "\n",
       "    .dataframe tbody tr th {\n",
       "        vertical-align: top;\n",
       "    }\n",
       "\n",
       "    .dataframe thead th {\n",
       "        text-align: right;\n",
       "    }\n",
       "</style>\n",
       "<table border=\"1\" class=\"dataframe\">\n",
       "  <thead>\n",
       "    <tr style=\"text-align: right;\">\n",
       "      <th></th>\n",
       "      <th>Label</th>\n",
       "      <th>Description</th>\n",
       "    </tr>\n",
       "    <tr>\n",
       "      <th>QID</th>\n",
       "      <th></th>\n",
       "      <th></th>\n",
       "    </tr>\n",
       "  </thead>\n",
       "  <tbody>\n",
       "    <tr>\n",
       "      <th>Q31</th>\n",
       "      <td>Belgium</td>\n",
       "      <td>country in western Europe</td>\n",
       "    </tr>\n",
       "    <tr>\n",
       "      <th>Q45</th>\n",
       "      <td>Portugal</td>\n",
       "      <td>country in southwestern Europe</td>\n",
       "    </tr>\n",
       "    <tr>\n",
       "      <th>Q75</th>\n",
       "      <td>Internet</td>\n",
       "      <td>global system of connected computer networks</td>\n",
       "    </tr>\n",
       "  </tbody>\n",
       "</table>\n",
       "</div>"
      ],
      "text/plain": [
       "        Label                                   Description\n",
       "QID                                                        \n",
       "Q31   Belgium                     country in western Europe\n",
       "Q45  Portugal                country in southwestern Europe\n",
       "Q75  Internet  global system of connected computer networks"
      ]
     },
     "execution_count": 7,
     "metadata": {},
     "output_type": "execute_result"
    }
   ],
   "source": [
    "q_codes_labels.head(3)"
   ]
  },
  {
   "cell_type": "code",
   "execution_count": null,
   "metadata": {
    "colab": {
     "base_uri": "https://localhost:8080/",
     "height": 189
    },
    "id": "t8lM2huGIPcH",
    "outputId": "e3052e73-fd26-4c14-8812-178c048224c7"
   },
   "outputs": [
    {
     "name": "stderr",
     "output_type": "stream",
     "text": [
      "100%|██████████| 18111962/18111962 [24:31<00:00, 12307.74it/s] \n"
     ]
    },
    {
     "data": {
      "text/html": [
       "<div>\n",
       "<style scoped>\n",
       "    .dataframe tbody tr th:only-of-type {\n",
       "        vertical-align: middle;\n",
       "    }\n",
       "\n",
       "    .dataframe tbody tr th {\n",
       "        vertical-align: top;\n",
       "    }\n",
       "\n",
       "    .dataframe thead th {\n",
       "        text-align: right;\n",
       "    }\n",
       "</style>\n",
       "<table border=\"1\" class=\"dataframe\">\n",
       "  <thead>\n",
       "    <tr style=\"text-align: right;\">\n",
       "      <th></th>\n",
       "      <th>occupation</th>\n",
       "      <th>party</th>\n",
       "    </tr>\n",
       "    <tr>\n",
       "      <th>id</th>\n",
       "      <th></th>\n",
       "      <th></th>\n",
       "    </tr>\n",
       "  </thead>\n",
       "  <tbody>\n",
       "    <tr>\n",
       "      <th>Q23</th>\n",
       "      <td>[politician, military officer, farmer, cartogr...</td>\n",
       "      <td>[independent politician]</td>\n",
       "    </tr>\n",
       "    <tr>\n",
       "      <th>Q42</th>\n",
       "      <td>[playwright, screenwriter, novelist, children'...</td>\n",
       "      <td>None</td>\n",
       "    </tr>\n",
       "    <tr>\n",
       "      <th>Q1868</th>\n",
       "      <td>[writer, lawyer, librarian, information scient...</td>\n",
       "      <td>None</td>\n",
       "    </tr>\n",
       "  </tbody>\n",
       "</table>\n",
       "</div>"
      ],
      "text/plain": [
       "                                              occupation                     party\n",
       "id                                                                                \n",
       "Q23    [politician, military officer, farmer, cartogr...  [independent politician]\n",
       "Q42    [playwright, screenwriter, novelist, children'...                      None\n",
       "Q1868  [writer, lawyer, librarian, information scient...                      None"
      ]
     },
     "execution_count": 11,
     "metadata": {},
     "output_type": "execute_result"
    }
   ],
   "source": [
    "# Read wikidata .parquet file into a dataframe\n",
    "wikidata = pd.read_parquet(WIKIDATA_PATH, engine='pyarrow').set_index('id')\n",
    "party_qcodes = wikidata['party']\n",
    "# Map qcodes to labels\n",
    "wikidata = wikidata[WIKIDATA_QCODES_COL].progress_applymap(lambda lst: convert_qcodes(lst, q_codes_labels))\n",
    "wikidata['party_qcodes'] = party_qcodes.values\n",
    "wikidata.head(3)"
   ]
  },
  {
   "cell_type": "code",
   "execution_count": null,
   "metadata": {
    "colab": {
     "base_uri": "https://localhost:8080/"
    },
    "id": "7d96jOBP0vVx",
    "outputId": "e6b0a1fd-4946-4d4a-811f-96beb1ac8bbe"
   },
   "outputs": [
    {
     "data": {
      "text/plain": [
       "(9055981, 3)"
      ]
     },
     "execution_count": 16,
     "metadata": {},
     "output_type": "execute_result"
    }
   ],
   "source": [
    "# Total entries in wikidata\n",
    "wikidata.shape"
   ]
  },
  {
   "cell_type": "code",
   "execution_count": null,
   "metadata": {
    "colab": {
     "base_uri": "https://localhost:8080/",
     "height": 172
    },
    "id": "OCa2tEET0IJ4",
    "outputId": "cb3f95d7-7fe7-421c-f4b4-d81ab5fca45c"
   },
   "outputs": [
    {
     "data": {
      "text/html": [
       "<div>\n",
       "<style scoped>\n",
       "    .dataframe tbody tr th:only-of-type {\n",
       "        vertical-align: middle;\n",
       "    }\n",
       "\n",
       "    .dataframe tbody tr th {\n",
       "        vertical-align: top;\n",
       "    }\n",
       "\n",
       "    .dataframe thead th {\n",
       "        text-align: right;\n",
       "    }\n",
       "</style>\n",
       "<table border=\"1\" class=\"dataframe\">\n",
       "  <thead>\n",
       "    <tr style=\"text-align: right;\">\n",
       "      <th></th>\n",
       "      <th>occupation</th>\n",
       "      <th>party</th>\n",
       "      <th>party_qcodes</th>\n",
       "    </tr>\n",
       "    <tr>\n",
       "      <th>id</th>\n",
       "      <th></th>\n",
       "      <th></th>\n",
       "      <th></th>\n",
       "    </tr>\n",
       "  </thead>\n",
       "  <tbody>\n",
       "    <tr>\n",
       "      <th>Q23</th>\n",
       "      <td>[politician, military officer, farmer, cartogr...</td>\n",
       "      <td>[independent politician]</td>\n",
       "      <td>[Q327591]</td>\n",
       "    </tr>\n",
       "    <tr>\n",
       "      <th>Q207</th>\n",
       "      <td>[politician, motivational speaker, autobiograp...</td>\n",
       "      <td>[Republican Party]</td>\n",
       "      <td>[Q29468]</td>\n",
       "    </tr>\n",
       "    <tr>\n",
       "      <th>Q368</th>\n",
       "      <td>[military officer, politician]</td>\n",
       "      <td>[independent politician]</td>\n",
       "      <td>[Q327591]</td>\n",
       "    </tr>\n",
       "  </tbody>\n",
       "</table>\n",
       "</div>"
      ],
      "text/plain": [
       "                                             occupation  ... party_qcodes\n",
       "id                                                       ...             \n",
       "Q23   [politician, military officer, farmer, cartogr...  ...    [Q327591]\n",
       "Q207  [politician, motivational speaker, autobiograp...  ...     [Q29468]\n",
       "Q368                     [military officer, politician]  ...    [Q327591]\n",
       "\n",
       "[3 rows x 3 columns]"
      ]
     },
     "execution_count": 15,
     "metadata": {},
     "output_type": "execute_result"
    }
   ],
   "source": [
    "# Keep only politicians\n",
    "wikidata_politicians = wikidata.loc[wikidata['occupation'].apply(lambda lst: 'politician' in str(lst))]\n",
    "wikidata_politicians.head(3)"
   ]
  },
  {
   "cell_type": "code",
   "execution_count": null,
   "metadata": {
    "colab": {
     "base_uri": "https://localhost:8080/"
    },
    "id": "5TTyLwSL0tD7",
    "outputId": "5b1257f3-8b3a-4eac-c99e-521c6ff73122"
   },
   "outputs": [
    {
     "data": {
      "text/plain": [
       "(659455, 3)"
      ]
     },
     "execution_count": 17,
     "metadata": {},
     "output_type": "execute_result"
    }
   ],
   "source": [
    "# Total number of politicians\n",
    "wikidata_politicians.shape"
   ]
  },
  {
   "cell_type": "code",
   "execution_count": null,
   "metadata": {
    "id": "D7OGCaxYze0d"
   },
   "outputs": [],
   "source": [
    "# Save table with wikidata politicians\n",
    "wikidata_politicians.to_csv('/content/drive/MyDrive/wikidata_politicians.csv')"
   ]
  },
  {
   "cell_type": "markdown",
   "metadata": {
    "id": "4Ul1g1t82jgf"
   },
   "source": [
    "### Code"
   ]
  },
  {
   "cell_type": "code",
   "execution_count": 9,
   "metadata": {
    "colab": {
     "base_uri": "https://localhost:8080/"
    },
    "id": "_gF9Xdcq4UgO",
    "outputId": "8ccb518f-3c1b-4114-e16a-66fec447453b"
   },
   "outputs": [
    {
     "name": "stdout",
     "output_type": "stream",
     "text": [
      "There are 305302 politicians belonging to at least a party in Wikidata !\n"
     ]
    }
   ],
   "source": [
    "# Read dataframe with wikidata politicians\n",
    "wikidata_politicians = pd.read_csv(WIKIDATA_POLITICIANS_PATH).set_index('id')\n",
    "# Keep only the ones belonging to a party\n",
    "wikidata_politicians_in_party = wikidata_politicians.loc[~wikidata_politicians['party'].isna()]\n",
    "print(\"There are {} politicians belonging to at least a party in Wikidata !\".format(wikidata_politicians_in_party.shape[0]))"
   ]
  },
  {
   "cell_type": "code",
   "execution_count": null,
   "metadata": {
    "colab": {
     "base_uri": "https://localhost:8080/"
    },
    "id": "0uyWxMocmevH",
    "outputId": "fbbbae39-15a4-41d9-95d0-0fb89bd9cb71"
   },
   "outputs": [
    {
     "name": "stderr",
     "output_type": "stream",
     "text": [
      "855431it [17:05, 875.09it/s]"
     ]
    }
   ],
   "source": [
    "# Create zipped file for a specific year, with all Quotebank's entries where\n",
    "# the speaker is a politician belonging to a party\n",
    "for i in range(2015, 2021):\n",
    "    get_politicians_entire_data(i, wikidata_politicians_in_party)\n",
    "    print(\"Year {} ended !\\n\".format(i))"
   ]
  },
  {
   "cell_type": "code",
   "execution_count": 12,
   "metadata": {
    "id": "U0n_VLMBYCPL"
   },
   "outputs": [],
   "source": [
    "# Read the data just created\n",
    "data = pd.read_json(QUOTES_BY_YEAR[YEAR], lines=True)"
   ]
  },
  {
   "cell_type": "code",
   "execution_count": null,
   "metadata": {
    "id": "8CO3r0GgD7WU"
   },
   "outputs": [],
   "source": [
    "data.head(2)"
   ]
  },
  {
   "cell_type": "code",
   "execution_count": null,
   "metadata": {
    "colab": {
     "base_uri": "https://localhost:8080/"
    },
    "id": "UFXKa_6PoYdA",
    "outputId": "00da12db-aed0-44d0-b1ab-07a7683f8ac9"
   },
   "outputs": [
    {
     "name": "stdout",
     "output_type": "stream",
     "text": [
      "Number of parties is: 35\n",
      "\n"
     ]
    },
    {
     "data": {
      "text/plain": [
       "{'Australian Labor Party': 1,\n",
       " 'Bangladesh Nationalist Party': 1,\n",
       " 'Bharatiya Janata Party': 2,\n",
       " 'Christian Democratic Union': 3,\n",
       " 'Civic Choice': 1,\n",
       " 'Coalition Avenir Québec': 1,\n",
       " 'Comités Jeanne': 1,\n",
       " 'Communist Party of China': 2,\n",
       " 'Conservative Party': 2,\n",
       " 'Democratic Party': 3,\n",
       " 'Democratic Party of Korea': 1,\n",
       " 'Democratic Unionist Party': 1,\n",
       " 'Economic Freedom Fighters': 1,\n",
       " 'Free Democratic Party': 1,\n",
       " 'Green Party of England and Wales': 1,\n",
       " 'Indian National Congress': 1,\n",
       " 'Initiative for Catalonia Greens': 1,\n",
       " 'Justice and Development Party': 4,\n",
       " 'La République En Marche': 6,\n",
       " 'Lega Nord': 3,\n",
       " 'Liberal Democratic Party': 1,\n",
       " 'Likud': 4,\n",
       " 'Malaysian United Indigenous Party': 6,\n",
       " 'National Party of Australia': 1,\n",
       " 'National Rally': 1,\n",
       " 'Republican Party': 48,\n",
       " 'Russia of the Future': 1,\n",
       " 'Sabah Heritage Party': 1,\n",
       " 'Scottish Conservatives': 1,\n",
       " 'Senate Liberal Caucus': 1,\n",
       " 'Socialist Alternative': 1,\n",
       " 'Socialist Party': 1,\n",
       " 'United Socialist Party of Venezuela': 1,\n",
       " 'Yisrael Beiteinu': 1,\n",
       " 'independent politician': 2}"
      ]
     },
     "execution_count": 14,
     "metadata": {},
     "output_type": "execute_result"
    }
   ],
   "source": [
    "# Number of parties and number of speakers belonging to each party\n",
    "parties_occ = dict(Counter(data['party'].agg(lambda x: x[0][0] if x is not None else 'no_party')))\n",
    "sorted_parties = sorted(parties_occ.items(), key=lambda x: x[1], reverse=True)\n",
    "print(\"Number of parties is: {}\\n\".format(len(sorted_parties)))\n",
    "sorted_parties = dict(sorted_parties)\n",
    "sorted_parties"
   ]
  },
  {
   "cell_type": "markdown",
   "metadata": {
    "id": "xjn5d946aUnc"
   },
   "source": [
    "## BERT"
   ]
  },
  {
   "cell_type": "code",
   "execution_count": null,
   "metadata": {
    "colab": {
     "base_uri": "https://localhost:8080/",
     "height": 450,
     "referenced_widgets": [
      "b5f1e47f369f43fe9e41993ed04dae07",
      "6d7e9023d0c045deb30317cd155015b5",
      "65ead4597f4f4b56a85de218f1ee0c92",
      "47439a8b9cbe4955be63496dbec55568",
      "0fb3751af9d64dcfae95d52d0c21466a",
      "30a4cc5d723542faa6093b75b0cb746e",
      "8eb5c9b89f9f474ab24b7e8b7c0d094b",
      "ad1bc27fce1943559a7f4522f54b1d24",
      "bf3389dae88a450487e8486061059436",
      "2eb73c5a96d740dbbff08b3a8d1d32e8",
      "6cb3ba764a8b49039b5cf7db513ed242",
      "ce5bc9b0b7654690a3eaa695ed12faab",
      "05c2bd4d2d6d47fdacc12eee9f6b6361",
      "32ee16c4c28e49568c8e14b26c123ced",
      "9c30a92e9d264131b7f35c6ef61175a9",
      "30f331d2635847ff8a8801d219ac8f09",
      "601d5ee9ab9c4768a20f3b160d514c76",
      "40458dc74deb4942b20db6fa69197c94",
      "8d1e058fca924a888ef8021f72de40a7",
      "117a708725d548ba8b2046ae523fb582",
      "5b99599287c84ee0a2e013fe4742b033",
      "f0b4b2c0f8424020987a4ecaa90d2703",
      "1b5b7df26bc64b058aa927eb793fcd04",
      "76e517007f1044b5ac00a31ec256c9ff",
      "4b2666793ea44903b1555241cc03f428",
      "df641e9997554e60b5b76d08b14d2f45",
      "b741ee794ad74103b38f9a925fe5e773",
      "351f2f601e8749ea9c5f6215a6a5e177",
      "c9397d31d24a457d94a1504a209f99fe",
      "9f1a67031dcd41878263f6af95694b17",
      "83a1e9e91cba4cf3827418314f31a698",
      "1d05a39fe4824ad28287df46b3b05925",
      "7fec762083de4f458ea83c01be9349ed",
      "c085f2a673e343b59a4ff6569ad8136a",
      "992c4ac815c54d2683cd936387ac8e87",
      "3f4971c73bfd4f0cacaaebf0554cc29b",
      "fa676889299d4c76bc41d1b7a6cc5167",
      "92e3af8222eb4660b9d1a547d6eef3bd",
      "05337d65900b4b2083357686bb6429a4",
      "3a76696a03a34796971690203b5650c0",
      "889b3d3dd5384c4fa1756194a57e1f91",
      "e5c52c46ace64959920acf39700e4894",
      "a650069ec50e47b4bddea464bbd072ae",
      "4ebcefa15259418cb8c4a48d7d5e487f",
      "95e16ec30baa4e07a5da28987c2e4f2b",
      "6260b93b9e4e4c6cb2231738b007616d",
      "4aac2df9554648b98bdbfd7c45ba6f6d",
      "e82df6c03823453d8b4f54cecad1a358",
      "bec6df164add4f7595d073dc95aaf357",
      "f27c85f8f9854d6db62735f280b05563",
      "31f20a7d17594f4f99521c7599863f69",
      "e01ff8bf8ce04dc58eab9fd4c88b0d9a",
      "d3a9c818c6054b5aa3586a5a38bf8732",
      "b9d6a7895fbe4fb4ae77af425ed1de7b",
      "b7f8b9aa95d840ff906e9c7a3de3e92d",
      "8a6e74a24b6f41edbf621f925724c309",
      "6a4fce4865554339861733861c623662",
      "49b9aa5ab9084d87b3a675c93f09d597",
      "cae6e78bfcc24dc68d68763060386733",
      "651f166acc8246168ab2fe96714595c3",
      "b1df4777257f4bc89d3611aa732fbbba",
      "140dc1986d1d47ae91a6d841c6b1b992",
      "92c121ff7e254a0e8a747b339443700f",
      "47a6b289e267483ab418c534162a3f40",
      "8183b486dbc4470e9a17ba82d3a44dcc",
      "21d0b93f148d4e2597520a46ace6f515",
      "d87e2083d61a466990a16d6fd43e27a2",
      "cb06281b08574129892a0005f6c8a4de",
      "f5c54bfe607a4d789ac0e2abc3c655d7",
      "08f82a9979b44ac382db8cf608de5005",
      "5f299bbdcc624274b42d4cf6294726f9",
      "7f5bc165dea74f76b3d853cb34178e15",
      "c025197819ec46eb9aac56d8e68320e0",
      "bf5c52de887d4996809ce57278be694a",
      "6a4b5174ae4146448367b97c44f38a00",
      "95e8dc00e3134e009ac1aaacb08ab703",
      "45105f8b50b3434fabb31756d07f8474",
      "2cbd71b1da834a718aa3990d37adc728",
      "728012b6828a43f5aad6c8adade218cd",
      "bf1862f66d1d4adabce7f56f601dc2c9",
      "b3cf1fb01dd34660ab38f0dbe175bca0",
      "06dd01e72ed344a983ef3e10f0aea969",
      "1e440b1a3506472689f368ad3fd45c37",
      "48d9c30665084342b108ddfcf15719ae",
      "c824af9730004cce9ae7ba7821c62f81",
      "b9f810b845074c60a14f90a9c8840e61",
      "afc09a023179435eaa72dc5c1ef583a6",
      "bdf940a905264ba79b4fd8a0425db8fd",
      "24991482a53e44998b09ca31a4e191c1",
      "bdb926ba87704d0fade30d765ba8365d",
      "28decb66332a438d889bd71edbb2fe42",
      "9c2db7a7a56e494091f4c90b974d2311",
      "3e00f0497b8b4c028c343ccb2f76b081",
      "b4ad383657ed4b3eb084a68a547b9377",
      "d7f6d657b4a54addbd6bf40905ee85d3",
      "8e80d87e8a9a41dc8bfc8c9817509692",
      "e1e6db381ff149e4b287c1d4d90ef89b",
      "03e8fcd49c2a48498594dc37e37715fa",
      "0a3a8ed45da24a97971cad97ca1a0ff8",
      "269913c311a14cb0979878238287ae22",
      "0f0d4c5106ce4239b83e193333169ec3",
      "a2eea17532eb4c889cbe3e0d0fcd7e5e",
      "9cb11f696a74487093cd210f4e7eae44",
      "2d1b633dd6ec4d66b2158e14710375aa",
      "22b8415916dd417295531e8dc7b246ed",
      "5d015f50be4a4ce7965072aca3dd3e83",
      "55c5fe1bda224d09b61ac159a61598e7",
      "07afef09796e4c7c9e7c6c8460725f2c",
      "e1b66593a9bf4306a1913b5772ca64a3",
      "fcbbe71ba4ce4ef89df19f2be8aa4c54",
      "1ac4864ec9674f0bae0f1f9b7a3c39dc",
      "3dbc41653b994cd3857d653c298e073f",
      "0dd599fa392b4e2abecbfcf655315c16",
      "81d3432601d0479bae1a32abc95bc531",
      "27d99d29064c4050a94a7c60639cbcb6",
      "7a68fc33c7f043be8fb6528770dcc57e",
      "e28654a72b984ac6ae838100e0cbc202",
      "0c9eeda900f04736b171b674ca8d203c",
      "b688926d63414089b12fa2b2eca7e8a5",
      "9669c8620b9a4267a7cc2a8a47b192a5",
      "e08b55a031e145b3bc0b13af22b231b7",
      "f6d71695ca0e4b948b6ccecaf435f5fd",
      "b7b2339bce9e4457883fefecc89e5445",
      "0daacf716c6c4178ace1b8d1c8ca404d",
      "1b4ff079a5124d2a980d5d063792e33f",
      "6ea1816c9e194798b1d9d9ac99661393",
      "e9ad6eafa4fc4d25a1e67f06fe0f7eb4",
      "bcd1837c33874ec3a2c21a268409f2e5",
      "ced3e2e36efa4ee7ad700e0aeda735ac",
      "361a2480bb634943b1050ae5bc9838fd",
      "dd12a9a08fbb4efa8f9add3d76c01ee9",
      "ca6b48d3209442db9b3c65307a4a2930",
      "8edb2ba9f38a4a3ea4b2134caae3e0ca",
      "44af747a94164f148538fd03efd4d0a2",
      "248a7581abb74b9f83b929f58e273479",
      "ea85df200ca74294becebe10a2a11bcc",
      "0a4b7887bf77431881a88d81439ef1cd",
      "0823a5ffeee740f3be53a31f31df4ddd",
      "28bb16c5cf864eb99960985f1da278fc",
      "ddd7ba428aba4c009d0802b450684e75",
      "626b1132a8f240b9ba359878c77008d2",
      "b8c02e6fcf4f410d8f44849efb28ec73",
      "0b96d6349bf84870bcd5b144d437a2bc"
     ]
    },
    "id": "wW893RJ6aX7W",
    "outputId": "a4b98a53-854c-4774-e12a-789935b1834b"
   },
   "outputs": [
    {
     "data": {
      "application/vnd.jupyter.widget-view+json": {
       "model_id": "b5f1e47f369f43fe9e41993ed04dae07",
       "version_major": 2,
       "version_minor": 0
      },
      "text/plain": [
       "Downloading:   0%|          | 0.00/391 [00:00<?, ?B/s]"
      ]
     },
     "metadata": {},
     "output_type": "display_data"
    },
    {
     "data": {
      "application/vnd.jupyter.widget-view+json": {
       "model_id": "ce5bc9b0b7654690a3eaa695ed12faab",
       "version_major": 2,
       "version_minor": 0
      },
      "text/plain": [
       "Downloading:   0%|          | 0.00/3.95k [00:00<?, ?B/s]"
      ]
     },
     "metadata": {},
     "output_type": "display_data"
    },
    {
     "data": {
      "application/vnd.jupyter.widget-view+json": {
       "model_id": "1b5b7df26bc64b058aa927eb793fcd04",
       "version_major": 2,
       "version_minor": 0
      },
      "text/plain": [
       "Downloading:   0%|          | 0.00/2.00 [00:00<?, ?B/s]"
      ]
     },
     "metadata": {},
     "output_type": "display_data"
    },
    {
     "data": {
      "application/vnd.jupyter.widget-view+json": {
       "model_id": "c085f2a673e343b59a4ff6569ad8136a",
       "version_major": 2,
       "version_minor": 0
      },
      "text/plain": [
       "Downloading:   0%|          | 0.00/625 [00:00<?, ?B/s]"
      ]
     },
     "metadata": {},
     "output_type": "display_data"
    },
    {
     "data": {
      "application/vnd.jupyter.widget-view+json": {
       "model_id": "95e16ec30baa4e07a5da28987c2e4f2b",
       "version_major": 2,
       "version_minor": 0
      },
      "text/plain": [
       "Downloading:   0%|          | 0.00/122 [00:00<?, ?B/s]"
      ]
     },
     "metadata": {},
     "output_type": "display_data"
    },
    {
     "data": {
      "application/vnd.jupyter.widget-view+json": {
       "model_id": "8a6e74a24b6f41edbf621f925724c309",
       "version_major": 2,
       "version_minor": 0
      },
      "text/plain": [
       "Downloading:   0%|          | 0.00/229 [00:00<?, ?B/s]"
      ]
     },
     "metadata": {},
     "output_type": "display_data"
    },
    {
     "data": {
      "application/vnd.jupyter.widget-view+json": {
       "model_id": "d87e2083d61a466990a16d6fd43e27a2",
       "version_major": 2,
       "version_minor": 0
      },
      "text/plain": [
       "Downloading:   0%|          | 0.00/438M [00:00<?, ?B/s]"
      ]
     },
     "metadata": {},
     "output_type": "display_data"
    },
    {
     "data": {
      "application/vnd.jupyter.widget-view+json": {
       "model_id": "2cbd71b1da834a718aa3990d37adc728",
       "version_major": 2,
       "version_minor": 0
      },
      "text/plain": [
       "Downloading:   0%|          | 0.00/53.0 [00:00<?, ?B/s]"
      ]
     },
     "metadata": {},
     "output_type": "display_data"
    },
    {
     "data": {
      "application/vnd.jupyter.widget-view+json": {
       "model_id": "24991482a53e44998b09ca31a4e191c1",
       "version_major": 2,
       "version_minor": 0
      },
      "text/plain": [
       "Downloading:   0%|          | 0.00/112 [00:00<?, ?B/s]"
      ]
     },
     "metadata": {},
     "output_type": "display_data"
    },
    {
     "data": {
      "application/vnd.jupyter.widget-view+json": {
       "model_id": "269913c311a14cb0979878238287ae22",
       "version_major": 2,
       "version_minor": 0
      },
      "text/plain": [
       "Downloading:   0%|          | 0.00/466k [00:00<?, ?B/s]"
      ]
     },
     "metadata": {},
     "output_type": "display_data"
    },
    {
     "data": {
      "application/vnd.jupyter.widget-view+json": {
       "model_id": "1ac4864ec9674f0bae0f1f9b7a3c39dc",
       "version_major": 2,
       "version_minor": 0
      },
      "text/plain": [
       "Downloading:   0%|          | 0.00/399 [00:00<?, ?B/s]"
      ]
     },
     "metadata": {},
     "output_type": "display_data"
    },
    {
     "data": {
      "application/vnd.jupyter.widget-view+json": {
       "model_id": "f6d71695ca0e4b948b6ccecaf435f5fd",
       "version_major": 2,
       "version_minor": 0
      },
      "text/plain": [
       "Downloading:   0%|          | 0.00/232k [00:00<?, ?B/s]"
      ]
     },
     "metadata": {},
     "output_type": "display_data"
    },
    {
     "data": {
      "application/vnd.jupyter.widget-view+json": {
       "model_id": "8edb2ba9f38a4a3ea4b2134caae3e0ca",
       "version_major": 2,
       "version_minor": 0
      },
      "text/plain": [
       "Downloading:   0%|          | 0.00/190 [00:00<?, ?B/s]"
      ]
     },
     "metadata": {},
     "output_type": "display_data"
    },
    {
     "name": "stdout",
     "output_type": "stream",
     "text": [
      "cuda\n"
     ]
    }
   ],
   "source": [
    "# Check cuda runtime and set model\n",
    "device = torch.device(\"cuda\" if torch.cuda.is_available() else \"cpu\")\n",
    "model = SentenceTransformer('bert-base-nli-mean-tokens')\n",
    "print(device)"
   ]
  },
  {
   "cell_type": "code",
   "execution_count": null,
   "metadata": {
    "colab": {
     "base_uri": "https://localhost:8080/",
     "height": 49,
     "referenced_widgets": [
      "82d02467efad44068702b0e54d83b09b",
      "28128435835d43f6a927b7b4f2baa891",
      "06ea2abbced94a50ae20ca9dcc797556",
      "5af9a7adfffa4f3aad3a84fde8ce3bcb",
      "cd5e56ed92f0425c97b24add352a7496",
      "8bfd6f70be8f4a94aeb433389fa21571",
      "a74d0ee583b944f08fdb629c0c9f0554",
      "4ca985e427b14c748c4cb8bc3e46fed3",
      "d290acf262ff4b1d89124bdbb13db7bd",
      "af3881fe951c4a0c9480c27023962b7f",
      "940c00245ca443ceaa38ad62a355279c"
     ]
    },
    "id": "mWvJk0788JDf",
    "outputId": "08f970cb-794f-4260-bb93-a8ddcb5476f8"
   },
   "outputs": [
    {
     "data": {
      "application/vnd.jupyter.widget-view+json": {
       "model_id": "82d02467efad44068702b0e54d83b09b",
       "version_major": 2,
       "version_minor": 0
      },
      "text/plain": [
       "Batches:   0%|          | 0/4 [00:00<?, ?it/s]"
      ]
     },
     "metadata": {},
     "output_type": "display_data"
    }
   ],
   "source": [
    "# Find sentence embeddings\n",
    "sentence_embeddings = model.encode(list(data['quotation']), show_progress_bar=True)\n",
    "# Reduce dimensionality of embeddings\n",
    "umap_embeddings = umap.UMAP(n_neighbors=15, n_components=5, metric='cosine').fit_transform(sentence_embeddings)"
   ]
  },
  {
   "cell_type": "code",
   "execution_count": null,
   "metadata": {
    "id": "RCsRvnNs9ct-"
   },
   "outputs": [],
   "source": [
    "# Cluster documents\n",
    "cluster = hdbscan.HDBSCAN(min_cluster_size=3, metric='euclidean', cluster_selection_method='eom').fit(umap_embeddings)"
   ]
  },
  {
   "cell_type": "code",
   "execution_count": null,
   "metadata": {
    "colab": {
     "base_uri": "https://localhost:8080/",
     "height": 613
    },
    "id": "OdG2Q0Mf9-3T",
    "outputId": "d063224c-1079-4b7b-89ed-37624bbf659a"
   },
   "outputs": [
    {
     "data": {
      "text/plain": [
       "<matplotlib.colorbar.Colorbar at 0x7f4284e94490>"
      ]
     },
     "execution_count": 34,
     "metadata": {},
     "output_type": "execute_result"
    },
    {
     "data": {
      "image/png": "[encoded data removed]",
      "text/plain": [
       "<Figure size 1440x720 with 2 Axes>"
      ]
     },
     "metadata": {
      "needs_background": "light"
     },
     "output_type": "display_data"
    }
   ],
   "source": [
    "# Prepare data\n",
    "umap_data = umap.UMAP(n_neighbors=15, n_components=2, min_dist=0.0, metric='cosine').fit_transform(sentence_embeddings)\n",
    "result = pd.DataFrame(umap_data, columns=['x', 'y'])\n",
    "result['labels'] = cluster.labels_\n",
    "data['labels'] = cluster.labels_\n",
    "\n",
    "# Visualize clusters\n",
    "fig, ax = plt.subplots(figsize=(20, 10))\n",
    "outliers = result.loc[result.labels == -1, :]\n",
    "clustered = result.loc[result.labels != -1, :]\n",
    "plt.scatter(outliers.x, outliers.y, color='#BDBDBD', s=30)\n",
    "plt.scatter(clustered.x, clustered.y, c=clustered.labels, s=30, cmap='hsv_r')\n",
    "plt.colorbar()"
   ]
  },
  {
   "cell_type": "code",
   "execution_count": null,
   "metadata": {
    "colab": {
     "base_uri": "https://localhost:8080/"
    },
    "id": "gK2QxpTnE3rG",
    "outputId": "1ebc5aab-3787-4059-b044-1faac54b685e"
   },
   "outputs": [
    {
     "data": {
      "text/plain": [
       "['and he is already a proven liar and leaker.',\n",
       " 'could be one of the single most unfair, unjust things to happen for a candidate for anything.',\n",
       " 'each one of them have their own personality whether it be a clown, or a couch potato, whether they just bounce off the walls.',\n",
       " 'has directly or indirectly produced tremendous legal and political peril for Trump,',\n",
       " \"If we don't get tough on the drug dealers, we're wasting or time. And that toughness includes the death penalty.\",\n",
       " 'Islamophobic, Turcophobic, xenophobic and racist.',\n",
       " \"John Brennan is panicking. He has disgraced himself, he has disgraced the Country, he has disgraced the entire Intelligence Community. He is the one man who is largely responsible for the destruction of American's faith in the Intelligence Community and in some people at the....\",\n",
       " 'Many aliens who illegally enter the United States and those who overstay... the terms of their visas present a significant threat to national security and public safety.',\n",
       " 'murder of AAP in Punjab',\n",
       " 'No anger can justify attacking a policeman or a gendarme, vandalizing a shop or a government building.',\n",
       " \"People who say the flash sale model is dead don't realize how much business is being transacted in this space by consumers,\",\n",
       " 'risk that haunts us -- of division, nationalism, inward-looking attitudes, the great fears that can make democracy to doubt itself.',\n",
       " \"The Democratic Party says Putin is a bloody dictator... I think Renzi [ Matteo Renzi, Italy's former prime minister ] isn't even worth a pinkie of the Russia president. What do you think?\",\n",
       " 'The euro is a huge inconvenience for our economy, for businesses, for exports. That much seems clear.',\n",
       " 'The horror of life in North Korea is so complete that citizens pay bribes to government officials to have themselves exported abroad as slaves. They would rather be slaves than live in North Korea.... Leaders imprison their people under the banner of tyranny, fascism and oppression...']"
      ]
     },
     "execution_count": 37,
     "metadata": {},
     "output_type": "execute_result"
    }
   ],
   "source": [
    "# Check a cluster results\n",
    "clusters = data.groupby('labels')[['quotation', 'party']].agg(list)\n",
    "clusters.quotation.loc[5]"
   ]
  },
  {
   "cell_type": "code",
   "execution_count": null,
   "metadata": {
    "colab": {
     "base_uri": "https://localhost:8080/"
    },
    "id": "rBNXgqU4WobH",
    "outputId": "a8784368-a0a3-4131-cb00-5d3e2daa63ef"
   },
   "outputs": [
    {
     "data": {
      "text/plain": [
       "Counter({'Conservative Party': 1,\n",
       "         'Free Democratic Party': 1,\n",
       "         'Indian National Congress': 1,\n",
       "         'Justice and Development Party': 1,\n",
       "         'La République En Marche': 2,\n",
       "         'Lega Nord': 1,\n",
       "         'National Rally': 1,\n",
       "         'Republican Party': 7})"
      ]
     },
     "execution_count": 41,
     "metadata": {},
     "output_type": "execute_result"
    }
   ],
   "source": [
    "# Get the parties interested in topic 3 \n",
    "Counter((map(lambda x: x[0][0], clusters.party.loc[5])))"
   ]
  },
  {
   "cell_type": "code",
   "execution_count": null,
   "metadata": {
    "colab": {
     "base_uri": "https://localhost:8080/"
    },
    "id": "MLQqLW3fVTpy",
    "outputId": "78eb12ba-076d-4fd5-fe22-a560370675a7"
   },
   "outputs": [
    {
     "data": {
      "text/plain": [
       "['After another day of voting in the Knesset, I would like to thank Dudi Amsalem, who is doing an excellent job as chairman of the coalition.',\n",
       " 'After they claimed the prime minister smoked one million shekels worth of cigars, here comes more hot air: Benefits worth a billion shekel,',\n",
       " 'bold and responsible plan. We believe it is the most well-researched, thoughtful state tax reform effort in America.',\n",
       " 'borrowing from the successful approach in Germany and other developed economies',\n",
       " \"China's per capita income is moving up from the current level of 8,000-plus to 10,000 U.S. dollars and even higher. At such a stage of development, China needs to put more emphasis on structural improvement rather than quantity expansion,\",\n",
       " 'DOE works closely with leaders in manufacturing to develop next generation technologies that will boost American job growth and strengthen domestic industries.',\n",
       " \"Everything's renting overall, but they're finding those areas more popular because they have the four bedroom homes being built in newer areas.\",\n",
       " 'huge demonstrations with hundreds of thousands of people on the streets in a very peaceful and calm way',\n",
       " 'I ran all commercial sales for Cumberland and the surrounding areas,',\n",
       " \"I would like to visit Nigeria. I'd like very much to visit Nigeria. It's an amazing country and in certain ways I heard from the standpoint of a beauty of a country, there's no country more beautiful, so I would like to,\",\n",
       " \"It's the purpose and intent of a safe consumption site to reduce the harm associated with drug use, including fatal overdoses,\",\n",
       " \"It's true, friends from several European countries are asking me to,\",\n",
       " 'March on Amazon! Tax Big Biz to Build Affordable Housing!',\n",
       " 'Maybe because on taxes, immigration, employment and healthcare he is keeping all the promises he made during his electoral campaign?',\n",
       " \"`Most people, 83 percent, are going to see no change or a decrease in their taxes,' said Jeffrey DeWitt, the city's chief financial officer. According to an analysis conducted by DeWitt's office of the 509-page tax law, 64 percent of D.C. taxpayers will see a decrease in their overall taxes, with the median decrease being $1,159, while 19 percent will see no change. Of the 17 percent that see a tax increase, it will be a median tax hike of $929.\",\n",
       " 'My appeal to the international community is to step up to the plate and to substantially increase the financial support to all those working in Bangladesh to protect and assist the Rohingya refugees,',\n",
       " \"My thoughts and prayers are with all of the victims involved in this morning's train collision in South Carolina. Thank you to our incredible First Responders for the work they've done!\",\n",
       " 'Oprah would be a lot of fun. I know her very well. I did one of her last shows... I like Oprah,',\n",
       " 'Our Country losses 250 Billion Dollars a year on illegal immigration, not including the terrible drug flow. Top Border Security, including a Wall, is $25 Billion. Pays for itself in two months.',\n",
       " 'paying for 90% of NATO.',\n",
       " \"President Donald Trump will travel to St. Louis in mid-March to host a high-dollar, invitation-only fundraiser with Republican U.S. Senate candidate Josh Hawley -- an event that could shore up more than just Hawley's campaign fund. Hawley, widely viewed as the front-runner for this year's GOP nomination to challenge Sen. Claire McCaskill, D-Mo., has faced talk lately of party dissatisfaction with his campaign, which some say has failed to catch fire. Chatter in Missouri and Washington has included the possibility of pulling U.S. Rep. Ann Wagner, R-Ballwin, into the race. An appearance by Trump at a Hawley event full of big-money donors presumably would tamp down such talk.\",\n",
       " \"So maybe the American president doesn't care about being isolated today but neither do we mind signing a six-country agreement if need be. Because these six represent values, they represent an economic market which has the weight of history behind it and which is now a true international force,\",\n",
       " 'The most important role that Germany has is to bring Europe together, not to divide it. But without Germany, this division would not exist.',\n",
       " 'The Sabah government will continue negotiating and discussing with the federal government to improve the development agenda in the state, as well as ensuring all rights and privileges through the Malaysia Agreement 1963 continue to be upheld,',\n",
       " \"the unity we need to deliver for the people we were elected to serve.' The conciliatory tone of Trump's first State of the Union address was sharply at odds with the combative manner in which he has conducted his presidency -- and with the tension evident between Republicans and Democrats in the Capitol, where he spoke.... The president set an ambitious agenda for his second year in office, from a $1.5 trillion plan to rebuild the nation's crumbling infrastructure to a four-pronged immigration package to a pledge to reduce prescription drug prices. His one-hour, 20-minute speech was the longest since Bill Clinton's State of the Union address in 2000.\",\n",
       " 'The usual custom is that when the results become apparent, Jane and I would head downtown to a hotel ballroom to be part of the Vermont Democratic Party gathering,',\n",
       " \"There is a penalty if Malaysia withdraws from the agreement. I am told it's almost RM500 million,\"]"
      ]
     },
     "execution_count": 39,
     "metadata": {},
     "output_type": "execute_result"
    }
   ],
   "source": [
    "# Get another cluster's quotes\n",
    "clusters.quotation.loc[0]"
   ]
  },
  {
   "cell_type": "code",
   "execution_count": null,
   "metadata": {
    "colab": {
     "base_uri": "https://localhost:8080/"
    },
    "id": "fFfMSBqrNDYB",
    "outputId": "a3b5b734-0688-48d8-f116-32f563cc00e1"
   },
   "outputs": [
    {
     "data": {
      "text/plain": [
       "Counter({'Christian Democratic Union': 1,\n",
       "         'Communist Party of China': 1,\n",
       "         'Conservative Party': 1,\n",
       "         'Democratic Party': 2,\n",
       "         'Initiative for Catalonia Greens': 1,\n",
       "         'La République En Marche': 1,\n",
       "         'Lega Nord': 2,\n",
       "         'Likud': 2,\n",
       "         'Malaysian United Indigenous Party': 1,\n",
       "         'Republican Party': 10,\n",
       "         'Sabah Heritage Party': 1,\n",
       "         'Senate Liberal Caucus': 1,\n",
       "         'Socialist Alternative': 1,\n",
       "         'Socialist Party': 1,\n",
       "         'independent politician': 1})"
      ]
     },
     "execution_count": 42,
     "metadata": {},
     "output_type": "execute_result"
    }
   ],
   "source": [
    "# Get the parties interested in topic 1\n",
    "Counter((map(lambda x: x[0][0], clusters.party.loc[0])))"
   ]
  },
  {
   "cell_type": "markdown",
   "metadata": {
    "id": "Qxq4GDqkAmH4"
   },
   "source": [
    "**or another approach**\n"
   ]
  },
  {
   "cell_type": "code",
   "execution_count": null,
   "metadata": {
    "id": "o_LdLCIN0qKw"
   },
   "outputs": [],
   "source": [
    "def clustering_question(data,NUM_CLUSTERS = 3):\n",
    "\n",
    "    sentences = data['quotation']\n",
    "\n",
    "    X = np.array(data['embeddings'].tolist())\n",
    "\n",
    "    kclusterer = KMeansClusterer(\n",
    "        NUM_CLUSTERS, distance=nltk.cluster.util.cosine_distance,\n",
    "        repeats=25,avoid_empty_clusters=True)\n",
    "\n",
    "    assigned_clusters = kclusterer.cluster(X, assign_clusters=True)\n",
    "\n",
    "    data['cluster'] = pd.Series(assigned_clusters, index=data.index)\n",
    "    data['centroid'] = data['cluster'].apply(lambda x: kclusterer.means()[x])\n",
    "\n",
    "    return data, assigned_clusters"
   ]
  },
  {
   "cell_type": "code",
   "execution_count": null,
   "metadata": {
    "id": "sMNROiGz0tYT"
   },
   "outputs": [],
   "source": [
    "data['embeddings'] = sentence_embeddings.tolist()\n",
    "data, clusters = clustering_question(data)\n",
    "data.head(3)"
   ]
  },
  {
   "cell_type": "markdown",
   "metadata": {
    "id": "RnEiJbJsQW-j"
   },
   "source": [
    "## Suggestions\n",
    "\n",
    "*   Apply \"get_membership_party\" on yearly resulted dataframes\n",
    "\n",
    "*   Tune parameters for UMAP\n",
    "*   Tune parameters for HDBSCAN\n",
    "\n",
    "\n",
    "\n",
    "\n"
   ]
  },
  {
   "cell_type": "code",
   "execution_count": null,
   "metadata": {
    "id": "SpoSHjtBXNxK"
   },
   "outputs": [],
   "source": []
  }
 ],
 "metadata": {
  "accelerator": "GPU",
  "colab": {
   "collapsed_sections": [
    "cU6sRkUeMYRc"
   ],
   "name": "project_notebook_Mihai (1).ipynb",
   "provenance": []
  },
  "kernelspec": {
   "display_name": "Python 3 (ipykernel)",
   "language": "python",
   "name": "python3"
  },
  "language_info": {
   "codemirror_mode": {
    "name": "ipython",
    "version": 3
   },
   "file_extension": ".py",
   "mimetype": "text/x-python",
   "name": "python",
   "nbconvert_exporter": "python",
   "pygments_lexer": "ipython3",
   "version": "3.8.10"
  },
  "widgets": {
   "application/vnd.jupyter.widget-state+json": {
    "03e8fcd49c2a48498594dc37e37715fa": {
     "model_module": "@jupyter-widgets/controls",
     "model_module_version": "1.5.0",
     "model_name": "DescriptionStyleModel",
     "state": {
      "_model_module": "@jupyter-widgets/controls",
      "_model_module_version": "1.5.0",
      "_model_name": "DescriptionStyleModel",
      "_view_count": null,
      "_view_module": "@jupyter-widgets/base",
      "_view_module_version": "1.2.0",
      "_view_name": "StyleView",
      "description_width": ""
     }
    },
    "05337d65900b4b2083357686bb6429a4": {
     "model_module": "@jupyter-widgets/controls",
     "model_module_version": "1.5.0",
     "model_name": "DescriptionStyleModel",
     "state": {
      "_model_module": "@jupyter-widgets/controls",
      "_model_module_version": "1.5.0",
      "_model_name": "DescriptionStyleModel",
      "_view_count": null,
      "_view_module": "@jupyter-widgets/base",
      "_view_module_version": "1.2.0",
      "_view_name": "StyleView",
      "description_width": ""
     }
    },
    "05c2bd4d2d6d47fdacc12eee9f6b6361": {
     "model_module": "@jupyter-widgets/base",
     "model_module_version": "1.2.0",
     "model_name": "LayoutModel",
     "state": {
      "_model_module": "@jupyter-widgets/base",
      "_model_module_version": "1.2.0",
      "_model_name": "LayoutModel",
      "_view_count": null,
      "_view_module": "@jupyter-widgets/base",
      "_view_module_version": "1.2.0",
      "_view_name": "LayoutView",
      "align_content": null,
      "align_items": null,
      "align_self": null,
      "border": null,
      "bottom": null,
      "display": null,
      "flex": null,
      "flex_flow": null,
      "grid_area": null,
      "grid_auto_columns": null,
      "grid_auto_flow": null,
      "grid_auto_rows": null,
      "grid_column": null,
      "grid_gap": null,
      "grid_row": null,
      "grid_template_areas": null,
      "grid_template_columns": null,
      "grid_template_rows": null,
      "height": null,
      "justify_content": null,
      "justify_items": null,
      "left": null,
      "margin": null,
      "max_height": null,
      "max_width": null,
      "min_height": null,
      "min_width": null,
      "object_fit": null,
      "object_position": null,
      "order": null,
      "overflow": null,
      "overflow_x": null,
      "overflow_y": null,
      "padding": null,
      "right": null,
      "top": null,
      "visibility": null,
      "width": null
     }
    },
    "06dd01e72ed344a983ef3e10f0aea969": {
     "model_module": "@jupyter-widgets/controls",
     "model_module_version": "1.5.0",
     "model_name": "HTMLModel",
     "state": {
      "_dom_classes": [],
      "_model_module": "@jupyter-widgets/controls",
      "_model_module_version": "1.5.0",
      "_model_name": "HTMLModel",
      "_view_count": null,
      "_view_module": "@jupyter-widgets/controls",
      "_view_module_version": "1.5.0",
      "_view_name": "HTMLView",
      "description": "",
      "description_tooltip": null,
      "layout": "IPY_MODEL_bdf940a905264ba79b4fd8a0425db8fd",
      "placeholder": "​",
      "style": "IPY_MODEL_afc09a023179435eaa72dc5c1ef583a6",
      "value": " 53.0/53.0 [00:00&lt;00:00, 1.18kB/s]"
     }
    },
    "06ea2abbced94a50ae20ca9dcc797556": {
     "model_module": "@jupyter-widgets/controls",
     "model_module_version": "1.5.0",
     "model_name": "HTMLModel",
     "state": {
      "_dom_classes": [],
      "_model_module": "@jupyter-widgets/controls",
      "_model_module_version": "1.5.0",
      "_model_name": "HTMLModel",
      "_view_count": null,
      "_view_module": "@jupyter-widgets/controls",
      "_view_module_version": "1.5.0",
      "_view_name": "HTMLView",
      "description": "",
      "description_tooltip": null,
      "layout": "IPY_MODEL_a74d0ee583b944f08fdb629c0c9f0554",
      "placeholder": "​",
      "style": "IPY_MODEL_8bfd6f70be8f4a94aeb433389fa21571",
      "value": "Batches: 100%"
     }
    },
    "07afef09796e4c7c9e7c6c8460725f2c": {
     "model_module": "@jupyter-widgets/base",
     "model_module_version": "1.2.0",
     "model_name": "LayoutModel",
     "state": {
      "_model_module": "@jupyter-widgets/base",
      "_model_module_version": "1.2.0",
      "_model_name": "LayoutModel",
      "_view_count": null,
      "_view_module": "@jupyter-widgets/base",
      "_view_module_version": "1.2.0",
      "_view_name": "LayoutView",
      "align_content": null,
      "align_items": null,
      "align_self": null,
      "border": null,
      "bottom": null,
      "display": null,
      "flex": null,
      "flex_flow": null,
      "grid_area": null,
      "grid_auto_columns": null,
      "grid_auto_flow": null,
      "grid_auto_rows": null,
      "grid_column": null,
      "grid_gap": null,
      "grid_row": null,
      "grid_template_areas": null,
      "grid_template_columns": null,
      "grid_template_rows": null,
      "height": null,
      "justify_content": null,
      "justify_items": null,
      "left": null,
      "margin": null,
      "max_height": null,
      "max_width": null,
      "min_height": null,
      "min_width": null,
      "object_fit": null,
      "object_position": null,
      "order": null,
      "overflow": null,
      "overflow_x": null,
      "overflow_y": null,
      "padding": null,
      "right": null,
      "top": null,
      "visibility": null,
      "width": null
     }
    },
    "0823a5ffeee740f3be53a31f31df4ddd": {
     "model_module": "@jupyter-widgets/controls",
     "model_module_version": "1.5.0",
     "model_name": "DescriptionStyleModel",
     "state": {
      "_model_module": "@jupyter-widgets/controls",
      "_model_module_version": "1.5.0",
      "_model_name": "DescriptionStyleModel",
      "_view_count": null,
      "_view_module": "@jupyter-widgets/base",
      "_view_module_version": "1.2.0",
      "_view_name": "StyleView",
      "description_width": ""
     }
    },
    "08f82a9979b44ac382db8cf608de5005": {
     "model_module": "@jupyter-widgets/controls",
     "model_module_version": "1.5.0",
     "model_name": "FloatProgressModel",
     "state": {
      "_dom_classes": [],
      "_model_module": "@jupyter-widgets/controls",
      "_model_module_version": "1.5.0",
      "_model_name": "FloatProgressModel",
      "_view_count": null,
      "_view_module": "@jupyter-widgets/controls",
      "_view_module_version": "1.5.0",
      "_view_name": "ProgressView",
      "bar_style": "success",
      "description": "",
      "description_tooltip": null,
      "layout": "IPY_MODEL_6a4b5174ae4146448367b97c44f38a00",
      "max": 438007537,
      "min": 0,
      "orientation": "horizontal",
      "style": "IPY_MODEL_bf5c52de887d4996809ce57278be694a",
      "value": 438007537
     }
    },
    "0a3a8ed45da24a97971cad97ca1a0ff8": {
     "model_module": "@jupyter-widgets/base",
     "model_module_version": "1.2.0",
     "model_name": "LayoutModel",
     "state": {
      "_model_module": "@jupyter-widgets/base",
      "_model_module_version": "1.2.0",
      "_model_name": "LayoutModel",
      "_view_count": null,
      "_view_module": "@jupyter-widgets/base",
      "_view_module_version": "1.2.0",
      "_view_name": "LayoutView",
      "align_content": null,
      "align_items": null,
      "align_self": null,
      "border": null,
      "bottom": null,
      "display": null,
      "flex": null,
      "flex_flow": null,
      "grid_area": null,
      "grid_auto_columns": null,
      "grid_auto_flow": null,
      "grid_auto_rows": null,
      "grid_column": null,
      "grid_gap": null,
      "grid_row": null,
      "grid_template_areas": null,
      "grid_template_columns": null,
      "grid_template_rows": null,
      "height": null,
      "justify_content": null,
      "justify_items": null,
      "left": null,
      "margin": null,
      "max_height": null,
      "max_width": null,
      "min_height": null,
      "min_width": null,
      "object_fit": null,
      "object_position": null,
      "order": null,
      "overflow": null,
      "overflow_x": null,
      "overflow_y": null,
      "padding": null,
      "right": null,
      "top": null,
      "visibility": null,
      "width": null
     }
    },
    "0a4b7887bf77431881a88d81439ef1cd": {
     "model_module": "@jupyter-widgets/controls",
     "model_module_version": "1.5.0",
     "model_name": "HTMLModel",
     "state": {
      "_dom_classes": [],
      "_model_module": "@jupyter-widgets/controls",
      "_model_module_version": "1.5.0",
      "_model_name": "HTMLModel",
      "_view_count": null,
      "_view_module": "@jupyter-widgets/controls",
      "_view_module_version": "1.5.0",
      "_view_name": "HTMLView",
      "description": "",
      "description_tooltip": null,
      "layout": "IPY_MODEL_0b96d6349bf84870bcd5b144d437a2bc",
      "placeholder": "​",
      "style": "IPY_MODEL_b8c02e6fcf4f410d8f44849efb28ec73",
      "value": " 190/190 [00:00&lt;00:00, 2.94kB/s]"
     }
    },
    "0b96d6349bf84870bcd5b144d437a2bc": {
     "model_module": "@jupyter-widgets/base",
     "model_module_version": "1.2.0",
     "model_name": "LayoutModel",
     "state": {
      "_model_module": "@jupyter-widgets/base",
      "_model_module_version": "1.2.0",
      "_model_name": "LayoutModel",
      "_view_count": null,
      "_view_module": "@jupyter-widgets/base",
      "_view_module_version": "1.2.0",
      "_view_name": "LayoutView",
      "align_content": null,
      "align_items": null,
      "align_self": null,
      "border": null,
      "bottom": null,
      "display": null,
      "flex": null,
      "flex_flow": null,
      "grid_area": null,
      "grid_auto_columns": null,
      "grid_auto_flow": null,
      "grid_auto_rows": null,
      "grid_column": null,
      "grid_gap": null,
      "grid_row": null,
      "grid_template_areas": null,
      "grid_template_columns": null,
      "grid_template_rows": null,
      "height": null,
      "justify_content": null,
      "justify_items": null,
      "left": null,
      "margin": null,
      "max_height": null,
      "max_width": null,
      "min_height": null,
      "min_width": null,
      "object_fit": null,
      "object_position": null,
      "order": null,
      "overflow": null,
      "overflow_x": null,
      "overflow_y": null,
      "padding": null,
      "right": null,
      "top": null,
      "visibility": null,
      "width": null
     }
    },
    "0c9eeda900f04736b171b674ca8d203c": {
     "model_module": "@jupyter-widgets/controls",
     "model_module_version": "1.5.0",
     "model_name": "ProgressStyleModel",
     "state": {
      "_model_module": "@jupyter-widgets/controls",
      "_model_module_version": "1.5.0",
      "_model_name": "ProgressStyleModel",
      "_view_count": null,
      "_view_module": "@jupyter-widgets/base",
      "_view_module_version": "1.2.0",
      "_view_name": "StyleView",
      "bar_color": null,
      "description_width": ""
     }
    },
    "0daacf716c6c4178ace1b8d1c8ca404d": {
     "model_module": "@jupyter-widgets/controls",
     "model_module_version": "1.5.0",
     "model_name": "HTMLModel",
     "state": {
      "_dom_classes": [],
      "_model_module": "@jupyter-widgets/controls",
      "_model_module_version": "1.5.0",
      "_model_name": "HTMLModel",
      "_view_count": null,
      "_view_module": "@jupyter-widgets/controls",
      "_view_module_version": "1.5.0",
      "_view_name": "HTMLView",
      "description": "",
      "description_tooltip": null,
      "layout": "IPY_MODEL_bcd1837c33874ec3a2c21a268409f2e5",
      "placeholder": "​",
      "style": "IPY_MODEL_e9ad6eafa4fc4d25a1e67f06fe0f7eb4",
      "value": "Downloading: 100%"
     }
    },
    "0dd599fa392b4e2abecbfcf655315c16": {
     "model_module": "@jupyter-widgets/controls",
     "model_module_version": "1.5.0",
     "model_name": "HTMLModel",
     "state": {
      "_dom_classes": [],
      "_model_module": "@jupyter-widgets/controls",
      "_model_module_version": "1.5.0",
      "_model_name": "HTMLModel",
      "_view_count": null,
      "_view_module": "@jupyter-widgets/controls",
      "_view_module_version": "1.5.0",
      "_view_name": "HTMLView",
      "description": "",
      "description_tooltip": null,
      "layout": "IPY_MODEL_e28654a72b984ac6ae838100e0cbc202",
      "placeholder": "​",
      "style": "IPY_MODEL_7a68fc33c7f043be8fb6528770dcc57e",
      "value": "Downloading: 100%"
     }
    },
    "0f0d4c5106ce4239b83e193333169ec3": {
     "model_module": "@jupyter-widgets/base",
     "model_module_version": "1.2.0",
     "model_name": "LayoutModel",
     "state": {
      "_model_module": "@jupyter-widgets/base",
      "_model_module_version": "1.2.0",
      "_model_name": "LayoutModel",
      "_view_count": null,
      "_view_module": "@jupyter-widgets/base",
      "_view_module_version": "1.2.0",
      "_view_name": "LayoutView",
      "align_content": null,
      "align_items": null,
      "align_self": null,
      "border": null,
      "bottom": null,
      "display": null,
      "flex": null,
      "flex_flow": null,
      "grid_area": null,
      "grid_auto_columns": null,
      "grid_auto_flow": null,
      "grid_auto_rows": null,
      "grid_column": null,
      "grid_gap": null,
      "grid_row": null,
      "grid_template_areas": null,
      "grid_template_columns": null,
      "grid_template_rows": null,
      "height": null,
      "justify_content": null,
      "justify_items": null,
      "left": null,
      "margin": null,
      "max_height": null,
      "max_width": null,
      "min_height": null,
      "min_width": null,
      "object_fit": null,
      "object_position": null,
      "order": null,
      "overflow": null,
      "overflow_x": null,
      "overflow_y": null,
      "padding": null,
      "right": null,
      "top": null,
      "visibility": null,
      "width": null
     }
    },
    "0fb3751af9d64dcfae95d52d0c21466a": {
     "model_module": "@jupyter-widgets/controls",
     "model_module_version": "1.5.0",
     "model_name": "HTMLModel",
     "state": {
      "_dom_classes": [],
      "_model_module": "@jupyter-widgets/controls",
      "_model_module_version": "1.5.0",
      "_model_name": "HTMLModel",
      "_view_count": null,
      "_view_module": "@jupyter-widgets/controls",
      "_view_module_version": "1.5.0",
      "_view_name": "HTMLView",
      "description": "",
      "description_tooltip": null,
      "layout": "IPY_MODEL_6cb3ba764a8b49039b5cf7db513ed242",
      "placeholder": "​",
      "style": "IPY_MODEL_2eb73c5a96d740dbbff08b3a8d1d32e8",
      "value": " 391/391 [00:00&lt;00:00, 5.10kB/s]"
     }
    },
    "117a708725d548ba8b2046ae523fb582": {
     "model_module": "@jupyter-widgets/base",
     "model_module_version": "1.2.0",
     "model_name": "LayoutModel",
     "state": {
      "_model_module": "@jupyter-widgets/base",
      "_model_module_version": "1.2.0",
      "_model_name": "LayoutModel",
      "_view_count": null,
      "_view_module": "@jupyter-widgets/base",
      "_view_module_version": "1.2.0",
      "_view_name": "LayoutView",
      "align_content": null,
      "align_items": null,
      "align_self": null,
      "border": null,
      "bottom": null,
      "display": null,
      "flex": null,
      "flex_flow": null,
      "grid_area": null,
      "grid_auto_columns": null,
      "grid_auto_flow": null,
      "grid_auto_rows": null,
      "grid_column": null,
      "grid_gap": null,
      "grid_row": null,
      "grid_template_areas": null,
      "grid_template_columns": null,
      "grid_template_rows": null,
      "height": null,
      "justify_content": null,
      "justify_items": null,
      "left": null,
      "margin": null,
      "max_height": null,
      "max_width": null,
      "min_height": null,
      "min_width": null,
      "object_fit": null,
      "object_position": null,
      "order": null,
      "overflow": null,
      "overflow_x": null,
      "overflow_y": null,
      "padding": null,
      "right": null,
      "top": null,
      "visibility": null,
      "width": null
     }
    },
    "140dc1986d1d47ae91a6d841c6b1b992": {
     "model_module": "@jupyter-widgets/base",
     "model_module_version": "1.2.0",
     "model_name": "LayoutModel",
     "state": {
      "_model_module": "@jupyter-widgets/base",
      "_model_module_version": "1.2.0",
      "_model_name": "LayoutModel",
      "_view_count": null,
      "_view_module": "@jupyter-widgets/base",
      "_view_module_version": "1.2.0",
      "_view_name": "LayoutView",
      "align_content": null,
      "align_items": null,
      "align_self": null,
      "border": null,
      "bottom": null,
      "display": null,
      "flex": null,
      "flex_flow": null,
      "grid_area": null,
      "grid_auto_columns": null,
      "grid_auto_flow": null,
      "grid_auto_rows": null,
      "grid_column": null,
      "grid_gap": null,
      "grid_row": null,
      "grid_template_areas": null,
      "grid_template_columns": null,
      "grid_template_rows": null,
      "height": null,
      "justify_content": null,
      "justify_items": null,
      "left": null,
      "margin": null,
      "max_height": null,
      "max_width": null,
      "min_height": null,
      "min_width": null,
      "object_fit": null,
      "object_position": null,
      "order": null,
      "overflow": null,
      "overflow_x": null,
      "overflow_y": null,
      "padding": null,
      "right": null,
      "top": null,
      "visibility": null,
      "width": null
     }
    },
    "1ac4864ec9674f0bae0f1f9b7a3c39dc": {
     "model_module": "@jupyter-widgets/controls",
     "model_module_version": "1.5.0",
     "model_name": "HBoxModel",
     "state": {
      "_dom_classes": [],
      "_model_module": "@jupyter-widgets/controls",
      "_model_module_version": "1.5.0",
      "_model_name": "HBoxModel",
      "_view_count": null,
      "_view_module": "@jupyter-widgets/controls",
      "_view_module_version": "1.5.0",
      "_view_name": "HBoxView",
      "box_style": "",
      "children": [
       "IPY_MODEL_0dd599fa392b4e2abecbfcf655315c16",
       "IPY_MODEL_81d3432601d0479bae1a32abc95bc531",
       "IPY_MODEL_27d99d29064c4050a94a7c60639cbcb6"
      ],
      "layout": "IPY_MODEL_3dbc41653b994cd3857d653c298e073f"
     }
    },
    "1b4ff079a5124d2a980d5d063792e33f": {
     "model_module": "@jupyter-widgets/controls",
     "model_module_version": "1.5.0",
     "model_name": "FloatProgressModel",
     "state": {
      "_dom_classes": [],
      "_model_module": "@jupyter-widgets/controls",
      "_model_module_version": "1.5.0",
      "_model_name": "FloatProgressModel",
      "_view_count": null,
      "_view_module": "@jupyter-widgets/controls",
      "_view_module_version": "1.5.0",
      "_view_name": "ProgressView",
      "bar_style": "success",
      "description": "",
      "description_tooltip": null,
      "layout": "IPY_MODEL_361a2480bb634943b1050ae5bc9838fd",
      "max": 231508,
      "min": 0,
      "orientation": "horizontal",
      "style": "IPY_MODEL_ced3e2e36efa4ee7ad700e0aeda735ac",
      "value": 231508
     }
    },
    "1b5b7df26bc64b058aa927eb793fcd04": {
     "model_module": "@jupyter-widgets/controls",
     "model_module_version": "1.5.0",
     "model_name": "HBoxModel",
     "state": {
      "_dom_classes": [],
      "_model_module": "@jupyter-widgets/controls",
      "_model_module_version": "1.5.0",
      "_model_name": "HBoxModel",
      "_view_count": null,
      "_view_module": "@jupyter-widgets/controls",
      "_view_module_version": "1.5.0",
      "_view_name": "HBoxView",
      "box_style": "",
      "children": [
       "IPY_MODEL_4b2666793ea44903b1555241cc03f428",
       "IPY_MODEL_df641e9997554e60b5b76d08b14d2f45",
       "IPY_MODEL_b741ee794ad74103b38f9a925fe5e773"
      ],
      "layout": "IPY_MODEL_76e517007f1044b5ac00a31ec256c9ff"
     }
    },
    "1d05a39fe4824ad28287df46b3b05925": {
     "model_module": "@jupyter-widgets/controls",
     "model_module_version": "1.5.0",
     "model_name": "DescriptionStyleModel",
     "state": {
      "_model_module": "@jupyter-widgets/controls",
      "_model_module_version": "1.5.0",
      "_model_name": "DescriptionStyleModel",
      "_view_count": null,
      "_view_module": "@jupyter-widgets/base",
      "_view_module_version": "1.2.0",
      "_view_name": "StyleView",
      "description_width": ""
     }
    },
    "1e440b1a3506472689f368ad3fd45c37": {
     "model_module": "@jupyter-widgets/controls",
     "model_module_version": "1.5.0",
     "model_name": "DescriptionStyleModel",
     "state": {
      "_model_module": "@jupyter-widgets/controls",
      "_model_module_version": "1.5.0",
      "_model_name": "DescriptionStyleModel",
      "_view_count": null,
      "_view_module": "@jupyter-widgets/base",
      "_view_module_version": "1.2.0",
      "_view_name": "StyleView",
      "description_width": ""
     }
    },
    "21d0b93f148d4e2597520a46ace6f515": {
     "model_module": "@jupyter-widgets/base",
     "model_module_version": "1.2.0",
     "model_name": "LayoutModel",
     "state": {
      "_model_module": "@jupyter-widgets/base",
      "_model_module_version": "1.2.0",
      "_model_name": "LayoutModel",
      "_view_count": null,
      "_view_module": "@jupyter-widgets/base",
      "_view_module_version": "1.2.0",
      "_view_name": "LayoutView",
      "align_content": null,
      "align_items": null,
      "align_self": null,
      "border": null,
      "bottom": null,
      "display": null,
      "flex": null,
      "flex_flow": null,
      "grid_area": null,
      "grid_auto_columns": null,
      "grid_auto_flow": null,
      "grid_auto_rows": null,
      "grid_column": null,
      "grid_gap": null,
      "grid_row": null,
      "grid_template_areas": null,
      "grid_template_columns": null,
      "grid_template_rows": null,
      "height": null,
      "justify_content": null,
      "justify_items": null,
      "left": null,
      "margin": null,
      "max_height": null,
      "max_width": null,
      "min_height": null,
      "min_width": null,
      "object_fit": null,
      "object_position": null,
      "order": null,
      "overflow": null,
      "overflow_x": null,
      "overflow_y": null,
      "padding": null,
      "right": null,
      "top": null,
      "visibility": null,
      "width": null
     }
    },
    "22b8415916dd417295531e8dc7b246ed": {
     "model_module": "@jupyter-widgets/controls",
     "model_module_version": "1.5.0",
     "model_name": "DescriptionStyleModel",
     "state": {
      "_model_module": "@jupyter-widgets/controls",
      "_model_module_version": "1.5.0",
      "_model_name": "DescriptionStyleModel",
      "_view_count": null,
      "_view_module": "@jupyter-widgets/base",
      "_view_module_version": "1.2.0",
      "_view_name": "StyleView",
      "description_width": ""
     }
    },
    "248a7581abb74b9f83b929f58e273479": {
     "model_module": "@jupyter-widgets/controls",
     "model_module_version": "1.5.0",
     "model_name": "HTMLModel",
     "state": {
      "_dom_classes": [],
      "_model_module": "@jupyter-widgets/controls",
      "_model_module_version": "1.5.0",
      "_model_name": "HTMLModel",
      "_view_count": null,
      "_view_module": "@jupyter-widgets/controls",
      "_view_module_version": "1.5.0",
      "_view_name": "HTMLView",
      "description": "",
      "description_tooltip": null,
      "layout": "IPY_MODEL_28bb16c5cf864eb99960985f1da278fc",
      "placeholder": "​",
      "style": "IPY_MODEL_0823a5ffeee740f3be53a31f31df4ddd",
      "value": "Downloading: 100%"
     }
    },
    "24991482a53e44998b09ca31a4e191c1": {
     "model_module": "@jupyter-widgets/controls",
     "model_module_version": "1.5.0",
     "model_name": "HBoxModel",
     "state": {
      "_dom_classes": [],
      "_model_module": "@jupyter-widgets/controls",
      "_model_module_version": "1.5.0",
      "_model_name": "HBoxModel",
      "_view_count": null,
      "_view_module": "@jupyter-widgets/controls",
      "_view_module_version": "1.5.0",
      "_view_name": "HBoxView",
      "box_style": "",
      "children": [
       "IPY_MODEL_28decb66332a438d889bd71edbb2fe42",
       "IPY_MODEL_9c2db7a7a56e494091f4c90b974d2311",
       "IPY_MODEL_3e00f0497b8b4c028c343ccb2f76b081"
      ],
      "layout": "IPY_MODEL_bdb926ba87704d0fade30d765ba8365d"
     }
    },
    "269913c311a14cb0979878238287ae22": {
     "model_module": "@jupyter-widgets/controls",
     "model_module_version": "1.5.0",
     "model_name": "HBoxModel",
     "state": {
      "_dom_classes": [],
      "_model_module": "@jupyter-widgets/controls",
      "_model_module_version": "1.5.0",
      "_model_name": "HBoxModel",
      "_view_count": null,
      "_view_module": "@jupyter-widgets/controls",
      "_view_module_version": "1.5.0",
      "_view_name": "HBoxView",
      "box_style": "",
      "children": [
       "IPY_MODEL_a2eea17532eb4c889cbe3e0d0fcd7e5e",
       "IPY_MODEL_9cb11f696a74487093cd210f4e7eae44",
       "IPY_MODEL_2d1b633dd6ec4d66b2158e14710375aa"
      ],
      "layout": "IPY_MODEL_0f0d4c5106ce4239b83e193333169ec3"
     }
    },
    "27d99d29064c4050a94a7c60639cbcb6": {
     "model_module": "@jupyter-widgets/controls",
     "model_module_version": "1.5.0",
     "model_name": "HTMLModel",
     "state": {
      "_dom_classes": [],
      "_model_module": "@jupyter-widgets/controls",
      "_model_module_version": "1.5.0",
      "_model_name": "HTMLModel",
      "_view_count": null,
      "_view_module": "@jupyter-widgets/controls",
      "_view_module_version": "1.5.0",
      "_view_name": "HTMLView",
      "description": "",
      "description_tooltip": null,
      "layout": "IPY_MODEL_e08b55a031e145b3bc0b13af22b231b7",
      "placeholder": "​",
      "style": "IPY_MODEL_9669c8620b9a4267a7cc2a8a47b192a5",
      "value": " 399/399 [00:00&lt;00:00, 10.5kB/s]"
     }
    },
    "28128435835d43f6a927b7b4f2baa891": {
     "model_module": "@jupyter-widgets/base",
     "model_module_version": "1.2.0",
     "model_name": "LayoutModel",
     "state": {
      "_model_module": "@jupyter-widgets/base",
      "_model_module_version": "1.2.0",
      "_model_name": "LayoutModel",
      "_view_count": null,
      "_view_module": "@jupyter-widgets/base",
      "_view_module_version": "1.2.0",
      "_view_name": "LayoutView",
      "align_content": null,
      "align_items": null,
      "align_self": null,
      "border": null,
      "bottom": null,
      "display": null,
      "flex": null,
      "flex_flow": null,
      "grid_area": null,
      "grid_auto_columns": null,
      "grid_auto_flow": null,
      "grid_auto_rows": null,
      "grid_column": null,
      "grid_gap": null,
      "grid_row": null,
      "grid_template_areas": null,
      "grid_template_columns": null,
      "grid_template_rows": null,
      "height": null,
      "justify_content": null,
      "justify_items": null,
      "left": null,
      "margin": null,
      "max_height": null,
      "max_width": null,
      "min_height": null,
      "min_width": null,
      "object_fit": null,
      "object_position": null,
      "order": null,
      "overflow": null,
      "overflow_x": null,
      "overflow_y": null,
      "padding": null,
      "right": null,
      "top": null,
      "visibility": null,
      "width": null
     }
    },
    "28bb16c5cf864eb99960985f1da278fc": {
     "model_module": "@jupyter-widgets/base",
     "model_module_version": "1.2.0",
     "model_name": "LayoutModel",
     "state": {
      "_model_module": "@jupyter-widgets/base",
      "_model_module_version": "1.2.0",
      "_model_name": "LayoutModel",
      "_view_count": null,
      "_view_module": "@jupyter-widgets/base",
      "_view_module_version": "1.2.0",
      "_view_name": "LayoutView",
      "align_content": null,
      "align_items": null,
      "align_self": null,
      "border": null,
      "bottom": null,
      "display": null,
      "flex": null,
      "flex_flow": null,
      "grid_area": null,
      "grid_auto_columns": null,
      "grid_auto_flow": null,
      "grid_auto_rows": null,
      "grid_column": null,
      "grid_gap": null,
      "grid_row": null,
      "grid_template_areas": null,
      "grid_template_columns": null,
      "grid_template_rows": null,
      "height": null,
      "justify_content": null,
      "justify_items": null,
      "left": null,
      "margin": null,
      "max_height": null,
      "max_width": null,
      "min_height": null,
      "min_width": null,
      "object_fit": null,
      "object_position": null,
      "order": null,
      "overflow": null,
      "overflow_x": null,
      "overflow_y": null,
      "padding": null,
      "right": null,
      "top": null,
      "visibility": null,
      "width": null
     }
    },
    "28decb66332a438d889bd71edbb2fe42": {
     "model_module": "@jupyter-widgets/controls",
     "model_module_version": "1.5.0",
     "model_name": "HTMLModel",
     "state": {
      "_dom_classes": [],
      "_model_module": "@jupyter-widgets/controls",
      "_model_module_version": "1.5.0",
      "_model_name": "HTMLModel",
      "_view_count": null,
      "_view_module": "@jupyter-widgets/controls",
      "_view_module_version": "1.5.0",
      "_view_name": "HTMLView",
      "description": "",
      "description_tooltip": null,
      "layout": "IPY_MODEL_d7f6d657b4a54addbd6bf40905ee85d3",
      "placeholder": "​",
      "style": "IPY_MODEL_b4ad383657ed4b3eb084a68a547b9377",
      "value": "Downloading: 100%"
     }
    },
    "2cbd71b1da834a718aa3990d37adc728": {
     "model_module": "@jupyter-widgets/controls",
     "model_module_version": "1.5.0",
     "model_name": "HBoxModel",
     "state": {
      "_dom_classes": [],
      "_model_module": "@jupyter-widgets/controls",
      "_model_module_version": "1.5.0",
      "_model_name": "HBoxModel",
      "_view_count": null,
      "_view_module": "@jupyter-widgets/controls",
      "_view_module_version": "1.5.0",
      "_view_name": "HBoxView",
      "box_style": "",
      "children": [
       "IPY_MODEL_bf1862f66d1d4adabce7f56f601dc2c9",
       "IPY_MODEL_b3cf1fb01dd34660ab38f0dbe175bca0",
       "IPY_MODEL_06dd01e72ed344a983ef3e10f0aea969"
      ],
      "layout": "IPY_MODEL_728012b6828a43f5aad6c8adade218cd"
     }
    },
    "2d1b633dd6ec4d66b2158e14710375aa": {
     "model_module": "@jupyter-widgets/controls",
     "model_module_version": "1.5.0",
     "model_name": "HTMLModel",
     "state": {
      "_dom_classes": [],
      "_model_module": "@jupyter-widgets/controls",
      "_model_module_version": "1.5.0",
      "_model_name": "HTMLModel",
      "_view_count": null,
      "_view_module": "@jupyter-widgets/controls",
      "_view_module_version": "1.5.0",
      "_view_name": "HTMLView",
      "description": "",
      "description_tooltip": null,
      "layout": "IPY_MODEL_fcbbe71ba4ce4ef89df19f2be8aa4c54",
      "placeholder": "​",
      "style": "IPY_MODEL_e1b66593a9bf4306a1913b5772ca64a3",
      "value": " 466k/466k [00:00&lt;00:00, 1.23MB/s]"
     }
    },
    "2eb73c5a96d740dbbff08b3a8d1d32e8": {
     "model_module": "@jupyter-widgets/controls",
     "model_module_version": "1.5.0",
     "model_name": "DescriptionStyleModel",
     "state": {
      "_model_module": "@jupyter-widgets/controls",
      "_model_module_version": "1.5.0",
      "_model_name": "DescriptionStyleModel",
      "_view_count": null,
      "_view_module": "@jupyter-widgets/base",
      "_view_module_version": "1.2.0",
      "_view_name": "StyleView",
      "description_width": ""
     }
    },
    "30a4cc5d723542faa6093b75b0cb746e": {
     "model_module": "@jupyter-widgets/controls",
     "model_module_version": "1.5.0",
     "model_name": "DescriptionStyleModel",
     "state": {
      "_model_module": "@jupyter-widgets/controls",
      "_model_module_version": "1.5.0",
      "_model_name": "DescriptionStyleModel",
      "_view_count": null,
      "_view_module": "@jupyter-widgets/base",
      "_view_module_version": "1.2.0",
      "_view_name": "StyleView",
      "description_width": ""
     }
    },
    "30f331d2635847ff8a8801d219ac8f09": {
     "model_module": "@jupyter-widgets/controls",
     "model_module_version": "1.5.0",
     "model_name": "HTMLModel",
     "state": {
      "_dom_classes": [],
      "_model_module": "@jupyter-widgets/controls",
      "_model_module_version": "1.5.0",
      "_model_name": "HTMLModel",
      "_view_count": null,
      "_view_module": "@jupyter-widgets/controls",
      "_view_module_version": "1.5.0",
      "_view_name": "HTMLView",
      "description": "",
      "description_tooltip": null,
      "layout": "IPY_MODEL_f0b4b2c0f8424020987a4ecaa90d2703",
      "placeholder": "​",
      "style": "IPY_MODEL_5b99599287c84ee0a2e013fe4742b033",
      "value": " 3.95k/3.95k [00:00&lt;00:00, 87.2kB/s]"
     }
    },
    "31f20a7d17594f4f99521c7599863f69": {
     "model_module": "@jupyter-widgets/base",
     "model_module_version": "1.2.0",
     "model_name": "LayoutModel",
     "state": {
      "_model_module": "@jupyter-widgets/base",
      "_model_module_version": "1.2.0",
      "_model_name": "LayoutModel",
      "_view_count": null,
      "_view_module": "@jupyter-widgets/base",
      "_view_module_version": "1.2.0",
      "_view_name": "LayoutView",
      "align_content": null,
      "align_items": null,
      "align_self": null,
      "border": null,
      "bottom": null,
      "display": null,
      "flex": null,
      "flex_flow": null,
      "grid_area": null,
      "grid_auto_columns": null,
      "grid_auto_flow": null,
      "grid_auto_rows": null,
      "grid_column": null,
      "grid_gap": null,
      "grid_row": null,
      "grid_template_areas": null,
      "grid_template_columns": null,
      "grid_template_rows": null,
      "height": null,
      "justify_content": null,
      "justify_items": null,
      "left": null,
      "margin": null,
      "max_height": null,
      "max_width": null,
      "min_height": null,
      "min_width": null,
      "object_fit": null,
      "object_position": null,
      "order": null,
      "overflow": null,
      "overflow_x": null,
      "overflow_y": null,
      "padding": null,
      "right": null,
      "top": null,
      "visibility": null,
      "width": null
     }
    },
    "32ee16c4c28e49568c8e14b26c123ced": {
     "model_module": "@jupyter-widgets/controls",
     "model_module_version": "1.5.0",
     "model_name": "HTMLModel",
     "state": {
      "_dom_classes": [],
      "_model_module": "@jupyter-widgets/controls",
      "_model_module_version": "1.5.0",
      "_model_name": "HTMLModel",
      "_view_count": null,
      "_view_module": "@jupyter-widgets/controls",
      "_view_module_version": "1.5.0",
      "_view_name": "HTMLView",
      "description": "",
      "description_tooltip": null,
      "layout": "IPY_MODEL_40458dc74deb4942b20db6fa69197c94",
      "placeholder": "​",
      "style": "IPY_MODEL_601d5ee9ab9c4768a20f3b160d514c76",
      "value": "Downloading: 100%"
     }
    },
    "351f2f601e8749ea9c5f6215a6a5e177": {
     "model_module": "@jupyter-widgets/controls",
     "model_module_version": "1.5.0",
     "model_name": "DescriptionStyleModel",
     "state": {
      "_model_module": "@jupyter-widgets/controls",
      "_model_module_version": "1.5.0",
      "_model_name": "DescriptionStyleModel",
      "_view_count": null,
      "_view_module": "@jupyter-widgets/base",
      "_view_module_version": "1.2.0",
      "_view_name": "StyleView",
      "description_width": ""
     }
    },
    "361a2480bb634943b1050ae5bc9838fd": {
     "model_module": "@jupyter-widgets/base",
     "model_module_version": "1.2.0",
     "model_name": "LayoutModel",
     "state": {
      "_model_module": "@jupyter-widgets/base",
      "_model_module_version": "1.2.0",
      "_model_name": "LayoutModel",
      "_view_count": null,
      "_view_module": "@jupyter-widgets/base",
      "_view_module_version": "1.2.0",
      "_view_name": "LayoutView",
      "align_content": null,
      "align_items": null,
      "align_self": null,
      "border": null,
      "bottom": null,
      "display": null,
      "flex": null,
      "flex_flow": null,
      "grid_area": null,
      "grid_auto_columns": null,
      "grid_auto_flow": null,
      "grid_auto_rows": null,
      "grid_column": null,
      "grid_gap": null,
      "grid_row": null,
      "grid_template_areas": null,
      "grid_template_columns": null,
      "grid_template_rows": null,
      "height": null,
      "justify_content": null,
      "justify_items": null,
      "left": null,
      "margin": null,
      "max_height": null,
      "max_width": null,
      "min_height": null,
      "min_width": null,
      "object_fit": null,
      "object_position": null,
      "order": null,
      "overflow": null,
      "overflow_x": null,
      "overflow_y": null,
      "padding": null,
      "right": null,
      "top": null,
      "visibility": null,
      "width": null
     }
    },
    "3a76696a03a34796971690203b5650c0": {
     "model_module": "@jupyter-widgets/base",
     "model_module_version": "1.2.0",
     "model_name": "LayoutModel",
     "state": {
      "_model_module": "@jupyter-widgets/base",
      "_model_module_version": "1.2.0",
      "_model_name": "LayoutModel",
      "_view_count": null,
      "_view_module": "@jupyter-widgets/base",
      "_view_module_version": "1.2.0",
      "_view_name": "LayoutView",
      "align_content": null,
      "align_items": null,
      "align_self": null,
      "border": null,
      "bottom": null,
      "display": null,
      "flex": null,
      "flex_flow": null,
      "grid_area": null,
      "grid_auto_columns": null,
      "grid_auto_flow": null,
      "grid_auto_rows": null,
      "grid_column": null,
      "grid_gap": null,
      "grid_row": null,
      "grid_template_areas": null,
      "grid_template_columns": null,
      "grid_template_rows": null,
      "height": null,
      "justify_content": null,
      "justify_items": null,
      "left": null,
      "margin": null,
      "max_height": null,
      "max_width": null,
      "min_height": null,
      "min_width": null,
      "object_fit": null,
      "object_position": null,
      "order": null,
      "overflow": null,
      "overflow_x": null,
      "overflow_y": null,
      "padding": null,
      "right": null,
      "top": null,
      "visibility": null,
      "width": null
     }
    },
    "3dbc41653b994cd3857d653c298e073f": {
     "model_module": "@jupyter-widgets/base",
     "model_module_version": "1.2.0",
     "model_name": "LayoutModel",
     "state": {
      "_model_module": "@jupyter-widgets/base",
      "_model_module_version": "1.2.0",
      "_model_name": "LayoutModel",
      "_view_count": null,
      "_view_module": "@jupyter-widgets/base",
      "_view_module_version": "1.2.0",
      "_view_name": "LayoutView",
      "align_content": null,
      "align_items": null,
      "align_self": null,
      "border": null,
      "bottom": null,
      "display": null,
      "flex": null,
      "flex_flow": null,
      "grid_area": null,
      "grid_auto_columns": null,
      "grid_auto_flow": null,
      "grid_auto_rows": null,
      "grid_column": null,
      "grid_gap": null,
      "grid_row": null,
      "grid_template_areas": null,
      "grid_template_columns": null,
      "grid_template_rows": null,
      "height": null,
      "justify_content": null,
      "justify_items": null,
      "left": null,
      "margin": null,
      "max_height": null,
      "max_width": null,
      "min_height": null,
      "min_width": null,
      "object_fit": null,
      "object_position": null,
      "order": null,
      "overflow": null,
      "overflow_x": null,
      "overflow_y": null,
      "padding": null,
      "right": null,
      "top": null,
      "visibility": null,
      "width": null
     }
    },
    "3e00f0497b8b4c028c343ccb2f76b081": {
     "model_module": "@jupyter-widgets/controls",
     "model_module_version": "1.5.0",
     "model_name": "HTMLModel",
     "state": {
      "_dom_classes": [],
      "_model_module": "@jupyter-widgets/controls",
      "_model_module_version": "1.5.0",
      "_model_name": "HTMLModel",
      "_view_count": null,
      "_view_module": "@jupyter-widgets/controls",
      "_view_module_version": "1.5.0",
      "_view_name": "HTMLView",
      "description": "",
      "description_tooltip": null,
      "layout": "IPY_MODEL_0a3a8ed45da24a97971cad97ca1a0ff8",
      "placeholder": "​",
      "style": "IPY_MODEL_03e8fcd49c2a48498594dc37e37715fa",
      "value": " 112/112 [00:00&lt;00:00, 1.79kB/s]"
     }
    },
    "3f4971c73bfd4f0cacaaebf0554cc29b": {
     "model_module": "@jupyter-widgets/controls",
     "model_module_version": "1.5.0",
     "model_name": "HTMLModel",
     "state": {
      "_dom_classes": [],
      "_model_module": "@jupyter-widgets/controls",
      "_model_module_version": "1.5.0",
      "_model_name": "HTMLModel",
      "_view_count": null,
      "_view_module": "@jupyter-widgets/controls",
      "_view_module_version": "1.5.0",
      "_view_name": "HTMLView",
      "description": "",
      "description_tooltip": null,
      "layout": "IPY_MODEL_3a76696a03a34796971690203b5650c0",
      "placeholder": "​",
      "style": "IPY_MODEL_05337d65900b4b2083357686bb6429a4",
      "value": "Downloading: 100%"
     }
    },
    "40458dc74deb4942b20db6fa69197c94": {
     "model_module": "@jupyter-widgets/base",
     "model_module_version": "1.2.0",
     "model_name": "LayoutModel",
     "state": {
      "_model_module": "@jupyter-widgets/base",
      "_model_module_version": "1.2.0",
      "_model_name": "LayoutModel",
      "_view_count": null,
      "_view_module": "@jupyter-widgets/base",
      "_view_module_version": "1.2.0",
      "_view_name": "LayoutView",
      "align_content": null,
      "align_items": null,
      "align_self": null,
      "border": null,
      "bottom": null,
      "display": null,
      "flex": null,
      "flex_flow": null,
      "grid_area": null,
      "grid_auto_columns": null,
      "grid_auto_flow": null,
      "grid_auto_rows": null,
      "grid_column": null,
      "grid_gap": null,
      "grid_row": null,
      "grid_template_areas": null,
      "grid_template_columns": null,
      "grid_template_rows": null,
      "height": null,
      "justify_content": null,
      "justify_items": null,
      "left": null,
      "margin": null,
      "max_height": null,
      "max_width": null,
      "min_height": null,
      "min_width": null,
      "object_fit": null,
      "object_position": null,
      "order": null,
      "overflow": null,
      "overflow_x": null,
      "overflow_y": null,
      "padding": null,
      "right": null,
      "top": null,
      "visibility": null,
      "width": null
     }
    },
    "44af747a94164f148538fd03efd4d0a2": {
     "model_module": "@jupyter-widgets/base",
     "model_module_version": "1.2.0",
     "model_name": "LayoutModel",
     "state": {
      "_model_module": "@jupyter-widgets/base",
      "_model_module_version": "1.2.0",
      "_model_name": "LayoutModel",
      "_view_count": null,
      "_view_module": "@jupyter-widgets/base",
      "_view_module_version": "1.2.0",
      "_view_name": "LayoutView",
      "align_content": null,
      "align_items": null,
      "align_self": null,
      "border": null,
      "bottom": null,
      "display": null,
      "flex": null,
      "flex_flow": null,
      "grid_area": null,
      "grid_auto_columns": null,
      "grid_auto_flow": null,
      "grid_auto_rows": null,
      "grid_column": null,
      "grid_gap": null,
      "grid_row": null,
      "grid_template_areas": null,
      "grid_template_columns": null,
      "grid_template_rows": null,
      "height": null,
      "justify_content": null,
      "justify_items": null,
      "left": null,
      "margin": null,
      "max_height": null,
      "max_width": null,
      "min_height": null,
      "min_width": null,
      "object_fit": null,
      "object_position": null,
      "order": null,
      "overflow": null,
      "overflow_x": null,
      "overflow_y": null,
      "padding": null,
      "right": null,
      "top": null,
      "visibility": null,
      "width": null
     }
    },
    "45105f8b50b3434fabb31756d07f8474": {
     "model_module": "@jupyter-widgets/base",
     "model_module_version": "1.2.0",
     "model_name": "LayoutModel",
     "state": {
      "_model_module": "@jupyter-widgets/base",
      "_model_module_version": "1.2.0",
      "_model_name": "LayoutModel",
      "_view_count": null,
      "_view_module": "@jupyter-widgets/base",
      "_view_module_version": "1.2.0",
      "_view_name": "LayoutView",
      "align_content": null,
      "align_items": null,
      "align_self": null,
      "border": null,
      "bottom": null,
      "display": null,
      "flex": null,
      "flex_flow": null,
      "grid_area": null,
      "grid_auto_columns": null,
      "grid_auto_flow": null,
      "grid_auto_rows": null,
      "grid_column": null,
      "grid_gap": null,
      "grid_row": null,
      "grid_template_areas": null,
      "grid_template_columns": null,
      "grid_template_rows": null,
      "height": null,
      "justify_content": null,
      "justify_items": null,
      "left": null,
      "margin": null,
      "max_height": null,
      "max_width": null,
      "min_height": null,
      "min_width": null,
      "object_fit": null,
      "object_position": null,
      "order": null,
      "overflow": null,
      "overflow_x": null,
      "overflow_y": null,
      "padding": null,
      "right": null,
      "top": null,
      "visibility": null,
      "width": null
     }
    },
    "47439a8b9cbe4955be63496dbec55568": {
     "model_module": "@jupyter-widgets/controls",
     "model_module_version": "1.5.0",
     "model_name": "FloatProgressModel",
     "state": {
      "_dom_classes": [],
      "_model_module": "@jupyter-widgets/controls",
      "_model_module_version": "1.5.0",
      "_model_name": "FloatProgressModel",
      "_view_count": null,
      "_view_module": "@jupyter-widgets/controls",
      "_view_module_version": "1.5.0",
      "_view_name": "ProgressView",
      "bar_style": "success",
      "description": "",
      "description_tooltip": null,
      "layout": "IPY_MODEL_bf3389dae88a450487e8486061059436",
      "max": 391,
      "min": 0,
      "orientation": "horizontal",
      "style": "IPY_MODEL_ad1bc27fce1943559a7f4522f54b1d24",
      "value": 391
     }
    },
    "47a6b289e267483ab418c534162a3f40": {
     "model_module": "@jupyter-widgets/base",
     "model_module_version": "1.2.0",
     "model_name": "LayoutModel",
     "state": {
      "_model_module": "@jupyter-widgets/base",
      "_model_module_version": "1.2.0",
      "_model_name": "LayoutModel",
      "_view_count": null,
      "_view_module": "@jupyter-widgets/base",
      "_view_module_version": "1.2.0",
      "_view_name": "LayoutView",
      "align_content": null,
      "align_items": null,
      "align_self": null,
      "border": null,
      "bottom": null,
      "display": null,
      "flex": null,
      "flex_flow": null,
      "grid_area": null,
      "grid_auto_columns": null,
      "grid_auto_flow": null,
      "grid_auto_rows": null,
      "grid_column": null,
      "grid_gap": null,
      "grid_row": null,
      "grid_template_areas": null,
      "grid_template_columns": null,
      "grid_template_rows": null,
      "height": null,
      "justify_content": null,
      "justify_items": null,
      "left": null,
      "margin": null,
      "max_height": null,
      "max_width": null,
      "min_height": null,
      "min_width": null,
      "object_fit": null,
      "object_position": null,
      "order": null,
      "overflow": null,
      "overflow_x": null,
      "overflow_y": null,
      "padding": null,
      "right": null,
      "top": null,
      "visibility": null,
      "width": null
     }
    },
    "48d9c30665084342b108ddfcf15719ae": {
     "model_module": "@jupyter-widgets/base",
     "model_module_version": "1.2.0",
     "model_name": "LayoutModel",
     "state": {
      "_model_module": "@jupyter-widgets/base",
      "_model_module_version": "1.2.0",
      "_model_name": "LayoutModel",
      "_view_count": null,
      "_view_module": "@jupyter-widgets/base",
      "_view_module_version": "1.2.0",
      "_view_name": "LayoutView",
      "align_content": null,
      "align_items": null,
      "align_self": null,
      "border": null,
      "bottom": null,
      "display": null,
      "flex": null,
      "flex_flow": null,
      "grid_area": null,
      "grid_auto_columns": null,
      "grid_auto_flow": null,
      "grid_auto_rows": null,
      "grid_column": null,
      "grid_gap": null,
      "grid_row": null,
      "grid_template_areas": null,
      "grid_template_columns": null,
      "grid_template_rows": null,
      "height": null,
      "justify_content": null,
      "justify_items": null,
      "left": null,
      "margin": null,
      "max_height": null,
      "max_width": null,
      "min_height": null,
      "min_width": null,
      "object_fit": null,
      "object_position": null,
      "order": null,
      "overflow": null,
      "overflow_x": null,
      "overflow_y": null,
      "padding": null,
      "right": null,
      "top": null,
      "visibility": null,
      "width": null
     }
    },
    "49b9aa5ab9084d87b3a675c93f09d597": {
     "model_module": "@jupyter-widgets/controls",
     "model_module_version": "1.5.0",
     "model_name": "HTMLModel",
     "state": {
      "_dom_classes": [],
      "_model_module": "@jupyter-widgets/controls",
      "_model_module_version": "1.5.0",
      "_model_name": "HTMLModel",
      "_view_count": null,
      "_view_module": "@jupyter-widgets/controls",
      "_view_module_version": "1.5.0",
      "_view_name": "HTMLView",
      "description": "",
      "description_tooltip": null,
      "layout": "IPY_MODEL_140dc1986d1d47ae91a6d841c6b1b992",
      "placeholder": "​",
      "style": "IPY_MODEL_b1df4777257f4bc89d3611aa732fbbba",
      "value": "Downloading: 100%"
     }
    },
    "4aac2df9554648b98bdbfd7c45ba6f6d": {
     "model_module": "@jupyter-widgets/controls",
     "model_module_version": "1.5.0",
     "model_name": "HTMLModel",
     "state": {
      "_dom_classes": [],
      "_model_module": "@jupyter-widgets/controls",
      "_model_module_version": "1.5.0",
      "_model_name": "HTMLModel",
      "_view_count": null,
      "_view_module": "@jupyter-widgets/controls",
      "_view_module_version": "1.5.0",
      "_view_name": "HTMLView",
      "description": "",
      "description_tooltip": null,
      "layout": "IPY_MODEL_31f20a7d17594f4f99521c7599863f69",
      "placeholder": "​",
      "style": "IPY_MODEL_f27c85f8f9854d6db62735f280b05563",
      "value": "Downloading: 100%"
     }
    },
    "4b2666793ea44903b1555241cc03f428": {
     "model_module": "@jupyter-widgets/controls",
     "model_module_version": "1.5.0",
     "model_name": "HTMLModel",
     "state": {
      "_dom_classes": [],
      "_model_module": "@jupyter-widgets/controls",
      "_model_module_version": "1.5.0",
      "_model_name": "HTMLModel",
      "_view_count": null,
      "_view_module": "@jupyter-widgets/controls",
      "_view_module_version": "1.5.0",
      "_view_name": "HTMLView",
      "description": "",
      "description_tooltip": null,
      "layout": "IPY_MODEL_c9397d31d24a457d94a1504a209f99fe",
      "placeholder": "​",
      "style": "IPY_MODEL_351f2f601e8749ea9c5f6215a6a5e177",
      "value": "Downloading: 100%"
     }
    },
    "4ca985e427b14c748c4cb8bc3e46fed3": {
     "model_module": "@jupyter-widgets/controls",
     "model_module_version": "1.5.0",
     "model_name": "ProgressStyleModel",
     "state": {
      "_model_module": "@jupyter-widgets/controls",
      "_model_module_version": "1.5.0",
      "_model_name": "ProgressStyleModel",
      "_view_count": null,
      "_view_module": "@jupyter-widgets/base",
      "_view_module_version": "1.2.0",
      "_view_name": "StyleView",
      "bar_color": null,
      "description_width": ""
     }
    },
    "4ebcefa15259418cb8c4a48d7d5e487f": {
     "model_module": "@jupyter-widgets/base",
     "model_module_version": "1.2.0",
     "model_name": "LayoutModel",
     "state": {
      "_model_module": "@jupyter-widgets/base",
      "_model_module_version": "1.2.0",
      "_model_name": "LayoutModel",
      "_view_count": null,
      "_view_module": "@jupyter-widgets/base",
      "_view_module_version": "1.2.0",
      "_view_name": "LayoutView",
      "align_content": null,
      "align_items": null,
      "align_self": null,
      "border": null,
      "bottom": null,
      "display": null,
      "flex": null,
      "flex_flow": null,
      "grid_area": null,
      "grid_auto_columns": null,
      "grid_auto_flow": null,
      "grid_auto_rows": null,
      "grid_column": null,
      "grid_gap": null,
      "grid_row": null,
      "grid_template_areas": null,
      "grid_template_columns": null,
      "grid_template_rows": null,
      "height": null,
      "justify_content": null,
      "justify_items": null,
      "left": null,
      "margin": null,
      "max_height": null,
      "max_width": null,
      "min_height": null,
      "min_width": null,
      "object_fit": null,
      "object_position": null,
      "order": null,
      "overflow": null,
      "overflow_x": null,
      "overflow_y": null,
      "padding": null,
      "right": null,
      "top": null,
      "visibility": null,
      "width": null
     }
    },
    "55c5fe1bda224d09b61ac159a61598e7": {
     "model_module": "@jupyter-widgets/controls",
     "model_module_version": "1.5.0",
     "model_name": "ProgressStyleModel",
     "state": {
      "_model_module": "@jupyter-widgets/controls",
      "_model_module_version": "1.5.0",
      "_model_name": "ProgressStyleModel",
      "_view_count": null,
      "_view_module": "@jupyter-widgets/base",
      "_view_module_version": "1.2.0",
      "_view_name": "StyleView",
      "bar_color": null,
      "description_width": ""
     }
    },
    "5af9a7adfffa4f3aad3a84fde8ce3bcb": {
     "model_module": "@jupyter-widgets/controls",
     "model_module_version": "1.5.0",
     "model_name": "FloatProgressModel",
     "state": {
      "_dom_classes": [],
      "_model_module": "@jupyter-widgets/controls",
      "_model_module_version": "1.5.0",
      "_model_name": "FloatProgressModel",
      "_view_count": null,
      "_view_module": "@jupyter-widgets/controls",
      "_view_module_version": "1.5.0",
      "_view_name": "ProgressView",
      "bar_style": "success",
      "description": "",
      "description_tooltip": null,
      "layout": "IPY_MODEL_d290acf262ff4b1d89124bdbb13db7bd",
      "max": 4,
      "min": 0,
      "orientation": "horizontal",
      "style": "IPY_MODEL_4ca985e427b14c748c4cb8bc3e46fed3",
      "value": 4
     }
    },
    "5b99599287c84ee0a2e013fe4742b033": {
     "model_module": "@jupyter-widgets/controls",
     "model_module_version": "1.5.0",
     "model_name": "DescriptionStyleModel",
     "state": {
      "_model_module": "@jupyter-widgets/controls",
      "_model_module_version": "1.5.0",
      "_model_name": "DescriptionStyleModel",
      "_view_count": null,
      "_view_module": "@jupyter-widgets/base",
      "_view_module_version": "1.2.0",
      "_view_name": "StyleView",
      "description_width": ""
     }
    },
    "5d015f50be4a4ce7965072aca3dd3e83": {
     "model_module": "@jupyter-widgets/base",
     "model_module_version": "1.2.0",
     "model_name": "LayoutModel",
     "state": {
      "_model_module": "@jupyter-widgets/base",
      "_model_module_version": "1.2.0",
      "_model_name": "LayoutModel",
      "_view_count": null,
      "_view_module": "@jupyter-widgets/base",
      "_view_module_version": "1.2.0",
      "_view_name": "LayoutView",
      "align_content": null,
      "align_items": null,
      "align_self": null,
      "border": null,
      "bottom": null,
      "display": null,
      "flex": null,
      "flex_flow": null,
      "grid_area": null,
      "grid_auto_columns": null,
      "grid_auto_flow": null,
      "grid_auto_rows": null,
      "grid_column": null,
      "grid_gap": null,
      "grid_row": null,
      "grid_template_areas": null,
      "grid_template_columns": null,
      "grid_template_rows": null,
      "height": null,
      "justify_content": null,
      "justify_items": null,
      "left": null,
      "margin": null,
      "max_height": null,
      "max_width": null,
      "min_height": null,
      "min_width": null,
      "object_fit": null,
      "object_position": null,
      "order": null,
      "overflow": null,
      "overflow_x": null,
      "overflow_y": null,
      "padding": null,
      "right": null,
      "top": null,
      "visibility": null,
      "width": null
     }
    },
    "5f299bbdcc624274b42d4cf6294726f9": {
     "model_module": "@jupyter-widgets/controls",
     "model_module_version": "1.5.0",
     "model_name": "HTMLModel",
     "state": {
      "_dom_classes": [],
      "_model_module": "@jupyter-widgets/controls",
      "_model_module_version": "1.5.0",
      "_model_name": "HTMLModel",
      "_view_count": null,
      "_view_module": "@jupyter-widgets/controls",
      "_view_module_version": "1.5.0",
      "_view_name": "HTMLView",
      "description": "",
      "description_tooltip": null,
      "layout": "IPY_MODEL_45105f8b50b3434fabb31756d07f8474",
      "placeholder": "​",
      "style": "IPY_MODEL_95e8dc00e3134e009ac1aaacb08ab703",
      "value": " 438M/438M [00:15&lt;00:00, 27.0MB/s]"
     }
    },
    "601d5ee9ab9c4768a20f3b160d514c76": {
     "model_module": "@jupyter-widgets/controls",
     "model_module_version": "1.5.0",
     "model_name": "DescriptionStyleModel",
     "state": {
      "_model_module": "@jupyter-widgets/controls",
      "_model_module_version": "1.5.0",
      "_model_name": "DescriptionStyleModel",
      "_view_count": null,
      "_view_module": "@jupyter-widgets/base",
      "_view_module_version": "1.2.0",
      "_view_name": "StyleView",
      "description_width": ""
     }
    },
    "6260b93b9e4e4c6cb2231738b007616d": {
     "model_module": "@jupyter-widgets/base",
     "model_module_version": "1.2.0",
     "model_name": "LayoutModel",
     "state": {
      "_model_module": "@jupyter-widgets/base",
      "_model_module_version": "1.2.0",
      "_model_name": "LayoutModel",
      "_view_count": null,
      "_view_module": "@jupyter-widgets/base",
      "_view_module_version": "1.2.0",
      "_view_name": "LayoutView",
      "align_content": null,
      "align_items": null,
      "align_self": null,
      "border": null,
      "bottom": null,
      "display": null,
      "flex": null,
      "flex_flow": null,
      "grid_area": null,
      "grid_auto_columns": null,
      "grid_auto_flow": null,
      "grid_auto_rows": null,
      "grid_column": null,
      "grid_gap": null,
      "grid_row": null,
      "grid_template_areas": null,
      "grid_template_columns": null,
      "grid_template_rows": null,
      "height": null,
      "justify_content": null,
      "justify_items": null,
      "left": null,
      "margin": null,
      "max_height": null,
      "max_width": null,
      "min_height": null,
      "min_width": null,
      "object_fit": null,
      "object_position": null,
      "order": null,
      "overflow": null,
      "overflow_x": null,
      "overflow_y": null,
      "padding": null,
      "right": null,
      "top": null,
      "visibility": null,
      "width": null
     }
    },
    "626b1132a8f240b9ba359878c77008d2": {
     "model_module": "@jupyter-widgets/base",
     "model_module_version": "1.2.0",
     "model_name": "LayoutModel",
     "state": {
      "_model_module": "@jupyter-widgets/base",
      "_model_module_version": "1.2.0",
      "_model_name": "LayoutModel",
      "_view_count": null,
      "_view_module": "@jupyter-widgets/base",
      "_view_module_version": "1.2.0",
      "_view_name": "LayoutView",
      "align_content": null,
      "align_items": null,
      "align_self": null,
      "border": null,
      "bottom": null,
      "display": null,
      "flex": null,
      "flex_flow": null,
      "grid_area": null,
      "grid_auto_columns": null,
      "grid_auto_flow": null,
      "grid_auto_rows": null,
      "grid_column": null,
      "grid_gap": null,
      "grid_row": null,
      "grid_template_areas": null,
      "grid_template_columns": null,
      "grid_template_rows": null,
      "height": null,
      "justify_content": null,
      "justify_items": null,
      "left": null,
      "margin": null,
      "max_height": null,
      "max_width": null,
      "min_height": null,
      "min_width": null,
      "object_fit": null,
      "object_position": null,
      "order": null,
      "overflow": null,
      "overflow_x": null,
      "overflow_y": null,
      "padding": null,
      "right": null,
      "top": null,
      "visibility": null,
      "width": null
     }
    },
    "651f166acc8246168ab2fe96714595c3": {
     "model_module": "@jupyter-widgets/controls",
     "model_module_version": "1.5.0",
     "model_name": "HTMLModel",
     "state": {
      "_dom_classes": [],
      "_model_module": "@jupyter-widgets/controls",
      "_model_module_version": "1.5.0",
      "_model_name": "HTMLModel",
      "_view_count": null,
      "_view_module": "@jupyter-widgets/controls",
      "_view_module_version": "1.5.0",
      "_view_name": "HTMLView",
      "description": "",
      "description_tooltip": null,
      "layout": "IPY_MODEL_21d0b93f148d4e2597520a46ace6f515",
      "placeholder": "​",
      "style": "IPY_MODEL_8183b486dbc4470e9a17ba82d3a44dcc",
      "value": " 229/229 [00:00&lt;00:00, 5.81kB/s]"
     }
    },
    "65ead4597f4f4b56a85de218f1ee0c92": {
     "model_module": "@jupyter-widgets/controls",
     "model_module_version": "1.5.0",
     "model_name": "HTMLModel",
     "state": {
      "_dom_classes": [],
      "_model_module": "@jupyter-widgets/controls",
      "_model_module_version": "1.5.0",
      "_model_name": "HTMLModel",
      "_view_count": null,
      "_view_module": "@jupyter-widgets/controls",
      "_view_module_version": "1.5.0",
      "_view_name": "HTMLView",
      "description": "",
      "description_tooltip": null,
      "layout": "IPY_MODEL_8eb5c9b89f9f474ab24b7e8b7c0d094b",
      "placeholder": "​",
      "style": "IPY_MODEL_30a4cc5d723542faa6093b75b0cb746e",
      "value": "Downloading: 100%"
     }
    },
    "6a4b5174ae4146448367b97c44f38a00": {
     "model_module": "@jupyter-widgets/base",
     "model_module_version": "1.2.0",
     "model_name": "LayoutModel",
     "state": {
      "_model_module": "@jupyter-widgets/base",
      "_model_module_version": "1.2.0",
      "_model_name": "LayoutModel",
      "_view_count": null,
      "_view_module": "@jupyter-widgets/base",
      "_view_module_version": "1.2.0",
      "_view_name": "LayoutView",
      "align_content": null,
      "align_items": null,
      "align_self": null,
      "border": null,
      "bottom": null,
      "display": null,
      "flex": null,
      "flex_flow": null,
      "grid_area": null,
      "grid_auto_columns": null,
      "grid_auto_flow": null,
      "grid_auto_rows": null,
      "grid_column": null,
      "grid_gap": null,
      "grid_row": null,
      "grid_template_areas": null,
      "grid_template_columns": null,
      "grid_template_rows": null,
      "height": null,
      "justify_content": null,
      "justify_items": null,
      "left": null,
      "margin": null,
      "max_height": null,
      "max_width": null,
      "min_height": null,
      "min_width": null,
      "object_fit": null,
      "object_position": null,
      "order": null,
      "overflow": null,
      "overflow_x": null,
      "overflow_y": null,
      "padding": null,
      "right": null,
      "top": null,
      "visibility": null,
      "width": null
     }
    },
    "6a4fce4865554339861733861c623662": {
     "model_module": "@jupyter-widgets/base",
     "model_module_version": "1.2.0",
     "model_name": "LayoutModel",
     "state": {
      "_model_module": "@jupyter-widgets/base",
      "_model_module_version": "1.2.0",
      "_model_name": "LayoutModel",
      "_view_count": null,
      "_view_module": "@jupyter-widgets/base",
      "_view_module_version": "1.2.0",
      "_view_name": "LayoutView",
      "align_content": null,
      "align_items": null,
      "align_self": null,
      "border": null,
      "bottom": null,
      "display": null,
      "flex": null,
      "flex_flow": null,
      "grid_area": null,
      "grid_auto_columns": null,
      "grid_auto_flow": null,
      "grid_auto_rows": null,
      "grid_column": null,
      "grid_gap": null,
      "grid_row": null,
      "grid_template_areas": null,
      "grid_template_columns": null,
      "grid_template_rows": null,
      "height": null,
      "justify_content": null,
      "justify_items": null,
      "left": null,
      "margin": null,
      "max_height": null,
      "max_width": null,
      "min_height": null,
      "min_width": null,
      "object_fit": null,
      "object_position": null,
      "order": null,
      "overflow": null,
      "overflow_x": null,
      "overflow_y": null,
      "padding": null,
      "right": null,
      "top": null,
      "visibility": null,
      "width": null
     }
    },
    "6cb3ba764a8b49039b5cf7db513ed242": {
     "model_module": "@jupyter-widgets/base",
     "model_module_version": "1.2.0",
     "model_name": "LayoutModel",
     "state": {
      "_model_module": "@jupyter-widgets/base",
      "_model_module_version": "1.2.0",
      "_model_name": "LayoutModel",
      "_view_count": null,
      "_view_module": "@jupyter-widgets/base",
      "_view_module_version": "1.2.0",
      "_view_name": "LayoutView",
      "align_content": null,
      "align_items": null,
      "align_self": null,
      "border": null,
      "bottom": null,
      "display": null,
      "flex": null,
      "flex_flow": null,
      "grid_area": null,
      "grid_auto_columns": null,
      "grid_auto_flow": null,
      "grid_auto_rows": null,
      "grid_column": null,
      "grid_gap": null,
      "grid_row": null,
      "grid_template_areas": null,
      "grid_template_columns": null,
      "grid_template_rows": null,
      "height": null,
      "justify_content": null,
      "justify_items": null,
      "left": null,
      "margin": null,
      "max_height": null,
      "max_width": null,
      "min_height": null,
      "min_width": null,
      "object_fit": null,
      "object_position": null,
      "order": null,
      "overflow": null,
      "overflow_x": null,
      "overflow_y": null,
      "padding": null,
      "right": null,
      "top": null,
      "visibility": null,
      "width": null
     }
    },
    "6d7e9023d0c045deb30317cd155015b5": {
     "model_module": "@jupyter-widgets/base",
     "model_module_version": "1.2.0",
     "model_name": "LayoutModel",
     "state": {
      "_model_module": "@jupyter-widgets/base",
      "_model_module_version": "1.2.0",
      "_model_name": "LayoutModel",
      "_view_count": null,
      "_view_module": "@jupyter-widgets/base",
      "_view_module_version": "1.2.0",
      "_view_name": "LayoutView",
      "align_content": null,
      "align_items": null,
      "align_self": null,
      "border": null,
      "bottom": null,
      "display": null,
      "flex": null,
      "flex_flow": null,
      "grid_area": null,
      "grid_auto_columns": null,
      "grid_auto_flow": null,
      "grid_auto_rows": null,
      "grid_column": null,
      "grid_gap": null,
      "grid_row": null,
      "grid_template_areas": null,
      "grid_template_columns": null,
      "grid_template_rows": null,
      "height": null,
      "justify_content": null,
      "justify_items": null,
      "left": null,
      "margin": null,
      "max_height": null,
      "max_width": null,
      "min_height": null,
      "min_width": null,
      "object_fit": null,
      "object_position": null,
      "order": null,
      "overflow": null,
      "overflow_x": null,
      "overflow_y": null,
      "padding": null,
      "right": null,
      "top": null,
      "visibility": null,
      "width": null
     }
    },
    "6ea1816c9e194798b1d9d9ac99661393": {
     "model_module": "@jupyter-widgets/controls",
     "model_module_version": "1.5.0",
     "model_name": "HTMLModel",
     "state": {
      "_dom_classes": [],
      "_model_module": "@jupyter-widgets/controls",
      "_model_module_version": "1.5.0",
      "_model_name": "HTMLModel",
      "_view_count": null,
      "_view_module": "@jupyter-widgets/controls",
      "_view_module_version": "1.5.0",
      "_view_name": "HTMLView",
      "description": "",
      "description_tooltip": null,
      "layout": "IPY_MODEL_ca6b48d3209442db9b3c65307a4a2930",
      "placeholder": "​",
      "style": "IPY_MODEL_dd12a9a08fbb4efa8f9add3d76c01ee9",
      "value": " 232k/232k [00:00&lt;00:00, 1.34MB/s]"
     }
    },
    "728012b6828a43f5aad6c8adade218cd": {
     "model_module": "@jupyter-widgets/base",
     "model_module_version": "1.2.0",
     "model_name": "LayoutModel",
     "state": {
      "_model_module": "@jupyter-widgets/base",
      "_model_module_version": "1.2.0",
      "_model_name": "LayoutModel",
      "_view_count": null,
      "_view_module": "@jupyter-widgets/base",
      "_view_module_version": "1.2.0",
      "_view_name": "LayoutView",
      "align_content": null,
      "align_items": null,
      "align_self": null,
      "border": null,
      "bottom": null,
      "display": null,
      "flex": null,
      "flex_flow": null,
      "grid_area": null,
      "grid_auto_columns": null,
      "grid_auto_flow": null,
      "grid_auto_rows": null,
      "grid_column": null,
      "grid_gap": null,
      "grid_row": null,
      "grid_template_areas": null,
      "grid_template_columns": null,
      "grid_template_rows": null,
      "height": null,
      "justify_content": null,
      "justify_items": null,
      "left": null,
      "margin": null,
      "max_height": null,
      "max_width": null,
      "min_height": null,
      "min_width": null,
      "object_fit": null,
      "object_position": null,
      "order": null,
      "overflow": null,
      "overflow_x": null,
      "overflow_y": null,
      "padding": null,
      "right": null,
      "top": null,
      "visibility": null,
      "width": null
     }
    },
    "76e517007f1044b5ac00a31ec256c9ff": {
     "model_module": "@jupyter-widgets/base",
     "model_module_version": "1.2.0",
     "model_name": "LayoutModel",
     "state": {
      "_model_module": "@jupyter-widgets/base",
      "_model_module_version": "1.2.0",
      "_model_name": "LayoutModel",
      "_view_count": null,
      "_view_module": "@jupyter-widgets/base",
      "_view_module_version": "1.2.0",
      "_view_name": "LayoutView",
      "align_content": null,
      "align_items": null,
      "align_self": null,
      "border": null,
      "bottom": null,
      "display": null,
      "flex": null,
      "flex_flow": null,
      "grid_area": null,
      "grid_auto_columns": null,
      "grid_auto_flow": null,
      "grid_auto_rows": null,
      "grid_column": null,
      "grid_gap": null,
      "grid_row": null,
      "grid_template_areas": null,
      "grid_template_columns": null,
      "grid_template_rows": null,
      "height": null,
      "justify_content": null,
      "justify_items": null,
      "left": null,
      "margin": null,
      "max_height": null,
      "max_width": null,
      "min_height": null,
      "min_width": null,
      "object_fit": null,
      "object_position": null,
      "order": null,
      "overflow": null,
      "overflow_x": null,
      "overflow_y": null,
      "padding": null,
      "right": null,
      "top": null,
      "visibility": null,
      "width": null
     }
    },
    "7a68fc33c7f043be8fb6528770dcc57e": {
     "model_module": "@jupyter-widgets/controls",
     "model_module_version": "1.5.0",
     "model_name": "DescriptionStyleModel",
     "state": {
      "_model_module": "@jupyter-widgets/controls",
      "_model_module_version": "1.5.0",
      "_model_name": "DescriptionStyleModel",
      "_view_count": null,
      "_view_module": "@jupyter-widgets/base",
      "_view_module_version": "1.2.0",
      "_view_name": "StyleView",
      "description_width": ""
     }
    },
    "7f5bc165dea74f76b3d853cb34178e15": {
     "model_module": "@jupyter-widgets/controls",
     "model_module_version": "1.5.0",
     "model_name": "DescriptionStyleModel",
     "state": {
      "_model_module": "@jupyter-widgets/controls",
      "_model_module_version": "1.5.0",
      "_model_name": "DescriptionStyleModel",
      "_view_count": null,
      "_view_module": "@jupyter-widgets/base",
      "_view_module_version": "1.2.0",
      "_view_name": "StyleView",
      "description_width": ""
     }
    },
    "7fec762083de4f458ea83c01be9349ed": {
     "model_module": "@jupyter-widgets/base",
     "model_module_version": "1.2.0",
     "model_name": "LayoutModel",
     "state": {
      "_model_module": "@jupyter-widgets/base",
      "_model_module_version": "1.2.0",
      "_model_name": "LayoutModel",
      "_view_count": null,
      "_view_module": "@jupyter-widgets/base",
      "_view_module_version": "1.2.0",
      "_view_name": "LayoutView",
      "align_content": null,
      "align_items": null,
      "align_self": null,
      "border": null,
      "bottom": null,
      "display": null,
      "flex": null,
      "flex_flow": null,
      "grid_area": null,
      "grid_auto_columns": null,
      "grid_auto_flow": null,
      "grid_auto_rows": null,
      "grid_column": null,
      "grid_gap": null,
      "grid_row": null,
      "grid_template_areas": null,
      "grid_template_columns": null,
      "grid_template_rows": null,
      "height": null,
      "justify_content": null,
      "justify_items": null,
      "left": null,
      "margin": null,
      "max_height": null,
      "max_width": null,
      "min_height": null,
      "min_width": null,
      "object_fit": null,
      "object_position": null,
      "order": null,
      "overflow": null,
      "overflow_x": null,
      "overflow_y": null,
      "padding": null,
      "right": null,
      "top": null,
      "visibility": null,
      "width": null
     }
    },
    "8183b486dbc4470e9a17ba82d3a44dcc": {
     "model_module": "@jupyter-widgets/controls",
     "model_module_version": "1.5.0",
     "model_name": "DescriptionStyleModel",
     "state": {
      "_model_module": "@jupyter-widgets/controls",
      "_model_module_version": "1.5.0",
      "_model_name": "DescriptionStyleModel",
      "_view_count": null,
      "_view_module": "@jupyter-widgets/base",
      "_view_module_version": "1.2.0",
      "_view_name": "StyleView",
      "description_width": ""
     }
    },
    "81d3432601d0479bae1a32abc95bc531": {
     "model_module": "@jupyter-widgets/controls",
     "model_module_version": "1.5.0",
     "model_name": "FloatProgressModel",
     "state": {
      "_dom_classes": [],
      "_model_module": "@jupyter-widgets/controls",
      "_model_module_version": "1.5.0",
      "_model_name": "FloatProgressModel",
      "_view_count": null,
      "_view_module": "@jupyter-widgets/controls",
      "_view_module_version": "1.5.0",
      "_view_name": "ProgressView",
      "bar_style": "success",
      "description": "",
      "description_tooltip": null,
      "layout": "IPY_MODEL_b688926d63414089b12fa2b2eca7e8a5",
      "max": 399,
      "min": 0,
      "orientation": "horizontal",
      "style": "IPY_MODEL_0c9eeda900f04736b171b674ca8d203c",
      "value": 399
     }
    },
    "82d02467efad44068702b0e54d83b09b": {
     "model_module": "@jupyter-widgets/controls",
     "model_module_version": "1.5.0",
     "model_name": "HBoxModel",
     "state": {
      "_dom_classes": [],
      "_model_module": "@jupyter-widgets/controls",
      "_model_module_version": "1.5.0",
      "_model_name": "HBoxModel",
      "_view_count": null,
      "_view_module": "@jupyter-widgets/controls",
      "_view_module_version": "1.5.0",
      "_view_name": "HBoxView",
      "box_style": "",
      "children": [
       "IPY_MODEL_06ea2abbced94a50ae20ca9dcc797556",
       "IPY_MODEL_5af9a7adfffa4f3aad3a84fde8ce3bcb",
       "IPY_MODEL_cd5e56ed92f0425c97b24add352a7496"
      ],
      "layout": "IPY_MODEL_28128435835d43f6a927b7b4f2baa891"
     }
    },
    "83a1e9e91cba4cf3827418314f31a698": {
     "model_module": "@jupyter-widgets/base",
     "model_module_version": "1.2.0",
     "model_name": "LayoutModel",
     "state": {
      "_model_module": "@jupyter-widgets/base",
      "_model_module_version": "1.2.0",
      "_model_name": "LayoutModel",
      "_view_count": null,
      "_view_module": "@jupyter-widgets/base",
      "_view_module_version": "1.2.0",
      "_view_name": "LayoutView",
      "align_content": null,
      "align_items": null,
      "align_self": null,
      "border": null,
      "bottom": null,
      "display": null,
      "flex": null,
      "flex_flow": null,
      "grid_area": null,
      "grid_auto_columns": null,
      "grid_auto_flow": null,
      "grid_auto_rows": null,
      "grid_column": null,
      "grid_gap": null,
      "grid_row": null,
      "grid_template_areas": null,
      "grid_template_columns": null,
      "grid_template_rows": null,
      "height": null,
      "justify_content": null,
      "justify_items": null,
      "left": null,
      "margin": null,
      "max_height": null,
      "max_width": null,
      "min_height": null,
      "min_width": null,
      "object_fit": null,
      "object_position": null,
      "order": null,
      "overflow": null,
      "overflow_x": null,
      "overflow_y": null,
      "padding": null,
      "right": null,
      "top": null,
      "visibility": null,
      "width": null
     }
    },
    "889b3d3dd5384c4fa1756194a57e1f91": {
     "model_module": "@jupyter-widgets/controls",
     "model_module_version": "1.5.0",
     "model_name": "ProgressStyleModel",
     "state": {
      "_model_module": "@jupyter-widgets/controls",
      "_model_module_version": "1.5.0",
      "_model_name": "ProgressStyleModel",
      "_view_count": null,
      "_view_module": "@jupyter-widgets/base",
      "_view_module_version": "1.2.0",
      "_view_name": "StyleView",
      "bar_color": null,
      "description_width": ""
     }
    },
    "8a6e74a24b6f41edbf621f925724c309": {
     "model_module": "@jupyter-widgets/controls",
     "model_module_version": "1.5.0",
     "model_name": "HBoxModel",
     "state": {
      "_dom_classes": [],
      "_model_module": "@jupyter-widgets/controls",
      "_model_module_version": "1.5.0",
      "_model_name": "HBoxModel",
      "_view_count": null,
      "_view_module": "@jupyter-widgets/controls",
      "_view_module_version": "1.5.0",
      "_view_name": "HBoxView",
      "box_style": "",
      "children": [
       "IPY_MODEL_49b9aa5ab9084d87b3a675c93f09d597",
       "IPY_MODEL_cae6e78bfcc24dc68d68763060386733",
       "IPY_MODEL_651f166acc8246168ab2fe96714595c3"
      ],
      "layout": "IPY_MODEL_6a4fce4865554339861733861c623662"
     }
    },
    "8bfd6f70be8f4a94aeb433389fa21571": {
     "model_module": "@jupyter-widgets/controls",
     "model_module_version": "1.5.0",
     "model_name": "DescriptionStyleModel",
     "state": {
      "_model_module": "@jupyter-widgets/controls",
      "_model_module_version": "1.5.0",
      "_model_name": "DescriptionStyleModel",
      "_view_count": null,
      "_view_module": "@jupyter-widgets/base",
      "_view_module_version": "1.2.0",
      "_view_name": "StyleView",
      "description_width": ""
     }
    },
    "8d1e058fca924a888ef8021f72de40a7": {
     "model_module": "@jupyter-widgets/controls",
     "model_module_version": "1.5.0",
     "model_name": "ProgressStyleModel",
     "state": {
      "_model_module": "@jupyter-widgets/controls",
      "_model_module_version": "1.5.0",
      "_model_name": "ProgressStyleModel",
      "_view_count": null,
      "_view_module": "@jupyter-widgets/base",
      "_view_module_version": "1.2.0",
      "_view_name": "StyleView",
      "bar_color": null,
      "description_width": ""
     }
    },
    "8e80d87e8a9a41dc8bfc8c9817509692": {
     "model_module": "@jupyter-widgets/controls",
     "model_module_version": "1.5.0",
     "model_name": "ProgressStyleModel",
     "state": {
      "_model_module": "@jupyter-widgets/controls",
      "_model_module_version": "1.5.0",
      "_model_name": "ProgressStyleModel",
      "_view_count": null,
      "_view_module": "@jupyter-widgets/base",
      "_view_module_version": "1.2.0",
      "_view_name": "StyleView",
      "bar_color": null,
      "description_width": ""
     }
    },
    "8eb5c9b89f9f474ab24b7e8b7c0d094b": {
     "model_module": "@jupyter-widgets/base",
     "model_module_version": "1.2.0",
     "model_name": "LayoutModel",
     "state": {
      "_model_module": "@jupyter-widgets/base",
      "_model_module_version": "1.2.0",
      "_model_name": "LayoutModel",
      "_view_count": null,
      "_view_module": "@jupyter-widgets/base",
      "_view_module_version": "1.2.0",
      "_view_name": "LayoutView",
      "align_content": null,
      "align_items": null,
      "align_self": null,
      "border": null,
      "bottom": null,
      "display": null,
      "flex": null,
      "flex_flow": null,
      "grid_area": null,
      "grid_auto_columns": null,
      "grid_auto_flow": null,
      "grid_auto_rows": null,
      "grid_column": null,
      "grid_gap": null,
      "grid_row": null,
      "grid_template_areas": null,
      "grid_template_columns": null,
      "grid_template_rows": null,
      "height": null,
      "justify_content": null,
      "justify_items": null,
      "left": null,
      "margin": null,
      "max_height": null,
      "max_width": null,
      "min_height": null,
      "min_width": null,
      "object_fit": null,
      "object_position": null,
      "order": null,
      "overflow": null,
      "overflow_x": null,
      "overflow_y": null,
      "padding": null,
      "right": null,
      "top": null,
      "visibility": null,
      "width": null
     }
    },
    "8edb2ba9f38a4a3ea4b2134caae3e0ca": {
     "model_module": "@jupyter-widgets/controls",
     "model_module_version": "1.5.0",
     "model_name": "HBoxModel",
     "state": {
      "_dom_classes": [],
      "_model_module": "@jupyter-widgets/controls",
      "_model_module_version": "1.5.0",
      "_model_name": "HBoxModel",
      "_view_count": null,
      "_view_module": "@jupyter-widgets/controls",
      "_view_module_version": "1.5.0",
      "_view_name": "HBoxView",
      "box_style": "",
      "children": [
       "IPY_MODEL_248a7581abb74b9f83b929f58e273479",
       "IPY_MODEL_ea85df200ca74294becebe10a2a11bcc",
       "IPY_MODEL_0a4b7887bf77431881a88d81439ef1cd"
      ],
      "layout": "IPY_MODEL_44af747a94164f148538fd03efd4d0a2"
     }
    },
    "92c121ff7e254a0e8a747b339443700f": {
     "model_module": "@jupyter-widgets/controls",
     "model_module_version": "1.5.0",
     "model_name": "ProgressStyleModel",
     "state": {
      "_model_module": "@jupyter-widgets/controls",
      "_model_module_version": "1.5.0",
      "_model_name": "ProgressStyleModel",
      "_view_count": null,
      "_view_module": "@jupyter-widgets/base",
      "_view_module_version": "1.2.0",
      "_view_name": "StyleView",
      "bar_color": null,
      "description_width": ""
     }
    },
    "92e3af8222eb4660b9d1a547d6eef3bd": {
     "model_module": "@jupyter-widgets/controls",
     "model_module_version": "1.5.0",
     "model_name": "HTMLModel",
     "state": {
      "_dom_classes": [],
      "_model_module": "@jupyter-widgets/controls",
      "_model_module_version": "1.5.0",
      "_model_name": "HTMLModel",
      "_view_count": null,
      "_view_module": "@jupyter-widgets/controls",
      "_view_module_version": "1.5.0",
      "_view_name": "HTMLView",
      "description": "",
      "description_tooltip": null,
      "layout": "IPY_MODEL_4ebcefa15259418cb8c4a48d7d5e487f",
      "placeholder": "​",
      "style": "IPY_MODEL_a650069ec50e47b4bddea464bbd072ae",
      "value": " 625/625 [00:00&lt;00:00, 9.87kB/s]"
     }
    },
    "940c00245ca443ceaa38ad62a355279c": {
     "model_module": "@jupyter-widgets/base",
     "model_module_version": "1.2.0",
     "model_name": "LayoutModel",
     "state": {
      "_model_module": "@jupyter-widgets/base",
      "_model_module_version": "1.2.0",
      "_model_name": "LayoutModel",
      "_view_count": null,
      "_view_module": "@jupyter-widgets/base",
      "_view_module_version": "1.2.0",
      "_view_name": "LayoutView",
      "align_content": null,
      "align_items": null,
      "align_self": null,
      "border": null,
      "bottom": null,
      "display": null,
      "flex": null,
      "flex_flow": null,
      "grid_area": null,
      "grid_auto_columns": null,
      "grid_auto_flow": null,
      "grid_auto_rows": null,
      "grid_column": null,
      "grid_gap": null,
      "grid_row": null,
      "grid_template_areas": null,
      "grid_template_columns": null,
      "grid_template_rows": null,
      "height": null,
      "justify_content": null,
      "justify_items": null,
      "left": null,
      "margin": null,
      "max_height": null,
      "max_width": null,
      "min_height": null,
      "min_width": null,
      "object_fit": null,
      "object_position": null,
      "order": null,
      "overflow": null,
      "overflow_x": null,
      "overflow_y": null,
      "padding": null,
      "right": null,
      "top": null,
      "visibility": null,
      "width": null
     }
    },
    "95e16ec30baa4e07a5da28987c2e4f2b": {
     "model_module": "@jupyter-widgets/controls",
     "model_module_version": "1.5.0",
     "model_name": "HBoxModel",
     "state": {
      "_dom_classes": [],
      "_model_module": "@jupyter-widgets/controls",
      "_model_module_version": "1.5.0",
      "_model_name": "HBoxModel",
      "_view_count": null,
      "_view_module": "@jupyter-widgets/controls",
      "_view_module_version": "1.5.0",
      "_view_name": "HBoxView",
      "box_style": "",
      "children": [
       "IPY_MODEL_4aac2df9554648b98bdbfd7c45ba6f6d",
       "IPY_MODEL_e82df6c03823453d8b4f54cecad1a358",
       "IPY_MODEL_bec6df164add4f7595d073dc95aaf357"
      ],
      "layout": "IPY_MODEL_6260b93b9e4e4c6cb2231738b007616d"
     }
    },
    "95e8dc00e3134e009ac1aaacb08ab703": {
     "model_module": "@jupyter-widgets/controls",
     "model_module_version": "1.5.0",
     "model_name": "DescriptionStyleModel",
     "state": {
      "_model_module": "@jupyter-widgets/controls",
      "_model_module_version": "1.5.0",
      "_model_name": "DescriptionStyleModel",
      "_view_count": null,
      "_view_module": "@jupyter-widgets/base",
      "_view_module_version": "1.2.0",
      "_view_name": "StyleView",
      "description_width": ""
     }
    },
    "9669c8620b9a4267a7cc2a8a47b192a5": {
     "model_module": "@jupyter-widgets/controls",
     "model_module_version": "1.5.0",
     "model_name": "DescriptionStyleModel",
     "state": {
      "_model_module": "@jupyter-widgets/controls",
      "_model_module_version": "1.5.0",
      "_model_name": "DescriptionStyleModel",
      "_view_count": null,
      "_view_module": "@jupyter-widgets/base",
      "_view_module_version": "1.2.0",
      "_view_name": "StyleView",
      "description_width": ""
     }
    },
    "992c4ac815c54d2683cd936387ac8e87": {
     "model_module": "@jupyter-widgets/base",
     "model_module_version": "1.2.0",
     "model_name": "LayoutModel",
     "state": {
      "_model_module": "@jupyter-widgets/base",
      "_model_module_version": "1.2.0",
      "_model_name": "LayoutModel",
      "_view_count": null,
      "_view_module": "@jupyter-widgets/base",
      "_view_module_version": "1.2.0",
      "_view_name": "LayoutView",
      "align_content": null,
      "align_items": null,
      "align_self": null,
      "border": null,
      "bottom": null,
      "display": null,
      "flex": null,
      "flex_flow": null,
      "grid_area": null,
      "grid_auto_columns": null,
      "grid_auto_flow": null,
      "grid_auto_rows": null,
      "grid_column": null,
      "grid_gap": null,
      "grid_row": null,
      "grid_template_areas": null,
      "grid_template_columns": null,
      "grid_template_rows": null,
      "height": null,
      "justify_content": null,
      "justify_items": null,
      "left": null,
      "margin": null,
      "max_height": null,
      "max_width": null,
      "min_height": null,
      "min_width": null,
      "object_fit": null,
      "object_position": null,
      "order": null,
      "overflow": null,
      "overflow_x": null,
      "overflow_y": null,
      "padding": null,
      "right": null,
      "top": null,
      "visibility": null,
      "width": null
     }
    },
    "9c2db7a7a56e494091f4c90b974d2311": {
     "model_module": "@jupyter-widgets/controls",
     "model_module_version": "1.5.0",
     "model_name": "FloatProgressModel",
     "state": {
      "_dom_classes": [],
      "_model_module": "@jupyter-widgets/controls",
      "_model_module_version": "1.5.0",
      "_model_name": "FloatProgressModel",
      "_view_count": null,
      "_view_module": "@jupyter-widgets/controls",
      "_view_module_version": "1.5.0",
      "_view_name": "ProgressView",
      "bar_style": "success",
      "description": "",
      "description_tooltip": null,
      "layout": "IPY_MODEL_e1e6db381ff149e4b287c1d4d90ef89b",
      "max": 112,
      "min": 0,
      "orientation": "horizontal",
      "style": "IPY_MODEL_8e80d87e8a9a41dc8bfc8c9817509692",
      "value": 112
     }
    },
    "9c30a92e9d264131b7f35c6ef61175a9": {
     "model_module": "@jupyter-widgets/controls",
     "model_module_version": "1.5.0",
     "model_name": "FloatProgressModel",
     "state": {
      "_dom_classes": [],
      "_model_module": "@jupyter-widgets/controls",
      "_model_module_version": "1.5.0",
      "_model_name": "FloatProgressModel",
      "_view_count": null,
      "_view_module": "@jupyter-widgets/controls",
      "_view_module_version": "1.5.0",
      "_view_name": "ProgressView",
      "bar_style": "success",
      "description": "",
      "description_tooltip": null,
      "layout": "IPY_MODEL_117a708725d548ba8b2046ae523fb582",
      "max": 3951,
      "min": 0,
      "orientation": "horizontal",
      "style": "IPY_MODEL_8d1e058fca924a888ef8021f72de40a7",
      "value": 3951
     }
    },
    "9cb11f696a74487093cd210f4e7eae44": {
     "model_module": "@jupyter-widgets/controls",
     "model_module_version": "1.5.0",
     "model_name": "FloatProgressModel",
     "state": {
      "_dom_classes": [],
      "_model_module": "@jupyter-widgets/controls",
      "_model_module_version": "1.5.0",
      "_model_name": "FloatProgressModel",
      "_view_count": null,
      "_view_module": "@jupyter-widgets/controls",
      "_view_module_version": "1.5.0",
      "_view_name": "ProgressView",
      "bar_style": "success",
      "description": "",
      "description_tooltip": null,
      "layout": "IPY_MODEL_07afef09796e4c7c9e7c6c8460725f2c",
      "max": 466081,
      "min": 0,
      "orientation": "horizontal",
      "style": "IPY_MODEL_55c5fe1bda224d09b61ac159a61598e7",
      "value": 466081
     }
    },
    "9f1a67031dcd41878263f6af95694b17": {
     "model_module": "@jupyter-widgets/controls",
     "model_module_version": "1.5.0",
     "model_name": "ProgressStyleModel",
     "state": {
      "_model_module": "@jupyter-widgets/controls",
      "_model_module_version": "1.5.0",
      "_model_name": "ProgressStyleModel",
      "_view_count": null,
      "_view_module": "@jupyter-widgets/base",
      "_view_module_version": "1.2.0",
      "_view_name": "StyleView",
      "bar_color": null,
      "description_width": ""
     }
    },
    "a2eea17532eb4c889cbe3e0d0fcd7e5e": {
     "model_module": "@jupyter-widgets/controls",
     "model_module_version": "1.5.0",
     "model_name": "HTMLModel",
     "state": {
      "_dom_classes": [],
      "_model_module": "@jupyter-widgets/controls",
      "_model_module_version": "1.5.0",
      "_model_name": "HTMLModel",
      "_view_count": null,
      "_view_module": "@jupyter-widgets/controls",
      "_view_module_version": "1.5.0",
      "_view_name": "HTMLView",
      "description": "",
      "description_tooltip": null,
      "layout": "IPY_MODEL_5d015f50be4a4ce7965072aca3dd3e83",
      "placeholder": "​",
      "style": "IPY_MODEL_22b8415916dd417295531e8dc7b246ed",
      "value": "Downloading: 100%"
     }
    },
    "a650069ec50e47b4bddea464bbd072ae": {
     "model_module": "@jupyter-widgets/controls",
     "model_module_version": "1.5.0",
     "model_name": "DescriptionStyleModel",
     "state": {
      "_model_module": "@jupyter-widgets/controls",
      "_model_module_version": "1.5.0",
      "_model_name": "DescriptionStyleModel",
      "_view_count": null,
      "_view_module": "@jupyter-widgets/base",
      "_view_module_version": "1.2.0",
      "_view_name": "StyleView",
      "description_width": ""
     }
    },
    "a74d0ee583b944f08fdb629c0c9f0554": {
     "model_module": "@jupyter-widgets/base",
     "model_module_version": "1.2.0",
     "model_name": "LayoutModel",
     "state": {
      "_model_module": "@jupyter-widgets/base",
      "_model_module_version": "1.2.0",
      "_model_name": "LayoutModel",
      "_view_count": null,
      "_view_module": "@jupyter-widgets/base",
      "_view_module_version": "1.2.0",
      "_view_name": "LayoutView",
      "align_content": null,
      "align_items": null,
      "align_self": null,
      "border": null,
      "bottom": null,
      "display": null,
      "flex": null,
      "flex_flow": null,
      "grid_area": null,
      "grid_auto_columns": null,
      "grid_auto_flow": null,
      "grid_auto_rows": null,
      "grid_column": null,
      "grid_gap": null,
      "grid_row": null,
      "grid_template_areas": null,
      "grid_template_columns": null,
      "grid_template_rows": null,
      "height": null,
      "justify_content": null,
      "justify_items": null,
      "left": null,
      "margin": null,
      "max_height": null,
      "max_width": null,
      "min_height": null,
      "min_width": null,
      "object_fit": null,
      "object_position": null,
      "order": null,
      "overflow": null,
      "overflow_x": null,
      "overflow_y": null,
      "padding": null,
      "right": null,
      "top": null,
      "visibility": null,
      "width": null
     }
    },
    "ad1bc27fce1943559a7f4522f54b1d24": {
     "model_module": "@jupyter-widgets/controls",
     "model_module_version": "1.5.0",
     "model_name": "ProgressStyleModel",
     "state": {
      "_model_module": "@jupyter-widgets/controls",
      "_model_module_version": "1.5.0",
      "_model_name": "ProgressStyleModel",
      "_view_count": null,
      "_view_module": "@jupyter-widgets/base",
      "_view_module_version": "1.2.0",
      "_view_name": "StyleView",
      "bar_color": null,
      "description_width": ""
     }
    },
    "af3881fe951c4a0c9480c27023962b7f": {
     "model_module": "@jupyter-widgets/controls",
     "model_module_version": "1.5.0",
     "model_name": "DescriptionStyleModel",
     "state": {
      "_model_module": "@jupyter-widgets/controls",
      "_model_module_version": "1.5.0",
      "_model_name": "DescriptionStyleModel",
      "_view_count": null,
      "_view_module": "@jupyter-widgets/base",
      "_view_module_version": "1.2.0",
      "_view_name": "StyleView",
      "description_width": ""
     }
    },
    "afc09a023179435eaa72dc5c1ef583a6": {
     "model_module": "@jupyter-widgets/controls",
     "model_module_version": "1.5.0",
     "model_name": "DescriptionStyleModel",
     "state": {
      "_model_module": "@jupyter-widgets/controls",
      "_model_module_version": "1.5.0",
      "_model_name": "DescriptionStyleModel",
      "_view_count": null,
      "_view_module": "@jupyter-widgets/base",
      "_view_module_version": "1.2.0",
      "_view_name": "StyleView",
      "description_width": ""
     }
    },
    "b1df4777257f4bc89d3611aa732fbbba": {
     "model_module": "@jupyter-widgets/controls",
     "model_module_version": "1.5.0",
     "model_name": "DescriptionStyleModel",
     "state": {
      "_model_module": "@jupyter-widgets/controls",
      "_model_module_version": "1.5.0",
      "_model_name": "DescriptionStyleModel",
      "_view_count": null,
      "_view_module": "@jupyter-widgets/base",
      "_view_module_version": "1.2.0",
      "_view_name": "StyleView",
      "description_width": ""
     }
    },
    "b3cf1fb01dd34660ab38f0dbe175bca0": {
     "model_module": "@jupyter-widgets/controls",
     "model_module_version": "1.5.0",
     "model_name": "FloatProgressModel",
     "state": {
      "_dom_classes": [],
      "_model_module": "@jupyter-widgets/controls",
      "_model_module_version": "1.5.0",
      "_model_name": "FloatProgressModel",
      "_view_count": null,
      "_view_module": "@jupyter-widgets/controls",
      "_view_module_version": "1.5.0",
      "_view_name": "ProgressView",
      "bar_style": "success",
      "description": "",
      "description_tooltip": null,
      "layout": "IPY_MODEL_b9f810b845074c60a14f90a9c8840e61",
      "max": 53,
      "min": 0,
      "orientation": "horizontal",
      "style": "IPY_MODEL_c824af9730004cce9ae7ba7821c62f81",
      "value": 53
     }
    },
    "b4ad383657ed4b3eb084a68a547b9377": {
     "model_module": "@jupyter-widgets/controls",
     "model_module_version": "1.5.0",
     "model_name": "DescriptionStyleModel",
     "state": {
      "_model_module": "@jupyter-widgets/controls",
      "_model_module_version": "1.5.0",
      "_model_name": "DescriptionStyleModel",
      "_view_count": null,
      "_view_module": "@jupyter-widgets/base",
      "_view_module_version": "1.2.0",
      "_view_name": "StyleView",
      "description_width": ""
     }
    },
    "b5f1e47f369f43fe9e41993ed04dae07": {
     "model_module": "@jupyter-widgets/controls",
     "model_module_version": "1.5.0",
     "model_name": "HBoxModel",
     "state": {
      "_dom_classes": [],
      "_model_module": "@jupyter-widgets/controls",
      "_model_module_version": "1.5.0",
      "_model_name": "HBoxModel",
      "_view_count": null,
      "_view_module": "@jupyter-widgets/controls",
      "_view_module_version": "1.5.0",
      "_view_name": "HBoxView",
      "box_style": "",
      "children": [
       "IPY_MODEL_65ead4597f4f4b56a85de218f1ee0c92",
       "IPY_MODEL_47439a8b9cbe4955be63496dbec55568",
       "IPY_MODEL_0fb3751af9d64dcfae95d52d0c21466a"
      ],
      "layout": "IPY_MODEL_6d7e9023d0c045deb30317cd155015b5"
     }
    },
    "b688926d63414089b12fa2b2eca7e8a5": {
     "model_module": "@jupyter-widgets/base",
     "model_module_version": "1.2.0",
     "model_name": "LayoutModel",
     "state": {
      "_model_module": "@jupyter-widgets/base",
      "_model_module_version": "1.2.0",
      "_model_name": "LayoutModel",
      "_view_count": null,
      "_view_module": "@jupyter-widgets/base",
      "_view_module_version": "1.2.0",
      "_view_name": "LayoutView",
      "align_content": null,
      "align_items": null,
      "align_self": null,
      "border": null,
      "bottom": null,
      "display": null,
      "flex": null,
      "flex_flow": null,
      "grid_area": null,
      "grid_auto_columns": null,
      "grid_auto_flow": null,
      "grid_auto_rows": null,
      "grid_column": null,
      "grid_gap": null,
      "grid_row": null,
      "grid_template_areas": null,
      "grid_template_columns": null,
      "grid_template_rows": null,
      "height": null,
      "justify_content": null,
      "justify_items": null,
      "left": null,
      "margin": null,
      "max_height": null,
      "max_width": null,
      "min_height": null,
      "min_width": null,
      "object_fit": null,
      "object_position": null,
      "order": null,
      "overflow": null,
      "overflow_x": null,
      "overflow_y": null,
      "padding": null,
      "right": null,
      "top": null,
      "visibility": null,
      "width": null
     }
    },
    "b741ee794ad74103b38f9a925fe5e773": {
     "model_module": "@jupyter-widgets/controls",
     "model_module_version": "1.5.0",
     "model_name": "HTMLModel",
     "state": {
      "_dom_classes": [],
      "_model_module": "@jupyter-widgets/controls",
      "_model_module_version": "1.5.0",
      "_model_name": "HTMLModel",
      "_view_count": null,
      "_view_module": "@jupyter-widgets/controls",
      "_view_module_version": "1.5.0",
      "_view_name": "HTMLView",
      "description": "",
      "description_tooltip": null,
      "layout": "IPY_MODEL_7fec762083de4f458ea83c01be9349ed",
      "placeholder": "​",
      "style": "IPY_MODEL_1d05a39fe4824ad28287df46b3b05925",
      "value": " 2.00/2.00 [00:00&lt;00:00, 53.7B/s]"
     }
    },
    "b7b2339bce9e4457883fefecc89e5445": {
     "model_module": "@jupyter-widgets/base",
     "model_module_version": "1.2.0",
     "model_name": "LayoutModel",
     "state": {
      "_model_module": "@jupyter-widgets/base",
      "_model_module_version": "1.2.0",
      "_model_name": "LayoutModel",
      "_view_count": null,
      "_view_module": "@jupyter-widgets/base",
      "_view_module_version": "1.2.0",
      "_view_name": "LayoutView",
      "align_content": null,
      "align_items": null,
      "align_self": null,
      "border": null,
      "bottom": null,
      "display": null,
      "flex": null,
      "flex_flow": null,
      "grid_area": null,
      "grid_auto_columns": null,
      "grid_auto_flow": null,
      "grid_auto_rows": null,
      "grid_column": null,
      "grid_gap": null,
      "grid_row": null,
      "grid_template_areas": null,
      "grid_template_columns": null,
      "grid_template_rows": null,
      "height": null,
      "justify_content": null,
      "justify_items": null,
      "left": null,
      "margin": null,
      "max_height": null,
      "max_width": null,
      "min_height": null,
      "min_width": null,
      "object_fit": null,
      "object_position": null,
      "order": null,
      "overflow": null,
      "overflow_x": null,
      "overflow_y": null,
      "padding": null,
      "right": null,
      "top": null,
      "visibility": null,
      "width": null
     }
    },
    "b7f8b9aa95d840ff906e9c7a3de3e92d": {
     "model_module": "@jupyter-widgets/base",
     "model_module_version": "1.2.0",
     "model_name": "LayoutModel",
     "state": {
      "_model_module": "@jupyter-widgets/base",
      "_model_module_version": "1.2.0",
      "_model_name": "LayoutModel",
      "_view_count": null,
      "_view_module": "@jupyter-widgets/base",
      "_view_module_version": "1.2.0",
      "_view_name": "LayoutView",
      "align_content": null,
      "align_items": null,
      "align_self": null,
      "border": null,
      "bottom": null,
      "display": null,
      "flex": null,
      "flex_flow": null,
      "grid_area": null,
      "grid_auto_columns": null,
      "grid_auto_flow": null,
      "grid_auto_rows": null,
      "grid_column": null,
      "grid_gap": null,
      "grid_row": null,
      "grid_template_areas": null,
      "grid_template_columns": null,
      "grid_template_rows": null,
      "height": null,
      "justify_content": null,
      "justify_items": null,
      "left": null,
      "margin": null,
      "max_height": null,
      "max_width": null,
      "min_height": null,
      "min_width": null,
      "object_fit": null,
      "object_position": null,
      "order": null,
      "overflow": null,
      "overflow_x": null,
      "overflow_y": null,
      "padding": null,
      "right": null,
      "top": null,
      "visibility": null,
      "width": null
     }
    },
    "b8c02e6fcf4f410d8f44849efb28ec73": {
     "model_module": "@jupyter-widgets/controls",
     "model_module_version": "1.5.0",
     "model_name": "DescriptionStyleModel",
     "state": {
      "_model_module": "@jupyter-widgets/controls",
      "_model_module_version": "1.5.0",
      "_model_name": "DescriptionStyleModel",
      "_view_count": null,
      "_view_module": "@jupyter-widgets/base",
      "_view_module_version": "1.2.0",
      "_view_name": "StyleView",
      "description_width": ""
     }
    },
    "b9d6a7895fbe4fb4ae77af425ed1de7b": {
     "model_module": "@jupyter-widgets/controls",
     "model_module_version": "1.5.0",
     "model_name": "DescriptionStyleModel",
     "state": {
      "_model_module": "@jupyter-widgets/controls",
      "_model_module_version": "1.5.0",
      "_model_name": "DescriptionStyleModel",
      "_view_count": null,
      "_view_module": "@jupyter-widgets/base",
      "_view_module_version": "1.2.0",
      "_view_name": "StyleView",
      "description_width": ""
     }
    },
    "b9f810b845074c60a14f90a9c8840e61": {
     "model_module": "@jupyter-widgets/base",
     "model_module_version": "1.2.0",
     "model_name": "LayoutModel",
     "state": {
      "_model_module": "@jupyter-widgets/base",
      "_model_module_version": "1.2.0",
      "_model_name": "LayoutModel",
      "_view_count": null,
      "_view_module": "@jupyter-widgets/base",
      "_view_module_version": "1.2.0",
      "_view_name": "LayoutView",
      "align_content": null,
      "align_items": null,
      "align_self": null,
      "border": null,
      "bottom": null,
      "display": null,
      "flex": null,
      "flex_flow": null,
      "grid_area": null,
      "grid_auto_columns": null,
      "grid_auto_flow": null,
      "grid_auto_rows": null,
      "grid_column": null,
      "grid_gap": null,
      "grid_row": null,
      "grid_template_areas": null,
      "grid_template_columns": null,
      "grid_template_rows": null,
      "height": null,
      "justify_content": null,
      "justify_items": null,
      "left": null,
      "margin": null,
      "max_height": null,
      "max_width": null,
      "min_height": null,
      "min_width": null,
      "object_fit": null,
      "object_position": null,
      "order": null,
      "overflow": null,
      "overflow_x": null,
      "overflow_y": null,
      "padding": null,
      "right": null,
      "top": null,
      "visibility": null,
      "width": null
     }
    },
    "bcd1837c33874ec3a2c21a268409f2e5": {
     "model_module": "@jupyter-widgets/base",
     "model_module_version": "1.2.0",
     "model_name": "LayoutModel",
     "state": {
      "_model_module": "@jupyter-widgets/base",
      "_model_module_version": "1.2.0",
      "_model_name": "LayoutModel",
      "_view_count": null,
      "_view_module": "@jupyter-widgets/base",
      "_view_module_version": "1.2.0",
      "_view_name": "LayoutView",
      "align_content": null,
      "align_items": null,
      "align_self": null,
      "border": null,
      "bottom": null,
      "display": null,
      "flex": null,
      "flex_flow": null,
      "grid_area": null,
      "grid_auto_columns": null,
      "grid_auto_flow": null,
      "grid_auto_rows": null,
      "grid_column": null,
      "grid_gap": null,
      "grid_row": null,
      "grid_template_areas": null,
      "grid_template_columns": null,
      "grid_template_rows": null,
      "height": null,
      "justify_content": null,
      "justify_items": null,
      "left": null,
      "margin": null,
      "max_height": null,
      "max_width": null,
      "min_height": null,
      "min_width": null,
      "object_fit": null,
      "object_position": null,
      "order": null,
      "overflow": null,
      "overflow_x": null,
      "overflow_y": null,
      "padding": null,
      "right": null,
      "top": null,
      "visibility": null,
      "width": null
     }
    },
    "bdb926ba87704d0fade30d765ba8365d": {
     "model_module": "@jupyter-widgets/base",
     "model_module_version": "1.2.0",
     "model_name": "LayoutModel",
     "state": {
      "_model_module": "@jupyter-widgets/base",
      "_model_module_version": "1.2.0",
      "_model_name": "LayoutModel",
      "_view_count": null,
      "_view_module": "@jupyter-widgets/base",
      "_view_module_version": "1.2.0",
      "_view_name": "LayoutView",
      "align_content": null,
      "align_items": null,
      "align_self": null,
      "border": null,
      "bottom": null,
      "display": null,
      "flex": null,
      "flex_flow": null,
      "grid_area": null,
      "grid_auto_columns": null,
      "grid_auto_flow": null,
      "grid_auto_rows": null,
      "grid_column": null,
      "grid_gap": null,
      "grid_row": null,
      "grid_template_areas": null,
      "grid_template_columns": null,
      "grid_template_rows": null,
      "height": null,
      "justify_content": null,
      "justify_items": null,
      "left": null,
      "margin": null,
      "max_height": null,
      "max_width": null,
      "min_height": null,
      "min_width": null,
      "object_fit": null,
      "object_position": null,
      "order": null,
      "overflow": null,
      "overflow_x": null,
      "overflow_y": null,
      "padding": null,
      "right": null,
      "top": null,
      "visibility": null,
      "width": null
     }
    },
    "bdf940a905264ba79b4fd8a0425db8fd": {
     "model_module": "@jupyter-widgets/base",
     "model_module_version": "1.2.0",
     "model_name": "LayoutModel",
     "state": {
      "_model_module": "@jupyter-widgets/base",
      "_model_module_version": "1.2.0",
      "_model_name": "LayoutModel",
      "_view_count": null,
      "_view_module": "@jupyter-widgets/base",
      "_view_module_version": "1.2.0",
      "_view_name": "LayoutView",
      "align_content": null,
      "align_items": null,
      "align_self": null,
      "border": null,
      "bottom": null,
      "display": null,
      "flex": null,
      "flex_flow": null,
      "grid_area": null,
      "grid_auto_columns": null,
      "grid_auto_flow": null,
      "grid_auto_rows": null,
      "grid_column": null,
      "grid_gap": null,
      "grid_row": null,
      "grid_template_areas": null,
      "grid_template_columns": null,
      "grid_template_rows": null,
      "height": null,
      "justify_content": null,
      "justify_items": null,
      "left": null,
      "margin": null,
      "max_height": null,
      "max_width": null,
      "min_height": null,
      "min_width": null,
      "object_fit": null,
      "object_position": null,
      "order": null,
      "overflow": null,
      "overflow_x": null,
      "overflow_y": null,
      "padding": null,
      "right": null,
      "top": null,
      "visibility": null,
      "width": null
     }
    },
    "bec6df164add4f7595d073dc95aaf357": {
     "model_module": "@jupyter-widgets/controls",
     "model_module_version": "1.5.0",
     "model_name": "HTMLModel",
     "state": {
      "_dom_classes": [],
      "_model_module": "@jupyter-widgets/controls",
      "_model_module_version": "1.5.0",
      "_model_name": "HTMLModel",
      "_view_count": null,
      "_view_module": "@jupyter-widgets/controls",
      "_view_module_version": "1.5.0",
      "_view_name": "HTMLView",
      "description": "",
      "description_tooltip": null,
      "layout": "IPY_MODEL_b7f8b9aa95d840ff906e9c7a3de3e92d",
      "placeholder": "​",
      "style": "IPY_MODEL_b9d6a7895fbe4fb4ae77af425ed1de7b",
      "value": " 122/122 [00:00&lt;00:00, 2.51kB/s]"
     }
    },
    "bf1862f66d1d4adabce7f56f601dc2c9": {
     "model_module": "@jupyter-widgets/controls",
     "model_module_version": "1.5.0",
     "model_name": "HTMLModel",
     "state": {
      "_dom_classes": [],
      "_model_module": "@jupyter-widgets/controls",
      "_model_module_version": "1.5.0",
      "_model_name": "HTMLModel",
      "_view_count": null,
      "_view_module": "@jupyter-widgets/controls",
      "_view_module_version": "1.5.0",
      "_view_name": "HTMLView",
      "description": "",
      "description_tooltip": null,
      "layout": "IPY_MODEL_48d9c30665084342b108ddfcf15719ae",
      "placeholder": "​",
      "style": "IPY_MODEL_1e440b1a3506472689f368ad3fd45c37",
      "value": "Downloading: 100%"
     }
    },
    "bf3389dae88a450487e8486061059436": {
     "model_module": "@jupyter-widgets/base",
     "model_module_version": "1.2.0",
     "model_name": "LayoutModel",
     "state": {
      "_model_module": "@jupyter-widgets/base",
      "_model_module_version": "1.2.0",
      "_model_name": "LayoutModel",
      "_view_count": null,
      "_view_module": "@jupyter-widgets/base",
      "_view_module_version": "1.2.0",
      "_view_name": "LayoutView",
      "align_content": null,
      "align_items": null,
      "align_self": null,
      "border": null,
      "bottom": null,
      "display": null,
      "flex": null,
      "flex_flow": null,
      "grid_area": null,
      "grid_auto_columns": null,
      "grid_auto_flow": null,
      "grid_auto_rows": null,
      "grid_column": null,
      "grid_gap": null,
      "grid_row": null,
      "grid_template_areas": null,
      "grid_template_columns": null,
      "grid_template_rows": null,
      "height": null,
      "justify_content": null,
      "justify_items": null,
      "left": null,
      "margin": null,
      "max_height": null,
      "max_width": null,
      "min_height": null,
      "min_width": null,
      "object_fit": null,
      "object_position": null,
      "order": null,
      "overflow": null,
      "overflow_x": null,
      "overflow_y": null,
      "padding": null,
      "right": null,
      "top": null,
      "visibility": null,
      "width": null
     }
    },
    "bf5c52de887d4996809ce57278be694a": {
     "model_module": "@jupyter-widgets/controls",
     "model_module_version": "1.5.0",
     "model_name": "ProgressStyleModel",
     "state": {
      "_model_module": "@jupyter-widgets/controls",
      "_model_module_version": "1.5.0",
      "_model_name": "ProgressStyleModel",
      "_view_count": null,
      "_view_module": "@jupyter-widgets/base",
      "_view_module_version": "1.2.0",
      "_view_name": "StyleView",
      "bar_color": null,
      "description_width": ""
     }
    },
    "c025197819ec46eb9aac56d8e68320e0": {
     "model_module": "@jupyter-widgets/base",
     "model_module_version": "1.2.0",
     "model_name": "LayoutModel",
     "state": {
      "_model_module": "@jupyter-widgets/base",
      "_model_module_version": "1.2.0",
      "_model_name": "LayoutModel",
      "_view_count": null,
      "_view_module": "@jupyter-widgets/base",
      "_view_module_version": "1.2.0",
      "_view_name": "LayoutView",
      "align_content": null,
      "align_items": null,
      "align_self": null,
      "border": null,
      "bottom": null,
      "display": null,
      "flex": null,
      "flex_flow": null,
      "grid_area": null,
      "grid_auto_columns": null,
      "grid_auto_flow": null,
      "grid_auto_rows": null,
      "grid_column": null,
      "grid_gap": null,
      "grid_row": null,
      "grid_template_areas": null,
      "grid_template_columns": null,
      "grid_template_rows": null,
      "height": null,
      "justify_content": null,
      "justify_items": null,
      "left": null,
      "margin": null,
      "max_height": null,
      "max_width": null,
      "min_height": null,
      "min_width": null,
      "object_fit": null,
      "object_position": null,
      "order": null,
      "overflow": null,
      "overflow_x": null,
      "overflow_y": null,
      "padding": null,
      "right": null,
      "top": null,
      "visibility": null,
      "width": null
     }
    },
    "c085f2a673e343b59a4ff6569ad8136a": {
     "model_module": "@jupyter-widgets/controls",
     "model_module_version": "1.5.0",
     "model_name": "HBoxModel",
     "state": {
      "_dom_classes": [],
      "_model_module": "@jupyter-widgets/controls",
      "_model_module_version": "1.5.0",
      "_model_name": "HBoxModel",
      "_view_count": null,
      "_view_module": "@jupyter-widgets/controls",
      "_view_module_version": "1.5.0",
      "_view_name": "HBoxView",
      "box_style": "",
      "children": [
       "IPY_MODEL_3f4971c73bfd4f0cacaaebf0554cc29b",
       "IPY_MODEL_fa676889299d4c76bc41d1b7a6cc5167",
       "IPY_MODEL_92e3af8222eb4660b9d1a547d6eef3bd"
      ],
      "layout": "IPY_MODEL_992c4ac815c54d2683cd936387ac8e87"
     }
    },
    "c824af9730004cce9ae7ba7821c62f81": {
     "model_module": "@jupyter-widgets/controls",
     "model_module_version": "1.5.0",
     "model_name": "ProgressStyleModel",
     "state": {
      "_model_module": "@jupyter-widgets/controls",
      "_model_module_version": "1.5.0",
      "_model_name": "ProgressStyleModel",
      "_view_count": null,
      "_view_module": "@jupyter-widgets/base",
      "_view_module_version": "1.2.0",
      "_view_name": "StyleView",
      "bar_color": null,
      "description_width": ""
     }
    },
    "c9397d31d24a457d94a1504a209f99fe": {
     "model_module": "@jupyter-widgets/base",
     "model_module_version": "1.2.0",
     "model_name": "LayoutModel",
     "state": {
      "_model_module": "@jupyter-widgets/base",
      "_model_module_version": "1.2.0",
      "_model_name": "LayoutModel",
      "_view_count": null,
      "_view_module": "@jupyter-widgets/base",
      "_view_module_version": "1.2.0",
      "_view_name": "LayoutView",
      "align_content": null,
      "align_items": null,
      "align_self": null,
      "border": null,
      "bottom": null,
      "display": null,
      "flex": null,
      "flex_flow": null,
      "grid_area": null,
      "grid_auto_columns": null,
      "grid_auto_flow": null,
      "grid_auto_rows": null,
      "grid_column": null,
      "grid_gap": null,
      "grid_row": null,
      "grid_template_areas": null,
      "grid_template_columns": null,
      "grid_template_rows": null,
      "height": null,
      "justify_content": null,
      "justify_items": null,
      "left": null,
      "margin": null,
      "max_height": null,
      "max_width": null,
      "min_height": null,
      "min_width": null,
      "object_fit": null,
      "object_position": null,
      "order": null,
      "overflow": null,
      "overflow_x": null,
      "overflow_y": null,
      "padding": null,
      "right": null,
      "top": null,
      "visibility": null,
      "width": null
     }
    },
    "ca6b48d3209442db9b3c65307a4a2930": {
     "model_module": "@jupyter-widgets/base",
     "model_module_version": "1.2.0",
     "model_name": "LayoutModel",
     "state": {
      "_model_module": "@jupyter-widgets/base",
      "_model_module_version": "1.2.0",
      "_model_name": "LayoutModel",
      "_view_count": null,
      "_view_module": "@jupyter-widgets/base",
      "_view_module_version": "1.2.0",
      "_view_name": "LayoutView",
      "align_content": null,
      "align_items": null,
      "align_self": null,
      "border": null,
      "bottom": null,
      "display": null,
      "flex": null,
      "flex_flow": null,
      "grid_area": null,
      "grid_auto_columns": null,
      "grid_auto_flow": null,
      "grid_auto_rows": null,
      "grid_column": null,
      "grid_gap": null,
      "grid_row": null,
      "grid_template_areas": null,
      "grid_template_columns": null,
      "grid_template_rows": null,
      "height": null,
      "justify_content": null,
      "justify_items": null,
      "left": null,
      "margin": null,
      "max_height": null,
      "max_width": null,
      "min_height": null,
      "min_width": null,
      "object_fit": null,
      "object_position": null,
      "order": null,
      "overflow": null,
      "overflow_x": null,
      "overflow_y": null,
      "padding": null,
      "right": null,
      "top": null,
      "visibility": null,
      "width": null
     }
    },
    "cae6e78bfcc24dc68d68763060386733": {
     "model_module": "@jupyter-widgets/controls",
     "model_module_version": "1.5.0",
     "model_name": "FloatProgressModel",
     "state": {
      "_dom_classes": [],
      "_model_module": "@jupyter-widgets/controls",
      "_model_module_version": "1.5.0",
      "_model_name": "FloatProgressModel",
      "_view_count": null,
      "_view_module": "@jupyter-widgets/controls",
      "_view_module_version": "1.5.0",
      "_view_name": "ProgressView",
      "bar_style": "success",
      "description": "",
      "description_tooltip": null,
      "layout": "IPY_MODEL_47a6b289e267483ab418c534162a3f40",
      "max": 229,
      "min": 0,
      "orientation": "horizontal",
      "style": "IPY_MODEL_92c121ff7e254a0e8a747b339443700f",
      "value": 229
     }
    },
    "cb06281b08574129892a0005f6c8a4de": {
     "model_module": "@jupyter-widgets/base",
     "model_module_version": "1.2.0",
     "model_name": "LayoutModel",
     "state": {
      "_model_module": "@jupyter-widgets/base",
      "_model_module_version": "1.2.0",
      "_model_name": "LayoutModel",
      "_view_count": null,
      "_view_module": "@jupyter-widgets/base",
      "_view_module_version": "1.2.0",
      "_view_name": "LayoutView",
      "align_content": null,
      "align_items": null,
      "align_self": null,
      "border": null,
      "bottom": null,
      "display": null,
      "flex": null,
      "flex_flow": null,
      "grid_area": null,
      "grid_auto_columns": null,
      "grid_auto_flow": null,
      "grid_auto_rows": null,
      "grid_column": null,
      "grid_gap": null,
      "grid_row": null,
      "grid_template_areas": null,
      "grid_template_columns": null,
      "grid_template_rows": null,
      "height": null,
      "justify_content": null,
      "justify_items": null,
      "left": null,
      "margin": null,
      "max_height": null,
      "max_width": null,
      "min_height": null,
      "min_width": null,
      "object_fit": null,
      "object_position": null,
      "order": null,
      "overflow": null,
      "overflow_x": null,
      "overflow_y": null,
      "padding": null,
      "right": null,
      "top": null,
      "visibility": null,
      "width": null
     }
    },
    "cd5e56ed92f0425c97b24add352a7496": {
     "model_module": "@jupyter-widgets/controls",
     "model_module_version": "1.5.0",
     "model_name": "HTMLModel",
     "state": {
      "_dom_classes": [],
      "_model_module": "@jupyter-widgets/controls",
      "_model_module_version": "1.5.0",
      "_model_name": "HTMLModel",
      "_view_count": null,
      "_view_module": "@jupyter-widgets/controls",
      "_view_module_version": "1.5.0",
      "_view_name": "HTMLView",
      "description": "",
      "description_tooltip": null,
      "layout": "IPY_MODEL_940c00245ca443ceaa38ad62a355279c",
      "placeholder": "​",
      "style": "IPY_MODEL_af3881fe951c4a0c9480c27023962b7f",
      "value": " 4/4 [00:00&lt;00:00,  4.17it/s]"
     }
    },
    "ce5bc9b0b7654690a3eaa695ed12faab": {
     "model_module": "@jupyter-widgets/controls",
     "model_module_version": "1.5.0",
     "model_name": "HBoxModel",
     "state": {
      "_dom_classes": [],
      "_model_module": "@jupyter-widgets/controls",
      "_model_module_version": "1.5.0",
      "_model_name": "HBoxModel",
      "_view_count": null,
      "_view_module": "@jupyter-widgets/controls",
      "_view_module_version": "1.5.0",
      "_view_name": "HBoxView",
      "box_style": "",
      "children": [
       "IPY_MODEL_32ee16c4c28e49568c8e14b26c123ced",
       "IPY_MODEL_9c30a92e9d264131b7f35c6ef61175a9",
       "IPY_MODEL_30f331d2635847ff8a8801d219ac8f09"
      ],
      "layout": "IPY_MODEL_05c2bd4d2d6d47fdacc12eee9f6b6361"
     }
    },
    "ced3e2e36efa4ee7ad700e0aeda735ac": {
     "model_module": "@jupyter-widgets/controls",
     "model_module_version": "1.5.0",
     "model_name": "ProgressStyleModel",
     "state": {
      "_model_module": "@jupyter-widgets/controls",
      "_model_module_version": "1.5.0",
      "_model_name": "ProgressStyleModel",
      "_view_count": null,
      "_view_module": "@jupyter-widgets/base",
      "_view_module_version": "1.2.0",
      "_view_name": "StyleView",
      "bar_color": null,
      "description_width": ""
     }
    },
    "d290acf262ff4b1d89124bdbb13db7bd": {
     "model_module": "@jupyter-widgets/base",
     "model_module_version": "1.2.0",
     "model_name": "LayoutModel",
     "state": {
      "_model_module": "@jupyter-widgets/base",
      "_model_module_version": "1.2.0",
      "_model_name": "LayoutModel",
      "_view_count": null,
      "_view_module": "@jupyter-widgets/base",
      "_view_module_version": "1.2.0",
      "_view_name": "LayoutView",
      "align_content": null,
      "align_items": null,
      "align_self": null,
      "border": null,
      "bottom": null,
      "display": null,
      "flex": null,
      "flex_flow": null,
      "grid_area": null,
      "grid_auto_columns": null,
      "grid_auto_flow": null,
      "grid_auto_rows": null,
      "grid_column": null,
      "grid_gap": null,
      "grid_row": null,
      "grid_template_areas": null,
      "grid_template_columns": null,
      "grid_template_rows": null,
      "height": null,
      "justify_content": null,
      "justify_items": null,
      "left": null,
      "margin": null,
      "max_height": null,
      "max_width": null,
      "min_height": null,
      "min_width": null,
      "object_fit": null,
      "object_position": null,
      "order": null,
      "overflow": null,
      "overflow_x": null,
      "overflow_y": null,
      "padding": null,
      "right": null,
      "top": null,
      "visibility": null,
      "width": null
     }
    },
    "d3a9c818c6054b5aa3586a5a38bf8732": {
     "model_module": "@jupyter-widgets/base",
     "model_module_version": "1.2.0",
     "model_name": "LayoutModel",
     "state": {
      "_model_module": "@jupyter-widgets/base",
      "_model_module_version": "1.2.0",
      "_model_name": "LayoutModel",
      "_view_count": null,
      "_view_module": "@jupyter-widgets/base",
      "_view_module_version": "1.2.0",
      "_view_name": "LayoutView",
      "align_content": null,
      "align_items": null,
      "align_self": null,
      "border": null,
      "bottom": null,
      "display": null,
      "flex": null,
      "flex_flow": null,
      "grid_area": null,
      "grid_auto_columns": null,
      "grid_auto_flow": null,
      "grid_auto_rows": null,
      "grid_column": null,
      "grid_gap": null,
      "grid_row": null,
      "grid_template_areas": null,
      "grid_template_columns": null,
      "grid_template_rows": null,
      "height": null,
      "justify_content": null,
      "justify_items": null,
      "left": null,
      "margin": null,
      "max_height": null,
      "max_width": null,
      "min_height": null,
      "min_width": null,
      "object_fit": null,
      "object_position": null,
      "order": null,
      "overflow": null,
      "overflow_x": null,
      "overflow_y": null,
      "padding": null,
      "right": null,
      "top": null,
      "visibility": null,
      "width": null
     }
    },
    "d7f6d657b4a54addbd6bf40905ee85d3": {
     "model_module": "@jupyter-widgets/base",
     "model_module_version": "1.2.0",
     "model_name": "LayoutModel",
     "state": {
      "_model_module": "@jupyter-widgets/base",
      "_model_module_version": "1.2.0",
      "_model_name": "LayoutModel",
      "_view_count": null,
      "_view_module": "@jupyter-widgets/base",
      "_view_module_version": "1.2.0",
      "_view_name": "LayoutView",
      "align_content": null,
      "align_items": null,
      "align_self": null,
      "border": null,
      "bottom": null,
      "display": null,
      "flex": null,
      "flex_flow": null,
      "grid_area": null,
      "grid_auto_columns": null,
      "grid_auto_flow": null,
      "grid_auto_rows": null,
      "grid_column": null,
      "grid_gap": null,
      "grid_row": null,
      "grid_template_areas": null,
      "grid_template_columns": null,
      "grid_template_rows": null,
      "height": null,
      "justify_content": null,
      "justify_items": null,
      "left": null,
      "margin": null,
      "max_height": null,
      "max_width": null,
      "min_height": null,
      "min_width": null,
      "object_fit": null,
      "object_position": null,
      "order": null,
      "overflow": null,
      "overflow_x": null,
      "overflow_y": null,
      "padding": null,
      "right": null,
      "top": null,
      "visibility": null,
      "width": null
     }
    },
    "d87e2083d61a466990a16d6fd43e27a2": {
     "model_module": "@jupyter-widgets/controls",
     "model_module_version": "1.5.0",
     "model_name": "HBoxModel",
     "state": {
      "_dom_classes": [],
      "_model_module": "@jupyter-widgets/controls",
      "_model_module_version": "1.5.0",
      "_model_name": "HBoxModel",
      "_view_count": null,
      "_view_module": "@jupyter-widgets/controls",
      "_view_module_version": "1.5.0",
      "_view_name": "HBoxView",
      "box_style": "",
      "children": [
       "IPY_MODEL_f5c54bfe607a4d789ac0e2abc3c655d7",
       "IPY_MODEL_08f82a9979b44ac382db8cf608de5005",
       "IPY_MODEL_5f299bbdcc624274b42d4cf6294726f9"
      ],
      "layout": "IPY_MODEL_cb06281b08574129892a0005f6c8a4de"
     }
    },
    "dd12a9a08fbb4efa8f9add3d76c01ee9": {
     "model_module": "@jupyter-widgets/controls",
     "model_module_version": "1.5.0",
     "model_name": "DescriptionStyleModel",
     "state": {
      "_model_module": "@jupyter-widgets/controls",
      "_model_module_version": "1.5.0",
      "_model_name": "DescriptionStyleModel",
      "_view_count": null,
      "_view_module": "@jupyter-widgets/base",
      "_view_module_version": "1.2.0",
      "_view_name": "StyleView",
      "description_width": ""
     }
    },
    "ddd7ba428aba4c009d0802b450684e75": {
     "model_module": "@jupyter-widgets/controls",
     "model_module_version": "1.5.0",
     "model_name": "ProgressStyleModel",
     "state": {
      "_model_module": "@jupyter-widgets/controls",
      "_model_module_version": "1.5.0",
      "_model_name": "ProgressStyleModel",
      "_view_count": null,
      "_view_module": "@jupyter-widgets/base",
      "_view_module_version": "1.2.0",
      "_view_name": "StyleView",
      "bar_color": null,
      "description_width": ""
     }
    },
    "df641e9997554e60b5b76d08b14d2f45": {
     "model_module": "@jupyter-widgets/controls",
     "model_module_version": "1.5.0",
     "model_name": "FloatProgressModel",
     "state": {
      "_dom_classes": [],
      "_model_module": "@jupyter-widgets/controls",
      "_model_module_version": "1.5.0",
      "_model_name": "FloatProgressModel",
      "_view_count": null,
      "_view_module": "@jupyter-widgets/controls",
      "_view_module_version": "1.5.0",
      "_view_name": "ProgressView",
      "bar_style": "success",
      "description": "",
      "description_tooltip": null,
      "layout": "IPY_MODEL_83a1e9e91cba4cf3827418314f31a698",
      "max": 2,
      "min": 0,
      "orientation": "horizontal",
      "style": "IPY_MODEL_9f1a67031dcd41878263f6af95694b17",
      "value": 2
     }
    },
    "e01ff8bf8ce04dc58eab9fd4c88b0d9a": {
     "model_module": "@jupyter-widgets/controls",
     "model_module_version": "1.5.0",
     "model_name": "ProgressStyleModel",
     "state": {
      "_model_module": "@jupyter-widgets/controls",
      "_model_module_version": "1.5.0",
      "_model_name": "ProgressStyleModel",
      "_view_count": null,
      "_view_module": "@jupyter-widgets/base",
      "_view_module_version": "1.2.0",
      "_view_name": "StyleView",
      "bar_color": null,
      "description_width": ""
     }
    },
    "e08b55a031e145b3bc0b13af22b231b7": {
     "model_module": "@jupyter-widgets/base",
     "model_module_version": "1.2.0",
     "model_name": "LayoutModel",
     "state": {
      "_model_module": "@jupyter-widgets/base",
      "_model_module_version": "1.2.0",
      "_model_name": "LayoutModel",
      "_view_count": null,
      "_view_module": "@jupyter-widgets/base",
      "_view_module_version": "1.2.0",
      "_view_name": "LayoutView",
      "align_content": null,
      "align_items": null,
      "align_self": null,
      "border": null,
      "bottom": null,
      "display": null,
      "flex": null,
      "flex_flow": null,
      "grid_area": null,
      "grid_auto_columns": null,
      "grid_auto_flow": null,
      "grid_auto_rows": null,
      "grid_column": null,
      "grid_gap": null,
      "grid_row": null,
      "grid_template_areas": null,
      "grid_template_columns": null,
      "grid_template_rows": null,
      "height": null,
      "justify_content": null,
      "justify_items": null,
      "left": null,
      "margin": null,
      "max_height": null,
      "max_width": null,
      "min_height": null,
      "min_width": null,
      "object_fit": null,
      "object_position": null,
      "order": null,
      "overflow": null,
      "overflow_x": null,
      "overflow_y": null,
      "padding": null,
      "right": null,
      "top": null,
      "visibility": null,
      "width": null
     }
    },
    "e1b66593a9bf4306a1913b5772ca64a3": {
     "model_module": "@jupyter-widgets/controls",
     "model_module_version": "1.5.0",
     "model_name": "DescriptionStyleModel",
     "state": {
      "_model_module": "@jupyter-widgets/controls",
      "_model_module_version": "1.5.0",
      "_model_name": "DescriptionStyleModel",
      "_view_count": null,
      "_view_module": "@jupyter-widgets/base",
      "_view_module_version": "1.2.0",
      "_view_name": "StyleView",
      "description_width": ""
     }
    },
    "e1e6db381ff149e4b287c1d4d90ef89b": {
     "model_module": "@jupyter-widgets/base",
     "model_module_version": "1.2.0",
     "model_name": "LayoutModel",
     "state": {
      "_model_module": "@jupyter-widgets/base",
      "_model_module_version": "1.2.0",
      "_model_name": "LayoutModel",
      "_view_count": null,
      "_view_module": "@jupyter-widgets/base",
      "_view_module_version": "1.2.0",
      "_view_name": "LayoutView",
      "align_content": null,
      "align_items": null,
      "align_self": null,
      "border": null,
      "bottom": null,
      "display": null,
      "flex": null,
      "flex_flow": null,
      "grid_area": null,
      "grid_auto_columns": null,
      "grid_auto_flow": null,
      "grid_auto_rows": null,
      "grid_column": null,
      "grid_gap": null,
      "grid_row": null,
      "grid_template_areas": null,
      "grid_template_columns": null,
      "grid_template_rows": null,
      "height": null,
      "justify_content": null,
      "justify_items": null,
      "left": null,
      "margin": null,
      "max_height": null,
      "max_width": null,
      "min_height": null,
      "min_width": null,
      "object_fit": null,
      "object_position": null,
      "order": null,
      "overflow": null,
      "overflow_x": null,
      "overflow_y": null,
      "padding": null,
      "right": null,
      "top": null,
      "visibility": null,
      "width": null
     }
    },
    "e28654a72b984ac6ae838100e0cbc202": {
     "model_module": "@jupyter-widgets/base",
     "model_module_version": "1.2.0",
     "model_name": "LayoutModel",
     "state": {
      "_model_module": "@jupyter-widgets/base",
      "_model_module_version": "1.2.0",
      "_model_name": "LayoutModel",
      "_view_count": null,
      "_view_module": "@jupyter-widgets/base",
      "_view_module_version": "1.2.0",
      "_view_name": "LayoutView",
      "align_content": null,
      "align_items": null,
      "align_self": null,
      "border": null,
      "bottom": null,
      "display": null,
      "flex": null,
      "flex_flow": null,
      "grid_area": null,
      "grid_auto_columns": null,
      "grid_auto_flow": null,
      "grid_auto_rows": null,
      "grid_column": null,
      "grid_gap": null,
      "grid_row": null,
      "grid_template_areas": null,
      "grid_template_columns": null,
      "grid_template_rows": null,
      "height": null,
      "justify_content": null,
      "justify_items": null,
      "left": null,
      "margin": null,
      "max_height": null,
      "max_width": null,
      "min_height": null,
      "min_width": null,
      "object_fit": null,
      "object_position": null,
      "order": null,
      "overflow": null,
      "overflow_x": null,
      "overflow_y": null,
      "padding": null,
      "right": null,
      "top": null,
      "visibility": null,
      "width": null
     }
    },
    "e5c52c46ace64959920acf39700e4894": {
     "model_module": "@jupyter-widgets/base",
     "model_module_version": "1.2.0",
     "model_name": "LayoutModel",
     "state": {
      "_model_module": "@jupyter-widgets/base",
      "_model_module_version": "1.2.0",
      "_model_name": "LayoutModel",
      "_view_count": null,
      "_view_module": "@jupyter-widgets/base",
      "_view_module_version": "1.2.0",
      "_view_name": "LayoutView",
      "align_content": null,
      "align_items": null,
      "align_self": null,
      "border": null,
      "bottom": null,
      "display": null,
      "flex": null,
      "flex_flow": null,
      "grid_area": null,
      "grid_auto_columns": null,
      "grid_auto_flow": null,
      "grid_auto_rows": null,
      "grid_column": null,
      "grid_gap": null,
      "grid_row": null,
      "grid_template_areas": null,
      "grid_template_columns": null,
      "grid_template_rows": null,
      "height": null,
      "justify_content": null,
      "justify_items": null,
      "left": null,
      "margin": null,
      "max_height": null,
      "max_width": null,
      "min_height": null,
      "min_width": null,
      "object_fit": null,
      "object_position": null,
      "order": null,
      "overflow": null,
      "overflow_x": null,
      "overflow_y": null,
      "padding": null,
      "right": null,
      "top": null,
      "visibility": null,
      "width": null
     }
    },
    "e82df6c03823453d8b4f54cecad1a358": {
     "model_module": "@jupyter-widgets/controls",
     "model_module_version": "1.5.0",
     "model_name": "FloatProgressModel",
     "state": {
      "_dom_classes": [],
      "_model_module": "@jupyter-widgets/controls",
      "_model_module_version": "1.5.0",
      "_model_name": "FloatProgressModel",
      "_view_count": null,
      "_view_module": "@jupyter-widgets/controls",
      "_view_module_version": "1.5.0",
      "_view_name": "ProgressView",
      "bar_style": "success",
      "description": "",
      "description_tooltip": null,
      "layout": "IPY_MODEL_d3a9c818c6054b5aa3586a5a38bf8732",
      "max": 122,
      "min": 0,
      "orientation": "horizontal",
      "style": "IPY_MODEL_e01ff8bf8ce04dc58eab9fd4c88b0d9a",
      "value": 122
     }
    },
    "e9ad6eafa4fc4d25a1e67f06fe0f7eb4": {
     "model_module": "@jupyter-widgets/controls",
     "model_module_version": "1.5.0",
     "model_name": "DescriptionStyleModel",
     "state": {
      "_model_module": "@jupyter-widgets/controls",
      "_model_module_version": "1.5.0",
      "_model_name": "DescriptionStyleModel",
      "_view_count": null,
      "_view_module": "@jupyter-widgets/base",
      "_view_module_version": "1.2.0",
      "_view_name": "StyleView",
      "description_width": ""
     }
    },
    "ea85df200ca74294becebe10a2a11bcc": {
     "model_module": "@jupyter-widgets/controls",
     "model_module_version": "1.5.0",
     "model_name": "FloatProgressModel",
     "state": {
      "_dom_classes": [],
      "_model_module": "@jupyter-widgets/controls",
      "_model_module_version": "1.5.0",
      "_model_name": "FloatProgressModel",
      "_view_count": null,
      "_view_module": "@jupyter-widgets/controls",
      "_view_module_version": "1.5.0",
      "_view_name": "ProgressView",
      "bar_style": "success",
      "description": "",
      "description_tooltip": null,
      "layout": "IPY_MODEL_626b1132a8f240b9ba359878c77008d2",
      "max": 190,
      "min": 0,
      "orientation": "horizontal",
      "style": "IPY_MODEL_ddd7ba428aba4c009d0802b450684e75",
      "value": 190
     }
    },
    "f0b4b2c0f8424020987a4ecaa90d2703": {
     "model_module": "@jupyter-widgets/base",
     "model_module_version": "1.2.0",
     "model_name": "LayoutModel",
     "state": {
      "_model_module": "@jupyter-widgets/base",
      "_model_module_version": "1.2.0",
      "_model_name": "LayoutModel",
      "_view_count": null,
      "_view_module": "@jupyter-widgets/base",
      "_view_module_version": "1.2.0",
      "_view_name": "LayoutView",
      "align_content": null,
      "align_items": null,
      "align_self": null,
      "border": null,
      "bottom": null,
      "display": null,
      "flex": null,
      "flex_flow": null,
      "grid_area": null,
      "grid_auto_columns": null,
      "grid_auto_flow": null,
      "grid_auto_rows": null,
      "grid_column": null,
      "grid_gap": null,
      "grid_row": null,
      "grid_template_areas": null,
      "grid_template_columns": null,
      "grid_template_rows": null,
      "height": null,
      "justify_content": null,
      "justify_items": null,
      "left": null,
      "margin": null,
      "max_height": null,
      "max_width": null,
      "min_height": null,
      "min_width": null,
      "object_fit": null,
      "object_position": null,
      "order": null,
      "overflow": null,
      "overflow_x": null,
      "overflow_y": null,
      "padding": null,
      "right": null,
      "top": null,
      "visibility": null,
      "width": null
     }
    },
    "f27c85f8f9854d6db62735f280b05563": {
     "model_module": "@jupyter-widgets/controls",
     "model_module_version": "1.5.0",
     "model_name": "DescriptionStyleModel",
     "state": {
      "_model_module": "@jupyter-widgets/controls",
      "_model_module_version": "1.5.0",
      "_model_name": "DescriptionStyleModel",
      "_view_count": null,
      "_view_module": "@jupyter-widgets/base",
      "_view_module_version": "1.2.0",
      "_view_name": "StyleView",
      "description_width": ""
     }
    },
    "f5c54bfe607a4d789ac0e2abc3c655d7": {
     "model_module": "@jupyter-widgets/controls",
     "model_module_version": "1.5.0",
     "model_name": "HTMLModel",
     "state": {
      "_dom_classes": [],
      "_model_module": "@jupyter-widgets/controls",
      "_model_module_version": "1.5.0",
      "_model_name": "HTMLModel",
      "_view_count": null,
      "_view_module": "@jupyter-widgets/controls",
      "_view_module_version": "1.5.0",
      "_view_name": "HTMLView",
      "description": "",
      "description_tooltip": null,
      "layout": "IPY_MODEL_c025197819ec46eb9aac56d8e68320e0",
      "placeholder": "​",
      "style": "IPY_MODEL_7f5bc165dea74f76b3d853cb34178e15",
      "value": "Downloading: 100%"
     }
    },
    "f6d71695ca0e4b948b6ccecaf435f5fd": {
     "model_module": "@jupyter-widgets/controls",
     "model_module_version": "1.5.0",
     "model_name": "HBoxModel",
     "state": {
      "_dom_classes": [],
      "_model_module": "@jupyter-widgets/controls",
      "_model_module_version": "1.5.0",
      "_model_name": "HBoxModel",
      "_view_count": null,
      "_view_module": "@jupyter-widgets/controls",
      "_view_module_version": "1.5.0",
      "_view_name": "HBoxView",
      "box_style": "",
      "children": [
       "IPY_MODEL_0daacf716c6c4178ace1b8d1c8ca404d",
       "IPY_MODEL_1b4ff079a5124d2a980d5d063792e33f",
       "IPY_MODEL_6ea1816c9e194798b1d9d9ac99661393"
      ],
      "layout": "IPY_MODEL_b7b2339bce9e4457883fefecc89e5445"
     }
    },
    "fa676889299d4c76bc41d1b7a6cc5167": {
     "model_module": "@jupyter-widgets/controls",
     "model_module_version": "1.5.0",
     "model_name": "FloatProgressModel",
     "state": {
      "_dom_classes": [],
      "_model_module": "@jupyter-widgets/controls",
      "_model_module_version": "1.5.0",
      "_model_name": "FloatProgressModel",
      "_view_count": null,
      "_view_module": "@jupyter-widgets/controls",
      "_view_module_version": "1.5.0",
      "_view_name": "ProgressView",
      "bar_style": "success",
      "description": "",
      "description_tooltip": null,
      "layout": "IPY_MODEL_e5c52c46ace64959920acf39700e4894",
      "max": 625,
      "min": 0,
      "orientation": "horizontal",
      "style": "IPY_MODEL_889b3d3dd5384c4fa1756194a57e1f91",
      "value": 625
     }
    },
    "fcbbe71ba4ce4ef89df19f2be8aa4c54": {
     "model_module": "@jupyter-widgets/base",
     "model_module_version": "1.2.0",
     "model_name": "LayoutModel",
     "state": {
      "_model_module": "@jupyter-widgets/base",
      "_model_module_version": "1.2.0",
      "_model_name": "LayoutModel",
      "_view_count": null,
      "_view_module": "@jupyter-widgets/base",
      "_view_module_version": "1.2.0",
      "_view_name": "LayoutView",
      "align_content": null,
      "align_items": null,
      "align_self": null,
      "border": null,
      "bottom": null,
      "display": null,
      "flex": null,
      "flex_flow": null,
      "grid_area": null,
      "grid_auto_columns": null,
      "grid_auto_flow": null,
      "grid_auto_rows": null,
      "grid_column": null,
      "grid_gap": null,
      "grid_row": null,
      "grid_template_areas": null,
      "grid_template_columns": null,
      "grid_template_rows": null,
      "height": null,
      "justify_content": null,
      "justify_items": null,
      "left": null,
      "margin": null,
      "max_height": null,
      "max_width": null,
      "min_height": null,
      "min_width": null,
      "object_fit": null,
      "object_position": null,
      "order": null,
      "overflow": null,
      "overflow_x": null,
      "overflow_y": null,
      "padding": null,
      "right": null,
      "top": null,
      "visibility": null,
      "width": null
     }
    }
   }
  }
 },
 "nbformat": 4,
 "nbformat_minor": 1
}
