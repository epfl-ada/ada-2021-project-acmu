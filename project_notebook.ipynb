{
 "cells": [
  {
   "cell_type": "markdown",
   "metadata": {
    "id": "8FOHM0OXeAm7"
   },
   "source": [
    "# Initial Analysis for Political Parties' Interests"
   ]
  },
  {
   "cell_type": "markdown",
   "metadata": {
    "id": "oA_fe4oxWT6p"
   },
   "source": [
    "## Mounting the Google Drive\n",
    "The Quotebank data is stored on Google Drive."
   ]
  },
  {
   "cell_type": "code",
   "execution_count": 1,
   "metadata": {
    "colab": {
     "base_uri": "https://localhost:8080/"
    },
    "id": "CEcIlRwfWY4C",
    "outputId": "a40ab052-f2a8-4f1d-e456-a5c0530be11b"
   },
   "outputs": [
    {
     "name": "stdout",
     "output_type": "stream",
     "text": [
      "Mounted at /content/drive\n"
     ]
    }
   ],
   "source": [
    "from google.colab import drive\n",
    "drive.mount('/content/drive')"
   ]
  },
  {
   "cell_type": "markdown",
   "metadata": {
    "id": "c_Dmorxcf7Am"
   },
   "source": [
    "## Installs"
   ]
  },
  {
   "cell_type": "code",
   "execution_count": 1,
   "metadata": {
    "colab": {
     "base_uri": "https://localhost:8080/"
    },
    "id": "hf5YsV90f6Xu",
    "outputId": "e5a84fe8-71ff-439f-98f3-1cbf044353c8"
   },
   "outputs": [
    {
     "name": "stdout",
     "output_type": "stream",
     "text": [
      "Requirement already satisfied: pip in /home/albion/.local/lib/python3.8/site-packages (21.3.1)\n",
      "Collecting pytrends\n",
      "  Downloading pytrends-4.7.3-py3-none-any.whl (14 kB)\n",
      "Requirement already satisfied: pandas>=0.25 in /home/albion/.local/lib/python3.8/site-packages (from pytrends) (1.3.3)\n",
      "Requirement already satisfied: lxml in /home/albion/anaconda3/lib/python3.8/site-packages (from pytrends) (4.6.3)\n",
      "Requirement already satisfied: requests in /home/albion/.local/lib/python3.8/site-packages (from pytrends) (2.26.0)\n",
      "Requirement already satisfied: python-dateutil>=2.7.3 in /home/albion/anaconda3/lib/python3.8/site-packages (from pandas>=0.25->pytrends) (2.8.1)\n",
      "Requirement already satisfied: pytz>=2017.3 in /home/albion/anaconda3/lib/python3.8/site-packages (from pandas>=0.25->pytrends) (2021.1)\n",
      "Requirement already satisfied: numpy>=1.17.3 in /home/albion/.local/lib/python3.8/site-packages (from pandas>=0.25->pytrends) (1.21.3)\n",
      "Requirement already satisfied: urllib3<1.27,>=1.21.1 in /home/albion/anaconda3/lib/python3.8/site-packages (from requests->pytrends) (1.26.4)\n",
      "Requirement already satisfied: charset-normalizer~=2.0.0 in /home/albion/.local/lib/python3.8/site-packages (from requests->pytrends) (2.0.6)\n",
      "Requirement already satisfied: certifi>=2017.4.17 in /home/albion/anaconda3/lib/python3.8/site-packages (from requests->pytrends) (2020.12.5)\n",
      "Requirement already satisfied: idna<4,>=2.5 in /home/albion/anaconda3/lib/python3.8/site-packages (from requests->pytrends) (2.10)\n",
      "Requirement already satisfied: six>=1.5 in /home/albion/.local/lib/python3.8/site-packages (from python-dateutil>=2.7.3->pandas>=0.25->pytrends) (1.15.0)\n",
      "Installing collected packages: pytrends\n",
      "Successfully installed pytrends-4.7.3\n",
      "Requirement already satisfied: nltk in /home/albion/.local/lib/python3.8/site-packages (3.6.3)\n",
      "Requirement already satisfied: tqdm in /home/albion/.local/lib/python3.8/site-packages (from nltk) (4.62.3)\n",
      "Requirement already satisfied: click in /home/albion/anaconda3/lib/python3.8/site-packages (from nltk) (7.1.2)\n",
      "Requirement already satisfied: joblib in /home/albion/.local/lib/python3.8/site-packages (from nltk) (1.0.1)\n",
      "Requirement already satisfied: regex in /home/albion/.local/lib/python3.8/site-packages (from nltk) (2021.9.30)\n",
      "Collecting tld\n",
      "  Downloading tld-0.12.6-py38-none-any.whl (412 kB)\n",
      "     |████████████████████████████████| 412 kB 2.2 MB/s            \n",
      "\u001b[?25hInstalling collected packages: tld\n",
      "Successfully installed tld-0.12.6\n",
      "Collecting pyarrow\n",
      "  Downloading pyarrow-6.0.0-cp38-cp38-manylinux_2_17_x86_64.manylinux2014_x86_64.whl (25.6 MB)\n",
      "     |████████████████████████████████| 25.6 MB 3.4 MB/s            \n",
      "\u001b[?25hRequirement already satisfied: numpy>=1.16.6 in /home/albion/.local/lib/python3.8/site-packages (from pyarrow) (1.21.3)\n",
      "Installing collected packages: pyarrow\n",
      "Successfully installed pyarrow-6.0.0\n",
      "Collecting qwikidata\n",
      "  Downloading qwikidata-0.4.0-py3-none-any.whl (20 kB)\n",
      "Requirement already satisfied: requests in /home/albion/.local/lib/python3.8/site-packages (from qwikidata) (2.26.0)\n",
      "Requirement already satisfied: mypy-extensions in /home/albion/anaconda3/lib/python3.8/site-packages (from qwikidata) (0.4.3)\n",
      "Requirement already satisfied: urllib3<1.27,>=1.21.1 in /home/albion/anaconda3/lib/python3.8/site-packages (from requests->qwikidata) (1.26.4)\n",
      "Requirement already satisfied: idna<4,>=2.5 in /home/albion/anaconda3/lib/python3.8/site-packages (from requests->qwikidata) (2.10)\n",
      "Requirement already satisfied: charset-normalizer~=2.0.0 in /home/albion/.local/lib/python3.8/site-packages (from requests->qwikidata) (2.0.6)\n",
      "Requirement already satisfied: certifi>=2017.4.17 in /home/albion/anaconda3/lib/python3.8/site-packages (from requests->qwikidata) (2020.12.5)\n",
      "Installing collected packages: qwikidata\n",
      "Successfully installed qwikidata-0.4.0\n",
      "Collecting sentence-transformers\n",
      "  Downloading sentence-transformers-2.1.0.tar.gz (78 kB)\n",
      "     |████████████████████████████████| 78 kB 2.3 MB/s             \n",
      "\u001b[?25h  Preparing metadata (setup.py) ... \u001b[?25ldone\n",
      "\u001b[?25hCollecting transformers<5.0.0,>=4.6.0\n",
      "  Downloading transformers-4.12.3-py3-none-any.whl (3.1 MB)\n",
      "     |████████████████████████████████| 3.1 MB 5.1 MB/s            \n",
      "\u001b[?25hCollecting tokenizers>=0.10.3\n",
      "  Downloading tokenizers-0.10.3-cp38-cp38-manylinux_2_5_x86_64.manylinux1_x86_64.manylinux_2_12_x86_64.manylinux2010_x86_64.whl (3.3 MB)\n",
      "     |████████████████████████████████| 3.3 MB 11.3 MB/s            \n",
      "\u001b[?25hRequirement already satisfied: tqdm in /home/albion/.local/lib/python3.8/site-packages (from sentence-transformers) (4.62.3)\n",
      "Requirement already satisfied: torch>=1.6.0 in /home/albion/.local/lib/python3.8/site-packages (from sentence-transformers) (1.7.0)\n",
      "Requirement already satisfied: torchvision in /home/albion/.local/lib/python3.8/site-packages (from sentence-transformers) (0.8.2)\n",
      "Requirement already satisfied: numpy in /home/albion/.local/lib/python3.8/site-packages (from sentence-transformers) (1.21.3)\n",
      "Requirement already satisfied: scikit-learn in /home/albion/.local/lib/python3.8/site-packages (from sentence-transformers) (0.22.2.post1)\n",
      "Requirement already satisfied: scipy in /home/albion/.local/lib/python3.8/site-packages (from sentence-transformers) (1.7.1)\n",
      "Requirement already satisfied: nltk in /home/albion/.local/lib/python3.8/site-packages (from sentence-transformers) (3.6.3)\n",
      "Collecting sentencepiece\n",
      "  Downloading sentencepiece-0.1.96-cp38-cp38-manylinux_2_17_x86_64.manylinux2014_x86_64.whl (1.2 MB)\n",
      "     |████████████████████████████████| 1.2 MB 12.2 MB/s            \n",
      "\u001b[?25hCollecting huggingface-hub\n",
      "  Downloading huggingface_hub-0.1.2-py3-none-any.whl (59 kB)\n",
      "     |████████████████████████████████| 59 kB 7.2 MB/s             \n",
      "\u001b[?25hRequirement already satisfied: future in /home/albion/anaconda3/lib/python3.8/site-packages (from torch>=1.6.0->sentence-transformers) (0.18.2)\n",
      "Requirement already satisfied: typing-extensions in /home/albion/.local/lib/python3.8/site-packages (from torch>=1.6.0->sentence-transformers) (3.7.4.3)\n",
      "Requirement already satisfied: dataclasses in /home/albion/.local/lib/python3.8/site-packages (from torch>=1.6.0->sentence-transformers) (0.6)\n",
      "Requirement already satisfied: regex!=2019.12.17 in /home/albion/.local/lib/python3.8/site-packages (from transformers<5.0.0,>=4.6.0->sentence-transformers) (2021.9.30)\n",
      "Requirement already satisfied: filelock in /home/albion/.local/lib/python3.8/site-packages (from transformers<5.0.0,>=4.6.0->sentence-transformers) (3.0.12)\n",
      "Requirement already satisfied: pyyaml>=5.1 in /home/albion/anaconda3/lib/python3.8/site-packages (from transformers<5.0.0,>=4.6.0->sentence-transformers) (5.4.1)\n",
      "Requirement already satisfied: packaging>=20.0 in /home/albion/.local/lib/python3.8/site-packages (from transformers<5.0.0,>=4.6.0->sentence-transformers) (20.8)\n",
      "Collecting sacremoses\n",
      "  Downloading sacremoses-0.0.46-py3-none-any.whl (895 kB)\n",
      "     |████████████████████████████████| 895 kB 2.3 MB/s            \n",
      "\u001b[?25hRequirement already satisfied: requests in /home/albion/.local/lib/python3.8/site-packages (from transformers<5.0.0,>=4.6.0->sentence-transformers) (2.26.0)\n",
      "Collecting packaging>=20.0\n",
      "  Downloading packaging-21.2-py3-none-any.whl (40 kB)\n",
      "     |████████████████████████████████| 40 kB 7.3 MB/s             \n",
      "\u001b[?25hRequirement already satisfied: click in /home/albion/anaconda3/lib/python3.8/site-packages (from nltk->sentence-transformers) (7.1.2)\n",
      "Requirement already satisfied: joblib in /home/albion/.local/lib/python3.8/site-packages (from nltk->sentence-transformers) (1.0.1)\n",
      "Collecting torch>=1.6.0\n",
      "  Using cached torch-1.7.1-cp38-cp38-manylinux1_x86_64.whl (776.8 MB)\n",
      "Requirement already satisfied: pillow>=4.1.1 in /home/albion/anaconda3/lib/python3.8/site-packages (from torchvision->sentence-transformers) (8.2.0)\n",
      "Requirement already satisfied: pyparsing<3,>=2.0.2 in /home/albion/.local/lib/python3.8/site-packages (from packaging>=20.0->transformers<5.0.0,>=4.6.0->sentence-transformers) (2.4.7)\n",
      "Requirement already satisfied: charset-normalizer~=2.0.0 in /home/albion/.local/lib/python3.8/site-packages (from requests->transformers<5.0.0,>=4.6.0->sentence-transformers) (2.0.6)\n",
      "Requirement already satisfied: certifi>=2017.4.17 in /home/albion/anaconda3/lib/python3.8/site-packages (from requests->transformers<5.0.0,>=4.6.0->sentence-transformers) (2020.12.5)\n",
      "Requirement already satisfied: urllib3<1.27,>=1.21.1 in /home/albion/anaconda3/lib/python3.8/site-packages (from requests->transformers<5.0.0,>=4.6.0->sentence-transformers) (1.26.4)\n",
      "Requirement already satisfied: idna<4,>=2.5 in /home/albion/anaconda3/lib/python3.8/site-packages (from requests->transformers<5.0.0,>=4.6.0->sentence-transformers) (2.10)\n",
      "Requirement already satisfied: six in /home/albion/.local/lib/python3.8/site-packages (from sacremoses->transformers<5.0.0,>=4.6.0->sentence-transformers) (1.15.0)\n",
      "Building wheels for collected packages: sentence-transformers\n",
      "  Building wheel for sentence-transformers (setup.py) ... \u001b[?25ldone\n",
      "\u001b[?25h  Created wheel for sentence-transformers: filename=sentence_transformers-2.1.0-py3-none-any.whl size=120999 sha256=6df564504ca81127f7e338ec1d40d8fcdfa8a2acebbde53052e386985570b7b8\n",
      "  Stored in directory: /home/albion/.cache/pip/wheels/52/19/88/6625593382e23a926740e6fcee0f2df0a0de25766094842a28\n",
      "Successfully built sentence-transformers\n",
      "Installing collected packages: packaging, torch, tokenizers, sacremoses, huggingface-hub, transformers, sentencepiece, sentence-transformers\n",
      "  Attempting uninstall: packaging\n",
      "    Found existing installation: packaging 20.8\n",
      "    Uninstalling packaging-20.8:\n",
      "      Successfully uninstalled packaging-20.8\n",
      "  Attempting uninstall: torch\n",
      "    Found existing installation: torch 1.7.0\n",
      "    Uninstalling torch-1.7.0:\n",
      "      Successfully uninstalled torch-1.7.0\n",
      "\u001b[31mERROR: pip's dependency resolver does not currently take into account all the packages that are installed. This behaviour is the source of the following dependency conflicts.\n",
      "sphinx 4.0.1 requires MarkupSafe<2.0, but you have markupsafe 2.0.1 which is incompatible.\u001b[0m\n",
      "Successfully installed huggingface-hub-0.1.2 packaging-21.2 sacremoses-0.0.46 sentence-transformers-2.1.0 sentencepiece-0.1.96 tokenizers-0.10.3 torch-1.7.1 transformers-4.12.3\n",
      "Requirement already satisfied: transformers in /home/albion/anaconda3/lib/python3.8/site-packages (4.12.3)\n",
      "Requirement already satisfied: filelock in /home/albion/.local/lib/python3.8/site-packages (from transformers) (3.0.12)\n",
      "Requirement already satisfied: sacremoses in /home/albion/anaconda3/lib/python3.8/site-packages (from transformers) (0.0.46)\n",
      "Requirement already satisfied: regex!=2019.12.17 in /home/albion/.local/lib/python3.8/site-packages (from transformers) (2021.9.30)\n",
      "Requirement already satisfied: pyyaml>=5.1 in /home/albion/anaconda3/lib/python3.8/site-packages (from transformers) (5.4.1)\n",
      "Requirement already satisfied: requests in /home/albion/.local/lib/python3.8/site-packages (from transformers) (2.26.0)\n",
      "Requirement already satisfied: tokenizers<0.11,>=0.10.1 in /home/albion/anaconda3/lib/python3.8/site-packages (from transformers) (0.10.3)\n",
      "Requirement already satisfied: packaging>=20.0 in /home/albion/anaconda3/lib/python3.8/site-packages (from transformers) (21.2)\n",
      "Requirement already satisfied: tqdm>=4.27 in /home/albion/.local/lib/python3.8/site-packages (from transformers) (4.62.3)\n",
      "Requirement already satisfied: huggingface-hub<1.0,>=0.1.0 in /home/albion/anaconda3/lib/python3.8/site-packages (from transformers) (0.1.2)\n",
      "Requirement already satisfied: numpy>=1.17 in /home/albion/.local/lib/python3.8/site-packages (from transformers) (1.21.3)\n",
      "Requirement already satisfied: typing-extensions>=3.7.4.3 in /home/albion/.local/lib/python3.8/site-packages (from huggingface-hub<1.0,>=0.1.0->transformers) (3.7.4.3)\n",
      "Requirement already satisfied: pyparsing<3,>=2.0.2 in /home/albion/.local/lib/python3.8/site-packages (from packaging>=20.0->transformers) (2.4.7)\n",
      "Requirement already satisfied: certifi>=2017.4.17 in /home/albion/anaconda3/lib/python3.8/site-packages (from requests->transformers) (2020.12.5)\n",
      "Requirement already satisfied: idna<4,>=2.5 in /home/albion/anaconda3/lib/python3.8/site-packages (from requests->transformers) (2.10)\n",
      "Requirement already satisfied: urllib3<1.27,>=1.21.1 in /home/albion/anaconda3/lib/python3.8/site-packages (from requests->transformers) (1.26.4)\n",
      "Requirement already satisfied: charset-normalizer~=2.0.0 in /home/albion/.local/lib/python3.8/site-packages (from requests->transformers) (2.0.6)\n",
      "Requirement already satisfied: click in /home/albion/anaconda3/lib/python3.8/site-packages (from sacremoses->transformers) (7.1.2)\n",
      "Requirement already satisfied: six in /home/albion/.local/lib/python3.8/site-packages (from sacremoses->transformers) (1.15.0)\n",
      "Requirement already satisfied: joblib in /home/albion/.local/lib/python3.8/site-packages (from sacremoses->transformers) (1.0.1)\n",
      "Collecting umap-learn\n",
      "  Downloading umap-learn-0.5.2.tar.gz (86 kB)\n",
      "     |████████████████████████████████| 86 kB 2.3 MB/s            \n",
      "\u001b[?25h  Preparing metadata (setup.py) ... \u001b[?25ldone\n",
      "\u001b[?25hRequirement already satisfied: numpy>=1.17 in /home/albion/.local/lib/python3.8/site-packages (from umap-learn) (1.21.3)\n",
      "Requirement already satisfied: scikit-learn>=0.22 in /home/albion/.local/lib/python3.8/site-packages (from umap-learn) (0.22.2.post1)\n",
      "Requirement already satisfied: scipy>=1.0 in /home/albion/.local/lib/python3.8/site-packages (from umap-learn) (1.7.1)\n",
      "Requirement already satisfied: numba>=0.49 in /home/albion/.local/lib/python3.8/site-packages (from umap-learn) (0.54.1)\n",
      "Collecting pynndescent>=0.5\n",
      "  Downloading pynndescent-0.5.5.tar.gz (1.1 MB)\n",
      "     |████████████████████████████████| 1.1 MB 6.7 MB/s            \n",
      "\u001b[?25h  Preparing metadata (setup.py) ... \u001b[?25ldone\n",
      "\u001b[?25hRequirement already satisfied: tqdm in /home/albion/.local/lib/python3.8/site-packages (from umap-learn) (4.62.3)\n",
      "Requirement already satisfied: setuptools in /home/albion/.local/lib/python3.8/site-packages (from numba>=0.49->umap-learn) (54.2.0)\n",
      "Collecting numpy>=1.17\n",
      "  Downloading numpy-1.20.3-cp38-cp38-manylinux_2_12_x86_64.manylinux2010_x86_64.whl (15.4 MB)\n",
      "     |████████████████████████████████| 15.4 MB 12.7 MB/s            \n",
      "\u001b[?25hRequirement already satisfied: llvmlite<0.38,>=0.37.0rc1 in /home/albion/.local/lib/python3.8/site-packages (from numba>=0.49->umap-learn) (0.37.0)\n",
      "Requirement already satisfied: joblib>=0.11 in /home/albion/.local/lib/python3.8/site-packages (from pynndescent>=0.5->umap-learn) (1.0.1)\n",
      "Building wheels for collected packages: umap-learn, pynndescent\n",
      "  Building wheel for umap-learn (setup.py) ... \u001b[?25ldone\n",
      "\u001b[?25h  Created wheel for umap-learn: filename=umap_learn-0.5.2-py3-none-any.whl size=82696 sha256=5f85c23a9cc502aaa06a00fb1ba64e1b9378264606a6aa7a81b73a1e86bba211\n",
      "  Stored in directory: /home/albion/.cache/pip/wheels/f2/64/75/df601da9514261c8cb0830b9515d2b94b5a51f09ddeae92b9e\n",
      "  Building wheel for pynndescent (setup.py) ... \u001b[?25ldone\n",
      "\u001b[?25h  Created wheel for pynndescent: filename=pynndescent-0.5.5-py3-none-any.whl size=52587 sha256=7ab81ff528ff64b62fac60b46240f226fabb26993e187e356afc38390055cf86\n",
      "  Stored in directory: /home/albion/.cache/pip/wheels/e4/0e/b5/07c0c231aacb04e5d1046fe7459bb27ea79f95b5edbe88e435\n",
      "Successfully built umap-learn pynndescent\n",
      "Installing collected packages: numpy, pynndescent, umap-learn\n",
      "  Attempting uninstall: numpy\n",
      "    Found existing installation: numpy 1.21.3\n",
      "    Uninstalling numpy-1.21.3:\n",
      "      Successfully uninstalled numpy-1.21.3\n",
      "\u001b[31mERROR: pip's dependency resolver does not currently take into account all the packages that are installed. This behaviour is the source of the following dependency conflicts.\n",
      "tensorflow 2.4.1 requires numpy~=1.19.2, but you have numpy 1.20.3 which is incompatible.\n",
      "pandas-profiling 3.1.0 requires seaborn>=0.10.1, but you have seaborn 0.9.0 which is incompatible.\u001b[0m\n",
      "Successfully installed numpy-1.21.3 pynndescent-0.5.5 umap-learn-0.5.2\n",
      "Collecting hdbscan\n",
      "  Downloading hdbscan-0.8.27.tar.gz (6.4 MB)\n",
      "     |████████████████████████████████| 6.4 MB 3.8 MB/s            \n",
      "\u001b[?25h  Installing build dependencies ... \u001b[?25ldone\n",
      "\u001b[?25h  Getting requirements to build wheel ... \u001b[?25ldone\n",
      "\u001b[?25h  Preparing metadata (pyproject.toml) ... \u001b[?25ldone\n",
      "\u001b[?25hRequirement already satisfied: cython>=0.27 in /home/albion/anaconda3/lib/python3.8/site-packages (from hdbscan) (0.29.23)\n",
      "Requirement already satisfied: joblib>=1.0 in /home/albion/.local/lib/python3.8/site-packages (from hdbscan) (1.0.1)\n",
      "Requirement already satisfied: numpy>=1.16 in /home/albion/anaconda3/lib/python3.8/site-packages (from hdbscan) (1.21.3)\n",
      "Requirement already satisfied: scipy>=1.0 in /home/albion/.local/lib/python3.8/site-packages (from hdbscan) (1.7.1)\n",
      "Requirement already satisfied: six in /home/albion/.local/lib/python3.8/site-packages (from hdbscan) (1.15.0)\n",
      "Requirement already satisfied: scikit-learn>=0.20 in /home/albion/.local/lib/python3.8/site-packages (from hdbscan) (0.22.2.post1)\n",
      "Building wheels for collected packages: hdbscan\n",
      "  Building wheel for hdbscan (pyproject.toml) ... \u001b[?25ldone\n",
      "\u001b[?25h  Created wheel for hdbscan: filename=hdbscan-0.8.27-cp38-cp38-linux_x86_64.whl size=3858173 sha256=8550b6862f376fbb2818d9ebbb289d7e5c4ca27a640ba3147f02162cac573471\n",
      "  Stored in directory: /home/albion/.cache/pip/wheels/26/f2/c2/eab587fff76dc9ffc9a9bf3ca0e44e26d2ef6425264492df65\n",
      "Successfully built hdbscan\n",
      "Installing collected packages: hdbscan\n",
      "Successfully installed hdbscan-0.8.27\n",
      "Requirement already satisfied: tqdm in /home/albion/.local/lib/python3.8/site-packages (4.62.3)\n"
     ]
    }
   ],
   "source": [
    "!python -m pip install --upgrade pip\n",
    "!pip install pytrends\n",
    "!pip install nltk\n",
    "!pip install tld\n",
    "!pip install pyarrow\n",
    "!pip install qwikidata\n",
    "!pip install sentence-transformers\n",
    "!pip install transformers\n",
    "!pip install umap-learn\n",
    "!pip install hdbscan\n",
    "!pip install tqdm"
   ]
  },
  {
   "cell_type": "markdown",
   "metadata": {
    "id": "LDxR5xYQBbE4"
   },
   "source": [
    "## Imports"
   ]
  },
  {
   "cell_type": "code",
   "execution_count": 1,
   "metadata": {
    "id": "GL8NAnbFBez4"
   },
   "outputs": [],
   "source": [
    "import bz2\n",
    "import json\n",
    "import umap\n",
    "import hdbscan\n",
    "import nltk\n",
    "import ast\n",
    "import torch\n",
    "import pyarrow\n",
    "import pprint\n",
    "import os.path\n",
    "import pandas as pd\n",
    "import numpy as np\n",
    "import seaborn as sns\n",
    "import matplotlib.pyplot as plt\n",
    "import torch.nn.functional as f\n",
    "from tqdm import tqdm\n",
    "from tld import get_tld\n",
    "from itertools import chain\n",
    "from datetime import datetime\n",
    "from pytrends import dailydata\n",
    "from collections import Counter\n",
    "from scipy.stats import pearsonr\n",
    "from nltk.corpus import stopwords\n",
    "from collections import defaultdict\n",
    "from pytrends.request import TrendReq\n",
    "from nltk.cluster import KMeansClusterer\n",
    "from sentence_transformers import SentenceTransformer\n",
    "from transformers import BertModel, BertTokenizer\n",
    "from sklearn.preprocessing import StandardScaler, normalize\n",
    "from qwikidata.entity import WikidataItem, WikidataLexeme, WikidataProperty\n",
    "from qwikidata.linked_data_interface import get_entity_dict_from_api"
   ]
  },
  {
   "cell_type": "markdown",
   "metadata": {
    "id": "KUt1rItUBfnI"
   },
   "source": [
    "## Constants"
   ]
  },
  {
   "cell_type": "code",
   "execution_count": 2,
   "metadata": {
    "id": "ejXdQWRrBg8g"
   },
   "outputs": [],
   "source": [
    "# Whether to create a parsed file from the Quotebank dataset.\n",
    "PARSE_QUOTEBANK = True\n",
    "\n",
    "# Colorblind-friendly color palette.\n",
    "COLORS = ['#377EB8', '#FF7F00', '#4DAF4A', '#F781BF']\n",
    "\n",
    "# DATA_DIR (root data dir)\n",
    "DATA_DIR = './'\n",
    "# DATA_DIR = '/content/drive/MyDrive/'\n",
    "\n",
    "# A mapping between a year and the file that contains the input of that year.\n",
    "QUOTES_BY_YEAR = {year: f\"{DATA_DIR}politicians-quotes-{year}.json.bz2\" for year in range(2015, 2021)}\n",
    "\n",
    "# A mapping between a party and quotes of its members\n",
    "WIKIDATA_POLITICIANS_PATH = f\"{DATA_DIR}wikidata_politicians.csv\"\n",
    "\n",
    "# Path to parquet file used for Wikidata information\n",
    "WIKIDATA_PATH = f\"{DATA_DIR}Quotebank_Wikidata/speaker_attributes.parquet\"\n",
    "\n",
    "# Path to file with mapping between q-codes and labels\n",
    "WIKIDATA_LABELS_PATH = f\"{DATA_DIR}Quotebank_Wikidata/wikidata_labels_descriptions_quotebank.csv.bz2\"\n",
    "\n",
    "# Wikidata columns that are represented by q codes\n",
    "WIKIDATA_QCODES_COL = ['occupation', 'party']\n",
    "\n",
    "# The name of the single-value general stats\n",
    "VALUE_STATS = {'nan_speakers', 'nan_percentage', 'avg_quote_len', 'num_quotes'}\n",
    "\n",
    "# The name of the counter general stats\n",
    "COUNTER_STATS = {'quotes_by_date', 'qids_count'}\n",
    "\n",
    "# The year for which the data will be analyzed\n",
    "YEAR = 2018"
   ]
  },
  {
   "cell_type": "markdown",
   "metadata": {
    "id": "sCm34P0FgHZi"
   },
   "source": [
    "## Setup"
   ]
  },
  {
   "cell_type": "code",
   "execution_count": 3,
   "metadata": {
    "colab": {
     "base_uri": "https://localhost:8080/"
    },
    "id": "YlA_werTgHPU",
    "outputId": "09be1564-cdfd-4026-ebd3-4c6c38537ae8"
   },
   "outputs": [
    {
     "name": "stderr",
     "output_type": "stream",
     "text": [
      "[nltk_data] Downloading package stopwords to /home/albion/nltk_data...\n",
      "[nltk_data]   Package stopwords is already up-to-date!\n",
      "[nltk_data] Downloading package punkt to /home/albion/nltk_data...\n",
      "[nltk_data]   Package punkt is already up-to-date!\n",
      "[nltk_data] Downloading package averaged_perceptron_tagger to\n",
      "[nltk_data]     /home/albion/nltk_data...\n",
      "[nltk_data]   Package averaged_perceptron_tagger is already up-to-\n",
      "[nltk_data]       date!\n"
     ]
    }
   ],
   "source": [
    "# Connect to Google trends API\n",
    "pytrend = TrendReq()\n",
    "# NLTK setup\n",
    "nltk.download('stopwords')\n",
    "nltk.download('punkt')\n",
    "nltk.download('averaged_perceptron_tagger')\n",
    "tqdm.pandas()"
   ]
  },
  {
   "cell_type": "markdown",
   "metadata": {
    "id": "pTGtp0hqkd3_"
   },
   "source": [
    "## General Quotebank Analysis"
   ]
  },
  {
   "cell_type": "code",
   "execution_count": null,
   "metadata": {
    "id": "YczcOet6kd3_"
   },
   "outputs": [],
   "source": [
    "def describe_chunks(df_reader):\n",
    "    \"\"\"\n",
    "    Compute general statistics about the dataset.\n",
    "    \"\"\"\n",
    "    # Initialize single-value stats\n",
    "    stats = {stat: 0 for stat in VALUE_STATS}\n",
    "    # Initialize counter stats\n",
    "    stats = {**stats, **{stat: Counter() for stat in COUNTER_STATS}}\n",
    "    for chunk in df_reader:\n",
    "        # Compute stats per chunk\n",
    "        stats['nan_speakers'] += (chunk['speaker'] == 'None').sum()\n",
    "        stats['avg_quote_len'] += chunk['quotation'].str.len().sum(axis=0)\n",
    "        stats['num_quotes'] += len(chunk)\n",
    "        quotes_by_date = Counter(\n",
    "            (chunk.groupby(by=chunk[\"date\"].dt.date).count())[\"quoteID\"].T.to_dict()\n",
    "        )\n",
    "        stats['quotes_by_date'] += quotes_by_date\n",
    "        stats['qids_count'] += Counter(chain.from_iterable(chunk['qids']))\n",
    "    \n",
    "    stats['avg_quote_len'] = stats['avg_quote_len'] / stats['num_quotes']\n",
    "    stats['nan_percentage'] = stats['nan_speakers'] / stats['num_quotes']\n",
    "    return stats"
   ]
  },
  {
   "cell_type": "code",
   "execution_count": null,
   "metadata": {
    "id": "CG0g8zlEkd3_"
   },
   "outputs": [],
   "source": [
    "# Analyze data chunk by chunk\n",
    "df_reader = pd.read_json(f'quotes-{YEAR}.json.bz2', lines=True,\n",
    "                         compression='bz2', chunksize=10000)\n",
    "stats = describe_chunks(df_reader)"
   ]
  },
  {
   "cell_type": "code",
   "execution_count": null,
   "metadata": {
    "id": "eGXwwABDkd4A",
    "outputId": "27da9b3e-567d-4c98-d723-cfd58c4b73fe"
   },
   "outputs": [
    {
     "data": {
      "text/html": [
       "<style type=\"text/css\">\n",
       "</style>\n",
       "<table id=\"T_6574f_\">\n",
       "  <thead>\n",
       "    <tr>\n",
       "      <th class=\"col_heading level0 col0\" >nan_percentage</th>\n",
       "      <th class=\"col_heading level0 col1\" >nan_speakers</th>\n",
       "      <th class=\"col_heading level0 col2\" >num_quotes</th>\n",
       "      <th class=\"col_heading level0 col3\" >avg_quote_len</th>\n",
       "    </tr>\n",
       "  </thead>\n",
       "  <tbody>\n",
       "    <tr>\n",
       "      <td id=\"T_6574f_row0_col0\" class=\"data row0 col0\" >0.351031</td>\n",
       "      <td id=\"T_6574f_row0_col1\" class=\"data row0 col1\" >9558032</td>\n",
       "      <td id=\"T_6574f_row0_col2\" class=\"data row0 col2\" >27228451</td>\n",
       "      <td id=\"T_6574f_row0_col3\" class=\"data row0 col3\" >134.068001</td>\n",
       "    </tr>\n",
       "  </tbody>\n",
       "</table>\n"
      ],
      "text/plain": [
       "<pandas.io.formats.style.Styler at 0x7f3328a12d90>"
      ]
     },
     "execution_count": 123,
     "metadata": {},
     "output_type": "execute_result"
    }
   ],
   "source": [
    "# Print full data stats\n",
    "pd.DataFrame.from_dict({name: [stats[name]] for name in VALUE_STATS}).style.hide_index()"
   ]
  },
  {
   "cell_type": "code",
   "execution_count": null,
   "metadata": {
    "id": "wMZrlHgdkd4A",
    "outputId": "b9729527-4a84-4541-a3ae-13c45d8b2f93"
   },
   "outputs": [
    {
     "data": {
      "image/png": "[encoded data removed]",
      "text/plain": [
       "<Figure size 720x360 with 1 Axes>"
      ]
     },
     "metadata": {
      "needs_background": "light"
     },
     "output_type": "display_data"
    }
   ],
   "source": [
    "# Plot the number of quotes by date\n",
    "plt.figure(figsize=(10, 5))\n",
    "plt.bar((stats['quotes_by_date']).keys(),\n",
    "        stats['quotes_by_date'].values(),\n",
    "        color=COLORS[0]);\n",
    "plt.title('Number of quotes by date')\n",
    "plt.ylabel('Quotes per day')\n",
    "plt.xlabel('Date');"
   ]
  },
  {
   "cell_type": "code",
   "execution_count": null,
   "metadata": {
    "id": "Inu6xp5Lkd4A",
    "outputId": "e6910cca-33e1-4020-aeb0-7ac6f26358dd"
   },
   "outputs": [
    {
     "data": {
      "image/png": "[encoded data removed]",
      "text/plain": [
       "<Figure size 720x360 with 1 Axes>"
      ]
     },
     "metadata": {
      "needs_background": "light"
     },
     "output_type": "display_data"
    }
   ],
   "source": [
    "# Plot the number of quotes for the most common speakers\n",
    "most_common_qids = stats['qids_count'].most_common(10)\n",
    "plt.figure(figsize=(10, 5))\n",
    "plt.bar([t[0] for t in most_common_qids],\n",
    "        [t[1] for t in most_common_qids],\n",
    "        color=COLORS[0])\n",
    "plt.title(f'Number of quotes by speaker Q ID in {YEAR}')\n",
    "plt.xlabel('Speaker')\n",
    "plt.ylabel('Number of quotes');"
   ]
  },
  {
   "cell_type": "markdown",
   "metadata": {
    "id": "Q86936eGA5ZZ"
   },
   "source": [
    "## Quote Parsing"
   ]
  },
  {
   "cell_type": "markdown",
   "metadata": {
    "id": "FUw5Ks39YuIl"
   },
   "source": [
    "The Quotebank data is too large to handle in-memory in a single DataFrame. Therefore, for our initial analyses we select only the quotes from 2018 that were uttered by politicians. We detect these quotes by looking at the Q IDs of the speakers, merging them with Wikidata based on the Q ID, resolving the Q IDs of their profession and filtering those quotes that belong to politicians."
   ]
  },
  {
   "cell_type": "code",
   "execution_count": null,
   "metadata": {
    "id": "0OdPWN0HE3Wg"
   },
   "outputs": [],
   "source": [
    "# A list of politicians of interest.\n",
    "politicians = [\"Barack Obama\", \"George W. Bush\", \"Donald Trump\", \"John McCain\",\n",
    "            \"Mitt Romney\", \"Hillary Clinton\", \"Benjamin Netanyahu\",\n",
    "            \"Narendra Modi\", \"Joe Biden\", \"Theresa May\", \"Boris Johnson\"]"
   ]
  },
  {
   "cell_type": "code",
   "execution_count": null,
   "metadata": {
    "id": "IhcxNMaxA7VY"
   },
   "outputs": [],
   "source": [
    "def get_politicians_data(year):\n",
    "  \"\"\"\n",
    "  Given a year, parses the Quotebank data and creates a file containing\n",
    "  the quotes of politicians from that year.\n",
    "  \"\"\"\n",
    "  path_to_out = QUOTES_BY_YEAR[year]\n",
    "  path_to_file = f'/content/drive/MyDrive/Quotebank/quotes-{year}.json.bz2'\n",
    "  with bz2.open(path_to_file, 'rb') as s_file:\n",
    "    with bz2.open(path_to_out, 'wb') as d_file:\n",
    "      for i, instance in enumerate(s_file):\n",
    "        # Load a sample.\n",
    "        instance = json.loads(instance)\n",
    "        if (sum([politician in instance['speaker'] for politician in politicians]) > 0):\n",
    "          # Write sample to new file.\n",
    "          d_file.write((json.dumps(instance)+'\\n').encode('utf-8'))\n",
    "        print(i)"
   ]
  },
  {
   "cell_type": "code",
   "execution_count": null,
   "metadata": {
    "id": "YHpJEVHDQFjV"
   },
   "outputs": [],
   "source": [
    "# get_politicians_data(YEAR)"
   ]
  },
  {
   "cell_type": "code",
   "execution_count": null,
   "metadata": {
    "id": "LFEoxm6XSLx7"
   },
   "outputs": [],
   "source": [
    "# Store politicians data in DataFrame.\n",
    "data = pd.read_json(QUOTES_BY_YEAR[YEAR], lines=True)"
   ]
  },
  {
   "cell_type": "markdown",
   "metadata": {
    "id": "kOQ8TDgzcRN_"
   },
   "source": [
    "Below, we look at a couple of quotes that belong to Donald Trump and Barack Obama, two of our politicians of interest.\n",
    "\n"
   ]
  },
  {
   "cell_type": "code",
   "execution_count": null,
   "metadata": {
    "colab": {
     "base_uri": "https://localhost:8080/",
     "height": 371
    },
    "id": "sZUunRkQTkCS",
    "outputId": "483592ab-ff9d-4feb-8b42-00b53ae9cb2a"
   },
   "outputs": [
    {
     "data": {
      "text/html": [
       "<div>\n",
       "<style scoped>\n",
       "    .dataframe tbody tr th:only-of-type {\n",
       "        vertical-align: middle;\n",
       "    }\n",
       "\n",
       "    .dataframe tbody tr th {\n",
       "        vertical-align: top;\n",
       "    }\n",
       "\n",
       "    .dataframe thead th {\n",
       "        text-align: right;\n",
       "    }\n",
       "</style>\n",
       "<table border=\"1\" class=\"dataframe\">\n",
       "  <thead>\n",
       "    <tr style=\"text-align: right;\">\n",
       "      <th></th>\n",
       "      <th>quoteID</th>\n",
       "      <th>quotation</th>\n",
       "      <th>speaker</th>\n",
       "      <th>qids</th>\n",
       "      <th>date</th>\n",
       "      <th>numOccurrences</th>\n",
       "      <th>probas</th>\n",
       "      <th>urls</th>\n",
       "      <th>phase</th>\n",
       "    </tr>\n",
       "  </thead>\n",
       "  <tbody>\n",
       "    <tr>\n",
       "      <th>0</th>\n",
       "      <td>2018-05-08-001245</td>\n",
       "      <td>A constructive deal could easily have been str...</td>\n",
       "      <td>President Donald Trump</td>\n",
       "      <td>[Q22686]</td>\n",
       "      <td>2018-05-08 18:36:49</td>\n",
       "      <td>8</td>\n",
       "      <td>[[President Donald Trump, 0.5633], [None, 0.38...</td>\n",
       "      <td>[http://baynews9.com/fl/tampa/news/2018/05/08/...</td>\n",
       "      <td>E</td>\n",
       "    </tr>\n",
       "    <tr>\n",
       "      <th>1</th>\n",
       "      <td>2018-09-26-003692</td>\n",
       "      <td>actually admitted that they're going after far...</td>\n",
       "      <td>President Donald Trump</td>\n",
       "      <td>[Q22686]</td>\n",
       "      <td>2018-09-26 00:00:00</td>\n",
       "      <td>138</td>\n",
       "      <td>[[President Donald Trump, 0.6838], [None, 0.30...</td>\n",
       "      <td>[http://dailyherald.com/news/20180926/kavanaug...</td>\n",
       "      <td>E</td>\n",
       "    </tr>\n",
       "    <tr>\n",
       "      <th>3</th>\n",
       "      <td>2018-07-30-004176</td>\n",
       "      <td>always leaves room for negotiation.</td>\n",
       "      <td>President Donald Trump</td>\n",
       "      <td>[Q22686]</td>\n",
       "      <td>2018-07-30 20:44:00</td>\n",
       "      <td>4</td>\n",
       "      <td>[[President Donald Trump, 0.6616], [None, 0.33...</td>\n",
       "      <td>[http://www.10news.com/newsy/trump-25-billion-...</td>\n",
       "      <td>E</td>\n",
       "    </tr>\n",
       "    <tr>\n",
       "      <th>4</th>\n",
       "      <td>2018-10-30-005630</td>\n",
       "      <td>an incredible leader who is respected by every...</td>\n",
       "      <td>President Donald Trump</td>\n",
       "      <td>[Q22686]</td>\n",
       "      <td>2018-10-30 03:10:00</td>\n",
       "      <td>3</td>\n",
       "      <td>[[President Donald Trump, 0.358], [Cathy McMor...</td>\n",
       "      <td>[http://m.spokesman.com/stories/2018/oct/30/pr...</td>\n",
       "      <td>E</td>\n",
       "    </tr>\n",
       "    <tr>\n",
       "      <th>5</th>\n",
       "      <td>2018-04-21-003582</td>\n",
       "      <td>and he is already a proven liar and leaker.</td>\n",
       "      <td>President Donald Trump</td>\n",
       "      <td>[Q22686]</td>\n",
       "      <td>2018-04-21 21:38:52</td>\n",
       "      <td>1</td>\n",
       "      <td>[[President Donald Trump, 0.7394], [None, 0.16...</td>\n",
       "      <td>[https://mic.com/articles/189012/this-week-in-...</td>\n",
       "      <td>E</td>\n",
       "    </tr>\n",
       "  </tbody>\n",
       "</table>\n",
       "</div>"
      ],
      "text/plain": [
       "             quoteID  ... phase\n",
       "0  2018-05-08-001245  ...     E\n",
       "1  2018-09-26-003692  ...     E\n",
       "3  2018-07-30-004176  ...     E\n",
       "4  2018-10-30-005630  ...     E\n",
       "5  2018-04-21-003582  ...     E\n",
       "\n",
       "[5 rows x 9 columns]"
      ]
     },
     "execution_count": 10,
     "metadata": {},
     "output_type": "execute_result"
    }
   ],
   "source": [
    "trump_quotes = data[data[\"speaker\"].str.contains(\"Donald Trump\")]\n",
    "trump_quotes.head()"
   ]
  },
  {
   "cell_type": "code",
   "execution_count": null,
   "metadata": {
    "colab": {
     "base_uri": "https://localhost:8080/",
     "height": 354
    },
    "id": "AnSYiIeZ6PVm",
    "outputId": "c1fd0849-44c4-4c05-8b4a-14dd3826ac99"
   },
   "outputs": [
    {
     "data": {
      "text/html": [
       "<div>\n",
       "<style scoped>\n",
       "    .dataframe tbody tr th:only-of-type {\n",
       "        vertical-align: middle;\n",
       "    }\n",
       "\n",
       "    .dataframe tbody tr th {\n",
       "        vertical-align: top;\n",
       "    }\n",
       "\n",
       "    .dataframe thead th {\n",
       "        text-align: right;\n",
       "    }\n",
       "</style>\n",
       "<table border=\"1\" class=\"dataframe\">\n",
       "  <thead>\n",
       "    <tr style=\"text-align: right;\">\n",
       "      <th></th>\n",
       "      <th>quoteID</th>\n",
       "      <th>quotation</th>\n",
       "      <th>speaker</th>\n",
       "      <th>qids</th>\n",
       "      <th>date</th>\n",
       "      <th>numOccurrences</th>\n",
       "      <th>probas</th>\n",
       "      <th>urls</th>\n",
       "      <th>phase</th>\n",
       "    </tr>\n",
       "  </thead>\n",
       "  <tbody>\n",
       "    <tr>\n",
       "      <th>21</th>\n",
       "      <td>2018-02-12-035226</td>\n",
       "      <td>I cannot paint.</td>\n",
       "      <td>Barack Obama</td>\n",
       "      <td>[Q76]</td>\n",
       "      <td>2018-02-12 13:50:00</td>\n",
       "      <td>2</td>\n",
       "      <td>[[Barack Obama, 0.8319], [Kehinde Wiley, 0.090...</td>\n",
       "      <td>[http://www.chicagotribune.com/news/ct-obama-p...</td>\n",
       "      <td>E</td>\n",
       "    </tr>\n",
       "    <tr>\n",
       "      <th>35</th>\n",
       "      <td>2018-11-03-029313</td>\n",
       "      <td>incessant, non-stop attempts to divide us with...</td>\n",
       "      <td>Barack Obama</td>\n",
       "      <td>[Q76]</td>\n",
       "      <td>2018-11-03 01:43:21</td>\n",
       "      <td>3</td>\n",
       "      <td>[[Barack Obama, 0.7987], [None, 0.164], [Donal...</td>\n",
       "      <td>[http://thehill.com/homenews/news/414678-obama...</td>\n",
       "      <td>E</td>\n",
       "    </tr>\n",
       "    <tr>\n",
       "      <th>106</th>\n",
       "      <td>2018-10-22-004462</td>\n",
       "      <td>All right? I believe in a fact-based reality. ...</td>\n",
       "      <td>President Barack Obama</td>\n",
       "      <td>[Q76]</td>\n",
       "      <td>2018-10-22 21:36:28</td>\n",
       "      <td>1</td>\n",
       "      <td>[[President Barack Obama, 0.7669], [None, 0.21...</td>\n",
       "      <td>[http://www.rawstory.com/2018/10/dont-believe-...</td>\n",
       "      <td>E</td>\n",
       "    </tr>\n",
       "    <tr>\n",
       "      <th>176</th>\n",
       "      <td>2018-10-26-096425</td>\n",
       "      <td>The biggest threat to our democracy is cynicis...</td>\n",
       "      <td>President Barack Obama</td>\n",
       "      <td>[Q76]</td>\n",
       "      <td>2018-10-26 19:37:30</td>\n",
       "      <td>3</td>\n",
       "      <td>[[President Barack Obama, 0.8994], [None, 0.08...</td>\n",
       "      <td>[http://cbsnews.com/news/live-stream-obama-ral...</td>\n",
       "      <td>E</td>\n",
       "    </tr>\n",
       "    <tr>\n",
       "      <th>201</th>\n",
       "      <td>2018-11-14-125138</td>\n",
       "      <td>was the day I was getting my hair and makeup d...</td>\n",
       "      <td>Barack Obama</td>\n",
       "      <td>[Q76]</td>\n",
       "      <td>2018-11-14 16:01:00</td>\n",
       "      <td>1</td>\n",
       "      <td>[[Barack Obama, 0.7869], [None, 0.2131]]</td>\n",
       "      <td>[http://www.wmagazine.com/story/michelle-obama...</td>\n",
       "      <td>E</td>\n",
       "    </tr>\n",
       "  </tbody>\n",
       "</table>\n",
       "</div>"
      ],
      "text/plain": [
       "               quoteID  ... phase\n",
       "21   2018-02-12-035226  ...     E\n",
       "35   2018-11-03-029313  ...     E\n",
       "106  2018-10-22-004462  ...     E\n",
       "176  2018-10-26-096425  ...     E\n",
       "201  2018-11-14-125138  ...     E\n",
       "\n",
       "[5 rows x 9 columns]"
      ]
     },
     "execution_count": 11,
     "metadata": {},
     "output_type": "execute_result"
    }
   ],
   "source": [
    "obama_quotes = data[data[\"speaker\"].str.contains(\"Barack Obama\")]\n",
    "obama_quotes.head()"
   ]
  },
  {
   "cell_type": "markdown",
   "metadata": {
    "id": "WIA84G5EgonW"
   },
   "source": [
    "## Quotes and Google Trends"
   ]
  },
  {
   "cell_type": "markdown",
   "metadata": {
    "id": "A8JB7rrBcbQJ"
   },
   "source": [
    "One on of our theories is that politicians talk about subjects of interest. For example, when a major event takes place, we would expect to hear about it in the news, and more importantly, we would expect political stakeholders to talk about it. However, not all politicians may pay the same amount of attention to all events.\n",
    "\n",
    "We plot the Google search trends against the number of quotes on specific subjects for Donald Trump and Barack Obama, two leaders from opposing parties."
   ]
  },
  {
   "cell_type": "code",
   "execution_count": null,
   "metadata": {
    "id": "P_Ur7WaGVbWM"
   },
   "outputs": [],
   "source": [
    "def plot_trend(all_quotes, keyword, year, ax, speaker_name):\n",
    "  \"\"\"\n",
    "  Given a list of quotes, a keyword of interest and a year, plot the Google\n",
    "  search trend against the politicians' trends of uttering related quotes.\n",
    "  \"\"\"\n",
    "  # Get quotes stats from Quotebank\n",
    "  relevant_quotes = all_quotes[all_quotes[\"quotation\"].str.contains(keyword)]\n",
    "  quotes_by_date = relevant_quotes.groupby(by=relevant_quotes['date'].dt.date)\n",
    "  quotes_occ = pd.DataFrame(quotes_by_date['numOccurrences'].sum(),\n",
    "                           columns=['numOccurrences'])\n",
    "\n",
    "  # Get Google Trends data\n",
    "  pytrend.build_payload(kw_list=[keyword], geo='US',\n",
    "                        timeframe=f'{year}-01-01 {year}-12-31')\n",
    "  df_google = pytrend.interest_over_time()\n",
    "\n",
    "  # Treat missing quote trend values for a nicer plot\n",
    "  idx = pd.date_range(f\"01-01-{year}\", f\"12-31-{year}\")\n",
    "  quotes_occ = quotes_occ.reindex(idx, fill_value=0)\n",
    "\n",
    "  # Scale trend\n",
    "  quotes_occ[\"numOccurrences\"] = StandardScaler().fit_transform(\n",
    "    quotes_occ[[\"numOccurrences\"]]\n",
    "  )\n",
    "\n",
    "  # Scale trend\n",
    "  df_google[keyword] = StandardScaler().fit_transform(df_google[[keyword]])\n",
    "\n",
    "  # Plot trends\n",
    "  ax.plot(quotes_occ, label=f\"{speaker_name} quote trend\", color=COLORS[0])\n",
    "  df_google.plot(y=keyword, use_index=True, ax=ax,\n",
    "                 label='Google trend', color=COLORS[1])\n",
    "  \n",
    "  ax.set_title(f'Quotes & Search Trend for \"{keyword}\"')\n",
    "  ax.set_xlabel('Date')\n",
    "  ax.set_ylabel('Trend')\n",
    "  ax.legend()"
   ]
  },
  {
   "cell_type": "code",
   "execution_count": null,
   "metadata": {
    "colab": {
     "base_uri": "https://localhost:8080/",
     "height": 342
    },
    "id": "DkYuT3jvfuyZ",
    "outputId": "b1309e9e-b925-4fb7-e73b-e808a1bc1d80"
   },
   "outputs": [
    {
     "data": {
      "image/png": "[encoded data removed]",
      "text/plain": [
       "<Figure size 1080x360 with 2 Axes>"
      ]
     },
     "metadata": {},
     "output_type": "display_data"
    }
   ],
   "source": [
    "fig, axs = plt.subplots(figsize=(15, 5), nrows=1, ncols=2, sharey=True)\n",
    "plot_trend(trump_quotes, \"shooting\", 2018, axs[0], \"Donald Trump\")\n",
    "plot_trend(obama_quotes, \"shooting\", 2018, axs[1], \"Barack Obama\")"
   ]
  },
  {
   "cell_type": "code",
   "execution_count": null,
   "metadata": {
    "colab": {
     "base_uri": "https://localhost:8080/",
     "height": 342
    },
    "id": "5kQIe4Z93LOg",
    "outputId": "397474a7-cc68-4247-e1a8-6b2f47be46c7"
   },
   "outputs": [
    {
     "data": {
      "image/png": "[encoded data removed]",
      "text/plain": [
       "<Figure size 1080x360 with 2 Axes>"
      ]
     },
     "metadata": {},
     "output_type": "display_data"
    }
   ],
   "source": [
    "fig, axs = plt.subplots(figsize=(15, 5), nrows=1, ncols=2, sharey=True)\n",
    "plot_trend(trump_quotes, \"terror\", 2018, axs[0], \"Donald Trump\")\n",
    "plot_trend(obama_quotes, \"terror\", 2018, axs[1], \"Barack Obama\")"
   ]
  },
  {
   "cell_type": "markdown",
   "metadata": {
    "id": "fFLBDQHeCnE7"
   },
   "source": [
    "## Most common words"
   ]
  },
  {
   "cell_type": "markdown",
   "metadata": {
    "id": "s4SFd_WiUM42"
   },
   "source": [
    "We analyze the most common words said by Trump and Obama to see if we can find a pattern. For the current analysis, we only look at the most common nouns of each politician after tokenizing and preprocessing their quotes."
   ]
  },
  {
   "cell_type": "code",
   "execution_count": null,
   "metadata": {
    "id": "hQlhsLe7XsLv"
   },
   "outputs": [],
   "source": [
    "def preprocess_text(text):\n",
    "  \"\"\"\n",
    "  Apply NLTK preprocessing operations to extract more meaningful data\n",
    "  from the quotes.\n",
    "  \"\"\"\n",
    "  tokens = nltk.word_tokenize(text)\n",
    "  # Remove stopwords\n",
    "  stopwords_removed = [word for word in tokens if word not in stopwords.words(\"english\")]\n",
    "  tagged = nltk.pos_tag(stopwords_removed)\n",
    "  # Return only nouns\n",
    "  return [word for word, tag in tagged if tag.startswith('N') and word.isalpha()]"
   ]
  },
  {
   "cell_type": "code",
   "execution_count": null,
   "metadata": {
    "id": "B1qij9ZdCpog"
   },
   "outputs": [],
   "source": [
    "# Count most common words for Donald Trump\n",
    "trump_words_cnt = Counter(preprocess_text(\" \".join(trump_quotes[\"quotation\"].str.lower())))"
   ]
  },
  {
   "cell_type": "code",
   "execution_count": null,
   "metadata": {
    "colab": {
     "base_uri": "https://localhost:8080/"
    },
    "id": "krlUYxmTwZib",
    "outputId": "58e494a3-7f9e-490f-e794-f46567dbb6f0"
   },
   "outputs": [
    {
     "data": {
      "text/plain": [
       "[('people', 14746),\n",
       " ('country', 8374),\n",
       " ('president', 6797),\n",
       " ('time', 5574),\n",
       " ('trump', 5079),\n",
       " ('states', 4818),\n",
       " ('lot', 4650),\n",
       " ('deal', 4224),\n",
       " ('world', 4175),\n",
       " ('things', 4015),\n",
       " ('years', 4005),\n",
       " ('trade', 3746),\n",
       " ('way', 3711),\n",
       " ('something', 3200),\n",
       " ('thing', 3179),\n",
       " ('countries', 2794),\n",
       " ('russia', 2741),\n",
       " ('democrats', 2729),\n",
       " ('security', 2508),\n",
       " ('nothing', 2311),\n",
       " ('china', 2304),\n",
       " ('border', 2256),\n",
       " ('job', 2242),\n",
       " ('news', 2217),\n",
       " ('money', 2042),\n",
       " ('year', 1971),\n",
       " ('today', 1946),\n",
       " ('house', 1867),\n",
       " ('america', 1826),\n",
       " ('day', 1824)]"
      ]
     },
     "execution_count": 34,
     "metadata": {},
     "output_type": "execute_result"
    }
   ],
   "source": [
    "trump_words_cnt.most_common(30)"
   ]
  },
  {
   "cell_type": "code",
   "execution_count": null,
   "metadata": {
    "id": "4VIZOKhuFTuz"
   },
   "outputs": [],
   "source": [
    "# Count most common words for Barack Obama.\n",
    "obama_words_cnt = Counter(preprocess_text(\" \".join(obama_quotes[\"quotation\"].str.lower())))"
   ]
  },
  {
   "cell_type": "code",
   "execution_count": null,
   "metadata": {
    "colab": {
     "base_uri": "https://localhost:8080/"
    },
    "id": "pxXOnILKpPuB",
    "outputId": "c24d659f-dfac-40fa-efa7-b86a27af6fd6"
   },
   "outputs": [
    {
     "data": {
      "text/plain": [
       "[('people', 1585),\n",
       " ('time', 654),\n",
       " ('president', 577),\n",
       " ('world', 574),\n",
       " ('way', 533),\n",
       " ('country', 533),\n",
       " ('politics', 488),\n",
       " ('years', 441),\n",
       " ('democracy', 419),\n",
       " ('things', 402),\n",
       " ('work', 359),\n",
       " ('power', 343),\n",
       " ('something', 325),\n",
       " ('life', 323),\n",
       " ('america', 320),\n",
       " ('obama', 272),\n",
       " ('day', 271),\n",
       " ('thing', 266),\n",
       " ('states', 263),\n",
       " ('change', 258),\n",
       " ('election', 255),\n",
       " ('house', 254),\n",
       " ('history', 254),\n",
       " ('kind', 247),\n",
       " ('vote', 243),\n",
       " ('today', 225),\n",
       " ('trump', 222),\n",
       " ('americans', 212),\n",
       " ('women', 211),\n",
       " ('man', 204)]"
      ]
     },
     "execution_count": 36,
     "metadata": {},
     "output_type": "execute_result"
    }
   ],
   "source": [
    "obama_words_cnt.most_common(30)"
   ]
  },
  {
   "cell_type": "markdown",
   "metadata": {
    "id": "25b5RVCe-6w0"
   },
   "source": [
    "While Donald Trump talks about _Russia_, _China_, _money_, and _democrats_, Barack Obama chooses to talk about _democracy_, _change_, and _work_. This simple approach has revealed that although some of the main nouns are shared between the representants of the two parties, there are also differences that should be futher analyzed to figure out if they can tell us more about their parties."
   ]
  },
  {
   "cell_type": "code",
   "execution_count": null,
   "metadata": {
    "id": "btbKO7SXEDZk"
   },
   "outputs": [],
   "source": [
    "# Using this option to display the full quotes\n",
    "pd.set_option('display.max_colwidth', None)"
   ]
  },
  {
   "cell_type": "code",
   "execution_count": null,
   "metadata": {
    "colab": {
     "base_uri": "https://localhost:8080/"
    },
    "id": "8o1T6MedGCgG",
    "outputId": "6645116a-bd65-40da-eb2c-300841885faa"
   },
   "outputs": [
    {
     "data": {
      "text/plain": [
       "3028                                                                                                                                                                                             the scene of an uprising against police repression that led to a key turning point in the struggle for the civil rights of lesbian, gay, bisexual, and transgender (LGBT) Americans.\n",
       "20109                                                                                                                                                                                        (W) hen I hear people say they don't like identity politics, I think it's important to remember that identity politics doesn't just apply when it's black people or gay people or women,\n",
       "31804    I still have to stand here at a lecture and devote some time to saying that black people and white people and Asian people and Latin American people and women and men and gays and straights... are all human, that our differences are superficial, and that we should treat each other with care and respect. I would have thought we would have figured that out by now.\n",
       "37441                                                                                                                                                                 Which is why, by the way, when I hear people say they don't like identity politics, I think it's important to remember that identity politics doesn't just apply when it's black people or gay people or women,\n",
       "48616                                                                                                                                                  One day, to your horror, your problem is one hundred times more serious than what we have. It came to pass. Si Obama yun (That's Obama). Ngayon pagsabi kay Trump ngayon (But now Trump), he's declaring a national emergency,\n",
       "Name: quotation, dtype: object"
      ]
     },
     "execution_count": 43,
     "metadata": {},
     "output_type": "execute_result"
    }
   ],
   "source": [
    "obama_quotes[obama_quotes[\"quotation\"].str.contains('gay')]['quotation'].head()"
   ]
  },
  {
   "cell_type": "code",
   "execution_count": null,
   "metadata": {
    "colab": {
     "base_uri": "https://localhost:8080/",
     "height": 1000
    },
    "id": "19CYaL57IidE",
    "outputId": "ba35c94f-ca7b-401f-fde9-45b66c7c1fc8"
   },
   "outputs": [
    {
     "data": {
      "text/html": [
       "<div>\n",
       "<style scoped>\n",
       "    .dataframe tbody tr th:only-of-type {\n",
       "        vertical-align: middle;\n",
       "    }\n",
       "\n",
       "    .dataframe tbody tr th {\n",
       "        vertical-align: top;\n",
       "    }\n",
       "\n",
       "    .dataframe thead th {\n",
       "        text-align: right;\n",
       "    }\n",
       "</style>\n",
       "<table border=\"1\" class=\"dataframe\">\n",
       "  <thead>\n",
       "    <tr style=\"text-align: right;\">\n",
       "      <th></th>\n",
       "      <th>quoteID</th>\n",
       "      <th>quotation</th>\n",
       "      <th>speaker</th>\n",
       "      <th>qids</th>\n",
       "      <th>date</th>\n",
       "      <th>numOccurrences</th>\n",
       "      <th>probas</th>\n",
       "      <th>urls</th>\n",
       "      <th>phase</th>\n",
       "    </tr>\n",
       "  </thead>\n",
       "  <tbody>\n",
       "    <tr>\n",
       "      <th>1861</th>\n",
       "      <td>2018-01-18-038590</td>\n",
       "      <td>I cannot vibe with gays</td>\n",
       "      <td>President Donald Trump</td>\n",
       "      <td>[Q22686]</td>\n",
       "      <td>2018-01-18 17:42:12</td>\n",
       "      <td>1</td>\n",
       "      <td>[[President Donald Trump, 0.5233], [None, 0.4767]]</td>\n",
       "      <td>[http://fuse.tv/2018/01/offset-migos-boss-life-queer-lyric-controversy-yfn-lucci]</td>\n",
       "      <td>E</td>\n",
       "    </tr>\n",
       "    <tr>\n",
       "      <th>4127</th>\n",
       "      <td>2018-01-15-062263</td>\n",
       "      <td>On the surface it may seem like Trump is giving a speech to one of our nation's most beloved icons -- the American farmer. But, the Farm Bureau actually represents a small, tight-knit clan of wealthy, far-right ideologues who oppose gay marriage and gun-free zones, support racist voter suppression laws, and want to gut social welfare programs like Medicaid.</td>\n",
       "      <td>President Donald Trump</td>\n",
       "      <td>[Q22686]</td>\n",
       "      <td>2018-01-15 17:55:00</td>\n",
       "      <td>1</td>\n",
       "      <td>[[President Donald Trump, 0.5711], [None, 0.4289]]</td>\n",
       "      <td>[http://www.southeastfarmpress.com/farm-policy/trump-afbf-what-did-everyone-else-say]</td>\n",
       "      <td>E</td>\n",
       "    </tr>\n",
       "    <tr>\n",
       "      <th>15536</th>\n",
       "      <td>2018-10-29-025115</td>\n",
       "      <td>has shown himself to be completely shameless when it comes to throwing anybody under the bus to score political points. As a gay man, I feel that threat.</td>\n",
       "      <td>President Donald Trump</td>\n",
       "      <td>[Q22686]</td>\n",
       "      <td>2018-10-29 00:17:18</td>\n",
       "      <td>4</td>\n",
       "      <td>[[President Donald Trump, 0.6485], [None, 0.2856], [Nickie Antonio, 0.0659]]</td>\n",
       "      <td>[https://www.ohio.com/news/20181028/blue-wave-lgbt-candidates-hope-for-rainbow-wave, https://www.times-gazette.com/news/20181031/blue-wave-lgbtq-candidates-hope-for-rainbow-wave, https://www.dispatch.com/news/20181101/blue-wave-lgbtq-candidates-hope-for-rainbow-wave, https://www.indeonline.com/news/20181101/blue-wave-lgbtq-candidates-hope-for-rainbow-wave]</td>\n",
       "      <td>E</td>\n",
       "    </tr>\n",
       "    <tr>\n",
       "      <th>24896</th>\n",
       "      <td>2018-02-13-074191</td>\n",
       "      <td>It's not just for me. I got out there because -- it's not just gay kids, I think that everybody can relate to being different or feeling like they're not good enough or they'll never make it because they're from a small town, or maybe they just don't feel like they're good enough.</td>\n",
       "      <td>President Donald Trump</td>\n",
       "      <td>[Q22686]</td>\n",
       "      <td>2018-02-13 16:14:48</td>\n",
       "      <td>2</td>\n",
       "      <td>[[President Donald Trump, 0.3286], [None, 0.3038], [Mike Pence, 0.2501], [Adam Rippon, 0.1175]]</td>\n",
       "      <td>[http://people.com/sports/winter-olympics-2018-adam-rippon-message-haters/, http://people.com/sports/winter-olympics-2018-adam-rippon-gus-kenworthy-competing-openly-gay-athletes/]</td>\n",
       "      <td>E</td>\n",
       "    </tr>\n",
       "    <tr>\n",
       "      <th>30200</th>\n",
       "      <td>2018-01-26-124359</td>\n",
       "      <td>Tomorrow marks the 73rd anniversary of the liberation of Auschwitz-Birkenau, the Nazi death and concentration camp in Poland. We take this opportunity to recall the Nazis' systematic persecution and brutal murder of six million Jewish people. In their death camps and under their inhuman rule, the Nazis also enslaved and killed millions of Slavs, Roma, gays, people with disabilities, priests and religious leaders, and others who courageously opposed their brutal regime,</td>\n",
       "      <td>President Donald Trump</td>\n",
       "      <td>[Q22686]</td>\n",
       "      <td>2018-01-26 21:54:07</td>\n",
       "      <td>1</td>\n",
       "      <td>[[President Donald Trump, 0.8092], [None, 0.1908]]</td>\n",
       "      <td>[http://israelnationalnews.com/News/News.aspx/241218]</td>\n",
       "      <td>E</td>\n",
       "    </tr>\n",
       "  </tbody>\n",
       "</table>\n",
       "</div>"
      ],
      "text/plain": [
       "                 quoteID  ... phase\n",
       "1861   2018-01-18-038590  ...     E\n",
       "4127   2018-01-15-062263  ...     E\n",
       "15536  2018-10-29-025115  ...     E\n",
       "24896  2018-02-13-074191  ...     E\n",
       "30200  2018-01-26-124359  ...     E\n",
       "\n",
       "[5 rows x 9 columns]"
      ]
     },
     "execution_count": 45,
     "metadata": {},
     "output_type": "execute_result"
    }
   ],
   "source": [
    "trump_quotes[trump_quotes[\"quotation\"].str.contains('gay')].head()"
   ]
  },
  {
   "cell_type": "code",
   "execution_count": null,
   "metadata": {
    "id": "TD9CdgJOEKrg"
   },
   "outputs": [],
   "source": [
    "# Resetting the column width\n",
    "pd.reset_option('display.max_colwidth')"
   ]
  },
  {
   "cell_type": "markdown",
   "metadata": {
    "id": "tGzcxuhcSC0A"
   },
   "source": [
    "## News websites and speakers"
   ]
  },
  {
   "cell_type": "markdown",
   "metadata": {
    "id": "1POu59Wn2XCx"
   },
   "source": [
    "### Helpers"
   ]
  },
  {
   "cell_type": "code",
   "execution_count": null,
   "metadata": {
    "id": "DWY21v6X2d8P"
   },
   "outputs": [],
   "source": [
    "def get_domain_names(urls):\n",
    "  \"\"\"\n",
    "  Get a list with all domain names for the urls list given as parameter.\n",
    "  \"\"\"\n",
    "  domains = []\n",
    "  for url in urls:\n",
    "    res = get_tld(url, as_object=True)\n",
    "    domains.append(res.domain)\n",
    "  return domains\n",
    "\n",
    "def standardize_speaker_name(x):\n",
    "  \"\"\"\n",
    "  Standardize a speaker name to a common one from the list of politicians.\n",
    "  \"\"\"\n",
    "  plts = np.array(politicians)\n",
    "  return plts[[p in x for p in plts]][0]"
   ]
  },
  {
   "cell_type": "markdown",
   "metadata": {
    "id": "5J8xW20u2m2h"
   },
   "source": [
    "### News websites' preference for a speaker"
   ]
  },
  {
   "cell_type": "code",
   "execution_count": null,
   "metadata": {
    "id": "XH54Ubx1SE-9"
   },
   "outputs": [],
   "source": [
    "# Do not alter original data\n",
    "new_data_domains = data.copy()\n",
    "# Convert urls into domain names -> this takes 1 minute\n",
    "new_data_domains['urls'] = new_data_domains['urls'].apply(get_domain_names)"
   ]
  },
  {
   "cell_type": "code",
   "execution_count": null,
   "metadata": {
    "id": "0IsNy0Vu4Tpp"
   },
   "outputs": [],
   "source": [
    "# Standardize speaker names in order to be able to group quotes\n",
    "new_data_domains['speaker'] = new_data_domains['speaker'].apply(standardize_speaker_name)\n",
    "new_data_domains.head(10)\n",
    "# Gather all sites that retreieved a politician's quotes\n",
    "by_politician = new_data_domains.groupby('speaker')['urls'].agg(lambda x: list(chain.from_iterable(x.values))).reset_index()"
   ]
  },
  {
   "cell_type": "code",
   "execution_count": null,
   "metadata": {
    "id": "mFXk8qocBIBQ"
   },
   "outputs": [],
   "source": [
    "# Get number of quotes retrieved by a website, for each politician\n",
    "politicians_websites = []\n",
    "for index, row in by_politician.iterrows():\n",
    "  p_websites = pd.DataFrame(Counter(row['urls']).most_common(5),\n",
    "                                columns=[\"Website name\", \"{}\".format(row['speaker'])])\n",
    "  politicians_websites.append(p_websites)"
   ]
  },
  {
   "cell_type": "code",
   "execution_count": null,
   "metadata": {
    "colab": {
     "base_uri": "https://localhost:8080/",
     "height": 1000
    },
    "id": "iFpDxjqtCncW",
    "outputId": "c47a2bb3-2024-4998-c779-27480d293c46"
   },
   "outputs": [
    {
     "data": {
      "image/png": "[encoded data removed]",
      "text/plain": [
       "<Figure size 1440x1440 with 12 Axes>"
      ]
     },
     "metadata": {},
     "output_type": "display_data"
    }
   ],
   "source": [
    "# Plot the websites, preferences for each politician\n",
    "w = 2\n",
    "h = len(politicians_websites) // w + 1\n",
    "fig, ax = plt.subplots(h, w, figsize=(20, 20))\n",
    "# TODO: See why title is not showing\n",
    "# fig.suptitle(\"Title centered above all subplots\", fontsize=25)\n",
    "for i in range(h):\n",
    "  j = 0\n",
    "  while i * w + j < len(politicians_websites) and j < w:\n",
    "    sbplt = ax[i, j]\n",
    "    ax_sns = sns.barplot(x=politicians_websites[j + i * w].columns[-1], y=\"Website name\", \n",
    "                         data=politicians_websites[j + i * w], ax=sbplt, color='blue')#.set(xscale=\"log\")\n",
    "    ax_sns.set(xlabel=\"Count of quotes\", ylabel=None, title=politicians_websites[j + i * w].columns[-1])\n",
    "    j += 1\n",
    "fig.tight_layout()"
   ]
  },
  {
   "cell_type": "markdown",
   "metadata": {
    "id": "fng8VWlseg1Y"
   },
   "source": [
    "## Wikidata q-codes, first approach"
   ]
  },
  {
   "cell_type": "markdown",
   "metadata": {
    "id": "SBjOq3O6wG2H"
   },
   "source": [
    "### Helpers"
   ]
  },
  {
   "cell_type": "code",
   "execution_count": null,
   "metadata": {
    "id": "TMcbDQadwNtP"
   },
   "outputs": [],
   "source": [
    "def convert_qcodes_en(q_codes):\n",
    "  \"\"\"\n",
    "  Function for transforming wikidata q codes into list of english aliases or\n",
    "  labels related to the specific q code. If list of q_codes is given aggregate\n",
    "  all the words corresponding to each code. \n",
    "  \"\"\"\n",
    "  codes_values = []\n",
    "  if q_codes is not None:\n",
    "    for q_code in q_codes:\n",
    "      s = get_entity_dict_from_api(q_code)\n",
    "      s_value = []\n",
    "      if len(s.get('aliases', {}).get(\"en\", [])) > 0:\n",
    "        s_value.extend([v[\"value\"] for v in s['aliases'][\"en\"]])\n",
    "      if s.get('labels', {}).get(\"en\", {}) != dict():\n",
    "        s_value.append(s['labels'][\"en\"][\"value\"])\n",
    "\n",
    "      codes_values.extend(s_value)\n",
    "  if len(codes_values) == 0:\n",
    "    return None\n",
    "\n",
    "  return codes_values"
   ]
  },
  {
   "cell_type": "markdown",
   "metadata": {
    "id": "sUdSoAzAwZeZ"
   },
   "source": [
    "### Converting Q codes into list of aliases and label aggregated"
   ]
  },
  {
   "cell_type": "code",
   "execution_count": null,
   "metadata": {
    "id": "ZFha0gA7jRJy"
   },
   "outputs": [],
   "source": [
    "# Read .parquet file into a dataframe\n",
    "wikidata = pd.read_parquet(WIKIDATA_PATH, engine='pyarrow')"
   ]
  },
  {
   "cell_type": "code",
   "execution_count": null,
   "metadata": {
    "id": "IQtalz0IwuY8"
   },
   "outputs": [],
   "source": [
    "# Small test for converting wikidata qcodes into words (just first 5 entries)\n",
    "new_wikidata = wikidata.iloc[:5].copy()\n",
    "for name in WIKIDATA_QCODES_COL:\n",
    "  new_wikidata[name] = new_wikidata[name].apply(convert_qcodes_en) \n",
    "new_wikidata.head(1)"
   ]
  },
  {
   "cell_type": "markdown",
   "metadata": {
    "id": "SmFeW5IwITXQ"
   },
   "source": [
    "## Quotebank dataset preprocessing "
   ]
  },
  {
   "cell_type": "markdown",
   "metadata": {
    "id": "syKZeh1JMQj8"
   },
   "source": [
    "### Helpers"
   ]
  },
  {
   "cell_type": "code",
   "execution_count": 4,
   "metadata": {
    "id": "vemdf8bzMbkK"
   },
   "outputs": [],
   "source": [
    "def convert_qcodes(l, df):\n",
    "  \"\"\"\n",
    "  Convert list of qcodes to labels\n",
    "  \"\"\"\n",
    "  return None if l is None else list(map(lambda x: df.loc[x]['Label'] if x in df.index else None, l))\n",
    "\n",
    "\n",
    "def infer_format(time_stmp):\n",
    "    if time_stmp[6:8] == '00':\n",
    "        time_stmp = time_stmp[:5]\n",
    "        dt_format = '+%Y'\n",
    "    else:\n",
    "        time_stmp = time_stmp[:8]\n",
    "        dt_format = '+%Y-%m'\n",
    "    return time_stmp, dt_format\n",
    "\n",
    "    \n",
    "def get_party_membership(q_code):\n",
    "    \"\"\"\n",
    "    Function for obtaining party membership intervals for speaker with q_code\n",
    "    \"\"\"\n",
    "    tmp = []\n",
    "    if q_code is not None:\n",
    "        try:\n",
    "            s = get_entity_dict_from_api(q_code)\n",
    "        except:\n",
    "            return []\n",
    "        if len(s.get(\"claims\", {}).get(\"P102\", [])) > 0:\n",
    "            # Separate case when there is only one political party for a speaker\n",
    "            # Just consider it as the correct party\n",
    "            if len(s[\"claims\"][\"P102\"]) == 1:\n",
    "                if s[\"claims\"][\"P102\"][0][\"mainsnak\"].get(\"datavalue\", {}).get(\"value\", {}).get(\"id\") is not None:\n",
    "                        party = s[\"claims\"][\"P102\"][0][\"mainsnak\"][\"datavalue\"][\"value\"][\"id\"]\n",
    "                        tmp.append([party, datetime.strptime(*infer_format('+2008-07-31T00:00:00Z')),\n",
    "                                            datetime.strptime(*infer_format('+2020-05-01T00:00:00Z'))])\n",
    "            else:\n",
    "                for i, v in enumerate(s[\"claims\"][\"P102\"]):\n",
    "                    if v[\"mainsnak\"].get(\"datavalue\", {}).get(\"value\", {}).get(\"id\") is not None:\n",
    "                        party = v[\"mainsnak\"][\"datavalue\"][\"value\"][\"id\"]\n",
    "                        if party in q_codes_labels.index:\n",
    "                            party = q_codes_labels.loc[party]['Label']\n",
    "                            start_time, end_time = None, None\n",
    "                            if len(v.get('qualifiers', {}).get('P580', [])) > 0:\n",
    "                                if v['qualifiers']['P580'][0].get('datavalue', {}).get(\"value\", {}).get('time') is not None:\n",
    "                                    start_time = v['qualifiers']['P580'][0][\"datavalue\"][\"value\"][\"time\"]\n",
    "                            if len(v.get('qualifiers', {}).get('P582', [])) > 0:\n",
    "                                if v['qualifiers']['P582'][0].get('datavalue', {}).get(\"value\", {}).get('time') is not None:\n",
    "                                    end_time = v['qualifiers']['P582'][0][\"datavalue\"][\"value\"][\"time\"]\n",
    "                            if start_time is not None and end_time is not None:\n",
    "                                tmp.append([party, datetime.strptime(*infer_format(start_time)),\n",
    "                                            datetime.strptime(*infer_format(end_time))])\n",
    "                            elif start_time is not None and end_time is None:\n",
    "                                tmp.append([party, datetime.strptime(*infer_format(start_time)),\n",
    "                                            datetime.strptime(*infer_format('+2020-05-01T00:00:00Z'))])\n",
    "                            else:\n",
    "                                continue\n",
    "\n",
    "    if len(tmp) == 0:\n",
    "        return []\n",
    "\n",
    "    return np.array(tmp, dtype=object)\n",
    "\n",
    "\n",
    "def map_speaker_to_party(qids):\n",
    "    speaker_to_parties = {}\n",
    "    df_speaker_to_parties = pd.DataFrame(index=range(len(qids)))\n",
    "    df_speaker_to_parties[\"party\"] = 0\n",
    "    df_speaker_to_parties[\"qid\"] = 0\n",
    "    df_speaker_to_parties[\"party\"] = df_speaker_to_parties[\"party\"].astype('object')\n",
    "\n",
    "    qids = qids[:7]\n",
    "    for i, qid in tqdm(enumerate(qids)):\n",
    "        if qid not in speaker_to_parties:\n",
    "            # Create entry in dict of mappings between politicians and party memberships intervals\n",
    "            speaker_to_parties[qid] = get_party_membership(qid)\n",
    "            df_speaker_to_parties.iloc[i]['qid'] = qid\n",
    "\n",
    "    df_speaker_to_parties.at[list(range(len(qids))), 'party'] = list(speaker_to_parties.values())\n",
    "    return df_speaker_to_parties\n",
    "    # df_speaker_to_parties.to_csv()\n",
    "\n",
    "def get_politicians_party(df):\n",
    "    # TODO: Test this\n",
    "    speaker_to_parties = {}\n",
    "\n",
    "    for i, sample in tqdm(df.iterrows()):\n",
    "        qid = sample['qids']\n",
    "        if qid not in speaker_to_parties:\n",
    "            # Create entry in dict of mappings between politicians and party memberships intervals\n",
    "            speaker_to_parties[qid] = get_party_membership(qid)\n",
    "        new_sample = sample\n",
    "        # Map parties to parties membership intervals\n",
    "        new_sample['party'] = speaker_to_parties[qid]\n",
    "        # Get quote date\n",
    "        quote_date = datetime.strptime(new_sample['quoteID'][:7], '%Y-%m')\n",
    "        # Select the party membership interval corresponding to the quote date\n",
    "        if new_sample['party'] is not None:\n",
    "            new_sample['party'] = [p for p in new_sample['party'] if p[1] <= quote_date < p[2]]\n",
    "            # If no membership interval found, take the last party\n",
    "            if len(new_sample['party']) == 0:\n",
    "                continue\n",
    "                # new_sample['party'] = [speaker_to_parties[qid][-1]]\n",
    "            # If multiple parties found  take the last one\n",
    "            if len(new_sample['party']) > 1:\n",
    "                new_sample['party'] = [speaker_to_parties[qid][-1]]\n",
    "            df.iloc[i] = new_sample\n",
    "            \n",
    "    return df\n",
    "\n",
    "\n",
    "def get_politicians_entire_data(year, wiki_politicians, proba_threshold=0.6, sub_samples=None):\n",
    "    # Given a year, parses the Quotebank data and creates a zip containing\n",
    "    # the quotes of politicians that belong to a party from that year.\n",
    "\n",
    "    to_remove_keys = ('numOccurrences', 'phase', 'urls', 'date', 'probas')\n",
    "    path_to_out = QUOTES_BY_YEAR[year]\n",
    "    path_to_file = f'/content/drive/MyDrive/Quotebank/quotes-{year}.json.bz2'\n",
    "    with bz2.open(path_to_file, 'rb') as s_file:\n",
    "        with bz2.open(path_to_out, 'wb') as d_file:\n",
    "            for i, instance in tqdm(enumerate(s_file)):\n",
    "                if sub_samples is not None and i > sub_samples:\n",
    "                    break\n",
    "                # Load a sample.\n",
    "                instance = json.loads(instance)\n",
    "                # If there is un unknown speaker with the highest probability, \n",
    "                # therefore no qids or the attributed speaker has a lower\n",
    "                # probability than a threshold, then pass. Also keep only politicians\n",
    "                # with a single qid, to be sure that he is the one who said the quote\n",
    "                if len(instance['qids']) == 0 or float(instance['probas'][0][1]) < proba_threshold \\\n",
    "                or len(instance['qids']) > 1:\n",
    "                    continue\n",
    "                # Remove unnecessary keys\n",
    "                for key in to_remove_keys:\n",
    "                    instance.pop(key, None)\n",
    "                qids = instance['qids'].copy()\n",
    "    \n",
    "                # Get corresponding wiki_politicians sample for the specific qid in quotebank\n",
    "                # This happens only if quotebank speaker is politician in a party\n",
    "                try:\n",
    "                    # wikidata_sample = pd.DataFrame(wiki_politicians.loc[qid]).T\n",
    "                    wikidata_sample = wiki_politicians.loc[qid]\n",
    "                except KeyError:\n",
    "                    continue\n",
    "                # Replace qid for politcian\n",
    "                instance['qids'] = qid\n",
    "                # Merge quotebank sample with wikidata sample\n",
    "                instance['party'] = wikidata_sample['party']\n",
    "                instance['party_qcodes'] = wikidata_sample['party_qcodes']\n",
    "                # Write to file\n",
    "                d_file.write((json.dumps(instance)+'\\n').encode('utf-8'))"
   ]
  },
  {
   "cell_type": "markdown",
   "metadata": {
    "id": "cU6sRkUeMYRc"
   },
   "source": [
    "### Get wikidata politicians (DO NOT RUN THIS AGAIN, FILE ALREADY CREATED)"
   ]
  },
  {
   "cell_type": "code",
   "execution_count": 17,
   "metadata": {
    "id": "Zt0hEOffX_DG"
   },
   "outputs": [],
   "source": [
    "# Mapping between wikidata q codes and their labels\n",
    "q_codes_labels = pd.read_csv(WIKIDATA_LABELS_PATH, compression='bz2', index_col='QID')"
   ]
  },
  {
   "cell_type": "code",
   "execution_count": 18,
   "metadata": {
    "colab": {
     "base_uri": "https://localhost:8080/",
     "height": 172
    },
    "id": "UNP8BIuwY33k",
    "outputId": "24b65f7b-192b-471f-e906-a60856d71f80"
   },
   "outputs": [
    {
     "data": {
      "text/html": [
       "<div>\n",
       "<style scoped>\n",
       "    .dataframe tbody tr th:only-of-type {\n",
       "        vertical-align: middle;\n",
       "    }\n",
       "\n",
       "    .dataframe tbody tr th {\n",
       "        vertical-align: top;\n",
       "    }\n",
       "\n",
       "    .dataframe thead th {\n",
       "        text-align: right;\n",
       "    }\n",
       "</style>\n",
       "<table border=\"1\" class=\"dataframe\">\n",
       "  <thead>\n",
       "    <tr style=\"text-align: right;\">\n",
       "      <th></th>\n",
       "      <th>Label</th>\n",
       "      <th>Description</th>\n",
       "    </tr>\n",
       "    <tr>\n",
       "      <th>QID</th>\n",
       "      <th></th>\n",
       "      <th></th>\n",
       "    </tr>\n",
       "  </thead>\n",
       "  <tbody>\n",
       "    <tr>\n",
       "      <th>Q31</th>\n",
       "      <td>Belgium</td>\n",
       "      <td>country in western Europe</td>\n",
       "    </tr>\n",
       "    <tr>\n",
       "      <th>Q45</th>\n",
       "      <td>Portugal</td>\n",
       "      <td>country in southwestern Europe</td>\n",
       "    </tr>\n",
       "    <tr>\n",
       "      <th>Q75</th>\n",
       "      <td>Internet</td>\n",
       "      <td>global system of connected computer networks</td>\n",
       "    </tr>\n",
       "  </tbody>\n",
       "</table>\n",
       "</div>"
      ],
      "text/plain": [
       "        Label                                   Description\n",
       "QID                                                        \n",
       "Q31   Belgium                     country in western Europe\n",
       "Q45  Portugal                country in southwestern Europe\n",
       "Q75  Internet  global system of connected computer networks"
      ]
     },
     "execution_count": 18,
     "metadata": {},
     "output_type": "execute_result"
    }
   ],
   "source": [
    "q_codes_labels.head(3)"
   ]
  },
  {
   "cell_type": "code",
   "execution_count": null,
   "metadata": {
    "colab": {
     "base_uri": "https://localhost:8080/",
     "height": 189
    },
    "id": "t8lM2huGIPcH",
    "outputId": "e3052e73-fd26-4c14-8812-178c048224c7"
   },
   "outputs": [
    {
     "name": "stderr",
     "output_type": "stream",
     "text": [
      "100%|██████████| 18111962/18111962 [24:31<00:00, 12307.74it/s] \n"
     ]
    },
    {
     "data": {
      "text/html": [
       "<div>\n",
       "<style scoped>\n",
       "    .dataframe tbody tr th:only-of-type {\n",
       "        vertical-align: middle;\n",
       "    }\n",
       "\n",
       "    .dataframe tbody tr th {\n",
       "        vertical-align: top;\n",
       "    }\n",
       "\n",
       "    .dataframe thead th {\n",
       "        text-align: right;\n",
       "    }\n",
       "</style>\n",
       "<table border=\"1\" class=\"dataframe\">\n",
       "  <thead>\n",
       "    <tr style=\"text-align: right;\">\n",
       "      <th></th>\n",
       "      <th>occupation</th>\n",
       "      <th>party</th>\n",
       "    </tr>\n",
       "    <tr>\n",
       "      <th>id</th>\n",
       "      <th></th>\n",
       "      <th></th>\n",
       "    </tr>\n",
       "  </thead>\n",
       "  <tbody>\n",
       "    <tr>\n",
       "      <th>Q23</th>\n",
       "      <td>[politician, military officer, farmer, cartogr...</td>\n",
       "      <td>[independent politician]</td>\n",
       "    </tr>\n",
       "    <tr>\n",
       "      <th>Q42</th>\n",
       "      <td>[playwright, screenwriter, novelist, children'...</td>\n",
       "      <td>None</td>\n",
       "    </tr>\n",
       "    <tr>\n",
       "      <th>Q1868</th>\n",
       "      <td>[writer, lawyer, librarian, information scient...</td>\n",
       "      <td>None</td>\n",
       "    </tr>\n",
       "  </tbody>\n",
       "</table>\n",
       "</div>"
      ],
      "text/plain": [
       "                                              occupation                     party\n",
       "id                                                                                \n",
       "Q23    [politician, military officer, farmer, cartogr...  [independent politician]\n",
       "Q42    [playwright, screenwriter, novelist, children'...                      None\n",
       "Q1868  [writer, lawyer, librarian, information scient...                      None"
      ]
     },
     "execution_count": 11,
     "metadata": {},
     "output_type": "execute_result"
    }
   ],
   "source": [
    "# Read wikidata .parquet file into a dataframe\n",
    "wikidata = pd.read_parquet(WIKIDATA_PATH, engine='pyarrow').set_index('id')\n",
    "party_qcodes = wikidata['party']\n",
    "# Map qcodes to labels\n",
    "wikidata = wikidata[WIKIDATA_QCODES_COL].progress_applymap(lambda lst: convert_qcodes(lst, q_codes_labels))\n",
    "wikidata['party_qcodes'] = party_qcodes.values\n",
    "wikidata.head(3)"
   ]
  },
  {
   "cell_type": "code",
   "execution_count": null,
   "metadata": {
    "colab": {
     "base_uri": "https://localhost:8080/"
    },
    "id": "7d96jOBP0vVx",
    "outputId": "e6b0a1fd-4946-4d4a-811f-96beb1ac8bbe"
   },
   "outputs": [
    {
     "data": {
      "text/plain": [
       "(9055981, 3)"
      ]
     },
     "execution_count": 16,
     "metadata": {},
     "output_type": "execute_result"
    }
   ],
   "source": [
    "# Total entries in wikidata\n",
    "wikidata.shape"
   ]
  },
  {
   "cell_type": "code",
   "execution_count": null,
   "metadata": {
    "colab": {
     "base_uri": "https://localhost:8080/",
     "height": 172
    },
    "id": "OCa2tEET0IJ4",
    "outputId": "cb3f95d7-7fe7-421c-f4b4-d81ab5fca45c"
   },
   "outputs": [
    {
     "data": {
      "text/html": [
       "<div>\n",
       "<style scoped>\n",
       "    .dataframe tbody tr th:only-of-type {\n",
       "        vertical-align: middle;\n",
       "    }\n",
       "\n",
       "    .dataframe tbody tr th {\n",
       "        vertical-align: top;\n",
       "    }\n",
       "\n",
       "    .dataframe thead th {\n",
       "        text-align: right;\n",
       "    }\n",
       "</style>\n",
       "<table border=\"1\" class=\"dataframe\">\n",
       "  <thead>\n",
       "    <tr style=\"text-align: right;\">\n",
       "      <th></th>\n",
       "      <th>occupation</th>\n",
       "      <th>party</th>\n",
       "      <th>party_qcodes</th>\n",
       "    </tr>\n",
       "    <tr>\n",
       "      <th>id</th>\n",
       "      <th></th>\n",
       "      <th></th>\n",
       "      <th></th>\n",
       "    </tr>\n",
       "  </thead>\n",
       "  <tbody>\n",
       "    <tr>\n",
       "      <th>Q23</th>\n",
       "      <td>[politician, military officer, farmer, cartogr...</td>\n",
       "      <td>[independent politician]</td>\n",
       "      <td>[Q327591]</td>\n",
       "    </tr>\n",
       "    <tr>\n",
       "      <th>Q207</th>\n",
       "      <td>[politician, motivational speaker, autobiograp...</td>\n",
       "      <td>[Republican Party]</td>\n",
       "      <td>[Q29468]</td>\n",
       "    </tr>\n",
       "    <tr>\n",
       "      <th>Q368</th>\n",
       "      <td>[military officer, politician]</td>\n",
       "      <td>[independent politician]</td>\n",
       "      <td>[Q327591]</td>\n",
       "    </tr>\n",
       "  </tbody>\n",
       "</table>\n",
       "</div>"
      ],
      "text/plain": [
       "                                             occupation  ... party_qcodes\n",
       "id                                                       ...             \n",
       "Q23   [politician, military officer, farmer, cartogr...  ...    [Q327591]\n",
       "Q207  [politician, motivational speaker, autobiograp...  ...     [Q29468]\n",
       "Q368                     [military officer, politician]  ...    [Q327591]\n",
       "\n",
       "[3 rows x 3 columns]"
      ]
     },
     "execution_count": 15,
     "metadata": {},
     "output_type": "execute_result"
    }
   ],
   "source": [
    "# Keep only politicians\n",
    "wikidata_politicians = wikidata.loc[wikidata['occupation'].apply(lambda lst: 'politician' in str(lst))]\n",
    "wikidata_politicians.head(3)"
   ]
  },
  {
   "cell_type": "code",
   "execution_count": null,
   "metadata": {
    "colab": {
     "base_uri": "https://localhost:8080/"
    },
    "id": "5TTyLwSL0tD7",
    "outputId": "5b1257f3-8b3a-4eac-c99e-521c6ff73122"
   },
   "outputs": [
    {
     "data": {
      "text/plain": [
       "(659455, 3)"
      ]
     },
     "execution_count": 17,
     "metadata": {},
     "output_type": "execute_result"
    }
   ],
   "source": [
    "# Total number of politicians\n",
    "wikidata_politicians.shape"
   ]
  },
  {
   "cell_type": "code",
   "execution_count": null,
   "metadata": {
    "id": "D7OGCaxYze0d"
   },
   "outputs": [],
   "source": [
    "# Save table with wikidata politicians\n",
    "wikidata_politicians.to_csv('/content/drive/MyDrive/wikidata_politicians.csv')"
   ]
  },
  {
   "cell_type": "markdown",
   "metadata": {
    "id": "4Ul1g1t82jgf"
   },
   "source": [
    "### Get quotebank politicians (already made, only for 2018, for analysis purpose)"
   ]
  },
  {
   "cell_type": "code",
   "execution_count": null,
   "metadata": {
    "colab": {
     "base_uri": "https://localhost:8080/"
    },
    "id": "_gF9Xdcq4UgO",
    "outputId": "33cc3f5f-0d02-4fd7-925a-90e2a762107c"
   },
   "outputs": [
    {
     "name": "stdout",
     "output_type": "stream",
     "text": [
      "There are 305302 politicians belonging to at least a party in Wikidata !\n"
     ]
    }
   ],
   "source": [
    "# Read dataframe with wikidata politicians\n",
    "wikidata_politicians = pd.read_csv(WIKIDATA_POLITICIANS_PATH).set_index('id')\n",
    "# Keep only the ones belonging to a party\n",
    "wikidata_politicians_in_party = wikidata_politicians.loc[~wikidata_politicians['party'].isna()]\n",
    "print(\"There are {} politicians belonging to at least a party in Wikidata !\".format(wikidata_politicians_in_party.shape[0]))"
   ]
  },
  {
   "cell_type": "code",
   "execution_count": null,
   "metadata": {
    "colab": {
     "base_uri": "https://localhost:8080/"
    },
    "id": "0uyWxMocmevH",
    "outputId": "0bbd280d-0d06-4fd7-b830-083b3a795d41"
   },
   "outputs": [
    {
     "name": "stderr",
     "output_type": "stream",
     "text": [
      "27228451it [1:02:45, 7231.21it/s]\n"
     ]
    }
   ],
   "source": [
    "# Create zipped file for a specific year, with all Quotebank's entries where\n",
    "# the speaker is a politician belonging to at least one party\n",
    "get_politicians_entire_data(YEAR, wikidata_politicians_in_party, proba_threshold=0.6)"
   ]
  },
  {
   "cell_type": "markdown",
   "metadata": {
    "id": "H03dDj51oeXk"
   },
   "source": [
    "### Code"
   ]
  },
  {
   "cell_type": "code",
   "execution_count": 5,
   "metadata": {
    "id": "U0n_VLMBYCPL"
   },
   "outputs": [],
   "source": [
    "# Read the Quotebank data just created\n",
    "quotebank_data = pd.read_json(QUOTES_BY_YEAR[YEAR], lines=True)"
   ]
  },
  {
   "cell_type": "code",
   "execution_count": 6,
   "metadata": {
    "colab": {
     "base_uri": "https://localhost:8080/"
    },
    "id": "8CO3r0GgD7WU",
    "outputId": "1e3e9593-e8d2-4cb6-8ed3-1351fc4d6c75"
   },
   "outputs": [
    {
     "data": {
      "text/plain": [
       "(2527083, 6)"
      ]
     },
     "execution_count": 6,
     "metadata": {},
     "output_type": "execute_result"
    }
   ],
   "source": [
    "quotebank_data.shape"
   ]
  },
  {
   "cell_type": "code",
   "execution_count": 7,
   "metadata": {
    "id": "tM4pc10hqT2H"
   },
   "outputs": [],
   "source": [
    "# Replace nan parties (corresponding to when a politician interrupted his political activity)\n",
    "quotebank_data['party'] = quotebank_data['party'].apply(lambda x: x.replace('nan', '\"no_party\"'))"
   ]
  },
  {
   "cell_type": "code",
   "execution_count": 8,
   "metadata": {
    "id": "T4GBb_0d_LsP"
   },
   "outputs": [],
   "source": [
    "# Get parties list\n",
    "parties_list = quotebank_data['party'].values"
   ]
  },
  {
   "cell_type": "code",
   "execution_count": 9,
   "metadata": {
    "colab": {
     "base_uri": "https://localhost:8080/"
    },
    "id": "Sq2WQB2y_VIh",
    "outputId": "cfe2119d-d4a9-40b5-8d8c-cbd65900fa0f"
   },
   "outputs": [
    {
     "name": "stderr",
     "output_type": "stream",
     "text": [
      "2527083it [00:23, 108171.63it/s]\n"
     ]
    }
   ],
   "source": [
    "# Map a string representing a list, to a list\n",
    "for i, value in tqdm(enumerate(parties_list)):\n",
    "    try:\n",
    "        parties_list[i] = ast.literal_eval(parties_list[i])\n",
    "    except:\n",
    "        print(parties_list[i])"
   ]
  },
  {
   "cell_type": "code",
   "execution_count": 10,
   "metadata": {
    "colab": {
     "base_uri": "https://localhost:8080/"
    },
    "id": "UFXKa_6PoYdA",
    "outputId": "253e5c13-318f-4704-9486-0cbb067e3b80"
   },
   "outputs": [
    {
     "name": "stdout",
     "output_type": "stream",
     "text": [
      "Number of parties in year 2018 is: 2661\n",
      "\n"
     ]
    }
   ],
   "source": [
    "# Number of parties\n",
    "parties_2018 = set(chain.from_iterable(quotebank_data['party'].values))\n",
    "parties_2018.remove('no_party')\n",
    "print(\"Number of parties in year {} is: {}\\n\".format(YEAR, len(parties_2018)))"
   ]
  },
  {
   "cell_type": "code",
   "execution_count": 11,
   "metadata": {
    "colab": {
     "base_uri": "https://localhost:8080/",
     "height": 357
    },
    "id": "lryqEOXNwgdD",
    "outputId": "6a5fb065-195f-4ded-e5d1-576d1edbc515"
   },
   "outputs": [
    {
     "data": {
      "text/html": [
       "<div>\n",
       "<style scoped>\n",
       "    .dataframe tbody tr th:only-of-type {\n",
       "        vertical-align: middle;\n",
       "    }\n",
       "\n",
       "    .dataframe tbody tr th {\n",
       "        vertical-align: top;\n",
       "    }\n",
       "\n",
       "    .dataframe thead th {\n",
       "        text-align: right;\n",
       "    }\n",
       "</style>\n",
       "<table border=\"1\" class=\"dataframe\">\n",
       "  <thead>\n",
       "    <tr style=\"text-align: right;\">\n",
       "      <th></th>\n",
       "      <th>Party</th>\n",
       "      <th>Number of quotes</th>\n",
       "    </tr>\n",
       "  </thead>\n",
       "  <tbody>\n",
       "    <tr>\n",
       "      <th>0</th>\n",
       "      <td>Republican Party</td>\n",
       "      <td>878771</td>\n",
       "    </tr>\n",
       "    <tr>\n",
       "      <th>1</th>\n",
       "      <td>Democratic Party</td>\n",
       "      <td>634535</td>\n",
       "    </tr>\n",
       "    <tr>\n",
       "      <th>2</th>\n",
       "      <td>Bharatiya Janata Party</td>\n",
       "      <td>129360</td>\n",
       "    </tr>\n",
       "    <tr>\n",
       "      <th>3</th>\n",
       "      <td>Independence Party of America</td>\n",
       "      <td>104301</td>\n",
       "    </tr>\n",
       "    <tr>\n",
       "      <th>4</th>\n",
       "      <td>Conservative Party</td>\n",
       "      <td>79051</td>\n",
       "    </tr>\n",
       "    <tr>\n",
       "      <th>5</th>\n",
       "      <td>Indian National Congress</td>\n",
       "      <td>77471</td>\n",
       "    </tr>\n",
       "    <tr>\n",
       "      <th>6</th>\n",
       "      <td>Labour Party</td>\n",
       "      <td>59292</td>\n",
       "    </tr>\n",
       "    <tr>\n",
       "      <th>7</th>\n",
       "      <td>independent politician</td>\n",
       "      <td>55590</td>\n",
       "    </tr>\n",
       "    <tr>\n",
       "      <th>8</th>\n",
       "      <td>Liberal Party of Australia</td>\n",
       "      <td>39614</td>\n",
       "    </tr>\n",
       "    <tr>\n",
       "      <th>9</th>\n",
       "      <td>Australian Labor Party</td>\n",
       "      <td>32379</td>\n",
       "    </tr>\n",
       "  </tbody>\n",
       "</table>\n",
       "</div>"
      ],
      "text/plain": [
       "                           Party  Number of quotes\n",
       "0               Republican Party            878771\n",
       "1               Democratic Party            634535\n",
       "2         Bharatiya Janata Party            129360\n",
       "3  Independence Party of America            104301\n",
       "4             Conservative Party             79051\n",
       "5       Indian National Congress             77471\n",
       "6                   Labour Party             59292\n",
       "7         independent politician             55590\n",
       "8     Liberal Party of Australia             39614\n",
       "9         Australian Labor Party             32379"
      ]
     },
     "execution_count": 11,
     "metadata": {},
     "output_type": "execute_result"
    }
   ],
   "source": [
    "# Parties with the most quotes (note that each quote may belong to multiple parties,\n",
    "# as there are speakers belonging to multiple parties over time)\n",
    "parties_quotes_nr = Counter(chain.from_iterable(quotebank_data['party'].values))\n",
    "sorted_parties_quotes_nr = list(sorted(parties_quotes_nr.items(), key=lambda x: x[1], reverse=True))\n",
    "df_sorted_parties_quotes_nr = pd.DataFrame(sorted_parties_quotes_nr, columns=['Party', 'Number of quotes'])\n",
    "df_sorted_parties_quotes_nr.head(10)"
   ]
  },
  {
   "cell_type": "code",
   "execution_count": 12,
   "metadata": {
    "colab": {
     "base_uri": "https://localhost:8080/",
     "height": 357
    },
    "id": "PIUE0Alzrqtj",
    "outputId": "3b7122a5-bea9-404e-ac49-3e854966969f"
   },
   "outputs": [
    {
     "data": {
      "text/html": [
       "<div>\n",
       "<style scoped>\n",
       "    .dataframe tbody tr th:only-of-type {\n",
       "        vertical-align: middle;\n",
       "    }\n",
       "\n",
       "    .dataframe tbody tr th {\n",
       "        vertical-align: top;\n",
       "    }\n",
       "\n",
       "    .dataframe thead th {\n",
       "        text-align: right;\n",
       "    }\n",
       "</style>\n",
       "<table border=\"1\" class=\"dataframe\">\n",
       "  <thead>\n",
       "    <tr style=\"text-align: right;\">\n",
       "      <th></th>\n",
       "      <th>speaker</th>\n",
       "      <th>number of quotes</th>\n",
       "    </tr>\n",
       "  </thead>\n",
       "  <tbody>\n",
       "    <tr>\n",
       "      <th>0</th>\n",
       "      <td>President Donald Trump</td>\n",
       "      <td>68982</td>\n",
       "    </tr>\n",
       "    <tr>\n",
       "      <th>1</th>\n",
       "      <td>President Trump</td>\n",
       "      <td>32700</td>\n",
       "    </tr>\n",
       "    <tr>\n",
       "      <th>2</th>\n",
       "      <td>Narendra Modi</td>\n",
       "      <td>26131</td>\n",
       "    </tr>\n",
       "    <tr>\n",
       "      <th>3</th>\n",
       "      <td>Rahul Gandhi</td>\n",
       "      <td>14228</td>\n",
       "    </tr>\n",
       "    <tr>\n",
       "      <th>4</th>\n",
       "      <td>Benjamin Netanyahu</td>\n",
       "      <td>12681</td>\n",
       "    </tr>\n",
       "    <tr>\n",
       "      <th>5</th>\n",
       "      <td>Mike Pompeo</td>\n",
       "      <td>12403</td>\n",
       "    </tr>\n",
       "    <tr>\n",
       "      <th>6</th>\n",
       "      <td>Harry Roque</td>\n",
       "      <td>12045</td>\n",
       "    </tr>\n",
       "    <tr>\n",
       "      <th>7</th>\n",
       "      <td>Rodrigo Duterte</td>\n",
       "      <td>11564</td>\n",
       "    </tr>\n",
       "    <tr>\n",
       "      <th>8</th>\n",
       "      <td>Vladimir Putin</td>\n",
       "      <td>11242</td>\n",
       "    </tr>\n",
       "    <tr>\n",
       "      <th>9</th>\n",
       "      <td>Arun Jaitley</td>\n",
       "      <td>8907</td>\n",
       "    </tr>\n",
       "  </tbody>\n",
       "</table>\n",
       "</div>"
      ],
      "text/plain": [
       "                  speaker  number of quotes\n",
       "0  President Donald Trump             68982\n",
       "1         President Trump             32700\n",
       "2           Narendra Modi             26131\n",
       "3            Rahul Gandhi             14228\n",
       "4      Benjamin Netanyahu             12681\n",
       "5             Mike Pompeo             12403\n",
       "6             Harry Roque             12045\n",
       "7         Rodrigo Duterte             11564\n",
       "8          Vladimir Putin             11242\n",
       "9            Arun Jaitley              8907"
      ]
     },
     "execution_count": 12,
     "metadata": {},
     "output_type": "execute_result"
    }
   ],
   "source": [
    "# Number of quotes by politician (20 most influential)\n",
    "quotes_by_politician = quotebank_data.groupby('speaker')['quotation'].count()\n",
    "quotes_by_politician = quotes_by_politician.sort_values(ascending=False)\n",
    "df_quotes_by_politician = pd.DataFrame(quotes_by_politician).reset_index().rename(columns={\"quotation\": \"number of quotes\"})\n",
    "df_quotes_by_politician.head(10)"
   ]
  },
  {
   "cell_type": "code",
   "execution_count": 13,
   "metadata": {
    "colab": {
     "base_uri": "https://localhost:8080/",
     "height": 374
    },
    "id": "umfPJ779nRn3",
    "outputId": "91ea27a8-3c23-4915-d1b9-0053e524deae"
   },
   "outputs": [
    {
     "name": "stderr",
     "output_type": "stream",
     "text": [
      "100%|██████████| 36739/36739 [00:00<00:00, 1280099.48it/s]\n"
     ]
    },
    {
     "data": {
      "text/html": [
       "<div>\n",
       "<style scoped>\n",
       "    .dataframe tbody tr th:only-of-type {\n",
       "        vertical-align: middle;\n",
       "    }\n",
       "\n",
       "    .dataframe tbody tr th {\n",
       "        vertical-align: top;\n",
       "    }\n",
       "\n",
       "    .dataframe thead th {\n",
       "        text-align: right;\n",
       "    }\n",
       "</style>\n",
       "<table border=\"1\" class=\"dataframe\">\n",
       "  <thead>\n",
       "    <tr style=\"text-align: right;\">\n",
       "      <th></th>\n",
       "      <th>Party</th>\n",
       "      <th>Members</th>\n",
       "    </tr>\n",
       "  </thead>\n",
       "  <tbody>\n",
       "    <tr>\n",
       "      <th>0</th>\n",
       "      <td>Democratic Party</td>\n",
       "      <td>6563</td>\n",
       "    </tr>\n",
       "    <tr>\n",
       "      <th>1</th>\n",
       "      <td>Republican Party</td>\n",
       "      <td>6180</td>\n",
       "    </tr>\n",
       "    <tr>\n",
       "      <th>2</th>\n",
       "      <td>Bharatiya Janata Party</td>\n",
       "      <td>995</td>\n",
       "    </tr>\n",
       "    <tr>\n",
       "      <th>3</th>\n",
       "      <td>Labour Party</td>\n",
       "      <td>937</td>\n",
       "    </tr>\n",
       "    <tr>\n",
       "      <th>4</th>\n",
       "      <td>Indian National Congress</td>\n",
       "      <td>814</td>\n",
       "    </tr>\n",
       "    <tr>\n",
       "      <th>5</th>\n",
       "      <td>Conservative Party</td>\n",
       "      <td>689</td>\n",
       "    </tr>\n",
       "    <tr>\n",
       "      <th>6</th>\n",
       "      <td>independent politician</td>\n",
       "      <td>521</td>\n",
       "    </tr>\n",
       "    <tr>\n",
       "      <th>7</th>\n",
       "      <td>Australian Labor Party</td>\n",
       "      <td>498</td>\n",
       "    </tr>\n",
       "    <tr>\n",
       "      <th>8</th>\n",
       "      <td>Liberal Party of Canada</td>\n",
       "      <td>385</td>\n",
       "    </tr>\n",
       "    <tr>\n",
       "      <th>9</th>\n",
       "      <td>Christian Democratic Union</td>\n",
       "      <td>341</td>\n",
       "    </tr>\n",
       "  </tbody>\n",
       "</table>\n",
       "</div>"
      ],
      "text/plain": [
       "                        Party  Members\n",
       "0            Democratic Party     6563\n",
       "1            Republican Party     6180\n",
       "2      Bharatiya Janata Party      995\n",
       "3                Labour Party      937\n",
       "4    Indian National Congress      814\n",
       "5          Conservative Party      689\n",
       "6      independent politician      521\n",
       "7      Australian Labor Party      498\n",
       "8     Liberal Party of Canada      385\n",
       "9  Christian Democratic Union      341"
      ]
     },
     "execution_count": 13,
     "metadata": {},
     "output_type": "execute_result"
    }
   ],
   "source": [
    "# Number of speakers belonging to each party, if politician belonged to multiple\n",
    "# parties, count him in each of them\n",
    "\n",
    "speakers_parties = quotebank_data.drop_duplicates(subset=['speaker'])['party']\n",
    "\n",
    "party_members = defaultdict(lambda: 0)\n",
    "speakers_parties = speakers_parties.values\n",
    "\n",
    "for parties in tqdm(speakers_parties):\n",
    "    for p in parties:\n",
    "        party_members[p] += 1\n",
    "\n",
    "party_members = list(party_members.items())\n",
    "party_members = sorted(party_members, key=lambda x: x[1], reverse=True)\n",
    "df_party_members = pd.DataFrame(party_members, columns=['Party', 'Members'])\n",
    "df_party_members.head(10)"
   ]
  },
  {
   "cell_type": "markdown",
   "metadata": {
    "id": "PKMRYKiGrAOR"
   },
   "source": [
    "#### Analysis when a single party per person is kept"
   ]
  },
  {
   "cell_type": "markdown",
   "metadata": {
    "id": "vD2YzAYd6jqh"
   },
   "source": [
    "The logic is the following: \n",
    "* If a speaker belonged to only one political party throughout his life, consider that party as the correct one, regardless of the quotation date.\n",
    "*   If a speaker belonged to multiple parties:\n",
    "    - Take the party whose (start_time, end_time) interval contains the quotation date. If a party of a speaker has a start_time, but not and end_time, consider the end_time == current_time. If a speaker has 2 parties with a start_time and no end_time, it means he belongs to multiple parties, therefore, take only the last one.\n",
    "\n",
    "\n"
   ]
  },
  {
   "cell_type": "code",
   "execution_count": 19,
   "metadata": {
    "colab": {
     "base_uri": "https://localhost:8080/",
     "height": 588
    },
    "id": "Zqab4OFOrOYP",
    "outputId": "d0e8f882-e79f-4563-d955-0c07c4a3da26"
   },
   "outputs": [
    {
     "name": "stderr",
     "output_type": "stream",
     "text": [
      "0it [00:00, ?it/s]/home/albion/.local/lib/python3.8/site-packages/pandas/core/series.py:1056: SettingWithCopyWarning: \n",
      "A value is trying to be set on a copy of a slice from a DataFrame\n",
      "\n",
      "See the caveats in the documentation: https://pandas.pydata.org/pandas-docs/stable/user_guide/indexing.html#returning-a-view-versus-a-copy\n",
      "  cacher_needs_updating = self._check_is_chained_assignment_possible()\n",
      "7it [00:03,  2.22it/s]\n",
      "/home/albion/anaconda3/lib/python3.8/site-packages/numpy/core/_asarray.py:102: VisibleDeprecationWarning: Creating an ndarray from ragged nested sequences (which is a list-or-tuple of lists-or-tuples-or ndarrays with different lengths or shapes) is deprecated. If you meant to do this, you must specify 'dtype=object' when creating the ndarray.\n",
      "  return array(a, dtype, copy=False, order=order)\n"
     ]
    },
    {
     "data": {
      "text/html": [
       "<div>\n",
       "<style scoped>\n",
       "    .dataframe tbody tr th:only-of-type {\n",
       "        vertical-align: middle;\n",
       "    }\n",
       "\n",
       "    .dataframe tbody tr th {\n",
       "        vertical-align: top;\n",
       "    }\n",
       "\n",
       "    .dataframe thead th {\n",
       "        text-align: right;\n",
       "    }\n",
       "</style>\n",
       "<table border=\"1\" class=\"dataframe\">\n",
       "  <thead>\n",
       "    <tr style=\"text-align: right;\">\n",
       "      <th></th>\n",
       "      <th>party</th>\n",
       "      <th>qid</th>\n",
       "    </tr>\n",
       "  </thead>\n",
       "  <tbody>\n",
       "    <tr>\n",
       "      <th>0</th>\n",
       "      <td>[[Q3240730, 2008-07-01 00:00:00, 2020-05-01 00...</td>\n",
       "      <td>0</td>\n",
       "    </tr>\n",
       "    <tr>\n",
       "      <th>1</th>\n",
       "      <td>[[Q29468, 2008-07-01 00:00:00, 2020-05-01 00:0...</td>\n",
       "      <td>0</td>\n",
       "    </tr>\n",
       "    <tr>\n",
       "      <th>2</th>\n",
       "      <td>[[Q29468, 2008-07-01 00:00:00, 2020-05-01 00:0...</td>\n",
       "      <td>0</td>\n",
       "    </tr>\n",
       "    <tr>\n",
       "      <th>3</th>\n",
       "      <td>[[Q24708, 2008-07-01 00:00:00, 2020-05-01 00:0...</td>\n",
       "      <td>0</td>\n",
       "    </tr>\n",
       "    <tr>\n",
       "      <th>4</th>\n",
       "      <td>[[Q29552, 2008-07-01 00:00:00, 2020-05-01 00:0...</td>\n",
       "      <td>0</td>\n",
       "    </tr>\n",
       "    <tr>\n",
       "      <th>...</th>\n",
       "      <td>...</td>\n",
       "      <td>...</td>\n",
       "    </tr>\n",
       "    <tr>\n",
       "      <th>32963</th>\n",
       "      <td>0</td>\n",
       "      <td>0</td>\n",
       "    </tr>\n",
       "    <tr>\n",
       "      <th>32964</th>\n",
       "      <td>0</td>\n",
       "      <td>0</td>\n",
       "    </tr>\n",
       "    <tr>\n",
       "      <th>32965</th>\n",
       "      <td>0</td>\n",
       "      <td>0</td>\n",
       "    </tr>\n",
       "    <tr>\n",
       "      <th>32966</th>\n",
       "      <td>0</td>\n",
       "      <td>0</td>\n",
       "    </tr>\n",
       "    <tr>\n",
       "      <th>32967</th>\n",
       "      <td>0</td>\n",
       "      <td>0</td>\n",
       "    </tr>\n",
       "  </tbody>\n",
       "</table>\n",
       "<p>32968 rows × 2 columns</p>\n",
       "</div>"
      ],
      "text/plain": [
       "                                                   party  qid\n",
       "0      [[Q3240730, 2008-07-01 00:00:00, 2020-05-01 00...    0\n",
       "1      [[Q29468, 2008-07-01 00:00:00, 2020-05-01 00:0...    0\n",
       "2      [[Q29468, 2008-07-01 00:00:00, 2020-05-01 00:0...    0\n",
       "3      [[Q24708, 2008-07-01 00:00:00, 2020-05-01 00:0...    0\n",
       "4      [[Q29552, 2008-07-01 00:00:00, 2020-05-01 00:0...    0\n",
       "...                                                  ...  ...\n",
       "32963                                                  0    0\n",
       "32964                                                  0    0\n",
       "32965                                                  0    0\n",
       "32966                                                  0    0\n",
       "32967                                                  0    0\n",
       "\n",
       "[32968 rows x 2 columns]"
      ]
     },
     "execution_count": 19,
     "metadata": {},
     "output_type": "execute_result"
    }
   ],
   "source": [
    "# Get party membership intervals for each speaker and save dataframe\n",
    "quotebank_qids = quotebank_data['qids'].unique()\n",
    "\n",
    "map_speaker_to_party(quotebank_qids)\n",
    "# TODO: Check this\n"
   ]
  },
  {
   "cell_type": "markdown",
   "metadata": {
    "id": "xjn5d946aUnc"
   },
   "source": [
    "## BERT"
   ]
  },
  {
   "cell_type": "code",
   "execution_count": 20,
   "metadata": {
    "colab": {
     "base_uri": "https://localhost:8080/",
     "height": 450,
     "referenced_widgets": [
      "f4b7ede107b54eeb846a48ab43337be0",
      "2a82cb6b46b946af9dbb30ce1de02275",
      "845c3fe5eced4fcca39c33c11ea9a670",
      "ebdaccc2b6f8438e902ac4b24d14c9e9",
      "848e820e5cad4a3e8c5eebcafd1839ed",
      "21a3c64147af4053a83bb31dafbdd983",
      "48204dad5b974856a1140b3f2eaa9bf4",
      "741ad35442a340f68f9442a6bedb5fcd",
      "b330cf42aa9b4001975a3f1ae9c364a0",
      "7104294b11a941b8b48aa8c2c37f7e20",
      "3a56214cb3f54a50ac94b89ca5f80886",
      "8521d1078fce4a20b3d336e5bb05afc1",
      "ebc42306c0744651a247708388d42392",
      "4f1e8bf752bf413e9301778a01ef241f",
      "5cae63dbaefb416dbb66960680a63cfe",
      "5a56d210a2d64d96995638b6cf7ef79d",
      "1384e74f87044d78ad69c3ce4fb6bdbe",
      "7ff7cb053f3b44988e66877c82423b47",
      "5421d95e78b64428b6c9a759ba33d17d",
      "3e46da9b7ee24df2be2b81e4667df9b1",
      "a4381e08ad9f40f889c654942eb090bb",
      "7ace6c9297174dc38601467f2ff8b666",
      "4d85008c1b004b72bfc31cb84a303cba",
      "a3d18cbd99894a16b62b491ac3f2198f",
      "c9a9a2fd523b43098037fbc81ad79790",
      "bff8b57e4d2e4ff1b7579fc0cff1e31f",
      "23c8ffbaed854dadb0eab5747d0a77a4",
      "304eed9799934ce58d7db27d52ce0350",
      "134192f0c6244daeae927178643f107a",
      "982deb4cbe7a4765bb008ce64ceeafa1",
      "a2cece04ad254fde8dbf35ad4c06ecf5",
      "9e005fe258944b1c9db9c0a826c75203",
      "7d6cca0d62df417d9b9ac7c11e4eb01e",
      "265c3c2cedce42f1a9b9289bf0a3ac44",
      "320b4dc5381843608f38f5181c0528d4",
      "ec0a8a31a6ef4b8dbb7569d99c6e07b1",
      "1bb0cbf842394802b49ea9d1b1053b41",
      "646423b796b54a6e8661c8983bbdf7b7",
      "5f5472cf66ed44fda3ff159bd931ab83",
      "bc6e44a7a00e4273b22878ccef609f6e",
      "684681294323425fb57662a79e368cdc",
      "3aba8af0ffbe47bdab699d13e872d5dd",
      "d3d862c841724e4cb72fdc00d12b6b3b",
      "fe684788f7124f95a58850c2df3811d2",
      "8f424fe71e7342208b387729462a4409",
      "c1b26a46625d4db0905d9942cb3cef34",
      "5f976f4c6a254cd3b7388fa91601bc81",
      "4556f66f53ce4cca93aae48c9121045f",
      "476486ae55264cab8c66ebf647132d18",
      "fa3274cfcd154f6b8ffd07bb6e418570",
      "3b0de08ac83446b4bbed8457b9878941",
      "083f754f2b724757ac3640dba75d919d",
      "7974992a342f44a6aa6c2abd49125494",
      "8b2d368f95c646c98907ce11764bb65a",
      "933a91c23b3747d58baf568461220d80",
      "bd9d04ea0f3a43b8bbe9a21a2c0f2e0c",
      "f10c313217474d068990fac0df9d4f61",
      "078a9866c2ca48d9b41671d911777bd3",
      "d9c6915fedfa4d5d962999d97b2e3f3f",
      "d2d6b5c6a3a841d7ab78cd0f296cfdda",
      "aaf3c02fae094f1680d08bfd7f39dd9e",
      "1433d8b96f5a4f7c9028ceda9de65cbd",
      "da9e8b6d742b4cb38557ed6b9507492b",
      "c807a921ea994314a655e8360baed1db",
      "818312cee8904be78aba1635e04846f1",
      "d14d00435e104a00bb6a0763a6b3f2c4",
      "28cb3000b84a4f4499226caf198953b9",
      "43b783c4758b43358ad6c37031c9f290",
      "a736dc0751b04fab8aa4f904a43a4d49",
      "7eeff6c749734e5ea853ec78d3e21018",
      "a27eb21790734f0fa2264e10348d953e",
      "524c5eeb08044e1bafd813431aeef92a",
      "f5b807b9384f41d9a4bbee4cde273be5",
      "c4712fcf0faf454b9f6bfdd38757dc11",
      "8a7d0591f0b44b82bdbb769c6f8cf05d",
      "63cf1f5e854a4a70897c60b98fab2f32",
      "4e77994a15b74c1397e97e085dce8275",
      "4e70e363696542199672264c705315bf",
      "6213f53d2f5d44d0a320e6e1a26408f4",
      "b9a610b8238b42e793bc2f1e736f9210",
      "567b08f8c8e64c3d9ec5aaec8c85ad79",
      "1f379f56a7f1467eafc13fe7b9def385",
      "1f1bc80b1f514176982e3fa9e1b82d0e",
      "e00fe957e780492c9e7577b4a1a37044",
      "8d4ab004d3b64099a3b76611d39f74a8",
      "ca11e2d708c9404db4b563e9d4a91774",
      "6f81f3059099402494eac515d9544f76",
      "d7708494ca3d4dcf9ce1f684a74fbaab",
      "65c4e46b273f45dda26494b3e3fc5a7d",
      "03cd3f15aeea4d26ba970e302babe228",
      "daf08b292b3249ac9bde544b65def8ad",
      "78350fa26e0245c980cd8870bcebbd2c",
      "b6d7e0ca79ad4c2dac2842595b05e960",
      "a674bbdd9c76490db3a9ab34877ac6a1",
      "51ca1792e75f40a1a1d52a094ae050d7",
      "fa29d186c2ac40668ca60968f0a9273f",
      "3ee9e4b501d9429fba3e3e43819d109d",
      "7ed05b43472c4a5e935fb2a403c2d8dc",
      "539d69013b8441cdab196a24532f4557",
      "aff0708c1be142289b1b8124e30e2912",
      "6b9824b2e0ac4adf97fb13e73951caa2",
      "4cbc0d4cfa27476c95207142ac158e8c",
      "802eeb7802f14e62beaacb9697d5eb4e",
      "3e39897606124f789961ffa6a40e2197",
      "10a36c82048544398be3e876ea15f131",
      "dc60edaac8f5470590b75651dc66689e",
      "8156e47d9ae9437b9bab5973f8ccb03b",
      "e59385be54064f5386b72ee3bf1292f6",
      "9f1eeed143e049dda2c347eba345f938",
      "56bdf62bb3814a88961959742c3fa49c",
      "dfea33f4bfb84d3db28dc109831786f0",
      "004cef59800f40368faeda4521aaea81",
      "d564f52d051646c782cb2b447e4037fb",
      "a7c4b76d6a3849cdb64086ba469949cf",
      "b10b66904b724fc9b0ea6d51bebf65e1",
      "4642fb964a154b908ff325ca4cc66577",
      "3bc2b6bb88124be891f25857e6c589b7",
      "1615b56f9435454fbf2906235a61db0c",
      "f6ec23bb9e274900883d41e7ba4a6bcf",
      "a745cad5205b410d97a4982d9a04e68f",
      "5c3a4b491d8a445282bf043a932fec41",
      "688087fdce5145e197f07fa686e2f2d3",
      "96bff95345564072b876471486fca7e5",
      "1cf08a4192c049dc95df982bc75e0300",
      "619491dc39f449fcb03663a2e3cffcea",
      "95c47eee072441818cf09920f699342d",
      "e40e79a50b404db5ac10db700e9104be",
      "765f1a283ecc46fe9d5d3ca798a1ae6c",
      "373581d0b036412a93e27f2bffa972c8",
      "bb288f2cc846455eb3c9debffb4cfd0f",
      "58b1ecb7d66043038397c5447199d67e",
      "15c0b17e98914f58bc43af9a4f58bb02",
      "2eb54dae2621413e8f52000063524a58",
      "2afc919f3d8c4e49b6664bf706d9d16a",
      "da15777db0f04cb7aa3290395c61e9ae",
      "187882e250a74c0689b089269d4d6f53",
      "b15e82c0dee74a0d8b3b75e0d6a31867",
      "4be147597e0b4daebcfc11b40c4dbe1d",
      "67cc1b5ce4c24e4c9a342615643ef890",
      "bc2755e728f8488c9a3a0bec8af92d50",
      "fcdd20c46a344e9fb1213258cd56cab5",
      "bc20911214e5427081c8ad315d19ecee",
      "7eeb49957f7d4313a8219f4011665c39"
     ]
    },
    "id": "wW893RJ6aX7W",
    "outputId": "b6f1c268-8c55-4f6a-c034-5408ceeab084"
   },
   "outputs": [
    {
     "data": {
      "application/vnd.jupyter.widget-view+json": {
       "model_id": "074e91f3045d47d9a8a38a27783b9580",
       "version_major": 2,
       "version_minor": 0
      },
      "text/plain": [
       "Downloading:   0%|          | 0.00/391 [00:00<?, ?B/s]"
      ]
     },
     "metadata": {},
     "output_type": "display_data"
    },
    {
     "data": {
      "application/vnd.jupyter.widget-view+json": {
       "model_id": "f26532f8918c402ba851edaaf2a53c1f",
       "version_major": 2,
       "version_minor": 0
      },
      "text/plain": [
       "Downloading:   0%|          | 0.00/3.95k [00:00<?, ?B/s]"
      ]
     },
     "metadata": {},
     "output_type": "display_data"
    },
    {
     "data": {
      "application/vnd.jupyter.widget-view+json": {
       "model_id": "e7b50914659f46c2b33484f358391595",
       "version_major": 2,
       "version_minor": 0
      },
      "text/plain": [
       "Downloading:   0%|          | 0.00/2.00 [00:00<?, ?B/s]"
      ]
     },
     "metadata": {},
     "output_type": "display_data"
    },
    {
     "data": {
      "application/vnd.jupyter.widget-view+json": {
       "model_id": "3121fb3e7b88427a99f1bdee16a16d0d",
       "version_major": 2,
       "version_minor": 0
      },
      "text/plain": [
       "Downloading:   0%|          | 0.00/625 [00:00<?, ?B/s]"
      ]
     },
     "metadata": {},
     "output_type": "display_data"
    },
    {
     "data": {
      "application/vnd.jupyter.widget-view+json": {
       "model_id": "0df309d299734fa785304288e15cbe00",
       "version_major": 2,
       "version_minor": 0
      },
      "text/plain": [
       "Downloading:   0%|          | 0.00/122 [00:00<?, ?B/s]"
      ]
     },
     "metadata": {},
     "output_type": "display_data"
    },
    {
     "data": {
      "application/vnd.jupyter.widget-view+json": {
       "model_id": "f436540db51041d6974ff2f95203e15a",
       "version_major": 2,
       "version_minor": 0
      },
      "text/plain": [
       "Downloading:   0%|          | 0.00/229 [00:00<?, ?B/s]"
      ]
     },
     "metadata": {},
     "output_type": "display_data"
    },
    {
     "data": {
      "application/vnd.jupyter.widget-view+json": {
       "model_id": "d65496275d244cfabbcf373a2b233224",
       "version_major": 2,
       "version_minor": 0
      },
      "text/plain": [
       "Downloading:   0%|          | 0.00/438M [00:00<?, ?B/s]"
      ]
     },
     "metadata": {},
     "output_type": "display_data"
    },
    {
     "data": {
      "application/vnd.jupyter.widget-view+json": {
       "model_id": "6ccae99526844dc7864ccbce3b6522ec",
       "version_major": 2,
       "version_minor": 0
      },
      "text/plain": [
       "Downloading:   0%|          | 0.00/53.0 [00:00<?, ?B/s]"
      ]
     },
     "metadata": {},
     "output_type": "display_data"
    },
    {
     "data": {
      "application/vnd.jupyter.widget-view+json": {
       "model_id": "aed772dd6b3247859c89b1574c9fa707",
       "version_major": 2,
       "version_minor": 0
      },
      "text/plain": [
       "Downloading:   0%|          | 0.00/112 [00:00<?, ?B/s]"
      ]
     },
     "metadata": {},
     "output_type": "display_data"
    },
    {
     "data": {
      "application/vnd.jupyter.widget-view+json": {
       "model_id": "6aa4894157bb415285a4ba27752efb63",
       "version_major": 2,
       "version_minor": 0
      },
      "text/plain": [
       "Downloading:   0%|          | 0.00/466k [00:00<?, ?B/s]"
      ]
     },
     "metadata": {},
     "output_type": "display_data"
    },
    {
     "data": {
      "application/vnd.jupyter.widget-view+json": {
       "model_id": "bbc3db7b5b68425c961dce2a75919aed",
       "version_major": 2,
       "version_minor": 0
      },
      "text/plain": [
       "Downloading:   0%|          | 0.00/399 [00:00<?, ?B/s]"
      ]
     },
     "metadata": {},
     "output_type": "display_data"
    },
    {
     "data": {
      "application/vnd.jupyter.widget-view+json": {
       "model_id": "224933844b7d41dc92d1e2f1e17e921c",
       "version_major": 2,
       "version_minor": 0
      },
      "text/plain": [
       "Downloading:   0%|          | 0.00/232k [00:00<?, ?B/s]"
      ]
     },
     "metadata": {},
     "output_type": "display_data"
    },
    {
     "data": {
      "application/vnd.jupyter.widget-view+json": {
       "model_id": "05f2c3e65e9448b98549defc03cf6275",
       "version_major": 2,
       "version_minor": 0
      },
      "text/plain": [
       "Downloading:   0%|          | 0.00/190 [00:00<?, ?B/s]"
      ]
     },
     "metadata": {},
     "output_type": "display_data"
    },
    {
     "name": "stdout",
     "output_type": "stream",
     "text": [
      "cuda\n"
     ]
    }
   ],
   "source": [
    "# Check cuda runtime and set model\n",
    "device = torch.device(\"cuda\" if torch.cuda.is_available() else \"cpu\")\n",
    "model = SentenceTransformer('bert-base-nli-mean-tokens')\n",
    "print(device)"
   ]
  },
  {
   "cell_type": "code",
   "execution_count": 31,
   "metadata": {
    "id": "KcipuJmjYj-G"
   },
   "outputs": [],
   "source": [
    "# Get a subset of quotebank\n",
    "quotebank_subset = quotebank_data[:2500]"
   ]
  },
  {
   "cell_type": "code",
   "execution_count": 32,
   "metadata": {},
   "outputs": [
    {
     "data": {
      "text/html": [
       "<div>\n",
       "<style scoped>\n",
       "    .dataframe tbody tr th:only-of-type {\n",
       "        vertical-align: middle;\n",
       "    }\n",
       "\n",
       "    .dataframe tbody tr th {\n",
       "        vertical-align: top;\n",
       "    }\n",
       "\n",
       "    .dataframe thead th {\n",
       "        text-align: right;\n",
       "    }\n",
       "</style>\n",
       "<table border=\"1\" class=\"dataframe\">\n",
       "  <thead>\n",
       "    <tr style=\"text-align: right;\">\n",
       "      <th></th>\n",
       "      <th>quoteID</th>\n",
       "      <th>quotation</th>\n",
       "      <th>speaker</th>\n",
       "      <th>qids</th>\n",
       "      <th>party</th>\n",
       "      <th>party_qcodes</th>\n",
       "    </tr>\n",
       "  </thead>\n",
       "  <tbody>\n",
       "    <tr>\n",
       "      <th>0</th>\n",
       "      <td>2018-12-10-000224</td>\n",
       "      <td>[ It is ] hard for me to understand why the co...</td>\n",
       "      <td>Bong Revilla</td>\n",
       "      <td>Q919045</td>\n",
       "      <td>[Lakas Kampi CMD]</td>\n",
       "      <td>['Q3240730']</td>\n",
       "    </tr>\n",
       "    <tr>\n",
       "      <th>1</th>\n",
       "      <td>2018-01-25-000523</td>\n",
       "      <td>[ the former HHS secretary ] has said he has h...</td>\n",
       "      <td>Bill Flores</td>\n",
       "      <td>Q862103</td>\n",
       "      <td>[Republican Party]</td>\n",
       "      <td>['Q29468']</td>\n",
       "    </tr>\n",
       "    <tr>\n",
       "      <th>2</th>\n",
       "      <td>2018-05-07-000752</td>\n",
       "      <td>25 years later, he was finally located in his ...</td>\n",
       "      <td>Sarah Huckabee Sanders</td>\n",
       "      <td>Q27986907</td>\n",
       "      <td>[Republican Party]</td>\n",
       "      <td>['Q29468']</td>\n",
       "    </tr>\n",
       "    <tr>\n",
       "      <th>3</th>\n",
       "      <td>2018-03-16-001067</td>\n",
       "      <td>3D printing enables... critically important te...</td>\n",
       "      <td>Peter O'Neill</td>\n",
       "      <td>Q57892</td>\n",
       "      <td>[People's National Congress Party]</td>\n",
       "      <td>['Q24708']</td>\n",
       "    </tr>\n",
       "    <tr>\n",
       "      <th>4</th>\n",
       "      <td>2018-03-31-000507</td>\n",
       "      <td>50-percent of everyone in the U.S. lives in ar...</td>\n",
       "      <td>Xavier Becerra</td>\n",
       "      <td>Q1855840</td>\n",
       "      <td>[Democratic Party]</td>\n",
       "      <td>['Q29552']</td>\n",
       "    </tr>\n",
       "    <tr>\n",
       "      <th>...</th>\n",
       "      <td>...</td>\n",
       "      <td>...</td>\n",
       "      <td>...</td>\n",
       "      <td>...</td>\n",
       "      <td>...</td>\n",
       "      <td>...</td>\n",
       "    </tr>\n",
       "    <tr>\n",
       "      <th>2495</th>\n",
       "      <td>2018-09-18-008583</td>\n",
       "      <td>As far as I am concerned, I will help not only...</td>\n",
       "      <td>Chavit Singson</td>\n",
       "      <td>Q2399446</td>\n",
       "      <td>[Nacionalista Party]</td>\n",
       "      <td>['Q302210']</td>\n",
       "    </tr>\n",
       "    <tr>\n",
       "      <th>2496</th>\n",
       "      <td>2018-07-25-008306</td>\n",
       "      <td>As governor, we will have a transparent, inclu...</td>\n",
       "      <td>Tim Walz</td>\n",
       "      <td>Q2434360</td>\n",
       "      <td>[Minnesota Democratic–Farmer–Labor Party, Demo...</td>\n",
       "      <td>['Q1937395' 'Q29552']</td>\n",
       "    </tr>\n",
       "    <tr>\n",
       "      <th>2497</th>\n",
       "      <td>2018-04-13-009721</td>\n",
       "      <td>As he extended his hand, I made a mental note ...</td>\n",
       "      <td>James Comey</td>\n",
       "      <td>Q167607</td>\n",
       "      <td>[Republican Party]</td>\n",
       "      <td>['Q29468']</td>\n",
       "    </tr>\n",
       "    <tr>\n",
       "      <th>2498</th>\n",
       "      <td>2018-07-11-007712</td>\n",
       "      <td>As I said in my first appearance at the CCT, t...</td>\n",
       "      <td>Bukola Saraki</td>\n",
       "      <td>Q4986999</td>\n",
       "      <td>[Peoples Democratic Party]</td>\n",
       "      <td>['Q1551163']</td>\n",
       "    </tr>\n",
       "    <tr>\n",
       "      <th>2499</th>\n",
       "      <td>2018-07-16-007442</td>\n",
       "      <td>As I talked to some of the people that know hi...</td>\n",
       "      <td>John Engler</td>\n",
       "      <td>Q735182</td>\n",
       "      <td>[Republican Party]</td>\n",
       "      <td>['Q29468']</td>\n",
       "    </tr>\n",
       "  </tbody>\n",
       "</table>\n",
       "<p>2500 rows × 6 columns</p>\n",
       "</div>"
      ],
      "text/plain": [
       "                quoteID                                          quotation  \\\n",
       "0     2018-12-10-000224  [ It is ] hard for me to understand why the co...   \n",
       "1     2018-01-25-000523  [ the former HHS secretary ] has said he has h...   \n",
       "2     2018-05-07-000752  25 years later, he was finally located in his ...   \n",
       "3     2018-03-16-001067  3D printing enables... critically important te...   \n",
       "4     2018-03-31-000507  50-percent of everyone in the U.S. lives in ar...   \n",
       "...                 ...                                                ...   \n",
       "2495  2018-09-18-008583  As far as I am concerned, I will help not only...   \n",
       "2496  2018-07-25-008306  As governor, we will have a transparent, inclu...   \n",
       "2497  2018-04-13-009721  As he extended his hand, I made a mental note ...   \n",
       "2498  2018-07-11-007712  As I said in my first appearance at the CCT, t...   \n",
       "2499  2018-07-16-007442  As I talked to some of the people that know hi...   \n",
       "\n",
       "                     speaker       qids  \\\n",
       "0               Bong Revilla    Q919045   \n",
       "1                Bill Flores    Q862103   \n",
       "2     Sarah Huckabee Sanders  Q27986907   \n",
       "3              Peter O'Neill     Q57892   \n",
       "4             Xavier Becerra   Q1855840   \n",
       "...                      ...        ...   \n",
       "2495          Chavit Singson   Q2399446   \n",
       "2496                Tim Walz   Q2434360   \n",
       "2497             James Comey    Q167607   \n",
       "2498           Bukola Saraki   Q4986999   \n",
       "2499             John Engler    Q735182   \n",
       "\n",
       "                                                  party           party_qcodes  \n",
       "0                                     [Lakas Kampi CMD]           ['Q3240730']  \n",
       "1                                    [Republican Party]             ['Q29468']  \n",
       "2                                    [Republican Party]             ['Q29468']  \n",
       "3                    [People's National Congress Party]             ['Q24708']  \n",
       "4                                    [Democratic Party]             ['Q29552']  \n",
       "...                                                 ...                    ...  \n",
       "2495                               [Nacionalista Party]            ['Q302210']  \n",
       "2496  [Minnesota Democratic–Farmer–Labor Party, Demo...  ['Q1937395' 'Q29552']  \n",
       "2497                                 [Republican Party]             ['Q29468']  \n",
       "2498                         [Peoples Democratic Party]           ['Q1551163']  \n",
       "2499                                 [Republican Party]             ['Q29468']  \n",
       "\n",
       "[2500 rows x 6 columns]"
      ]
     },
     "execution_count": 32,
     "metadata": {},
     "output_type": "execute_result"
    }
   ],
   "source": [
    "quotebank_subset"
   ]
  },
  {
   "cell_type": "code",
   "execution_count": 40,
   "metadata": {},
   "outputs": [],
   "source": [
    "hyperparams = {\n",
    "    'n_neighbours': 50,\n",
    "    'n_components': 9,\n",
    "    'min_cluster_size': 10\n",
    "}\n",
    "\n",
    "torch.manual_seed(42)\n",
    "np.random.seed(42)"
   ]
  },
  {
   "cell_type": "code",
   "execution_count": 52,
   "metadata": {
    "colab": {
     "base_uri": "https://localhost:8080/",
     "height": 49,
     "referenced_widgets": [
      "a19d76f5578a4d31afbf384a70db91ef",
      "2e9c5f983c06414c9073fc4e1b4e0f34",
      "1fee12b29eb046e9b7a414de629d4a59",
      "e6d33361551948c6b4eb629bcacb23fc",
      "1e8030d9db9c4f919671d39172a2bceb",
      "4b11c43a4ae4490a96461276c6cfe818",
      "0ab6947ed9004b0f9a3a1b6fea63125c",
      "13f1f2762df641c294030895c1c5cf67",
      "d331a6dcac904a288105ebbc9f37d8de",
      "97c15767ca0e461791b1414e161d8a8b",
      "bbb913f1f6c24b73bda105dfba3b105a"
     ]
    },
    "id": "mWvJk0788JDf",
    "outputId": "be072132-1df5-414a-dfcb-386e2650487f"
   },
   "outputs": [
    {
     "data": {
      "application/vnd.jupyter.widget-view+json": {
       "model_id": "15721d9ed1264e70a873bbaa71893799",
       "version_major": 2,
       "version_minor": 0
      },
      "text/plain": [
       "Batches:   0%|          | 0/79 [00:00<?, ?it/s]"
      ]
     },
     "metadata": {},
     "output_type": "display_data"
    }
   ],
   "source": [
    "# Find sentence embeddings\n",
    "sentence_embeddings = model.encode(list(quotebank_subset['quotation']), show_progress_bar=True)\n",
    "# Reduce dimensionality of embeddings\n",
    "umap_embeddings = umap.UMAP(n_neighbors=hyperparams['n_neighbours'], n_components=hyperparams['n_components'], metric='cosine').fit_transform(sentence_embeddings)"
   ]
  },
  {
   "cell_type": "code",
   "execution_count": 53,
   "metadata": {
    "id": "RCsRvnNs9ct-"
   },
   "outputs": [],
   "source": [
    "# Cluster documents\n",
    "cluster = hdbscan.HDBSCAN(min_cluster_size=hyperparams['min_cluster_size'], metric='euclidean', cluster_selection_method='eom').fit(umap_embeddings)"
   ]
  },
  {
   "cell_type": "code",
   "execution_count": 54,
   "metadata": {
    "colab": {
     "base_uri": "https://localhost:8080/",
     "height": 714
    },
    "id": "OdG2Q0Mf9-3T",
    "outputId": "c3236f6b-13b7-469a-ea23-13a4c8b53b52"
   },
   "outputs": [
    {
     "name": "stderr",
     "output_type": "stream",
     "text": [
      "<ipython-input-54-16a189c7fd5e>:5: SettingWithCopyWarning: \n",
      "A value is trying to be set on a copy of a slice from a DataFrame.\n",
      "Try using .loc[row_indexer,col_indexer] = value instead\n",
      "\n",
      "See the caveats in the documentation: https://pandas.pydata.org/pandas-docs/stable/user_guide/indexing.html#returning-a-view-versus-a-copy\n",
      "  quotebank_subset['labels'] = cluster.labels_\n"
     ]
    },
    {
     "data": {
      "text/plain": [
       "<matplotlib.colorbar.Colorbar at 0x7fade130ac70>"
      ]
     },
     "execution_count": 54,
     "metadata": {},
     "output_type": "execute_result"
    }
   ],
   "source": [
    "# Prepare data\n",
    "umap_data = umap.UMAP(n_neighbors=50, n_components=2, min_dist=0.0, metric='cosine').fit_transform(sentence_embeddings)\n",
    "result = pd.DataFrame(umap_data, columns=['x', 'y'])\n",
    "result['labels'] = cluster.labels_\n",
    "quotebank_subset['labels'] = cluster.labels_\n",
    "\n",
    "# Visualize clusters\n",
    "fig, ax = plt.subplots(figsize=(20, 10))\n",
    "outliers = result.loc[result.labels == -1, :]\n",
    "clustered = result.loc[result.labels != -1, :]\n",
    "plt.scatter(outliers.x, outliers.y, color='#BDBDBD', s=0.005)\n",
    "plt.scatter(clustered.x, clustered.y, c=clustered.labels, s=30, cmap='hsv_r')\n",
    "plt.title(f\"Clustering with \\\n",
    "n_neighbours={hyperparams['n_neighbours']}, \\\n",
    "n_components={hyperparams['n_components']}, \\\n",
    "min_cluster_size={hyperparams['min_cluster_size']}\")\n",
    "\n",
    "plt.colorbar()"
   ]
  },
  {
   "cell_type": "code",
   "execution_count": 55,
   "metadata": {},
   "outputs": [
    {
     "data": {
      "image/png": "[encoded data removed]",
      "text/plain": [
       "<Figure size 2000x1000 with 2 Axes>"
      ]
     },
     "metadata": {},
     "output_type": "display_data"
    }
   ],
   "source": [
    "plt.show()"
   ]
  },
  {
   "cell_type": "code",
   "execution_count": 57,
   "metadata": {
    "colab": {
     "base_uri": "https://localhost:8080/"
    },
    "id": "gK2QxpTnE3rG",
    "outputId": "4ea9bd56-e946-46f0-fe70-9154da3ce7d4"
   },
   "outputs": [
    {
     "data": {
      "text/plain": [
       "['Endlessly debating and not doing things on an issue of national importance is not what I prefer.',\n",
       " 'If you think teachers across this state are not saying the s-word, you are wrong.',\n",
       " \"Mental health is the real issue we have to address... and it's not a quick fix.\",\n",
       " \"this is a sad incident and shouldn't have taken place.\",\n",
       " 'This is beyond a midlife crisis. This is not the Barnaby Joyce I know. I am concerned about his mental welfare.',\n",
       " \"very worrying to learn that we can't trust SEPA to release accurate information on issues of public interest and concern\",\n",
       " 'But we accept there is a lack of transparency around this process and that this lack of transparency has led some people to question its rigour,',\n",
       " \"I don't understand whether Europe should be put in a situation of such a high level of danger,\",\n",
       " \"Such a person shouldn't have joined the Democratic Party\",\n",
       " \"The problem is for well water and private water sources that aren't regulated,\",\n",
       " 'What he said is not deserving to anyone and he should not have said that,']"
      ]
     },
     "execution_count": 57,
     "metadata": {},
     "output_type": "execute_result"
    }
   ],
   "source": [
    "# Check a cluster results\n",
    "clusters = quotebank_subset.groupby('labels')[['quotation', 'party']].agg(list)\n",
    "clusters.quotation.loc[12]"
   ]
  },
  {
   "cell_type": "markdown",
   "metadata": {
    "id": "BLdri1RcgKb0"
   },
   "source": [
    "**We can see bad words here**"
   ]
  },
  {
   "cell_type": "markdown",
   "metadata": {},
   "source": [
    "## Which parties talk the most about specific topics?\n",
    "\n",
    "In the clusters below, the hdb scan algorithm assigns label of -1 to quotes that could not be clustered"
   ]
  },
  {
   "cell_type": "code",
   "execution_count": 98,
   "metadata": {},
   "outputs": [
    {
     "name": "stdout",
     "output_type": "stream",
     "text": [
      "Parties most interested in topic 0:\n",
      "[   ('Republican Party', 4),\n",
      "    ('Democratic Party', 3),\n",
      "    ('independent politician', 1),\n",
      "    ('Christian Democratic Union', 1),\n",
      "    ('Democratic Awakening', 1)]\n",
      "Parties most interested in topic 1:\n",
      "[   ('Republican Party', 10),\n",
      "    ('Democratic Party', 4),\n",
      "    ('Independence Party of America', 3),\n",
      "    ('La République En Marche', 1),\n",
      "    ('Socialist Party', 1)]\n",
      "Parties most interested in topic 2:\n",
      "[   ('Republican Party', 10),\n",
      "    ('Democratic Party', 8),\n",
      "    ('Pakistan Tehreek-e-Insaf', 1),\n",
      "    ('La République En Marche', 1),\n",
      "    ('Socialist Party', 1)]\n",
      "Parties most interested in topic 3:\n",
      "[   ('Democratic Party', 3),\n",
      "    ('Conservative Party', 2),\n",
      "    ('Fine Gael', 1),\n",
      "    ('Lega Nord', 1),\n",
      "    ('Lega Lombarda', 1)]\n",
      "Parties most interested in topic 4:\n",
      "[   ('Republican Party', 36),\n",
      "    ('Democratic Party', 21),\n",
      "    ('Bharatiya Janata Party', 7),\n",
      "    ('Indian National Congress', 5),\n",
      "    ('Minnesota Democratic–Farmer–Labor Party', 4)]\n",
      "Parties most interested in topic 5:\n",
      "[   ('Republican Party', 7),\n",
      "    ('Democratic Party', 3),\n",
      "    ('Bharatiya Janata Party', 2),\n",
      "    ('Bharatiya Jana Sangh', 1),\n",
      "    ('Janata Party', 1)]\n",
      "Parties most interested in topic 6:\n",
      "[   ('Republican Party', 7),\n",
      "    ('Democratic Party', 5),\n",
      "    ('Bharatiya Janata Party', 3),\n",
      "    ('Independence Party of America', 1),\n",
      "    ('Liberal Party of Canada', 1)]\n",
      "Parties most interested in topic 7:\n",
      "[   ('Republican Party', 38),\n",
      "    ('Democratic Party', 33),\n",
      "    ('Bharatiya Janata Party', 21),\n",
      "    ('Indian National Congress', 6),\n",
      "    ('independent politician', 6)]\n",
      "Parties most interested in topic 8:\n",
      "[   ('Republican Party', 14),\n",
      "    ('Democratic Party', 10),\n",
      "    ('Conservative Party', 2),\n",
      "    ('Liberal Party of Canada', 2),\n",
      "    ('Labour Party', 2)]\n",
      "Parties most interested in topic 9:\n",
      "[   ('Democratic Party', 30),\n",
      "    ('Republican Party', 30),\n",
      "    ('Bharatiya Janata Party', 10),\n",
      "    ('Australian Labor Party', 4),\n",
      "    ('Conservative Party', 4)]\n",
      "Parties most interested in topic 10:\n",
      "[   ('Democratic Party', 2),\n",
      "    ('United Malays National Organisation', 2),\n",
      "    ('Republican Party', 2),\n",
      "    ('Fidesz', 1),\n",
      "    ('Ontario New Democratic Party', 1)]\n",
      "Parties most interested in topic 11:\n",
      "[   ('Republican Party', 25),\n",
      "    ('Democratic Party', 12),\n",
      "    ('Bharatiya Janata Party', 6),\n",
      "    ('Zimbabwe African National Union – Patriotic Front', 3),\n",
      "    ('Liberal Party of Australia', 3)]\n",
      "Parties most interested in topic 12:\n",
      "[   ('Republican Party', 2),\n",
      "    ('Liberal Party of Australia', 2),\n",
      "    ('Labour Party', 2),\n",
      "    ('Democratic Party', 1),\n",
      "    ('Bharatiya Janata Party', 1)]\n",
      "Parties most interested in topic 13:\n",
      "[   ('Republican Party', 33),\n",
      "    ('Democratic Party', 19),\n",
      "    ('Independence Party of America', 6),\n",
      "    ('Indian National Congress', 5),\n",
      "    ('Bharatiya Janata Party', 5)]\n",
      "Parties most interested in topic 14:\n",
      "[   ('Republican Party', 19),\n",
      "    ('Democratic Party', 14),\n",
      "    ('Labour Party', 4),\n",
      "    ('Independence Party of America', 2),\n",
      "    ('National Salvation Party', 2)]\n"
     ]
    }
   ],
   "source": [
    "import pprint\n",
    "pp = pprint.PrettyPrinter(indent=4)\n",
    "\n",
    "for label, row in clusters.iterrows():\n",
    "    if label != -1:\n",
    "        party_counts = Counter([x for sublist in row['party'] for x in sublist])\n",
    "        print(f'Parties most interested in topic {label}:')\n",
    "        pp.pprint(list(sorted(party_counts.items(), key=lambda x: -x[1]))[:5])"
   ]
  },
  {
   "cell_type": "markdown",
   "metadata": {
    "id": "RnEiJbJsQW-j"
   },
   "source": [
    "## Suggestions\n",
    "\n",
    "*   Apply \"get_membership_party\" on yearly resulted dataframes\n",
    "\n",
    "*   Tune parameters for UMAP - use this to get some insights https://pair-code.github.io/understanding-umap/\n",
    "*   Tune parameters for HDBSCAN\n",
    "\n",
    "* As research question\n",
    "> Check parties interests over years\n",
    "\n",
    "* Tokenize quotes \n",
    "* We will treat the missing qcodes in the final milestone\n",
    "\n",
    "\n",
    "\n",
    "\n",
    "\n",
    "\n",
    "\n",
    "\n",
    "\n",
    "\n",
    "\n",
    "\n"
   ]
  },
  {
   "cell_type": "code",
   "execution_count": null,
   "metadata": {
    "id": "efQlBwwg-yfA"
   },
   "outputs": [],
   "source": []
  }
 ],
 "metadata": {
  "accelerator": "GPU",
  "colab": {
   "collapsed_sections": [
    "pTGtp0hqkd3_",
    "Q86936eGA5ZZ",
    "WIA84G5EgonW",
    "fFLBDQHeCnE7",
    "tGzcxuhcSC0A",
    "fng8VWlseg1Y"
   ],
   "name": "project_notebook_Mihai (1).ipynb",
   "provenance": []
  },
  "kernelspec": {
   "display_name": "Python 3",
   "language": "python",
   "name": "python3"
  },
  "language_info": {
   "codemirror_mode": {
    "name": "ipython",
    "version": 3
   },
   "file_extension": ".py",
   "mimetype": "text/x-python",
   "name": "python",
   "nbconvert_exporter": "python",
   "pygments_lexer": "ipython3",
   "version": "3.8.8"
  },
  "widgets": {
   "application/vnd.jupyter.widget-state+json": {
    "004cef59800f40368faeda4521aaea81": {
     "model_module": "@jupyter-widgets/base",
     "model_module_version": "1.2.0",
     "model_name": "LayoutModel",
     "state": {
      "_model_module": "@jupyter-widgets/base",
      "_model_module_version": "1.2.0",
      "_model_name": "LayoutModel",
      "_view_count": null,
      "_view_module": "@jupyter-widgets/base",
      "_view_module_version": "1.2.0",
      "_view_name": "LayoutView",
      "align_content": null,
      "align_items": null,
      "align_self": null,
      "border": null,
      "bottom": null,
      "display": null,
      "flex": null,
      "flex_flow": null,
      "grid_area": null,
      "grid_auto_columns": null,
      "grid_auto_flow": null,
      "grid_auto_rows": null,
      "grid_column": null,
      "grid_gap": null,
      "grid_row": null,
      "grid_template_areas": null,
      "grid_template_columns": null,
      "grid_template_rows": null,
      "height": null,
      "justify_content": null,
      "justify_items": null,
      "left": null,
      "margin": null,
      "max_height": null,
      "max_width": null,
      "min_height": null,
      "min_width": null,
      "object_fit": null,
      "object_position": null,
      "order": null,
      "overflow": null,
      "overflow_x": null,
      "overflow_y": null,
      "padding": null,
      "right": null,
      "top": null,
      "visibility": null,
      "width": null
     }
    },
    "03cd3f15aeea4d26ba970e302babe228": {
     "model_module": "@jupyter-widgets/base",
     "model_module_version": "1.2.0",
     "model_name": "LayoutModel",
     "state": {
      "_model_module": "@jupyter-widgets/base",
      "_model_module_version": "1.2.0",
      "_model_name": "LayoutModel",
      "_view_count": null,
      "_view_module": "@jupyter-widgets/base",
      "_view_module_version": "1.2.0",
      "_view_name": "LayoutView",
      "align_content": null,
      "align_items": null,
      "align_self": null,
      "border": null,
      "bottom": null,
      "display": null,
      "flex": null,
      "flex_flow": null,
      "grid_area": null,
      "grid_auto_columns": null,
      "grid_auto_flow": null,
      "grid_auto_rows": null,
      "grid_column": null,
      "grid_gap": null,
      "grid_row": null,
      "grid_template_areas": null,
      "grid_template_columns": null,
      "grid_template_rows": null,
      "height": null,
      "justify_content": null,
      "justify_items": null,
      "left": null,
      "margin": null,
      "max_height": null,
      "max_width": null,
      "min_height": null,
      "min_width": null,
      "object_fit": null,
      "object_position": null,
      "order": null,
      "overflow": null,
      "overflow_x": null,
      "overflow_y": null,
      "padding": null,
      "right": null,
      "top": null,
      "visibility": null,
      "width": null
     }
    },
    "078a9866c2ca48d9b41671d911777bd3": {
     "model_module": "@jupyter-widgets/controls",
     "model_module_version": "1.5.0",
     "model_name": "HTMLModel",
     "state": {
      "_dom_classes": [],
      "_model_module": "@jupyter-widgets/controls",
      "_model_module_version": "1.5.0",
      "_model_name": "HTMLModel",
      "_view_count": null,
      "_view_module": "@jupyter-widgets/controls",
      "_view_module_version": "1.5.0",
      "_view_name": "HTMLView",
      "description": "",
      "description_tooltip": null,
      "layout": "IPY_MODEL_1433d8b96f5a4f7c9028ceda9de65cbd",
      "placeholder": "​",
      "style": "IPY_MODEL_aaf3c02fae094f1680d08bfd7f39dd9e",
      "value": "Downloading: 100%"
     }
    },
    "083f754f2b724757ac3640dba75d919d": {
     "model_module": "@jupyter-widgets/controls",
     "model_module_version": "1.5.0",
     "model_name": "ProgressStyleModel",
     "state": {
      "_model_module": "@jupyter-widgets/controls",
      "_model_module_version": "1.5.0",
      "_model_name": "ProgressStyleModel",
      "_view_count": null,
      "_view_module": "@jupyter-widgets/base",
      "_view_module_version": "1.2.0",
      "_view_name": "StyleView",
      "bar_color": null,
      "description_width": ""
     }
    },
    "0ab6947ed9004b0f9a3a1b6fea63125c": {
     "model_module": "@jupyter-widgets/base",
     "model_module_version": "1.2.0",
     "model_name": "LayoutModel",
     "state": {
      "_model_module": "@jupyter-widgets/base",
      "_model_module_version": "1.2.0",
      "_model_name": "LayoutModel",
      "_view_count": null,
      "_view_module": "@jupyter-widgets/base",
      "_view_module_version": "1.2.0",
      "_view_name": "LayoutView",
      "align_content": null,
      "align_items": null,
      "align_self": null,
      "border": null,
      "bottom": null,
      "display": null,
      "flex": null,
      "flex_flow": null,
      "grid_area": null,
      "grid_auto_columns": null,
      "grid_auto_flow": null,
      "grid_auto_rows": null,
      "grid_column": null,
      "grid_gap": null,
      "grid_row": null,
      "grid_template_areas": null,
      "grid_template_columns": null,
      "grid_template_rows": null,
      "height": null,
      "justify_content": null,
      "justify_items": null,
      "left": null,
      "margin": null,
      "max_height": null,
      "max_width": null,
      "min_height": null,
      "min_width": null,
      "object_fit": null,
      "object_position": null,
      "order": null,
      "overflow": null,
      "overflow_x": null,
      "overflow_y": null,
      "padding": null,
      "right": null,
      "top": null,
      "visibility": null,
      "width": null
     }
    },
    "10a36c82048544398be3e876ea15f131": {
     "model_module": "@jupyter-widgets/controls",
     "model_module_version": "1.5.0",
     "model_name": "DescriptionStyleModel",
     "state": {
      "_model_module": "@jupyter-widgets/controls",
      "_model_module_version": "1.5.0",
      "_model_name": "DescriptionStyleModel",
      "_view_count": null,
      "_view_module": "@jupyter-widgets/base",
      "_view_module_version": "1.2.0",
      "_view_name": "StyleView",
      "description_width": ""
     }
    },
    "134192f0c6244daeae927178643f107a": {
     "model_module": "@jupyter-widgets/base",
     "model_module_version": "1.2.0",
     "model_name": "LayoutModel",
     "state": {
      "_model_module": "@jupyter-widgets/base",
      "_model_module_version": "1.2.0",
      "_model_name": "LayoutModel",
      "_view_count": null,
      "_view_module": "@jupyter-widgets/base",
      "_view_module_version": "1.2.0",
      "_view_name": "LayoutView",
      "align_content": null,
      "align_items": null,
      "align_self": null,
      "border": null,
      "bottom": null,
      "display": null,
      "flex": null,
      "flex_flow": null,
      "grid_area": null,
      "grid_auto_columns": null,
      "grid_auto_flow": null,
      "grid_auto_rows": null,
      "grid_column": null,
      "grid_gap": null,
      "grid_row": null,
      "grid_template_areas": null,
      "grid_template_columns": null,
      "grid_template_rows": null,
      "height": null,
      "justify_content": null,
      "justify_items": null,
      "left": null,
      "margin": null,
      "max_height": null,
      "max_width": null,
      "min_height": null,
      "min_width": null,
      "object_fit": null,
      "object_position": null,
      "order": null,
      "overflow": null,
      "overflow_x": null,
      "overflow_y": null,
      "padding": null,
      "right": null,
      "top": null,
      "visibility": null,
      "width": null
     }
    },
    "1384e74f87044d78ad69c3ce4fb6bdbe": {
     "model_module": "@jupyter-widgets/controls",
     "model_module_version": "1.5.0",
     "model_name": "DescriptionStyleModel",
     "state": {
      "_model_module": "@jupyter-widgets/controls",
      "_model_module_version": "1.5.0",
      "_model_name": "DescriptionStyleModel",
      "_view_count": null,
      "_view_module": "@jupyter-widgets/base",
      "_view_module_version": "1.2.0",
      "_view_name": "StyleView",
      "description_width": ""
     }
    },
    "13f1f2762df641c294030895c1c5cf67": {
     "model_module": "@jupyter-widgets/controls",
     "model_module_version": "1.5.0",
     "model_name": "ProgressStyleModel",
     "state": {
      "_model_module": "@jupyter-widgets/controls",
      "_model_module_version": "1.5.0",
      "_model_name": "ProgressStyleModel",
      "_view_count": null,
      "_view_module": "@jupyter-widgets/base",
      "_view_module_version": "1.2.0",
      "_view_name": "StyleView",
      "bar_color": null,
      "description_width": ""
     }
    },
    "1433d8b96f5a4f7c9028ceda9de65cbd": {
     "model_module": "@jupyter-widgets/base",
     "model_module_version": "1.2.0",
     "model_name": "LayoutModel",
     "state": {
      "_model_module": "@jupyter-widgets/base",
      "_model_module_version": "1.2.0",
      "_model_name": "LayoutModel",
      "_view_count": null,
      "_view_module": "@jupyter-widgets/base",
      "_view_module_version": "1.2.0",
      "_view_name": "LayoutView",
      "align_content": null,
      "align_items": null,
      "align_self": null,
      "border": null,
      "bottom": null,
      "display": null,
      "flex": null,
      "flex_flow": null,
      "grid_area": null,
      "grid_auto_columns": null,
      "grid_auto_flow": null,
      "grid_auto_rows": null,
      "grid_column": null,
      "grid_gap": null,
      "grid_row": null,
      "grid_template_areas": null,
      "grid_template_columns": null,
      "grid_template_rows": null,
      "height": null,
      "justify_content": null,
      "justify_items": null,
      "left": null,
      "margin": null,
      "max_height": null,
      "max_width": null,
      "min_height": null,
      "min_width": null,
      "object_fit": null,
      "object_position": null,
      "order": null,
      "overflow": null,
      "overflow_x": null,
      "overflow_y": null,
      "padding": null,
      "right": null,
      "top": null,
      "visibility": null,
      "width": null
     }
    },
    "15c0b17e98914f58bc43af9a4f58bb02": {
     "model_module": "@jupyter-widgets/base",
     "model_module_version": "1.2.0",
     "model_name": "LayoutModel",
     "state": {
      "_model_module": "@jupyter-widgets/base",
      "_model_module_version": "1.2.0",
      "_model_name": "LayoutModel",
      "_view_count": null,
      "_view_module": "@jupyter-widgets/base",
      "_view_module_version": "1.2.0",
      "_view_name": "LayoutView",
      "align_content": null,
      "align_items": null,
      "align_self": null,
      "border": null,
      "bottom": null,
      "display": null,
      "flex": null,
      "flex_flow": null,
      "grid_area": null,
      "grid_auto_columns": null,
      "grid_auto_flow": null,
      "grid_auto_rows": null,
      "grid_column": null,
      "grid_gap": null,
      "grid_row": null,
      "grid_template_areas": null,
      "grid_template_columns": null,
      "grid_template_rows": null,
      "height": null,
      "justify_content": null,
      "justify_items": null,
      "left": null,
      "margin": null,
      "max_height": null,
      "max_width": null,
      "min_height": null,
      "min_width": null,
      "object_fit": null,
      "object_position": null,
      "order": null,
      "overflow": null,
      "overflow_x": null,
      "overflow_y": null,
      "padding": null,
      "right": null,
      "top": null,
      "visibility": null,
      "width": null
     }
    },
    "1615b56f9435454fbf2906235a61db0c": {
     "model_module": "@jupyter-widgets/controls",
     "model_module_version": "1.5.0",
     "model_name": "ProgressStyleModel",
     "state": {
      "_model_module": "@jupyter-widgets/controls",
      "_model_module_version": "1.5.0",
      "_model_name": "ProgressStyleModel",
      "_view_count": null,
      "_view_module": "@jupyter-widgets/base",
      "_view_module_version": "1.2.0",
      "_view_name": "StyleView",
      "bar_color": null,
      "description_width": ""
     }
    },
    "187882e250a74c0689b089269d4d6f53": {
     "model_module": "@jupyter-widgets/controls",
     "model_module_version": "1.5.0",
     "model_name": "FloatProgressModel",
     "state": {
      "_dom_classes": [],
      "_model_module": "@jupyter-widgets/controls",
      "_model_module_version": "1.5.0",
      "_model_name": "FloatProgressModel",
      "_view_count": null,
      "_view_module": "@jupyter-widgets/controls",
      "_view_module_version": "1.5.0",
      "_view_name": "ProgressView",
      "bar_style": "success",
      "description": "",
      "description_tooltip": null,
      "layout": "IPY_MODEL_fcdd20c46a344e9fb1213258cd56cab5",
      "max": 190,
      "min": 0,
      "orientation": "horizontal",
      "style": "IPY_MODEL_bc2755e728f8488c9a3a0bec8af92d50",
      "value": 190
     }
    },
    "1bb0cbf842394802b49ea9d1b1053b41": {
     "model_module": "@jupyter-widgets/controls",
     "model_module_version": "1.5.0",
     "model_name": "FloatProgressModel",
     "state": {
      "_dom_classes": [],
      "_model_module": "@jupyter-widgets/controls",
      "_model_module_version": "1.5.0",
      "_model_name": "FloatProgressModel",
      "_view_count": null,
      "_view_module": "@jupyter-widgets/controls",
      "_view_module_version": "1.5.0",
      "_view_name": "ProgressView",
      "bar_style": "success",
      "description": "",
      "description_tooltip": null,
      "layout": "IPY_MODEL_3aba8af0ffbe47bdab699d13e872d5dd",
      "max": 625,
      "min": 0,
      "orientation": "horizontal",
      "style": "IPY_MODEL_684681294323425fb57662a79e368cdc",
      "value": 625
     }
    },
    "1cf08a4192c049dc95df982bc75e0300": {
     "model_module": "@jupyter-widgets/controls",
     "model_module_version": "1.5.0",
     "model_name": "HTMLModel",
     "state": {
      "_dom_classes": [],
      "_model_module": "@jupyter-widgets/controls",
      "_model_module_version": "1.5.0",
      "_model_name": "HTMLModel",
      "_view_count": null,
      "_view_module": "@jupyter-widgets/controls",
      "_view_module_version": "1.5.0",
      "_view_name": "HTMLView",
      "description": "",
      "description_tooltip": null,
      "layout": "IPY_MODEL_765f1a283ecc46fe9d5d3ca798a1ae6c",
      "placeholder": "​",
      "style": "IPY_MODEL_e40e79a50b404db5ac10db700e9104be",
      "value": "Downloading: 100%"
     }
    },
    "1e8030d9db9c4f919671d39172a2bceb": {
     "model_module": "@jupyter-widgets/controls",
     "model_module_version": "1.5.0",
     "model_name": "HTMLModel",
     "state": {
      "_dom_classes": [],
      "_model_module": "@jupyter-widgets/controls",
      "_model_module_version": "1.5.0",
      "_model_name": "HTMLModel",
      "_view_count": null,
      "_view_module": "@jupyter-widgets/controls",
      "_view_module_version": "1.5.0",
      "_view_name": "HTMLView",
      "description": "",
      "description_tooltip": null,
      "layout": "IPY_MODEL_bbb913f1f6c24b73bda105dfba3b105a",
      "placeholder": "​",
      "style": "IPY_MODEL_97c15767ca0e461791b1414e161d8a8b",
      "value": " 79/79 [00:13&lt;00:00, 14.10it/s]"
     }
    },
    "1f1bc80b1f514176982e3fa9e1b82d0e": {
     "model_module": "@jupyter-widgets/controls",
     "model_module_version": "1.5.0",
     "model_name": "DescriptionStyleModel",
     "state": {
      "_model_module": "@jupyter-widgets/controls",
      "_model_module_version": "1.5.0",
      "_model_name": "DescriptionStyleModel",
      "_view_count": null,
      "_view_module": "@jupyter-widgets/base",
      "_view_module_version": "1.2.0",
      "_view_name": "StyleView",
      "description_width": ""
     }
    },
    "1f379f56a7f1467eafc13fe7b9def385": {
     "model_module": "@jupyter-widgets/controls",
     "model_module_version": "1.5.0",
     "model_name": "HTMLModel",
     "state": {
      "_dom_classes": [],
      "_model_module": "@jupyter-widgets/controls",
      "_model_module_version": "1.5.0",
      "_model_name": "HTMLModel",
      "_view_count": null,
      "_view_module": "@jupyter-widgets/controls",
      "_view_module_version": "1.5.0",
      "_view_name": "HTMLView",
      "description": "",
      "description_tooltip": null,
      "layout": "IPY_MODEL_d7708494ca3d4dcf9ce1f684a74fbaab",
      "placeholder": "​",
      "style": "IPY_MODEL_6f81f3059099402494eac515d9544f76",
      "value": " 53.0/53.0 [00:00&lt;00:00, 1.17kB/s]"
     }
    },
    "1fee12b29eb046e9b7a414de629d4a59": {
     "model_module": "@jupyter-widgets/controls",
     "model_module_version": "1.5.0",
     "model_name": "HTMLModel",
     "state": {
      "_dom_classes": [],
      "_model_module": "@jupyter-widgets/controls",
      "_model_module_version": "1.5.0",
      "_model_name": "HTMLModel",
      "_view_count": null,
      "_view_module": "@jupyter-widgets/controls",
      "_view_module_version": "1.5.0",
      "_view_name": "HTMLView",
      "description": "",
      "description_tooltip": null,
      "layout": "IPY_MODEL_0ab6947ed9004b0f9a3a1b6fea63125c",
      "placeholder": "​",
      "style": "IPY_MODEL_4b11c43a4ae4490a96461276c6cfe818",
      "value": "Batches: 100%"
     }
    },
    "21a3c64147af4053a83bb31dafbdd983": {
     "model_module": "@jupyter-widgets/controls",
     "model_module_version": "1.5.0",
     "model_name": "DescriptionStyleModel",
     "state": {
      "_model_module": "@jupyter-widgets/controls",
      "_model_module_version": "1.5.0",
      "_model_name": "DescriptionStyleModel",
      "_view_count": null,
      "_view_module": "@jupyter-widgets/base",
      "_view_module_version": "1.2.0",
      "_view_name": "StyleView",
      "description_width": ""
     }
    },
    "23c8ffbaed854dadb0eab5747d0a77a4": {
     "model_module": "@jupyter-widgets/controls",
     "model_module_version": "1.5.0",
     "model_name": "HTMLModel",
     "state": {
      "_dom_classes": [],
      "_model_module": "@jupyter-widgets/controls",
      "_model_module_version": "1.5.0",
      "_model_name": "HTMLModel",
      "_view_count": null,
      "_view_module": "@jupyter-widgets/controls",
      "_view_module_version": "1.5.0",
      "_view_name": "HTMLView",
      "description": "",
      "description_tooltip": null,
      "layout": "IPY_MODEL_7d6cca0d62df417d9b9ac7c11e4eb01e",
      "placeholder": "​",
      "style": "IPY_MODEL_9e005fe258944b1c9db9c0a826c75203",
      "value": " 2.00/2.00 [00:00&lt;00:00, 39.5B/s]"
     }
    },
    "265c3c2cedce42f1a9b9289bf0a3ac44": {
     "model_module": "@jupyter-widgets/controls",
     "model_module_version": "1.5.0",
     "model_name": "HBoxModel",
     "state": {
      "_dom_classes": [],
      "_model_module": "@jupyter-widgets/controls",
      "_model_module_version": "1.5.0",
      "_model_name": "HBoxModel",
      "_view_count": null,
      "_view_module": "@jupyter-widgets/controls",
      "_view_module_version": "1.5.0",
      "_view_name": "HBoxView",
      "box_style": "",
      "children": [
       "IPY_MODEL_ec0a8a31a6ef4b8dbb7569d99c6e07b1",
       "IPY_MODEL_1bb0cbf842394802b49ea9d1b1053b41",
       "IPY_MODEL_646423b796b54a6e8661c8983bbdf7b7"
      ],
      "layout": "IPY_MODEL_320b4dc5381843608f38f5181c0528d4"
     }
    },
    "28cb3000b84a4f4499226caf198953b9": {
     "model_module": "@jupyter-widgets/controls",
     "model_module_version": "1.5.0",
     "model_name": "HBoxModel",
     "state": {
      "_dom_classes": [],
      "_model_module": "@jupyter-widgets/controls",
      "_model_module_version": "1.5.0",
      "_model_name": "HBoxModel",
      "_view_count": null,
      "_view_module": "@jupyter-widgets/controls",
      "_view_module_version": "1.5.0",
      "_view_name": "HBoxView",
      "box_style": "",
      "children": [
       "IPY_MODEL_a736dc0751b04fab8aa4f904a43a4d49",
       "IPY_MODEL_7eeff6c749734e5ea853ec78d3e21018",
       "IPY_MODEL_a27eb21790734f0fa2264e10348d953e"
      ],
      "layout": "IPY_MODEL_43b783c4758b43358ad6c37031c9f290"
     }
    },
    "2a82cb6b46b946af9dbb30ce1de02275": {
     "model_module": "@jupyter-widgets/base",
     "model_module_version": "1.2.0",
     "model_name": "LayoutModel",
     "state": {
      "_model_module": "@jupyter-widgets/base",
      "_model_module_version": "1.2.0",
      "_model_name": "LayoutModel",
      "_view_count": null,
      "_view_module": "@jupyter-widgets/base",
      "_view_module_version": "1.2.0",
      "_view_name": "LayoutView",
      "align_content": null,
      "align_items": null,
      "align_self": null,
      "border": null,
      "bottom": null,
      "display": null,
      "flex": null,
      "flex_flow": null,
      "grid_area": null,
      "grid_auto_columns": null,
      "grid_auto_flow": null,
      "grid_auto_rows": null,
      "grid_column": null,
      "grid_gap": null,
      "grid_row": null,
      "grid_template_areas": null,
      "grid_template_columns": null,
      "grid_template_rows": null,
      "height": null,
      "justify_content": null,
      "justify_items": null,
      "left": null,
      "margin": null,
      "max_height": null,
      "max_width": null,
      "min_height": null,
      "min_width": null,
      "object_fit": null,
      "object_position": null,
      "order": null,
      "overflow": null,
      "overflow_x": null,
      "overflow_y": null,
      "padding": null,
      "right": null,
      "top": null,
      "visibility": null,
      "width": null
     }
    },
    "2afc919f3d8c4e49b6664bf706d9d16a": {
     "model_module": "@jupyter-widgets/base",
     "model_module_version": "1.2.0",
     "model_name": "LayoutModel",
     "state": {
      "_model_module": "@jupyter-widgets/base",
      "_model_module_version": "1.2.0",
      "_model_name": "LayoutModel",
      "_view_count": null,
      "_view_module": "@jupyter-widgets/base",
      "_view_module_version": "1.2.0",
      "_view_name": "LayoutView",
      "align_content": null,
      "align_items": null,
      "align_self": null,
      "border": null,
      "bottom": null,
      "display": null,
      "flex": null,
      "flex_flow": null,
      "grid_area": null,
      "grid_auto_columns": null,
      "grid_auto_flow": null,
      "grid_auto_rows": null,
      "grid_column": null,
      "grid_gap": null,
      "grid_row": null,
      "grid_template_areas": null,
      "grid_template_columns": null,
      "grid_template_rows": null,
      "height": null,
      "justify_content": null,
      "justify_items": null,
      "left": null,
      "margin": null,
      "max_height": null,
      "max_width": null,
      "min_height": null,
      "min_width": null,
      "object_fit": null,
      "object_position": null,
      "order": null,
      "overflow": null,
      "overflow_x": null,
      "overflow_y": null,
      "padding": null,
      "right": null,
      "top": null,
      "visibility": null,
      "width": null
     }
    },
    "2e9c5f983c06414c9073fc4e1b4e0f34": {
     "model_module": "@jupyter-widgets/base",
     "model_module_version": "1.2.0",
     "model_name": "LayoutModel",
     "state": {
      "_model_module": "@jupyter-widgets/base",
      "_model_module_version": "1.2.0",
      "_model_name": "LayoutModel",
      "_view_count": null,
      "_view_module": "@jupyter-widgets/base",
      "_view_module_version": "1.2.0",
      "_view_name": "LayoutView",
      "align_content": null,
      "align_items": null,
      "align_self": null,
      "border": null,
      "bottom": null,
      "display": null,
      "flex": null,
      "flex_flow": null,
      "grid_area": null,
      "grid_auto_columns": null,
      "grid_auto_flow": null,
      "grid_auto_rows": null,
      "grid_column": null,
      "grid_gap": null,
      "grid_row": null,
      "grid_template_areas": null,
      "grid_template_columns": null,
      "grid_template_rows": null,
      "height": null,
      "justify_content": null,
      "justify_items": null,
      "left": null,
      "margin": null,
      "max_height": null,
      "max_width": null,
      "min_height": null,
      "min_width": null,
      "object_fit": null,
      "object_position": null,
      "order": null,
      "overflow": null,
      "overflow_x": null,
      "overflow_y": null,
      "padding": null,
      "right": null,
      "top": null,
      "visibility": null,
      "width": null
     }
    },
    "2eb54dae2621413e8f52000063524a58": {
     "model_module": "@jupyter-widgets/controls",
     "model_module_version": "1.5.0",
     "model_name": "HBoxModel",
     "state": {
      "_dom_classes": [],
      "_model_module": "@jupyter-widgets/controls",
      "_model_module_version": "1.5.0",
      "_model_name": "HBoxModel",
      "_view_count": null,
      "_view_module": "@jupyter-widgets/controls",
      "_view_module_version": "1.5.0",
      "_view_name": "HBoxView",
      "box_style": "",
      "children": [
       "IPY_MODEL_da15777db0f04cb7aa3290395c61e9ae",
       "IPY_MODEL_187882e250a74c0689b089269d4d6f53",
       "IPY_MODEL_b15e82c0dee74a0d8b3b75e0d6a31867"
      ],
      "layout": "IPY_MODEL_2afc919f3d8c4e49b6664bf706d9d16a"
     }
    },
    "304eed9799934ce58d7db27d52ce0350": {
     "model_module": "@jupyter-widgets/controls",
     "model_module_version": "1.5.0",
     "model_name": "DescriptionStyleModel",
     "state": {
      "_model_module": "@jupyter-widgets/controls",
      "_model_module_version": "1.5.0",
      "_model_name": "DescriptionStyleModel",
      "_view_count": null,
      "_view_module": "@jupyter-widgets/base",
      "_view_module_version": "1.2.0",
      "_view_name": "StyleView",
      "description_width": ""
     }
    },
    "320b4dc5381843608f38f5181c0528d4": {
     "model_module": "@jupyter-widgets/base",
     "model_module_version": "1.2.0",
     "model_name": "LayoutModel",
     "state": {
      "_model_module": "@jupyter-widgets/base",
      "_model_module_version": "1.2.0",
      "_model_name": "LayoutModel",
      "_view_count": null,
      "_view_module": "@jupyter-widgets/base",
      "_view_module_version": "1.2.0",
      "_view_name": "LayoutView",
      "align_content": null,
      "align_items": null,
      "align_self": null,
      "border": null,
      "bottom": null,
      "display": null,
      "flex": null,
      "flex_flow": null,
      "grid_area": null,
      "grid_auto_columns": null,
      "grid_auto_flow": null,
      "grid_auto_rows": null,
      "grid_column": null,
      "grid_gap": null,
      "grid_row": null,
      "grid_template_areas": null,
      "grid_template_columns": null,
      "grid_template_rows": null,
      "height": null,
      "justify_content": null,
      "justify_items": null,
      "left": null,
      "margin": null,
      "max_height": null,
      "max_width": null,
      "min_height": null,
      "min_width": null,
      "object_fit": null,
      "object_position": null,
      "order": null,
      "overflow": null,
      "overflow_x": null,
      "overflow_y": null,
      "padding": null,
      "right": null,
      "top": null,
      "visibility": null,
      "width": null
     }
    },
    "373581d0b036412a93e27f2bffa972c8": {
     "model_module": "@jupyter-widgets/controls",
     "model_module_version": "1.5.0",
     "model_name": "ProgressStyleModel",
     "state": {
      "_model_module": "@jupyter-widgets/controls",
      "_model_module_version": "1.5.0",
      "_model_name": "ProgressStyleModel",
      "_view_count": null,
      "_view_module": "@jupyter-widgets/base",
      "_view_module_version": "1.2.0",
      "_view_name": "StyleView",
      "bar_color": null,
      "description_width": ""
     }
    },
    "3a56214cb3f54a50ac94b89ca5f80886": {
     "model_module": "@jupyter-widgets/base",
     "model_module_version": "1.2.0",
     "model_name": "LayoutModel",
     "state": {
      "_model_module": "@jupyter-widgets/base",
      "_model_module_version": "1.2.0",
      "_model_name": "LayoutModel",
      "_view_count": null,
      "_view_module": "@jupyter-widgets/base",
      "_view_module_version": "1.2.0",
      "_view_name": "LayoutView",
      "align_content": null,
      "align_items": null,
      "align_self": null,
      "border": null,
      "bottom": null,
      "display": null,
      "flex": null,
      "flex_flow": null,
      "grid_area": null,
      "grid_auto_columns": null,
      "grid_auto_flow": null,
      "grid_auto_rows": null,
      "grid_column": null,
      "grid_gap": null,
      "grid_row": null,
      "grid_template_areas": null,
      "grid_template_columns": null,
      "grid_template_rows": null,
      "height": null,
      "justify_content": null,
      "justify_items": null,
      "left": null,
      "margin": null,
      "max_height": null,
      "max_width": null,
      "min_height": null,
      "min_width": null,
      "object_fit": null,
      "object_position": null,
      "order": null,
      "overflow": null,
      "overflow_x": null,
      "overflow_y": null,
      "padding": null,
      "right": null,
      "top": null,
      "visibility": null,
      "width": null
     }
    },
    "3aba8af0ffbe47bdab699d13e872d5dd": {
     "model_module": "@jupyter-widgets/base",
     "model_module_version": "1.2.0",
     "model_name": "LayoutModel",
     "state": {
      "_model_module": "@jupyter-widgets/base",
      "_model_module_version": "1.2.0",
      "_model_name": "LayoutModel",
      "_view_count": null,
      "_view_module": "@jupyter-widgets/base",
      "_view_module_version": "1.2.0",
      "_view_name": "LayoutView",
      "align_content": null,
      "align_items": null,
      "align_self": null,
      "border": null,
      "bottom": null,
      "display": null,
      "flex": null,
      "flex_flow": null,
      "grid_area": null,
      "grid_auto_columns": null,
      "grid_auto_flow": null,
      "grid_auto_rows": null,
      "grid_column": null,
      "grid_gap": null,
      "grid_row": null,
      "grid_template_areas": null,
      "grid_template_columns": null,
      "grid_template_rows": null,
      "height": null,
      "justify_content": null,
      "justify_items": null,
      "left": null,
      "margin": null,
      "max_height": null,
      "max_width": null,
      "min_height": null,
      "min_width": null,
      "object_fit": null,
      "object_position": null,
      "order": null,
      "overflow": null,
      "overflow_x": null,
      "overflow_y": null,
      "padding": null,
      "right": null,
      "top": null,
      "visibility": null,
      "width": null
     }
    },
    "3b0de08ac83446b4bbed8457b9878941": {
     "model_module": "@jupyter-widgets/base",
     "model_module_version": "1.2.0",
     "model_name": "LayoutModel",
     "state": {
      "_model_module": "@jupyter-widgets/base",
      "_model_module_version": "1.2.0",
      "_model_name": "LayoutModel",
      "_view_count": null,
      "_view_module": "@jupyter-widgets/base",
      "_view_module_version": "1.2.0",
      "_view_name": "LayoutView",
      "align_content": null,
      "align_items": null,
      "align_self": null,
      "border": null,
      "bottom": null,
      "display": null,
      "flex": null,
      "flex_flow": null,
      "grid_area": null,
      "grid_auto_columns": null,
      "grid_auto_flow": null,
      "grid_auto_rows": null,
      "grid_column": null,
      "grid_gap": null,
      "grid_row": null,
      "grid_template_areas": null,
      "grid_template_columns": null,
      "grid_template_rows": null,
      "height": null,
      "justify_content": null,
      "justify_items": null,
      "left": null,
      "margin": null,
      "max_height": null,
      "max_width": null,
      "min_height": null,
      "min_width": null,
      "object_fit": null,
      "object_position": null,
      "order": null,
      "overflow": null,
      "overflow_x": null,
      "overflow_y": null,
      "padding": null,
      "right": null,
      "top": null,
      "visibility": null,
      "width": null
     }
    },
    "3bc2b6bb88124be891f25857e6c589b7": {
     "model_module": "@jupyter-widgets/base",
     "model_module_version": "1.2.0",
     "model_name": "LayoutModel",
     "state": {
      "_model_module": "@jupyter-widgets/base",
      "_model_module_version": "1.2.0",
      "_model_name": "LayoutModel",
      "_view_count": null,
      "_view_module": "@jupyter-widgets/base",
      "_view_module_version": "1.2.0",
      "_view_name": "LayoutView",
      "align_content": null,
      "align_items": null,
      "align_self": null,
      "border": null,
      "bottom": null,
      "display": null,
      "flex": null,
      "flex_flow": null,
      "grid_area": null,
      "grid_auto_columns": null,
      "grid_auto_flow": null,
      "grid_auto_rows": null,
      "grid_column": null,
      "grid_gap": null,
      "grid_row": null,
      "grid_template_areas": null,
      "grid_template_columns": null,
      "grid_template_rows": null,
      "height": null,
      "justify_content": null,
      "justify_items": null,
      "left": null,
      "margin": null,
      "max_height": null,
      "max_width": null,
      "min_height": null,
      "min_width": null,
      "object_fit": null,
      "object_position": null,
      "order": null,
      "overflow": null,
      "overflow_x": null,
      "overflow_y": null,
      "padding": null,
      "right": null,
      "top": null,
      "visibility": null,
      "width": null
     }
    },
    "3e39897606124f789961ffa6a40e2197": {
     "model_module": "@jupyter-widgets/controls",
     "model_module_version": "1.5.0",
     "model_name": "HTMLModel",
     "state": {
      "_dom_classes": [],
      "_model_module": "@jupyter-widgets/controls",
      "_model_module_version": "1.5.0",
      "_model_name": "HTMLModel",
      "_view_count": null,
      "_view_module": "@jupyter-widgets/controls",
      "_view_module_version": "1.5.0",
      "_view_name": "HTMLView",
      "description": "",
      "description_tooltip": null,
      "layout": "IPY_MODEL_56bdf62bb3814a88961959742c3fa49c",
      "placeholder": "​",
      "style": "IPY_MODEL_9f1eeed143e049dda2c347eba345f938",
      "value": " 466k/466k [00:00&lt;00:00, 501kB/s]"
     }
    },
    "3e46da9b7ee24df2be2b81e4667df9b1": {
     "model_module": "@jupyter-widgets/base",
     "model_module_version": "1.2.0",
     "model_name": "LayoutModel",
     "state": {
      "_model_module": "@jupyter-widgets/base",
      "_model_module_version": "1.2.0",
      "_model_name": "LayoutModel",
      "_view_count": null,
      "_view_module": "@jupyter-widgets/base",
      "_view_module_version": "1.2.0",
      "_view_name": "LayoutView",
      "align_content": null,
      "align_items": null,
      "align_self": null,
      "border": null,
      "bottom": null,
      "display": null,
      "flex": null,
      "flex_flow": null,
      "grid_area": null,
      "grid_auto_columns": null,
      "grid_auto_flow": null,
      "grid_auto_rows": null,
      "grid_column": null,
      "grid_gap": null,
      "grid_row": null,
      "grid_template_areas": null,
      "grid_template_columns": null,
      "grid_template_rows": null,
      "height": null,
      "justify_content": null,
      "justify_items": null,
      "left": null,
      "margin": null,
      "max_height": null,
      "max_width": null,
      "min_height": null,
      "min_width": null,
      "object_fit": null,
      "object_position": null,
      "order": null,
      "overflow": null,
      "overflow_x": null,
      "overflow_y": null,
      "padding": null,
      "right": null,
      "top": null,
      "visibility": null,
      "width": null
     }
    },
    "3ee9e4b501d9429fba3e3e43819d109d": {
     "model_module": "@jupyter-widgets/base",
     "model_module_version": "1.2.0",
     "model_name": "LayoutModel",
     "state": {
      "_model_module": "@jupyter-widgets/base",
      "_model_module_version": "1.2.0",
      "_model_name": "LayoutModel",
      "_view_count": null,
      "_view_module": "@jupyter-widgets/base",
      "_view_module_version": "1.2.0",
      "_view_name": "LayoutView",
      "align_content": null,
      "align_items": null,
      "align_self": null,
      "border": null,
      "bottom": null,
      "display": null,
      "flex": null,
      "flex_flow": null,
      "grid_area": null,
      "grid_auto_columns": null,
      "grid_auto_flow": null,
      "grid_auto_rows": null,
      "grid_column": null,
      "grid_gap": null,
      "grid_row": null,
      "grid_template_areas": null,
      "grid_template_columns": null,
      "grid_template_rows": null,
      "height": null,
      "justify_content": null,
      "justify_items": null,
      "left": null,
      "margin": null,
      "max_height": null,
      "max_width": null,
      "min_height": null,
      "min_width": null,
      "object_fit": null,
      "object_position": null,
      "order": null,
      "overflow": null,
      "overflow_x": null,
      "overflow_y": null,
      "padding": null,
      "right": null,
      "top": null,
      "visibility": null,
      "width": null
     }
    },
    "43b783c4758b43358ad6c37031c9f290": {
     "model_module": "@jupyter-widgets/base",
     "model_module_version": "1.2.0",
     "model_name": "LayoutModel",
     "state": {
      "_model_module": "@jupyter-widgets/base",
      "_model_module_version": "1.2.0",
      "_model_name": "LayoutModel",
      "_view_count": null,
      "_view_module": "@jupyter-widgets/base",
      "_view_module_version": "1.2.0",
      "_view_name": "LayoutView",
      "align_content": null,
      "align_items": null,
      "align_self": null,
      "border": null,
      "bottom": null,
      "display": null,
      "flex": null,
      "flex_flow": null,
      "grid_area": null,
      "grid_auto_columns": null,
      "grid_auto_flow": null,
      "grid_auto_rows": null,
      "grid_column": null,
      "grid_gap": null,
      "grid_row": null,
      "grid_template_areas": null,
      "grid_template_columns": null,
      "grid_template_rows": null,
      "height": null,
      "justify_content": null,
      "justify_items": null,
      "left": null,
      "margin": null,
      "max_height": null,
      "max_width": null,
      "min_height": null,
      "min_width": null,
      "object_fit": null,
      "object_position": null,
      "order": null,
      "overflow": null,
      "overflow_x": null,
      "overflow_y": null,
      "padding": null,
      "right": null,
      "top": null,
      "visibility": null,
      "width": null
     }
    },
    "4556f66f53ce4cca93aae48c9121045f": {
     "model_module": "@jupyter-widgets/controls",
     "model_module_version": "1.5.0",
     "model_name": "FloatProgressModel",
     "state": {
      "_dom_classes": [],
      "_model_module": "@jupyter-widgets/controls",
      "_model_module_version": "1.5.0",
      "_model_name": "FloatProgressModel",
      "_view_count": null,
      "_view_module": "@jupyter-widgets/controls",
      "_view_module_version": "1.5.0",
      "_view_name": "ProgressView",
      "bar_style": "success",
      "description": "",
      "description_tooltip": null,
      "layout": "IPY_MODEL_7974992a342f44a6aa6c2abd49125494",
      "max": 122,
      "min": 0,
      "orientation": "horizontal",
      "style": "IPY_MODEL_083f754f2b724757ac3640dba75d919d",
      "value": 122
     }
    },
    "4642fb964a154b908ff325ca4cc66577": {
     "model_module": "@jupyter-widgets/controls",
     "model_module_version": "1.5.0",
     "model_name": "DescriptionStyleModel",
     "state": {
      "_model_module": "@jupyter-widgets/controls",
      "_model_module_version": "1.5.0",
      "_model_name": "DescriptionStyleModel",
      "_view_count": null,
      "_view_module": "@jupyter-widgets/base",
      "_view_module_version": "1.2.0",
      "_view_name": "StyleView",
      "description_width": ""
     }
    },
    "476486ae55264cab8c66ebf647132d18": {
     "model_module": "@jupyter-widgets/controls",
     "model_module_version": "1.5.0",
     "model_name": "HTMLModel",
     "state": {
      "_dom_classes": [],
      "_model_module": "@jupyter-widgets/controls",
      "_model_module_version": "1.5.0",
      "_model_name": "HTMLModel",
      "_view_count": null,
      "_view_module": "@jupyter-widgets/controls",
      "_view_module_version": "1.5.0",
      "_view_name": "HTMLView",
      "description": "",
      "description_tooltip": null,
      "layout": "IPY_MODEL_933a91c23b3747d58baf568461220d80",
      "placeholder": "​",
      "style": "IPY_MODEL_8b2d368f95c646c98907ce11764bb65a",
      "value": " 122/122 [00:00&lt;00:00, 2.49kB/s]"
     }
    },
    "48204dad5b974856a1140b3f2eaa9bf4": {
     "model_module": "@jupyter-widgets/base",
     "model_module_version": "1.2.0",
     "model_name": "LayoutModel",
     "state": {
      "_model_module": "@jupyter-widgets/base",
      "_model_module_version": "1.2.0",
      "_model_name": "LayoutModel",
      "_view_count": null,
      "_view_module": "@jupyter-widgets/base",
      "_view_module_version": "1.2.0",
      "_view_name": "LayoutView",
      "align_content": null,
      "align_items": null,
      "align_self": null,
      "border": null,
      "bottom": null,
      "display": null,
      "flex": null,
      "flex_flow": null,
      "grid_area": null,
      "grid_auto_columns": null,
      "grid_auto_flow": null,
      "grid_auto_rows": null,
      "grid_column": null,
      "grid_gap": null,
      "grid_row": null,
      "grid_template_areas": null,
      "grid_template_columns": null,
      "grid_template_rows": null,
      "height": null,
      "justify_content": null,
      "justify_items": null,
      "left": null,
      "margin": null,
      "max_height": null,
      "max_width": null,
      "min_height": null,
      "min_width": null,
      "object_fit": null,
      "object_position": null,
      "order": null,
      "overflow": null,
      "overflow_x": null,
      "overflow_y": null,
      "padding": null,
      "right": null,
      "top": null,
      "visibility": null,
      "width": null
     }
    },
    "4b11c43a4ae4490a96461276c6cfe818": {
     "model_module": "@jupyter-widgets/controls",
     "model_module_version": "1.5.0",
     "model_name": "DescriptionStyleModel",
     "state": {
      "_model_module": "@jupyter-widgets/controls",
      "_model_module_version": "1.5.0",
      "_model_name": "DescriptionStyleModel",
      "_view_count": null,
      "_view_module": "@jupyter-widgets/base",
      "_view_module_version": "1.2.0",
      "_view_name": "StyleView",
      "description_width": ""
     }
    },
    "4be147597e0b4daebcfc11b40c4dbe1d": {
     "model_module": "@jupyter-widgets/controls",
     "model_module_version": "1.5.0",
     "model_name": "DescriptionStyleModel",
     "state": {
      "_model_module": "@jupyter-widgets/controls",
      "_model_module_version": "1.5.0",
      "_model_name": "DescriptionStyleModel",
      "_view_count": null,
      "_view_module": "@jupyter-widgets/base",
      "_view_module_version": "1.2.0",
      "_view_name": "StyleView",
      "description_width": ""
     }
    },
    "4cbc0d4cfa27476c95207142ac158e8c": {
     "model_module": "@jupyter-widgets/controls",
     "model_module_version": "1.5.0",
     "model_name": "HTMLModel",
     "state": {
      "_dom_classes": [],
      "_model_module": "@jupyter-widgets/controls",
      "_model_module_version": "1.5.0",
      "_model_name": "HTMLModel",
      "_view_count": null,
      "_view_module": "@jupyter-widgets/controls",
      "_view_module_version": "1.5.0",
      "_view_name": "HTMLView",
      "description": "",
      "description_tooltip": null,
      "layout": "IPY_MODEL_dc60edaac8f5470590b75651dc66689e",
      "placeholder": "​",
      "style": "IPY_MODEL_10a36c82048544398be3e876ea15f131",
      "value": "Downloading: 100%"
     }
    },
    "4d85008c1b004b72bfc31cb84a303cba": {
     "model_module": "@jupyter-widgets/controls",
     "model_module_version": "1.5.0",
     "model_name": "HBoxModel",
     "state": {
      "_dom_classes": [],
      "_model_module": "@jupyter-widgets/controls",
      "_model_module_version": "1.5.0",
      "_model_name": "HBoxModel",
      "_view_count": null,
      "_view_module": "@jupyter-widgets/controls",
      "_view_module_version": "1.5.0",
      "_view_name": "HBoxView",
      "box_style": "",
      "children": [
       "IPY_MODEL_c9a9a2fd523b43098037fbc81ad79790",
       "IPY_MODEL_bff8b57e4d2e4ff1b7579fc0cff1e31f",
       "IPY_MODEL_23c8ffbaed854dadb0eab5747d0a77a4"
      ],
      "layout": "IPY_MODEL_a3d18cbd99894a16b62b491ac3f2198f"
     }
    },
    "4e70e363696542199672264c705315bf": {
     "model_module": "@jupyter-widgets/controls",
     "model_module_version": "1.5.0",
     "model_name": "HBoxModel",
     "state": {
      "_dom_classes": [],
      "_model_module": "@jupyter-widgets/controls",
      "_model_module_version": "1.5.0",
      "_model_name": "HBoxModel",
      "_view_count": null,
      "_view_module": "@jupyter-widgets/controls",
      "_view_module_version": "1.5.0",
      "_view_name": "HBoxView",
      "box_style": "",
      "children": [
       "IPY_MODEL_b9a610b8238b42e793bc2f1e736f9210",
       "IPY_MODEL_567b08f8c8e64c3d9ec5aaec8c85ad79",
       "IPY_MODEL_1f379f56a7f1467eafc13fe7b9def385"
      ],
      "layout": "IPY_MODEL_6213f53d2f5d44d0a320e6e1a26408f4"
     }
    },
    "4e77994a15b74c1397e97e085dce8275": {
     "model_module": "@jupyter-widgets/base",
     "model_module_version": "1.2.0",
     "model_name": "LayoutModel",
     "state": {
      "_model_module": "@jupyter-widgets/base",
      "_model_module_version": "1.2.0",
      "_model_name": "LayoutModel",
      "_view_count": null,
      "_view_module": "@jupyter-widgets/base",
      "_view_module_version": "1.2.0",
      "_view_name": "LayoutView",
      "align_content": null,
      "align_items": null,
      "align_self": null,
      "border": null,
      "bottom": null,
      "display": null,
      "flex": null,
      "flex_flow": null,
      "grid_area": null,
      "grid_auto_columns": null,
      "grid_auto_flow": null,
      "grid_auto_rows": null,
      "grid_column": null,
      "grid_gap": null,
      "grid_row": null,
      "grid_template_areas": null,
      "grid_template_columns": null,
      "grid_template_rows": null,
      "height": null,
      "justify_content": null,
      "justify_items": null,
      "left": null,
      "margin": null,
      "max_height": null,
      "max_width": null,
      "min_height": null,
      "min_width": null,
      "object_fit": null,
      "object_position": null,
      "order": null,
      "overflow": null,
      "overflow_x": null,
      "overflow_y": null,
      "padding": null,
      "right": null,
      "top": null,
      "visibility": null,
      "width": null
     }
    },
    "4f1e8bf752bf413e9301778a01ef241f": {
     "model_module": "@jupyter-widgets/controls",
     "model_module_version": "1.5.0",
     "model_name": "HTMLModel",
     "state": {
      "_dom_classes": [],
      "_model_module": "@jupyter-widgets/controls",
      "_model_module_version": "1.5.0",
      "_model_name": "HTMLModel",
      "_view_count": null,
      "_view_module": "@jupyter-widgets/controls",
      "_view_module_version": "1.5.0",
      "_view_name": "HTMLView",
      "description": "",
      "description_tooltip": null,
      "layout": "IPY_MODEL_7ff7cb053f3b44988e66877c82423b47",
      "placeholder": "​",
      "style": "IPY_MODEL_1384e74f87044d78ad69c3ce4fb6bdbe",
      "value": "Downloading: 100%"
     }
    },
    "51ca1792e75f40a1a1d52a094ae050d7": {
     "model_module": "@jupyter-widgets/base",
     "model_module_version": "1.2.0",
     "model_name": "LayoutModel",
     "state": {
      "_model_module": "@jupyter-widgets/base",
      "_model_module_version": "1.2.0",
      "_model_name": "LayoutModel",
      "_view_count": null,
      "_view_module": "@jupyter-widgets/base",
      "_view_module_version": "1.2.0",
      "_view_name": "LayoutView",
      "align_content": null,
      "align_items": null,
      "align_self": null,
      "border": null,
      "bottom": null,
      "display": null,
      "flex": null,
      "flex_flow": null,
      "grid_area": null,
      "grid_auto_columns": null,
      "grid_auto_flow": null,
      "grid_auto_rows": null,
      "grid_column": null,
      "grid_gap": null,
      "grid_row": null,
      "grid_template_areas": null,
      "grid_template_columns": null,
      "grid_template_rows": null,
      "height": null,
      "justify_content": null,
      "justify_items": null,
      "left": null,
      "margin": null,
      "max_height": null,
      "max_width": null,
      "min_height": null,
      "min_width": null,
      "object_fit": null,
      "object_position": null,
      "order": null,
      "overflow": null,
      "overflow_x": null,
      "overflow_y": null,
      "padding": null,
      "right": null,
      "top": null,
      "visibility": null,
      "width": null
     }
    },
    "524c5eeb08044e1bafd813431aeef92a": {
     "model_module": "@jupyter-widgets/controls",
     "model_module_version": "1.5.0",
     "model_name": "DescriptionStyleModel",
     "state": {
      "_model_module": "@jupyter-widgets/controls",
      "_model_module_version": "1.5.0",
      "_model_name": "DescriptionStyleModel",
      "_view_count": null,
      "_view_module": "@jupyter-widgets/base",
      "_view_module_version": "1.2.0",
      "_view_name": "StyleView",
      "description_width": ""
     }
    },
    "539d69013b8441cdab196a24532f4557": {
     "model_module": "@jupyter-widgets/base",
     "model_module_version": "1.2.0",
     "model_name": "LayoutModel",
     "state": {
      "_model_module": "@jupyter-widgets/base",
      "_model_module_version": "1.2.0",
      "_model_name": "LayoutModel",
      "_view_count": null,
      "_view_module": "@jupyter-widgets/base",
      "_view_module_version": "1.2.0",
      "_view_name": "LayoutView",
      "align_content": null,
      "align_items": null,
      "align_self": null,
      "border": null,
      "bottom": null,
      "display": null,
      "flex": null,
      "flex_flow": null,
      "grid_area": null,
      "grid_auto_columns": null,
      "grid_auto_flow": null,
      "grid_auto_rows": null,
      "grid_column": null,
      "grid_gap": null,
      "grid_row": null,
      "grid_template_areas": null,
      "grid_template_columns": null,
      "grid_template_rows": null,
      "height": null,
      "justify_content": null,
      "justify_items": null,
      "left": null,
      "margin": null,
      "max_height": null,
      "max_width": null,
      "min_height": null,
      "min_width": null,
      "object_fit": null,
      "object_position": null,
      "order": null,
      "overflow": null,
      "overflow_x": null,
      "overflow_y": null,
      "padding": null,
      "right": null,
      "top": null,
      "visibility": null,
      "width": null
     }
    },
    "5421d95e78b64428b6c9a759ba33d17d": {
     "model_module": "@jupyter-widgets/controls",
     "model_module_version": "1.5.0",
     "model_name": "ProgressStyleModel",
     "state": {
      "_model_module": "@jupyter-widgets/controls",
      "_model_module_version": "1.5.0",
      "_model_name": "ProgressStyleModel",
      "_view_count": null,
      "_view_module": "@jupyter-widgets/base",
      "_view_module_version": "1.2.0",
      "_view_name": "StyleView",
      "bar_color": null,
      "description_width": ""
     }
    },
    "567b08f8c8e64c3d9ec5aaec8c85ad79": {
     "model_module": "@jupyter-widgets/controls",
     "model_module_version": "1.5.0",
     "model_name": "FloatProgressModel",
     "state": {
      "_dom_classes": [],
      "_model_module": "@jupyter-widgets/controls",
      "_model_module_version": "1.5.0",
      "_model_name": "FloatProgressModel",
      "_view_count": null,
      "_view_module": "@jupyter-widgets/controls",
      "_view_module_version": "1.5.0",
      "_view_name": "ProgressView",
      "bar_style": "success",
      "description": "",
      "description_tooltip": null,
      "layout": "IPY_MODEL_ca11e2d708c9404db4b563e9d4a91774",
      "max": 53,
      "min": 0,
      "orientation": "horizontal",
      "style": "IPY_MODEL_8d4ab004d3b64099a3b76611d39f74a8",
      "value": 53
     }
    },
    "56bdf62bb3814a88961959742c3fa49c": {
     "model_module": "@jupyter-widgets/base",
     "model_module_version": "1.2.0",
     "model_name": "LayoutModel",
     "state": {
      "_model_module": "@jupyter-widgets/base",
      "_model_module_version": "1.2.0",
      "_model_name": "LayoutModel",
      "_view_count": null,
      "_view_module": "@jupyter-widgets/base",
      "_view_module_version": "1.2.0",
      "_view_name": "LayoutView",
      "align_content": null,
      "align_items": null,
      "align_self": null,
      "border": null,
      "bottom": null,
      "display": null,
      "flex": null,
      "flex_flow": null,
      "grid_area": null,
      "grid_auto_columns": null,
      "grid_auto_flow": null,
      "grid_auto_rows": null,
      "grid_column": null,
      "grid_gap": null,
      "grid_row": null,
      "grid_template_areas": null,
      "grid_template_columns": null,
      "grid_template_rows": null,
      "height": null,
      "justify_content": null,
      "justify_items": null,
      "left": null,
      "margin": null,
      "max_height": null,
      "max_width": null,
      "min_height": null,
      "min_width": null,
      "object_fit": null,
      "object_position": null,
      "order": null,
      "overflow": null,
      "overflow_x": null,
      "overflow_y": null,
      "padding": null,
      "right": null,
      "top": null,
      "visibility": null,
      "width": null
     }
    },
    "58b1ecb7d66043038397c5447199d67e": {
     "model_module": "@jupyter-widgets/controls",
     "model_module_version": "1.5.0",
     "model_name": "DescriptionStyleModel",
     "state": {
      "_model_module": "@jupyter-widgets/controls",
      "_model_module_version": "1.5.0",
      "_model_name": "DescriptionStyleModel",
      "_view_count": null,
      "_view_module": "@jupyter-widgets/base",
      "_view_module_version": "1.2.0",
      "_view_name": "StyleView",
      "description_width": ""
     }
    },
    "5a56d210a2d64d96995638b6cf7ef79d": {
     "model_module": "@jupyter-widgets/controls",
     "model_module_version": "1.5.0",
     "model_name": "HTMLModel",
     "state": {
      "_dom_classes": [],
      "_model_module": "@jupyter-widgets/controls",
      "_model_module_version": "1.5.0",
      "_model_name": "HTMLModel",
      "_view_count": null,
      "_view_module": "@jupyter-widgets/controls",
      "_view_module_version": "1.5.0",
      "_view_name": "HTMLView",
      "description": "",
      "description_tooltip": null,
      "layout": "IPY_MODEL_7ace6c9297174dc38601467f2ff8b666",
      "placeholder": "​",
      "style": "IPY_MODEL_a4381e08ad9f40f889c654942eb090bb",
      "value": " 3.95k/3.95k [00:00&lt;00:00, 93.3kB/s]"
     }
    },
    "5c3a4b491d8a445282bf043a932fec41": {
     "model_module": "@jupyter-widgets/base",
     "model_module_version": "1.2.0",
     "model_name": "LayoutModel",
     "state": {
      "_model_module": "@jupyter-widgets/base",
      "_model_module_version": "1.2.0",
      "_model_name": "LayoutModel",
      "_view_count": null,
      "_view_module": "@jupyter-widgets/base",
      "_view_module_version": "1.2.0",
      "_view_name": "LayoutView",
      "align_content": null,
      "align_items": null,
      "align_self": null,
      "border": null,
      "bottom": null,
      "display": null,
      "flex": null,
      "flex_flow": null,
      "grid_area": null,
      "grid_auto_columns": null,
      "grid_auto_flow": null,
      "grid_auto_rows": null,
      "grid_column": null,
      "grid_gap": null,
      "grid_row": null,
      "grid_template_areas": null,
      "grid_template_columns": null,
      "grid_template_rows": null,
      "height": null,
      "justify_content": null,
      "justify_items": null,
      "left": null,
      "margin": null,
      "max_height": null,
      "max_width": null,
      "min_height": null,
      "min_width": null,
      "object_fit": null,
      "object_position": null,
      "order": null,
      "overflow": null,
      "overflow_x": null,
      "overflow_y": null,
      "padding": null,
      "right": null,
      "top": null,
      "visibility": null,
      "width": null
     }
    },
    "5cae63dbaefb416dbb66960680a63cfe": {
     "model_module": "@jupyter-widgets/controls",
     "model_module_version": "1.5.0",
     "model_name": "FloatProgressModel",
     "state": {
      "_dom_classes": [],
      "_model_module": "@jupyter-widgets/controls",
      "_model_module_version": "1.5.0",
      "_model_name": "FloatProgressModel",
      "_view_count": null,
      "_view_module": "@jupyter-widgets/controls",
      "_view_module_version": "1.5.0",
      "_view_name": "ProgressView",
      "bar_style": "success",
      "description": "",
      "description_tooltip": null,
      "layout": "IPY_MODEL_3e46da9b7ee24df2be2b81e4667df9b1",
      "max": 3951,
      "min": 0,
      "orientation": "horizontal",
      "style": "IPY_MODEL_5421d95e78b64428b6c9a759ba33d17d",
      "value": 3951
     }
    },
    "5f5472cf66ed44fda3ff159bd931ab83": {
     "model_module": "@jupyter-widgets/controls",
     "model_module_version": "1.5.0",
     "model_name": "DescriptionStyleModel",
     "state": {
      "_model_module": "@jupyter-widgets/controls",
      "_model_module_version": "1.5.0",
      "_model_name": "DescriptionStyleModel",
      "_view_count": null,
      "_view_module": "@jupyter-widgets/base",
      "_view_module_version": "1.2.0",
      "_view_name": "StyleView",
      "description_width": ""
     }
    },
    "5f976f4c6a254cd3b7388fa91601bc81": {
     "model_module": "@jupyter-widgets/controls",
     "model_module_version": "1.5.0",
     "model_name": "HTMLModel",
     "state": {
      "_dom_classes": [],
      "_model_module": "@jupyter-widgets/controls",
      "_model_module_version": "1.5.0",
      "_model_name": "HTMLModel",
      "_view_count": null,
      "_view_module": "@jupyter-widgets/controls",
      "_view_module_version": "1.5.0",
      "_view_name": "HTMLView",
      "description": "",
      "description_tooltip": null,
      "layout": "IPY_MODEL_3b0de08ac83446b4bbed8457b9878941",
      "placeholder": "​",
      "style": "IPY_MODEL_fa3274cfcd154f6b8ffd07bb6e418570",
      "value": "Downloading: 100%"
     }
    },
    "619491dc39f449fcb03663a2e3cffcea": {
     "model_module": "@jupyter-widgets/controls",
     "model_module_version": "1.5.0",
     "model_name": "FloatProgressModel",
     "state": {
      "_dom_classes": [],
      "_model_module": "@jupyter-widgets/controls",
      "_model_module_version": "1.5.0",
      "_model_name": "FloatProgressModel",
      "_view_count": null,
      "_view_module": "@jupyter-widgets/controls",
      "_view_module_version": "1.5.0",
      "_view_name": "ProgressView",
      "bar_style": "success",
      "description": "",
      "description_tooltip": null,
      "layout": "IPY_MODEL_bb288f2cc846455eb3c9debffb4cfd0f",
      "max": 231508,
      "min": 0,
      "orientation": "horizontal",
      "style": "IPY_MODEL_373581d0b036412a93e27f2bffa972c8",
      "value": 231508
     }
    },
    "6213f53d2f5d44d0a320e6e1a26408f4": {
     "model_module": "@jupyter-widgets/base",
     "model_module_version": "1.2.0",
     "model_name": "LayoutModel",
     "state": {
      "_model_module": "@jupyter-widgets/base",
      "_model_module_version": "1.2.0",
      "_model_name": "LayoutModel",
      "_view_count": null,
      "_view_module": "@jupyter-widgets/base",
      "_view_module_version": "1.2.0",
      "_view_name": "LayoutView",
      "align_content": null,
      "align_items": null,
      "align_self": null,
      "border": null,
      "bottom": null,
      "display": null,
      "flex": null,
      "flex_flow": null,
      "grid_area": null,
      "grid_auto_columns": null,
      "grid_auto_flow": null,
      "grid_auto_rows": null,
      "grid_column": null,
      "grid_gap": null,
      "grid_row": null,
      "grid_template_areas": null,
      "grid_template_columns": null,
      "grid_template_rows": null,
      "height": null,
      "justify_content": null,
      "justify_items": null,
      "left": null,
      "margin": null,
      "max_height": null,
      "max_width": null,
      "min_height": null,
      "min_width": null,
      "object_fit": null,
      "object_position": null,
      "order": null,
      "overflow": null,
      "overflow_x": null,
      "overflow_y": null,
      "padding": null,
      "right": null,
      "top": null,
      "visibility": null,
      "width": null
     }
    },
    "63cf1f5e854a4a70897c60b98fab2f32": {
     "model_module": "@jupyter-widgets/controls",
     "model_module_version": "1.5.0",
     "model_name": "DescriptionStyleModel",
     "state": {
      "_model_module": "@jupyter-widgets/controls",
      "_model_module_version": "1.5.0",
      "_model_name": "DescriptionStyleModel",
      "_view_count": null,
      "_view_module": "@jupyter-widgets/base",
      "_view_module_version": "1.2.0",
      "_view_name": "StyleView",
      "description_width": ""
     }
    },
    "646423b796b54a6e8661c8983bbdf7b7": {
     "model_module": "@jupyter-widgets/controls",
     "model_module_version": "1.5.0",
     "model_name": "HTMLModel",
     "state": {
      "_dom_classes": [],
      "_model_module": "@jupyter-widgets/controls",
      "_model_module_version": "1.5.0",
      "_model_name": "HTMLModel",
      "_view_count": null,
      "_view_module": "@jupyter-widgets/controls",
      "_view_module_version": "1.5.0",
      "_view_name": "HTMLView",
      "description": "",
      "description_tooltip": null,
      "layout": "IPY_MODEL_fe684788f7124f95a58850c2df3811d2",
      "placeholder": "​",
      "style": "IPY_MODEL_d3d862c841724e4cb72fdc00d12b6b3b",
      "value": " 625/625 [00:00&lt;00:00, 11.1kB/s]"
     }
    },
    "65c4e46b273f45dda26494b3e3fc5a7d": {
     "model_module": "@jupyter-widgets/controls",
     "model_module_version": "1.5.0",
     "model_name": "HBoxModel",
     "state": {
      "_dom_classes": [],
      "_model_module": "@jupyter-widgets/controls",
      "_model_module_version": "1.5.0",
      "_model_name": "HBoxModel",
      "_view_count": null,
      "_view_module": "@jupyter-widgets/controls",
      "_view_module_version": "1.5.0",
      "_view_name": "HBoxView",
      "box_style": "",
      "children": [
       "IPY_MODEL_daf08b292b3249ac9bde544b65def8ad",
       "IPY_MODEL_78350fa26e0245c980cd8870bcebbd2c",
       "IPY_MODEL_b6d7e0ca79ad4c2dac2842595b05e960"
      ],
      "layout": "IPY_MODEL_03cd3f15aeea4d26ba970e302babe228"
     }
    },
    "67cc1b5ce4c24e4c9a342615643ef890": {
     "model_module": "@jupyter-widgets/base",
     "model_module_version": "1.2.0",
     "model_name": "LayoutModel",
     "state": {
      "_model_module": "@jupyter-widgets/base",
      "_model_module_version": "1.2.0",
      "_model_name": "LayoutModel",
      "_view_count": null,
      "_view_module": "@jupyter-widgets/base",
      "_view_module_version": "1.2.0",
      "_view_name": "LayoutView",
      "align_content": null,
      "align_items": null,
      "align_self": null,
      "border": null,
      "bottom": null,
      "display": null,
      "flex": null,
      "flex_flow": null,
      "grid_area": null,
      "grid_auto_columns": null,
      "grid_auto_flow": null,
      "grid_auto_rows": null,
      "grid_column": null,
      "grid_gap": null,
      "grid_row": null,
      "grid_template_areas": null,
      "grid_template_columns": null,
      "grid_template_rows": null,
      "height": null,
      "justify_content": null,
      "justify_items": null,
      "left": null,
      "margin": null,
      "max_height": null,
      "max_width": null,
      "min_height": null,
      "min_width": null,
      "object_fit": null,
      "object_position": null,
      "order": null,
      "overflow": null,
      "overflow_x": null,
      "overflow_y": null,
      "padding": null,
      "right": null,
      "top": null,
      "visibility": null,
      "width": null
     }
    },
    "684681294323425fb57662a79e368cdc": {
     "model_module": "@jupyter-widgets/controls",
     "model_module_version": "1.5.0",
     "model_name": "ProgressStyleModel",
     "state": {
      "_model_module": "@jupyter-widgets/controls",
      "_model_module_version": "1.5.0",
      "_model_name": "ProgressStyleModel",
      "_view_count": null,
      "_view_module": "@jupyter-widgets/base",
      "_view_module_version": "1.2.0",
      "_view_name": "StyleView",
      "bar_color": null,
      "description_width": ""
     }
    },
    "688087fdce5145e197f07fa686e2f2d3": {
     "model_module": "@jupyter-widgets/controls",
     "model_module_version": "1.5.0",
     "model_name": "HBoxModel",
     "state": {
      "_dom_classes": [],
      "_model_module": "@jupyter-widgets/controls",
      "_model_module_version": "1.5.0",
      "_model_name": "HBoxModel",
      "_view_count": null,
      "_view_module": "@jupyter-widgets/controls",
      "_view_module_version": "1.5.0",
      "_view_name": "HBoxView",
      "box_style": "",
      "children": [
       "IPY_MODEL_1cf08a4192c049dc95df982bc75e0300",
       "IPY_MODEL_619491dc39f449fcb03663a2e3cffcea",
       "IPY_MODEL_95c47eee072441818cf09920f699342d"
      ],
      "layout": "IPY_MODEL_96bff95345564072b876471486fca7e5"
     }
    },
    "6b9824b2e0ac4adf97fb13e73951caa2": {
     "model_module": "@jupyter-widgets/base",
     "model_module_version": "1.2.0",
     "model_name": "LayoutModel",
     "state": {
      "_model_module": "@jupyter-widgets/base",
      "_model_module_version": "1.2.0",
      "_model_name": "LayoutModel",
      "_view_count": null,
      "_view_module": "@jupyter-widgets/base",
      "_view_module_version": "1.2.0",
      "_view_name": "LayoutView",
      "align_content": null,
      "align_items": null,
      "align_self": null,
      "border": null,
      "bottom": null,
      "display": null,
      "flex": null,
      "flex_flow": null,
      "grid_area": null,
      "grid_auto_columns": null,
      "grid_auto_flow": null,
      "grid_auto_rows": null,
      "grid_column": null,
      "grid_gap": null,
      "grid_row": null,
      "grid_template_areas": null,
      "grid_template_columns": null,
      "grid_template_rows": null,
      "height": null,
      "justify_content": null,
      "justify_items": null,
      "left": null,
      "margin": null,
      "max_height": null,
      "max_width": null,
      "min_height": null,
      "min_width": null,
      "object_fit": null,
      "object_position": null,
      "order": null,
      "overflow": null,
      "overflow_x": null,
      "overflow_y": null,
      "padding": null,
      "right": null,
      "top": null,
      "visibility": null,
      "width": null
     }
    },
    "6f81f3059099402494eac515d9544f76": {
     "model_module": "@jupyter-widgets/controls",
     "model_module_version": "1.5.0",
     "model_name": "DescriptionStyleModel",
     "state": {
      "_model_module": "@jupyter-widgets/controls",
      "_model_module_version": "1.5.0",
      "_model_name": "DescriptionStyleModel",
      "_view_count": null,
      "_view_module": "@jupyter-widgets/base",
      "_view_module_version": "1.2.0",
      "_view_name": "StyleView",
      "description_width": ""
     }
    },
    "7104294b11a941b8b48aa8c2c37f7e20": {
     "model_module": "@jupyter-widgets/controls",
     "model_module_version": "1.5.0",
     "model_name": "DescriptionStyleModel",
     "state": {
      "_model_module": "@jupyter-widgets/controls",
      "_model_module_version": "1.5.0",
      "_model_name": "DescriptionStyleModel",
      "_view_count": null,
      "_view_module": "@jupyter-widgets/base",
      "_view_module_version": "1.2.0",
      "_view_name": "StyleView",
      "description_width": ""
     }
    },
    "741ad35442a340f68f9442a6bedb5fcd": {
     "model_module": "@jupyter-widgets/controls",
     "model_module_version": "1.5.0",
     "model_name": "ProgressStyleModel",
     "state": {
      "_model_module": "@jupyter-widgets/controls",
      "_model_module_version": "1.5.0",
      "_model_name": "ProgressStyleModel",
      "_view_count": null,
      "_view_module": "@jupyter-widgets/base",
      "_view_module_version": "1.2.0",
      "_view_name": "StyleView",
      "bar_color": null,
      "description_width": ""
     }
    },
    "765f1a283ecc46fe9d5d3ca798a1ae6c": {
     "model_module": "@jupyter-widgets/base",
     "model_module_version": "1.2.0",
     "model_name": "LayoutModel",
     "state": {
      "_model_module": "@jupyter-widgets/base",
      "_model_module_version": "1.2.0",
      "_model_name": "LayoutModel",
      "_view_count": null,
      "_view_module": "@jupyter-widgets/base",
      "_view_module_version": "1.2.0",
      "_view_name": "LayoutView",
      "align_content": null,
      "align_items": null,
      "align_self": null,
      "border": null,
      "bottom": null,
      "display": null,
      "flex": null,
      "flex_flow": null,
      "grid_area": null,
      "grid_auto_columns": null,
      "grid_auto_flow": null,
      "grid_auto_rows": null,
      "grid_column": null,
      "grid_gap": null,
      "grid_row": null,
      "grid_template_areas": null,
      "grid_template_columns": null,
      "grid_template_rows": null,
      "height": null,
      "justify_content": null,
      "justify_items": null,
      "left": null,
      "margin": null,
      "max_height": null,
      "max_width": null,
      "min_height": null,
      "min_width": null,
      "object_fit": null,
      "object_position": null,
      "order": null,
      "overflow": null,
      "overflow_x": null,
      "overflow_y": null,
      "padding": null,
      "right": null,
      "top": null,
      "visibility": null,
      "width": null
     }
    },
    "78350fa26e0245c980cd8870bcebbd2c": {
     "model_module": "@jupyter-widgets/controls",
     "model_module_version": "1.5.0",
     "model_name": "FloatProgressModel",
     "state": {
      "_dom_classes": [],
      "_model_module": "@jupyter-widgets/controls",
      "_model_module_version": "1.5.0",
      "_model_name": "FloatProgressModel",
      "_view_count": null,
      "_view_module": "@jupyter-widgets/controls",
      "_view_module_version": "1.5.0",
      "_view_name": "ProgressView",
      "bar_style": "success",
      "description": "",
      "description_tooltip": null,
      "layout": "IPY_MODEL_3ee9e4b501d9429fba3e3e43819d109d",
      "max": 112,
      "min": 0,
      "orientation": "horizontal",
      "style": "IPY_MODEL_fa29d186c2ac40668ca60968f0a9273f",
      "value": 112
     }
    },
    "7974992a342f44a6aa6c2abd49125494": {
     "model_module": "@jupyter-widgets/base",
     "model_module_version": "1.2.0",
     "model_name": "LayoutModel",
     "state": {
      "_model_module": "@jupyter-widgets/base",
      "_model_module_version": "1.2.0",
      "_model_name": "LayoutModel",
      "_view_count": null,
      "_view_module": "@jupyter-widgets/base",
      "_view_module_version": "1.2.0",
      "_view_name": "LayoutView",
      "align_content": null,
      "align_items": null,
      "align_self": null,
      "border": null,
      "bottom": null,
      "display": null,
      "flex": null,
      "flex_flow": null,
      "grid_area": null,
      "grid_auto_columns": null,
      "grid_auto_flow": null,
      "grid_auto_rows": null,
      "grid_column": null,
      "grid_gap": null,
      "grid_row": null,
      "grid_template_areas": null,
      "grid_template_columns": null,
      "grid_template_rows": null,
      "height": null,
      "justify_content": null,
      "justify_items": null,
      "left": null,
      "margin": null,
      "max_height": null,
      "max_width": null,
      "min_height": null,
      "min_width": null,
      "object_fit": null,
      "object_position": null,
      "order": null,
      "overflow": null,
      "overflow_x": null,
      "overflow_y": null,
      "padding": null,
      "right": null,
      "top": null,
      "visibility": null,
      "width": null
     }
    },
    "7ace6c9297174dc38601467f2ff8b666": {
     "model_module": "@jupyter-widgets/base",
     "model_module_version": "1.2.0",
     "model_name": "LayoutModel",
     "state": {
      "_model_module": "@jupyter-widgets/base",
      "_model_module_version": "1.2.0",
      "_model_name": "LayoutModel",
      "_view_count": null,
      "_view_module": "@jupyter-widgets/base",
      "_view_module_version": "1.2.0",
      "_view_name": "LayoutView",
      "align_content": null,
      "align_items": null,
      "align_self": null,
      "border": null,
      "bottom": null,
      "display": null,
      "flex": null,
      "flex_flow": null,
      "grid_area": null,
      "grid_auto_columns": null,
      "grid_auto_flow": null,
      "grid_auto_rows": null,
      "grid_column": null,
      "grid_gap": null,
      "grid_row": null,
      "grid_template_areas": null,
      "grid_template_columns": null,
      "grid_template_rows": null,
      "height": null,
      "justify_content": null,
      "justify_items": null,
      "left": null,
      "margin": null,
      "max_height": null,
      "max_width": null,
      "min_height": null,
      "min_width": null,
      "object_fit": null,
      "object_position": null,
      "order": null,
      "overflow": null,
      "overflow_x": null,
      "overflow_y": null,
      "padding": null,
      "right": null,
      "top": null,
      "visibility": null,
      "width": null
     }
    },
    "7d6cca0d62df417d9b9ac7c11e4eb01e": {
     "model_module": "@jupyter-widgets/base",
     "model_module_version": "1.2.0",
     "model_name": "LayoutModel",
     "state": {
      "_model_module": "@jupyter-widgets/base",
      "_model_module_version": "1.2.0",
      "_model_name": "LayoutModel",
      "_view_count": null,
      "_view_module": "@jupyter-widgets/base",
      "_view_module_version": "1.2.0",
      "_view_name": "LayoutView",
      "align_content": null,
      "align_items": null,
      "align_self": null,
      "border": null,
      "bottom": null,
      "display": null,
      "flex": null,
      "flex_flow": null,
      "grid_area": null,
      "grid_auto_columns": null,
      "grid_auto_flow": null,
      "grid_auto_rows": null,
      "grid_column": null,
      "grid_gap": null,
      "grid_row": null,
      "grid_template_areas": null,
      "grid_template_columns": null,
      "grid_template_rows": null,
      "height": null,
      "justify_content": null,
      "justify_items": null,
      "left": null,
      "margin": null,
      "max_height": null,
      "max_width": null,
      "min_height": null,
      "min_width": null,
      "object_fit": null,
      "object_position": null,
      "order": null,
      "overflow": null,
      "overflow_x": null,
      "overflow_y": null,
      "padding": null,
      "right": null,
      "top": null,
      "visibility": null,
      "width": null
     }
    },
    "7ed05b43472c4a5e935fb2a403c2d8dc": {
     "model_module": "@jupyter-widgets/controls",
     "model_module_version": "1.5.0",
     "model_name": "DescriptionStyleModel",
     "state": {
      "_model_module": "@jupyter-widgets/controls",
      "_model_module_version": "1.5.0",
      "_model_name": "DescriptionStyleModel",
      "_view_count": null,
      "_view_module": "@jupyter-widgets/base",
      "_view_module_version": "1.2.0",
      "_view_name": "StyleView",
      "description_width": ""
     }
    },
    "7eeb49957f7d4313a8219f4011665c39": {
     "model_module": "@jupyter-widgets/base",
     "model_module_version": "1.2.0",
     "model_name": "LayoutModel",
     "state": {
      "_model_module": "@jupyter-widgets/base",
      "_model_module_version": "1.2.0",
      "_model_name": "LayoutModel",
      "_view_count": null,
      "_view_module": "@jupyter-widgets/base",
      "_view_module_version": "1.2.0",
      "_view_name": "LayoutView",
      "align_content": null,
      "align_items": null,
      "align_self": null,
      "border": null,
      "bottom": null,
      "display": null,
      "flex": null,
      "flex_flow": null,
      "grid_area": null,
      "grid_auto_columns": null,
      "grid_auto_flow": null,
      "grid_auto_rows": null,
      "grid_column": null,
      "grid_gap": null,
      "grid_row": null,
      "grid_template_areas": null,
      "grid_template_columns": null,
      "grid_template_rows": null,
      "height": null,
      "justify_content": null,
      "justify_items": null,
      "left": null,
      "margin": null,
      "max_height": null,
      "max_width": null,
      "min_height": null,
      "min_width": null,
      "object_fit": null,
      "object_position": null,
      "order": null,
      "overflow": null,
      "overflow_x": null,
      "overflow_y": null,
      "padding": null,
      "right": null,
      "top": null,
      "visibility": null,
      "width": null
     }
    },
    "7eeff6c749734e5ea853ec78d3e21018": {
     "model_module": "@jupyter-widgets/controls",
     "model_module_version": "1.5.0",
     "model_name": "FloatProgressModel",
     "state": {
      "_dom_classes": [],
      "_model_module": "@jupyter-widgets/controls",
      "_model_module_version": "1.5.0",
      "_model_name": "FloatProgressModel",
      "_view_count": null,
      "_view_module": "@jupyter-widgets/controls",
      "_view_module_version": "1.5.0",
      "_view_name": "ProgressView",
      "bar_style": "success",
      "description": "",
      "description_tooltip": null,
      "layout": "IPY_MODEL_8a7d0591f0b44b82bdbb769c6f8cf05d",
      "max": 438007537,
      "min": 0,
      "orientation": "horizontal",
      "style": "IPY_MODEL_c4712fcf0faf454b9f6bfdd38757dc11",
      "value": 438007537
     }
    },
    "7ff7cb053f3b44988e66877c82423b47": {
     "model_module": "@jupyter-widgets/base",
     "model_module_version": "1.2.0",
     "model_name": "LayoutModel",
     "state": {
      "_model_module": "@jupyter-widgets/base",
      "_model_module_version": "1.2.0",
      "_model_name": "LayoutModel",
      "_view_count": null,
      "_view_module": "@jupyter-widgets/base",
      "_view_module_version": "1.2.0",
      "_view_name": "LayoutView",
      "align_content": null,
      "align_items": null,
      "align_self": null,
      "border": null,
      "bottom": null,
      "display": null,
      "flex": null,
      "flex_flow": null,
      "grid_area": null,
      "grid_auto_columns": null,
      "grid_auto_flow": null,
      "grid_auto_rows": null,
      "grid_column": null,
      "grid_gap": null,
      "grid_row": null,
      "grid_template_areas": null,
      "grid_template_columns": null,
      "grid_template_rows": null,
      "height": null,
      "justify_content": null,
      "justify_items": null,
      "left": null,
      "margin": null,
      "max_height": null,
      "max_width": null,
      "min_height": null,
      "min_width": null,
      "object_fit": null,
      "object_position": null,
      "order": null,
      "overflow": null,
      "overflow_x": null,
      "overflow_y": null,
      "padding": null,
      "right": null,
      "top": null,
      "visibility": null,
      "width": null
     }
    },
    "802eeb7802f14e62beaacb9697d5eb4e": {
     "model_module": "@jupyter-widgets/controls",
     "model_module_version": "1.5.0",
     "model_name": "FloatProgressModel",
     "state": {
      "_dom_classes": [],
      "_model_module": "@jupyter-widgets/controls",
      "_model_module_version": "1.5.0",
      "_model_name": "FloatProgressModel",
      "_view_count": null,
      "_view_module": "@jupyter-widgets/controls",
      "_view_module_version": "1.5.0",
      "_view_name": "ProgressView",
      "bar_style": "success",
      "description": "",
      "description_tooltip": null,
      "layout": "IPY_MODEL_e59385be54064f5386b72ee3bf1292f6",
      "max": 466081,
      "min": 0,
      "orientation": "horizontal",
      "style": "IPY_MODEL_8156e47d9ae9437b9bab5973f8ccb03b",
      "value": 466081
     }
    },
    "8156e47d9ae9437b9bab5973f8ccb03b": {
     "model_module": "@jupyter-widgets/controls",
     "model_module_version": "1.5.0",
     "model_name": "ProgressStyleModel",
     "state": {
      "_model_module": "@jupyter-widgets/controls",
      "_model_module_version": "1.5.0",
      "_model_name": "ProgressStyleModel",
      "_view_count": null,
      "_view_module": "@jupyter-widgets/base",
      "_view_module_version": "1.2.0",
      "_view_name": "StyleView",
      "bar_color": null,
      "description_width": ""
     }
    },
    "818312cee8904be78aba1635e04846f1": {
     "model_module": "@jupyter-widgets/controls",
     "model_module_version": "1.5.0",
     "model_name": "DescriptionStyleModel",
     "state": {
      "_model_module": "@jupyter-widgets/controls",
      "_model_module_version": "1.5.0",
      "_model_name": "DescriptionStyleModel",
      "_view_count": null,
      "_view_module": "@jupyter-widgets/base",
      "_view_module_version": "1.2.0",
      "_view_name": "StyleView",
      "description_width": ""
     }
    },
    "845c3fe5eced4fcca39c33c11ea9a670": {
     "model_module": "@jupyter-widgets/controls",
     "model_module_version": "1.5.0",
     "model_name": "HTMLModel",
     "state": {
      "_dom_classes": [],
      "_model_module": "@jupyter-widgets/controls",
      "_model_module_version": "1.5.0",
      "_model_name": "HTMLModel",
      "_view_count": null,
      "_view_module": "@jupyter-widgets/controls",
      "_view_module_version": "1.5.0",
      "_view_name": "HTMLView",
      "description": "",
      "description_tooltip": null,
      "layout": "IPY_MODEL_48204dad5b974856a1140b3f2eaa9bf4",
      "placeholder": "​",
      "style": "IPY_MODEL_21a3c64147af4053a83bb31dafbdd983",
      "value": "Downloading: 100%"
     }
    },
    "848e820e5cad4a3e8c5eebcafd1839ed": {
     "model_module": "@jupyter-widgets/controls",
     "model_module_version": "1.5.0",
     "model_name": "HTMLModel",
     "state": {
      "_dom_classes": [],
      "_model_module": "@jupyter-widgets/controls",
      "_model_module_version": "1.5.0",
      "_model_name": "HTMLModel",
      "_view_count": null,
      "_view_module": "@jupyter-widgets/controls",
      "_view_module_version": "1.5.0",
      "_view_name": "HTMLView",
      "description": "",
      "description_tooltip": null,
      "layout": "IPY_MODEL_3a56214cb3f54a50ac94b89ca5f80886",
      "placeholder": "​",
      "style": "IPY_MODEL_7104294b11a941b8b48aa8c2c37f7e20",
      "value": " 391/391 [00:00&lt;00:00, 10.2kB/s]"
     }
    },
    "8521d1078fce4a20b3d336e5bb05afc1": {
     "model_module": "@jupyter-widgets/controls",
     "model_module_version": "1.5.0",
     "model_name": "HBoxModel",
     "state": {
      "_dom_classes": [],
      "_model_module": "@jupyter-widgets/controls",
      "_model_module_version": "1.5.0",
      "_model_name": "HBoxModel",
      "_view_count": null,
      "_view_module": "@jupyter-widgets/controls",
      "_view_module_version": "1.5.0",
      "_view_name": "HBoxView",
      "box_style": "",
      "children": [
       "IPY_MODEL_4f1e8bf752bf413e9301778a01ef241f",
       "IPY_MODEL_5cae63dbaefb416dbb66960680a63cfe",
       "IPY_MODEL_5a56d210a2d64d96995638b6cf7ef79d"
      ],
      "layout": "IPY_MODEL_ebc42306c0744651a247708388d42392"
     }
    },
    "8a7d0591f0b44b82bdbb769c6f8cf05d": {
     "model_module": "@jupyter-widgets/base",
     "model_module_version": "1.2.0",
     "model_name": "LayoutModel",
     "state": {
      "_model_module": "@jupyter-widgets/base",
      "_model_module_version": "1.2.0",
      "_model_name": "LayoutModel",
      "_view_count": null,
      "_view_module": "@jupyter-widgets/base",
      "_view_module_version": "1.2.0",
      "_view_name": "LayoutView",
      "align_content": null,
      "align_items": null,
      "align_self": null,
      "border": null,
      "bottom": null,
      "display": null,
      "flex": null,
      "flex_flow": null,
      "grid_area": null,
      "grid_auto_columns": null,
      "grid_auto_flow": null,
      "grid_auto_rows": null,
      "grid_column": null,
      "grid_gap": null,
      "grid_row": null,
      "grid_template_areas": null,
      "grid_template_columns": null,
      "grid_template_rows": null,
      "height": null,
      "justify_content": null,
      "justify_items": null,
      "left": null,
      "margin": null,
      "max_height": null,
      "max_width": null,
      "min_height": null,
      "min_width": null,
      "object_fit": null,
      "object_position": null,
      "order": null,
      "overflow": null,
      "overflow_x": null,
      "overflow_y": null,
      "padding": null,
      "right": null,
      "top": null,
      "visibility": null,
      "width": null
     }
    },
    "8b2d368f95c646c98907ce11764bb65a": {
     "model_module": "@jupyter-widgets/controls",
     "model_module_version": "1.5.0",
     "model_name": "DescriptionStyleModel",
     "state": {
      "_model_module": "@jupyter-widgets/controls",
      "_model_module_version": "1.5.0",
      "_model_name": "DescriptionStyleModel",
      "_view_count": null,
      "_view_module": "@jupyter-widgets/base",
      "_view_module_version": "1.2.0",
      "_view_name": "StyleView",
      "description_width": ""
     }
    },
    "8d4ab004d3b64099a3b76611d39f74a8": {
     "model_module": "@jupyter-widgets/controls",
     "model_module_version": "1.5.0",
     "model_name": "ProgressStyleModel",
     "state": {
      "_model_module": "@jupyter-widgets/controls",
      "_model_module_version": "1.5.0",
      "_model_name": "ProgressStyleModel",
      "_view_count": null,
      "_view_module": "@jupyter-widgets/base",
      "_view_module_version": "1.2.0",
      "_view_name": "StyleView",
      "bar_color": null,
      "description_width": ""
     }
    },
    "8f424fe71e7342208b387729462a4409": {
     "model_module": "@jupyter-widgets/controls",
     "model_module_version": "1.5.0",
     "model_name": "HBoxModel",
     "state": {
      "_dom_classes": [],
      "_model_module": "@jupyter-widgets/controls",
      "_model_module_version": "1.5.0",
      "_model_name": "HBoxModel",
      "_view_count": null,
      "_view_module": "@jupyter-widgets/controls",
      "_view_module_version": "1.5.0",
      "_view_name": "HBoxView",
      "box_style": "",
      "children": [
       "IPY_MODEL_5f976f4c6a254cd3b7388fa91601bc81",
       "IPY_MODEL_4556f66f53ce4cca93aae48c9121045f",
       "IPY_MODEL_476486ae55264cab8c66ebf647132d18"
      ],
      "layout": "IPY_MODEL_c1b26a46625d4db0905d9942cb3cef34"
     }
    },
    "933a91c23b3747d58baf568461220d80": {
     "model_module": "@jupyter-widgets/base",
     "model_module_version": "1.2.0",
     "model_name": "LayoutModel",
     "state": {
      "_model_module": "@jupyter-widgets/base",
      "_model_module_version": "1.2.0",
      "_model_name": "LayoutModel",
      "_view_count": null,
      "_view_module": "@jupyter-widgets/base",
      "_view_module_version": "1.2.0",
      "_view_name": "LayoutView",
      "align_content": null,
      "align_items": null,
      "align_self": null,
      "border": null,
      "bottom": null,
      "display": null,
      "flex": null,
      "flex_flow": null,
      "grid_area": null,
      "grid_auto_columns": null,
      "grid_auto_flow": null,
      "grid_auto_rows": null,
      "grid_column": null,
      "grid_gap": null,
      "grid_row": null,
      "grid_template_areas": null,
      "grid_template_columns": null,
      "grid_template_rows": null,
      "height": null,
      "justify_content": null,
      "justify_items": null,
      "left": null,
      "margin": null,
      "max_height": null,
      "max_width": null,
      "min_height": null,
      "min_width": null,
      "object_fit": null,
      "object_position": null,
      "order": null,
      "overflow": null,
      "overflow_x": null,
      "overflow_y": null,
      "padding": null,
      "right": null,
      "top": null,
      "visibility": null,
      "width": null
     }
    },
    "95c47eee072441818cf09920f699342d": {
     "model_module": "@jupyter-widgets/controls",
     "model_module_version": "1.5.0",
     "model_name": "HTMLModel",
     "state": {
      "_dom_classes": [],
      "_model_module": "@jupyter-widgets/controls",
      "_model_module_version": "1.5.0",
      "_model_name": "HTMLModel",
      "_view_count": null,
      "_view_module": "@jupyter-widgets/controls",
      "_view_module_version": "1.5.0",
      "_view_name": "HTMLView",
      "description": "",
      "description_tooltip": null,
      "layout": "IPY_MODEL_15c0b17e98914f58bc43af9a4f58bb02",
      "placeholder": "​",
      "style": "IPY_MODEL_58b1ecb7d66043038397c5447199d67e",
      "value": " 232k/232k [00:00&lt;00:00, 339kB/s]"
     }
    },
    "96bff95345564072b876471486fca7e5": {
     "model_module": "@jupyter-widgets/base",
     "model_module_version": "1.2.0",
     "model_name": "LayoutModel",
     "state": {
      "_model_module": "@jupyter-widgets/base",
      "_model_module_version": "1.2.0",
      "_model_name": "LayoutModel",
      "_view_count": null,
      "_view_module": "@jupyter-widgets/base",
      "_view_module_version": "1.2.0",
      "_view_name": "LayoutView",
      "align_content": null,
      "align_items": null,
      "align_self": null,
      "border": null,
      "bottom": null,
      "display": null,
      "flex": null,
      "flex_flow": null,
      "grid_area": null,
      "grid_auto_columns": null,
      "grid_auto_flow": null,
      "grid_auto_rows": null,
      "grid_column": null,
      "grid_gap": null,
      "grid_row": null,
      "grid_template_areas": null,
      "grid_template_columns": null,
      "grid_template_rows": null,
      "height": null,
      "justify_content": null,
      "justify_items": null,
      "left": null,
      "margin": null,
      "max_height": null,
      "max_width": null,
      "min_height": null,
      "min_width": null,
      "object_fit": null,
      "object_position": null,
      "order": null,
      "overflow": null,
      "overflow_x": null,
      "overflow_y": null,
      "padding": null,
      "right": null,
      "top": null,
      "visibility": null,
      "width": null
     }
    },
    "97c15767ca0e461791b1414e161d8a8b": {
     "model_module": "@jupyter-widgets/controls",
     "model_module_version": "1.5.0",
     "model_name": "DescriptionStyleModel",
     "state": {
      "_model_module": "@jupyter-widgets/controls",
      "_model_module_version": "1.5.0",
      "_model_name": "DescriptionStyleModel",
      "_view_count": null,
      "_view_module": "@jupyter-widgets/base",
      "_view_module_version": "1.2.0",
      "_view_name": "StyleView",
      "description_width": ""
     }
    },
    "982deb4cbe7a4765bb008ce64ceeafa1": {
     "model_module": "@jupyter-widgets/controls",
     "model_module_version": "1.5.0",
     "model_name": "ProgressStyleModel",
     "state": {
      "_model_module": "@jupyter-widgets/controls",
      "_model_module_version": "1.5.0",
      "_model_name": "ProgressStyleModel",
      "_view_count": null,
      "_view_module": "@jupyter-widgets/base",
      "_view_module_version": "1.2.0",
      "_view_name": "StyleView",
      "bar_color": null,
      "description_width": ""
     }
    },
    "9e005fe258944b1c9db9c0a826c75203": {
     "model_module": "@jupyter-widgets/controls",
     "model_module_version": "1.5.0",
     "model_name": "DescriptionStyleModel",
     "state": {
      "_model_module": "@jupyter-widgets/controls",
      "_model_module_version": "1.5.0",
      "_model_name": "DescriptionStyleModel",
      "_view_count": null,
      "_view_module": "@jupyter-widgets/base",
      "_view_module_version": "1.2.0",
      "_view_name": "StyleView",
      "description_width": ""
     }
    },
    "9f1eeed143e049dda2c347eba345f938": {
     "model_module": "@jupyter-widgets/controls",
     "model_module_version": "1.5.0",
     "model_name": "DescriptionStyleModel",
     "state": {
      "_model_module": "@jupyter-widgets/controls",
      "_model_module_version": "1.5.0",
      "_model_name": "DescriptionStyleModel",
      "_view_count": null,
      "_view_module": "@jupyter-widgets/base",
      "_view_module_version": "1.2.0",
      "_view_name": "StyleView",
      "description_width": ""
     }
    },
    "a19d76f5578a4d31afbf384a70db91ef": {
     "model_module": "@jupyter-widgets/controls",
     "model_module_version": "1.5.0",
     "model_name": "HBoxModel",
     "state": {
      "_dom_classes": [],
      "_model_module": "@jupyter-widgets/controls",
      "_model_module_version": "1.5.0",
      "_model_name": "HBoxModel",
      "_view_count": null,
      "_view_module": "@jupyter-widgets/controls",
      "_view_module_version": "1.5.0",
      "_view_name": "HBoxView",
      "box_style": "",
      "children": [
       "IPY_MODEL_1fee12b29eb046e9b7a414de629d4a59",
       "IPY_MODEL_e6d33361551948c6b4eb629bcacb23fc",
       "IPY_MODEL_1e8030d9db9c4f919671d39172a2bceb"
      ],
      "layout": "IPY_MODEL_2e9c5f983c06414c9073fc4e1b4e0f34"
     }
    },
    "a27eb21790734f0fa2264e10348d953e": {
     "model_module": "@jupyter-widgets/controls",
     "model_module_version": "1.5.0",
     "model_name": "HTMLModel",
     "state": {
      "_dom_classes": [],
      "_model_module": "@jupyter-widgets/controls",
      "_model_module_version": "1.5.0",
      "_model_name": "HTMLModel",
      "_view_count": null,
      "_view_module": "@jupyter-widgets/controls",
      "_view_module_version": "1.5.0",
      "_view_name": "HTMLView",
      "description": "",
      "description_tooltip": null,
      "layout": "IPY_MODEL_4e77994a15b74c1397e97e085dce8275",
      "placeholder": "​",
      "style": "IPY_MODEL_63cf1f5e854a4a70897c60b98fab2f32",
      "value": " 438M/438M [00:13&lt;00:00, 28.0MB/s]"
     }
    },
    "a2cece04ad254fde8dbf35ad4c06ecf5": {
     "model_module": "@jupyter-widgets/base",
     "model_module_version": "1.2.0",
     "model_name": "LayoutModel",
     "state": {
      "_model_module": "@jupyter-widgets/base",
      "_model_module_version": "1.2.0",
      "_model_name": "LayoutModel",
      "_view_count": null,
      "_view_module": "@jupyter-widgets/base",
      "_view_module_version": "1.2.0",
      "_view_name": "LayoutView",
      "align_content": null,
      "align_items": null,
      "align_self": null,
      "border": null,
      "bottom": null,
      "display": null,
      "flex": null,
      "flex_flow": null,
      "grid_area": null,
      "grid_auto_columns": null,
      "grid_auto_flow": null,
      "grid_auto_rows": null,
      "grid_column": null,
      "grid_gap": null,
      "grid_row": null,
      "grid_template_areas": null,
      "grid_template_columns": null,
      "grid_template_rows": null,
      "height": null,
      "justify_content": null,
      "justify_items": null,
      "left": null,
      "margin": null,
      "max_height": null,
      "max_width": null,
      "min_height": null,
      "min_width": null,
      "object_fit": null,
      "object_position": null,
      "order": null,
      "overflow": null,
      "overflow_x": null,
      "overflow_y": null,
      "padding": null,
      "right": null,
      "top": null,
      "visibility": null,
      "width": null
     }
    },
    "a3d18cbd99894a16b62b491ac3f2198f": {
     "model_module": "@jupyter-widgets/base",
     "model_module_version": "1.2.0",
     "model_name": "LayoutModel",
     "state": {
      "_model_module": "@jupyter-widgets/base",
      "_model_module_version": "1.2.0",
      "_model_name": "LayoutModel",
      "_view_count": null,
      "_view_module": "@jupyter-widgets/base",
      "_view_module_version": "1.2.0",
      "_view_name": "LayoutView",
      "align_content": null,
      "align_items": null,
      "align_self": null,
      "border": null,
      "bottom": null,
      "display": null,
      "flex": null,
      "flex_flow": null,
      "grid_area": null,
      "grid_auto_columns": null,
      "grid_auto_flow": null,
      "grid_auto_rows": null,
      "grid_column": null,
      "grid_gap": null,
      "grid_row": null,
      "grid_template_areas": null,
      "grid_template_columns": null,
      "grid_template_rows": null,
      "height": null,
      "justify_content": null,
      "justify_items": null,
      "left": null,
      "margin": null,
      "max_height": null,
      "max_width": null,
      "min_height": null,
      "min_width": null,
      "object_fit": null,
      "object_position": null,
      "order": null,
      "overflow": null,
      "overflow_x": null,
      "overflow_y": null,
      "padding": null,
      "right": null,
      "top": null,
      "visibility": null,
      "width": null
     }
    },
    "a4381e08ad9f40f889c654942eb090bb": {
     "model_module": "@jupyter-widgets/controls",
     "model_module_version": "1.5.0",
     "model_name": "DescriptionStyleModel",
     "state": {
      "_model_module": "@jupyter-widgets/controls",
      "_model_module_version": "1.5.0",
      "_model_name": "DescriptionStyleModel",
      "_view_count": null,
      "_view_module": "@jupyter-widgets/base",
      "_view_module_version": "1.2.0",
      "_view_name": "StyleView",
      "description_width": ""
     }
    },
    "a674bbdd9c76490db3a9ab34877ac6a1": {
     "model_module": "@jupyter-widgets/controls",
     "model_module_version": "1.5.0",
     "model_name": "DescriptionStyleModel",
     "state": {
      "_model_module": "@jupyter-widgets/controls",
      "_model_module_version": "1.5.0",
      "_model_name": "DescriptionStyleModel",
      "_view_count": null,
      "_view_module": "@jupyter-widgets/base",
      "_view_module_version": "1.2.0",
      "_view_name": "StyleView",
      "description_width": ""
     }
    },
    "a736dc0751b04fab8aa4f904a43a4d49": {
     "model_module": "@jupyter-widgets/controls",
     "model_module_version": "1.5.0",
     "model_name": "HTMLModel",
     "state": {
      "_dom_classes": [],
      "_model_module": "@jupyter-widgets/controls",
      "_model_module_version": "1.5.0",
      "_model_name": "HTMLModel",
      "_view_count": null,
      "_view_module": "@jupyter-widgets/controls",
      "_view_module_version": "1.5.0",
      "_view_name": "HTMLView",
      "description": "",
      "description_tooltip": null,
      "layout": "IPY_MODEL_f5b807b9384f41d9a4bbee4cde273be5",
      "placeholder": "​",
      "style": "IPY_MODEL_524c5eeb08044e1bafd813431aeef92a",
      "value": "Downloading: 100%"
     }
    },
    "a745cad5205b410d97a4982d9a04e68f": {
     "model_module": "@jupyter-widgets/controls",
     "model_module_version": "1.5.0",
     "model_name": "DescriptionStyleModel",
     "state": {
      "_model_module": "@jupyter-widgets/controls",
      "_model_module_version": "1.5.0",
      "_model_name": "DescriptionStyleModel",
      "_view_count": null,
      "_view_module": "@jupyter-widgets/base",
      "_view_module_version": "1.2.0",
      "_view_name": "StyleView",
      "description_width": ""
     }
    },
    "a7c4b76d6a3849cdb64086ba469949cf": {
     "model_module": "@jupyter-widgets/controls",
     "model_module_version": "1.5.0",
     "model_name": "FloatProgressModel",
     "state": {
      "_dom_classes": [],
      "_model_module": "@jupyter-widgets/controls",
      "_model_module_version": "1.5.0",
      "_model_name": "FloatProgressModel",
      "_view_count": null,
      "_view_module": "@jupyter-widgets/controls",
      "_view_module_version": "1.5.0",
      "_view_name": "ProgressView",
      "bar_style": "success",
      "description": "",
      "description_tooltip": null,
      "layout": "IPY_MODEL_f6ec23bb9e274900883d41e7ba4a6bcf",
      "max": 399,
      "min": 0,
      "orientation": "horizontal",
      "style": "IPY_MODEL_1615b56f9435454fbf2906235a61db0c",
      "value": 399
     }
    },
    "aaf3c02fae094f1680d08bfd7f39dd9e": {
     "model_module": "@jupyter-widgets/controls",
     "model_module_version": "1.5.0",
     "model_name": "DescriptionStyleModel",
     "state": {
      "_model_module": "@jupyter-widgets/controls",
      "_model_module_version": "1.5.0",
      "_model_name": "DescriptionStyleModel",
      "_view_count": null,
      "_view_module": "@jupyter-widgets/base",
      "_view_module_version": "1.2.0",
      "_view_name": "StyleView",
      "description_width": ""
     }
    },
    "aff0708c1be142289b1b8124e30e2912": {
     "model_module": "@jupyter-widgets/controls",
     "model_module_version": "1.5.0",
     "model_name": "HBoxModel",
     "state": {
      "_dom_classes": [],
      "_model_module": "@jupyter-widgets/controls",
      "_model_module_version": "1.5.0",
      "_model_name": "HBoxModel",
      "_view_count": null,
      "_view_module": "@jupyter-widgets/controls",
      "_view_module_version": "1.5.0",
      "_view_name": "HBoxView",
      "box_style": "",
      "children": [
       "IPY_MODEL_4cbc0d4cfa27476c95207142ac158e8c",
       "IPY_MODEL_802eeb7802f14e62beaacb9697d5eb4e",
       "IPY_MODEL_3e39897606124f789961ffa6a40e2197"
      ],
      "layout": "IPY_MODEL_6b9824b2e0ac4adf97fb13e73951caa2"
     }
    },
    "b10b66904b724fc9b0ea6d51bebf65e1": {
     "model_module": "@jupyter-widgets/controls",
     "model_module_version": "1.5.0",
     "model_name": "HTMLModel",
     "state": {
      "_dom_classes": [],
      "_model_module": "@jupyter-widgets/controls",
      "_model_module_version": "1.5.0",
      "_model_name": "HTMLModel",
      "_view_count": null,
      "_view_module": "@jupyter-widgets/controls",
      "_view_module_version": "1.5.0",
      "_view_name": "HTMLView",
      "description": "",
      "description_tooltip": null,
      "layout": "IPY_MODEL_5c3a4b491d8a445282bf043a932fec41",
      "placeholder": "​",
      "style": "IPY_MODEL_a745cad5205b410d97a4982d9a04e68f",
      "value": " 399/399 [00:00&lt;00:00, 8.31kB/s]"
     }
    },
    "b15e82c0dee74a0d8b3b75e0d6a31867": {
     "model_module": "@jupyter-widgets/controls",
     "model_module_version": "1.5.0",
     "model_name": "HTMLModel",
     "state": {
      "_dom_classes": [],
      "_model_module": "@jupyter-widgets/controls",
      "_model_module_version": "1.5.0",
      "_model_name": "HTMLModel",
      "_view_count": null,
      "_view_module": "@jupyter-widgets/controls",
      "_view_module_version": "1.5.0",
      "_view_name": "HTMLView",
      "description": "",
      "description_tooltip": null,
      "layout": "IPY_MODEL_7eeb49957f7d4313a8219f4011665c39",
      "placeholder": "​",
      "style": "IPY_MODEL_bc20911214e5427081c8ad315d19ecee",
      "value": " 190/190 [00:00&lt;00:00, 5.91kB/s]"
     }
    },
    "b330cf42aa9b4001975a3f1ae9c364a0": {
     "model_module": "@jupyter-widgets/base",
     "model_module_version": "1.2.0",
     "model_name": "LayoutModel",
     "state": {
      "_model_module": "@jupyter-widgets/base",
      "_model_module_version": "1.2.0",
      "_model_name": "LayoutModel",
      "_view_count": null,
      "_view_module": "@jupyter-widgets/base",
      "_view_module_version": "1.2.0",
      "_view_name": "LayoutView",
      "align_content": null,
      "align_items": null,
      "align_self": null,
      "border": null,
      "bottom": null,
      "display": null,
      "flex": null,
      "flex_flow": null,
      "grid_area": null,
      "grid_auto_columns": null,
      "grid_auto_flow": null,
      "grid_auto_rows": null,
      "grid_column": null,
      "grid_gap": null,
      "grid_row": null,
      "grid_template_areas": null,
      "grid_template_columns": null,
      "grid_template_rows": null,
      "height": null,
      "justify_content": null,
      "justify_items": null,
      "left": null,
      "margin": null,
      "max_height": null,
      "max_width": null,
      "min_height": null,
      "min_width": null,
      "object_fit": null,
      "object_position": null,
      "order": null,
      "overflow": null,
      "overflow_x": null,
      "overflow_y": null,
      "padding": null,
      "right": null,
      "top": null,
      "visibility": null,
      "width": null
     }
    },
    "b6d7e0ca79ad4c2dac2842595b05e960": {
     "model_module": "@jupyter-widgets/controls",
     "model_module_version": "1.5.0",
     "model_name": "HTMLModel",
     "state": {
      "_dom_classes": [],
      "_model_module": "@jupyter-widgets/controls",
      "_model_module_version": "1.5.0",
      "_model_name": "HTMLModel",
      "_view_count": null,
      "_view_module": "@jupyter-widgets/controls",
      "_view_module_version": "1.5.0",
      "_view_name": "HTMLView",
      "description": "",
      "description_tooltip": null,
      "layout": "IPY_MODEL_539d69013b8441cdab196a24532f4557",
      "placeholder": "​",
      "style": "IPY_MODEL_7ed05b43472c4a5e935fb2a403c2d8dc",
      "value": " 112/112 [00:00&lt;00:00, 2.87kB/s]"
     }
    },
    "b9a610b8238b42e793bc2f1e736f9210": {
     "model_module": "@jupyter-widgets/controls",
     "model_module_version": "1.5.0",
     "model_name": "HTMLModel",
     "state": {
      "_dom_classes": [],
      "_model_module": "@jupyter-widgets/controls",
      "_model_module_version": "1.5.0",
      "_model_name": "HTMLModel",
      "_view_count": null,
      "_view_module": "@jupyter-widgets/controls",
      "_view_module_version": "1.5.0",
      "_view_name": "HTMLView",
      "description": "",
      "description_tooltip": null,
      "layout": "IPY_MODEL_e00fe957e780492c9e7577b4a1a37044",
      "placeholder": "​",
      "style": "IPY_MODEL_1f1bc80b1f514176982e3fa9e1b82d0e",
      "value": "Downloading: 100%"
     }
    },
    "bb288f2cc846455eb3c9debffb4cfd0f": {
     "model_module": "@jupyter-widgets/base",
     "model_module_version": "1.2.0",
     "model_name": "LayoutModel",
     "state": {
      "_model_module": "@jupyter-widgets/base",
      "_model_module_version": "1.2.0",
      "_model_name": "LayoutModel",
      "_view_count": null,
      "_view_module": "@jupyter-widgets/base",
      "_view_module_version": "1.2.0",
      "_view_name": "LayoutView",
      "align_content": null,
      "align_items": null,
      "align_self": null,
      "border": null,
      "bottom": null,
      "display": null,
      "flex": null,
      "flex_flow": null,
      "grid_area": null,
      "grid_auto_columns": null,
      "grid_auto_flow": null,
      "grid_auto_rows": null,
      "grid_column": null,
      "grid_gap": null,
      "grid_row": null,
      "grid_template_areas": null,
      "grid_template_columns": null,
      "grid_template_rows": null,
      "height": null,
      "justify_content": null,
      "justify_items": null,
      "left": null,
      "margin": null,
      "max_height": null,
      "max_width": null,
      "min_height": null,
      "min_width": null,
      "object_fit": null,
      "object_position": null,
      "order": null,
      "overflow": null,
      "overflow_x": null,
      "overflow_y": null,
      "padding": null,
      "right": null,
      "top": null,
      "visibility": null,
      "width": null
     }
    },
    "bbb913f1f6c24b73bda105dfba3b105a": {
     "model_module": "@jupyter-widgets/base",
     "model_module_version": "1.2.0",
     "model_name": "LayoutModel",
     "state": {
      "_model_module": "@jupyter-widgets/base",
      "_model_module_version": "1.2.0",
      "_model_name": "LayoutModel",
      "_view_count": null,
      "_view_module": "@jupyter-widgets/base",
      "_view_module_version": "1.2.0",
      "_view_name": "LayoutView",
      "align_content": null,
      "align_items": null,
      "align_self": null,
      "border": null,
      "bottom": null,
      "display": null,
      "flex": null,
      "flex_flow": null,
      "grid_area": null,
      "grid_auto_columns": null,
      "grid_auto_flow": null,
      "grid_auto_rows": null,
      "grid_column": null,
      "grid_gap": null,
      "grid_row": null,
      "grid_template_areas": null,
      "grid_template_columns": null,
      "grid_template_rows": null,
      "height": null,
      "justify_content": null,
      "justify_items": null,
      "left": null,
      "margin": null,
      "max_height": null,
      "max_width": null,
      "min_height": null,
      "min_width": null,
      "object_fit": null,
      "object_position": null,
      "order": null,
      "overflow": null,
      "overflow_x": null,
      "overflow_y": null,
      "padding": null,
      "right": null,
      "top": null,
      "visibility": null,
      "width": null
     }
    },
    "bc20911214e5427081c8ad315d19ecee": {
     "model_module": "@jupyter-widgets/controls",
     "model_module_version": "1.5.0",
     "model_name": "DescriptionStyleModel",
     "state": {
      "_model_module": "@jupyter-widgets/controls",
      "_model_module_version": "1.5.0",
      "_model_name": "DescriptionStyleModel",
      "_view_count": null,
      "_view_module": "@jupyter-widgets/base",
      "_view_module_version": "1.2.0",
      "_view_name": "StyleView",
      "description_width": ""
     }
    },
    "bc2755e728f8488c9a3a0bec8af92d50": {
     "model_module": "@jupyter-widgets/controls",
     "model_module_version": "1.5.0",
     "model_name": "ProgressStyleModel",
     "state": {
      "_model_module": "@jupyter-widgets/controls",
      "_model_module_version": "1.5.0",
      "_model_name": "ProgressStyleModel",
      "_view_count": null,
      "_view_module": "@jupyter-widgets/base",
      "_view_module_version": "1.2.0",
      "_view_name": "StyleView",
      "bar_color": null,
      "description_width": ""
     }
    },
    "bc6e44a7a00e4273b22878ccef609f6e": {
     "model_module": "@jupyter-widgets/base",
     "model_module_version": "1.2.0",
     "model_name": "LayoutModel",
     "state": {
      "_model_module": "@jupyter-widgets/base",
      "_model_module_version": "1.2.0",
      "_model_name": "LayoutModel",
      "_view_count": null,
      "_view_module": "@jupyter-widgets/base",
      "_view_module_version": "1.2.0",
      "_view_name": "LayoutView",
      "align_content": null,
      "align_items": null,
      "align_self": null,
      "border": null,
      "bottom": null,
      "display": null,
      "flex": null,
      "flex_flow": null,
      "grid_area": null,
      "grid_auto_columns": null,
      "grid_auto_flow": null,
      "grid_auto_rows": null,
      "grid_column": null,
      "grid_gap": null,
      "grid_row": null,
      "grid_template_areas": null,
      "grid_template_columns": null,
      "grid_template_rows": null,
      "height": null,
      "justify_content": null,
      "justify_items": null,
      "left": null,
      "margin": null,
      "max_height": null,
      "max_width": null,
      "min_height": null,
      "min_width": null,
      "object_fit": null,
      "object_position": null,
      "order": null,
      "overflow": null,
      "overflow_x": null,
      "overflow_y": null,
      "padding": null,
      "right": null,
      "top": null,
      "visibility": null,
      "width": null
     }
    },
    "bd9d04ea0f3a43b8bbe9a21a2c0f2e0c": {
     "model_module": "@jupyter-widgets/controls",
     "model_module_version": "1.5.0",
     "model_name": "HBoxModel",
     "state": {
      "_dom_classes": [],
      "_model_module": "@jupyter-widgets/controls",
      "_model_module_version": "1.5.0",
      "_model_name": "HBoxModel",
      "_view_count": null,
      "_view_module": "@jupyter-widgets/controls",
      "_view_module_version": "1.5.0",
      "_view_name": "HBoxView",
      "box_style": "",
      "children": [
       "IPY_MODEL_078a9866c2ca48d9b41671d911777bd3",
       "IPY_MODEL_d9c6915fedfa4d5d962999d97b2e3f3f",
       "IPY_MODEL_d2d6b5c6a3a841d7ab78cd0f296cfdda"
      ],
      "layout": "IPY_MODEL_f10c313217474d068990fac0df9d4f61"
     }
    },
    "bff8b57e4d2e4ff1b7579fc0cff1e31f": {
     "model_module": "@jupyter-widgets/controls",
     "model_module_version": "1.5.0",
     "model_name": "FloatProgressModel",
     "state": {
      "_dom_classes": [],
      "_model_module": "@jupyter-widgets/controls",
      "_model_module_version": "1.5.0",
      "_model_name": "FloatProgressModel",
      "_view_count": null,
      "_view_module": "@jupyter-widgets/controls",
      "_view_module_version": "1.5.0",
      "_view_name": "ProgressView",
      "bar_style": "success",
      "description": "",
      "description_tooltip": null,
      "layout": "IPY_MODEL_a2cece04ad254fde8dbf35ad4c06ecf5",
      "max": 2,
      "min": 0,
      "orientation": "horizontal",
      "style": "IPY_MODEL_982deb4cbe7a4765bb008ce64ceeafa1",
      "value": 2
     }
    },
    "c1b26a46625d4db0905d9942cb3cef34": {
     "model_module": "@jupyter-widgets/base",
     "model_module_version": "1.2.0",
     "model_name": "LayoutModel",
     "state": {
      "_model_module": "@jupyter-widgets/base",
      "_model_module_version": "1.2.0",
      "_model_name": "LayoutModel",
      "_view_count": null,
      "_view_module": "@jupyter-widgets/base",
      "_view_module_version": "1.2.0",
      "_view_name": "LayoutView",
      "align_content": null,
      "align_items": null,
      "align_self": null,
      "border": null,
      "bottom": null,
      "display": null,
      "flex": null,
      "flex_flow": null,
      "grid_area": null,
      "grid_auto_columns": null,
      "grid_auto_flow": null,
      "grid_auto_rows": null,
      "grid_column": null,
      "grid_gap": null,
      "grid_row": null,
      "grid_template_areas": null,
      "grid_template_columns": null,
      "grid_template_rows": null,
      "height": null,
      "justify_content": null,
      "justify_items": null,
      "left": null,
      "margin": null,
      "max_height": null,
      "max_width": null,
      "min_height": null,
      "min_width": null,
      "object_fit": null,
      "object_position": null,
      "order": null,
      "overflow": null,
      "overflow_x": null,
      "overflow_y": null,
      "padding": null,
      "right": null,
      "top": null,
      "visibility": null,
      "width": null
     }
    },
    "c4712fcf0faf454b9f6bfdd38757dc11": {
     "model_module": "@jupyter-widgets/controls",
     "model_module_version": "1.5.0",
     "model_name": "ProgressStyleModel",
     "state": {
      "_model_module": "@jupyter-widgets/controls",
      "_model_module_version": "1.5.0",
      "_model_name": "ProgressStyleModel",
      "_view_count": null,
      "_view_module": "@jupyter-widgets/base",
      "_view_module_version": "1.2.0",
      "_view_name": "StyleView",
      "bar_color": null,
      "description_width": ""
     }
    },
    "c807a921ea994314a655e8360baed1db": {
     "model_module": "@jupyter-widgets/base",
     "model_module_version": "1.2.0",
     "model_name": "LayoutModel",
     "state": {
      "_model_module": "@jupyter-widgets/base",
      "_model_module_version": "1.2.0",
      "_model_name": "LayoutModel",
      "_view_count": null,
      "_view_module": "@jupyter-widgets/base",
      "_view_module_version": "1.2.0",
      "_view_name": "LayoutView",
      "align_content": null,
      "align_items": null,
      "align_self": null,
      "border": null,
      "bottom": null,
      "display": null,
      "flex": null,
      "flex_flow": null,
      "grid_area": null,
      "grid_auto_columns": null,
      "grid_auto_flow": null,
      "grid_auto_rows": null,
      "grid_column": null,
      "grid_gap": null,
      "grid_row": null,
      "grid_template_areas": null,
      "grid_template_columns": null,
      "grid_template_rows": null,
      "height": null,
      "justify_content": null,
      "justify_items": null,
      "left": null,
      "margin": null,
      "max_height": null,
      "max_width": null,
      "min_height": null,
      "min_width": null,
      "object_fit": null,
      "object_position": null,
      "order": null,
      "overflow": null,
      "overflow_x": null,
      "overflow_y": null,
      "padding": null,
      "right": null,
      "top": null,
      "visibility": null,
      "width": null
     }
    },
    "c9a9a2fd523b43098037fbc81ad79790": {
     "model_module": "@jupyter-widgets/controls",
     "model_module_version": "1.5.0",
     "model_name": "HTMLModel",
     "state": {
      "_dom_classes": [],
      "_model_module": "@jupyter-widgets/controls",
      "_model_module_version": "1.5.0",
      "_model_name": "HTMLModel",
      "_view_count": null,
      "_view_module": "@jupyter-widgets/controls",
      "_view_module_version": "1.5.0",
      "_view_name": "HTMLView",
      "description": "",
      "description_tooltip": null,
      "layout": "IPY_MODEL_134192f0c6244daeae927178643f107a",
      "placeholder": "​",
      "style": "IPY_MODEL_304eed9799934ce58d7db27d52ce0350",
      "value": "Downloading: 100%"
     }
    },
    "ca11e2d708c9404db4b563e9d4a91774": {
     "model_module": "@jupyter-widgets/base",
     "model_module_version": "1.2.0",
     "model_name": "LayoutModel",
     "state": {
      "_model_module": "@jupyter-widgets/base",
      "_model_module_version": "1.2.0",
      "_model_name": "LayoutModel",
      "_view_count": null,
      "_view_module": "@jupyter-widgets/base",
      "_view_module_version": "1.2.0",
      "_view_name": "LayoutView",
      "align_content": null,
      "align_items": null,
      "align_self": null,
      "border": null,
      "bottom": null,
      "display": null,
      "flex": null,
      "flex_flow": null,
      "grid_area": null,
      "grid_auto_columns": null,
      "grid_auto_flow": null,
      "grid_auto_rows": null,
      "grid_column": null,
      "grid_gap": null,
      "grid_row": null,
      "grid_template_areas": null,
      "grid_template_columns": null,
      "grid_template_rows": null,
      "height": null,
      "justify_content": null,
      "justify_items": null,
      "left": null,
      "margin": null,
      "max_height": null,
      "max_width": null,
      "min_height": null,
      "min_width": null,
      "object_fit": null,
      "object_position": null,
      "order": null,
      "overflow": null,
      "overflow_x": null,
      "overflow_y": null,
      "padding": null,
      "right": null,
      "top": null,
      "visibility": null,
      "width": null
     }
    },
    "d14d00435e104a00bb6a0763a6b3f2c4": {
     "model_module": "@jupyter-widgets/base",
     "model_module_version": "1.2.0",
     "model_name": "LayoutModel",
     "state": {
      "_model_module": "@jupyter-widgets/base",
      "_model_module_version": "1.2.0",
      "_model_name": "LayoutModel",
      "_view_count": null,
      "_view_module": "@jupyter-widgets/base",
      "_view_module_version": "1.2.0",
      "_view_name": "LayoutView",
      "align_content": null,
      "align_items": null,
      "align_self": null,
      "border": null,
      "bottom": null,
      "display": null,
      "flex": null,
      "flex_flow": null,
      "grid_area": null,
      "grid_auto_columns": null,
      "grid_auto_flow": null,
      "grid_auto_rows": null,
      "grid_column": null,
      "grid_gap": null,
      "grid_row": null,
      "grid_template_areas": null,
      "grid_template_columns": null,
      "grid_template_rows": null,
      "height": null,
      "justify_content": null,
      "justify_items": null,
      "left": null,
      "margin": null,
      "max_height": null,
      "max_width": null,
      "min_height": null,
      "min_width": null,
      "object_fit": null,
      "object_position": null,
      "order": null,
      "overflow": null,
      "overflow_x": null,
      "overflow_y": null,
      "padding": null,
      "right": null,
      "top": null,
      "visibility": null,
      "width": null
     }
    },
    "d2d6b5c6a3a841d7ab78cd0f296cfdda": {
     "model_module": "@jupyter-widgets/controls",
     "model_module_version": "1.5.0",
     "model_name": "HTMLModel",
     "state": {
      "_dom_classes": [],
      "_model_module": "@jupyter-widgets/controls",
      "_model_module_version": "1.5.0",
      "_model_name": "HTMLModel",
      "_view_count": null,
      "_view_module": "@jupyter-widgets/controls",
      "_view_module_version": "1.5.0",
      "_view_name": "HTMLView",
      "description": "",
      "description_tooltip": null,
      "layout": "IPY_MODEL_d14d00435e104a00bb6a0763a6b3f2c4",
      "placeholder": "​",
      "style": "IPY_MODEL_818312cee8904be78aba1635e04846f1",
      "value": " 229/229 [00:00&lt;00:00, 4.80kB/s]"
     }
    },
    "d331a6dcac904a288105ebbc9f37d8de": {
     "model_module": "@jupyter-widgets/base",
     "model_module_version": "1.2.0",
     "model_name": "LayoutModel",
     "state": {
      "_model_module": "@jupyter-widgets/base",
      "_model_module_version": "1.2.0",
      "_model_name": "LayoutModel",
      "_view_count": null,
      "_view_module": "@jupyter-widgets/base",
      "_view_module_version": "1.2.0",
      "_view_name": "LayoutView",
      "align_content": null,
      "align_items": null,
      "align_self": null,
      "border": null,
      "bottom": null,
      "display": null,
      "flex": null,
      "flex_flow": null,
      "grid_area": null,
      "grid_auto_columns": null,
      "grid_auto_flow": null,
      "grid_auto_rows": null,
      "grid_column": null,
      "grid_gap": null,
      "grid_row": null,
      "grid_template_areas": null,
      "grid_template_columns": null,
      "grid_template_rows": null,
      "height": null,
      "justify_content": null,
      "justify_items": null,
      "left": null,
      "margin": null,
      "max_height": null,
      "max_width": null,
      "min_height": null,
      "min_width": null,
      "object_fit": null,
      "object_position": null,
      "order": null,
      "overflow": null,
      "overflow_x": null,
      "overflow_y": null,
      "padding": null,
      "right": null,
      "top": null,
      "visibility": null,
      "width": null
     }
    },
    "d3d862c841724e4cb72fdc00d12b6b3b": {
     "model_module": "@jupyter-widgets/controls",
     "model_module_version": "1.5.0",
     "model_name": "DescriptionStyleModel",
     "state": {
      "_model_module": "@jupyter-widgets/controls",
      "_model_module_version": "1.5.0",
      "_model_name": "DescriptionStyleModel",
      "_view_count": null,
      "_view_module": "@jupyter-widgets/base",
      "_view_module_version": "1.2.0",
      "_view_name": "StyleView",
      "description_width": ""
     }
    },
    "d564f52d051646c782cb2b447e4037fb": {
     "model_module": "@jupyter-widgets/controls",
     "model_module_version": "1.5.0",
     "model_name": "HTMLModel",
     "state": {
      "_dom_classes": [],
      "_model_module": "@jupyter-widgets/controls",
      "_model_module_version": "1.5.0",
      "_model_name": "HTMLModel",
      "_view_count": null,
      "_view_module": "@jupyter-widgets/controls",
      "_view_module_version": "1.5.0",
      "_view_name": "HTMLView",
      "description": "",
      "description_tooltip": null,
      "layout": "IPY_MODEL_3bc2b6bb88124be891f25857e6c589b7",
      "placeholder": "​",
      "style": "IPY_MODEL_4642fb964a154b908ff325ca4cc66577",
      "value": "Downloading: 100%"
     }
    },
    "d7708494ca3d4dcf9ce1f684a74fbaab": {
     "model_module": "@jupyter-widgets/base",
     "model_module_version": "1.2.0",
     "model_name": "LayoutModel",
     "state": {
      "_model_module": "@jupyter-widgets/base",
      "_model_module_version": "1.2.0",
      "_model_name": "LayoutModel",
      "_view_count": null,
      "_view_module": "@jupyter-widgets/base",
      "_view_module_version": "1.2.0",
      "_view_name": "LayoutView",
      "align_content": null,
      "align_items": null,
      "align_self": null,
      "border": null,
      "bottom": null,
      "display": null,
      "flex": null,
      "flex_flow": null,
      "grid_area": null,
      "grid_auto_columns": null,
      "grid_auto_flow": null,
      "grid_auto_rows": null,
      "grid_column": null,
      "grid_gap": null,
      "grid_row": null,
      "grid_template_areas": null,
      "grid_template_columns": null,
      "grid_template_rows": null,
      "height": null,
      "justify_content": null,
      "justify_items": null,
      "left": null,
      "margin": null,
      "max_height": null,
      "max_width": null,
      "min_height": null,
      "min_width": null,
      "object_fit": null,
      "object_position": null,
      "order": null,
      "overflow": null,
      "overflow_x": null,
      "overflow_y": null,
      "padding": null,
      "right": null,
      "top": null,
      "visibility": null,
      "width": null
     }
    },
    "d9c6915fedfa4d5d962999d97b2e3f3f": {
     "model_module": "@jupyter-widgets/controls",
     "model_module_version": "1.5.0",
     "model_name": "FloatProgressModel",
     "state": {
      "_dom_classes": [],
      "_model_module": "@jupyter-widgets/controls",
      "_model_module_version": "1.5.0",
      "_model_name": "FloatProgressModel",
      "_view_count": null,
      "_view_module": "@jupyter-widgets/controls",
      "_view_module_version": "1.5.0",
      "_view_name": "ProgressView",
      "bar_style": "success",
      "description": "",
      "description_tooltip": null,
      "layout": "IPY_MODEL_c807a921ea994314a655e8360baed1db",
      "max": 229,
      "min": 0,
      "orientation": "horizontal",
      "style": "IPY_MODEL_da9e8b6d742b4cb38557ed6b9507492b",
      "value": 229
     }
    },
    "da15777db0f04cb7aa3290395c61e9ae": {
     "model_module": "@jupyter-widgets/controls",
     "model_module_version": "1.5.0",
     "model_name": "HTMLModel",
     "state": {
      "_dom_classes": [],
      "_model_module": "@jupyter-widgets/controls",
      "_model_module_version": "1.5.0",
      "_model_name": "HTMLModel",
      "_view_count": null,
      "_view_module": "@jupyter-widgets/controls",
      "_view_module_version": "1.5.0",
      "_view_name": "HTMLView",
      "description": "",
      "description_tooltip": null,
      "layout": "IPY_MODEL_67cc1b5ce4c24e4c9a342615643ef890",
      "placeholder": "​",
      "style": "IPY_MODEL_4be147597e0b4daebcfc11b40c4dbe1d",
      "value": "Downloading: 100%"
     }
    },
    "da9e8b6d742b4cb38557ed6b9507492b": {
     "model_module": "@jupyter-widgets/controls",
     "model_module_version": "1.5.0",
     "model_name": "ProgressStyleModel",
     "state": {
      "_model_module": "@jupyter-widgets/controls",
      "_model_module_version": "1.5.0",
      "_model_name": "ProgressStyleModel",
      "_view_count": null,
      "_view_module": "@jupyter-widgets/base",
      "_view_module_version": "1.2.0",
      "_view_name": "StyleView",
      "bar_color": null,
      "description_width": ""
     }
    },
    "daf08b292b3249ac9bde544b65def8ad": {
     "model_module": "@jupyter-widgets/controls",
     "model_module_version": "1.5.0",
     "model_name": "HTMLModel",
     "state": {
      "_dom_classes": [],
      "_model_module": "@jupyter-widgets/controls",
      "_model_module_version": "1.5.0",
      "_model_name": "HTMLModel",
      "_view_count": null,
      "_view_module": "@jupyter-widgets/controls",
      "_view_module_version": "1.5.0",
      "_view_name": "HTMLView",
      "description": "",
      "description_tooltip": null,
      "layout": "IPY_MODEL_51ca1792e75f40a1a1d52a094ae050d7",
      "placeholder": "​",
      "style": "IPY_MODEL_a674bbdd9c76490db3a9ab34877ac6a1",
      "value": "Downloading: 100%"
     }
    },
    "dc60edaac8f5470590b75651dc66689e": {
     "model_module": "@jupyter-widgets/base",
     "model_module_version": "1.2.0",
     "model_name": "LayoutModel",
     "state": {
      "_model_module": "@jupyter-widgets/base",
      "_model_module_version": "1.2.0",
      "_model_name": "LayoutModel",
      "_view_count": null,
      "_view_module": "@jupyter-widgets/base",
      "_view_module_version": "1.2.0",
      "_view_name": "LayoutView",
      "align_content": null,
      "align_items": null,
      "align_self": null,
      "border": null,
      "bottom": null,
      "display": null,
      "flex": null,
      "flex_flow": null,
      "grid_area": null,
      "grid_auto_columns": null,
      "grid_auto_flow": null,
      "grid_auto_rows": null,
      "grid_column": null,
      "grid_gap": null,
      "grid_row": null,
      "grid_template_areas": null,
      "grid_template_columns": null,
      "grid_template_rows": null,
      "height": null,
      "justify_content": null,
      "justify_items": null,
      "left": null,
      "margin": null,
      "max_height": null,
      "max_width": null,
      "min_height": null,
      "min_width": null,
      "object_fit": null,
      "object_position": null,
      "order": null,
      "overflow": null,
      "overflow_x": null,
      "overflow_y": null,
      "padding": null,
      "right": null,
      "top": null,
      "visibility": null,
      "width": null
     }
    },
    "dfea33f4bfb84d3db28dc109831786f0": {
     "model_module": "@jupyter-widgets/controls",
     "model_module_version": "1.5.0",
     "model_name": "HBoxModel",
     "state": {
      "_dom_classes": [],
      "_model_module": "@jupyter-widgets/controls",
      "_model_module_version": "1.5.0",
      "_model_name": "HBoxModel",
      "_view_count": null,
      "_view_module": "@jupyter-widgets/controls",
      "_view_module_version": "1.5.0",
      "_view_name": "HBoxView",
      "box_style": "",
      "children": [
       "IPY_MODEL_d564f52d051646c782cb2b447e4037fb",
       "IPY_MODEL_a7c4b76d6a3849cdb64086ba469949cf",
       "IPY_MODEL_b10b66904b724fc9b0ea6d51bebf65e1"
      ],
      "layout": "IPY_MODEL_004cef59800f40368faeda4521aaea81"
     }
    },
    "e00fe957e780492c9e7577b4a1a37044": {
     "model_module": "@jupyter-widgets/base",
     "model_module_version": "1.2.0",
     "model_name": "LayoutModel",
     "state": {
      "_model_module": "@jupyter-widgets/base",
      "_model_module_version": "1.2.0",
      "_model_name": "LayoutModel",
      "_view_count": null,
      "_view_module": "@jupyter-widgets/base",
      "_view_module_version": "1.2.0",
      "_view_name": "LayoutView",
      "align_content": null,
      "align_items": null,
      "align_self": null,
      "border": null,
      "bottom": null,
      "display": null,
      "flex": null,
      "flex_flow": null,
      "grid_area": null,
      "grid_auto_columns": null,
      "grid_auto_flow": null,
      "grid_auto_rows": null,
      "grid_column": null,
      "grid_gap": null,
      "grid_row": null,
      "grid_template_areas": null,
      "grid_template_columns": null,
      "grid_template_rows": null,
      "height": null,
      "justify_content": null,
      "justify_items": null,
      "left": null,
      "margin": null,
      "max_height": null,
      "max_width": null,
      "min_height": null,
      "min_width": null,
      "object_fit": null,
      "object_position": null,
      "order": null,
      "overflow": null,
      "overflow_x": null,
      "overflow_y": null,
      "padding": null,
      "right": null,
      "top": null,
      "visibility": null,
      "width": null
     }
    },
    "e40e79a50b404db5ac10db700e9104be": {
     "model_module": "@jupyter-widgets/controls",
     "model_module_version": "1.5.0",
     "model_name": "DescriptionStyleModel",
     "state": {
      "_model_module": "@jupyter-widgets/controls",
      "_model_module_version": "1.5.0",
      "_model_name": "DescriptionStyleModel",
      "_view_count": null,
      "_view_module": "@jupyter-widgets/base",
      "_view_module_version": "1.2.0",
      "_view_name": "StyleView",
      "description_width": ""
     }
    },
    "e59385be54064f5386b72ee3bf1292f6": {
     "model_module": "@jupyter-widgets/base",
     "model_module_version": "1.2.0",
     "model_name": "LayoutModel",
     "state": {
      "_model_module": "@jupyter-widgets/base",
      "_model_module_version": "1.2.0",
      "_model_name": "LayoutModel",
      "_view_count": null,
      "_view_module": "@jupyter-widgets/base",
      "_view_module_version": "1.2.0",
      "_view_name": "LayoutView",
      "align_content": null,
      "align_items": null,
      "align_self": null,
      "border": null,
      "bottom": null,
      "display": null,
      "flex": null,
      "flex_flow": null,
      "grid_area": null,
      "grid_auto_columns": null,
      "grid_auto_flow": null,
      "grid_auto_rows": null,
      "grid_column": null,
      "grid_gap": null,
      "grid_row": null,
      "grid_template_areas": null,
      "grid_template_columns": null,
      "grid_template_rows": null,
      "height": null,
      "justify_content": null,
      "justify_items": null,
      "left": null,
      "margin": null,
      "max_height": null,
      "max_width": null,
      "min_height": null,
      "min_width": null,
      "object_fit": null,
      "object_position": null,
      "order": null,
      "overflow": null,
      "overflow_x": null,
      "overflow_y": null,
      "padding": null,
      "right": null,
      "top": null,
      "visibility": null,
      "width": null
     }
    },
    "e6d33361551948c6b4eb629bcacb23fc": {
     "model_module": "@jupyter-widgets/controls",
     "model_module_version": "1.5.0",
     "model_name": "FloatProgressModel",
     "state": {
      "_dom_classes": [],
      "_model_module": "@jupyter-widgets/controls",
      "_model_module_version": "1.5.0",
      "_model_name": "FloatProgressModel",
      "_view_count": null,
      "_view_module": "@jupyter-widgets/controls",
      "_view_module_version": "1.5.0",
      "_view_name": "ProgressView",
      "bar_style": "success",
      "description": "",
      "description_tooltip": null,
      "layout": "IPY_MODEL_d331a6dcac904a288105ebbc9f37d8de",
      "max": 79,
      "min": 0,
      "orientation": "horizontal",
      "style": "IPY_MODEL_13f1f2762df641c294030895c1c5cf67",
      "value": 79
     }
    },
    "ebc42306c0744651a247708388d42392": {
     "model_module": "@jupyter-widgets/base",
     "model_module_version": "1.2.0",
     "model_name": "LayoutModel",
     "state": {
      "_model_module": "@jupyter-widgets/base",
      "_model_module_version": "1.2.0",
      "_model_name": "LayoutModel",
      "_view_count": null,
      "_view_module": "@jupyter-widgets/base",
      "_view_module_version": "1.2.0",
      "_view_name": "LayoutView",
      "align_content": null,
      "align_items": null,
      "align_self": null,
      "border": null,
      "bottom": null,
      "display": null,
      "flex": null,
      "flex_flow": null,
      "grid_area": null,
      "grid_auto_columns": null,
      "grid_auto_flow": null,
      "grid_auto_rows": null,
      "grid_column": null,
      "grid_gap": null,
      "grid_row": null,
      "grid_template_areas": null,
      "grid_template_columns": null,
      "grid_template_rows": null,
      "height": null,
      "justify_content": null,
      "justify_items": null,
      "left": null,
      "margin": null,
      "max_height": null,
      "max_width": null,
      "min_height": null,
      "min_width": null,
      "object_fit": null,
      "object_position": null,
      "order": null,
      "overflow": null,
      "overflow_x": null,
      "overflow_y": null,
      "padding": null,
      "right": null,
      "top": null,
      "visibility": null,
      "width": null
     }
    },
    "ebdaccc2b6f8438e902ac4b24d14c9e9": {
     "model_module": "@jupyter-widgets/controls",
     "model_module_version": "1.5.0",
     "model_name": "FloatProgressModel",
     "state": {
      "_dom_classes": [],
      "_model_module": "@jupyter-widgets/controls",
      "_model_module_version": "1.5.0",
      "_model_name": "FloatProgressModel",
      "_view_count": null,
      "_view_module": "@jupyter-widgets/controls",
      "_view_module_version": "1.5.0",
      "_view_name": "ProgressView",
      "bar_style": "success",
      "description": "",
      "description_tooltip": null,
      "layout": "IPY_MODEL_b330cf42aa9b4001975a3f1ae9c364a0",
      "max": 391,
      "min": 0,
      "orientation": "horizontal",
      "style": "IPY_MODEL_741ad35442a340f68f9442a6bedb5fcd",
      "value": 391
     }
    },
    "ec0a8a31a6ef4b8dbb7569d99c6e07b1": {
     "model_module": "@jupyter-widgets/controls",
     "model_module_version": "1.5.0",
     "model_name": "HTMLModel",
     "state": {
      "_dom_classes": [],
      "_model_module": "@jupyter-widgets/controls",
      "_model_module_version": "1.5.0",
      "_model_name": "HTMLModel",
      "_view_count": null,
      "_view_module": "@jupyter-widgets/controls",
      "_view_module_version": "1.5.0",
      "_view_name": "HTMLView",
      "description": "",
      "description_tooltip": null,
      "layout": "IPY_MODEL_bc6e44a7a00e4273b22878ccef609f6e",
      "placeholder": "​",
      "style": "IPY_MODEL_5f5472cf66ed44fda3ff159bd931ab83",
      "value": "Downloading: 100%"
     }
    },
    "f10c313217474d068990fac0df9d4f61": {
     "model_module": "@jupyter-widgets/base",
     "model_module_version": "1.2.0",
     "model_name": "LayoutModel",
     "state": {
      "_model_module": "@jupyter-widgets/base",
      "_model_module_version": "1.2.0",
      "_model_name": "LayoutModel",
      "_view_count": null,
      "_view_module": "@jupyter-widgets/base",
      "_view_module_version": "1.2.0",
      "_view_name": "LayoutView",
      "align_content": null,
      "align_items": null,
      "align_self": null,
      "border": null,
      "bottom": null,
      "display": null,
      "flex": null,
      "flex_flow": null,
      "grid_area": null,
      "grid_auto_columns": null,
      "grid_auto_flow": null,
      "grid_auto_rows": null,
      "grid_column": null,
      "grid_gap": null,
      "grid_row": null,
      "grid_template_areas": null,
      "grid_template_columns": null,
      "grid_template_rows": null,
      "height": null,
      "justify_content": null,
      "justify_items": null,
      "left": null,
      "margin": null,
      "max_height": null,
      "max_width": null,
      "min_height": null,
      "min_width": null,
      "object_fit": null,
      "object_position": null,
      "order": null,
      "overflow": null,
      "overflow_x": null,
      "overflow_y": null,
      "padding": null,
      "right": null,
      "top": null,
      "visibility": null,
      "width": null
     }
    },
    "f4b7ede107b54eeb846a48ab43337be0": {
     "model_module": "@jupyter-widgets/controls",
     "model_module_version": "1.5.0",
     "model_name": "HBoxModel",
     "state": {
      "_dom_classes": [],
      "_model_module": "@jupyter-widgets/controls",
      "_model_module_version": "1.5.0",
      "_model_name": "HBoxModel",
      "_view_count": null,
      "_view_module": "@jupyter-widgets/controls",
      "_view_module_version": "1.5.0",
      "_view_name": "HBoxView",
      "box_style": "",
      "children": [
       "IPY_MODEL_845c3fe5eced4fcca39c33c11ea9a670",
       "IPY_MODEL_ebdaccc2b6f8438e902ac4b24d14c9e9",
       "IPY_MODEL_848e820e5cad4a3e8c5eebcafd1839ed"
      ],
      "layout": "IPY_MODEL_2a82cb6b46b946af9dbb30ce1de02275"
     }
    },
    "f5b807b9384f41d9a4bbee4cde273be5": {
     "model_module": "@jupyter-widgets/base",
     "model_module_version": "1.2.0",
     "model_name": "LayoutModel",
     "state": {
      "_model_module": "@jupyter-widgets/base",
      "_model_module_version": "1.2.0",
      "_model_name": "LayoutModel",
      "_view_count": null,
      "_view_module": "@jupyter-widgets/base",
      "_view_module_version": "1.2.0",
      "_view_name": "LayoutView",
      "align_content": null,
      "align_items": null,
      "align_self": null,
      "border": null,
      "bottom": null,
      "display": null,
      "flex": null,
      "flex_flow": null,
      "grid_area": null,
      "grid_auto_columns": null,
      "grid_auto_flow": null,
      "grid_auto_rows": null,
      "grid_column": null,
      "grid_gap": null,
      "grid_row": null,
      "grid_template_areas": null,
      "grid_template_columns": null,
      "grid_template_rows": null,
      "height": null,
      "justify_content": null,
      "justify_items": null,
      "left": null,
      "margin": null,
      "max_height": null,
      "max_width": null,
      "min_height": null,
      "min_width": null,
      "object_fit": null,
      "object_position": null,
      "order": null,
      "overflow": null,
      "overflow_x": null,
      "overflow_y": null,
      "padding": null,
      "right": null,
      "top": null,
      "visibility": null,
      "width": null
     }
    },
    "f6ec23bb9e274900883d41e7ba4a6bcf": {
     "model_module": "@jupyter-widgets/base",
     "model_module_version": "1.2.0",
     "model_name": "LayoutModel",
     "state": {
      "_model_module": "@jupyter-widgets/base",
      "_model_module_version": "1.2.0",
      "_model_name": "LayoutModel",
      "_view_count": null,
      "_view_module": "@jupyter-widgets/base",
      "_view_module_version": "1.2.0",
      "_view_name": "LayoutView",
      "align_content": null,
      "align_items": null,
      "align_self": null,
      "border": null,
      "bottom": null,
      "display": null,
      "flex": null,
      "flex_flow": null,
      "grid_area": null,
      "grid_auto_columns": null,
      "grid_auto_flow": null,
      "grid_auto_rows": null,
      "grid_column": null,
      "grid_gap": null,
      "grid_row": null,
      "grid_template_areas": null,
      "grid_template_columns": null,
      "grid_template_rows": null,
      "height": null,
      "justify_content": null,
      "justify_items": null,
      "left": null,
      "margin": null,
      "max_height": null,
      "max_width": null,
      "min_height": null,
      "min_width": null,
      "object_fit": null,
      "object_position": null,
      "order": null,
      "overflow": null,
      "overflow_x": null,
      "overflow_y": null,
      "padding": null,
      "right": null,
      "top": null,
      "visibility": null,
      "width": null
     }
    },
    "fa29d186c2ac40668ca60968f0a9273f": {
     "model_module": "@jupyter-widgets/controls",
     "model_module_version": "1.5.0",
     "model_name": "ProgressStyleModel",
     "state": {
      "_model_module": "@jupyter-widgets/controls",
      "_model_module_version": "1.5.0",
      "_model_name": "ProgressStyleModel",
      "_view_count": null,
      "_view_module": "@jupyter-widgets/base",
      "_view_module_version": "1.2.0",
      "_view_name": "StyleView",
      "bar_color": null,
      "description_width": ""
     }
    },
    "fa3274cfcd154f6b8ffd07bb6e418570": {
     "model_module": "@jupyter-widgets/controls",
     "model_module_version": "1.5.0",
     "model_name": "DescriptionStyleModel",
     "state": {
      "_model_module": "@jupyter-widgets/controls",
      "_model_module_version": "1.5.0",
      "_model_name": "DescriptionStyleModel",
      "_view_count": null,
      "_view_module": "@jupyter-widgets/base",
      "_view_module_version": "1.2.0",
      "_view_name": "StyleView",
      "description_width": ""
     }
    },
    "fcdd20c46a344e9fb1213258cd56cab5": {
     "model_module": "@jupyter-widgets/base",
     "model_module_version": "1.2.0",
     "model_name": "LayoutModel",
     "state": {
      "_model_module": "@jupyter-widgets/base",
      "_model_module_version": "1.2.0",
      "_model_name": "LayoutModel",
      "_view_count": null,
      "_view_module": "@jupyter-widgets/base",
      "_view_module_version": "1.2.0",
      "_view_name": "LayoutView",
      "align_content": null,
      "align_items": null,
      "align_self": null,
      "border": null,
      "bottom": null,
      "display": null,
      "flex": null,
      "flex_flow": null,
      "grid_area": null,
      "grid_auto_columns": null,
      "grid_auto_flow": null,
      "grid_auto_rows": null,
      "grid_column": null,
      "grid_gap": null,
      "grid_row": null,
      "grid_template_areas": null,
      "grid_template_columns": null,
      "grid_template_rows": null,
      "height": null,
      "justify_content": null,
      "justify_items": null,
      "left": null,
      "margin": null,
      "max_height": null,
      "max_width": null,
      "min_height": null,
      "min_width": null,
      "object_fit": null,
      "object_position": null,
      "order": null,
      "overflow": null,
      "overflow_x": null,
      "overflow_y": null,
      "padding": null,
      "right": null,
      "top": null,
      "visibility": null,
      "width": null
     }
    },
    "fe684788f7124f95a58850c2df3811d2": {
     "model_module": "@jupyter-widgets/base",
     "model_module_version": "1.2.0",
     "model_name": "LayoutModel",
     "state": {
      "_model_module": "@jupyter-widgets/base",
      "_model_module_version": "1.2.0",
      "_model_name": "LayoutModel",
      "_view_count": null,
      "_view_module": "@jupyter-widgets/base",
      "_view_module_version": "1.2.0",
      "_view_name": "LayoutView",
      "align_content": null,
      "align_items": null,
      "align_self": null,
      "border": null,
      "bottom": null,
      "display": null,
      "flex": null,
      "flex_flow": null,
      "grid_area": null,
      "grid_auto_columns": null,
      "grid_auto_flow": null,
      "grid_auto_rows": null,
      "grid_column": null,
      "grid_gap": null,
      "grid_row": null,
      "grid_template_areas": null,
      "grid_template_columns": null,
      "grid_template_rows": null,
      "height": null,
      "justify_content": null,
      "justify_items": null,
      "left": null,
      "margin": null,
      "max_height": null,
      "max_width": null,
      "min_height": null,
      "min_width": null,
      "object_fit": null,
      "object_position": null,
      "order": null,
      "overflow": null,
      "overflow_x": null,
      "overflow_y": null,
      "padding": null,
      "right": null,
      "top": null,
      "visibility": null,
      "width": null
     }
    }
   }
  }
 },
 "nbformat": 4,
 "nbformat_minor": 4
}
