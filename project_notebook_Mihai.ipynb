{
  "nbformat": 4,
  "nbformat_minor": 0,
  "metadata": {
    "colab": {
      "name": "project_notebook_Mihai (1).ipynb",
      "provenance": [],
      "collapsed_sections": [
        "cU6sRkUeMYRc"
      ]
    },
    "kernelspec": {
      "name": "python3",
      "display_name": "Python 3"
    },
    "language_info": {
      "name": "python"
    },
    "accelerator": "GPU",
    "widgets": {
      "application/vnd.jupyter.widget-state+json": {
        "b5f1e47f369f43fe9e41993ed04dae07": {
          "model_module": "@jupyter-widgets/controls",
          "model_name": "HBoxModel",
          "model_module_version": "1.5.0",
          "state": {
            "_view_name": "HBoxView",
            "_dom_classes": [],
            "_model_name": "HBoxModel",
            "_view_module": "@jupyter-widgets/controls",
            "_model_module_version": "1.5.0",
            "_view_count": null,
            "_view_module_version": "1.5.0",
            "box_style": "",
            "layout": "IPY_MODEL_6d7e9023d0c045deb30317cd155015b5",
            "_model_module": "@jupyter-widgets/controls",
            "children": [
              "IPY_MODEL_65ead4597f4f4b56a85de218f1ee0c92",
              "IPY_MODEL_47439a8b9cbe4955be63496dbec55568",
              "IPY_MODEL_0fb3751af9d64dcfae95d52d0c21466a"
            ]
          }
        },
        "6d7e9023d0c045deb30317cd155015b5": {
          "model_module": "@jupyter-widgets/base",
          "model_name": "LayoutModel",
          "model_module_version": "1.2.0",
          "state": {
            "_view_name": "LayoutView",
            "grid_template_rows": null,
            "right": null,
            "justify_content": null,
            "_view_module": "@jupyter-widgets/base",
            "overflow": null,
            "_model_module_version": "1.2.0",
            "_view_count": null,
            "flex_flow": null,
            "width": null,
            "min_width": null,
            "border": null,
            "align_items": null,
            "bottom": null,
            "_model_module": "@jupyter-widgets/base",
            "top": null,
            "grid_column": null,
            "overflow_y": null,
            "overflow_x": null,
            "grid_auto_flow": null,
            "grid_area": null,
            "grid_template_columns": null,
            "flex": null,
            "_model_name": "LayoutModel",
            "justify_items": null,
            "grid_row": null,
            "max_height": null,
            "align_content": null,
            "visibility": null,
            "align_self": null,
            "height": null,
            "min_height": null,
            "padding": null,
            "grid_auto_rows": null,
            "grid_gap": null,
            "max_width": null,
            "order": null,
            "_view_module_version": "1.2.0",
            "grid_template_areas": null,
            "object_position": null,
            "object_fit": null,
            "grid_auto_columns": null,
            "margin": null,
            "display": null,
            "left": null
          }
        },
        "65ead4597f4f4b56a85de218f1ee0c92": {
          "model_module": "@jupyter-widgets/controls",
          "model_name": "HTMLModel",
          "model_module_version": "1.5.0",
          "state": {
            "_view_name": "HTMLView",
            "style": "IPY_MODEL_30a4cc5d723542faa6093b75b0cb746e",
            "_dom_classes": [],
            "description": "",
            "_model_name": "HTMLModel",
            "placeholder": "​",
            "_view_module": "@jupyter-widgets/controls",
            "_model_module_version": "1.5.0",
            "value": "Downloading: 100%",
            "_view_count": null,
            "_view_module_version": "1.5.0",
            "description_tooltip": null,
            "_model_module": "@jupyter-widgets/controls",
            "layout": "IPY_MODEL_8eb5c9b89f9f474ab24b7e8b7c0d094b"
          }
        },
        "47439a8b9cbe4955be63496dbec55568": {
          "model_module": "@jupyter-widgets/controls",
          "model_name": "FloatProgressModel",
          "model_module_version": "1.5.0",
          "state": {
            "_view_name": "ProgressView",
            "style": "IPY_MODEL_ad1bc27fce1943559a7f4522f54b1d24",
            "_dom_classes": [],
            "description": "",
            "_model_name": "FloatProgressModel",
            "bar_style": "success",
            "max": 391,
            "_view_module": "@jupyter-widgets/controls",
            "_model_module_version": "1.5.0",
            "value": 391,
            "_view_count": null,
            "_view_module_version": "1.5.0",
            "orientation": "horizontal",
            "min": 0,
            "description_tooltip": null,
            "_model_module": "@jupyter-widgets/controls",
            "layout": "IPY_MODEL_bf3389dae88a450487e8486061059436"
          }
        },
        "0fb3751af9d64dcfae95d52d0c21466a": {
          "model_module": "@jupyter-widgets/controls",
          "model_name": "HTMLModel",
          "model_module_version": "1.5.0",
          "state": {
            "_view_name": "HTMLView",
            "style": "IPY_MODEL_2eb73c5a96d740dbbff08b3a8d1d32e8",
            "_dom_classes": [],
            "description": "",
            "_model_name": "HTMLModel",
            "placeholder": "​",
            "_view_module": "@jupyter-widgets/controls",
            "_model_module_version": "1.5.0",
            "value": " 391/391 [00:00&lt;00:00, 5.10kB/s]",
            "_view_count": null,
            "_view_module_version": "1.5.0",
            "description_tooltip": null,
            "_model_module": "@jupyter-widgets/controls",
            "layout": "IPY_MODEL_6cb3ba764a8b49039b5cf7db513ed242"
          }
        },
        "30a4cc5d723542faa6093b75b0cb746e": {
          "model_module": "@jupyter-widgets/controls",
          "model_name": "DescriptionStyleModel",
          "model_module_version": "1.5.0",
          "state": {
            "_view_name": "StyleView",
            "_model_name": "DescriptionStyleModel",
            "description_width": "",
            "_view_module": "@jupyter-widgets/base",
            "_model_module_version": "1.5.0",
            "_view_count": null,
            "_view_module_version": "1.2.0",
            "_model_module": "@jupyter-widgets/controls"
          }
        },
        "8eb5c9b89f9f474ab24b7e8b7c0d094b": {
          "model_module": "@jupyter-widgets/base",
          "model_name": "LayoutModel",
          "model_module_version": "1.2.0",
          "state": {
            "_view_name": "LayoutView",
            "grid_template_rows": null,
            "right": null,
            "justify_content": null,
            "_view_module": "@jupyter-widgets/base",
            "overflow": null,
            "_model_module_version": "1.2.0",
            "_view_count": null,
            "flex_flow": null,
            "width": null,
            "min_width": null,
            "border": null,
            "align_items": null,
            "bottom": null,
            "_model_module": "@jupyter-widgets/base",
            "top": null,
            "grid_column": null,
            "overflow_y": null,
            "overflow_x": null,
            "grid_auto_flow": null,
            "grid_area": null,
            "grid_template_columns": null,
            "flex": null,
            "_model_name": "LayoutModel",
            "justify_items": null,
            "grid_row": null,
            "max_height": null,
            "align_content": null,
            "visibility": null,
            "align_self": null,
            "height": null,
            "min_height": null,
            "padding": null,
            "grid_auto_rows": null,
            "grid_gap": null,
            "max_width": null,
            "order": null,
            "_view_module_version": "1.2.0",
            "grid_template_areas": null,
            "object_position": null,
            "object_fit": null,
            "grid_auto_columns": null,
            "margin": null,
            "display": null,
            "left": null
          }
        },
        "ad1bc27fce1943559a7f4522f54b1d24": {
          "model_module": "@jupyter-widgets/controls",
          "model_name": "ProgressStyleModel",
          "model_module_version": "1.5.0",
          "state": {
            "_view_name": "StyleView",
            "_model_name": "ProgressStyleModel",
            "description_width": "",
            "_view_module": "@jupyter-widgets/base",
            "_model_module_version": "1.5.0",
            "_view_count": null,
            "_view_module_version": "1.2.0",
            "bar_color": null,
            "_model_module": "@jupyter-widgets/controls"
          }
        },
        "bf3389dae88a450487e8486061059436": {
          "model_module": "@jupyter-widgets/base",
          "model_name": "LayoutModel",
          "model_module_version": "1.2.0",
          "state": {
            "_view_name": "LayoutView",
            "grid_template_rows": null,
            "right": null,
            "justify_content": null,
            "_view_module": "@jupyter-widgets/base",
            "overflow": null,
            "_model_module_version": "1.2.0",
            "_view_count": null,
            "flex_flow": null,
            "width": null,
            "min_width": null,
            "border": null,
            "align_items": null,
            "bottom": null,
            "_model_module": "@jupyter-widgets/base",
            "top": null,
            "grid_column": null,
            "overflow_y": null,
            "overflow_x": null,
            "grid_auto_flow": null,
            "grid_area": null,
            "grid_template_columns": null,
            "flex": null,
            "_model_name": "LayoutModel",
            "justify_items": null,
            "grid_row": null,
            "max_height": null,
            "align_content": null,
            "visibility": null,
            "align_self": null,
            "height": null,
            "min_height": null,
            "padding": null,
            "grid_auto_rows": null,
            "grid_gap": null,
            "max_width": null,
            "order": null,
            "_view_module_version": "1.2.0",
            "grid_template_areas": null,
            "object_position": null,
            "object_fit": null,
            "grid_auto_columns": null,
            "margin": null,
            "display": null,
            "left": null
          }
        },
        "2eb73c5a96d740dbbff08b3a8d1d32e8": {
          "model_module": "@jupyter-widgets/controls",
          "model_name": "DescriptionStyleModel",
          "model_module_version": "1.5.0",
          "state": {
            "_view_name": "StyleView",
            "_model_name": "DescriptionStyleModel",
            "description_width": "",
            "_view_module": "@jupyter-widgets/base",
            "_model_module_version": "1.5.0",
            "_view_count": null,
            "_view_module_version": "1.2.0",
            "_model_module": "@jupyter-widgets/controls"
          }
        },
        "6cb3ba764a8b49039b5cf7db513ed242": {
          "model_module": "@jupyter-widgets/base",
          "model_name": "LayoutModel",
          "model_module_version": "1.2.0",
          "state": {
            "_view_name": "LayoutView",
            "grid_template_rows": null,
            "right": null,
            "justify_content": null,
            "_view_module": "@jupyter-widgets/base",
            "overflow": null,
            "_model_module_version": "1.2.0",
            "_view_count": null,
            "flex_flow": null,
            "width": null,
            "min_width": null,
            "border": null,
            "align_items": null,
            "bottom": null,
            "_model_module": "@jupyter-widgets/base",
            "top": null,
            "grid_column": null,
            "overflow_y": null,
            "overflow_x": null,
            "grid_auto_flow": null,
            "grid_area": null,
            "grid_template_columns": null,
            "flex": null,
            "_model_name": "LayoutModel",
            "justify_items": null,
            "grid_row": null,
            "max_height": null,
            "align_content": null,
            "visibility": null,
            "align_self": null,
            "height": null,
            "min_height": null,
            "padding": null,
            "grid_auto_rows": null,
            "grid_gap": null,
            "max_width": null,
            "order": null,
            "_view_module_version": "1.2.0",
            "grid_template_areas": null,
            "object_position": null,
            "object_fit": null,
            "grid_auto_columns": null,
            "margin": null,
            "display": null,
            "left": null
          }
        },
        "ce5bc9b0b7654690a3eaa695ed12faab": {
          "model_module": "@jupyter-widgets/controls",
          "model_name": "HBoxModel",
          "model_module_version": "1.5.0",
          "state": {
            "_view_name": "HBoxView",
            "_dom_classes": [],
            "_model_name": "HBoxModel",
            "_view_module": "@jupyter-widgets/controls",
            "_model_module_version": "1.5.0",
            "_view_count": null,
            "_view_module_version": "1.5.0",
            "box_style": "",
            "layout": "IPY_MODEL_05c2bd4d2d6d47fdacc12eee9f6b6361",
            "_model_module": "@jupyter-widgets/controls",
            "children": [
              "IPY_MODEL_32ee16c4c28e49568c8e14b26c123ced",
              "IPY_MODEL_9c30a92e9d264131b7f35c6ef61175a9",
              "IPY_MODEL_30f331d2635847ff8a8801d219ac8f09"
            ]
          }
        },
        "05c2bd4d2d6d47fdacc12eee9f6b6361": {
          "model_module": "@jupyter-widgets/base",
          "model_name": "LayoutModel",
          "model_module_version": "1.2.0",
          "state": {
            "_view_name": "LayoutView",
            "grid_template_rows": null,
            "right": null,
            "justify_content": null,
            "_view_module": "@jupyter-widgets/base",
            "overflow": null,
            "_model_module_version": "1.2.0",
            "_view_count": null,
            "flex_flow": null,
            "width": null,
            "min_width": null,
            "border": null,
            "align_items": null,
            "bottom": null,
            "_model_module": "@jupyter-widgets/base",
            "top": null,
            "grid_column": null,
            "overflow_y": null,
            "overflow_x": null,
            "grid_auto_flow": null,
            "grid_area": null,
            "grid_template_columns": null,
            "flex": null,
            "_model_name": "LayoutModel",
            "justify_items": null,
            "grid_row": null,
            "max_height": null,
            "align_content": null,
            "visibility": null,
            "align_self": null,
            "height": null,
            "min_height": null,
            "padding": null,
            "grid_auto_rows": null,
            "grid_gap": null,
            "max_width": null,
            "order": null,
            "_view_module_version": "1.2.0",
            "grid_template_areas": null,
            "object_position": null,
            "object_fit": null,
            "grid_auto_columns": null,
            "margin": null,
            "display": null,
            "left": null
          }
        },
        "32ee16c4c28e49568c8e14b26c123ced": {
          "model_module": "@jupyter-widgets/controls",
          "model_name": "HTMLModel",
          "model_module_version": "1.5.0",
          "state": {
            "_view_name": "HTMLView",
            "style": "IPY_MODEL_601d5ee9ab9c4768a20f3b160d514c76",
            "_dom_classes": [],
            "description": "",
            "_model_name": "HTMLModel",
            "placeholder": "​",
            "_view_module": "@jupyter-widgets/controls",
            "_model_module_version": "1.5.0",
            "value": "Downloading: 100%",
            "_view_count": null,
            "_view_module_version": "1.5.0",
            "description_tooltip": null,
            "_model_module": "@jupyter-widgets/controls",
            "layout": "IPY_MODEL_40458dc74deb4942b20db6fa69197c94"
          }
        },
        "9c30a92e9d264131b7f35c6ef61175a9": {
          "model_module": "@jupyter-widgets/controls",
          "model_name": "FloatProgressModel",
          "model_module_version": "1.5.0",
          "state": {
            "_view_name": "ProgressView",
            "style": "IPY_MODEL_8d1e058fca924a888ef8021f72de40a7",
            "_dom_classes": [],
            "description": "",
            "_model_name": "FloatProgressModel",
            "bar_style": "success",
            "max": 3951,
            "_view_module": "@jupyter-widgets/controls",
            "_model_module_version": "1.5.0",
            "value": 3951,
            "_view_count": null,
            "_view_module_version": "1.5.0",
            "orientation": "horizontal",
            "min": 0,
            "description_tooltip": null,
            "_model_module": "@jupyter-widgets/controls",
            "layout": "IPY_MODEL_117a708725d548ba8b2046ae523fb582"
          }
        },
        "30f331d2635847ff8a8801d219ac8f09": {
          "model_module": "@jupyter-widgets/controls",
          "model_name": "HTMLModel",
          "model_module_version": "1.5.0",
          "state": {
            "_view_name": "HTMLView",
            "style": "IPY_MODEL_5b99599287c84ee0a2e013fe4742b033",
            "_dom_classes": [],
            "description": "",
            "_model_name": "HTMLModel",
            "placeholder": "​",
            "_view_module": "@jupyter-widgets/controls",
            "_model_module_version": "1.5.0",
            "value": " 3.95k/3.95k [00:00&lt;00:00, 87.2kB/s]",
            "_view_count": null,
            "_view_module_version": "1.5.0",
            "description_tooltip": null,
            "_model_module": "@jupyter-widgets/controls",
            "layout": "IPY_MODEL_f0b4b2c0f8424020987a4ecaa90d2703"
          }
        },
        "601d5ee9ab9c4768a20f3b160d514c76": {
          "model_module": "@jupyter-widgets/controls",
          "model_name": "DescriptionStyleModel",
          "model_module_version": "1.5.0",
          "state": {
            "_view_name": "StyleView",
            "_model_name": "DescriptionStyleModel",
            "description_width": "",
            "_view_module": "@jupyter-widgets/base",
            "_model_module_version": "1.5.0",
            "_view_count": null,
            "_view_module_version": "1.2.0",
            "_model_module": "@jupyter-widgets/controls"
          }
        },
        "40458dc74deb4942b20db6fa69197c94": {
          "model_module": "@jupyter-widgets/base",
          "model_name": "LayoutModel",
          "model_module_version": "1.2.0",
          "state": {
            "_view_name": "LayoutView",
            "grid_template_rows": null,
            "right": null,
            "justify_content": null,
            "_view_module": "@jupyter-widgets/base",
            "overflow": null,
            "_model_module_version": "1.2.0",
            "_view_count": null,
            "flex_flow": null,
            "width": null,
            "min_width": null,
            "border": null,
            "align_items": null,
            "bottom": null,
            "_model_module": "@jupyter-widgets/base",
            "top": null,
            "grid_column": null,
            "overflow_y": null,
            "overflow_x": null,
            "grid_auto_flow": null,
            "grid_area": null,
            "grid_template_columns": null,
            "flex": null,
            "_model_name": "LayoutModel",
            "justify_items": null,
            "grid_row": null,
            "max_height": null,
            "align_content": null,
            "visibility": null,
            "align_self": null,
            "height": null,
            "min_height": null,
            "padding": null,
            "grid_auto_rows": null,
            "grid_gap": null,
            "max_width": null,
            "order": null,
            "_view_module_version": "1.2.0",
            "grid_template_areas": null,
            "object_position": null,
            "object_fit": null,
            "grid_auto_columns": null,
            "margin": null,
            "display": null,
            "left": null
          }
        },
        "8d1e058fca924a888ef8021f72de40a7": {
          "model_module": "@jupyter-widgets/controls",
          "model_name": "ProgressStyleModel",
          "model_module_version": "1.5.0",
          "state": {
            "_view_name": "StyleView",
            "_model_name": "ProgressStyleModel",
            "description_width": "",
            "_view_module": "@jupyter-widgets/base",
            "_model_module_version": "1.5.0",
            "_view_count": null,
            "_view_module_version": "1.2.0",
            "bar_color": null,
            "_model_module": "@jupyter-widgets/controls"
          }
        },
        "117a708725d548ba8b2046ae523fb582": {
          "model_module": "@jupyter-widgets/base",
          "model_name": "LayoutModel",
          "model_module_version": "1.2.0",
          "state": {
            "_view_name": "LayoutView",
            "grid_template_rows": null,
            "right": null,
            "justify_content": null,
            "_view_module": "@jupyter-widgets/base",
            "overflow": null,
            "_model_module_version": "1.2.0",
            "_view_count": null,
            "flex_flow": null,
            "width": null,
            "min_width": null,
            "border": null,
            "align_items": null,
            "bottom": null,
            "_model_module": "@jupyter-widgets/base",
            "top": null,
            "grid_column": null,
            "overflow_y": null,
            "overflow_x": null,
            "grid_auto_flow": null,
            "grid_area": null,
            "grid_template_columns": null,
            "flex": null,
            "_model_name": "LayoutModel",
            "justify_items": null,
            "grid_row": null,
            "max_height": null,
            "align_content": null,
            "visibility": null,
            "align_self": null,
            "height": null,
            "min_height": null,
            "padding": null,
            "grid_auto_rows": null,
            "grid_gap": null,
            "max_width": null,
            "order": null,
            "_view_module_version": "1.2.0",
            "grid_template_areas": null,
            "object_position": null,
            "object_fit": null,
            "grid_auto_columns": null,
            "margin": null,
            "display": null,
            "left": null
          }
        },
        "5b99599287c84ee0a2e013fe4742b033": {
          "model_module": "@jupyter-widgets/controls",
          "model_name": "DescriptionStyleModel",
          "model_module_version": "1.5.0",
          "state": {
            "_view_name": "StyleView",
            "_model_name": "DescriptionStyleModel",
            "description_width": "",
            "_view_module": "@jupyter-widgets/base",
            "_model_module_version": "1.5.0",
            "_view_count": null,
            "_view_module_version": "1.2.0",
            "_model_module": "@jupyter-widgets/controls"
          }
        },
        "f0b4b2c0f8424020987a4ecaa90d2703": {
          "model_module": "@jupyter-widgets/base",
          "model_name": "LayoutModel",
          "model_module_version": "1.2.0",
          "state": {
            "_view_name": "LayoutView",
            "grid_template_rows": null,
            "right": null,
            "justify_content": null,
            "_view_module": "@jupyter-widgets/base",
            "overflow": null,
            "_model_module_version": "1.2.0",
            "_view_count": null,
            "flex_flow": null,
            "width": null,
            "min_width": null,
            "border": null,
            "align_items": null,
            "bottom": null,
            "_model_module": "@jupyter-widgets/base",
            "top": null,
            "grid_column": null,
            "overflow_y": null,
            "overflow_x": null,
            "grid_auto_flow": null,
            "grid_area": null,
            "grid_template_columns": null,
            "flex": null,
            "_model_name": "LayoutModel",
            "justify_items": null,
            "grid_row": null,
            "max_height": null,
            "align_content": null,
            "visibility": null,
            "align_self": null,
            "height": null,
            "min_height": null,
            "padding": null,
            "grid_auto_rows": null,
            "grid_gap": null,
            "max_width": null,
            "order": null,
            "_view_module_version": "1.2.0",
            "grid_template_areas": null,
            "object_position": null,
            "object_fit": null,
            "grid_auto_columns": null,
            "margin": null,
            "display": null,
            "left": null
          }
        },
        "1b5b7df26bc64b058aa927eb793fcd04": {
          "model_module": "@jupyter-widgets/controls",
          "model_name": "HBoxModel",
          "model_module_version": "1.5.0",
          "state": {
            "_view_name": "HBoxView",
            "_dom_classes": [],
            "_model_name": "HBoxModel",
            "_view_module": "@jupyter-widgets/controls",
            "_model_module_version": "1.5.0",
            "_view_count": null,
            "_view_module_version": "1.5.0",
            "box_style": "",
            "layout": "IPY_MODEL_76e517007f1044b5ac00a31ec256c9ff",
            "_model_module": "@jupyter-widgets/controls",
            "children": [
              "IPY_MODEL_4b2666793ea44903b1555241cc03f428",
              "IPY_MODEL_df641e9997554e60b5b76d08b14d2f45",
              "IPY_MODEL_b741ee794ad74103b38f9a925fe5e773"
            ]
          }
        },
        "76e517007f1044b5ac00a31ec256c9ff": {
          "model_module": "@jupyter-widgets/base",
          "model_name": "LayoutModel",
          "model_module_version": "1.2.0",
          "state": {
            "_view_name": "LayoutView",
            "grid_template_rows": null,
            "right": null,
            "justify_content": null,
            "_view_module": "@jupyter-widgets/base",
            "overflow": null,
            "_model_module_version": "1.2.0",
            "_view_count": null,
            "flex_flow": null,
            "width": null,
            "min_width": null,
            "border": null,
            "align_items": null,
            "bottom": null,
            "_model_module": "@jupyter-widgets/base",
            "top": null,
            "grid_column": null,
            "overflow_y": null,
            "overflow_x": null,
            "grid_auto_flow": null,
            "grid_area": null,
            "grid_template_columns": null,
            "flex": null,
            "_model_name": "LayoutModel",
            "justify_items": null,
            "grid_row": null,
            "max_height": null,
            "align_content": null,
            "visibility": null,
            "align_self": null,
            "height": null,
            "min_height": null,
            "padding": null,
            "grid_auto_rows": null,
            "grid_gap": null,
            "max_width": null,
            "order": null,
            "_view_module_version": "1.2.0",
            "grid_template_areas": null,
            "object_position": null,
            "object_fit": null,
            "grid_auto_columns": null,
            "margin": null,
            "display": null,
            "left": null
          }
        },
        "4b2666793ea44903b1555241cc03f428": {
          "model_module": "@jupyter-widgets/controls",
          "model_name": "HTMLModel",
          "model_module_version": "1.5.0",
          "state": {
            "_view_name": "HTMLView",
            "style": "IPY_MODEL_351f2f601e8749ea9c5f6215a6a5e177",
            "_dom_classes": [],
            "description": "",
            "_model_name": "HTMLModel",
            "placeholder": "​",
            "_view_module": "@jupyter-widgets/controls",
            "_model_module_version": "1.5.0",
            "value": "Downloading: 100%",
            "_view_count": null,
            "_view_module_version": "1.5.0",
            "description_tooltip": null,
            "_model_module": "@jupyter-widgets/controls",
            "layout": "IPY_MODEL_c9397d31d24a457d94a1504a209f99fe"
          }
        },
        "df641e9997554e60b5b76d08b14d2f45": {
          "model_module": "@jupyter-widgets/controls",
          "model_name": "FloatProgressModel",
          "model_module_version": "1.5.0",
          "state": {
            "_view_name": "ProgressView",
            "style": "IPY_MODEL_9f1a67031dcd41878263f6af95694b17",
            "_dom_classes": [],
            "description": "",
            "_model_name": "FloatProgressModel",
            "bar_style": "success",
            "max": 2,
            "_view_module": "@jupyter-widgets/controls",
            "_model_module_version": "1.5.0",
            "value": 2,
            "_view_count": null,
            "_view_module_version": "1.5.0",
            "orientation": "horizontal",
            "min": 0,
            "description_tooltip": null,
            "_model_module": "@jupyter-widgets/controls",
            "layout": "IPY_MODEL_83a1e9e91cba4cf3827418314f31a698"
          }
        },
        "b741ee794ad74103b38f9a925fe5e773": {
          "model_module": "@jupyter-widgets/controls",
          "model_name": "HTMLModel",
          "model_module_version": "1.5.0",
          "state": {
            "_view_name": "HTMLView",
            "style": "IPY_MODEL_1d05a39fe4824ad28287df46b3b05925",
            "_dom_classes": [],
            "description": "",
            "_model_name": "HTMLModel",
            "placeholder": "​",
            "_view_module": "@jupyter-widgets/controls",
            "_model_module_version": "1.5.0",
            "value": " 2.00/2.00 [00:00&lt;00:00, 53.7B/s]",
            "_view_count": null,
            "_view_module_version": "1.5.0",
            "description_tooltip": null,
            "_model_module": "@jupyter-widgets/controls",
            "layout": "IPY_MODEL_7fec762083de4f458ea83c01be9349ed"
          }
        },
        "351f2f601e8749ea9c5f6215a6a5e177": {
          "model_module": "@jupyter-widgets/controls",
          "model_name": "DescriptionStyleModel",
          "model_module_version": "1.5.0",
          "state": {
            "_view_name": "StyleView",
            "_model_name": "DescriptionStyleModel",
            "description_width": "",
            "_view_module": "@jupyter-widgets/base",
            "_model_module_version": "1.5.0",
            "_view_count": null,
            "_view_module_version": "1.2.0",
            "_model_module": "@jupyter-widgets/controls"
          }
        },
        "c9397d31d24a457d94a1504a209f99fe": {
          "model_module": "@jupyter-widgets/base",
          "model_name": "LayoutModel",
          "model_module_version": "1.2.0",
          "state": {
            "_view_name": "LayoutView",
            "grid_template_rows": null,
            "right": null,
            "justify_content": null,
            "_view_module": "@jupyter-widgets/base",
            "overflow": null,
            "_model_module_version": "1.2.0",
            "_view_count": null,
            "flex_flow": null,
            "width": null,
            "min_width": null,
            "border": null,
            "align_items": null,
            "bottom": null,
            "_model_module": "@jupyter-widgets/base",
            "top": null,
            "grid_column": null,
            "overflow_y": null,
            "overflow_x": null,
            "grid_auto_flow": null,
            "grid_area": null,
            "grid_template_columns": null,
            "flex": null,
            "_model_name": "LayoutModel",
            "justify_items": null,
            "grid_row": null,
            "max_height": null,
            "align_content": null,
            "visibility": null,
            "align_self": null,
            "height": null,
            "min_height": null,
            "padding": null,
            "grid_auto_rows": null,
            "grid_gap": null,
            "max_width": null,
            "order": null,
            "_view_module_version": "1.2.0",
            "grid_template_areas": null,
            "object_position": null,
            "object_fit": null,
            "grid_auto_columns": null,
            "margin": null,
            "display": null,
            "left": null
          }
        },
        "9f1a67031dcd41878263f6af95694b17": {
          "model_module": "@jupyter-widgets/controls",
          "model_name": "ProgressStyleModel",
          "model_module_version": "1.5.0",
          "state": {
            "_view_name": "StyleView",
            "_model_name": "ProgressStyleModel",
            "description_width": "",
            "_view_module": "@jupyter-widgets/base",
            "_model_module_version": "1.5.0",
            "_view_count": null,
            "_view_module_version": "1.2.0",
            "bar_color": null,
            "_model_module": "@jupyter-widgets/controls"
          }
        },
        "83a1e9e91cba4cf3827418314f31a698": {
          "model_module": "@jupyter-widgets/base",
          "model_name": "LayoutModel",
          "model_module_version": "1.2.0",
          "state": {
            "_view_name": "LayoutView",
            "grid_template_rows": null,
            "right": null,
            "justify_content": null,
            "_view_module": "@jupyter-widgets/base",
            "overflow": null,
            "_model_module_version": "1.2.0",
            "_view_count": null,
            "flex_flow": null,
            "width": null,
            "min_width": null,
            "border": null,
            "align_items": null,
            "bottom": null,
            "_model_module": "@jupyter-widgets/base",
            "top": null,
            "grid_column": null,
            "overflow_y": null,
            "overflow_x": null,
            "grid_auto_flow": null,
            "grid_area": null,
            "grid_template_columns": null,
            "flex": null,
            "_model_name": "LayoutModel",
            "justify_items": null,
            "grid_row": null,
            "max_height": null,
            "align_content": null,
            "visibility": null,
            "align_self": null,
            "height": null,
            "min_height": null,
            "padding": null,
            "grid_auto_rows": null,
            "grid_gap": null,
            "max_width": null,
            "order": null,
            "_view_module_version": "1.2.0",
            "grid_template_areas": null,
            "object_position": null,
            "object_fit": null,
            "grid_auto_columns": null,
            "margin": null,
            "display": null,
            "left": null
          }
        },
        "1d05a39fe4824ad28287df46b3b05925": {
          "model_module": "@jupyter-widgets/controls",
          "model_name": "DescriptionStyleModel",
          "model_module_version": "1.5.0",
          "state": {
            "_view_name": "StyleView",
            "_model_name": "DescriptionStyleModel",
            "description_width": "",
            "_view_module": "@jupyter-widgets/base",
            "_model_module_version": "1.5.0",
            "_view_count": null,
            "_view_module_version": "1.2.0",
            "_model_module": "@jupyter-widgets/controls"
          }
        },
        "7fec762083de4f458ea83c01be9349ed": {
          "model_module": "@jupyter-widgets/base",
          "model_name": "LayoutModel",
          "model_module_version": "1.2.0",
          "state": {
            "_view_name": "LayoutView",
            "grid_template_rows": null,
            "right": null,
            "justify_content": null,
            "_view_module": "@jupyter-widgets/base",
            "overflow": null,
            "_model_module_version": "1.2.0",
            "_view_count": null,
            "flex_flow": null,
            "width": null,
            "min_width": null,
            "border": null,
            "align_items": null,
            "bottom": null,
            "_model_module": "@jupyter-widgets/base",
            "top": null,
            "grid_column": null,
            "overflow_y": null,
            "overflow_x": null,
            "grid_auto_flow": null,
            "grid_area": null,
            "grid_template_columns": null,
            "flex": null,
            "_model_name": "LayoutModel",
            "justify_items": null,
            "grid_row": null,
            "max_height": null,
            "align_content": null,
            "visibility": null,
            "align_self": null,
            "height": null,
            "min_height": null,
            "padding": null,
            "grid_auto_rows": null,
            "grid_gap": null,
            "max_width": null,
            "order": null,
            "_view_module_version": "1.2.0",
            "grid_template_areas": null,
            "object_position": null,
            "object_fit": null,
            "grid_auto_columns": null,
            "margin": null,
            "display": null,
            "left": null
          }
        },
        "c085f2a673e343b59a4ff6569ad8136a": {
          "model_module": "@jupyter-widgets/controls",
          "model_name": "HBoxModel",
          "model_module_version": "1.5.0",
          "state": {
            "_view_name": "HBoxView",
            "_dom_classes": [],
            "_model_name": "HBoxModel",
            "_view_module": "@jupyter-widgets/controls",
            "_model_module_version": "1.5.0",
            "_view_count": null,
            "_view_module_version": "1.5.0",
            "box_style": "",
            "layout": "IPY_MODEL_992c4ac815c54d2683cd936387ac8e87",
            "_model_module": "@jupyter-widgets/controls",
            "children": [
              "IPY_MODEL_3f4971c73bfd4f0cacaaebf0554cc29b",
              "IPY_MODEL_fa676889299d4c76bc41d1b7a6cc5167",
              "IPY_MODEL_92e3af8222eb4660b9d1a547d6eef3bd"
            ]
          }
        },
        "992c4ac815c54d2683cd936387ac8e87": {
          "model_module": "@jupyter-widgets/base",
          "model_name": "LayoutModel",
          "model_module_version": "1.2.0",
          "state": {
            "_view_name": "LayoutView",
            "grid_template_rows": null,
            "right": null,
            "justify_content": null,
            "_view_module": "@jupyter-widgets/base",
            "overflow": null,
            "_model_module_version": "1.2.0",
            "_view_count": null,
            "flex_flow": null,
            "width": null,
            "min_width": null,
            "border": null,
            "align_items": null,
            "bottom": null,
            "_model_module": "@jupyter-widgets/base",
            "top": null,
            "grid_column": null,
            "overflow_y": null,
            "overflow_x": null,
            "grid_auto_flow": null,
            "grid_area": null,
            "grid_template_columns": null,
            "flex": null,
            "_model_name": "LayoutModel",
            "justify_items": null,
            "grid_row": null,
            "max_height": null,
            "align_content": null,
            "visibility": null,
            "align_self": null,
            "height": null,
            "min_height": null,
            "padding": null,
            "grid_auto_rows": null,
            "grid_gap": null,
            "max_width": null,
            "order": null,
            "_view_module_version": "1.2.0",
            "grid_template_areas": null,
            "object_position": null,
            "object_fit": null,
            "grid_auto_columns": null,
            "margin": null,
            "display": null,
            "left": null
          }
        },
        "3f4971c73bfd4f0cacaaebf0554cc29b": {
          "model_module": "@jupyter-widgets/controls",
          "model_name": "HTMLModel",
          "model_module_version": "1.5.0",
          "state": {
            "_view_name": "HTMLView",
            "style": "IPY_MODEL_05337d65900b4b2083357686bb6429a4",
            "_dom_classes": [],
            "description": "",
            "_model_name": "HTMLModel",
            "placeholder": "​",
            "_view_module": "@jupyter-widgets/controls",
            "_model_module_version": "1.5.0",
            "value": "Downloading: 100%",
            "_view_count": null,
            "_view_module_version": "1.5.0",
            "description_tooltip": null,
            "_model_module": "@jupyter-widgets/controls",
            "layout": "IPY_MODEL_3a76696a03a34796971690203b5650c0"
          }
        },
        "fa676889299d4c76bc41d1b7a6cc5167": {
          "model_module": "@jupyter-widgets/controls",
          "model_name": "FloatProgressModel",
          "model_module_version": "1.5.0",
          "state": {
            "_view_name": "ProgressView",
            "style": "IPY_MODEL_889b3d3dd5384c4fa1756194a57e1f91",
            "_dom_classes": [],
            "description": "",
            "_model_name": "FloatProgressModel",
            "bar_style": "success",
            "max": 625,
            "_view_module": "@jupyter-widgets/controls",
            "_model_module_version": "1.5.0",
            "value": 625,
            "_view_count": null,
            "_view_module_version": "1.5.0",
            "orientation": "horizontal",
            "min": 0,
            "description_tooltip": null,
            "_model_module": "@jupyter-widgets/controls",
            "layout": "IPY_MODEL_e5c52c46ace64959920acf39700e4894"
          }
        },
        "92e3af8222eb4660b9d1a547d6eef3bd": {
          "model_module": "@jupyter-widgets/controls",
          "model_name": "HTMLModel",
          "model_module_version": "1.5.0",
          "state": {
            "_view_name": "HTMLView",
            "style": "IPY_MODEL_a650069ec50e47b4bddea464bbd072ae",
            "_dom_classes": [],
            "description": "",
            "_model_name": "HTMLModel",
            "placeholder": "​",
            "_view_module": "@jupyter-widgets/controls",
            "_model_module_version": "1.5.0",
            "value": " 625/625 [00:00&lt;00:00, 9.87kB/s]",
            "_view_count": null,
            "_view_module_version": "1.5.0",
            "description_tooltip": null,
            "_model_module": "@jupyter-widgets/controls",
            "layout": "IPY_MODEL_4ebcefa15259418cb8c4a48d7d5e487f"
          }
        },
        "05337d65900b4b2083357686bb6429a4": {
          "model_module": "@jupyter-widgets/controls",
          "model_name": "DescriptionStyleModel",
          "model_module_version": "1.5.0",
          "state": {
            "_view_name": "StyleView",
            "_model_name": "DescriptionStyleModel",
            "description_width": "",
            "_view_module": "@jupyter-widgets/base",
            "_model_module_version": "1.5.0",
            "_view_count": null,
            "_view_module_version": "1.2.0",
            "_model_module": "@jupyter-widgets/controls"
          }
        },
        "3a76696a03a34796971690203b5650c0": {
          "model_module": "@jupyter-widgets/base",
          "model_name": "LayoutModel",
          "model_module_version": "1.2.0",
          "state": {
            "_view_name": "LayoutView",
            "grid_template_rows": null,
            "right": null,
            "justify_content": null,
            "_view_module": "@jupyter-widgets/base",
            "overflow": null,
            "_model_module_version": "1.2.0",
            "_view_count": null,
            "flex_flow": null,
            "width": null,
            "min_width": null,
            "border": null,
            "align_items": null,
            "bottom": null,
            "_model_module": "@jupyter-widgets/base",
            "top": null,
            "grid_column": null,
            "overflow_y": null,
            "overflow_x": null,
            "grid_auto_flow": null,
            "grid_area": null,
            "grid_template_columns": null,
            "flex": null,
            "_model_name": "LayoutModel",
            "justify_items": null,
            "grid_row": null,
            "max_height": null,
            "align_content": null,
            "visibility": null,
            "align_self": null,
            "height": null,
            "min_height": null,
            "padding": null,
            "grid_auto_rows": null,
            "grid_gap": null,
            "max_width": null,
            "order": null,
            "_view_module_version": "1.2.0",
            "grid_template_areas": null,
            "object_position": null,
            "object_fit": null,
            "grid_auto_columns": null,
            "margin": null,
            "display": null,
            "left": null
          }
        },
        "889b3d3dd5384c4fa1756194a57e1f91": {
          "model_module": "@jupyter-widgets/controls",
          "model_name": "ProgressStyleModel",
          "model_module_version": "1.5.0",
          "state": {
            "_view_name": "StyleView",
            "_model_name": "ProgressStyleModel",
            "description_width": "",
            "_view_module": "@jupyter-widgets/base",
            "_model_module_version": "1.5.0",
            "_view_count": null,
            "_view_module_version": "1.2.0",
            "bar_color": null,
            "_model_module": "@jupyter-widgets/controls"
          }
        },
        "e5c52c46ace64959920acf39700e4894": {
          "model_module": "@jupyter-widgets/base",
          "model_name": "LayoutModel",
          "model_module_version": "1.2.0",
          "state": {
            "_view_name": "LayoutView",
            "grid_template_rows": null,
            "right": null,
            "justify_content": null,
            "_view_module": "@jupyter-widgets/base",
            "overflow": null,
            "_model_module_version": "1.2.0",
            "_view_count": null,
            "flex_flow": null,
            "width": null,
            "min_width": null,
            "border": null,
            "align_items": null,
            "bottom": null,
            "_model_module": "@jupyter-widgets/base",
            "top": null,
            "grid_column": null,
            "overflow_y": null,
            "overflow_x": null,
            "grid_auto_flow": null,
            "grid_area": null,
            "grid_template_columns": null,
            "flex": null,
            "_model_name": "LayoutModel",
            "justify_items": null,
            "grid_row": null,
            "max_height": null,
            "align_content": null,
            "visibility": null,
            "align_self": null,
            "height": null,
            "min_height": null,
            "padding": null,
            "grid_auto_rows": null,
            "grid_gap": null,
            "max_width": null,
            "order": null,
            "_view_module_version": "1.2.0",
            "grid_template_areas": null,
            "object_position": null,
            "object_fit": null,
            "grid_auto_columns": null,
            "margin": null,
            "display": null,
            "left": null
          }
        },
        "a650069ec50e47b4bddea464bbd072ae": {
          "model_module": "@jupyter-widgets/controls",
          "model_name": "DescriptionStyleModel",
          "model_module_version": "1.5.0",
          "state": {
            "_view_name": "StyleView",
            "_model_name": "DescriptionStyleModel",
            "description_width": "",
            "_view_module": "@jupyter-widgets/base",
            "_model_module_version": "1.5.0",
            "_view_count": null,
            "_view_module_version": "1.2.0",
            "_model_module": "@jupyter-widgets/controls"
          }
        },
        "4ebcefa15259418cb8c4a48d7d5e487f": {
          "model_module": "@jupyter-widgets/base",
          "model_name": "LayoutModel",
          "model_module_version": "1.2.0",
          "state": {
            "_view_name": "LayoutView",
            "grid_template_rows": null,
            "right": null,
            "justify_content": null,
            "_view_module": "@jupyter-widgets/base",
            "overflow": null,
            "_model_module_version": "1.2.0",
            "_view_count": null,
            "flex_flow": null,
            "width": null,
            "min_width": null,
            "border": null,
            "align_items": null,
            "bottom": null,
            "_model_module": "@jupyter-widgets/base",
            "top": null,
            "grid_column": null,
            "overflow_y": null,
            "overflow_x": null,
            "grid_auto_flow": null,
            "grid_area": null,
            "grid_template_columns": null,
            "flex": null,
            "_model_name": "LayoutModel",
            "justify_items": null,
            "grid_row": null,
            "max_height": null,
            "align_content": null,
            "visibility": null,
            "align_self": null,
            "height": null,
            "min_height": null,
            "padding": null,
            "grid_auto_rows": null,
            "grid_gap": null,
            "max_width": null,
            "order": null,
            "_view_module_version": "1.2.0",
            "grid_template_areas": null,
            "object_position": null,
            "object_fit": null,
            "grid_auto_columns": null,
            "margin": null,
            "display": null,
            "left": null
          }
        },
        "95e16ec30baa4e07a5da28987c2e4f2b": {
          "model_module": "@jupyter-widgets/controls",
          "model_name": "HBoxModel",
          "model_module_version": "1.5.0",
          "state": {
            "_view_name": "HBoxView",
            "_dom_classes": [],
            "_model_name": "HBoxModel",
            "_view_module": "@jupyter-widgets/controls",
            "_model_module_version": "1.5.0",
            "_view_count": null,
            "_view_module_version": "1.5.0",
            "box_style": "",
            "layout": "IPY_MODEL_6260b93b9e4e4c6cb2231738b007616d",
            "_model_module": "@jupyter-widgets/controls",
            "children": [
              "IPY_MODEL_4aac2df9554648b98bdbfd7c45ba6f6d",
              "IPY_MODEL_e82df6c03823453d8b4f54cecad1a358",
              "IPY_MODEL_bec6df164add4f7595d073dc95aaf357"
            ]
          }
        },
        "6260b93b9e4e4c6cb2231738b007616d": {
          "model_module": "@jupyter-widgets/base",
          "model_name": "LayoutModel",
          "model_module_version": "1.2.0",
          "state": {
            "_view_name": "LayoutView",
            "grid_template_rows": null,
            "right": null,
            "justify_content": null,
            "_view_module": "@jupyter-widgets/base",
            "overflow": null,
            "_model_module_version": "1.2.0",
            "_view_count": null,
            "flex_flow": null,
            "width": null,
            "min_width": null,
            "border": null,
            "align_items": null,
            "bottom": null,
            "_model_module": "@jupyter-widgets/base",
            "top": null,
            "grid_column": null,
            "overflow_y": null,
            "overflow_x": null,
            "grid_auto_flow": null,
            "grid_area": null,
            "grid_template_columns": null,
            "flex": null,
            "_model_name": "LayoutModel",
            "justify_items": null,
            "grid_row": null,
            "max_height": null,
            "align_content": null,
            "visibility": null,
            "align_self": null,
            "height": null,
            "min_height": null,
            "padding": null,
            "grid_auto_rows": null,
            "grid_gap": null,
            "max_width": null,
            "order": null,
            "_view_module_version": "1.2.0",
            "grid_template_areas": null,
            "object_position": null,
            "object_fit": null,
            "grid_auto_columns": null,
            "margin": null,
            "display": null,
            "left": null
          }
        },
        "4aac2df9554648b98bdbfd7c45ba6f6d": {
          "model_module": "@jupyter-widgets/controls",
          "model_name": "HTMLModel",
          "model_module_version": "1.5.0",
          "state": {
            "_view_name": "HTMLView",
            "style": "IPY_MODEL_f27c85f8f9854d6db62735f280b05563",
            "_dom_classes": [],
            "description": "",
            "_model_name": "HTMLModel",
            "placeholder": "​",
            "_view_module": "@jupyter-widgets/controls",
            "_model_module_version": "1.5.0",
            "value": "Downloading: 100%",
            "_view_count": null,
            "_view_module_version": "1.5.0",
            "description_tooltip": null,
            "_model_module": "@jupyter-widgets/controls",
            "layout": "IPY_MODEL_31f20a7d17594f4f99521c7599863f69"
          }
        },
        "e82df6c03823453d8b4f54cecad1a358": {
          "model_module": "@jupyter-widgets/controls",
          "model_name": "FloatProgressModel",
          "model_module_version": "1.5.0",
          "state": {
            "_view_name": "ProgressView",
            "style": "IPY_MODEL_e01ff8bf8ce04dc58eab9fd4c88b0d9a",
            "_dom_classes": [],
            "description": "",
            "_model_name": "FloatProgressModel",
            "bar_style": "success",
            "max": 122,
            "_view_module": "@jupyter-widgets/controls",
            "_model_module_version": "1.5.0",
            "value": 122,
            "_view_count": null,
            "_view_module_version": "1.5.0",
            "orientation": "horizontal",
            "min": 0,
            "description_tooltip": null,
            "_model_module": "@jupyter-widgets/controls",
            "layout": "IPY_MODEL_d3a9c818c6054b5aa3586a5a38bf8732"
          }
        },
        "bec6df164add4f7595d073dc95aaf357": {
          "model_module": "@jupyter-widgets/controls",
          "model_name": "HTMLModel",
          "model_module_version": "1.5.0",
          "state": {
            "_view_name": "HTMLView",
            "style": "IPY_MODEL_b9d6a7895fbe4fb4ae77af425ed1de7b",
            "_dom_classes": [],
            "description": "",
            "_model_name": "HTMLModel",
            "placeholder": "​",
            "_view_module": "@jupyter-widgets/controls",
            "_model_module_version": "1.5.0",
            "value": " 122/122 [00:00&lt;00:00, 2.51kB/s]",
            "_view_count": null,
            "_view_module_version": "1.5.0",
            "description_tooltip": null,
            "_model_module": "@jupyter-widgets/controls",
            "layout": "IPY_MODEL_b7f8b9aa95d840ff906e9c7a3de3e92d"
          }
        },
        "f27c85f8f9854d6db62735f280b05563": {
          "model_module": "@jupyter-widgets/controls",
          "model_name": "DescriptionStyleModel",
          "model_module_version": "1.5.0",
          "state": {
            "_view_name": "StyleView",
            "_model_name": "DescriptionStyleModel",
            "description_width": "",
            "_view_module": "@jupyter-widgets/base",
            "_model_module_version": "1.5.0",
            "_view_count": null,
            "_view_module_version": "1.2.0",
            "_model_module": "@jupyter-widgets/controls"
          }
        },
        "31f20a7d17594f4f99521c7599863f69": {
          "model_module": "@jupyter-widgets/base",
          "model_name": "LayoutModel",
          "model_module_version": "1.2.0",
          "state": {
            "_view_name": "LayoutView",
            "grid_template_rows": null,
            "right": null,
            "justify_content": null,
            "_view_module": "@jupyter-widgets/base",
            "overflow": null,
            "_model_module_version": "1.2.0",
            "_view_count": null,
            "flex_flow": null,
            "width": null,
            "min_width": null,
            "border": null,
            "align_items": null,
            "bottom": null,
            "_model_module": "@jupyter-widgets/base",
            "top": null,
            "grid_column": null,
            "overflow_y": null,
            "overflow_x": null,
            "grid_auto_flow": null,
            "grid_area": null,
            "grid_template_columns": null,
            "flex": null,
            "_model_name": "LayoutModel",
            "justify_items": null,
            "grid_row": null,
            "max_height": null,
            "align_content": null,
            "visibility": null,
            "align_self": null,
            "height": null,
            "min_height": null,
            "padding": null,
            "grid_auto_rows": null,
            "grid_gap": null,
            "max_width": null,
            "order": null,
            "_view_module_version": "1.2.0",
            "grid_template_areas": null,
            "object_position": null,
            "object_fit": null,
            "grid_auto_columns": null,
            "margin": null,
            "display": null,
            "left": null
          }
        },
        "e01ff8bf8ce04dc58eab9fd4c88b0d9a": {
          "model_module": "@jupyter-widgets/controls",
          "model_name": "ProgressStyleModel",
          "model_module_version": "1.5.0",
          "state": {
            "_view_name": "StyleView",
            "_model_name": "ProgressStyleModel",
            "description_width": "",
            "_view_module": "@jupyter-widgets/base",
            "_model_module_version": "1.5.0",
            "_view_count": null,
            "_view_module_version": "1.2.0",
            "bar_color": null,
            "_model_module": "@jupyter-widgets/controls"
          }
        },
        "d3a9c818c6054b5aa3586a5a38bf8732": {
          "model_module": "@jupyter-widgets/base",
          "model_name": "LayoutModel",
          "model_module_version": "1.2.0",
          "state": {
            "_view_name": "LayoutView",
            "grid_template_rows": null,
            "right": null,
            "justify_content": null,
            "_view_module": "@jupyter-widgets/base",
            "overflow": null,
            "_model_module_version": "1.2.0",
            "_view_count": null,
            "flex_flow": null,
            "width": null,
            "min_width": null,
            "border": null,
            "align_items": null,
            "bottom": null,
            "_model_module": "@jupyter-widgets/base",
            "top": null,
            "grid_column": null,
            "overflow_y": null,
            "overflow_x": null,
            "grid_auto_flow": null,
            "grid_area": null,
            "grid_template_columns": null,
            "flex": null,
            "_model_name": "LayoutModel",
            "justify_items": null,
            "grid_row": null,
            "max_height": null,
            "align_content": null,
            "visibility": null,
            "align_self": null,
            "height": null,
            "min_height": null,
            "padding": null,
            "grid_auto_rows": null,
            "grid_gap": null,
            "max_width": null,
            "order": null,
            "_view_module_version": "1.2.0",
            "grid_template_areas": null,
            "object_position": null,
            "object_fit": null,
            "grid_auto_columns": null,
            "margin": null,
            "display": null,
            "left": null
          }
        },
        "b9d6a7895fbe4fb4ae77af425ed1de7b": {
          "model_module": "@jupyter-widgets/controls",
          "model_name": "DescriptionStyleModel",
          "model_module_version": "1.5.0",
          "state": {
            "_view_name": "StyleView",
            "_model_name": "DescriptionStyleModel",
            "description_width": "",
            "_view_module": "@jupyter-widgets/base",
            "_model_module_version": "1.5.0",
            "_view_count": null,
            "_view_module_version": "1.2.0",
            "_model_module": "@jupyter-widgets/controls"
          }
        },
        "b7f8b9aa95d840ff906e9c7a3de3e92d": {
          "model_module": "@jupyter-widgets/base",
          "model_name": "LayoutModel",
          "model_module_version": "1.2.0",
          "state": {
            "_view_name": "LayoutView",
            "grid_template_rows": null,
            "right": null,
            "justify_content": null,
            "_view_module": "@jupyter-widgets/base",
            "overflow": null,
            "_model_module_version": "1.2.0",
            "_view_count": null,
            "flex_flow": null,
            "width": null,
            "min_width": null,
            "border": null,
            "align_items": null,
            "bottom": null,
            "_model_module": "@jupyter-widgets/base",
            "top": null,
            "grid_column": null,
            "overflow_y": null,
            "overflow_x": null,
            "grid_auto_flow": null,
            "grid_area": null,
            "grid_template_columns": null,
            "flex": null,
            "_model_name": "LayoutModel",
            "justify_items": null,
            "grid_row": null,
            "max_height": null,
            "align_content": null,
            "visibility": null,
            "align_self": null,
            "height": null,
            "min_height": null,
            "padding": null,
            "grid_auto_rows": null,
            "grid_gap": null,
            "max_width": null,
            "order": null,
            "_view_module_version": "1.2.0",
            "grid_template_areas": null,
            "object_position": null,
            "object_fit": null,
            "grid_auto_columns": null,
            "margin": null,
            "display": null,
            "left": null
          }
        },
        "8a6e74a24b6f41edbf621f925724c309": {
          "model_module": "@jupyter-widgets/controls",
          "model_name": "HBoxModel",
          "model_module_version": "1.5.0",
          "state": {
            "_view_name": "HBoxView",
            "_dom_classes": [],
            "_model_name": "HBoxModel",
            "_view_module": "@jupyter-widgets/controls",
            "_model_module_version": "1.5.0",
            "_view_count": null,
            "_view_module_version": "1.5.0",
            "box_style": "",
            "layout": "IPY_MODEL_6a4fce4865554339861733861c623662",
            "_model_module": "@jupyter-widgets/controls",
            "children": [
              "IPY_MODEL_49b9aa5ab9084d87b3a675c93f09d597",
              "IPY_MODEL_cae6e78bfcc24dc68d68763060386733",
              "IPY_MODEL_651f166acc8246168ab2fe96714595c3"
            ]
          }
        },
        "6a4fce4865554339861733861c623662": {
          "model_module": "@jupyter-widgets/base",
          "model_name": "LayoutModel",
          "model_module_version": "1.2.0",
          "state": {
            "_view_name": "LayoutView",
            "grid_template_rows": null,
            "right": null,
            "justify_content": null,
            "_view_module": "@jupyter-widgets/base",
            "overflow": null,
            "_model_module_version": "1.2.0",
            "_view_count": null,
            "flex_flow": null,
            "width": null,
            "min_width": null,
            "border": null,
            "align_items": null,
            "bottom": null,
            "_model_module": "@jupyter-widgets/base",
            "top": null,
            "grid_column": null,
            "overflow_y": null,
            "overflow_x": null,
            "grid_auto_flow": null,
            "grid_area": null,
            "grid_template_columns": null,
            "flex": null,
            "_model_name": "LayoutModel",
            "justify_items": null,
            "grid_row": null,
            "max_height": null,
            "align_content": null,
            "visibility": null,
            "align_self": null,
            "height": null,
            "min_height": null,
            "padding": null,
            "grid_auto_rows": null,
            "grid_gap": null,
            "max_width": null,
            "order": null,
            "_view_module_version": "1.2.0",
            "grid_template_areas": null,
            "object_position": null,
            "object_fit": null,
            "grid_auto_columns": null,
            "margin": null,
            "display": null,
            "left": null
          }
        },
        "49b9aa5ab9084d87b3a675c93f09d597": {
          "model_module": "@jupyter-widgets/controls",
          "model_name": "HTMLModel",
          "model_module_version": "1.5.0",
          "state": {
            "_view_name": "HTMLView",
            "style": "IPY_MODEL_b1df4777257f4bc89d3611aa732fbbba",
            "_dom_classes": [],
            "description": "",
            "_model_name": "HTMLModel",
            "placeholder": "​",
            "_view_module": "@jupyter-widgets/controls",
            "_model_module_version": "1.5.0",
            "value": "Downloading: 100%",
            "_view_count": null,
            "_view_module_version": "1.5.0",
            "description_tooltip": null,
            "_model_module": "@jupyter-widgets/controls",
            "layout": "IPY_MODEL_140dc1986d1d47ae91a6d841c6b1b992"
          }
        },
        "cae6e78bfcc24dc68d68763060386733": {
          "model_module": "@jupyter-widgets/controls",
          "model_name": "FloatProgressModel",
          "model_module_version": "1.5.0",
          "state": {
            "_view_name": "ProgressView",
            "style": "IPY_MODEL_92c121ff7e254a0e8a747b339443700f",
            "_dom_classes": [],
            "description": "",
            "_model_name": "FloatProgressModel",
            "bar_style": "success",
            "max": 229,
            "_view_module": "@jupyter-widgets/controls",
            "_model_module_version": "1.5.0",
            "value": 229,
            "_view_count": null,
            "_view_module_version": "1.5.0",
            "orientation": "horizontal",
            "min": 0,
            "description_tooltip": null,
            "_model_module": "@jupyter-widgets/controls",
            "layout": "IPY_MODEL_47a6b289e267483ab418c534162a3f40"
          }
        },
        "651f166acc8246168ab2fe96714595c3": {
          "model_module": "@jupyter-widgets/controls",
          "model_name": "HTMLModel",
          "model_module_version": "1.5.0",
          "state": {
            "_view_name": "HTMLView",
            "style": "IPY_MODEL_8183b486dbc4470e9a17ba82d3a44dcc",
            "_dom_classes": [],
            "description": "",
            "_model_name": "HTMLModel",
            "placeholder": "​",
            "_view_module": "@jupyter-widgets/controls",
            "_model_module_version": "1.5.0",
            "value": " 229/229 [00:00&lt;00:00, 5.81kB/s]",
            "_view_count": null,
            "_view_module_version": "1.5.0",
            "description_tooltip": null,
            "_model_module": "@jupyter-widgets/controls",
            "layout": "IPY_MODEL_21d0b93f148d4e2597520a46ace6f515"
          }
        },
        "b1df4777257f4bc89d3611aa732fbbba": {
          "model_module": "@jupyter-widgets/controls",
          "model_name": "DescriptionStyleModel",
          "model_module_version": "1.5.0",
          "state": {
            "_view_name": "StyleView",
            "_model_name": "DescriptionStyleModel",
            "description_width": "",
            "_view_module": "@jupyter-widgets/base",
            "_model_module_version": "1.5.0",
            "_view_count": null,
            "_view_module_version": "1.2.0",
            "_model_module": "@jupyter-widgets/controls"
          }
        },
        "140dc1986d1d47ae91a6d841c6b1b992": {
          "model_module": "@jupyter-widgets/base",
          "model_name": "LayoutModel",
          "model_module_version": "1.2.0",
          "state": {
            "_view_name": "LayoutView",
            "grid_template_rows": null,
            "right": null,
            "justify_content": null,
            "_view_module": "@jupyter-widgets/base",
            "overflow": null,
            "_model_module_version": "1.2.0",
            "_view_count": null,
            "flex_flow": null,
            "width": null,
            "min_width": null,
            "border": null,
            "align_items": null,
            "bottom": null,
            "_model_module": "@jupyter-widgets/base",
            "top": null,
            "grid_column": null,
            "overflow_y": null,
            "overflow_x": null,
            "grid_auto_flow": null,
            "grid_area": null,
            "grid_template_columns": null,
            "flex": null,
            "_model_name": "LayoutModel",
            "justify_items": null,
            "grid_row": null,
            "max_height": null,
            "align_content": null,
            "visibility": null,
            "align_self": null,
            "height": null,
            "min_height": null,
            "padding": null,
            "grid_auto_rows": null,
            "grid_gap": null,
            "max_width": null,
            "order": null,
            "_view_module_version": "1.2.0",
            "grid_template_areas": null,
            "object_position": null,
            "object_fit": null,
            "grid_auto_columns": null,
            "margin": null,
            "display": null,
            "left": null
          }
        },
        "92c121ff7e254a0e8a747b339443700f": {
          "model_module": "@jupyter-widgets/controls",
          "model_name": "ProgressStyleModel",
          "model_module_version": "1.5.0",
          "state": {
            "_view_name": "StyleView",
            "_model_name": "ProgressStyleModel",
            "description_width": "",
            "_view_module": "@jupyter-widgets/base",
            "_model_module_version": "1.5.0",
            "_view_count": null,
            "_view_module_version": "1.2.0",
            "bar_color": null,
            "_model_module": "@jupyter-widgets/controls"
          }
        },
        "47a6b289e267483ab418c534162a3f40": {
          "model_module": "@jupyter-widgets/base",
          "model_name": "LayoutModel",
          "model_module_version": "1.2.0",
          "state": {
            "_view_name": "LayoutView",
            "grid_template_rows": null,
            "right": null,
            "justify_content": null,
            "_view_module": "@jupyter-widgets/base",
            "overflow": null,
            "_model_module_version": "1.2.0",
            "_view_count": null,
            "flex_flow": null,
            "width": null,
            "min_width": null,
            "border": null,
            "align_items": null,
            "bottom": null,
            "_model_module": "@jupyter-widgets/base",
            "top": null,
            "grid_column": null,
            "overflow_y": null,
            "overflow_x": null,
            "grid_auto_flow": null,
            "grid_area": null,
            "grid_template_columns": null,
            "flex": null,
            "_model_name": "LayoutModel",
            "justify_items": null,
            "grid_row": null,
            "max_height": null,
            "align_content": null,
            "visibility": null,
            "align_self": null,
            "height": null,
            "min_height": null,
            "padding": null,
            "grid_auto_rows": null,
            "grid_gap": null,
            "max_width": null,
            "order": null,
            "_view_module_version": "1.2.0",
            "grid_template_areas": null,
            "object_position": null,
            "object_fit": null,
            "grid_auto_columns": null,
            "margin": null,
            "display": null,
            "left": null
          }
        },
        "8183b486dbc4470e9a17ba82d3a44dcc": {
          "model_module": "@jupyter-widgets/controls",
          "model_name": "DescriptionStyleModel",
          "model_module_version": "1.5.0",
          "state": {
            "_view_name": "StyleView",
            "_model_name": "DescriptionStyleModel",
            "description_width": "",
            "_view_module": "@jupyter-widgets/base",
            "_model_module_version": "1.5.0",
            "_view_count": null,
            "_view_module_version": "1.2.0",
            "_model_module": "@jupyter-widgets/controls"
          }
        },
        "21d0b93f148d4e2597520a46ace6f515": {
          "model_module": "@jupyter-widgets/base",
          "model_name": "LayoutModel",
          "model_module_version": "1.2.0",
          "state": {
            "_view_name": "LayoutView",
            "grid_template_rows": null,
            "right": null,
            "justify_content": null,
            "_view_module": "@jupyter-widgets/base",
            "overflow": null,
            "_model_module_version": "1.2.0",
            "_view_count": null,
            "flex_flow": null,
            "width": null,
            "min_width": null,
            "border": null,
            "align_items": null,
            "bottom": null,
            "_model_module": "@jupyter-widgets/base",
            "top": null,
            "grid_column": null,
            "overflow_y": null,
            "overflow_x": null,
            "grid_auto_flow": null,
            "grid_area": null,
            "grid_template_columns": null,
            "flex": null,
            "_model_name": "LayoutModel",
            "justify_items": null,
            "grid_row": null,
            "max_height": null,
            "align_content": null,
            "visibility": null,
            "align_self": null,
            "height": null,
            "min_height": null,
            "padding": null,
            "grid_auto_rows": null,
            "grid_gap": null,
            "max_width": null,
            "order": null,
            "_view_module_version": "1.2.0",
            "grid_template_areas": null,
            "object_position": null,
            "object_fit": null,
            "grid_auto_columns": null,
            "margin": null,
            "display": null,
            "left": null
          }
        },
        "d87e2083d61a466990a16d6fd43e27a2": {
          "model_module": "@jupyter-widgets/controls",
          "model_name": "HBoxModel",
          "model_module_version": "1.5.0",
          "state": {
            "_view_name": "HBoxView",
            "_dom_classes": [],
            "_model_name": "HBoxModel",
            "_view_module": "@jupyter-widgets/controls",
            "_model_module_version": "1.5.0",
            "_view_count": null,
            "_view_module_version": "1.5.0",
            "box_style": "",
            "layout": "IPY_MODEL_cb06281b08574129892a0005f6c8a4de",
            "_model_module": "@jupyter-widgets/controls",
            "children": [
              "IPY_MODEL_f5c54bfe607a4d789ac0e2abc3c655d7",
              "IPY_MODEL_08f82a9979b44ac382db8cf608de5005",
              "IPY_MODEL_5f299bbdcc624274b42d4cf6294726f9"
            ]
          }
        },
        "cb06281b08574129892a0005f6c8a4de": {
          "model_module": "@jupyter-widgets/base",
          "model_name": "LayoutModel",
          "model_module_version": "1.2.0",
          "state": {
            "_view_name": "LayoutView",
            "grid_template_rows": null,
            "right": null,
            "justify_content": null,
            "_view_module": "@jupyter-widgets/base",
            "overflow": null,
            "_model_module_version": "1.2.0",
            "_view_count": null,
            "flex_flow": null,
            "width": null,
            "min_width": null,
            "border": null,
            "align_items": null,
            "bottom": null,
            "_model_module": "@jupyter-widgets/base",
            "top": null,
            "grid_column": null,
            "overflow_y": null,
            "overflow_x": null,
            "grid_auto_flow": null,
            "grid_area": null,
            "grid_template_columns": null,
            "flex": null,
            "_model_name": "LayoutModel",
            "justify_items": null,
            "grid_row": null,
            "max_height": null,
            "align_content": null,
            "visibility": null,
            "align_self": null,
            "height": null,
            "min_height": null,
            "padding": null,
            "grid_auto_rows": null,
            "grid_gap": null,
            "max_width": null,
            "order": null,
            "_view_module_version": "1.2.0",
            "grid_template_areas": null,
            "object_position": null,
            "object_fit": null,
            "grid_auto_columns": null,
            "margin": null,
            "display": null,
            "left": null
          }
        },
        "f5c54bfe607a4d789ac0e2abc3c655d7": {
          "model_module": "@jupyter-widgets/controls",
          "model_name": "HTMLModel",
          "model_module_version": "1.5.0",
          "state": {
            "_view_name": "HTMLView",
            "style": "IPY_MODEL_7f5bc165dea74f76b3d853cb34178e15",
            "_dom_classes": [],
            "description": "",
            "_model_name": "HTMLModel",
            "placeholder": "​",
            "_view_module": "@jupyter-widgets/controls",
            "_model_module_version": "1.5.0",
            "value": "Downloading: 100%",
            "_view_count": null,
            "_view_module_version": "1.5.0",
            "description_tooltip": null,
            "_model_module": "@jupyter-widgets/controls",
            "layout": "IPY_MODEL_c025197819ec46eb9aac56d8e68320e0"
          }
        },
        "08f82a9979b44ac382db8cf608de5005": {
          "model_module": "@jupyter-widgets/controls",
          "model_name": "FloatProgressModel",
          "model_module_version": "1.5.0",
          "state": {
            "_view_name": "ProgressView",
            "style": "IPY_MODEL_bf5c52de887d4996809ce57278be694a",
            "_dom_classes": [],
            "description": "",
            "_model_name": "FloatProgressModel",
            "bar_style": "success",
            "max": 438007537,
            "_view_module": "@jupyter-widgets/controls",
            "_model_module_version": "1.5.0",
            "value": 438007537,
            "_view_count": null,
            "_view_module_version": "1.5.0",
            "orientation": "horizontal",
            "min": 0,
            "description_tooltip": null,
            "_model_module": "@jupyter-widgets/controls",
            "layout": "IPY_MODEL_6a4b5174ae4146448367b97c44f38a00"
          }
        },
        "5f299bbdcc624274b42d4cf6294726f9": {
          "model_module": "@jupyter-widgets/controls",
          "model_name": "HTMLModel",
          "model_module_version": "1.5.0",
          "state": {
            "_view_name": "HTMLView",
            "style": "IPY_MODEL_95e8dc00e3134e009ac1aaacb08ab703",
            "_dom_classes": [],
            "description": "",
            "_model_name": "HTMLModel",
            "placeholder": "​",
            "_view_module": "@jupyter-widgets/controls",
            "_model_module_version": "1.5.0",
            "value": " 438M/438M [00:15&lt;00:00, 27.0MB/s]",
            "_view_count": null,
            "_view_module_version": "1.5.0",
            "description_tooltip": null,
            "_model_module": "@jupyter-widgets/controls",
            "layout": "IPY_MODEL_45105f8b50b3434fabb31756d07f8474"
          }
        },
        "7f5bc165dea74f76b3d853cb34178e15": {
          "model_module": "@jupyter-widgets/controls",
          "model_name": "DescriptionStyleModel",
          "model_module_version": "1.5.0",
          "state": {
            "_view_name": "StyleView",
            "_model_name": "DescriptionStyleModel",
            "description_width": "",
            "_view_module": "@jupyter-widgets/base",
            "_model_module_version": "1.5.0",
            "_view_count": null,
            "_view_module_version": "1.2.0",
            "_model_module": "@jupyter-widgets/controls"
          }
        },
        "c025197819ec46eb9aac56d8e68320e0": {
          "model_module": "@jupyter-widgets/base",
          "model_name": "LayoutModel",
          "model_module_version": "1.2.0",
          "state": {
            "_view_name": "LayoutView",
            "grid_template_rows": null,
            "right": null,
            "justify_content": null,
            "_view_module": "@jupyter-widgets/base",
            "overflow": null,
            "_model_module_version": "1.2.0",
            "_view_count": null,
            "flex_flow": null,
            "width": null,
            "min_width": null,
            "border": null,
            "align_items": null,
            "bottom": null,
            "_model_module": "@jupyter-widgets/base",
            "top": null,
            "grid_column": null,
            "overflow_y": null,
            "overflow_x": null,
            "grid_auto_flow": null,
            "grid_area": null,
            "grid_template_columns": null,
            "flex": null,
            "_model_name": "LayoutModel",
            "justify_items": null,
            "grid_row": null,
            "max_height": null,
            "align_content": null,
            "visibility": null,
            "align_self": null,
            "height": null,
            "min_height": null,
            "padding": null,
            "grid_auto_rows": null,
            "grid_gap": null,
            "max_width": null,
            "order": null,
            "_view_module_version": "1.2.0",
            "grid_template_areas": null,
            "object_position": null,
            "object_fit": null,
            "grid_auto_columns": null,
            "margin": null,
            "display": null,
            "left": null
          }
        },
        "bf5c52de887d4996809ce57278be694a": {
          "model_module": "@jupyter-widgets/controls",
          "model_name": "ProgressStyleModel",
          "model_module_version": "1.5.0",
          "state": {
            "_view_name": "StyleView",
            "_model_name": "ProgressStyleModel",
            "description_width": "",
            "_view_module": "@jupyter-widgets/base",
            "_model_module_version": "1.5.0",
            "_view_count": null,
            "_view_module_version": "1.2.0",
            "bar_color": null,
            "_model_module": "@jupyter-widgets/controls"
          }
        },
        "6a4b5174ae4146448367b97c44f38a00": {
          "model_module": "@jupyter-widgets/base",
          "model_name": "LayoutModel",
          "model_module_version": "1.2.0",
          "state": {
            "_view_name": "LayoutView",
            "grid_template_rows": null,
            "right": null,
            "justify_content": null,
            "_view_module": "@jupyter-widgets/base",
            "overflow": null,
            "_model_module_version": "1.2.0",
            "_view_count": null,
            "flex_flow": null,
            "width": null,
            "min_width": null,
            "border": null,
            "align_items": null,
            "bottom": null,
            "_model_module": "@jupyter-widgets/base",
            "top": null,
            "grid_column": null,
            "overflow_y": null,
            "overflow_x": null,
            "grid_auto_flow": null,
            "grid_area": null,
            "grid_template_columns": null,
            "flex": null,
            "_model_name": "LayoutModel",
            "justify_items": null,
            "grid_row": null,
            "max_height": null,
            "align_content": null,
            "visibility": null,
            "align_self": null,
            "height": null,
            "min_height": null,
            "padding": null,
            "grid_auto_rows": null,
            "grid_gap": null,
            "max_width": null,
            "order": null,
            "_view_module_version": "1.2.0",
            "grid_template_areas": null,
            "object_position": null,
            "object_fit": null,
            "grid_auto_columns": null,
            "margin": null,
            "display": null,
            "left": null
          }
        },
        "95e8dc00e3134e009ac1aaacb08ab703": {
          "model_module": "@jupyter-widgets/controls",
          "model_name": "DescriptionStyleModel",
          "model_module_version": "1.5.0",
          "state": {
            "_view_name": "StyleView",
            "_model_name": "DescriptionStyleModel",
            "description_width": "",
            "_view_module": "@jupyter-widgets/base",
            "_model_module_version": "1.5.0",
            "_view_count": null,
            "_view_module_version": "1.2.0",
            "_model_module": "@jupyter-widgets/controls"
          }
        },
        "45105f8b50b3434fabb31756d07f8474": {
          "model_module": "@jupyter-widgets/base",
          "model_name": "LayoutModel",
          "model_module_version": "1.2.0",
          "state": {
            "_view_name": "LayoutView",
            "grid_template_rows": null,
            "right": null,
            "justify_content": null,
            "_view_module": "@jupyter-widgets/base",
            "overflow": null,
            "_model_module_version": "1.2.0",
            "_view_count": null,
            "flex_flow": null,
            "width": null,
            "min_width": null,
            "border": null,
            "align_items": null,
            "bottom": null,
            "_model_module": "@jupyter-widgets/base",
            "top": null,
            "grid_column": null,
            "overflow_y": null,
            "overflow_x": null,
            "grid_auto_flow": null,
            "grid_area": null,
            "grid_template_columns": null,
            "flex": null,
            "_model_name": "LayoutModel",
            "justify_items": null,
            "grid_row": null,
            "max_height": null,
            "align_content": null,
            "visibility": null,
            "align_self": null,
            "height": null,
            "min_height": null,
            "padding": null,
            "grid_auto_rows": null,
            "grid_gap": null,
            "max_width": null,
            "order": null,
            "_view_module_version": "1.2.0",
            "grid_template_areas": null,
            "object_position": null,
            "object_fit": null,
            "grid_auto_columns": null,
            "margin": null,
            "display": null,
            "left": null
          }
        },
        "2cbd71b1da834a718aa3990d37adc728": {
          "model_module": "@jupyter-widgets/controls",
          "model_name": "HBoxModel",
          "model_module_version": "1.5.0",
          "state": {
            "_view_name": "HBoxView",
            "_dom_classes": [],
            "_model_name": "HBoxModel",
            "_view_module": "@jupyter-widgets/controls",
            "_model_module_version": "1.5.0",
            "_view_count": null,
            "_view_module_version": "1.5.0",
            "box_style": "",
            "layout": "IPY_MODEL_728012b6828a43f5aad6c8adade218cd",
            "_model_module": "@jupyter-widgets/controls",
            "children": [
              "IPY_MODEL_bf1862f66d1d4adabce7f56f601dc2c9",
              "IPY_MODEL_b3cf1fb01dd34660ab38f0dbe175bca0",
              "IPY_MODEL_06dd01e72ed344a983ef3e10f0aea969"
            ]
          }
        },
        "728012b6828a43f5aad6c8adade218cd": {
          "model_module": "@jupyter-widgets/base",
          "model_name": "LayoutModel",
          "model_module_version": "1.2.0",
          "state": {
            "_view_name": "LayoutView",
            "grid_template_rows": null,
            "right": null,
            "justify_content": null,
            "_view_module": "@jupyter-widgets/base",
            "overflow": null,
            "_model_module_version": "1.2.0",
            "_view_count": null,
            "flex_flow": null,
            "width": null,
            "min_width": null,
            "border": null,
            "align_items": null,
            "bottom": null,
            "_model_module": "@jupyter-widgets/base",
            "top": null,
            "grid_column": null,
            "overflow_y": null,
            "overflow_x": null,
            "grid_auto_flow": null,
            "grid_area": null,
            "grid_template_columns": null,
            "flex": null,
            "_model_name": "LayoutModel",
            "justify_items": null,
            "grid_row": null,
            "max_height": null,
            "align_content": null,
            "visibility": null,
            "align_self": null,
            "height": null,
            "min_height": null,
            "padding": null,
            "grid_auto_rows": null,
            "grid_gap": null,
            "max_width": null,
            "order": null,
            "_view_module_version": "1.2.0",
            "grid_template_areas": null,
            "object_position": null,
            "object_fit": null,
            "grid_auto_columns": null,
            "margin": null,
            "display": null,
            "left": null
          }
        },
        "bf1862f66d1d4adabce7f56f601dc2c9": {
          "model_module": "@jupyter-widgets/controls",
          "model_name": "HTMLModel",
          "model_module_version": "1.5.0",
          "state": {
            "_view_name": "HTMLView",
            "style": "IPY_MODEL_1e440b1a3506472689f368ad3fd45c37",
            "_dom_classes": [],
            "description": "",
            "_model_name": "HTMLModel",
            "placeholder": "​",
            "_view_module": "@jupyter-widgets/controls",
            "_model_module_version": "1.5.0",
            "value": "Downloading: 100%",
            "_view_count": null,
            "_view_module_version": "1.5.0",
            "description_tooltip": null,
            "_model_module": "@jupyter-widgets/controls",
            "layout": "IPY_MODEL_48d9c30665084342b108ddfcf15719ae"
          }
        },
        "b3cf1fb01dd34660ab38f0dbe175bca0": {
          "model_module": "@jupyter-widgets/controls",
          "model_name": "FloatProgressModel",
          "model_module_version": "1.5.0",
          "state": {
            "_view_name": "ProgressView",
            "style": "IPY_MODEL_c824af9730004cce9ae7ba7821c62f81",
            "_dom_classes": [],
            "description": "",
            "_model_name": "FloatProgressModel",
            "bar_style": "success",
            "max": 53,
            "_view_module": "@jupyter-widgets/controls",
            "_model_module_version": "1.5.0",
            "value": 53,
            "_view_count": null,
            "_view_module_version": "1.5.0",
            "orientation": "horizontal",
            "min": 0,
            "description_tooltip": null,
            "_model_module": "@jupyter-widgets/controls",
            "layout": "IPY_MODEL_b9f810b845074c60a14f90a9c8840e61"
          }
        },
        "06dd01e72ed344a983ef3e10f0aea969": {
          "model_module": "@jupyter-widgets/controls",
          "model_name": "HTMLModel",
          "model_module_version": "1.5.0",
          "state": {
            "_view_name": "HTMLView",
            "style": "IPY_MODEL_afc09a023179435eaa72dc5c1ef583a6",
            "_dom_classes": [],
            "description": "",
            "_model_name": "HTMLModel",
            "placeholder": "​",
            "_view_module": "@jupyter-widgets/controls",
            "_model_module_version": "1.5.0",
            "value": " 53.0/53.0 [00:00&lt;00:00, 1.18kB/s]",
            "_view_count": null,
            "_view_module_version": "1.5.0",
            "description_tooltip": null,
            "_model_module": "@jupyter-widgets/controls",
            "layout": "IPY_MODEL_bdf940a905264ba79b4fd8a0425db8fd"
          }
        },
        "1e440b1a3506472689f368ad3fd45c37": {
          "model_module": "@jupyter-widgets/controls",
          "model_name": "DescriptionStyleModel",
          "model_module_version": "1.5.0",
          "state": {
            "_view_name": "StyleView",
            "_model_name": "DescriptionStyleModel",
            "description_width": "",
            "_view_module": "@jupyter-widgets/base",
            "_model_module_version": "1.5.0",
            "_view_count": null,
            "_view_module_version": "1.2.0",
            "_model_module": "@jupyter-widgets/controls"
          }
        },
        "48d9c30665084342b108ddfcf15719ae": {
          "model_module": "@jupyter-widgets/base",
          "model_name": "LayoutModel",
          "model_module_version": "1.2.0",
          "state": {
            "_view_name": "LayoutView",
            "grid_template_rows": null,
            "right": null,
            "justify_content": null,
            "_view_module": "@jupyter-widgets/base",
            "overflow": null,
            "_model_module_version": "1.2.0",
            "_view_count": null,
            "flex_flow": null,
            "width": null,
            "min_width": null,
            "border": null,
            "align_items": null,
            "bottom": null,
            "_model_module": "@jupyter-widgets/base",
            "top": null,
            "grid_column": null,
            "overflow_y": null,
            "overflow_x": null,
            "grid_auto_flow": null,
            "grid_area": null,
            "grid_template_columns": null,
            "flex": null,
            "_model_name": "LayoutModel",
            "justify_items": null,
            "grid_row": null,
            "max_height": null,
            "align_content": null,
            "visibility": null,
            "align_self": null,
            "height": null,
            "min_height": null,
            "padding": null,
            "grid_auto_rows": null,
            "grid_gap": null,
            "max_width": null,
            "order": null,
            "_view_module_version": "1.2.0",
            "grid_template_areas": null,
            "object_position": null,
            "object_fit": null,
            "grid_auto_columns": null,
            "margin": null,
            "display": null,
            "left": null
          }
        },
        "c824af9730004cce9ae7ba7821c62f81": {
          "model_module": "@jupyter-widgets/controls",
          "model_name": "ProgressStyleModel",
          "model_module_version": "1.5.0",
          "state": {
            "_view_name": "StyleView",
            "_model_name": "ProgressStyleModel",
            "description_width": "",
            "_view_module": "@jupyter-widgets/base",
            "_model_module_version": "1.5.0",
            "_view_count": null,
            "_view_module_version": "1.2.0",
            "bar_color": null,
            "_model_module": "@jupyter-widgets/controls"
          }
        },
        "b9f810b845074c60a14f90a9c8840e61": {
          "model_module": "@jupyter-widgets/base",
          "model_name": "LayoutModel",
          "model_module_version": "1.2.0",
          "state": {
            "_view_name": "LayoutView",
            "grid_template_rows": null,
            "right": null,
            "justify_content": null,
            "_view_module": "@jupyter-widgets/base",
            "overflow": null,
            "_model_module_version": "1.2.0",
            "_view_count": null,
            "flex_flow": null,
            "width": null,
            "min_width": null,
            "border": null,
            "align_items": null,
            "bottom": null,
            "_model_module": "@jupyter-widgets/base",
            "top": null,
            "grid_column": null,
            "overflow_y": null,
            "overflow_x": null,
            "grid_auto_flow": null,
            "grid_area": null,
            "grid_template_columns": null,
            "flex": null,
            "_model_name": "LayoutModel",
            "justify_items": null,
            "grid_row": null,
            "max_height": null,
            "align_content": null,
            "visibility": null,
            "align_self": null,
            "height": null,
            "min_height": null,
            "padding": null,
            "grid_auto_rows": null,
            "grid_gap": null,
            "max_width": null,
            "order": null,
            "_view_module_version": "1.2.0",
            "grid_template_areas": null,
            "object_position": null,
            "object_fit": null,
            "grid_auto_columns": null,
            "margin": null,
            "display": null,
            "left": null
          }
        },
        "afc09a023179435eaa72dc5c1ef583a6": {
          "model_module": "@jupyter-widgets/controls",
          "model_name": "DescriptionStyleModel",
          "model_module_version": "1.5.0",
          "state": {
            "_view_name": "StyleView",
            "_model_name": "DescriptionStyleModel",
            "description_width": "",
            "_view_module": "@jupyter-widgets/base",
            "_model_module_version": "1.5.0",
            "_view_count": null,
            "_view_module_version": "1.2.0",
            "_model_module": "@jupyter-widgets/controls"
          }
        },
        "bdf940a905264ba79b4fd8a0425db8fd": {
          "model_module": "@jupyter-widgets/base",
          "model_name": "LayoutModel",
          "model_module_version": "1.2.0",
          "state": {
            "_view_name": "LayoutView",
            "grid_template_rows": null,
            "right": null,
            "justify_content": null,
            "_view_module": "@jupyter-widgets/base",
            "overflow": null,
            "_model_module_version": "1.2.0",
            "_view_count": null,
            "flex_flow": null,
            "width": null,
            "min_width": null,
            "border": null,
            "align_items": null,
            "bottom": null,
            "_model_module": "@jupyter-widgets/base",
            "top": null,
            "grid_column": null,
            "overflow_y": null,
            "overflow_x": null,
            "grid_auto_flow": null,
            "grid_area": null,
            "grid_template_columns": null,
            "flex": null,
            "_model_name": "LayoutModel",
            "justify_items": null,
            "grid_row": null,
            "max_height": null,
            "align_content": null,
            "visibility": null,
            "align_self": null,
            "height": null,
            "min_height": null,
            "padding": null,
            "grid_auto_rows": null,
            "grid_gap": null,
            "max_width": null,
            "order": null,
            "_view_module_version": "1.2.0",
            "grid_template_areas": null,
            "object_position": null,
            "object_fit": null,
            "grid_auto_columns": null,
            "margin": null,
            "display": null,
            "left": null
          }
        },
        "24991482a53e44998b09ca31a4e191c1": {
          "model_module": "@jupyter-widgets/controls",
          "model_name": "HBoxModel",
          "model_module_version": "1.5.0",
          "state": {
            "_view_name": "HBoxView",
            "_dom_classes": [],
            "_model_name": "HBoxModel",
            "_view_module": "@jupyter-widgets/controls",
            "_model_module_version": "1.5.0",
            "_view_count": null,
            "_view_module_version": "1.5.0",
            "box_style": "",
            "layout": "IPY_MODEL_bdb926ba87704d0fade30d765ba8365d",
            "_model_module": "@jupyter-widgets/controls",
            "children": [
              "IPY_MODEL_28decb66332a438d889bd71edbb2fe42",
              "IPY_MODEL_9c2db7a7a56e494091f4c90b974d2311",
              "IPY_MODEL_3e00f0497b8b4c028c343ccb2f76b081"
            ]
          }
        },
        "bdb926ba87704d0fade30d765ba8365d": {
          "model_module": "@jupyter-widgets/base",
          "model_name": "LayoutModel",
          "model_module_version": "1.2.0",
          "state": {
            "_view_name": "LayoutView",
            "grid_template_rows": null,
            "right": null,
            "justify_content": null,
            "_view_module": "@jupyter-widgets/base",
            "overflow": null,
            "_model_module_version": "1.2.0",
            "_view_count": null,
            "flex_flow": null,
            "width": null,
            "min_width": null,
            "border": null,
            "align_items": null,
            "bottom": null,
            "_model_module": "@jupyter-widgets/base",
            "top": null,
            "grid_column": null,
            "overflow_y": null,
            "overflow_x": null,
            "grid_auto_flow": null,
            "grid_area": null,
            "grid_template_columns": null,
            "flex": null,
            "_model_name": "LayoutModel",
            "justify_items": null,
            "grid_row": null,
            "max_height": null,
            "align_content": null,
            "visibility": null,
            "align_self": null,
            "height": null,
            "min_height": null,
            "padding": null,
            "grid_auto_rows": null,
            "grid_gap": null,
            "max_width": null,
            "order": null,
            "_view_module_version": "1.2.0",
            "grid_template_areas": null,
            "object_position": null,
            "object_fit": null,
            "grid_auto_columns": null,
            "margin": null,
            "display": null,
            "left": null
          }
        },
        "28decb66332a438d889bd71edbb2fe42": {
          "model_module": "@jupyter-widgets/controls",
          "model_name": "HTMLModel",
          "model_module_version": "1.5.0",
          "state": {
            "_view_name": "HTMLView",
            "style": "IPY_MODEL_b4ad383657ed4b3eb084a68a547b9377",
            "_dom_classes": [],
            "description": "",
            "_model_name": "HTMLModel",
            "placeholder": "​",
            "_view_module": "@jupyter-widgets/controls",
            "_model_module_version": "1.5.0",
            "value": "Downloading: 100%",
            "_view_count": null,
            "_view_module_version": "1.5.0",
            "description_tooltip": null,
            "_model_module": "@jupyter-widgets/controls",
            "layout": "IPY_MODEL_d7f6d657b4a54addbd6bf40905ee85d3"
          }
        },
        "9c2db7a7a56e494091f4c90b974d2311": {
          "model_module": "@jupyter-widgets/controls",
          "model_name": "FloatProgressModel",
          "model_module_version": "1.5.0",
          "state": {
            "_view_name": "ProgressView",
            "style": "IPY_MODEL_8e80d87e8a9a41dc8bfc8c9817509692",
            "_dom_classes": [],
            "description": "",
            "_model_name": "FloatProgressModel",
            "bar_style": "success",
            "max": 112,
            "_view_module": "@jupyter-widgets/controls",
            "_model_module_version": "1.5.0",
            "value": 112,
            "_view_count": null,
            "_view_module_version": "1.5.0",
            "orientation": "horizontal",
            "min": 0,
            "description_tooltip": null,
            "_model_module": "@jupyter-widgets/controls",
            "layout": "IPY_MODEL_e1e6db381ff149e4b287c1d4d90ef89b"
          }
        },
        "3e00f0497b8b4c028c343ccb2f76b081": {
          "model_module": "@jupyter-widgets/controls",
          "model_name": "HTMLModel",
          "model_module_version": "1.5.0",
          "state": {
            "_view_name": "HTMLView",
            "style": "IPY_MODEL_03e8fcd49c2a48498594dc37e37715fa",
            "_dom_classes": [],
            "description": "",
            "_model_name": "HTMLModel",
            "placeholder": "​",
            "_view_module": "@jupyter-widgets/controls",
            "_model_module_version": "1.5.0",
            "value": " 112/112 [00:00&lt;00:00, 1.79kB/s]",
            "_view_count": null,
            "_view_module_version": "1.5.0",
            "description_tooltip": null,
            "_model_module": "@jupyter-widgets/controls",
            "layout": "IPY_MODEL_0a3a8ed45da24a97971cad97ca1a0ff8"
          }
        },
        "b4ad383657ed4b3eb084a68a547b9377": {
          "model_module": "@jupyter-widgets/controls",
          "model_name": "DescriptionStyleModel",
          "model_module_version": "1.5.0",
          "state": {
            "_view_name": "StyleView",
            "_model_name": "DescriptionStyleModel",
            "description_width": "",
            "_view_module": "@jupyter-widgets/base",
            "_model_module_version": "1.5.0",
            "_view_count": null,
            "_view_module_version": "1.2.0",
            "_model_module": "@jupyter-widgets/controls"
          }
        },
        "d7f6d657b4a54addbd6bf40905ee85d3": {
          "model_module": "@jupyter-widgets/base",
          "model_name": "LayoutModel",
          "model_module_version": "1.2.0",
          "state": {
            "_view_name": "LayoutView",
            "grid_template_rows": null,
            "right": null,
            "justify_content": null,
            "_view_module": "@jupyter-widgets/base",
            "overflow": null,
            "_model_module_version": "1.2.0",
            "_view_count": null,
            "flex_flow": null,
            "width": null,
            "min_width": null,
            "border": null,
            "align_items": null,
            "bottom": null,
            "_model_module": "@jupyter-widgets/base",
            "top": null,
            "grid_column": null,
            "overflow_y": null,
            "overflow_x": null,
            "grid_auto_flow": null,
            "grid_area": null,
            "grid_template_columns": null,
            "flex": null,
            "_model_name": "LayoutModel",
            "justify_items": null,
            "grid_row": null,
            "max_height": null,
            "align_content": null,
            "visibility": null,
            "align_self": null,
            "height": null,
            "min_height": null,
            "padding": null,
            "grid_auto_rows": null,
            "grid_gap": null,
            "max_width": null,
            "order": null,
            "_view_module_version": "1.2.0",
            "grid_template_areas": null,
            "object_position": null,
            "object_fit": null,
            "grid_auto_columns": null,
            "margin": null,
            "display": null,
            "left": null
          }
        },
        "8e80d87e8a9a41dc8bfc8c9817509692": {
          "model_module": "@jupyter-widgets/controls",
          "model_name": "ProgressStyleModel",
          "model_module_version": "1.5.0",
          "state": {
            "_view_name": "StyleView",
            "_model_name": "ProgressStyleModel",
            "description_width": "",
            "_view_module": "@jupyter-widgets/base",
            "_model_module_version": "1.5.0",
            "_view_count": null,
            "_view_module_version": "1.2.0",
            "bar_color": null,
            "_model_module": "@jupyter-widgets/controls"
          }
        },
        "e1e6db381ff149e4b287c1d4d90ef89b": {
          "model_module": "@jupyter-widgets/base",
          "model_name": "LayoutModel",
          "model_module_version": "1.2.0",
          "state": {
            "_view_name": "LayoutView",
            "grid_template_rows": null,
            "right": null,
            "justify_content": null,
            "_view_module": "@jupyter-widgets/base",
            "overflow": null,
            "_model_module_version": "1.2.0",
            "_view_count": null,
            "flex_flow": null,
            "width": null,
            "min_width": null,
            "border": null,
            "align_items": null,
            "bottom": null,
            "_model_module": "@jupyter-widgets/base",
            "top": null,
            "grid_column": null,
            "overflow_y": null,
            "overflow_x": null,
            "grid_auto_flow": null,
            "grid_area": null,
            "grid_template_columns": null,
            "flex": null,
            "_model_name": "LayoutModel",
            "justify_items": null,
            "grid_row": null,
            "max_height": null,
            "align_content": null,
            "visibility": null,
            "align_self": null,
            "height": null,
            "min_height": null,
            "padding": null,
            "grid_auto_rows": null,
            "grid_gap": null,
            "max_width": null,
            "order": null,
            "_view_module_version": "1.2.0",
            "grid_template_areas": null,
            "object_position": null,
            "object_fit": null,
            "grid_auto_columns": null,
            "margin": null,
            "display": null,
            "left": null
          }
        },
        "03e8fcd49c2a48498594dc37e37715fa": {
          "model_module": "@jupyter-widgets/controls",
          "model_name": "DescriptionStyleModel",
          "model_module_version": "1.5.0",
          "state": {
            "_view_name": "StyleView",
            "_model_name": "DescriptionStyleModel",
            "description_width": "",
            "_view_module": "@jupyter-widgets/base",
            "_model_module_version": "1.5.0",
            "_view_count": null,
            "_view_module_version": "1.2.0",
            "_model_module": "@jupyter-widgets/controls"
          }
        },
        "0a3a8ed45da24a97971cad97ca1a0ff8": {
          "model_module": "@jupyter-widgets/base",
          "model_name": "LayoutModel",
          "model_module_version": "1.2.0",
          "state": {
            "_view_name": "LayoutView",
            "grid_template_rows": null,
            "right": null,
            "justify_content": null,
            "_view_module": "@jupyter-widgets/base",
            "overflow": null,
            "_model_module_version": "1.2.0",
            "_view_count": null,
            "flex_flow": null,
            "width": null,
            "min_width": null,
            "border": null,
            "align_items": null,
            "bottom": null,
            "_model_module": "@jupyter-widgets/base",
            "top": null,
            "grid_column": null,
            "overflow_y": null,
            "overflow_x": null,
            "grid_auto_flow": null,
            "grid_area": null,
            "grid_template_columns": null,
            "flex": null,
            "_model_name": "LayoutModel",
            "justify_items": null,
            "grid_row": null,
            "max_height": null,
            "align_content": null,
            "visibility": null,
            "align_self": null,
            "height": null,
            "min_height": null,
            "padding": null,
            "grid_auto_rows": null,
            "grid_gap": null,
            "max_width": null,
            "order": null,
            "_view_module_version": "1.2.0",
            "grid_template_areas": null,
            "object_position": null,
            "object_fit": null,
            "grid_auto_columns": null,
            "margin": null,
            "display": null,
            "left": null
          }
        },
        "269913c311a14cb0979878238287ae22": {
          "model_module": "@jupyter-widgets/controls",
          "model_name": "HBoxModel",
          "model_module_version": "1.5.0",
          "state": {
            "_view_name": "HBoxView",
            "_dom_classes": [],
            "_model_name": "HBoxModel",
            "_view_module": "@jupyter-widgets/controls",
            "_model_module_version": "1.5.0",
            "_view_count": null,
            "_view_module_version": "1.5.0",
            "box_style": "",
            "layout": "IPY_MODEL_0f0d4c5106ce4239b83e193333169ec3",
            "_model_module": "@jupyter-widgets/controls",
            "children": [
              "IPY_MODEL_a2eea17532eb4c889cbe3e0d0fcd7e5e",
              "IPY_MODEL_9cb11f696a74487093cd210f4e7eae44",
              "IPY_MODEL_2d1b633dd6ec4d66b2158e14710375aa"
            ]
          }
        },
        "0f0d4c5106ce4239b83e193333169ec3": {
          "model_module": "@jupyter-widgets/base",
          "model_name": "LayoutModel",
          "model_module_version": "1.2.0",
          "state": {
            "_view_name": "LayoutView",
            "grid_template_rows": null,
            "right": null,
            "justify_content": null,
            "_view_module": "@jupyter-widgets/base",
            "overflow": null,
            "_model_module_version": "1.2.0",
            "_view_count": null,
            "flex_flow": null,
            "width": null,
            "min_width": null,
            "border": null,
            "align_items": null,
            "bottom": null,
            "_model_module": "@jupyter-widgets/base",
            "top": null,
            "grid_column": null,
            "overflow_y": null,
            "overflow_x": null,
            "grid_auto_flow": null,
            "grid_area": null,
            "grid_template_columns": null,
            "flex": null,
            "_model_name": "LayoutModel",
            "justify_items": null,
            "grid_row": null,
            "max_height": null,
            "align_content": null,
            "visibility": null,
            "align_self": null,
            "height": null,
            "min_height": null,
            "padding": null,
            "grid_auto_rows": null,
            "grid_gap": null,
            "max_width": null,
            "order": null,
            "_view_module_version": "1.2.0",
            "grid_template_areas": null,
            "object_position": null,
            "object_fit": null,
            "grid_auto_columns": null,
            "margin": null,
            "display": null,
            "left": null
          }
        },
        "a2eea17532eb4c889cbe3e0d0fcd7e5e": {
          "model_module": "@jupyter-widgets/controls",
          "model_name": "HTMLModel",
          "model_module_version": "1.5.0",
          "state": {
            "_view_name": "HTMLView",
            "style": "IPY_MODEL_22b8415916dd417295531e8dc7b246ed",
            "_dom_classes": [],
            "description": "",
            "_model_name": "HTMLModel",
            "placeholder": "​",
            "_view_module": "@jupyter-widgets/controls",
            "_model_module_version": "1.5.0",
            "value": "Downloading: 100%",
            "_view_count": null,
            "_view_module_version": "1.5.0",
            "description_tooltip": null,
            "_model_module": "@jupyter-widgets/controls",
            "layout": "IPY_MODEL_5d015f50be4a4ce7965072aca3dd3e83"
          }
        },
        "9cb11f696a74487093cd210f4e7eae44": {
          "model_module": "@jupyter-widgets/controls",
          "model_name": "FloatProgressModel",
          "model_module_version": "1.5.0",
          "state": {
            "_view_name": "ProgressView",
            "style": "IPY_MODEL_55c5fe1bda224d09b61ac159a61598e7",
            "_dom_classes": [],
            "description": "",
            "_model_name": "FloatProgressModel",
            "bar_style": "success",
            "max": 466081,
            "_view_module": "@jupyter-widgets/controls",
            "_model_module_version": "1.5.0",
            "value": 466081,
            "_view_count": null,
            "_view_module_version": "1.5.0",
            "orientation": "horizontal",
            "min": 0,
            "description_tooltip": null,
            "_model_module": "@jupyter-widgets/controls",
            "layout": "IPY_MODEL_07afef09796e4c7c9e7c6c8460725f2c"
          }
        },
        "2d1b633dd6ec4d66b2158e14710375aa": {
          "model_module": "@jupyter-widgets/controls",
          "model_name": "HTMLModel",
          "model_module_version": "1.5.0",
          "state": {
            "_view_name": "HTMLView",
            "style": "IPY_MODEL_e1b66593a9bf4306a1913b5772ca64a3",
            "_dom_classes": [],
            "description": "",
            "_model_name": "HTMLModel",
            "placeholder": "​",
            "_view_module": "@jupyter-widgets/controls",
            "_model_module_version": "1.5.0",
            "value": " 466k/466k [00:00&lt;00:00, 1.23MB/s]",
            "_view_count": null,
            "_view_module_version": "1.5.0",
            "description_tooltip": null,
            "_model_module": "@jupyter-widgets/controls",
            "layout": "IPY_MODEL_fcbbe71ba4ce4ef89df19f2be8aa4c54"
          }
        },
        "22b8415916dd417295531e8dc7b246ed": {
          "model_module": "@jupyter-widgets/controls",
          "model_name": "DescriptionStyleModel",
          "model_module_version": "1.5.0",
          "state": {
            "_view_name": "StyleView",
            "_model_name": "DescriptionStyleModel",
            "description_width": "",
            "_view_module": "@jupyter-widgets/base",
            "_model_module_version": "1.5.0",
            "_view_count": null,
            "_view_module_version": "1.2.0",
            "_model_module": "@jupyter-widgets/controls"
          }
        },
        "5d015f50be4a4ce7965072aca3dd3e83": {
          "model_module": "@jupyter-widgets/base",
          "model_name": "LayoutModel",
          "model_module_version": "1.2.0",
          "state": {
            "_view_name": "LayoutView",
            "grid_template_rows": null,
            "right": null,
            "justify_content": null,
            "_view_module": "@jupyter-widgets/base",
            "overflow": null,
            "_model_module_version": "1.2.0",
            "_view_count": null,
            "flex_flow": null,
            "width": null,
            "min_width": null,
            "border": null,
            "align_items": null,
            "bottom": null,
            "_model_module": "@jupyter-widgets/base",
            "top": null,
            "grid_column": null,
            "overflow_y": null,
            "overflow_x": null,
            "grid_auto_flow": null,
            "grid_area": null,
            "grid_template_columns": null,
            "flex": null,
            "_model_name": "LayoutModel",
            "justify_items": null,
            "grid_row": null,
            "max_height": null,
            "align_content": null,
            "visibility": null,
            "align_self": null,
            "height": null,
            "min_height": null,
            "padding": null,
            "grid_auto_rows": null,
            "grid_gap": null,
            "max_width": null,
            "order": null,
            "_view_module_version": "1.2.0",
            "grid_template_areas": null,
            "object_position": null,
            "object_fit": null,
            "grid_auto_columns": null,
            "margin": null,
            "display": null,
            "left": null
          }
        },
        "55c5fe1bda224d09b61ac159a61598e7": {
          "model_module": "@jupyter-widgets/controls",
          "model_name": "ProgressStyleModel",
          "model_module_version": "1.5.0",
          "state": {
            "_view_name": "StyleView",
            "_model_name": "ProgressStyleModel",
            "description_width": "",
            "_view_module": "@jupyter-widgets/base",
            "_model_module_version": "1.5.0",
            "_view_count": null,
            "_view_module_version": "1.2.0",
            "bar_color": null,
            "_model_module": "@jupyter-widgets/controls"
          }
        },
        "07afef09796e4c7c9e7c6c8460725f2c": {
          "model_module": "@jupyter-widgets/base",
          "model_name": "LayoutModel",
          "model_module_version": "1.2.0",
          "state": {
            "_view_name": "LayoutView",
            "grid_template_rows": null,
            "right": null,
            "justify_content": null,
            "_view_module": "@jupyter-widgets/base",
            "overflow": null,
            "_model_module_version": "1.2.0",
            "_view_count": null,
            "flex_flow": null,
            "width": null,
            "min_width": null,
            "border": null,
            "align_items": null,
            "bottom": null,
            "_model_module": "@jupyter-widgets/base",
            "top": null,
            "grid_column": null,
            "overflow_y": null,
            "overflow_x": null,
            "grid_auto_flow": null,
            "grid_area": null,
            "grid_template_columns": null,
            "flex": null,
            "_model_name": "LayoutModel",
            "justify_items": null,
            "grid_row": null,
            "max_height": null,
            "align_content": null,
            "visibility": null,
            "align_self": null,
            "height": null,
            "min_height": null,
            "padding": null,
            "grid_auto_rows": null,
            "grid_gap": null,
            "max_width": null,
            "order": null,
            "_view_module_version": "1.2.0",
            "grid_template_areas": null,
            "object_position": null,
            "object_fit": null,
            "grid_auto_columns": null,
            "margin": null,
            "display": null,
            "left": null
          }
        },
        "e1b66593a9bf4306a1913b5772ca64a3": {
          "model_module": "@jupyter-widgets/controls",
          "model_name": "DescriptionStyleModel",
          "model_module_version": "1.5.0",
          "state": {
            "_view_name": "StyleView",
            "_model_name": "DescriptionStyleModel",
            "description_width": "",
            "_view_module": "@jupyter-widgets/base",
            "_model_module_version": "1.5.0",
            "_view_count": null,
            "_view_module_version": "1.2.0",
            "_model_module": "@jupyter-widgets/controls"
          }
        },
        "fcbbe71ba4ce4ef89df19f2be8aa4c54": {
          "model_module": "@jupyter-widgets/base",
          "model_name": "LayoutModel",
          "model_module_version": "1.2.0",
          "state": {
            "_view_name": "LayoutView",
            "grid_template_rows": null,
            "right": null,
            "justify_content": null,
            "_view_module": "@jupyter-widgets/base",
            "overflow": null,
            "_model_module_version": "1.2.0",
            "_view_count": null,
            "flex_flow": null,
            "width": null,
            "min_width": null,
            "border": null,
            "align_items": null,
            "bottom": null,
            "_model_module": "@jupyter-widgets/base",
            "top": null,
            "grid_column": null,
            "overflow_y": null,
            "overflow_x": null,
            "grid_auto_flow": null,
            "grid_area": null,
            "grid_template_columns": null,
            "flex": null,
            "_model_name": "LayoutModel",
            "justify_items": null,
            "grid_row": null,
            "max_height": null,
            "align_content": null,
            "visibility": null,
            "align_self": null,
            "height": null,
            "min_height": null,
            "padding": null,
            "grid_auto_rows": null,
            "grid_gap": null,
            "max_width": null,
            "order": null,
            "_view_module_version": "1.2.0",
            "grid_template_areas": null,
            "object_position": null,
            "object_fit": null,
            "grid_auto_columns": null,
            "margin": null,
            "display": null,
            "left": null
          }
        },
        "1ac4864ec9674f0bae0f1f9b7a3c39dc": {
          "model_module": "@jupyter-widgets/controls",
          "model_name": "HBoxModel",
          "model_module_version": "1.5.0",
          "state": {
            "_view_name": "HBoxView",
            "_dom_classes": [],
            "_model_name": "HBoxModel",
            "_view_module": "@jupyter-widgets/controls",
            "_model_module_version": "1.5.0",
            "_view_count": null,
            "_view_module_version": "1.5.0",
            "box_style": "",
            "layout": "IPY_MODEL_3dbc41653b994cd3857d653c298e073f",
            "_model_module": "@jupyter-widgets/controls",
            "children": [
              "IPY_MODEL_0dd599fa392b4e2abecbfcf655315c16",
              "IPY_MODEL_81d3432601d0479bae1a32abc95bc531",
              "IPY_MODEL_27d99d29064c4050a94a7c60639cbcb6"
            ]
          }
        },
        "3dbc41653b994cd3857d653c298e073f": {
          "model_module": "@jupyter-widgets/base",
          "model_name": "LayoutModel",
          "model_module_version": "1.2.0",
          "state": {
            "_view_name": "LayoutView",
            "grid_template_rows": null,
            "right": null,
            "justify_content": null,
            "_view_module": "@jupyter-widgets/base",
            "overflow": null,
            "_model_module_version": "1.2.0",
            "_view_count": null,
            "flex_flow": null,
            "width": null,
            "min_width": null,
            "border": null,
            "align_items": null,
            "bottom": null,
            "_model_module": "@jupyter-widgets/base",
            "top": null,
            "grid_column": null,
            "overflow_y": null,
            "overflow_x": null,
            "grid_auto_flow": null,
            "grid_area": null,
            "grid_template_columns": null,
            "flex": null,
            "_model_name": "LayoutModel",
            "justify_items": null,
            "grid_row": null,
            "max_height": null,
            "align_content": null,
            "visibility": null,
            "align_self": null,
            "height": null,
            "min_height": null,
            "padding": null,
            "grid_auto_rows": null,
            "grid_gap": null,
            "max_width": null,
            "order": null,
            "_view_module_version": "1.2.0",
            "grid_template_areas": null,
            "object_position": null,
            "object_fit": null,
            "grid_auto_columns": null,
            "margin": null,
            "display": null,
            "left": null
          }
        },
        "0dd599fa392b4e2abecbfcf655315c16": {
          "model_module": "@jupyter-widgets/controls",
          "model_name": "HTMLModel",
          "model_module_version": "1.5.0",
          "state": {
            "_view_name": "HTMLView",
            "style": "IPY_MODEL_7a68fc33c7f043be8fb6528770dcc57e",
            "_dom_classes": [],
            "description": "",
            "_model_name": "HTMLModel",
            "placeholder": "​",
            "_view_module": "@jupyter-widgets/controls",
            "_model_module_version": "1.5.0",
            "value": "Downloading: 100%",
            "_view_count": null,
            "_view_module_version": "1.5.0",
            "description_tooltip": null,
            "_model_module": "@jupyter-widgets/controls",
            "layout": "IPY_MODEL_e28654a72b984ac6ae838100e0cbc202"
          }
        },
        "81d3432601d0479bae1a32abc95bc531": {
          "model_module": "@jupyter-widgets/controls",
          "model_name": "FloatProgressModel",
          "model_module_version": "1.5.0",
          "state": {
            "_view_name": "ProgressView",
            "style": "IPY_MODEL_0c9eeda900f04736b171b674ca8d203c",
            "_dom_classes": [],
            "description": "",
            "_model_name": "FloatProgressModel",
            "bar_style": "success",
            "max": 399,
            "_view_module": "@jupyter-widgets/controls",
            "_model_module_version": "1.5.0",
            "value": 399,
            "_view_count": null,
            "_view_module_version": "1.5.0",
            "orientation": "horizontal",
            "min": 0,
            "description_tooltip": null,
            "_model_module": "@jupyter-widgets/controls",
            "layout": "IPY_MODEL_b688926d63414089b12fa2b2eca7e8a5"
          }
        },
        "27d99d29064c4050a94a7c60639cbcb6": {
          "model_module": "@jupyter-widgets/controls",
          "model_name": "HTMLModel",
          "model_module_version": "1.5.0",
          "state": {
            "_view_name": "HTMLView",
            "style": "IPY_MODEL_9669c8620b9a4267a7cc2a8a47b192a5",
            "_dom_classes": [],
            "description": "",
            "_model_name": "HTMLModel",
            "placeholder": "​",
            "_view_module": "@jupyter-widgets/controls",
            "_model_module_version": "1.5.0",
            "value": " 399/399 [00:00&lt;00:00, 10.5kB/s]",
            "_view_count": null,
            "_view_module_version": "1.5.0",
            "description_tooltip": null,
            "_model_module": "@jupyter-widgets/controls",
            "layout": "IPY_MODEL_e08b55a031e145b3bc0b13af22b231b7"
          }
        },
        "7a68fc33c7f043be8fb6528770dcc57e": {
          "model_module": "@jupyter-widgets/controls",
          "model_name": "DescriptionStyleModel",
          "model_module_version": "1.5.0",
          "state": {
            "_view_name": "StyleView",
            "_model_name": "DescriptionStyleModel",
            "description_width": "",
            "_view_module": "@jupyter-widgets/base",
            "_model_module_version": "1.5.0",
            "_view_count": null,
            "_view_module_version": "1.2.0",
            "_model_module": "@jupyter-widgets/controls"
          }
        },
        "e28654a72b984ac6ae838100e0cbc202": {
          "model_module": "@jupyter-widgets/base",
          "model_name": "LayoutModel",
          "model_module_version": "1.2.0",
          "state": {
            "_view_name": "LayoutView",
            "grid_template_rows": null,
            "right": null,
            "justify_content": null,
            "_view_module": "@jupyter-widgets/base",
            "overflow": null,
            "_model_module_version": "1.2.0",
            "_view_count": null,
            "flex_flow": null,
            "width": null,
            "min_width": null,
            "border": null,
            "align_items": null,
            "bottom": null,
            "_model_module": "@jupyter-widgets/base",
            "top": null,
            "grid_column": null,
            "overflow_y": null,
            "overflow_x": null,
            "grid_auto_flow": null,
            "grid_area": null,
            "grid_template_columns": null,
            "flex": null,
            "_model_name": "LayoutModel",
            "justify_items": null,
            "grid_row": null,
            "max_height": null,
            "align_content": null,
            "visibility": null,
            "align_self": null,
            "height": null,
            "min_height": null,
            "padding": null,
            "grid_auto_rows": null,
            "grid_gap": null,
            "max_width": null,
            "order": null,
            "_view_module_version": "1.2.0",
            "grid_template_areas": null,
            "object_position": null,
            "object_fit": null,
            "grid_auto_columns": null,
            "margin": null,
            "display": null,
            "left": null
          }
        },
        "0c9eeda900f04736b171b674ca8d203c": {
          "model_module": "@jupyter-widgets/controls",
          "model_name": "ProgressStyleModel",
          "model_module_version": "1.5.0",
          "state": {
            "_view_name": "StyleView",
            "_model_name": "ProgressStyleModel",
            "description_width": "",
            "_view_module": "@jupyter-widgets/base",
            "_model_module_version": "1.5.0",
            "_view_count": null,
            "_view_module_version": "1.2.0",
            "bar_color": null,
            "_model_module": "@jupyter-widgets/controls"
          }
        },
        "b688926d63414089b12fa2b2eca7e8a5": {
          "model_module": "@jupyter-widgets/base",
          "model_name": "LayoutModel",
          "model_module_version": "1.2.0",
          "state": {
            "_view_name": "LayoutView",
            "grid_template_rows": null,
            "right": null,
            "justify_content": null,
            "_view_module": "@jupyter-widgets/base",
            "overflow": null,
            "_model_module_version": "1.2.0",
            "_view_count": null,
            "flex_flow": null,
            "width": null,
            "min_width": null,
            "border": null,
            "align_items": null,
            "bottom": null,
            "_model_module": "@jupyter-widgets/base",
            "top": null,
            "grid_column": null,
            "overflow_y": null,
            "overflow_x": null,
            "grid_auto_flow": null,
            "grid_area": null,
            "grid_template_columns": null,
            "flex": null,
            "_model_name": "LayoutModel",
            "justify_items": null,
            "grid_row": null,
            "max_height": null,
            "align_content": null,
            "visibility": null,
            "align_self": null,
            "height": null,
            "min_height": null,
            "padding": null,
            "grid_auto_rows": null,
            "grid_gap": null,
            "max_width": null,
            "order": null,
            "_view_module_version": "1.2.0",
            "grid_template_areas": null,
            "object_position": null,
            "object_fit": null,
            "grid_auto_columns": null,
            "margin": null,
            "display": null,
            "left": null
          }
        },
        "9669c8620b9a4267a7cc2a8a47b192a5": {
          "model_module": "@jupyter-widgets/controls",
          "model_name": "DescriptionStyleModel",
          "model_module_version": "1.5.0",
          "state": {
            "_view_name": "StyleView",
            "_model_name": "DescriptionStyleModel",
            "description_width": "",
            "_view_module": "@jupyter-widgets/base",
            "_model_module_version": "1.5.0",
            "_view_count": null,
            "_view_module_version": "1.2.0",
            "_model_module": "@jupyter-widgets/controls"
          }
        },
        "e08b55a031e145b3bc0b13af22b231b7": {
          "model_module": "@jupyter-widgets/base",
          "model_name": "LayoutModel",
          "model_module_version": "1.2.0",
          "state": {
            "_view_name": "LayoutView",
            "grid_template_rows": null,
            "right": null,
            "justify_content": null,
            "_view_module": "@jupyter-widgets/base",
            "overflow": null,
            "_model_module_version": "1.2.0",
            "_view_count": null,
            "flex_flow": null,
            "width": null,
            "min_width": null,
            "border": null,
            "align_items": null,
            "bottom": null,
            "_model_module": "@jupyter-widgets/base",
            "top": null,
            "grid_column": null,
            "overflow_y": null,
            "overflow_x": null,
            "grid_auto_flow": null,
            "grid_area": null,
            "grid_template_columns": null,
            "flex": null,
            "_model_name": "LayoutModel",
            "justify_items": null,
            "grid_row": null,
            "max_height": null,
            "align_content": null,
            "visibility": null,
            "align_self": null,
            "height": null,
            "min_height": null,
            "padding": null,
            "grid_auto_rows": null,
            "grid_gap": null,
            "max_width": null,
            "order": null,
            "_view_module_version": "1.2.0",
            "grid_template_areas": null,
            "object_position": null,
            "object_fit": null,
            "grid_auto_columns": null,
            "margin": null,
            "display": null,
            "left": null
          }
        },
        "f6d71695ca0e4b948b6ccecaf435f5fd": {
          "model_module": "@jupyter-widgets/controls",
          "model_name": "HBoxModel",
          "model_module_version": "1.5.0",
          "state": {
            "_view_name": "HBoxView",
            "_dom_classes": [],
            "_model_name": "HBoxModel",
            "_view_module": "@jupyter-widgets/controls",
            "_model_module_version": "1.5.0",
            "_view_count": null,
            "_view_module_version": "1.5.0",
            "box_style": "",
            "layout": "IPY_MODEL_b7b2339bce9e4457883fefecc89e5445",
            "_model_module": "@jupyter-widgets/controls",
            "children": [
              "IPY_MODEL_0daacf716c6c4178ace1b8d1c8ca404d",
              "IPY_MODEL_1b4ff079a5124d2a980d5d063792e33f",
              "IPY_MODEL_6ea1816c9e194798b1d9d9ac99661393"
            ]
          }
        },
        "b7b2339bce9e4457883fefecc89e5445": {
          "model_module": "@jupyter-widgets/base",
          "model_name": "LayoutModel",
          "model_module_version": "1.2.0",
          "state": {
            "_view_name": "LayoutView",
            "grid_template_rows": null,
            "right": null,
            "justify_content": null,
            "_view_module": "@jupyter-widgets/base",
            "overflow": null,
            "_model_module_version": "1.2.0",
            "_view_count": null,
            "flex_flow": null,
            "width": null,
            "min_width": null,
            "border": null,
            "align_items": null,
            "bottom": null,
            "_model_module": "@jupyter-widgets/base",
            "top": null,
            "grid_column": null,
            "overflow_y": null,
            "overflow_x": null,
            "grid_auto_flow": null,
            "grid_area": null,
            "grid_template_columns": null,
            "flex": null,
            "_model_name": "LayoutModel",
            "justify_items": null,
            "grid_row": null,
            "max_height": null,
            "align_content": null,
            "visibility": null,
            "align_self": null,
            "height": null,
            "min_height": null,
            "padding": null,
            "grid_auto_rows": null,
            "grid_gap": null,
            "max_width": null,
            "order": null,
            "_view_module_version": "1.2.0",
            "grid_template_areas": null,
            "object_position": null,
            "object_fit": null,
            "grid_auto_columns": null,
            "margin": null,
            "display": null,
            "left": null
          }
        },
        "0daacf716c6c4178ace1b8d1c8ca404d": {
          "model_module": "@jupyter-widgets/controls",
          "model_name": "HTMLModel",
          "model_module_version": "1.5.0",
          "state": {
            "_view_name": "HTMLView",
            "style": "IPY_MODEL_e9ad6eafa4fc4d25a1e67f06fe0f7eb4",
            "_dom_classes": [],
            "description": "",
            "_model_name": "HTMLModel",
            "placeholder": "​",
            "_view_module": "@jupyter-widgets/controls",
            "_model_module_version": "1.5.0",
            "value": "Downloading: 100%",
            "_view_count": null,
            "_view_module_version": "1.5.0",
            "description_tooltip": null,
            "_model_module": "@jupyter-widgets/controls",
            "layout": "IPY_MODEL_bcd1837c33874ec3a2c21a268409f2e5"
          }
        },
        "1b4ff079a5124d2a980d5d063792e33f": {
          "model_module": "@jupyter-widgets/controls",
          "model_name": "FloatProgressModel",
          "model_module_version": "1.5.0",
          "state": {
            "_view_name": "ProgressView",
            "style": "IPY_MODEL_ced3e2e36efa4ee7ad700e0aeda735ac",
            "_dom_classes": [],
            "description": "",
            "_model_name": "FloatProgressModel",
            "bar_style": "success",
            "max": 231508,
            "_view_module": "@jupyter-widgets/controls",
            "_model_module_version": "1.5.0",
            "value": 231508,
            "_view_count": null,
            "_view_module_version": "1.5.0",
            "orientation": "horizontal",
            "min": 0,
            "description_tooltip": null,
            "_model_module": "@jupyter-widgets/controls",
            "layout": "IPY_MODEL_361a2480bb634943b1050ae5bc9838fd"
          }
        },
        "6ea1816c9e194798b1d9d9ac99661393": {
          "model_module": "@jupyter-widgets/controls",
          "model_name": "HTMLModel",
          "model_module_version": "1.5.0",
          "state": {
            "_view_name": "HTMLView",
            "style": "IPY_MODEL_dd12a9a08fbb4efa8f9add3d76c01ee9",
            "_dom_classes": [],
            "description": "",
            "_model_name": "HTMLModel",
            "placeholder": "​",
            "_view_module": "@jupyter-widgets/controls",
            "_model_module_version": "1.5.0",
            "value": " 232k/232k [00:00&lt;00:00, 1.34MB/s]",
            "_view_count": null,
            "_view_module_version": "1.5.0",
            "description_tooltip": null,
            "_model_module": "@jupyter-widgets/controls",
            "layout": "IPY_MODEL_ca6b48d3209442db9b3c65307a4a2930"
          }
        },
        "e9ad6eafa4fc4d25a1e67f06fe0f7eb4": {
          "model_module": "@jupyter-widgets/controls",
          "model_name": "DescriptionStyleModel",
          "model_module_version": "1.5.0",
          "state": {
            "_view_name": "StyleView",
            "_model_name": "DescriptionStyleModel",
            "description_width": "",
            "_view_module": "@jupyter-widgets/base",
            "_model_module_version": "1.5.0",
            "_view_count": null,
            "_view_module_version": "1.2.0",
            "_model_module": "@jupyter-widgets/controls"
          }
        },
        "bcd1837c33874ec3a2c21a268409f2e5": {
          "model_module": "@jupyter-widgets/base",
          "model_name": "LayoutModel",
          "model_module_version": "1.2.0",
          "state": {
            "_view_name": "LayoutView",
            "grid_template_rows": null,
            "right": null,
            "justify_content": null,
            "_view_module": "@jupyter-widgets/base",
            "overflow": null,
            "_model_module_version": "1.2.0",
            "_view_count": null,
            "flex_flow": null,
            "width": null,
            "min_width": null,
            "border": null,
            "align_items": null,
            "bottom": null,
            "_model_module": "@jupyter-widgets/base",
            "top": null,
            "grid_column": null,
            "overflow_y": null,
            "overflow_x": null,
            "grid_auto_flow": null,
            "grid_area": null,
            "grid_template_columns": null,
            "flex": null,
            "_model_name": "LayoutModel",
            "justify_items": null,
            "grid_row": null,
            "max_height": null,
            "align_content": null,
            "visibility": null,
            "align_self": null,
            "height": null,
            "min_height": null,
            "padding": null,
            "grid_auto_rows": null,
            "grid_gap": null,
            "max_width": null,
            "order": null,
            "_view_module_version": "1.2.0",
            "grid_template_areas": null,
            "object_position": null,
            "object_fit": null,
            "grid_auto_columns": null,
            "margin": null,
            "display": null,
            "left": null
          }
        },
        "ced3e2e36efa4ee7ad700e0aeda735ac": {
          "model_module": "@jupyter-widgets/controls",
          "model_name": "ProgressStyleModel",
          "model_module_version": "1.5.0",
          "state": {
            "_view_name": "StyleView",
            "_model_name": "ProgressStyleModel",
            "description_width": "",
            "_view_module": "@jupyter-widgets/base",
            "_model_module_version": "1.5.0",
            "_view_count": null,
            "_view_module_version": "1.2.0",
            "bar_color": null,
            "_model_module": "@jupyter-widgets/controls"
          }
        },
        "361a2480bb634943b1050ae5bc9838fd": {
          "model_module": "@jupyter-widgets/base",
          "model_name": "LayoutModel",
          "model_module_version": "1.2.0",
          "state": {
            "_view_name": "LayoutView",
            "grid_template_rows": null,
            "right": null,
            "justify_content": null,
            "_view_module": "@jupyter-widgets/base",
            "overflow": null,
            "_model_module_version": "1.2.0",
            "_view_count": null,
            "flex_flow": null,
            "width": null,
            "min_width": null,
            "border": null,
            "align_items": null,
            "bottom": null,
            "_model_module": "@jupyter-widgets/base",
            "top": null,
            "grid_column": null,
            "overflow_y": null,
            "overflow_x": null,
            "grid_auto_flow": null,
            "grid_area": null,
            "grid_template_columns": null,
            "flex": null,
            "_model_name": "LayoutModel",
            "justify_items": null,
            "grid_row": null,
            "max_height": null,
            "align_content": null,
            "visibility": null,
            "align_self": null,
            "height": null,
            "min_height": null,
            "padding": null,
            "grid_auto_rows": null,
            "grid_gap": null,
            "max_width": null,
            "order": null,
            "_view_module_version": "1.2.0",
            "grid_template_areas": null,
            "object_position": null,
            "object_fit": null,
            "grid_auto_columns": null,
            "margin": null,
            "display": null,
            "left": null
          }
        },
        "dd12a9a08fbb4efa8f9add3d76c01ee9": {
          "model_module": "@jupyter-widgets/controls",
          "model_name": "DescriptionStyleModel",
          "model_module_version": "1.5.0",
          "state": {
            "_view_name": "StyleView",
            "_model_name": "DescriptionStyleModel",
            "description_width": "",
            "_view_module": "@jupyter-widgets/base",
            "_model_module_version": "1.5.0",
            "_view_count": null,
            "_view_module_version": "1.2.0",
            "_model_module": "@jupyter-widgets/controls"
          }
        },
        "ca6b48d3209442db9b3c65307a4a2930": {
          "model_module": "@jupyter-widgets/base",
          "model_name": "LayoutModel",
          "model_module_version": "1.2.0",
          "state": {
            "_view_name": "LayoutView",
            "grid_template_rows": null,
            "right": null,
            "justify_content": null,
            "_view_module": "@jupyter-widgets/base",
            "overflow": null,
            "_model_module_version": "1.2.0",
            "_view_count": null,
            "flex_flow": null,
            "width": null,
            "min_width": null,
            "border": null,
            "align_items": null,
            "bottom": null,
            "_model_module": "@jupyter-widgets/base",
            "top": null,
            "grid_column": null,
            "overflow_y": null,
            "overflow_x": null,
            "grid_auto_flow": null,
            "grid_area": null,
            "grid_template_columns": null,
            "flex": null,
            "_model_name": "LayoutModel",
            "justify_items": null,
            "grid_row": null,
            "max_height": null,
            "align_content": null,
            "visibility": null,
            "align_self": null,
            "height": null,
            "min_height": null,
            "padding": null,
            "grid_auto_rows": null,
            "grid_gap": null,
            "max_width": null,
            "order": null,
            "_view_module_version": "1.2.0",
            "grid_template_areas": null,
            "object_position": null,
            "object_fit": null,
            "grid_auto_columns": null,
            "margin": null,
            "display": null,
            "left": null
          }
        },
        "8edb2ba9f38a4a3ea4b2134caae3e0ca": {
          "model_module": "@jupyter-widgets/controls",
          "model_name": "HBoxModel",
          "model_module_version": "1.5.0",
          "state": {
            "_view_name": "HBoxView",
            "_dom_classes": [],
            "_model_name": "HBoxModel",
            "_view_module": "@jupyter-widgets/controls",
            "_model_module_version": "1.5.0",
            "_view_count": null,
            "_view_module_version": "1.5.0",
            "box_style": "",
            "layout": "IPY_MODEL_44af747a94164f148538fd03efd4d0a2",
            "_model_module": "@jupyter-widgets/controls",
            "children": [
              "IPY_MODEL_248a7581abb74b9f83b929f58e273479",
              "IPY_MODEL_ea85df200ca74294becebe10a2a11bcc",
              "IPY_MODEL_0a4b7887bf77431881a88d81439ef1cd"
            ]
          }
        },
        "44af747a94164f148538fd03efd4d0a2": {
          "model_module": "@jupyter-widgets/base",
          "model_name": "LayoutModel",
          "model_module_version": "1.2.0",
          "state": {
            "_view_name": "LayoutView",
            "grid_template_rows": null,
            "right": null,
            "justify_content": null,
            "_view_module": "@jupyter-widgets/base",
            "overflow": null,
            "_model_module_version": "1.2.0",
            "_view_count": null,
            "flex_flow": null,
            "width": null,
            "min_width": null,
            "border": null,
            "align_items": null,
            "bottom": null,
            "_model_module": "@jupyter-widgets/base",
            "top": null,
            "grid_column": null,
            "overflow_y": null,
            "overflow_x": null,
            "grid_auto_flow": null,
            "grid_area": null,
            "grid_template_columns": null,
            "flex": null,
            "_model_name": "LayoutModel",
            "justify_items": null,
            "grid_row": null,
            "max_height": null,
            "align_content": null,
            "visibility": null,
            "align_self": null,
            "height": null,
            "min_height": null,
            "padding": null,
            "grid_auto_rows": null,
            "grid_gap": null,
            "max_width": null,
            "order": null,
            "_view_module_version": "1.2.0",
            "grid_template_areas": null,
            "object_position": null,
            "object_fit": null,
            "grid_auto_columns": null,
            "margin": null,
            "display": null,
            "left": null
          }
        },
        "248a7581abb74b9f83b929f58e273479": {
          "model_module": "@jupyter-widgets/controls",
          "model_name": "HTMLModel",
          "model_module_version": "1.5.0",
          "state": {
            "_view_name": "HTMLView",
            "style": "IPY_MODEL_0823a5ffeee740f3be53a31f31df4ddd",
            "_dom_classes": [],
            "description": "",
            "_model_name": "HTMLModel",
            "placeholder": "​",
            "_view_module": "@jupyter-widgets/controls",
            "_model_module_version": "1.5.0",
            "value": "Downloading: 100%",
            "_view_count": null,
            "_view_module_version": "1.5.0",
            "description_tooltip": null,
            "_model_module": "@jupyter-widgets/controls",
            "layout": "IPY_MODEL_28bb16c5cf864eb99960985f1da278fc"
          }
        },
        "ea85df200ca74294becebe10a2a11bcc": {
          "model_module": "@jupyter-widgets/controls",
          "model_name": "FloatProgressModel",
          "model_module_version": "1.5.0",
          "state": {
            "_view_name": "ProgressView",
            "style": "IPY_MODEL_ddd7ba428aba4c009d0802b450684e75",
            "_dom_classes": [],
            "description": "",
            "_model_name": "FloatProgressModel",
            "bar_style": "success",
            "max": 190,
            "_view_module": "@jupyter-widgets/controls",
            "_model_module_version": "1.5.0",
            "value": 190,
            "_view_count": null,
            "_view_module_version": "1.5.0",
            "orientation": "horizontal",
            "min": 0,
            "description_tooltip": null,
            "_model_module": "@jupyter-widgets/controls",
            "layout": "IPY_MODEL_626b1132a8f240b9ba359878c77008d2"
          }
        },
        "0a4b7887bf77431881a88d81439ef1cd": {
          "model_module": "@jupyter-widgets/controls",
          "model_name": "HTMLModel",
          "model_module_version": "1.5.0",
          "state": {
            "_view_name": "HTMLView",
            "style": "IPY_MODEL_b8c02e6fcf4f410d8f44849efb28ec73",
            "_dom_classes": [],
            "description": "",
            "_model_name": "HTMLModel",
            "placeholder": "​",
            "_view_module": "@jupyter-widgets/controls",
            "_model_module_version": "1.5.0",
            "value": " 190/190 [00:00&lt;00:00, 2.94kB/s]",
            "_view_count": null,
            "_view_module_version": "1.5.0",
            "description_tooltip": null,
            "_model_module": "@jupyter-widgets/controls",
            "layout": "IPY_MODEL_0b96d6349bf84870bcd5b144d437a2bc"
          }
        },
        "0823a5ffeee740f3be53a31f31df4ddd": {
          "model_module": "@jupyter-widgets/controls",
          "model_name": "DescriptionStyleModel",
          "model_module_version": "1.5.0",
          "state": {
            "_view_name": "StyleView",
            "_model_name": "DescriptionStyleModel",
            "description_width": "",
            "_view_module": "@jupyter-widgets/base",
            "_model_module_version": "1.5.0",
            "_view_count": null,
            "_view_module_version": "1.2.0",
            "_model_module": "@jupyter-widgets/controls"
          }
        },
        "28bb16c5cf864eb99960985f1da278fc": {
          "model_module": "@jupyter-widgets/base",
          "model_name": "LayoutModel",
          "model_module_version": "1.2.0",
          "state": {
            "_view_name": "LayoutView",
            "grid_template_rows": null,
            "right": null,
            "justify_content": null,
            "_view_module": "@jupyter-widgets/base",
            "overflow": null,
            "_model_module_version": "1.2.0",
            "_view_count": null,
            "flex_flow": null,
            "width": null,
            "min_width": null,
            "border": null,
            "align_items": null,
            "bottom": null,
            "_model_module": "@jupyter-widgets/base",
            "top": null,
            "grid_column": null,
            "overflow_y": null,
            "overflow_x": null,
            "grid_auto_flow": null,
            "grid_area": null,
            "grid_template_columns": null,
            "flex": null,
            "_model_name": "LayoutModel",
            "justify_items": null,
            "grid_row": null,
            "max_height": null,
            "align_content": null,
            "visibility": null,
            "align_self": null,
            "height": null,
            "min_height": null,
            "padding": null,
            "grid_auto_rows": null,
            "grid_gap": null,
            "max_width": null,
            "order": null,
            "_view_module_version": "1.2.0",
            "grid_template_areas": null,
            "object_position": null,
            "object_fit": null,
            "grid_auto_columns": null,
            "margin": null,
            "display": null,
            "left": null
          }
        },
        "ddd7ba428aba4c009d0802b450684e75": {
          "model_module": "@jupyter-widgets/controls",
          "model_name": "ProgressStyleModel",
          "model_module_version": "1.5.0",
          "state": {
            "_view_name": "StyleView",
            "_model_name": "ProgressStyleModel",
            "description_width": "",
            "_view_module": "@jupyter-widgets/base",
            "_model_module_version": "1.5.0",
            "_view_count": null,
            "_view_module_version": "1.2.0",
            "bar_color": null,
            "_model_module": "@jupyter-widgets/controls"
          }
        },
        "626b1132a8f240b9ba359878c77008d2": {
          "model_module": "@jupyter-widgets/base",
          "model_name": "LayoutModel",
          "model_module_version": "1.2.0",
          "state": {
            "_view_name": "LayoutView",
            "grid_template_rows": null,
            "right": null,
            "justify_content": null,
            "_view_module": "@jupyter-widgets/base",
            "overflow": null,
            "_model_module_version": "1.2.0",
            "_view_count": null,
            "flex_flow": null,
            "width": null,
            "min_width": null,
            "border": null,
            "align_items": null,
            "bottom": null,
            "_model_module": "@jupyter-widgets/base",
            "top": null,
            "grid_column": null,
            "overflow_y": null,
            "overflow_x": null,
            "grid_auto_flow": null,
            "grid_area": null,
            "grid_template_columns": null,
            "flex": null,
            "_model_name": "LayoutModel",
            "justify_items": null,
            "grid_row": null,
            "max_height": null,
            "align_content": null,
            "visibility": null,
            "align_self": null,
            "height": null,
            "min_height": null,
            "padding": null,
            "grid_auto_rows": null,
            "grid_gap": null,
            "max_width": null,
            "order": null,
            "_view_module_version": "1.2.0",
            "grid_template_areas": null,
            "object_position": null,
            "object_fit": null,
            "grid_auto_columns": null,
            "margin": null,
            "display": null,
            "left": null
          }
        },
        "b8c02e6fcf4f410d8f44849efb28ec73": {
          "model_module": "@jupyter-widgets/controls",
          "model_name": "DescriptionStyleModel",
          "model_module_version": "1.5.0",
          "state": {
            "_view_name": "StyleView",
            "_model_name": "DescriptionStyleModel",
            "description_width": "",
            "_view_module": "@jupyter-widgets/base",
            "_model_module_version": "1.5.0",
            "_view_count": null,
            "_view_module_version": "1.2.0",
            "_model_module": "@jupyter-widgets/controls"
          }
        },
        "0b96d6349bf84870bcd5b144d437a2bc": {
          "model_module": "@jupyter-widgets/base",
          "model_name": "LayoutModel",
          "model_module_version": "1.2.0",
          "state": {
            "_view_name": "LayoutView",
            "grid_template_rows": null,
            "right": null,
            "justify_content": null,
            "_view_module": "@jupyter-widgets/base",
            "overflow": null,
            "_model_module_version": "1.2.0",
            "_view_count": null,
            "flex_flow": null,
            "width": null,
            "min_width": null,
            "border": null,
            "align_items": null,
            "bottom": null,
            "_model_module": "@jupyter-widgets/base",
            "top": null,
            "grid_column": null,
            "overflow_y": null,
            "overflow_x": null,
            "grid_auto_flow": null,
            "grid_area": null,
            "grid_template_columns": null,
            "flex": null,
            "_model_name": "LayoutModel",
            "justify_items": null,
            "grid_row": null,
            "max_height": null,
            "align_content": null,
            "visibility": null,
            "align_self": null,
            "height": null,
            "min_height": null,
            "padding": null,
            "grid_auto_rows": null,
            "grid_gap": null,
            "max_width": null,
            "order": null,
            "_view_module_version": "1.2.0",
            "grid_template_areas": null,
            "object_position": null,
            "object_fit": null,
            "grid_auto_columns": null,
            "margin": null,
            "display": null,
            "left": null
          }
        },
        "82d02467efad44068702b0e54d83b09b": {
          "model_module": "@jupyter-widgets/controls",
          "model_name": "HBoxModel",
          "model_module_version": "1.5.0",
          "state": {
            "_view_name": "HBoxView",
            "_dom_classes": [],
            "_model_name": "HBoxModel",
            "_view_module": "@jupyter-widgets/controls",
            "_model_module_version": "1.5.0",
            "_view_count": null,
            "_view_module_version": "1.5.0",
            "box_style": "",
            "layout": "IPY_MODEL_28128435835d43f6a927b7b4f2baa891",
            "_model_module": "@jupyter-widgets/controls",
            "children": [
              "IPY_MODEL_06ea2abbced94a50ae20ca9dcc797556",
              "IPY_MODEL_5af9a7adfffa4f3aad3a84fde8ce3bcb",
              "IPY_MODEL_cd5e56ed92f0425c97b24add352a7496"
            ]
          }
        },
        "28128435835d43f6a927b7b4f2baa891": {
          "model_module": "@jupyter-widgets/base",
          "model_name": "LayoutModel",
          "model_module_version": "1.2.0",
          "state": {
            "_view_name": "LayoutView",
            "grid_template_rows": null,
            "right": null,
            "justify_content": null,
            "_view_module": "@jupyter-widgets/base",
            "overflow": null,
            "_model_module_version": "1.2.0",
            "_view_count": null,
            "flex_flow": null,
            "width": null,
            "min_width": null,
            "border": null,
            "align_items": null,
            "bottom": null,
            "_model_module": "@jupyter-widgets/base",
            "top": null,
            "grid_column": null,
            "overflow_y": null,
            "overflow_x": null,
            "grid_auto_flow": null,
            "grid_area": null,
            "grid_template_columns": null,
            "flex": null,
            "_model_name": "LayoutModel",
            "justify_items": null,
            "grid_row": null,
            "max_height": null,
            "align_content": null,
            "visibility": null,
            "align_self": null,
            "height": null,
            "min_height": null,
            "padding": null,
            "grid_auto_rows": null,
            "grid_gap": null,
            "max_width": null,
            "order": null,
            "_view_module_version": "1.2.0",
            "grid_template_areas": null,
            "object_position": null,
            "object_fit": null,
            "grid_auto_columns": null,
            "margin": null,
            "display": null,
            "left": null
          }
        },
        "06ea2abbced94a50ae20ca9dcc797556": {
          "model_module": "@jupyter-widgets/controls",
          "model_name": "HTMLModel",
          "model_module_version": "1.5.0",
          "state": {
            "_view_name": "HTMLView",
            "style": "IPY_MODEL_8bfd6f70be8f4a94aeb433389fa21571",
            "_dom_classes": [],
            "description": "",
            "_model_name": "HTMLModel",
            "placeholder": "​",
            "_view_module": "@jupyter-widgets/controls",
            "_model_module_version": "1.5.0",
            "value": "Batches: 100%",
            "_view_count": null,
            "_view_module_version": "1.5.0",
            "description_tooltip": null,
            "_model_module": "@jupyter-widgets/controls",
            "layout": "IPY_MODEL_a74d0ee583b944f08fdb629c0c9f0554"
          }
        },
        "5af9a7adfffa4f3aad3a84fde8ce3bcb": {
          "model_module": "@jupyter-widgets/controls",
          "model_name": "FloatProgressModel",
          "model_module_version": "1.5.0",
          "state": {
            "_view_name": "ProgressView",
            "style": "IPY_MODEL_4ca985e427b14c748c4cb8bc3e46fed3",
            "_dom_classes": [],
            "description": "",
            "_model_name": "FloatProgressModel",
            "bar_style": "success",
            "max": 4,
            "_view_module": "@jupyter-widgets/controls",
            "_model_module_version": "1.5.0",
            "value": 4,
            "_view_count": null,
            "_view_module_version": "1.5.0",
            "orientation": "horizontal",
            "min": 0,
            "description_tooltip": null,
            "_model_module": "@jupyter-widgets/controls",
            "layout": "IPY_MODEL_d290acf262ff4b1d89124bdbb13db7bd"
          }
        },
        "cd5e56ed92f0425c97b24add352a7496": {
          "model_module": "@jupyter-widgets/controls",
          "model_name": "HTMLModel",
          "model_module_version": "1.5.0",
          "state": {
            "_view_name": "HTMLView",
            "style": "IPY_MODEL_af3881fe951c4a0c9480c27023962b7f",
            "_dom_classes": [],
            "description": "",
            "_model_name": "HTMLModel",
            "placeholder": "​",
            "_view_module": "@jupyter-widgets/controls",
            "_model_module_version": "1.5.0",
            "value": " 4/4 [00:00&lt;00:00,  4.17it/s]",
            "_view_count": null,
            "_view_module_version": "1.5.0",
            "description_tooltip": null,
            "_model_module": "@jupyter-widgets/controls",
            "layout": "IPY_MODEL_940c00245ca443ceaa38ad62a355279c"
          }
        },
        "8bfd6f70be8f4a94aeb433389fa21571": {
          "model_module": "@jupyter-widgets/controls",
          "model_name": "DescriptionStyleModel",
          "model_module_version": "1.5.0",
          "state": {
            "_view_name": "StyleView",
            "_model_name": "DescriptionStyleModel",
            "description_width": "",
            "_view_module": "@jupyter-widgets/base",
            "_model_module_version": "1.5.0",
            "_view_count": null,
            "_view_module_version": "1.2.0",
            "_model_module": "@jupyter-widgets/controls"
          }
        },
        "a74d0ee583b944f08fdb629c0c9f0554": {
          "model_module": "@jupyter-widgets/base",
          "model_name": "LayoutModel",
          "model_module_version": "1.2.0",
          "state": {
            "_view_name": "LayoutView",
            "grid_template_rows": null,
            "right": null,
            "justify_content": null,
            "_view_module": "@jupyter-widgets/base",
            "overflow": null,
            "_model_module_version": "1.2.0",
            "_view_count": null,
            "flex_flow": null,
            "width": null,
            "min_width": null,
            "border": null,
            "align_items": null,
            "bottom": null,
            "_model_module": "@jupyter-widgets/base",
            "top": null,
            "grid_column": null,
            "overflow_y": null,
            "overflow_x": null,
            "grid_auto_flow": null,
            "grid_area": null,
            "grid_template_columns": null,
            "flex": null,
            "_model_name": "LayoutModel",
            "justify_items": null,
            "grid_row": null,
            "max_height": null,
            "align_content": null,
            "visibility": null,
            "align_self": null,
            "height": null,
            "min_height": null,
            "padding": null,
            "grid_auto_rows": null,
            "grid_gap": null,
            "max_width": null,
            "order": null,
            "_view_module_version": "1.2.0",
            "grid_template_areas": null,
            "object_position": null,
            "object_fit": null,
            "grid_auto_columns": null,
            "margin": null,
            "display": null,
            "left": null
          }
        },
        "4ca985e427b14c748c4cb8bc3e46fed3": {
          "model_module": "@jupyter-widgets/controls",
          "model_name": "ProgressStyleModel",
          "model_module_version": "1.5.0",
          "state": {
            "_view_name": "StyleView",
            "_model_name": "ProgressStyleModel",
            "description_width": "",
            "_view_module": "@jupyter-widgets/base",
            "_model_module_version": "1.5.0",
            "_view_count": null,
            "_view_module_version": "1.2.0",
            "bar_color": null,
            "_model_module": "@jupyter-widgets/controls"
          }
        },
        "d290acf262ff4b1d89124bdbb13db7bd": {
          "model_module": "@jupyter-widgets/base",
          "model_name": "LayoutModel",
          "model_module_version": "1.2.0",
          "state": {
            "_view_name": "LayoutView",
            "grid_template_rows": null,
            "right": null,
            "justify_content": null,
            "_view_module": "@jupyter-widgets/base",
            "overflow": null,
            "_model_module_version": "1.2.0",
            "_view_count": null,
            "flex_flow": null,
            "width": null,
            "min_width": null,
            "border": null,
            "align_items": null,
            "bottom": null,
            "_model_module": "@jupyter-widgets/base",
            "top": null,
            "grid_column": null,
            "overflow_y": null,
            "overflow_x": null,
            "grid_auto_flow": null,
            "grid_area": null,
            "grid_template_columns": null,
            "flex": null,
            "_model_name": "LayoutModel",
            "justify_items": null,
            "grid_row": null,
            "max_height": null,
            "align_content": null,
            "visibility": null,
            "align_self": null,
            "height": null,
            "min_height": null,
            "padding": null,
            "grid_auto_rows": null,
            "grid_gap": null,
            "max_width": null,
            "order": null,
            "_view_module_version": "1.2.0",
            "grid_template_areas": null,
            "object_position": null,
            "object_fit": null,
            "grid_auto_columns": null,
            "margin": null,
            "display": null,
            "left": null
          }
        },
        "af3881fe951c4a0c9480c27023962b7f": {
          "model_module": "@jupyter-widgets/controls",
          "model_name": "DescriptionStyleModel",
          "model_module_version": "1.5.0",
          "state": {
            "_view_name": "StyleView",
            "_model_name": "DescriptionStyleModel",
            "description_width": "",
            "_view_module": "@jupyter-widgets/base",
            "_model_module_version": "1.5.0",
            "_view_count": null,
            "_view_module_version": "1.2.0",
            "_model_module": "@jupyter-widgets/controls"
          }
        },
        "940c00245ca443ceaa38ad62a355279c": {
          "model_module": "@jupyter-widgets/base",
          "model_name": "LayoutModel",
          "model_module_version": "1.2.0",
          "state": {
            "_view_name": "LayoutView",
            "grid_template_rows": null,
            "right": null,
            "justify_content": null,
            "_view_module": "@jupyter-widgets/base",
            "overflow": null,
            "_model_module_version": "1.2.0",
            "_view_count": null,
            "flex_flow": null,
            "width": null,
            "min_width": null,
            "border": null,
            "align_items": null,
            "bottom": null,
            "_model_module": "@jupyter-widgets/base",
            "top": null,
            "grid_column": null,
            "overflow_y": null,
            "overflow_x": null,
            "grid_auto_flow": null,
            "grid_area": null,
            "grid_template_columns": null,
            "flex": null,
            "_model_name": "LayoutModel",
            "justify_items": null,
            "grid_row": null,
            "max_height": null,
            "align_content": null,
            "visibility": null,
            "align_self": null,
            "height": null,
            "min_height": null,
            "padding": null,
            "grid_auto_rows": null,
            "grid_gap": null,
            "max_width": null,
            "order": null,
            "_view_module_version": "1.2.0",
            "grid_template_areas": null,
            "object_position": null,
            "object_fit": null,
            "grid_auto_columns": null,
            "margin": null,
            "display": null,
            "left": null
          }
        }
      }
    }
  },
  "cells": [
    {
      "cell_type": "markdown",
      "metadata": {
        "id": "8FOHM0OXeAm7"
      },
      "source": [
        "# Initial Analysis for Political Parties' Interests"
      ]
    },
    {
      "cell_type": "markdown",
      "metadata": {
        "id": "oA_fe4oxWT6p"
      },
      "source": [
        "## Mounting the Google Drive\n",
        "The Quotebank data is stored on Google Drive."
      ]
    },
    {
      "cell_type": "code",
      "metadata": {
        "id": "CEcIlRwfWY4C",
        "colab": {
          "base_uri": "https://localhost:8080/"
        },
        "outputId": "3a167bd5-fa4c-48ec-e81e-a7aae64e48a4"
      },
      "source": [
        "from google.colab import drive\n",
        "drive.mount('/content/drive')"
      ],
      "execution_count": 1,
      "outputs": [
        {
          "output_type": "stream",
          "name": "stdout",
          "text": [
            "Mounted at /content/drive\n"
          ]
        }
      ]
    },
    {
      "cell_type": "markdown",
      "metadata": {
        "id": "c_Dmorxcf7Am"
      },
      "source": [
        "## Installs"
      ]
    },
    {
      "cell_type": "code",
      "metadata": {
        "id": "hf5YsV90f6Xu"
      },
      "source": [
        "!python -m pip install --upgrade pip\n",
        "!pip install pytrends\n",
        "!pip install nltk\n",
        "!pip install tld\n",
        "!pip install pyarrow\n",
        "!pip install qwikidata\n",
        "!pip install sentence-transformers\n",
        "!pip install transformers\n",
        "!pip install umap-learn\n",
        "!pip install hdbscan\n",
        "!pip install tqdm"
      ],
      "execution_count": null,
      "outputs": []
    },
    {
      "cell_type": "markdown",
      "metadata": {
        "id": "LDxR5xYQBbE4"
      },
      "source": [
        "## Imports"
      ]
    },
    {
      "cell_type": "code",
      "metadata": {
        "id": "GL8NAnbFBez4"
      },
      "source": [
        "import bz2\n",
        "import json\n",
        "import umap\n",
        "import hdbscan\n",
        "import nltk\n",
        "import torch\n",
        "import pyarrow\n",
        "import os.path\n",
        "import pandas as pd\n",
        "import numpy as np\n",
        "import seaborn as sns\n",
        "import matplotlib.pyplot as plt\n",
        "import torch.nn.functional as f\n",
        "from tqdm import tqdm\n",
        "from tld import get_tld\n",
        "from itertools import chain\n",
        "from datetime import datetime\n",
        "from google.colab import drive\n",
        "from collections import Counter\n",
        "from nltk.corpus import stopwords\n",
        "from pytrends.request import TrendReq\n",
        "from nltk.cluster import KMeansClusterer\n",
        "from sentence_transformers import SentenceTransformer\n",
        "from transformers import BertModel, BertTokenizer\n",
        "from sklearn.preprocessing import StandardScaler, normalize\n",
        "from qwikidata.entity import WikidataItem, WikidataLexeme, WikidataProperty\n",
        "from qwikidata.linked_data_interface import get_entity_dict_from_api"
      ],
      "execution_count": 3,
      "outputs": []
    },
    {
      "cell_type": "markdown",
      "metadata": {
        "id": "KUt1rItUBfnI"
      },
      "source": [
        "## Constants"
      ]
    },
    {
      "cell_type": "code",
      "metadata": {
        "id": "ejXdQWRrBg8g"
      },
      "source": [
        "# Whether to create a parsed file from the Quotebank dataset.\n",
        "PARSE_QUOTEBANK = True\n",
        "\n",
        "# Colorblind-friendly color palette.\n",
        "COLORS = ['#377EB8', '#FF7F00', '#4DAF4A', '#F781BF']\n",
        "\n",
        "# A mapping between a year and the file that contains the input of that year.\n",
        "QUOTES_BY_YEAR = {year: f\"/content/drive/MyDrive/politicians-quotes-{year}.json.bz2\" for year in range(2015, 2021)}\n",
        "\n",
        "# A mapping between a party and quotes of its members\n",
        "WIKIDATA_POLITICIANS_PATH = f\"/content/drive/MyDrive/wikidata_politicians.csv\"\n",
        "\n",
        "# Path to parquet file used for Wikidata information\n",
        "WIKIDATA_PATH = f\"/content/drive/MyDrive/Quotebank_Wikidata/speaker_attributes.parquet\"\n",
        "\n",
        "# Path to file with mapping between q-codes and labels\n",
        "WIKIDATA_LABELS_PATH = f\"/content/drive/MyDrive/Quotebank_Wikidata/wikidata_labels_descriptions_quotebank.csv.bz2\"\n",
        "\n",
        "# Wikidata columns that are represented by q codes\n",
        "WIKIDATA_QCODES_COL = ['occupation', 'party']"
      ],
      "execution_count": 4,
      "outputs": []
    },
    {
      "cell_type": "markdown",
      "metadata": {
        "id": "sCm34P0FgHZi"
      },
      "source": [
        "## Setup"
      ]
    },
    {
      "cell_type": "code",
      "metadata": {
        "id": "YlA_werTgHPU",
        "colab": {
          "base_uri": "https://localhost:8080/"
        },
        "outputId": "a3b0f6b7-feab-49f6-d2e0-8f0e3f3f5c83"
      },
      "source": [
        "# Connect to Google trends API\n",
        "pytrend = TrendReq()\n",
        "# NLTK setup\n",
        "nltk.download('stopwords')\n",
        "nltk.download('punkt')\n",
        "nltk.download('averaged_perceptron_tagger')\n",
        "tqdm.pandas()"
      ],
      "execution_count": 5,
      "outputs": [
        {
          "output_type": "stream",
          "name": "stdout",
          "text": [
            "[nltk_data] Downloading package stopwords to /root/nltk_data...\n",
            "[nltk_data]   Unzipping corpora/stopwords.zip.\n",
            "[nltk_data] Downloading package punkt to /root/nltk_data...\n",
            "[nltk_data]   Unzipping tokenizers/punkt.zip.\n",
            "[nltk_data] Downloading package averaged_perceptron_tagger to\n",
            "[nltk_data]     /root/nltk_data...\n",
            "[nltk_data]   Unzipping taggers/averaged_perceptron_tagger.zip.\n"
          ]
        }
      ]
    },
    {
      "cell_type": "markdown",
      "metadata": {
        "id": "Q86936eGA5ZZ"
      },
      "source": [
        "## Quote Parsing"
      ]
    },
    {
      "cell_type": "markdown",
      "metadata": {
        "id": "FUw5Ks39YuIl"
      },
      "source": [
        "The Quotebank data is too large to handle in-memory in a single DataFrame. Therefore, for our initial analyses we select only the quotes from 2018 that were uttered by politicians. We detect these quotes by looking at the Q IDs of the speakers, merging them with Wikidata based on the Q ID, resolving the Q IDs of their profession and filtering those quotes that belong to politicians."
      ]
    },
    {
      "cell_type": "code",
      "metadata": {
        "id": "0OdPWN0HE3Wg"
      },
      "source": [
        "# A list of politicians of interest.\n",
        "politicians = [\"Barack Obama\", \"George W. Bush\", \"Donald Trump\", \"John McCain\",\n",
        "            \"Mitt Romney\", \"Hillary Clinton\", \"Benjamin Netanyahu\",\n",
        "            \"Narendra Modi\", \"Joe Biden\", \"Theresa May\", \"Boris Johnson\"]"
      ],
      "execution_count": 6,
      "outputs": []
    },
    {
      "cell_type": "code",
      "metadata": {
        "id": "IhcxNMaxA7VY"
      },
      "source": [
        "def get_politicians_data(year):\n",
        "  \"\"\"\n",
        "  Given a year, parses the Quotebank data and creates a file containing\n",
        "  the quotes of politicians from that year.\n",
        "  \"\"\"\n",
        "  path_to_out = QUOTES_BY_YEAR[year]\n",
        "  path_to_file = f'/content/drive/MyDrive/Quotebank/quotes-{year}.json.bz2'\n",
        "  with bz2.open(path_to_file, 'rb') as s_file:\n",
        "    with bz2.open(path_to_out, 'wb') as d_file:\n",
        "      for i, instance in enumerate(s_file):\n",
        "        # Load a sample.\n",
        "        instance = json.loads(instance)\n",
        "        if (sum([politician in instance['speaker'] for politician in politicians]) > 0):\n",
        "          # Write sample to new file.\n",
        "          d_file.write((json.dumps(instance)+'\\n').encode('utf-8'))\n",
        "        print(i)"
      ],
      "execution_count": 7,
      "outputs": []
    },
    {
      "cell_type": "code",
      "metadata": {
        "id": "YHpJEVHDQFjV"
      },
      "source": [
        "get_politicians_data(2018)"
      ],
      "execution_count": null,
      "outputs": []
    },
    {
      "cell_type": "code",
      "metadata": {
        "id": "LFEoxm6XSLx7"
      },
      "source": [
        "# Store politicians data in DataFrame.\n",
        "data = pd.read_json(QUOTES_BY_YEAR[2018], lines=True)"
      ],
      "execution_count": null,
      "outputs": []
    },
    {
      "cell_type": "markdown",
      "metadata": {
        "id": "kOQ8TDgzcRN_"
      },
      "source": [
        "Below, we look at a couple of quotes that belong to Donald Trump and Barack Obama, two of our politicians of interest.\n",
        "\n"
      ]
    },
    {
      "cell_type": "code",
      "metadata": {
        "colab": {
          "base_uri": "https://localhost:8080/",
          "height": 371
        },
        "id": "sZUunRkQTkCS",
        "outputId": "483592ab-ff9d-4feb-8b42-00b53ae9cb2a"
      },
      "source": [
        "trump_quotes = data[data[\"speaker\"].str.contains(\"Donald Trump\")]\n",
        "trump_quotes.head()"
      ],
      "execution_count": null,
      "outputs": [
        {
          "output_type": "execute_result",
          "data": {
            "text/html": [
              "<div>\n",
              "<style scoped>\n",
              "    .dataframe tbody tr th:only-of-type {\n",
              "        vertical-align: middle;\n",
              "    }\n",
              "\n",
              "    .dataframe tbody tr th {\n",
              "        vertical-align: top;\n",
              "    }\n",
              "\n",
              "    .dataframe thead th {\n",
              "        text-align: right;\n",
              "    }\n",
              "</style>\n",
              "<table border=\"1\" class=\"dataframe\">\n",
              "  <thead>\n",
              "    <tr style=\"text-align: right;\">\n",
              "      <th></th>\n",
              "      <th>quoteID</th>\n",
              "      <th>quotation</th>\n",
              "      <th>speaker</th>\n",
              "      <th>qids</th>\n",
              "      <th>date</th>\n",
              "      <th>numOccurrences</th>\n",
              "      <th>probas</th>\n",
              "      <th>urls</th>\n",
              "      <th>phase</th>\n",
              "    </tr>\n",
              "  </thead>\n",
              "  <tbody>\n",
              "    <tr>\n",
              "      <th>0</th>\n",
              "      <td>2018-05-08-001245</td>\n",
              "      <td>A constructive deal could easily have been str...</td>\n",
              "      <td>President Donald Trump</td>\n",
              "      <td>[Q22686]</td>\n",
              "      <td>2018-05-08 18:36:49</td>\n",
              "      <td>8</td>\n",
              "      <td>[[President Donald Trump, 0.5633], [None, 0.38...</td>\n",
              "      <td>[http://baynews9.com/fl/tampa/news/2018/05/08/...</td>\n",
              "      <td>E</td>\n",
              "    </tr>\n",
              "    <tr>\n",
              "      <th>1</th>\n",
              "      <td>2018-09-26-003692</td>\n",
              "      <td>actually admitted that they're going after far...</td>\n",
              "      <td>President Donald Trump</td>\n",
              "      <td>[Q22686]</td>\n",
              "      <td>2018-09-26 00:00:00</td>\n",
              "      <td>138</td>\n",
              "      <td>[[President Donald Trump, 0.6838], [None, 0.30...</td>\n",
              "      <td>[http://dailyherald.com/news/20180926/kavanaug...</td>\n",
              "      <td>E</td>\n",
              "    </tr>\n",
              "    <tr>\n",
              "      <th>3</th>\n",
              "      <td>2018-07-30-004176</td>\n",
              "      <td>always leaves room for negotiation.</td>\n",
              "      <td>President Donald Trump</td>\n",
              "      <td>[Q22686]</td>\n",
              "      <td>2018-07-30 20:44:00</td>\n",
              "      <td>4</td>\n",
              "      <td>[[President Donald Trump, 0.6616], [None, 0.33...</td>\n",
              "      <td>[http://www.10news.com/newsy/trump-25-billion-...</td>\n",
              "      <td>E</td>\n",
              "    </tr>\n",
              "    <tr>\n",
              "      <th>4</th>\n",
              "      <td>2018-10-30-005630</td>\n",
              "      <td>an incredible leader who is respected by every...</td>\n",
              "      <td>President Donald Trump</td>\n",
              "      <td>[Q22686]</td>\n",
              "      <td>2018-10-30 03:10:00</td>\n",
              "      <td>3</td>\n",
              "      <td>[[President Donald Trump, 0.358], [Cathy McMor...</td>\n",
              "      <td>[http://m.spokesman.com/stories/2018/oct/30/pr...</td>\n",
              "      <td>E</td>\n",
              "    </tr>\n",
              "    <tr>\n",
              "      <th>5</th>\n",
              "      <td>2018-04-21-003582</td>\n",
              "      <td>and he is already a proven liar and leaker.</td>\n",
              "      <td>President Donald Trump</td>\n",
              "      <td>[Q22686]</td>\n",
              "      <td>2018-04-21 21:38:52</td>\n",
              "      <td>1</td>\n",
              "      <td>[[President Donald Trump, 0.7394], [None, 0.16...</td>\n",
              "      <td>[https://mic.com/articles/189012/this-week-in-...</td>\n",
              "      <td>E</td>\n",
              "    </tr>\n",
              "  </tbody>\n",
              "</table>\n",
              "</div>"
            ],
            "text/plain": [
              "             quoteID  ... phase\n",
              "0  2018-05-08-001245  ...     E\n",
              "1  2018-09-26-003692  ...     E\n",
              "3  2018-07-30-004176  ...     E\n",
              "4  2018-10-30-005630  ...     E\n",
              "5  2018-04-21-003582  ...     E\n",
              "\n",
              "[5 rows x 9 columns]"
            ]
          },
          "metadata": {},
          "execution_count": 10
        }
      ]
    },
    {
      "cell_type": "code",
      "metadata": {
        "colab": {
          "base_uri": "https://localhost:8080/",
          "height": 354
        },
        "id": "AnSYiIeZ6PVm",
        "outputId": "c1fd0849-44c4-4c05-8b4a-14dd3826ac99"
      },
      "source": [
        "obama_quotes = data[data[\"speaker\"].str.contains(\"Barack Obama\")]\n",
        "obama_quotes.head()"
      ],
      "execution_count": null,
      "outputs": [
        {
          "output_type": "execute_result",
          "data": {
            "text/html": [
              "<div>\n",
              "<style scoped>\n",
              "    .dataframe tbody tr th:only-of-type {\n",
              "        vertical-align: middle;\n",
              "    }\n",
              "\n",
              "    .dataframe tbody tr th {\n",
              "        vertical-align: top;\n",
              "    }\n",
              "\n",
              "    .dataframe thead th {\n",
              "        text-align: right;\n",
              "    }\n",
              "</style>\n",
              "<table border=\"1\" class=\"dataframe\">\n",
              "  <thead>\n",
              "    <tr style=\"text-align: right;\">\n",
              "      <th></th>\n",
              "      <th>quoteID</th>\n",
              "      <th>quotation</th>\n",
              "      <th>speaker</th>\n",
              "      <th>qids</th>\n",
              "      <th>date</th>\n",
              "      <th>numOccurrences</th>\n",
              "      <th>probas</th>\n",
              "      <th>urls</th>\n",
              "      <th>phase</th>\n",
              "    </tr>\n",
              "  </thead>\n",
              "  <tbody>\n",
              "    <tr>\n",
              "      <th>21</th>\n",
              "      <td>2018-02-12-035226</td>\n",
              "      <td>I cannot paint.</td>\n",
              "      <td>Barack Obama</td>\n",
              "      <td>[Q76]</td>\n",
              "      <td>2018-02-12 13:50:00</td>\n",
              "      <td>2</td>\n",
              "      <td>[[Barack Obama, 0.8319], [Kehinde Wiley, 0.090...</td>\n",
              "      <td>[http://www.chicagotribune.com/news/ct-obama-p...</td>\n",
              "      <td>E</td>\n",
              "    </tr>\n",
              "    <tr>\n",
              "      <th>35</th>\n",
              "      <td>2018-11-03-029313</td>\n",
              "      <td>incessant, non-stop attempts to divide us with...</td>\n",
              "      <td>Barack Obama</td>\n",
              "      <td>[Q76]</td>\n",
              "      <td>2018-11-03 01:43:21</td>\n",
              "      <td>3</td>\n",
              "      <td>[[Barack Obama, 0.7987], [None, 0.164], [Donal...</td>\n",
              "      <td>[http://thehill.com/homenews/news/414678-obama...</td>\n",
              "      <td>E</td>\n",
              "    </tr>\n",
              "    <tr>\n",
              "      <th>106</th>\n",
              "      <td>2018-10-22-004462</td>\n",
              "      <td>All right? I believe in a fact-based reality. ...</td>\n",
              "      <td>President Barack Obama</td>\n",
              "      <td>[Q76]</td>\n",
              "      <td>2018-10-22 21:36:28</td>\n",
              "      <td>1</td>\n",
              "      <td>[[President Barack Obama, 0.7669], [None, 0.21...</td>\n",
              "      <td>[http://www.rawstory.com/2018/10/dont-believe-...</td>\n",
              "      <td>E</td>\n",
              "    </tr>\n",
              "    <tr>\n",
              "      <th>176</th>\n",
              "      <td>2018-10-26-096425</td>\n",
              "      <td>The biggest threat to our democracy is cynicis...</td>\n",
              "      <td>President Barack Obama</td>\n",
              "      <td>[Q76]</td>\n",
              "      <td>2018-10-26 19:37:30</td>\n",
              "      <td>3</td>\n",
              "      <td>[[President Barack Obama, 0.8994], [None, 0.08...</td>\n",
              "      <td>[http://cbsnews.com/news/live-stream-obama-ral...</td>\n",
              "      <td>E</td>\n",
              "    </tr>\n",
              "    <tr>\n",
              "      <th>201</th>\n",
              "      <td>2018-11-14-125138</td>\n",
              "      <td>was the day I was getting my hair and makeup d...</td>\n",
              "      <td>Barack Obama</td>\n",
              "      <td>[Q76]</td>\n",
              "      <td>2018-11-14 16:01:00</td>\n",
              "      <td>1</td>\n",
              "      <td>[[Barack Obama, 0.7869], [None, 0.2131]]</td>\n",
              "      <td>[http://www.wmagazine.com/story/michelle-obama...</td>\n",
              "      <td>E</td>\n",
              "    </tr>\n",
              "  </tbody>\n",
              "</table>\n",
              "</div>"
            ],
            "text/plain": [
              "               quoteID  ... phase\n",
              "21   2018-02-12-035226  ...     E\n",
              "35   2018-11-03-029313  ...     E\n",
              "106  2018-10-22-004462  ...     E\n",
              "176  2018-10-26-096425  ...     E\n",
              "201  2018-11-14-125138  ...     E\n",
              "\n",
              "[5 rows x 9 columns]"
            ]
          },
          "metadata": {},
          "execution_count": 11
        }
      ]
    },
    {
      "cell_type": "markdown",
      "metadata": {
        "id": "WIA84G5EgonW"
      },
      "source": [
        "## Quotes and Google Trends"
      ]
    },
    {
      "cell_type": "markdown",
      "metadata": {
        "id": "A8JB7rrBcbQJ"
      },
      "source": [
        "One on of our theories is that politicians talk about subjects of interest. For example, when a major event takes place, we would expect to hear about it in the news, and more importantly, we would expect political stakeholders to talk about it. However, not all politicians may pay the same amount of attention to all events.\n",
        "\n",
        "We plot the Google search trends against the number of quotes on specific subjects for Donald Trump and Barack Obama, two leaders from opposing parties."
      ]
    },
    {
      "cell_type": "code",
      "metadata": {
        "id": "P_Ur7WaGVbWM"
      },
      "source": [
        "def plot_trend(all_quotes, keyword, year, ax, speaker_name):\n",
        "  \"\"\"\n",
        "  Given a list of quotes, a keyword of interest and a year, plot the Google\n",
        "  search trend against the politicians' trends of uttering related quotes.\n",
        "  \"\"\"\n",
        "  # Get quotes stats from Quotebank\n",
        "  relevant_quotes = all_quotes[all_quotes[\"quotation\"].str.contains(keyword)]\n",
        "  quotes_by_date = relevant_quotes.groupby(by=relevant_quotes['date'].dt.date)\n",
        "  quotes_occ = pd.DataFrame(quotes_by_date['numOccurrences'].sum(),\n",
        "                           columns=['numOccurrences'])\n",
        "\n",
        "  # Get Google Trends data\n",
        "  pytrend.build_payload(kw_list=[keyword], geo='US',\n",
        "                        timeframe=f'{year}-01-01 {year}-12-31')\n",
        "  df_google = pytrend.interest_over_time()\n",
        "\n",
        "  # Treat missing quote trend values for a nicer plot\n",
        "  idx = pd.date_range(f\"01-01-{year}\", f\"12-31-{year}\")\n",
        "  quotes_occ = quotes_occ.reindex(idx, fill_value=0)\n",
        "\n",
        "  # Scale trend\n",
        "  quotes_occ[\"numOccurrences\"] = StandardScaler().fit_transform(\n",
        "    quotes_occ[[\"numOccurrences\"]]\n",
        "  )\n",
        "\n",
        "  # Scale trend\n",
        "  df_google[keyword] = StandardScaler().fit_transform(df_google[[keyword]])\n",
        "\n",
        "  # Plot trends\n",
        "  ax.plot(quotes_occ, label=f\"{speaker_name} quote trend\", color=COLORS[0])\n",
        "  df_google.plot(y=keyword, use_index=True, ax=ax,\n",
        "                 label='Google trend', color=COLORS[1])\n",
        "  \n",
        "  ax.set_title(f'Quotes & Search Trend for \"{keyword}\"')\n",
        "  ax.set_xlabel('Date')\n",
        "  ax.set_ylabel('Trend')\n",
        "  ax.legend()"
      ],
      "execution_count": null,
      "outputs": []
    },
    {
      "cell_type": "code",
      "metadata": {
        "colab": {
          "base_uri": "https://localhost:8080/",
          "height": 342
        },
        "id": "DkYuT3jvfuyZ",
        "outputId": "b1309e9e-b925-4fb7-e73b-e808a1bc1d80"
      },
      "source": [
        "fig, axs = plt.subplots(figsize=(15, 5), nrows=1, ncols=2, sharey=True)\n",
        "plot_trend(trump_quotes, \"shooting\", 2018, axs[0], \"Donald Trump\")\n",
        "plot_trend(obama_quotes, \"shooting\", 2018, axs[1], \"Barack Obama\")"
      ],
      "execution_count": null,
      "outputs": [
        {
          "output_type": "display_data",
          "data": {
            "image/png": "[encoded data removed]",
            "text/plain": [
              "<Figure size 1080x360 with 2 Axes>"
            ]
          },
          "metadata": {
            "needs_background": "light"
          }
        }
      ]
    },
    {
      "cell_type": "code",
      "metadata": {
        "colab": {
          "base_uri": "https://localhost:8080/",
          "height": 342
        },
        "id": "5kQIe4Z93LOg",
        "outputId": "397474a7-cc68-4247-e1a8-6b2f47be46c7"
      },
      "source": [
        "fig, axs = plt.subplots(figsize=(15, 5), nrows=1, ncols=2, sharey=True)\n",
        "plot_trend(trump_quotes, \"terror\", 2018, axs[0], \"Donald Trump\")\n",
        "plot_trend(obama_quotes, \"terror\", 2018, axs[1], \"Barack Obama\")"
      ],
      "execution_count": null,
      "outputs": [
        {
          "output_type": "display_data",
          "data": {
            "image/png": "[encoded data removed]",
            "text/plain": [
              "<Figure size 1080x360 with 2 Axes>"
            ]
          },
          "metadata": {
            "needs_background": "light"
          }
        }
      ]
    },
    {
      "cell_type": "markdown",
      "metadata": {
        "id": "fFLBDQHeCnE7"
      },
      "source": [
        "## Most common words"
      ]
    },
    {
      "cell_type": "markdown",
      "metadata": {
        "id": "s4SFd_WiUM42"
      },
      "source": [
        "We analyze the most common words said by Trump and Obama to see if we can find a pattern. For the current analysis, we only look at the most common nouns of each politician after tokenizing and preprocessing their quotes."
      ]
    },
    {
      "cell_type": "code",
      "metadata": {
        "id": "hQlhsLe7XsLv"
      },
      "source": [
        "def preprocess_text(text):\n",
        "  \"\"\"\n",
        "  Apply NLTK preprocessing operations to extract more meaningful data\n",
        "  from the quotes.\n",
        "  \"\"\"\n",
        "  tokens = nltk.word_tokenize(text)\n",
        "  # Remove stopwords\n",
        "  stopwords_removed = [word for word in tokens if word not in stopwords.words(\"english\")]\n",
        "  tagged = nltk.pos_tag(stopwords_removed)\n",
        "  # Return only nouns\n",
        "  return [word for word, tag in tagged if tag.startswith('N') and word.isalpha()]"
      ],
      "execution_count": null,
      "outputs": []
    },
    {
      "cell_type": "code",
      "metadata": {
        "id": "B1qij9ZdCpog"
      },
      "source": [
        "# Count most common words for Donald Trump\n",
        "trump_words_cnt = Counter(preprocess_text(\" \".join(trump_quotes[\"quotation\"].str.lower())))"
      ],
      "execution_count": null,
      "outputs": []
    },
    {
      "cell_type": "code",
      "metadata": {
        "colab": {
          "base_uri": "https://localhost:8080/"
        },
        "id": "krlUYxmTwZib",
        "outputId": "58e494a3-7f9e-490f-e794-f46567dbb6f0"
      },
      "source": [
        "trump_words_cnt.most_common(30)"
      ],
      "execution_count": null,
      "outputs": [
        {
          "output_type": "execute_result",
          "data": {
            "text/plain": [
              "[('people', 14746),\n",
              " ('country', 8374),\n",
              " ('president', 6797),\n",
              " ('time', 5574),\n",
              " ('trump', 5079),\n",
              " ('states', 4818),\n",
              " ('lot', 4650),\n",
              " ('deal', 4224),\n",
              " ('world', 4175),\n",
              " ('things', 4015),\n",
              " ('years', 4005),\n",
              " ('trade', 3746),\n",
              " ('way', 3711),\n",
              " ('something', 3200),\n",
              " ('thing', 3179),\n",
              " ('countries', 2794),\n",
              " ('russia', 2741),\n",
              " ('democrats', 2729),\n",
              " ('security', 2508),\n",
              " ('nothing', 2311),\n",
              " ('china', 2304),\n",
              " ('border', 2256),\n",
              " ('job', 2242),\n",
              " ('news', 2217),\n",
              " ('money', 2042),\n",
              " ('year', 1971),\n",
              " ('today', 1946),\n",
              " ('house', 1867),\n",
              " ('america', 1826),\n",
              " ('day', 1824)]"
            ]
          },
          "metadata": {},
          "execution_count": 34
        }
      ]
    },
    {
      "cell_type": "code",
      "metadata": {
        "id": "4VIZOKhuFTuz"
      },
      "source": [
        "# Count most common words for Barack Obama.\n",
        "obama_words_cnt = Counter(preprocess_text(\" \".join(obama_quotes[\"quotation\"].str.lower())))"
      ],
      "execution_count": null,
      "outputs": []
    },
    {
      "cell_type": "code",
      "metadata": {
        "colab": {
          "base_uri": "https://localhost:8080/"
        },
        "id": "pxXOnILKpPuB",
        "outputId": "c24d659f-dfac-40fa-efa7-b86a27af6fd6"
      },
      "source": [
        "obama_words_cnt.most_common(30)"
      ],
      "execution_count": null,
      "outputs": [
        {
          "output_type": "execute_result",
          "data": {
            "text/plain": [
              "[('people', 1585),\n",
              " ('time', 654),\n",
              " ('president', 577),\n",
              " ('world', 574),\n",
              " ('way', 533),\n",
              " ('country', 533),\n",
              " ('politics', 488),\n",
              " ('years', 441),\n",
              " ('democracy', 419),\n",
              " ('things', 402),\n",
              " ('work', 359),\n",
              " ('power', 343),\n",
              " ('something', 325),\n",
              " ('life', 323),\n",
              " ('america', 320),\n",
              " ('obama', 272),\n",
              " ('day', 271),\n",
              " ('thing', 266),\n",
              " ('states', 263),\n",
              " ('change', 258),\n",
              " ('election', 255),\n",
              " ('house', 254),\n",
              " ('history', 254),\n",
              " ('kind', 247),\n",
              " ('vote', 243),\n",
              " ('today', 225),\n",
              " ('trump', 222),\n",
              " ('americans', 212),\n",
              " ('women', 211),\n",
              " ('man', 204)]"
            ]
          },
          "metadata": {},
          "execution_count": 36
        }
      ]
    },
    {
      "cell_type": "markdown",
      "metadata": {
        "id": "25b5RVCe-6w0"
      },
      "source": [
        "While Donald Trump talks about _Russia_, _China_, _money_, and _democrats_, Barack Obama chooses to talk about _democracy_, _change_, and _work_. This simple approach has revealed that although some of the main nouns are shared between the representants of the two parties, there are also differences that should be futher analyzed to figure out if they can tell us more about their parties."
      ]
    },
    {
      "cell_type": "code",
      "metadata": {
        "id": "btbKO7SXEDZk"
      },
      "source": [
        "# Using this option to display the full quotes\n",
        "pd.set_option('display.max_colwidth', None)"
      ],
      "execution_count": null,
      "outputs": []
    },
    {
      "cell_type": "code",
      "metadata": {
        "colab": {
          "base_uri": "https://localhost:8080/"
        },
        "id": "8o1T6MedGCgG",
        "outputId": "6645116a-bd65-40da-eb2c-300841885faa"
      },
      "source": [
        "obama_quotes[obama_quotes[\"quotation\"].str.contains('gay')]['quotation'].head()"
      ],
      "execution_count": null,
      "outputs": [
        {
          "output_type": "execute_result",
          "data": {
            "text/plain": [
              "3028                                                                                                                                                                                             the scene of an uprising against police repression that led to a key turning point in the struggle for the civil rights of lesbian, gay, bisexual, and transgender (LGBT) Americans.\n",
              "20109                                                                                                                                                                                        (W) hen I hear people say they don't like identity politics, I think it's important to remember that identity politics doesn't just apply when it's black people or gay people or women,\n",
              "31804    I still have to stand here at a lecture and devote some time to saying that black people and white people and Asian people and Latin American people and women and men and gays and straights... are all human, that our differences are superficial, and that we should treat each other with care and respect. I would have thought we would have figured that out by now.\n",
              "37441                                                                                                                                                                 Which is why, by the way, when I hear people say they don't like identity politics, I think it's important to remember that identity politics doesn't just apply when it's black people or gay people or women,\n",
              "48616                                                                                                                                                  One day, to your horror, your problem is one hundred times more serious than what we have. It came to pass. Si Obama yun (That's Obama). Ngayon pagsabi kay Trump ngayon (But now Trump), he's declaring a national emergency,\n",
              "Name: quotation, dtype: object"
            ]
          },
          "metadata": {},
          "execution_count": 43
        }
      ]
    },
    {
      "cell_type": "code",
      "metadata": {
        "colab": {
          "base_uri": "https://localhost:8080/",
          "height": 1000
        },
        "id": "19CYaL57IidE",
        "outputId": "ba35c94f-ca7b-401f-fde9-45b66c7c1fc8"
      },
      "source": [
        "trump_quotes[trump_quotes[\"quotation\"].str.contains('gay')].head()"
      ],
      "execution_count": null,
      "outputs": [
        {
          "output_type": "execute_result",
          "data": {
            "text/html": [
              "<div>\n",
              "<style scoped>\n",
              "    .dataframe tbody tr th:only-of-type {\n",
              "        vertical-align: middle;\n",
              "    }\n",
              "\n",
              "    .dataframe tbody tr th {\n",
              "        vertical-align: top;\n",
              "    }\n",
              "\n",
              "    .dataframe thead th {\n",
              "        text-align: right;\n",
              "    }\n",
              "</style>\n",
              "<table border=\"1\" class=\"dataframe\">\n",
              "  <thead>\n",
              "    <tr style=\"text-align: right;\">\n",
              "      <th></th>\n",
              "      <th>quoteID</th>\n",
              "      <th>quotation</th>\n",
              "      <th>speaker</th>\n",
              "      <th>qids</th>\n",
              "      <th>date</th>\n",
              "      <th>numOccurrences</th>\n",
              "      <th>probas</th>\n",
              "      <th>urls</th>\n",
              "      <th>phase</th>\n",
              "    </tr>\n",
              "  </thead>\n",
              "  <tbody>\n",
              "    <tr>\n",
              "      <th>1861</th>\n",
              "      <td>2018-01-18-038590</td>\n",
              "      <td>I cannot vibe with gays</td>\n",
              "      <td>President Donald Trump</td>\n",
              "      <td>[Q22686]</td>\n",
              "      <td>2018-01-18 17:42:12</td>\n",
              "      <td>1</td>\n",
              "      <td>[[President Donald Trump, 0.5233], [None, 0.4767]]</td>\n",
              "      <td>[http://fuse.tv/2018/01/offset-migos-boss-life-queer-lyric-controversy-yfn-lucci]</td>\n",
              "      <td>E</td>\n",
              "    </tr>\n",
              "    <tr>\n",
              "      <th>4127</th>\n",
              "      <td>2018-01-15-062263</td>\n",
              "      <td>On the surface it may seem like Trump is giving a speech to one of our nation's most beloved icons -- the American farmer. But, the Farm Bureau actually represents a small, tight-knit clan of wealthy, far-right ideologues who oppose gay marriage and gun-free zones, support racist voter suppression laws, and want to gut social welfare programs like Medicaid.</td>\n",
              "      <td>President Donald Trump</td>\n",
              "      <td>[Q22686]</td>\n",
              "      <td>2018-01-15 17:55:00</td>\n",
              "      <td>1</td>\n",
              "      <td>[[President Donald Trump, 0.5711], [None, 0.4289]]</td>\n",
              "      <td>[http://www.southeastfarmpress.com/farm-policy/trump-afbf-what-did-everyone-else-say]</td>\n",
              "      <td>E</td>\n",
              "    </tr>\n",
              "    <tr>\n",
              "      <th>15536</th>\n",
              "      <td>2018-10-29-025115</td>\n",
              "      <td>has shown himself to be completely shameless when it comes to throwing anybody under the bus to score political points. As a gay man, I feel that threat.</td>\n",
              "      <td>President Donald Trump</td>\n",
              "      <td>[Q22686]</td>\n",
              "      <td>2018-10-29 00:17:18</td>\n",
              "      <td>4</td>\n",
              "      <td>[[President Donald Trump, 0.6485], [None, 0.2856], [Nickie Antonio, 0.0659]]</td>\n",
              "      <td>[https://www.ohio.com/news/20181028/blue-wave-lgbt-candidates-hope-for-rainbow-wave, https://www.times-gazette.com/news/20181031/blue-wave-lgbtq-candidates-hope-for-rainbow-wave, https://www.dispatch.com/news/20181101/blue-wave-lgbtq-candidates-hope-for-rainbow-wave, https://www.indeonline.com/news/20181101/blue-wave-lgbtq-candidates-hope-for-rainbow-wave]</td>\n",
              "      <td>E</td>\n",
              "    </tr>\n",
              "    <tr>\n",
              "      <th>24896</th>\n",
              "      <td>2018-02-13-074191</td>\n",
              "      <td>It's not just for me. I got out there because -- it's not just gay kids, I think that everybody can relate to being different or feeling like they're not good enough or they'll never make it because they're from a small town, or maybe they just don't feel like they're good enough.</td>\n",
              "      <td>President Donald Trump</td>\n",
              "      <td>[Q22686]</td>\n",
              "      <td>2018-02-13 16:14:48</td>\n",
              "      <td>2</td>\n",
              "      <td>[[President Donald Trump, 0.3286], [None, 0.3038], [Mike Pence, 0.2501], [Adam Rippon, 0.1175]]</td>\n",
              "      <td>[http://people.com/sports/winter-olympics-2018-adam-rippon-message-haters/, http://people.com/sports/winter-olympics-2018-adam-rippon-gus-kenworthy-competing-openly-gay-athletes/]</td>\n",
              "      <td>E</td>\n",
              "    </tr>\n",
              "    <tr>\n",
              "      <th>30200</th>\n",
              "      <td>2018-01-26-124359</td>\n",
              "      <td>Tomorrow marks the 73rd anniversary of the liberation of Auschwitz-Birkenau, the Nazi death and concentration camp in Poland. We take this opportunity to recall the Nazis' systematic persecution and brutal murder of six million Jewish people. In their death camps and under their inhuman rule, the Nazis also enslaved and killed millions of Slavs, Roma, gays, people with disabilities, priests and religious leaders, and others who courageously opposed their brutal regime,</td>\n",
              "      <td>President Donald Trump</td>\n",
              "      <td>[Q22686]</td>\n",
              "      <td>2018-01-26 21:54:07</td>\n",
              "      <td>1</td>\n",
              "      <td>[[President Donald Trump, 0.8092], [None, 0.1908]]</td>\n",
              "      <td>[http://israelnationalnews.com/News/News.aspx/241218]</td>\n",
              "      <td>E</td>\n",
              "    </tr>\n",
              "  </tbody>\n",
              "</table>\n",
              "</div>"
            ],
            "text/plain": [
              "                 quoteID  ... phase\n",
              "1861   2018-01-18-038590  ...     E\n",
              "4127   2018-01-15-062263  ...     E\n",
              "15536  2018-10-29-025115  ...     E\n",
              "24896  2018-02-13-074191  ...     E\n",
              "30200  2018-01-26-124359  ...     E\n",
              "\n",
              "[5 rows x 9 columns]"
            ]
          },
          "metadata": {},
          "execution_count": 45
        }
      ]
    },
    {
      "cell_type": "code",
      "metadata": {
        "id": "TD9CdgJOEKrg"
      },
      "source": [
        "# Resetting the column width\n",
        "pd.reset_option('display.max_colwidth')"
      ],
      "execution_count": null,
      "outputs": []
    },
    {
      "cell_type": "markdown",
      "metadata": {
        "id": "tGzcxuhcSC0A"
      },
      "source": [
        "## News websites and speakers"
      ]
    },
    {
      "cell_type": "markdown",
      "metadata": {
        "id": "1POu59Wn2XCx"
      },
      "source": [
        "### Helpers"
      ]
    },
    {
      "cell_type": "code",
      "metadata": {
        "id": "DWY21v6X2d8P"
      },
      "source": [
        "def get_domain_names(urls):\n",
        "  \"\"\"\n",
        "  Get a list with all domain names for the urls list given as parameter.\n",
        "  \"\"\"\n",
        "  domains = []\n",
        "  for url in urls:\n",
        "    res = get_tld(url, as_object=True)\n",
        "    domains.append(res.domain)\n",
        "  return domains\n",
        "\n",
        "def standardize_speaker_name(x):\n",
        "  \"\"\"\n",
        "  Standardize a speaker name to a common one from the list of politicians.\n",
        "  \"\"\"\n",
        "  plts = np.array(politicians)\n",
        "  return plts[[p in x for p in plts]][0]"
      ],
      "execution_count": null,
      "outputs": []
    },
    {
      "cell_type": "markdown",
      "metadata": {
        "id": "5J8xW20u2m2h"
      },
      "source": [
        "### News websites' preference for a speaker"
      ]
    },
    {
      "cell_type": "code",
      "metadata": {
        "id": "XH54Ubx1SE-9"
      },
      "source": [
        "# Do not alter original data\n",
        "new_data_domains = data.copy()\n",
        "# Convert urls into domain names -> this takes 1 minute\n",
        "new_data_domains['urls'] = new_data_domains['urls'].apply(get_domain_names)"
      ],
      "execution_count": null,
      "outputs": []
    },
    {
      "cell_type": "code",
      "metadata": {
        "id": "0IsNy0Vu4Tpp"
      },
      "source": [
        "# Standardize speaker names in order to be able to group quotes\n",
        "new_data_domains['speaker'] = new_data_domains['speaker'].apply(standardize_speaker_name)\n",
        "new_data_domains.head(10)\n",
        "# Gather all sites that retreieved a politician's quotes\n",
        "by_politician = new_data_domains.groupby('speaker')['urls'].agg(lambda x: list(chain.from_iterable(x.values))).reset_index()"
      ],
      "execution_count": null,
      "outputs": []
    },
    {
      "cell_type": "code",
      "metadata": {
        "id": "mFXk8qocBIBQ"
      },
      "source": [
        "# Get number of quotes retrieved by a website, for each politician\n",
        "politicians_websites = []\n",
        "for index, row in by_politician.iterrows():\n",
        "  p_websites = pd.DataFrame(Counter(row['urls']).most_common(5),\n",
        "                                columns=[\"Website name\", \"{}\".format(row['speaker'])])\n",
        "  politicians_websites.append(p_websites)"
      ],
      "execution_count": null,
      "outputs": []
    },
    {
      "cell_type": "code",
      "metadata": {
        "colab": {
          "base_uri": "https://localhost:8080/",
          "height": 1000
        },
        "id": "iFpDxjqtCncW",
        "outputId": "c47a2bb3-2024-4998-c779-27480d293c46"
      },
      "source": [
        "# Plot the websites, preferences for each politician\n",
        "w = 2\n",
        "h = len(politicians_websites) // w + 1\n",
        "fig, ax = plt.subplots(h, w, figsize=(20, 20))\n",
        "# TODO: See why title is not showing\n",
        "# fig.suptitle(\"Title centered above all subplots\", fontsize=25)\n",
        "for i in range(h):\n",
        "  j = 0\n",
        "  while i * w + j < len(politicians_websites) and j < w:\n",
        "    sbplt = ax[i, j]\n",
        "    ax_sns = sns.barplot(x=politicians_websites[j + i * w].columns[-1], y=\"Website name\", \n",
        "                         data=politicians_websites[j + i * w], ax=sbplt, color='blue')#.set(xscale=\"log\")\n",
        "    ax_sns.set(xlabel=\"Count of quotes\", ylabel=None, title=politicians_websites[j + i * w].columns[-1])\n",
        "    j += 1\n",
        "fig.tight_layout()"
      ],
      "execution_count": null,
      "outputs": [
        {
          "output_type": "display_data",
          "data": {
            "image/png": "[encoded data removed]",
            "text/plain": [
              "<Figure size 1440x1440 with 12 Axes>"
            ]
          },
          "metadata": {
            "needs_background": "light"
          }
        }
      ]
    },
    {
      "cell_type": "markdown",
      "metadata": {
        "id": "fng8VWlseg1Y"
      },
      "source": [
        "## Wikidata q-codes, first approach"
      ]
    },
    {
      "cell_type": "markdown",
      "metadata": {
        "id": "SBjOq3O6wG2H"
      },
      "source": [
        "### Helpers"
      ]
    },
    {
      "cell_type": "code",
      "metadata": {
        "id": "TMcbDQadwNtP"
      },
      "source": [
        "def convert_qcodes_en(q_codes):\n",
        "  \"\"\"\n",
        "  Function for transforming wikidata q codes into list of english aliases or\n",
        "  labels related to the specific q code. If list of q_codes is given aggregate\n",
        "  all the words corresponding to each code. \n",
        "  \"\"\"\n",
        "  codes_values = []\n",
        "  if q_codes is not None:\n",
        "    for q_code in q_codes:\n",
        "      s = get_entity_dict_from_api(q_code)\n",
        "      s_value = []\n",
        "      if len(s.get('aliases', {}).get(\"en\", [])) > 0:\n",
        "        s_value.extend([v[\"value\"] for v in s['aliases'][\"en\"]])\n",
        "      if s.get('labels', {}).get(\"en\", {}) != dict():\n",
        "        s_value.append(s['labels'][\"en\"][\"value\"])\n",
        "\n",
        "      codes_values.extend(s_value)\n",
        "  if len(codes_values) == 0:\n",
        "    return None\n",
        "\n",
        "  return codes_values"
      ],
      "execution_count": null,
      "outputs": []
    },
    {
      "cell_type": "markdown",
      "metadata": {
        "id": "sUdSoAzAwZeZ"
      },
      "source": [
        "### Converting Q codes into list of aliases and label aggregated"
      ]
    },
    {
      "cell_type": "code",
      "metadata": {
        "id": "ZFha0gA7jRJy"
      },
      "source": [
        "# Read .parquet file into a dataframe\n",
        "wikidata = pd.read_parquet(WIKIDATA_PATH, engine='pyarrow')"
      ],
      "execution_count": null,
      "outputs": []
    },
    {
      "cell_type": "code",
      "metadata": {
        "id": "IQtalz0IwuY8"
      },
      "source": [
        "# Small test for converting wikidata qcodes into words (just first 5 entries)\n",
        "new_wikidata = wikidata.iloc[:5].copy()\n",
        "for name in WIKIDATA_QCODES_COL:\n",
        "  new_wikidata[name] = new_wikidata[name].apply(convert_qcodes_en) \n",
        "new_wikidata.head(1)"
      ],
      "execution_count": null,
      "outputs": []
    },
    {
      "cell_type": "markdown",
      "metadata": {
        "id": "SmFeW5IwITXQ"
      },
      "source": [
        "## Select all politicians' quotes and merge them with wikidata "
      ]
    },
    {
      "cell_type": "markdown",
      "metadata": {
        "id": "syKZeh1JMQj8"
      },
      "source": [
        "### Helpers"
      ]
    },
    {
      "cell_type": "code",
      "metadata": {
        "id": "vemdf8bzMbkK"
      },
      "source": [
        "def convert_qcodes(l, df):\n",
        "  \"\"\"\n",
        "  Convert list of qcodes to labels\n",
        "  \"\"\"\n",
        "  return None if l is None else list(map(lambda x: df.loc[x]['Label'] if x in df.index else None, l))\n",
        "\n",
        "\n",
        "def infer_format(time_stmp):\n",
        "    if time_stmp[6:8] == '00':\n",
        "        time_stmp = time_stmp[:5]\n",
        "        dt_format = '+%Y'\n",
        "    else:\n",
        "        time_stmp = time_stmp[:8]\n",
        "        dt_format = '+%Y-%m'\n",
        "    return time_stmp, dt_format\n",
        "\n",
        "    \n",
        "def get_party_membership(q_code):\n",
        "    \"\"\"\n",
        "    Function for obtaining party membership intervals for speaker with q_code\n",
        "    \"\"\"\n",
        "    tmp = []\n",
        "    if q_code is not None:\n",
        "        try:\n",
        "            s = get_entity_dict_from_api(q_code)\n",
        "        except:\n",
        "            return None\n",
        "        if len(s.get(\"claims\", {}).get(\"P102\", [])) > 0:\n",
        "            for v in s[\"claims\"][\"P102\"]:\n",
        "                if v[\"mainsnak\"].get(\"datavalue\", {}).get(\"value\", {}).get(\"id\") is not None:\n",
        "                    party = v[\"mainsnak\"][\"datavalue\"][\"value\"][\"id\"]\n",
        "                    if party in q_codes_labels.index:\n",
        "                        party = q_codes_labels.loc[party]['Label']\n",
        "                        # start_time, end_time = '+2008-07-31T00:00:00Z', '+2020-05-01T00:00:00Z'\n",
        "                        start_time, end_time = None, None\n",
        "                        if len(v.get('qualifiers', {}).get('P580', [])) > 0:\n",
        "                            if v['qualifiers']['P580'][0].get('datavalue', {}).get(\"value\", {}).get('time') is not None:\n",
        "                                start_time = v['qualifiers']['P580'][0][\"datavalue\"][\"value\"][\"time\"]\n",
        "                        if len(v.get('qualifiers', {}).get('P582', [])) > 0:\n",
        "                            if v['qualifiers']['P582'][0].get('datavalue', {}).get(\"value\", {}).get('time') is not None:\n",
        "                                end_time = v['qualifiers']['P582'][0][\"datavalue\"][\"value\"][\"time\"]\n",
        "                        if start_time is not None and end_time is not None:\n",
        "                            tmp.append([party, datetime.strptime(*infer_format(start_time)),\n",
        "                                        datetime.strptime(*infer_format(end_time))])\n",
        "                        elif start_time is not None and end_time is None:\n",
        "                            tmp.append([party, datetime.strptime(*infer_format(start_time)),\n",
        "                                        datetime.strptime(*infer_format('+2020-05-01T00:00:00Z'))])\n",
        "                        else:\n",
        "                            continue\n",
        "\n",
        "    if len(tmp) == 0:\n",
        "        return None\n",
        "\n",
        "    return tmp\n",
        "\n",
        "\n",
        "def get_politicians_entire_data(year, wiki_politicians, proba_threshold=0.6, sub_samples=None):\n",
        "    # Given a year, parses the Quotebank data and Wikidata and creates a file containing\n",
        "    # the quotes of politicians from that year, with wikidata qcodes as labels.\n",
        "\n",
        "    speaker_to_parties = {}\n",
        "    path_to_out = QUOTES_BY_YEAR[year]\n",
        "    path_to_file = f'/content/drive/MyDrive/Quotebank/quotes-{year}.json.bz2'\n",
        "    with bz2.open(path_to_file, 'rb') as s_file:\n",
        "        with bz2.open(path_to_out, 'wb') as d_file:\n",
        "            for i, instance in tqdm(enumerate(s_file)):\n",
        "                if sub_samples is not None and i > sub_samples:\n",
        "                    break\n",
        "                # Load a sample.\n",
        "                instance = json.loads(instance)\n",
        "                # Turn instance into Series\n",
        "                instance = pd.Series(instance)\n",
        "                # If there is un unknown speaker with the highest probability, \n",
        "                # therefore no qids or the attributed speaker has a lower\n",
        "                # probability than a threshold, then pass\n",
        "                if len(instance['qids']) == 0 or float(instance['probas'][0][1]) < proba_threshold:\n",
        "                    continue\n",
        "                # For each attributed qid in the list of qids\n",
        "                for qid in instance['qids']:\n",
        "                    # Get corresponding wiki_politicians sample for the specific qid in quotebank\n",
        "                    # This happens only if quotebank speaker is politician in a party\n",
        "                    try:\n",
        "                        wikidata_sample = pd.DataFrame(wiki_politicians.loc[qid]).T\n",
        "                    except KeyError:\n",
        "                        continue\n",
        "                    # Create new entry in series with politician qid\n",
        "                    instance['qid_politician'] = qid\n",
        "                    # Merge quotebank sample with wikidata sample based on qids\n",
        "                    new_sample = pd.merge(pd.DataFrame(instance).T, wikidata_sample,\n",
        "                                          left_on='qid_politician', right_index=True,\n",
        "                                          how='inner')\n",
        "                    # Transform dataframe into series\n",
        "                    new_sample = new_sample.squeeze(axis=0)\n",
        "\n",
        "\n",
        "                    # if qid not in speaker_to_parties:\n",
        "                    #     # Create entry in dict of mappings between politicians and party memberships intervals\n",
        "                    #     speaker_to_parties[qid] = get_party_membership(qid)\n",
        "                    # # Map parties to parties membership intervals\n",
        "                    # new_sample['party'] = speaker_to_parties[qid]\n",
        "                    # # Get quote date\n",
        "                    # quote_date = datetime.strptime(new_sample['quoteID'][:7], '%Y-%m')\n",
        "                    # # Select the party membership interval corresponding to the quote date\n",
        "                    # if new_sample['party'] is not None:\n",
        "                    #     new_sample['party'] = [p for p in new_sample['party'] if p[1] <= quote_date < p[2]]\n",
        "                    #     # If no membership interval found, take the last party\n",
        "                    #     if len(new_sample['party']) == 0:\n",
        "                    #         continue\n",
        "                    #         # new_sample['party'] = [speaker_to_parties[qid][-1]]\n",
        "                    #     # If multiple parties found  take the last one\n",
        "                    #     if len(new_sample['party']) > 1:\n",
        "                    #         new_sample['party'] = [speaker_to_parties[qid][-1]]\n",
        "\n",
        "\n",
        "                    # Write to file\n",
        "                    d_file.write((new_sample.to_json() + '\\n').encode('utf-8'))"
      ],
      "execution_count": 8,
      "outputs": []
    },
    {
      "cell_type": "markdown",
      "metadata": {
        "id": "cU6sRkUeMYRc"
      },
      "source": [
        "### Get wikidata politicians (DO NOT RUN THIS AGAIN, FILE ALREADY CREATED)"
      ]
    },
    {
      "cell_type": "code",
      "metadata": {
        "id": "Zt0hEOffX_DG"
      },
      "source": [
        "# Mapping between wikidata q codes and their labels\n",
        "q_codes_labels = pd.read_csv(WIKIDATA_LABELS_PATH, compression='bz2', index_col='QID')"
      ],
      "execution_count": null,
      "outputs": []
    },
    {
      "cell_type": "code",
      "metadata": {
        "colab": {
          "base_uri": "https://localhost:8080/",
          "height": 172
        },
        "id": "UNP8BIuwY33k",
        "outputId": "24b65f7b-192b-471f-e906-a60856d71f80"
      },
      "source": [
        "q_codes_labels.head(3)"
      ],
      "execution_count": null,
      "outputs": [
        {
          "output_type": "execute_result",
          "data": {
            "text/html": [
              "<div>\n",
              "<style scoped>\n",
              "    .dataframe tbody tr th:only-of-type {\n",
              "        vertical-align: middle;\n",
              "    }\n",
              "\n",
              "    .dataframe tbody tr th {\n",
              "        vertical-align: top;\n",
              "    }\n",
              "\n",
              "    .dataframe thead th {\n",
              "        text-align: right;\n",
              "    }\n",
              "</style>\n",
              "<table border=\"1\" class=\"dataframe\">\n",
              "  <thead>\n",
              "    <tr style=\"text-align: right;\">\n",
              "      <th></th>\n",
              "      <th>Label</th>\n",
              "      <th>Description</th>\n",
              "    </tr>\n",
              "    <tr>\n",
              "      <th>QID</th>\n",
              "      <th></th>\n",
              "      <th></th>\n",
              "    </tr>\n",
              "  </thead>\n",
              "  <tbody>\n",
              "    <tr>\n",
              "      <th>Q31</th>\n",
              "      <td>Belgium</td>\n",
              "      <td>country in western Europe</td>\n",
              "    </tr>\n",
              "    <tr>\n",
              "      <th>Q45</th>\n",
              "      <td>Portugal</td>\n",
              "      <td>country in southwestern Europe</td>\n",
              "    </tr>\n",
              "    <tr>\n",
              "      <th>Q75</th>\n",
              "      <td>Internet</td>\n",
              "      <td>global system of connected computer networks</td>\n",
              "    </tr>\n",
              "  </tbody>\n",
              "</table>\n",
              "</div>"
            ],
            "text/plain": [
              "        Label                                   Description\n",
              "QID                                                        \n",
              "Q31   Belgium                     country in western Europe\n",
              "Q45  Portugal                country in southwestern Europe\n",
              "Q75  Internet  global system of connected computer networks"
            ]
          },
          "metadata": {},
          "execution_count": 7
        }
      ]
    },
    {
      "cell_type": "code",
      "metadata": {
        "id": "t8lM2huGIPcH",
        "colab": {
          "base_uri": "https://localhost:8080/",
          "height": 189
        },
        "outputId": "e3052e73-fd26-4c14-8812-178c048224c7"
      },
      "source": [
        "# Read wikidata .parquet file into a dataframe\n",
        "wikidata = pd.read_parquet(WIKIDATA_PATH, engine='pyarrow').set_index('id')\n",
        "party_qcodes = wikidata['party']\n",
        "# Map qcodes to labels\n",
        "wikidata = wikidata[WIKIDATA_QCODES_COL].progress_applymap(lambda lst: convert_qcodes(lst, q_codes_labels))\n",
        "wikidata['party_qcodes'] = party_qcodes.values\n",
        "wikidata.head(3)"
      ],
      "execution_count": null,
      "outputs": [
        {
          "output_type": "stream",
          "name": "stderr",
          "text": [
            "100%|██████████| 18111962/18111962 [24:31<00:00, 12307.74it/s] \n"
          ]
        },
        {
          "output_type": "execute_result",
          "data": {
            "text/html": [
              "<div>\n",
              "<style scoped>\n",
              "    .dataframe tbody tr th:only-of-type {\n",
              "        vertical-align: middle;\n",
              "    }\n",
              "\n",
              "    .dataframe tbody tr th {\n",
              "        vertical-align: top;\n",
              "    }\n",
              "\n",
              "    .dataframe thead th {\n",
              "        text-align: right;\n",
              "    }\n",
              "</style>\n",
              "<table border=\"1\" class=\"dataframe\">\n",
              "  <thead>\n",
              "    <tr style=\"text-align: right;\">\n",
              "      <th></th>\n",
              "      <th>occupation</th>\n",
              "      <th>party</th>\n",
              "    </tr>\n",
              "    <tr>\n",
              "      <th>id</th>\n",
              "      <th></th>\n",
              "      <th></th>\n",
              "    </tr>\n",
              "  </thead>\n",
              "  <tbody>\n",
              "    <tr>\n",
              "      <th>Q23</th>\n",
              "      <td>[politician, military officer, farmer, cartogr...</td>\n",
              "      <td>[independent politician]</td>\n",
              "    </tr>\n",
              "    <tr>\n",
              "      <th>Q42</th>\n",
              "      <td>[playwright, screenwriter, novelist, children'...</td>\n",
              "      <td>None</td>\n",
              "    </tr>\n",
              "    <tr>\n",
              "      <th>Q1868</th>\n",
              "      <td>[writer, lawyer, librarian, information scient...</td>\n",
              "      <td>None</td>\n",
              "    </tr>\n",
              "  </tbody>\n",
              "</table>\n",
              "</div>"
            ],
            "text/plain": [
              "                                              occupation                     party\n",
              "id                                                                                \n",
              "Q23    [politician, military officer, farmer, cartogr...  [independent politician]\n",
              "Q42    [playwright, screenwriter, novelist, children'...                      None\n",
              "Q1868  [writer, lawyer, librarian, information scient...                      None"
            ]
          },
          "metadata": {},
          "execution_count": 11
        }
      ]
    },
    {
      "cell_type": "code",
      "metadata": {
        "colab": {
          "base_uri": "https://localhost:8080/"
        },
        "id": "7d96jOBP0vVx",
        "outputId": "e6b0a1fd-4946-4d4a-811f-96beb1ac8bbe"
      },
      "source": [
        "# Total entries in wikidata\n",
        "wikidata.shape"
      ],
      "execution_count": null,
      "outputs": [
        {
          "output_type": "execute_result",
          "data": {
            "text/plain": [
              "(9055981, 3)"
            ]
          },
          "metadata": {},
          "execution_count": 16
        }
      ]
    },
    {
      "cell_type": "code",
      "metadata": {
        "colab": {
          "base_uri": "https://localhost:8080/",
          "height": 172
        },
        "id": "OCa2tEET0IJ4",
        "outputId": "cb3f95d7-7fe7-421c-f4b4-d81ab5fca45c"
      },
      "source": [
        "# Keep only politicians\n",
        "wikidata_politicians = wikidata.loc[wikidata['occupation'].apply(lambda lst: 'politician' in str(lst))]\n",
        "wikidata_politicians.head(3)"
      ],
      "execution_count": null,
      "outputs": [
        {
          "output_type": "execute_result",
          "data": {
            "text/html": [
              "<div>\n",
              "<style scoped>\n",
              "    .dataframe tbody tr th:only-of-type {\n",
              "        vertical-align: middle;\n",
              "    }\n",
              "\n",
              "    .dataframe tbody tr th {\n",
              "        vertical-align: top;\n",
              "    }\n",
              "\n",
              "    .dataframe thead th {\n",
              "        text-align: right;\n",
              "    }\n",
              "</style>\n",
              "<table border=\"1\" class=\"dataframe\">\n",
              "  <thead>\n",
              "    <tr style=\"text-align: right;\">\n",
              "      <th></th>\n",
              "      <th>occupation</th>\n",
              "      <th>party</th>\n",
              "      <th>party_qcodes</th>\n",
              "    </tr>\n",
              "    <tr>\n",
              "      <th>id</th>\n",
              "      <th></th>\n",
              "      <th></th>\n",
              "      <th></th>\n",
              "    </tr>\n",
              "  </thead>\n",
              "  <tbody>\n",
              "    <tr>\n",
              "      <th>Q23</th>\n",
              "      <td>[politician, military officer, farmer, cartogr...</td>\n",
              "      <td>[independent politician]</td>\n",
              "      <td>[Q327591]</td>\n",
              "    </tr>\n",
              "    <tr>\n",
              "      <th>Q207</th>\n",
              "      <td>[politician, motivational speaker, autobiograp...</td>\n",
              "      <td>[Republican Party]</td>\n",
              "      <td>[Q29468]</td>\n",
              "    </tr>\n",
              "    <tr>\n",
              "      <th>Q368</th>\n",
              "      <td>[military officer, politician]</td>\n",
              "      <td>[independent politician]</td>\n",
              "      <td>[Q327591]</td>\n",
              "    </tr>\n",
              "  </tbody>\n",
              "</table>\n",
              "</div>"
            ],
            "text/plain": [
              "                                             occupation  ... party_qcodes\n",
              "id                                                       ...             \n",
              "Q23   [politician, military officer, farmer, cartogr...  ...    [Q327591]\n",
              "Q207  [politician, motivational speaker, autobiograp...  ...     [Q29468]\n",
              "Q368                     [military officer, politician]  ...    [Q327591]\n",
              "\n",
              "[3 rows x 3 columns]"
            ]
          },
          "metadata": {},
          "execution_count": 15
        }
      ]
    },
    {
      "cell_type": "code",
      "metadata": {
        "colab": {
          "base_uri": "https://localhost:8080/"
        },
        "id": "5TTyLwSL0tD7",
        "outputId": "5b1257f3-8b3a-4eac-c99e-521c6ff73122"
      },
      "source": [
        "# Total number of politicians\n",
        "wikidata_politicians.shape"
      ],
      "execution_count": null,
      "outputs": [
        {
          "output_type": "execute_result",
          "data": {
            "text/plain": [
              "(659455, 3)"
            ]
          },
          "metadata": {},
          "execution_count": 17
        }
      ]
    },
    {
      "cell_type": "code",
      "metadata": {
        "id": "D7OGCaxYze0d"
      },
      "source": [
        "# Save table with wikidata politicians\n",
        "wikidata_politicians.to_csv('/content/drive/MyDrive/wikidata_politicians.csv')"
      ],
      "execution_count": null,
      "outputs": []
    },
    {
      "cell_type": "markdown",
      "metadata": {
        "id": "4Ul1g1t82jgf"
      },
      "source": [
        "### Code"
      ]
    },
    {
      "cell_type": "code",
      "metadata": {
        "colab": {
          "base_uri": "https://localhost:8080/"
        },
        "id": "_gF9Xdcq4UgO",
        "outputId": "8ccb518f-3c1b-4114-e16a-66fec447453b"
      },
      "source": [
        "# Read dataframe with wikidata politicians\n",
        "wikidata_politicians = pd.read_csv(WIKIDATA_POLITICIANS_PATH).set_index('id')\n",
        "# Keep only the ones belonging to a party\n",
        "wikidata_politicians_in_party = wikidata_politicians.loc[~wikidata_politicians['party'].isna()]\n",
        "print(\"There are {} politicians belonging to at least a party in Wikidata !\".format(wikidata_politicians_in_party.shape[0]))"
      ],
      "execution_count": 9,
      "outputs": [
        {
          "output_type": "stream",
          "name": "stdout",
          "text": [
            "There are 305302 politicians belonging to at least a party in Wikidata !\n"
          ]
        }
      ]
    },
    {
      "cell_type": "code",
      "metadata": {
        "id": "0uyWxMocmevH",
        "colab": {
          "base_uri": "https://localhost:8080/"
        },
        "outputId": "fbbbae39-15a4-41d9-95d0-0fb89bd9cb71"
      },
      "source": [
        "# Create zipped file for a specific year, with all Quotebank's entries where\n",
        "# the speaker is a politician belonging to a party\n",
        "for i in range(2015, 2021):\n",
        "    get_politicians_entire_data(i, wikidata_politicians_in_party)\n",
        "    print(\"Year {} ended !\\n\".format(i))"
      ],
      "execution_count": null,
      "outputs": [
        {
          "output_type": "stream",
          "name": "stderr",
          "text": [
            "855431it [17:05, 875.09it/s]"
          ]
        }
      ]
    },
    {
      "cell_type": "code",
      "metadata": {
        "id": "U0n_VLMBYCPL"
      },
      "source": [
        "# Read the data just created\n",
        "data = pd.read_json(QUOTES_BY_YEAR[2018], lines=True)"
      ],
      "execution_count": 12,
      "outputs": []
    },
    {
      "cell_type": "code",
      "metadata": {
        "id": "8CO3r0GgD7WU"
      },
      "source": [
        "data.head(2)"
      ],
      "execution_count": null,
      "outputs": []
    },
    {
      "cell_type": "code",
      "metadata": {
        "id": "UFXKa_6PoYdA",
        "colab": {
          "base_uri": "https://localhost:8080/"
        },
        "outputId": "00da12db-aed0-44d0-b1ab-07a7683f8ac9"
      },
      "source": [
        "# Number of parties and number of speakers belonging to each party\n",
        "parties_occ = dict(Counter(data['party'].agg(lambda x: x[0][0] if x is not None else 'no_party')))\n",
        "sorted_parties = sorted(parties_occ.items(), key=lambda x: x[1], reverse=True)\n",
        "print(\"Number of parties is: {}\\n\".format(len(sorted_parties)))\n",
        "sorted_parties = dict(sorted_parties)\n",
        "sorted_parties"
      ],
      "execution_count": null,
      "outputs": [
        {
          "output_type": "stream",
          "name": "stdout",
          "text": [
            "Number of parties is: 35\n",
            "\n"
          ]
        },
        {
          "output_type": "execute_result",
          "data": {
            "text/plain": [
              "{'Australian Labor Party': 1,\n",
              " 'Bangladesh Nationalist Party': 1,\n",
              " 'Bharatiya Janata Party': 2,\n",
              " 'Christian Democratic Union': 3,\n",
              " 'Civic Choice': 1,\n",
              " 'Coalition Avenir Québec': 1,\n",
              " 'Comités Jeanne': 1,\n",
              " 'Communist Party of China': 2,\n",
              " 'Conservative Party': 2,\n",
              " 'Democratic Party': 3,\n",
              " 'Democratic Party of Korea': 1,\n",
              " 'Democratic Unionist Party': 1,\n",
              " 'Economic Freedom Fighters': 1,\n",
              " 'Free Democratic Party': 1,\n",
              " 'Green Party of England and Wales': 1,\n",
              " 'Indian National Congress': 1,\n",
              " 'Initiative for Catalonia Greens': 1,\n",
              " 'Justice and Development Party': 4,\n",
              " 'La République En Marche': 6,\n",
              " 'Lega Nord': 3,\n",
              " 'Liberal Democratic Party': 1,\n",
              " 'Likud': 4,\n",
              " 'Malaysian United Indigenous Party': 6,\n",
              " 'National Party of Australia': 1,\n",
              " 'National Rally': 1,\n",
              " 'Republican Party': 48,\n",
              " 'Russia of the Future': 1,\n",
              " 'Sabah Heritage Party': 1,\n",
              " 'Scottish Conservatives': 1,\n",
              " 'Senate Liberal Caucus': 1,\n",
              " 'Socialist Alternative': 1,\n",
              " 'Socialist Party': 1,\n",
              " 'United Socialist Party of Venezuela': 1,\n",
              " 'Yisrael Beiteinu': 1,\n",
              " 'independent politician': 2}"
            ]
          },
          "metadata": {},
          "execution_count": 14
        }
      ]
    },
    {
      "cell_type": "markdown",
      "metadata": {
        "id": "xjn5d946aUnc"
      },
      "source": [
        "## BERT"
      ]
    },
    {
      "cell_type": "code",
      "metadata": {
        "id": "wW893RJ6aX7W",
        "colab": {
          "base_uri": "https://localhost:8080/",
          "height": 450,
          "referenced_widgets": [
            "b5f1e47f369f43fe9e41993ed04dae07",
            "6d7e9023d0c045deb30317cd155015b5",
            "65ead4597f4f4b56a85de218f1ee0c92",
            "47439a8b9cbe4955be63496dbec55568",
            "0fb3751af9d64dcfae95d52d0c21466a",
            "30a4cc5d723542faa6093b75b0cb746e",
            "8eb5c9b89f9f474ab24b7e8b7c0d094b",
            "ad1bc27fce1943559a7f4522f54b1d24",
            "bf3389dae88a450487e8486061059436",
            "2eb73c5a96d740dbbff08b3a8d1d32e8",
            "6cb3ba764a8b49039b5cf7db513ed242",
            "ce5bc9b0b7654690a3eaa695ed12faab",
            "05c2bd4d2d6d47fdacc12eee9f6b6361",
            "32ee16c4c28e49568c8e14b26c123ced",
            "9c30a92e9d264131b7f35c6ef61175a9",
            "30f331d2635847ff8a8801d219ac8f09",
            "601d5ee9ab9c4768a20f3b160d514c76",
            "40458dc74deb4942b20db6fa69197c94",
            "8d1e058fca924a888ef8021f72de40a7",
            "117a708725d548ba8b2046ae523fb582",
            "5b99599287c84ee0a2e013fe4742b033",
            "f0b4b2c0f8424020987a4ecaa90d2703",
            "1b5b7df26bc64b058aa927eb793fcd04",
            "76e517007f1044b5ac00a31ec256c9ff",
            "4b2666793ea44903b1555241cc03f428",
            "df641e9997554e60b5b76d08b14d2f45",
            "b741ee794ad74103b38f9a925fe5e773",
            "351f2f601e8749ea9c5f6215a6a5e177",
            "c9397d31d24a457d94a1504a209f99fe",
            "9f1a67031dcd41878263f6af95694b17",
            "83a1e9e91cba4cf3827418314f31a698",
            "1d05a39fe4824ad28287df46b3b05925",
            "7fec762083de4f458ea83c01be9349ed",
            "c085f2a673e343b59a4ff6569ad8136a",
            "992c4ac815c54d2683cd936387ac8e87",
            "3f4971c73bfd4f0cacaaebf0554cc29b",
            "fa676889299d4c76bc41d1b7a6cc5167",
            "92e3af8222eb4660b9d1a547d6eef3bd",
            "05337d65900b4b2083357686bb6429a4",
            "3a76696a03a34796971690203b5650c0",
            "889b3d3dd5384c4fa1756194a57e1f91",
            "e5c52c46ace64959920acf39700e4894",
            "a650069ec50e47b4bddea464bbd072ae",
            "4ebcefa15259418cb8c4a48d7d5e487f",
            "95e16ec30baa4e07a5da28987c2e4f2b",
            "6260b93b9e4e4c6cb2231738b007616d",
            "4aac2df9554648b98bdbfd7c45ba6f6d",
            "e82df6c03823453d8b4f54cecad1a358",
            "bec6df164add4f7595d073dc95aaf357",
            "f27c85f8f9854d6db62735f280b05563",
            "31f20a7d17594f4f99521c7599863f69",
            "e01ff8bf8ce04dc58eab9fd4c88b0d9a",
            "d3a9c818c6054b5aa3586a5a38bf8732",
            "b9d6a7895fbe4fb4ae77af425ed1de7b",
            "b7f8b9aa95d840ff906e9c7a3de3e92d",
            "8a6e74a24b6f41edbf621f925724c309",
            "6a4fce4865554339861733861c623662",
            "49b9aa5ab9084d87b3a675c93f09d597",
            "cae6e78bfcc24dc68d68763060386733",
            "651f166acc8246168ab2fe96714595c3",
            "b1df4777257f4bc89d3611aa732fbbba",
            "140dc1986d1d47ae91a6d841c6b1b992",
            "92c121ff7e254a0e8a747b339443700f",
            "47a6b289e267483ab418c534162a3f40",
            "8183b486dbc4470e9a17ba82d3a44dcc",
            "21d0b93f148d4e2597520a46ace6f515",
            "d87e2083d61a466990a16d6fd43e27a2",
            "cb06281b08574129892a0005f6c8a4de",
            "f5c54bfe607a4d789ac0e2abc3c655d7",
            "08f82a9979b44ac382db8cf608de5005",
            "5f299bbdcc624274b42d4cf6294726f9",
            "7f5bc165dea74f76b3d853cb34178e15",
            "c025197819ec46eb9aac56d8e68320e0",
            "bf5c52de887d4996809ce57278be694a",
            "6a4b5174ae4146448367b97c44f38a00",
            "95e8dc00e3134e009ac1aaacb08ab703",
            "45105f8b50b3434fabb31756d07f8474",
            "2cbd71b1da834a718aa3990d37adc728",
            "728012b6828a43f5aad6c8adade218cd",
            "bf1862f66d1d4adabce7f56f601dc2c9",
            "b3cf1fb01dd34660ab38f0dbe175bca0",
            "06dd01e72ed344a983ef3e10f0aea969",
            "1e440b1a3506472689f368ad3fd45c37",
            "48d9c30665084342b108ddfcf15719ae",
            "c824af9730004cce9ae7ba7821c62f81",
            "b9f810b845074c60a14f90a9c8840e61",
            "afc09a023179435eaa72dc5c1ef583a6",
            "bdf940a905264ba79b4fd8a0425db8fd",
            "24991482a53e44998b09ca31a4e191c1",
            "bdb926ba87704d0fade30d765ba8365d",
            "28decb66332a438d889bd71edbb2fe42",
            "9c2db7a7a56e494091f4c90b974d2311",
            "3e00f0497b8b4c028c343ccb2f76b081",
            "b4ad383657ed4b3eb084a68a547b9377",
            "d7f6d657b4a54addbd6bf40905ee85d3",
            "8e80d87e8a9a41dc8bfc8c9817509692",
            "e1e6db381ff149e4b287c1d4d90ef89b",
            "03e8fcd49c2a48498594dc37e37715fa",
            "0a3a8ed45da24a97971cad97ca1a0ff8",
            "269913c311a14cb0979878238287ae22",
            "0f0d4c5106ce4239b83e193333169ec3",
            "a2eea17532eb4c889cbe3e0d0fcd7e5e",
            "9cb11f696a74487093cd210f4e7eae44",
            "2d1b633dd6ec4d66b2158e14710375aa",
            "22b8415916dd417295531e8dc7b246ed",
            "5d015f50be4a4ce7965072aca3dd3e83",
            "55c5fe1bda224d09b61ac159a61598e7",
            "07afef09796e4c7c9e7c6c8460725f2c",
            "e1b66593a9bf4306a1913b5772ca64a3",
            "fcbbe71ba4ce4ef89df19f2be8aa4c54",
            "1ac4864ec9674f0bae0f1f9b7a3c39dc",
            "3dbc41653b994cd3857d653c298e073f",
            "0dd599fa392b4e2abecbfcf655315c16",
            "81d3432601d0479bae1a32abc95bc531",
            "27d99d29064c4050a94a7c60639cbcb6",
            "7a68fc33c7f043be8fb6528770dcc57e",
            "e28654a72b984ac6ae838100e0cbc202",
            "0c9eeda900f04736b171b674ca8d203c",
            "b688926d63414089b12fa2b2eca7e8a5",
            "9669c8620b9a4267a7cc2a8a47b192a5",
            "e08b55a031e145b3bc0b13af22b231b7",
            "f6d71695ca0e4b948b6ccecaf435f5fd",
            "b7b2339bce9e4457883fefecc89e5445",
            "0daacf716c6c4178ace1b8d1c8ca404d",
            "1b4ff079a5124d2a980d5d063792e33f",
            "6ea1816c9e194798b1d9d9ac99661393",
            "e9ad6eafa4fc4d25a1e67f06fe0f7eb4",
            "bcd1837c33874ec3a2c21a268409f2e5",
            "ced3e2e36efa4ee7ad700e0aeda735ac",
            "361a2480bb634943b1050ae5bc9838fd",
            "dd12a9a08fbb4efa8f9add3d76c01ee9",
            "ca6b48d3209442db9b3c65307a4a2930",
            "8edb2ba9f38a4a3ea4b2134caae3e0ca",
            "44af747a94164f148538fd03efd4d0a2",
            "248a7581abb74b9f83b929f58e273479",
            "ea85df200ca74294becebe10a2a11bcc",
            "0a4b7887bf77431881a88d81439ef1cd",
            "0823a5ffeee740f3be53a31f31df4ddd",
            "28bb16c5cf864eb99960985f1da278fc",
            "ddd7ba428aba4c009d0802b450684e75",
            "626b1132a8f240b9ba359878c77008d2",
            "b8c02e6fcf4f410d8f44849efb28ec73",
            "0b96d6349bf84870bcd5b144d437a2bc"
          ]
        },
        "outputId": "a4b98a53-854c-4774-e12a-789935b1834b"
      },
      "source": [
        "# Check cuda runtime and set model\n",
        "device = torch.device(\"cuda\" if torch.cuda.is_available() else \"cpu\")\n",
        "model = SentenceTransformer('bert-base-nli-mean-tokens')\n",
        "print(device)"
      ],
      "execution_count": null,
      "outputs": [
        {
          "output_type": "display_data",
          "data": {
            "application/vnd.jupyter.widget-view+json": {
              "model_id": "b5f1e47f369f43fe9e41993ed04dae07",
              "version_minor": 0,
              "version_major": 2
            },
            "text/plain": [
              "Downloading:   0%|          | 0.00/391 [00:00<?, ?B/s]"
            ]
          },
          "metadata": {}
        },
        {
          "output_type": "display_data",
          "data": {
            "application/vnd.jupyter.widget-view+json": {
              "model_id": "ce5bc9b0b7654690a3eaa695ed12faab",
              "version_minor": 0,
              "version_major": 2
            },
            "text/plain": [
              "Downloading:   0%|          | 0.00/3.95k [00:00<?, ?B/s]"
            ]
          },
          "metadata": {}
        },
        {
          "output_type": "display_data",
          "data": {
            "application/vnd.jupyter.widget-view+json": {
              "model_id": "1b5b7df26bc64b058aa927eb793fcd04",
              "version_minor": 0,
              "version_major": 2
            },
            "text/plain": [
              "Downloading:   0%|          | 0.00/2.00 [00:00<?, ?B/s]"
            ]
          },
          "metadata": {}
        },
        {
          "output_type": "display_data",
          "data": {
            "application/vnd.jupyter.widget-view+json": {
              "model_id": "c085f2a673e343b59a4ff6569ad8136a",
              "version_minor": 0,
              "version_major": 2
            },
            "text/plain": [
              "Downloading:   0%|          | 0.00/625 [00:00<?, ?B/s]"
            ]
          },
          "metadata": {}
        },
        {
          "output_type": "display_data",
          "data": {
            "application/vnd.jupyter.widget-view+json": {
              "model_id": "95e16ec30baa4e07a5da28987c2e4f2b",
              "version_minor": 0,
              "version_major": 2
            },
            "text/plain": [
              "Downloading:   0%|          | 0.00/122 [00:00<?, ?B/s]"
            ]
          },
          "metadata": {}
        },
        {
          "output_type": "display_data",
          "data": {
            "application/vnd.jupyter.widget-view+json": {
              "model_id": "8a6e74a24b6f41edbf621f925724c309",
              "version_minor": 0,
              "version_major": 2
            },
            "text/plain": [
              "Downloading:   0%|          | 0.00/229 [00:00<?, ?B/s]"
            ]
          },
          "metadata": {}
        },
        {
          "output_type": "display_data",
          "data": {
            "application/vnd.jupyter.widget-view+json": {
              "model_id": "d87e2083d61a466990a16d6fd43e27a2",
              "version_minor": 0,
              "version_major": 2
            },
            "text/plain": [
              "Downloading:   0%|          | 0.00/438M [00:00<?, ?B/s]"
            ]
          },
          "metadata": {}
        },
        {
          "output_type": "display_data",
          "data": {
            "application/vnd.jupyter.widget-view+json": {
              "model_id": "2cbd71b1da834a718aa3990d37adc728",
              "version_minor": 0,
              "version_major": 2
            },
            "text/plain": [
              "Downloading:   0%|          | 0.00/53.0 [00:00<?, ?B/s]"
            ]
          },
          "metadata": {}
        },
        {
          "output_type": "display_data",
          "data": {
            "application/vnd.jupyter.widget-view+json": {
              "model_id": "24991482a53e44998b09ca31a4e191c1",
              "version_minor": 0,
              "version_major": 2
            },
            "text/plain": [
              "Downloading:   0%|          | 0.00/112 [00:00<?, ?B/s]"
            ]
          },
          "metadata": {}
        },
        {
          "output_type": "display_data",
          "data": {
            "application/vnd.jupyter.widget-view+json": {
              "model_id": "269913c311a14cb0979878238287ae22",
              "version_minor": 0,
              "version_major": 2
            },
            "text/plain": [
              "Downloading:   0%|          | 0.00/466k [00:00<?, ?B/s]"
            ]
          },
          "metadata": {}
        },
        {
          "output_type": "display_data",
          "data": {
            "application/vnd.jupyter.widget-view+json": {
              "model_id": "1ac4864ec9674f0bae0f1f9b7a3c39dc",
              "version_minor": 0,
              "version_major": 2
            },
            "text/plain": [
              "Downloading:   0%|          | 0.00/399 [00:00<?, ?B/s]"
            ]
          },
          "metadata": {}
        },
        {
          "output_type": "display_data",
          "data": {
            "application/vnd.jupyter.widget-view+json": {
              "model_id": "f6d71695ca0e4b948b6ccecaf435f5fd",
              "version_minor": 0,
              "version_major": 2
            },
            "text/plain": [
              "Downloading:   0%|          | 0.00/232k [00:00<?, ?B/s]"
            ]
          },
          "metadata": {}
        },
        {
          "output_type": "display_data",
          "data": {
            "application/vnd.jupyter.widget-view+json": {
              "model_id": "8edb2ba9f38a4a3ea4b2134caae3e0ca",
              "version_minor": 0,
              "version_major": 2
            },
            "text/plain": [
              "Downloading:   0%|          | 0.00/190 [00:00<?, ?B/s]"
            ]
          },
          "metadata": {}
        },
        {
          "output_type": "stream",
          "name": "stdout",
          "text": [
            "cuda\n"
          ]
        }
      ]
    },
    {
      "cell_type": "code",
      "metadata": {
        "colab": {
          "base_uri": "https://localhost:8080/",
          "height": 49,
          "referenced_widgets": [
            "82d02467efad44068702b0e54d83b09b",
            "28128435835d43f6a927b7b4f2baa891",
            "06ea2abbced94a50ae20ca9dcc797556",
            "5af9a7adfffa4f3aad3a84fde8ce3bcb",
            "cd5e56ed92f0425c97b24add352a7496",
            "8bfd6f70be8f4a94aeb433389fa21571",
            "a74d0ee583b944f08fdb629c0c9f0554",
            "4ca985e427b14c748c4cb8bc3e46fed3",
            "d290acf262ff4b1d89124bdbb13db7bd",
            "af3881fe951c4a0c9480c27023962b7f",
            "940c00245ca443ceaa38ad62a355279c"
          ]
        },
        "id": "mWvJk0788JDf",
        "outputId": "08f970cb-794f-4260-bb93-a8ddcb5476f8"
      },
      "source": [
        "# Find sentence embeddings\n",
        "sentence_embeddings = model.encode(list(data['quotation']), show_progress_bar=True)\n",
        "# Reduce dimensionality of embeddings\n",
        "umap_embeddings = umap.UMAP(n_neighbors=15, n_components=5, metric='cosine').fit_transform(sentence_embeddings)"
      ],
      "execution_count": null,
      "outputs": [
        {
          "output_type": "display_data",
          "data": {
            "application/vnd.jupyter.widget-view+json": {
              "model_id": "82d02467efad44068702b0e54d83b09b",
              "version_minor": 0,
              "version_major": 2
            },
            "text/plain": [
              "Batches:   0%|          | 0/4 [00:00<?, ?it/s]"
            ]
          },
          "metadata": {}
        }
      ]
    },
    {
      "cell_type": "code",
      "metadata": {
        "id": "RCsRvnNs9ct-"
      },
      "source": [
        "# Cluster documents\n",
        "cluster = hdbscan.HDBSCAN(min_cluster_size=3, metric='euclidean', cluster_selection_method='eom').fit(umap_embeddings)"
      ],
      "execution_count": null,
      "outputs": []
    },
    {
      "cell_type": "code",
      "metadata": {
        "colab": {
          "base_uri": "https://localhost:8080/",
          "height": 613
        },
        "id": "OdG2Q0Mf9-3T",
        "outputId": "d063224c-1079-4b7b-89ed-37624bbf659a"
      },
      "source": [
        "# Prepare data\n",
        "umap_data = umap.UMAP(n_neighbors=15, n_components=2, min_dist=0.0, metric='cosine').fit_transform(sentence_embeddings)\n",
        "result = pd.DataFrame(umap_data, columns=['x', 'y'])\n",
        "result['labels'] = cluster.labels_\n",
        "data['labels'] = cluster.labels_\n",
        "\n",
        "# Visualize clusters\n",
        "fig, ax = plt.subplots(figsize=(20, 10))\n",
        "outliers = result.loc[result.labels == -1, :]\n",
        "clustered = result.loc[result.labels != -1, :]\n",
        "plt.scatter(outliers.x, outliers.y, color='#BDBDBD', s=30)\n",
        "plt.scatter(clustered.x, clustered.y, c=clustered.labels, s=30, cmap='hsv_r')\n",
        "plt.colorbar()"
      ],
      "execution_count": null,
      "outputs": [
        {
          "output_type": "execute_result",
          "data": {
            "text/plain": [
              "<matplotlib.colorbar.Colorbar at 0x7f4284e94490>"
            ]
          },
          "metadata": {},
          "execution_count": 34
        },
        {
          "output_type": "display_data",
          "data": {
            "image/png": "[encoded data removed]",
            "text/plain": [
              "<Figure size 1440x720 with 2 Axes>"
            ]
          },
          "metadata": {
            "needs_background": "light"
          }
        }
      ]
    },
    {
      "cell_type": "code",
      "metadata": {
        "colab": {
          "base_uri": "https://localhost:8080/"
        },
        "id": "gK2QxpTnE3rG",
        "outputId": "1ebc5aab-3787-4059-b044-1faac54b685e"
      },
      "source": [
        "# Check a cluster results\n",
        "clusters = data.groupby('labels')[['quotation', 'party']].agg(list)\n",
        "clusters.quotation.loc[5]"
      ],
      "execution_count": null,
      "outputs": [
        {
          "output_type": "execute_result",
          "data": {
            "text/plain": [
              "['and he is already a proven liar and leaker.',\n",
              " 'could be one of the single most unfair, unjust things to happen for a candidate for anything.',\n",
              " 'each one of them have their own personality whether it be a clown, or a couch potato, whether they just bounce off the walls.',\n",
              " 'has directly or indirectly produced tremendous legal and political peril for Trump,',\n",
              " \"If we don't get tough on the drug dealers, we're wasting or time. And that toughness includes the death penalty.\",\n",
              " 'Islamophobic, Turcophobic, xenophobic and racist.',\n",
              " \"John Brennan is panicking. He has disgraced himself, he has disgraced the Country, he has disgraced the entire Intelligence Community. He is the one man who is largely responsible for the destruction of American's faith in the Intelligence Community and in some people at the....\",\n",
              " 'Many aliens who illegally enter the United States and those who overstay... the terms of their visas present a significant threat to national security and public safety.',\n",
              " 'murder of AAP in Punjab',\n",
              " 'No anger can justify attacking a policeman or a gendarme, vandalizing a shop or a government building.',\n",
              " \"People who say the flash sale model is dead don't realize how much business is being transacted in this space by consumers,\",\n",
              " 'risk that haunts us -- of division, nationalism, inward-looking attitudes, the great fears that can make democracy to doubt itself.',\n",
              " \"The Democratic Party says Putin is a bloody dictator... I think Renzi [ Matteo Renzi, Italy's former prime minister ] isn't even worth a pinkie of the Russia president. What do you think?\",\n",
              " 'The euro is a huge inconvenience for our economy, for businesses, for exports. That much seems clear.',\n",
              " 'The horror of life in North Korea is so complete that citizens pay bribes to government officials to have themselves exported abroad as slaves. They would rather be slaves than live in North Korea.... Leaders imprison their people under the banner of tyranny, fascism and oppression...']"
            ]
          },
          "metadata": {},
          "execution_count": 37
        }
      ]
    },
    {
      "cell_type": "code",
      "metadata": {
        "colab": {
          "base_uri": "https://localhost:8080/"
        },
        "id": "rBNXgqU4WobH",
        "outputId": "a8784368-a0a3-4131-cb00-5d3e2daa63ef"
      },
      "source": [
        "# Get the parties interested in topic 3 \n",
        "Counter((map(lambda x: x[0][0], clusters.party.loc[5])))"
      ],
      "execution_count": null,
      "outputs": [
        {
          "output_type": "execute_result",
          "data": {
            "text/plain": [
              "Counter({'Conservative Party': 1,\n",
              "         'Free Democratic Party': 1,\n",
              "         'Indian National Congress': 1,\n",
              "         'Justice and Development Party': 1,\n",
              "         'La République En Marche': 2,\n",
              "         'Lega Nord': 1,\n",
              "         'National Rally': 1,\n",
              "         'Republican Party': 7})"
            ]
          },
          "metadata": {},
          "execution_count": 41
        }
      ]
    },
    {
      "cell_type": "code",
      "metadata": {
        "colab": {
          "base_uri": "https://localhost:8080/"
        },
        "id": "MLQqLW3fVTpy",
        "outputId": "78eb12ba-076d-4fd5-fe22-a560370675a7"
      },
      "source": [
        "# Get another cluster's quotes\n",
        "clusters.quotation.loc[0]"
      ],
      "execution_count": null,
      "outputs": [
        {
          "output_type": "execute_result",
          "data": {
            "text/plain": [
              "['After another day of voting in the Knesset, I would like to thank Dudi Amsalem, who is doing an excellent job as chairman of the coalition.',\n",
              " 'After they claimed the prime minister smoked one million shekels worth of cigars, here comes more hot air: Benefits worth a billion shekel,',\n",
              " 'bold and responsible plan. We believe it is the most well-researched, thoughtful state tax reform effort in America.',\n",
              " 'borrowing from the successful approach in Germany and other developed economies',\n",
              " \"China's per capita income is moving up from the current level of 8,000-plus to 10,000 U.S. dollars and even higher. At such a stage of development, China needs to put more emphasis on structural improvement rather than quantity expansion,\",\n",
              " 'DOE works closely with leaders in manufacturing to develop next generation technologies that will boost American job growth and strengthen domestic industries.',\n",
              " \"Everything's renting overall, but they're finding those areas more popular because they have the four bedroom homes being built in newer areas.\",\n",
              " 'huge demonstrations with hundreds of thousands of people on the streets in a very peaceful and calm way',\n",
              " 'I ran all commercial sales for Cumberland and the surrounding areas,',\n",
              " \"I would like to visit Nigeria. I'd like very much to visit Nigeria. It's an amazing country and in certain ways I heard from the standpoint of a beauty of a country, there's no country more beautiful, so I would like to,\",\n",
              " \"It's the purpose and intent of a safe consumption site to reduce the harm associated with drug use, including fatal overdoses,\",\n",
              " \"It's true, friends from several European countries are asking me to,\",\n",
              " 'March on Amazon! Tax Big Biz to Build Affordable Housing!',\n",
              " 'Maybe because on taxes, immigration, employment and healthcare he is keeping all the promises he made during his electoral campaign?',\n",
              " \"`Most people, 83 percent, are going to see no change or a decrease in their taxes,' said Jeffrey DeWitt, the city's chief financial officer. According to an analysis conducted by DeWitt's office of the 509-page tax law, 64 percent of D.C. taxpayers will see a decrease in their overall taxes, with the median decrease being $1,159, while 19 percent will see no change. Of the 17 percent that see a tax increase, it will be a median tax hike of $929.\",\n",
              " 'My appeal to the international community is to step up to the plate and to substantially increase the financial support to all those working in Bangladesh to protect and assist the Rohingya refugees,',\n",
              " \"My thoughts and prayers are with all of the victims involved in this morning's train collision in South Carolina. Thank you to our incredible First Responders for the work they've done!\",\n",
              " 'Oprah would be a lot of fun. I know her very well. I did one of her last shows... I like Oprah,',\n",
              " 'Our Country losses 250 Billion Dollars a year on illegal immigration, not including the terrible drug flow. Top Border Security, including a Wall, is $25 Billion. Pays for itself in two months.',\n",
              " 'paying for 90% of NATO.',\n",
              " \"President Donald Trump will travel to St. Louis in mid-March to host a high-dollar, invitation-only fundraiser with Republican U.S. Senate candidate Josh Hawley -- an event that could shore up more than just Hawley's campaign fund. Hawley, widely viewed as the front-runner for this year's GOP nomination to challenge Sen. Claire McCaskill, D-Mo., has faced talk lately of party dissatisfaction with his campaign, which some say has failed to catch fire. Chatter in Missouri and Washington has included the possibility of pulling U.S. Rep. Ann Wagner, R-Ballwin, into the race. An appearance by Trump at a Hawley event full of big-money donors presumably would tamp down such talk.\",\n",
              " \"So maybe the American president doesn't care about being isolated today but neither do we mind signing a six-country agreement if need be. Because these six represent values, they represent an economic market which has the weight of history behind it and which is now a true international force,\",\n",
              " 'The most important role that Germany has is to bring Europe together, not to divide it. But without Germany, this division would not exist.',\n",
              " 'The Sabah government will continue negotiating and discussing with the federal government to improve the development agenda in the state, as well as ensuring all rights and privileges through the Malaysia Agreement 1963 continue to be upheld,',\n",
              " \"the unity we need to deliver for the people we were elected to serve.' The conciliatory tone of Trump's first State of the Union address was sharply at odds with the combative manner in which he has conducted his presidency -- and with the tension evident between Republicans and Democrats in the Capitol, where he spoke.... The president set an ambitious agenda for his second year in office, from a $1.5 trillion plan to rebuild the nation's crumbling infrastructure to a four-pronged immigration package to a pledge to reduce prescription drug prices. His one-hour, 20-minute speech was the longest since Bill Clinton's State of the Union address in 2000.\",\n",
              " 'The usual custom is that when the results become apparent, Jane and I would head downtown to a hotel ballroom to be part of the Vermont Democratic Party gathering,',\n",
              " \"There is a penalty if Malaysia withdraws from the agreement. I am told it's almost RM500 million,\"]"
            ]
          },
          "metadata": {},
          "execution_count": 39
        }
      ]
    },
    {
      "cell_type": "code",
      "metadata": {
        "colab": {
          "base_uri": "https://localhost:8080/"
        },
        "id": "fFfMSBqrNDYB",
        "outputId": "a3b5b734-0688-48d8-f116-32f563cc00e1"
      },
      "source": [
        "# Get the parties interested in topic 1\n",
        "Counter((map(lambda x: x[0][0], clusters.party.loc[0])))"
      ],
      "execution_count": null,
      "outputs": [
        {
          "output_type": "execute_result",
          "data": {
            "text/plain": [
              "Counter({'Christian Democratic Union': 1,\n",
              "         'Communist Party of China': 1,\n",
              "         'Conservative Party': 1,\n",
              "         'Democratic Party': 2,\n",
              "         'Initiative for Catalonia Greens': 1,\n",
              "         'La République En Marche': 1,\n",
              "         'Lega Nord': 2,\n",
              "         'Likud': 2,\n",
              "         'Malaysian United Indigenous Party': 1,\n",
              "         'Republican Party': 10,\n",
              "         'Sabah Heritage Party': 1,\n",
              "         'Senate Liberal Caucus': 1,\n",
              "         'Socialist Alternative': 1,\n",
              "         'Socialist Party': 1,\n",
              "         'independent politician': 1})"
            ]
          },
          "metadata": {},
          "execution_count": 42
        }
      ]
    },
    {
      "cell_type": "markdown",
      "metadata": {
        "id": "Qxq4GDqkAmH4"
      },
      "source": [
        "**or another approach**\n"
      ]
    },
    {
      "cell_type": "code",
      "metadata": {
        "id": "o_LdLCIN0qKw"
      },
      "source": [
        "def clustering_question(data,NUM_CLUSTERS = 3):\n",
        "\n",
        "    sentences = data['quotation']\n",
        "\n",
        "    X = np.array(data['embeddings'].tolist())\n",
        "\n",
        "    kclusterer = KMeansClusterer(\n",
        "        NUM_CLUSTERS, distance=nltk.cluster.util.cosine_distance,\n",
        "        repeats=25,avoid_empty_clusters=True)\n",
        "\n",
        "    assigned_clusters = kclusterer.cluster(X, assign_clusters=True)\n",
        "\n",
        "    data['cluster'] = pd.Series(assigned_clusters, index=data.index)\n",
        "    data['centroid'] = data['cluster'].apply(lambda x: kclusterer.means()[x])\n",
        "\n",
        "    return data, assigned_clusters"
      ],
      "execution_count": null,
      "outputs": []
    },
    {
      "cell_type": "code",
      "metadata": {
        "id": "sMNROiGz0tYT"
      },
      "source": [
        "data['embeddings'] = sentence_embeddings.tolist()\n",
        "data, clusters = clustering_question(data)\n",
        "data.head(3)"
      ],
      "execution_count": null,
      "outputs": []
    },
    {
      "cell_type": "markdown",
      "metadata": {
        "id": "RnEiJbJsQW-j"
      },
      "source": [
        "## Suggestions\n",
        "\n",
        "*   Apply \"get_membership_party\" on yearly resulted dataframes\n",
        "\n",
        "*   Tune parameters for UMAP\n",
        "*   Tune parameters for HDBSCAN\n",
        "\n",
        "\n",
        "\n",
        "\n"
      ]
    },
    {
      "cell_type": "code",
      "metadata": {
        "id": "SpoSHjtBXNxK"
      },
      "source": [
        ""
      ],
      "execution_count": null,
      "outputs": []
    }
  ]
}