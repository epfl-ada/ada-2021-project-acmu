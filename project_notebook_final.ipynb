{
  "nbformat": 4,
  "nbformat_minor": 0,
  "metadata": {
    "colab": {
      "name": "project_notebook_Mihai (1).ipynb",
      "provenance": [],
      "collapsed_sections": []
    },
    "kernelspec": {
      "display_name": "Python 3",
      "name": "python3"
    },
    "language_info": {
      "name": "python"
    },
    "widgets": {
      "application/vnd.jupyter.widget-state+json": {
        "0bd6457098f34626a0081d3b50fe98ee": {
          "model_module": "@jupyter-widgets/controls",
          "model_name": "HBoxModel",
          "model_module_version": "1.5.0",
          "state": {
            "_view_name": "HBoxView",
            "_dom_classes": [],
            "_model_name": "HBoxModel",
            "_view_module": "@jupyter-widgets/controls",
            "_model_module_version": "1.5.0",
            "_view_count": null,
            "_view_module_version": "1.5.0",
            "box_style": "",
            "layout": "IPY_MODEL_95b3d1ebc7754399ab3975cad7708bc4",
            "_model_module": "@jupyter-widgets/controls",
            "children": [
              "IPY_MODEL_7a013db46acd4ae3a278ea5760275b79",
              "IPY_MODEL_7a93e353e8c4427b9537c78838add3f8",
              "IPY_MODEL_5d31f52fc8824d458a5029154a88f9b6"
            ]
          }
        },
        "95b3d1ebc7754399ab3975cad7708bc4": {
          "model_module": "@jupyter-widgets/base",
          "model_name": "LayoutModel",
          "model_module_version": "1.2.0",
          "state": {
            "_view_name": "LayoutView",
            "grid_template_rows": null,
            "right": null,
            "justify_content": null,
            "_view_module": "@jupyter-widgets/base",
            "overflow": null,
            "_model_module_version": "1.2.0",
            "_view_count": null,
            "flex_flow": null,
            "width": null,
            "min_width": null,
            "border": null,
            "align_items": null,
            "bottom": null,
            "_model_module": "@jupyter-widgets/base",
            "top": null,
            "grid_column": null,
            "overflow_y": null,
            "overflow_x": null,
            "grid_auto_flow": null,
            "grid_area": null,
            "grid_template_columns": null,
            "flex": null,
            "_model_name": "LayoutModel",
            "justify_items": null,
            "grid_row": null,
            "max_height": null,
            "align_content": null,
            "visibility": null,
            "align_self": null,
            "height": null,
            "min_height": null,
            "padding": null,
            "grid_auto_rows": null,
            "grid_gap": null,
            "max_width": null,
            "order": null,
            "_view_module_version": "1.2.0",
            "grid_template_areas": null,
            "object_position": null,
            "object_fit": null,
            "grid_auto_columns": null,
            "margin": null,
            "display": null,
            "left": null
          }
        },
        "7a013db46acd4ae3a278ea5760275b79": {
          "model_module": "@jupyter-widgets/controls",
          "model_name": "HTMLModel",
          "model_module_version": "1.5.0",
          "state": {
            "_view_name": "HTMLView",
            "style": "IPY_MODEL_4aabb2505d0f4e5d9dcd4c7f05688b3b",
            "_dom_classes": [],
            "description": "",
            "_model_name": "HTMLModel",
            "placeholder": "​",
            "_view_module": "@jupyter-widgets/controls",
            "_model_module_version": "1.5.0",
            "value": "Downloading: 100%",
            "_view_count": null,
            "_view_module_version": "1.5.0",
            "description_tooltip": null,
            "_model_module": "@jupyter-widgets/controls",
            "layout": "IPY_MODEL_d8538f78f08d4a26b2aa2a9a7c81e3c9"
          }
        },
        "7a93e353e8c4427b9537c78838add3f8": {
          "model_module": "@jupyter-widgets/controls",
          "model_name": "FloatProgressModel",
          "model_module_version": "1.5.0",
          "state": {
            "_view_name": "ProgressView",
            "style": "IPY_MODEL_270c457fae9d4dcd86db2017615c31cd",
            "_dom_classes": [],
            "description": "",
            "_model_name": "FloatProgressModel",
            "bar_style": "success",
            "max": 391,
            "_view_module": "@jupyter-widgets/controls",
            "_model_module_version": "1.5.0",
            "value": 391,
            "_view_count": null,
            "_view_module_version": "1.5.0",
            "orientation": "horizontal",
            "min": 0,
            "description_tooltip": null,
            "_model_module": "@jupyter-widgets/controls",
            "layout": "IPY_MODEL_2b28991f89714cf08c164f8abdf083a2"
          }
        },
        "5d31f52fc8824d458a5029154a88f9b6": {
          "model_module": "@jupyter-widgets/controls",
          "model_name": "HTMLModel",
          "model_module_version": "1.5.0",
          "state": {
            "_view_name": "HTMLView",
            "style": "IPY_MODEL_ec3a875a68384f9b941b7b525d7a44da",
            "_dom_classes": [],
            "description": "",
            "_model_name": "HTMLModel",
            "placeholder": "​",
            "_view_module": "@jupyter-widgets/controls",
            "_model_module_version": "1.5.0",
            "value": " 391/391 [00:00&lt;00:00, 9.01kB/s]",
            "_view_count": null,
            "_view_module_version": "1.5.0",
            "description_tooltip": null,
            "_model_module": "@jupyter-widgets/controls",
            "layout": "IPY_MODEL_b76771dd74934b25a7989a8720c5c274"
          }
        },
        "4aabb2505d0f4e5d9dcd4c7f05688b3b": {
          "model_module": "@jupyter-widgets/controls",
          "model_name": "DescriptionStyleModel",
          "model_module_version": "1.5.0",
          "state": {
            "_view_name": "StyleView",
            "_model_name": "DescriptionStyleModel",
            "description_width": "",
            "_view_module": "@jupyter-widgets/base",
            "_model_module_version": "1.5.0",
            "_view_count": null,
            "_view_module_version": "1.2.0",
            "_model_module": "@jupyter-widgets/controls"
          }
        },
        "d8538f78f08d4a26b2aa2a9a7c81e3c9": {
          "model_module": "@jupyter-widgets/base",
          "model_name": "LayoutModel",
          "model_module_version": "1.2.0",
          "state": {
            "_view_name": "LayoutView",
            "grid_template_rows": null,
            "right": null,
            "justify_content": null,
            "_view_module": "@jupyter-widgets/base",
            "overflow": null,
            "_model_module_version": "1.2.0",
            "_view_count": null,
            "flex_flow": null,
            "width": null,
            "min_width": null,
            "border": null,
            "align_items": null,
            "bottom": null,
            "_model_module": "@jupyter-widgets/base",
            "top": null,
            "grid_column": null,
            "overflow_y": null,
            "overflow_x": null,
            "grid_auto_flow": null,
            "grid_area": null,
            "grid_template_columns": null,
            "flex": null,
            "_model_name": "LayoutModel",
            "justify_items": null,
            "grid_row": null,
            "max_height": null,
            "align_content": null,
            "visibility": null,
            "align_self": null,
            "height": null,
            "min_height": null,
            "padding": null,
            "grid_auto_rows": null,
            "grid_gap": null,
            "max_width": null,
            "order": null,
            "_view_module_version": "1.2.0",
            "grid_template_areas": null,
            "object_position": null,
            "object_fit": null,
            "grid_auto_columns": null,
            "margin": null,
            "display": null,
            "left": null
          }
        },
        "270c457fae9d4dcd86db2017615c31cd": {
          "model_module": "@jupyter-widgets/controls",
          "model_name": "ProgressStyleModel",
          "model_module_version": "1.5.0",
          "state": {
            "_view_name": "StyleView",
            "_model_name": "ProgressStyleModel",
            "description_width": "",
            "_view_module": "@jupyter-widgets/base",
            "_model_module_version": "1.5.0",
            "_view_count": null,
            "_view_module_version": "1.2.0",
            "bar_color": null,
            "_model_module": "@jupyter-widgets/controls"
          }
        },
        "2b28991f89714cf08c164f8abdf083a2": {
          "model_module": "@jupyter-widgets/base",
          "model_name": "LayoutModel",
          "model_module_version": "1.2.0",
          "state": {
            "_view_name": "LayoutView",
            "grid_template_rows": null,
            "right": null,
            "justify_content": null,
            "_view_module": "@jupyter-widgets/base",
            "overflow": null,
            "_model_module_version": "1.2.0",
            "_view_count": null,
            "flex_flow": null,
            "width": null,
            "min_width": null,
            "border": null,
            "align_items": null,
            "bottom": null,
            "_model_module": "@jupyter-widgets/base",
            "top": null,
            "grid_column": null,
            "overflow_y": null,
            "overflow_x": null,
            "grid_auto_flow": null,
            "grid_area": null,
            "grid_template_columns": null,
            "flex": null,
            "_model_name": "LayoutModel",
            "justify_items": null,
            "grid_row": null,
            "max_height": null,
            "align_content": null,
            "visibility": null,
            "align_self": null,
            "height": null,
            "min_height": null,
            "padding": null,
            "grid_auto_rows": null,
            "grid_gap": null,
            "max_width": null,
            "order": null,
            "_view_module_version": "1.2.0",
            "grid_template_areas": null,
            "object_position": null,
            "object_fit": null,
            "grid_auto_columns": null,
            "margin": null,
            "display": null,
            "left": null
          }
        },
        "ec3a875a68384f9b941b7b525d7a44da": {
          "model_module": "@jupyter-widgets/controls",
          "model_name": "DescriptionStyleModel",
          "model_module_version": "1.5.0",
          "state": {
            "_view_name": "StyleView",
            "_model_name": "DescriptionStyleModel",
            "description_width": "",
            "_view_module": "@jupyter-widgets/base",
            "_model_module_version": "1.5.0",
            "_view_count": null,
            "_view_module_version": "1.2.0",
            "_model_module": "@jupyter-widgets/controls"
          }
        },
        "b76771dd74934b25a7989a8720c5c274": {
          "model_module": "@jupyter-widgets/base",
          "model_name": "LayoutModel",
          "model_module_version": "1.2.0",
          "state": {
            "_view_name": "LayoutView",
            "grid_template_rows": null,
            "right": null,
            "justify_content": null,
            "_view_module": "@jupyter-widgets/base",
            "overflow": null,
            "_model_module_version": "1.2.0",
            "_view_count": null,
            "flex_flow": null,
            "width": null,
            "min_width": null,
            "border": null,
            "align_items": null,
            "bottom": null,
            "_model_module": "@jupyter-widgets/base",
            "top": null,
            "grid_column": null,
            "overflow_y": null,
            "overflow_x": null,
            "grid_auto_flow": null,
            "grid_area": null,
            "grid_template_columns": null,
            "flex": null,
            "_model_name": "LayoutModel",
            "justify_items": null,
            "grid_row": null,
            "max_height": null,
            "align_content": null,
            "visibility": null,
            "align_self": null,
            "height": null,
            "min_height": null,
            "padding": null,
            "grid_auto_rows": null,
            "grid_gap": null,
            "max_width": null,
            "order": null,
            "_view_module_version": "1.2.0",
            "grid_template_areas": null,
            "object_position": null,
            "object_fit": null,
            "grid_auto_columns": null,
            "margin": null,
            "display": null,
            "left": null
          }
        },
        "96b97cac56a34ff5a357158bafc1d9ce": {
          "model_module": "@jupyter-widgets/controls",
          "model_name": "HBoxModel",
          "model_module_version": "1.5.0",
          "state": {
            "_view_name": "HBoxView",
            "_dom_classes": [],
            "_model_name": "HBoxModel",
            "_view_module": "@jupyter-widgets/controls",
            "_model_module_version": "1.5.0",
            "_view_count": null,
            "_view_module_version": "1.5.0",
            "box_style": "",
            "layout": "IPY_MODEL_171961d31e754456aeb2f706c1c5aaee",
            "_model_module": "@jupyter-widgets/controls",
            "children": [
              "IPY_MODEL_42357d8849f14743836ec1831a27cea2",
              "IPY_MODEL_09e5582a914c4077aef1ef0e515a0895",
              "IPY_MODEL_81acd487af644a66b4c37426028683a6"
            ]
          }
        },
        "171961d31e754456aeb2f706c1c5aaee": {
          "model_module": "@jupyter-widgets/base",
          "model_name": "LayoutModel",
          "model_module_version": "1.2.0",
          "state": {
            "_view_name": "LayoutView",
            "grid_template_rows": null,
            "right": null,
            "justify_content": null,
            "_view_module": "@jupyter-widgets/base",
            "overflow": null,
            "_model_module_version": "1.2.0",
            "_view_count": null,
            "flex_flow": null,
            "width": null,
            "min_width": null,
            "border": null,
            "align_items": null,
            "bottom": null,
            "_model_module": "@jupyter-widgets/base",
            "top": null,
            "grid_column": null,
            "overflow_y": null,
            "overflow_x": null,
            "grid_auto_flow": null,
            "grid_area": null,
            "grid_template_columns": null,
            "flex": null,
            "_model_name": "LayoutModel",
            "justify_items": null,
            "grid_row": null,
            "max_height": null,
            "align_content": null,
            "visibility": null,
            "align_self": null,
            "height": null,
            "min_height": null,
            "padding": null,
            "grid_auto_rows": null,
            "grid_gap": null,
            "max_width": null,
            "order": null,
            "_view_module_version": "1.2.0",
            "grid_template_areas": null,
            "object_position": null,
            "object_fit": null,
            "grid_auto_columns": null,
            "margin": null,
            "display": null,
            "left": null
          }
        },
        "42357d8849f14743836ec1831a27cea2": {
          "model_module": "@jupyter-widgets/controls",
          "model_name": "HTMLModel",
          "model_module_version": "1.5.0",
          "state": {
            "_view_name": "HTMLView",
            "style": "IPY_MODEL_6ab514ca32f74f4db974b028a81445f3",
            "_dom_classes": [],
            "description": "",
            "_model_name": "HTMLModel",
            "placeholder": "​",
            "_view_module": "@jupyter-widgets/controls",
            "_model_module_version": "1.5.0",
            "value": "Downloading: 100%",
            "_view_count": null,
            "_view_module_version": "1.5.0",
            "description_tooltip": null,
            "_model_module": "@jupyter-widgets/controls",
            "layout": "IPY_MODEL_b457cff40eb84a8e8182d455ee601e4e"
          }
        },
        "09e5582a914c4077aef1ef0e515a0895": {
          "model_module": "@jupyter-widgets/controls",
          "model_name": "FloatProgressModel",
          "model_module_version": "1.5.0",
          "state": {
            "_view_name": "ProgressView",
            "style": "IPY_MODEL_5ad4815b091c4af68d49ea92bb9e6801",
            "_dom_classes": [],
            "description": "",
            "_model_name": "FloatProgressModel",
            "bar_style": "success",
            "max": 3951,
            "_view_module": "@jupyter-widgets/controls",
            "_model_module_version": "1.5.0",
            "value": 3951,
            "_view_count": null,
            "_view_module_version": "1.5.0",
            "orientation": "horizontal",
            "min": 0,
            "description_tooltip": null,
            "_model_module": "@jupyter-widgets/controls",
            "layout": "IPY_MODEL_2bdbb91177674b4eb6dcdf2ba97514ac"
          }
        },
        "81acd487af644a66b4c37426028683a6": {
          "model_module": "@jupyter-widgets/controls",
          "model_name": "HTMLModel",
          "model_module_version": "1.5.0",
          "state": {
            "_view_name": "HTMLView",
            "style": "IPY_MODEL_799b7b868ab146a8a2ae45a78f8c04e4",
            "_dom_classes": [],
            "description": "",
            "_model_name": "HTMLModel",
            "placeholder": "​",
            "_view_module": "@jupyter-widgets/controls",
            "_model_module_version": "1.5.0",
            "value": " 3.95k/3.95k [00:00&lt;00:00, 74.5kB/s]",
            "_view_count": null,
            "_view_module_version": "1.5.0",
            "description_tooltip": null,
            "_model_module": "@jupyter-widgets/controls",
            "layout": "IPY_MODEL_c6e928cb29ab45af895f12fdd8d3d13a"
          }
        },
        "6ab514ca32f74f4db974b028a81445f3": {
          "model_module": "@jupyter-widgets/controls",
          "model_name": "DescriptionStyleModel",
          "model_module_version": "1.5.0",
          "state": {
            "_view_name": "StyleView",
            "_model_name": "DescriptionStyleModel",
            "description_width": "",
            "_view_module": "@jupyter-widgets/base",
            "_model_module_version": "1.5.0",
            "_view_count": null,
            "_view_module_version": "1.2.0",
            "_model_module": "@jupyter-widgets/controls"
          }
        },
        "b457cff40eb84a8e8182d455ee601e4e": {
          "model_module": "@jupyter-widgets/base",
          "model_name": "LayoutModel",
          "model_module_version": "1.2.0",
          "state": {
            "_view_name": "LayoutView",
            "grid_template_rows": null,
            "right": null,
            "justify_content": null,
            "_view_module": "@jupyter-widgets/base",
            "overflow": null,
            "_model_module_version": "1.2.0",
            "_view_count": null,
            "flex_flow": null,
            "width": null,
            "min_width": null,
            "border": null,
            "align_items": null,
            "bottom": null,
            "_model_module": "@jupyter-widgets/base",
            "top": null,
            "grid_column": null,
            "overflow_y": null,
            "overflow_x": null,
            "grid_auto_flow": null,
            "grid_area": null,
            "grid_template_columns": null,
            "flex": null,
            "_model_name": "LayoutModel",
            "justify_items": null,
            "grid_row": null,
            "max_height": null,
            "align_content": null,
            "visibility": null,
            "align_self": null,
            "height": null,
            "min_height": null,
            "padding": null,
            "grid_auto_rows": null,
            "grid_gap": null,
            "max_width": null,
            "order": null,
            "_view_module_version": "1.2.0",
            "grid_template_areas": null,
            "object_position": null,
            "object_fit": null,
            "grid_auto_columns": null,
            "margin": null,
            "display": null,
            "left": null
          }
        },
        "5ad4815b091c4af68d49ea92bb9e6801": {
          "model_module": "@jupyter-widgets/controls",
          "model_name": "ProgressStyleModel",
          "model_module_version": "1.5.0",
          "state": {
            "_view_name": "StyleView",
            "_model_name": "ProgressStyleModel",
            "description_width": "",
            "_view_module": "@jupyter-widgets/base",
            "_model_module_version": "1.5.0",
            "_view_count": null,
            "_view_module_version": "1.2.0",
            "bar_color": null,
            "_model_module": "@jupyter-widgets/controls"
          }
        },
        "2bdbb91177674b4eb6dcdf2ba97514ac": {
          "model_module": "@jupyter-widgets/base",
          "model_name": "LayoutModel",
          "model_module_version": "1.2.0",
          "state": {
            "_view_name": "LayoutView",
            "grid_template_rows": null,
            "right": null,
            "justify_content": null,
            "_view_module": "@jupyter-widgets/base",
            "overflow": null,
            "_model_module_version": "1.2.0",
            "_view_count": null,
            "flex_flow": null,
            "width": null,
            "min_width": null,
            "border": null,
            "align_items": null,
            "bottom": null,
            "_model_module": "@jupyter-widgets/base",
            "top": null,
            "grid_column": null,
            "overflow_y": null,
            "overflow_x": null,
            "grid_auto_flow": null,
            "grid_area": null,
            "grid_template_columns": null,
            "flex": null,
            "_model_name": "LayoutModel",
            "justify_items": null,
            "grid_row": null,
            "max_height": null,
            "align_content": null,
            "visibility": null,
            "align_self": null,
            "height": null,
            "min_height": null,
            "padding": null,
            "grid_auto_rows": null,
            "grid_gap": null,
            "max_width": null,
            "order": null,
            "_view_module_version": "1.2.0",
            "grid_template_areas": null,
            "object_position": null,
            "object_fit": null,
            "grid_auto_columns": null,
            "margin": null,
            "display": null,
            "left": null
          }
        },
        "799b7b868ab146a8a2ae45a78f8c04e4": {
          "model_module": "@jupyter-widgets/controls",
          "model_name": "DescriptionStyleModel",
          "model_module_version": "1.5.0",
          "state": {
            "_view_name": "StyleView",
            "_model_name": "DescriptionStyleModel",
            "description_width": "",
            "_view_module": "@jupyter-widgets/base",
            "_model_module_version": "1.5.0",
            "_view_count": null,
            "_view_module_version": "1.2.0",
            "_model_module": "@jupyter-widgets/controls"
          }
        },
        "c6e928cb29ab45af895f12fdd8d3d13a": {
          "model_module": "@jupyter-widgets/base",
          "model_name": "LayoutModel",
          "model_module_version": "1.2.0",
          "state": {
            "_view_name": "LayoutView",
            "grid_template_rows": null,
            "right": null,
            "justify_content": null,
            "_view_module": "@jupyter-widgets/base",
            "overflow": null,
            "_model_module_version": "1.2.0",
            "_view_count": null,
            "flex_flow": null,
            "width": null,
            "min_width": null,
            "border": null,
            "align_items": null,
            "bottom": null,
            "_model_module": "@jupyter-widgets/base",
            "top": null,
            "grid_column": null,
            "overflow_y": null,
            "overflow_x": null,
            "grid_auto_flow": null,
            "grid_area": null,
            "grid_template_columns": null,
            "flex": null,
            "_model_name": "LayoutModel",
            "justify_items": null,
            "grid_row": null,
            "max_height": null,
            "align_content": null,
            "visibility": null,
            "align_self": null,
            "height": null,
            "min_height": null,
            "padding": null,
            "grid_auto_rows": null,
            "grid_gap": null,
            "max_width": null,
            "order": null,
            "_view_module_version": "1.2.0",
            "grid_template_areas": null,
            "object_position": null,
            "object_fit": null,
            "grid_auto_columns": null,
            "margin": null,
            "display": null,
            "left": null
          }
        },
        "2c4e59ef11574385924a806d05df6293": {
          "model_module": "@jupyter-widgets/controls",
          "model_name": "HBoxModel",
          "model_module_version": "1.5.0",
          "state": {
            "_view_name": "HBoxView",
            "_dom_classes": [],
            "_model_name": "HBoxModel",
            "_view_module": "@jupyter-widgets/controls",
            "_model_module_version": "1.5.0",
            "_view_count": null,
            "_view_module_version": "1.5.0",
            "box_style": "",
            "layout": "IPY_MODEL_bb10fa63545b4d0886b1dd064a178b05",
            "_model_module": "@jupyter-widgets/controls",
            "children": [
              "IPY_MODEL_103a10caaa8548229963364ec14ab87c",
              "IPY_MODEL_80d0cbb2c2fb413aa219b9d87bfff3e6",
              "IPY_MODEL_2d4a40de0e844ef2982be43a836ecf0e"
            ]
          }
        },
        "bb10fa63545b4d0886b1dd064a178b05": {
          "model_module": "@jupyter-widgets/base",
          "model_name": "LayoutModel",
          "model_module_version": "1.2.0",
          "state": {
            "_view_name": "LayoutView",
            "grid_template_rows": null,
            "right": null,
            "justify_content": null,
            "_view_module": "@jupyter-widgets/base",
            "overflow": null,
            "_model_module_version": "1.2.0",
            "_view_count": null,
            "flex_flow": null,
            "width": null,
            "min_width": null,
            "border": null,
            "align_items": null,
            "bottom": null,
            "_model_module": "@jupyter-widgets/base",
            "top": null,
            "grid_column": null,
            "overflow_y": null,
            "overflow_x": null,
            "grid_auto_flow": null,
            "grid_area": null,
            "grid_template_columns": null,
            "flex": null,
            "_model_name": "LayoutModel",
            "justify_items": null,
            "grid_row": null,
            "max_height": null,
            "align_content": null,
            "visibility": null,
            "align_self": null,
            "height": null,
            "min_height": null,
            "padding": null,
            "grid_auto_rows": null,
            "grid_gap": null,
            "max_width": null,
            "order": null,
            "_view_module_version": "1.2.0",
            "grid_template_areas": null,
            "object_position": null,
            "object_fit": null,
            "grid_auto_columns": null,
            "margin": null,
            "display": null,
            "left": null
          }
        },
        "103a10caaa8548229963364ec14ab87c": {
          "model_module": "@jupyter-widgets/controls",
          "model_name": "HTMLModel",
          "model_module_version": "1.5.0",
          "state": {
            "_view_name": "HTMLView",
            "style": "IPY_MODEL_3b554c0a1c6f4e7f8b4c8a3f351d2ce6",
            "_dom_classes": [],
            "description": "",
            "_model_name": "HTMLModel",
            "placeholder": "​",
            "_view_module": "@jupyter-widgets/controls",
            "_model_module_version": "1.5.0",
            "value": "Downloading: 100%",
            "_view_count": null,
            "_view_module_version": "1.5.0",
            "description_tooltip": null,
            "_model_module": "@jupyter-widgets/controls",
            "layout": "IPY_MODEL_71ae283b85fa481ba473a749d6e0f593"
          }
        },
        "80d0cbb2c2fb413aa219b9d87bfff3e6": {
          "model_module": "@jupyter-widgets/controls",
          "model_name": "FloatProgressModel",
          "model_module_version": "1.5.0",
          "state": {
            "_view_name": "ProgressView",
            "style": "IPY_MODEL_cd191686d3a946ff823ceba702a8133c",
            "_dom_classes": [],
            "description": "",
            "_model_name": "FloatProgressModel",
            "bar_style": "success",
            "max": 2,
            "_view_module": "@jupyter-widgets/controls",
            "_model_module_version": "1.5.0",
            "value": 2,
            "_view_count": null,
            "_view_module_version": "1.5.0",
            "orientation": "horizontal",
            "min": 0,
            "description_tooltip": null,
            "_model_module": "@jupyter-widgets/controls",
            "layout": "IPY_MODEL_b208891e30bc4c1c84b01d330dd4dd67"
          }
        },
        "2d4a40de0e844ef2982be43a836ecf0e": {
          "model_module": "@jupyter-widgets/controls",
          "model_name": "HTMLModel",
          "model_module_version": "1.5.0",
          "state": {
            "_view_name": "HTMLView",
            "style": "IPY_MODEL_eb8b03ef2d1b477d91e5324c1e770b56",
            "_dom_classes": [],
            "description": "",
            "_model_name": "HTMLModel",
            "placeholder": "​",
            "_view_module": "@jupyter-widgets/controls",
            "_model_module_version": "1.5.0",
            "value": " 2.00/2.00 [00:00&lt;00:00, 43.9B/s]",
            "_view_count": null,
            "_view_module_version": "1.5.0",
            "description_tooltip": null,
            "_model_module": "@jupyter-widgets/controls",
            "layout": "IPY_MODEL_5c51f9d74e6842be99971f74ba726a99"
          }
        },
        "3b554c0a1c6f4e7f8b4c8a3f351d2ce6": {
          "model_module": "@jupyter-widgets/controls",
          "model_name": "DescriptionStyleModel",
          "model_module_version": "1.5.0",
          "state": {
            "_view_name": "StyleView",
            "_model_name": "DescriptionStyleModel",
            "description_width": "",
            "_view_module": "@jupyter-widgets/base",
            "_model_module_version": "1.5.0",
            "_view_count": null,
            "_view_module_version": "1.2.0",
            "_model_module": "@jupyter-widgets/controls"
          }
        },
        "71ae283b85fa481ba473a749d6e0f593": {
          "model_module": "@jupyter-widgets/base",
          "model_name": "LayoutModel",
          "model_module_version": "1.2.0",
          "state": {
            "_view_name": "LayoutView",
            "grid_template_rows": null,
            "right": null,
            "justify_content": null,
            "_view_module": "@jupyter-widgets/base",
            "overflow": null,
            "_model_module_version": "1.2.0",
            "_view_count": null,
            "flex_flow": null,
            "width": null,
            "min_width": null,
            "border": null,
            "align_items": null,
            "bottom": null,
            "_model_module": "@jupyter-widgets/base",
            "top": null,
            "grid_column": null,
            "overflow_y": null,
            "overflow_x": null,
            "grid_auto_flow": null,
            "grid_area": null,
            "grid_template_columns": null,
            "flex": null,
            "_model_name": "LayoutModel",
            "justify_items": null,
            "grid_row": null,
            "max_height": null,
            "align_content": null,
            "visibility": null,
            "align_self": null,
            "height": null,
            "min_height": null,
            "padding": null,
            "grid_auto_rows": null,
            "grid_gap": null,
            "max_width": null,
            "order": null,
            "_view_module_version": "1.2.0",
            "grid_template_areas": null,
            "object_position": null,
            "object_fit": null,
            "grid_auto_columns": null,
            "margin": null,
            "display": null,
            "left": null
          }
        },
        "cd191686d3a946ff823ceba702a8133c": {
          "model_module": "@jupyter-widgets/controls",
          "model_name": "ProgressStyleModel",
          "model_module_version": "1.5.0",
          "state": {
            "_view_name": "StyleView",
            "_model_name": "ProgressStyleModel",
            "description_width": "",
            "_view_module": "@jupyter-widgets/base",
            "_model_module_version": "1.5.0",
            "_view_count": null,
            "_view_module_version": "1.2.0",
            "bar_color": null,
            "_model_module": "@jupyter-widgets/controls"
          }
        },
        "b208891e30bc4c1c84b01d330dd4dd67": {
          "model_module": "@jupyter-widgets/base",
          "model_name": "LayoutModel",
          "model_module_version": "1.2.0",
          "state": {
            "_view_name": "LayoutView",
            "grid_template_rows": null,
            "right": null,
            "justify_content": null,
            "_view_module": "@jupyter-widgets/base",
            "overflow": null,
            "_model_module_version": "1.2.0",
            "_view_count": null,
            "flex_flow": null,
            "width": null,
            "min_width": null,
            "border": null,
            "align_items": null,
            "bottom": null,
            "_model_module": "@jupyter-widgets/base",
            "top": null,
            "grid_column": null,
            "overflow_y": null,
            "overflow_x": null,
            "grid_auto_flow": null,
            "grid_area": null,
            "grid_template_columns": null,
            "flex": null,
            "_model_name": "LayoutModel",
            "justify_items": null,
            "grid_row": null,
            "max_height": null,
            "align_content": null,
            "visibility": null,
            "align_self": null,
            "height": null,
            "min_height": null,
            "padding": null,
            "grid_auto_rows": null,
            "grid_gap": null,
            "max_width": null,
            "order": null,
            "_view_module_version": "1.2.0",
            "grid_template_areas": null,
            "object_position": null,
            "object_fit": null,
            "grid_auto_columns": null,
            "margin": null,
            "display": null,
            "left": null
          }
        },
        "eb8b03ef2d1b477d91e5324c1e770b56": {
          "model_module": "@jupyter-widgets/controls",
          "model_name": "DescriptionStyleModel",
          "model_module_version": "1.5.0",
          "state": {
            "_view_name": "StyleView",
            "_model_name": "DescriptionStyleModel",
            "description_width": "",
            "_view_module": "@jupyter-widgets/base",
            "_model_module_version": "1.5.0",
            "_view_count": null,
            "_view_module_version": "1.2.0",
            "_model_module": "@jupyter-widgets/controls"
          }
        },
        "5c51f9d74e6842be99971f74ba726a99": {
          "model_module": "@jupyter-widgets/base",
          "model_name": "LayoutModel",
          "model_module_version": "1.2.0",
          "state": {
            "_view_name": "LayoutView",
            "grid_template_rows": null,
            "right": null,
            "justify_content": null,
            "_view_module": "@jupyter-widgets/base",
            "overflow": null,
            "_model_module_version": "1.2.0",
            "_view_count": null,
            "flex_flow": null,
            "width": null,
            "min_width": null,
            "border": null,
            "align_items": null,
            "bottom": null,
            "_model_module": "@jupyter-widgets/base",
            "top": null,
            "grid_column": null,
            "overflow_y": null,
            "overflow_x": null,
            "grid_auto_flow": null,
            "grid_area": null,
            "grid_template_columns": null,
            "flex": null,
            "_model_name": "LayoutModel",
            "justify_items": null,
            "grid_row": null,
            "max_height": null,
            "align_content": null,
            "visibility": null,
            "align_self": null,
            "height": null,
            "min_height": null,
            "padding": null,
            "grid_auto_rows": null,
            "grid_gap": null,
            "max_width": null,
            "order": null,
            "_view_module_version": "1.2.0",
            "grid_template_areas": null,
            "object_position": null,
            "object_fit": null,
            "grid_auto_columns": null,
            "margin": null,
            "display": null,
            "left": null
          }
        },
        "c7ab8bab1a32486abc949ba7e43de62a": {
          "model_module": "@jupyter-widgets/controls",
          "model_name": "HBoxModel",
          "model_module_version": "1.5.0",
          "state": {
            "_view_name": "HBoxView",
            "_dom_classes": [],
            "_model_name": "HBoxModel",
            "_view_module": "@jupyter-widgets/controls",
            "_model_module_version": "1.5.0",
            "_view_count": null,
            "_view_module_version": "1.5.0",
            "box_style": "",
            "layout": "IPY_MODEL_5a67f7afa6b64f7599b5d8ee42d18f68",
            "_model_module": "@jupyter-widgets/controls",
            "children": [
              "IPY_MODEL_75c5e8788cee4dbfb56009f2480ac3a6",
              "IPY_MODEL_453686412194400cbf6af9468a72de6a",
              "IPY_MODEL_39dc2bde81fc468cb51abcf9ef28392d"
            ]
          }
        },
        "5a67f7afa6b64f7599b5d8ee42d18f68": {
          "model_module": "@jupyter-widgets/base",
          "model_name": "LayoutModel",
          "model_module_version": "1.2.0",
          "state": {
            "_view_name": "LayoutView",
            "grid_template_rows": null,
            "right": null,
            "justify_content": null,
            "_view_module": "@jupyter-widgets/base",
            "overflow": null,
            "_model_module_version": "1.2.0",
            "_view_count": null,
            "flex_flow": null,
            "width": null,
            "min_width": null,
            "border": null,
            "align_items": null,
            "bottom": null,
            "_model_module": "@jupyter-widgets/base",
            "top": null,
            "grid_column": null,
            "overflow_y": null,
            "overflow_x": null,
            "grid_auto_flow": null,
            "grid_area": null,
            "grid_template_columns": null,
            "flex": null,
            "_model_name": "LayoutModel",
            "justify_items": null,
            "grid_row": null,
            "max_height": null,
            "align_content": null,
            "visibility": null,
            "align_self": null,
            "height": null,
            "min_height": null,
            "padding": null,
            "grid_auto_rows": null,
            "grid_gap": null,
            "max_width": null,
            "order": null,
            "_view_module_version": "1.2.0",
            "grid_template_areas": null,
            "object_position": null,
            "object_fit": null,
            "grid_auto_columns": null,
            "margin": null,
            "display": null,
            "left": null
          }
        },
        "75c5e8788cee4dbfb56009f2480ac3a6": {
          "model_module": "@jupyter-widgets/controls",
          "model_name": "HTMLModel",
          "model_module_version": "1.5.0",
          "state": {
            "_view_name": "HTMLView",
            "style": "IPY_MODEL_b69025db7dbe473486b76a7113a66d45",
            "_dom_classes": [],
            "description": "",
            "_model_name": "HTMLModel",
            "placeholder": "​",
            "_view_module": "@jupyter-widgets/controls",
            "_model_module_version": "1.5.0",
            "value": "Downloading: 100%",
            "_view_count": null,
            "_view_module_version": "1.5.0",
            "description_tooltip": null,
            "_model_module": "@jupyter-widgets/controls",
            "layout": "IPY_MODEL_a056c77d1aa94b2582ae6caae6a72d5b"
          }
        },
        "453686412194400cbf6af9468a72de6a": {
          "model_module": "@jupyter-widgets/controls",
          "model_name": "FloatProgressModel",
          "model_module_version": "1.5.0",
          "state": {
            "_view_name": "ProgressView",
            "style": "IPY_MODEL_479a7ce1ae71487ab46460c8a8acbf9c",
            "_dom_classes": [],
            "description": "",
            "_model_name": "FloatProgressModel",
            "bar_style": "success",
            "max": 625,
            "_view_module": "@jupyter-widgets/controls",
            "_model_module_version": "1.5.0",
            "value": 625,
            "_view_count": null,
            "_view_module_version": "1.5.0",
            "orientation": "horizontal",
            "min": 0,
            "description_tooltip": null,
            "_model_module": "@jupyter-widgets/controls",
            "layout": "IPY_MODEL_cea8d2e3ff0b4bec83fd1563af406668"
          }
        },
        "39dc2bde81fc468cb51abcf9ef28392d": {
          "model_module": "@jupyter-widgets/controls",
          "model_name": "HTMLModel",
          "model_module_version": "1.5.0",
          "state": {
            "_view_name": "HTMLView",
            "style": "IPY_MODEL_09b6041d17b44f8a99349cf54076619b",
            "_dom_classes": [],
            "description": "",
            "_model_name": "HTMLModel",
            "placeholder": "​",
            "_view_module": "@jupyter-widgets/controls",
            "_model_module_version": "1.5.0",
            "value": " 625/625 [00:00&lt;00:00, 18.0kB/s]",
            "_view_count": null,
            "_view_module_version": "1.5.0",
            "description_tooltip": null,
            "_model_module": "@jupyter-widgets/controls",
            "layout": "IPY_MODEL_f6dd55bcea97486b90297695d580693b"
          }
        },
        "b69025db7dbe473486b76a7113a66d45": {
          "model_module": "@jupyter-widgets/controls",
          "model_name": "DescriptionStyleModel",
          "model_module_version": "1.5.0",
          "state": {
            "_view_name": "StyleView",
            "_model_name": "DescriptionStyleModel",
            "description_width": "",
            "_view_module": "@jupyter-widgets/base",
            "_model_module_version": "1.5.0",
            "_view_count": null,
            "_view_module_version": "1.2.0",
            "_model_module": "@jupyter-widgets/controls"
          }
        },
        "a056c77d1aa94b2582ae6caae6a72d5b": {
          "model_module": "@jupyter-widgets/base",
          "model_name": "LayoutModel",
          "model_module_version": "1.2.0",
          "state": {
            "_view_name": "LayoutView",
            "grid_template_rows": null,
            "right": null,
            "justify_content": null,
            "_view_module": "@jupyter-widgets/base",
            "overflow": null,
            "_model_module_version": "1.2.0",
            "_view_count": null,
            "flex_flow": null,
            "width": null,
            "min_width": null,
            "border": null,
            "align_items": null,
            "bottom": null,
            "_model_module": "@jupyter-widgets/base",
            "top": null,
            "grid_column": null,
            "overflow_y": null,
            "overflow_x": null,
            "grid_auto_flow": null,
            "grid_area": null,
            "grid_template_columns": null,
            "flex": null,
            "_model_name": "LayoutModel",
            "justify_items": null,
            "grid_row": null,
            "max_height": null,
            "align_content": null,
            "visibility": null,
            "align_self": null,
            "height": null,
            "min_height": null,
            "padding": null,
            "grid_auto_rows": null,
            "grid_gap": null,
            "max_width": null,
            "order": null,
            "_view_module_version": "1.2.0",
            "grid_template_areas": null,
            "object_position": null,
            "object_fit": null,
            "grid_auto_columns": null,
            "margin": null,
            "display": null,
            "left": null
          }
        },
        "479a7ce1ae71487ab46460c8a8acbf9c": {
          "model_module": "@jupyter-widgets/controls",
          "model_name": "ProgressStyleModel",
          "model_module_version": "1.5.0",
          "state": {
            "_view_name": "StyleView",
            "_model_name": "ProgressStyleModel",
            "description_width": "",
            "_view_module": "@jupyter-widgets/base",
            "_model_module_version": "1.5.0",
            "_view_count": null,
            "_view_module_version": "1.2.0",
            "bar_color": null,
            "_model_module": "@jupyter-widgets/controls"
          }
        },
        "cea8d2e3ff0b4bec83fd1563af406668": {
          "model_module": "@jupyter-widgets/base",
          "model_name": "LayoutModel",
          "model_module_version": "1.2.0",
          "state": {
            "_view_name": "LayoutView",
            "grid_template_rows": null,
            "right": null,
            "justify_content": null,
            "_view_module": "@jupyter-widgets/base",
            "overflow": null,
            "_model_module_version": "1.2.0",
            "_view_count": null,
            "flex_flow": null,
            "width": null,
            "min_width": null,
            "border": null,
            "align_items": null,
            "bottom": null,
            "_model_module": "@jupyter-widgets/base",
            "top": null,
            "grid_column": null,
            "overflow_y": null,
            "overflow_x": null,
            "grid_auto_flow": null,
            "grid_area": null,
            "grid_template_columns": null,
            "flex": null,
            "_model_name": "LayoutModel",
            "justify_items": null,
            "grid_row": null,
            "max_height": null,
            "align_content": null,
            "visibility": null,
            "align_self": null,
            "height": null,
            "min_height": null,
            "padding": null,
            "grid_auto_rows": null,
            "grid_gap": null,
            "max_width": null,
            "order": null,
            "_view_module_version": "1.2.0",
            "grid_template_areas": null,
            "object_position": null,
            "object_fit": null,
            "grid_auto_columns": null,
            "margin": null,
            "display": null,
            "left": null
          }
        },
        "09b6041d17b44f8a99349cf54076619b": {
          "model_module": "@jupyter-widgets/controls",
          "model_name": "DescriptionStyleModel",
          "model_module_version": "1.5.0",
          "state": {
            "_view_name": "StyleView",
            "_model_name": "DescriptionStyleModel",
            "description_width": "",
            "_view_module": "@jupyter-widgets/base",
            "_model_module_version": "1.5.0",
            "_view_count": null,
            "_view_module_version": "1.2.0",
            "_model_module": "@jupyter-widgets/controls"
          }
        },
        "f6dd55bcea97486b90297695d580693b": {
          "model_module": "@jupyter-widgets/base",
          "model_name": "LayoutModel",
          "model_module_version": "1.2.0",
          "state": {
            "_view_name": "LayoutView",
            "grid_template_rows": null,
            "right": null,
            "justify_content": null,
            "_view_module": "@jupyter-widgets/base",
            "overflow": null,
            "_model_module_version": "1.2.0",
            "_view_count": null,
            "flex_flow": null,
            "width": null,
            "min_width": null,
            "border": null,
            "align_items": null,
            "bottom": null,
            "_model_module": "@jupyter-widgets/base",
            "top": null,
            "grid_column": null,
            "overflow_y": null,
            "overflow_x": null,
            "grid_auto_flow": null,
            "grid_area": null,
            "grid_template_columns": null,
            "flex": null,
            "_model_name": "LayoutModel",
            "justify_items": null,
            "grid_row": null,
            "max_height": null,
            "align_content": null,
            "visibility": null,
            "align_self": null,
            "height": null,
            "min_height": null,
            "padding": null,
            "grid_auto_rows": null,
            "grid_gap": null,
            "max_width": null,
            "order": null,
            "_view_module_version": "1.2.0",
            "grid_template_areas": null,
            "object_position": null,
            "object_fit": null,
            "grid_auto_columns": null,
            "margin": null,
            "display": null,
            "left": null
          }
        },
        "482b978197ff48fc89a5ec92ec877eb1": {
          "model_module": "@jupyter-widgets/controls",
          "model_name": "HBoxModel",
          "model_module_version": "1.5.0",
          "state": {
            "_view_name": "HBoxView",
            "_dom_classes": [],
            "_model_name": "HBoxModel",
            "_view_module": "@jupyter-widgets/controls",
            "_model_module_version": "1.5.0",
            "_view_count": null,
            "_view_module_version": "1.5.0",
            "box_style": "",
            "layout": "IPY_MODEL_249cc853de18436788a9c6598c8e335e",
            "_model_module": "@jupyter-widgets/controls",
            "children": [
              "IPY_MODEL_fffa949bcf83443093d517abd1e836e6",
              "IPY_MODEL_6683d7c31a574e89ba562d2a8ceb3074",
              "IPY_MODEL_ed16912dbca0459fb270752fc33779a1"
            ]
          }
        },
        "249cc853de18436788a9c6598c8e335e": {
          "model_module": "@jupyter-widgets/base",
          "model_name": "LayoutModel",
          "model_module_version": "1.2.0",
          "state": {
            "_view_name": "LayoutView",
            "grid_template_rows": null,
            "right": null,
            "justify_content": null,
            "_view_module": "@jupyter-widgets/base",
            "overflow": null,
            "_model_module_version": "1.2.0",
            "_view_count": null,
            "flex_flow": null,
            "width": null,
            "min_width": null,
            "border": null,
            "align_items": null,
            "bottom": null,
            "_model_module": "@jupyter-widgets/base",
            "top": null,
            "grid_column": null,
            "overflow_y": null,
            "overflow_x": null,
            "grid_auto_flow": null,
            "grid_area": null,
            "grid_template_columns": null,
            "flex": null,
            "_model_name": "LayoutModel",
            "justify_items": null,
            "grid_row": null,
            "max_height": null,
            "align_content": null,
            "visibility": null,
            "align_self": null,
            "height": null,
            "min_height": null,
            "padding": null,
            "grid_auto_rows": null,
            "grid_gap": null,
            "max_width": null,
            "order": null,
            "_view_module_version": "1.2.0",
            "grid_template_areas": null,
            "object_position": null,
            "object_fit": null,
            "grid_auto_columns": null,
            "margin": null,
            "display": null,
            "left": null
          }
        },
        "fffa949bcf83443093d517abd1e836e6": {
          "model_module": "@jupyter-widgets/controls",
          "model_name": "HTMLModel",
          "model_module_version": "1.5.0",
          "state": {
            "_view_name": "HTMLView",
            "style": "IPY_MODEL_7830315b30b4434daf1a062bbd8429a7",
            "_dom_classes": [],
            "description": "",
            "_model_name": "HTMLModel",
            "placeholder": "​",
            "_view_module": "@jupyter-widgets/controls",
            "_model_module_version": "1.5.0",
            "value": "Downloading: 100%",
            "_view_count": null,
            "_view_module_version": "1.5.0",
            "description_tooltip": null,
            "_model_module": "@jupyter-widgets/controls",
            "layout": "IPY_MODEL_7f1001e3631d4f1a93c49637d148a176"
          }
        },
        "6683d7c31a574e89ba562d2a8ceb3074": {
          "model_module": "@jupyter-widgets/controls",
          "model_name": "FloatProgressModel",
          "model_module_version": "1.5.0",
          "state": {
            "_view_name": "ProgressView",
            "style": "IPY_MODEL_9a7f4269d9f24d07a2e0f5478a02c933",
            "_dom_classes": [],
            "description": "",
            "_model_name": "FloatProgressModel",
            "bar_style": "success",
            "max": 122,
            "_view_module": "@jupyter-widgets/controls",
            "_model_module_version": "1.5.0",
            "value": 122,
            "_view_count": null,
            "_view_module_version": "1.5.0",
            "orientation": "horizontal",
            "min": 0,
            "description_tooltip": null,
            "_model_module": "@jupyter-widgets/controls",
            "layout": "IPY_MODEL_bbf3c18ed97b47458ed66f7f86257604"
          }
        },
        "ed16912dbca0459fb270752fc33779a1": {
          "model_module": "@jupyter-widgets/controls",
          "model_name": "HTMLModel",
          "model_module_version": "1.5.0",
          "state": {
            "_view_name": "HTMLView",
            "style": "IPY_MODEL_a32bb3954bca4f028a7f4697e0641847",
            "_dom_classes": [],
            "description": "",
            "_model_name": "HTMLModel",
            "placeholder": "​",
            "_view_module": "@jupyter-widgets/controls",
            "_model_module_version": "1.5.0",
            "value": " 122/122 [00:00&lt;00:00, 3.23kB/s]",
            "_view_count": null,
            "_view_module_version": "1.5.0",
            "description_tooltip": null,
            "_model_module": "@jupyter-widgets/controls",
            "layout": "IPY_MODEL_3d7da088ac5245db86749efc810eca7e"
          }
        },
        "7830315b30b4434daf1a062bbd8429a7": {
          "model_module": "@jupyter-widgets/controls",
          "model_name": "DescriptionStyleModel",
          "model_module_version": "1.5.0",
          "state": {
            "_view_name": "StyleView",
            "_model_name": "DescriptionStyleModel",
            "description_width": "",
            "_view_module": "@jupyter-widgets/base",
            "_model_module_version": "1.5.0",
            "_view_count": null,
            "_view_module_version": "1.2.0",
            "_model_module": "@jupyter-widgets/controls"
          }
        },
        "7f1001e3631d4f1a93c49637d148a176": {
          "model_module": "@jupyter-widgets/base",
          "model_name": "LayoutModel",
          "model_module_version": "1.2.0",
          "state": {
            "_view_name": "LayoutView",
            "grid_template_rows": null,
            "right": null,
            "justify_content": null,
            "_view_module": "@jupyter-widgets/base",
            "overflow": null,
            "_model_module_version": "1.2.0",
            "_view_count": null,
            "flex_flow": null,
            "width": null,
            "min_width": null,
            "border": null,
            "align_items": null,
            "bottom": null,
            "_model_module": "@jupyter-widgets/base",
            "top": null,
            "grid_column": null,
            "overflow_y": null,
            "overflow_x": null,
            "grid_auto_flow": null,
            "grid_area": null,
            "grid_template_columns": null,
            "flex": null,
            "_model_name": "LayoutModel",
            "justify_items": null,
            "grid_row": null,
            "max_height": null,
            "align_content": null,
            "visibility": null,
            "align_self": null,
            "height": null,
            "min_height": null,
            "padding": null,
            "grid_auto_rows": null,
            "grid_gap": null,
            "max_width": null,
            "order": null,
            "_view_module_version": "1.2.0",
            "grid_template_areas": null,
            "object_position": null,
            "object_fit": null,
            "grid_auto_columns": null,
            "margin": null,
            "display": null,
            "left": null
          }
        },
        "9a7f4269d9f24d07a2e0f5478a02c933": {
          "model_module": "@jupyter-widgets/controls",
          "model_name": "ProgressStyleModel",
          "model_module_version": "1.5.0",
          "state": {
            "_view_name": "StyleView",
            "_model_name": "ProgressStyleModel",
            "description_width": "",
            "_view_module": "@jupyter-widgets/base",
            "_model_module_version": "1.5.0",
            "_view_count": null,
            "_view_module_version": "1.2.0",
            "bar_color": null,
            "_model_module": "@jupyter-widgets/controls"
          }
        },
        "bbf3c18ed97b47458ed66f7f86257604": {
          "model_module": "@jupyter-widgets/base",
          "model_name": "LayoutModel",
          "model_module_version": "1.2.0",
          "state": {
            "_view_name": "LayoutView",
            "grid_template_rows": null,
            "right": null,
            "justify_content": null,
            "_view_module": "@jupyter-widgets/base",
            "overflow": null,
            "_model_module_version": "1.2.0",
            "_view_count": null,
            "flex_flow": null,
            "width": null,
            "min_width": null,
            "border": null,
            "align_items": null,
            "bottom": null,
            "_model_module": "@jupyter-widgets/base",
            "top": null,
            "grid_column": null,
            "overflow_y": null,
            "overflow_x": null,
            "grid_auto_flow": null,
            "grid_area": null,
            "grid_template_columns": null,
            "flex": null,
            "_model_name": "LayoutModel",
            "justify_items": null,
            "grid_row": null,
            "max_height": null,
            "align_content": null,
            "visibility": null,
            "align_self": null,
            "height": null,
            "min_height": null,
            "padding": null,
            "grid_auto_rows": null,
            "grid_gap": null,
            "max_width": null,
            "order": null,
            "_view_module_version": "1.2.0",
            "grid_template_areas": null,
            "object_position": null,
            "object_fit": null,
            "grid_auto_columns": null,
            "margin": null,
            "display": null,
            "left": null
          }
        },
        "a32bb3954bca4f028a7f4697e0641847": {
          "model_module": "@jupyter-widgets/controls",
          "model_name": "DescriptionStyleModel",
          "model_module_version": "1.5.0",
          "state": {
            "_view_name": "StyleView",
            "_model_name": "DescriptionStyleModel",
            "description_width": "",
            "_view_module": "@jupyter-widgets/base",
            "_model_module_version": "1.5.0",
            "_view_count": null,
            "_view_module_version": "1.2.0",
            "_model_module": "@jupyter-widgets/controls"
          }
        },
        "3d7da088ac5245db86749efc810eca7e": {
          "model_module": "@jupyter-widgets/base",
          "model_name": "LayoutModel",
          "model_module_version": "1.2.0",
          "state": {
            "_view_name": "LayoutView",
            "grid_template_rows": null,
            "right": null,
            "justify_content": null,
            "_view_module": "@jupyter-widgets/base",
            "overflow": null,
            "_model_module_version": "1.2.0",
            "_view_count": null,
            "flex_flow": null,
            "width": null,
            "min_width": null,
            "border": null,
            "align_items": null,
            "bottom": null,
            "_model_module": "@jupyter-widgets/base",
            "top": null,
            "grid_column": null,
            "overflow_y": null,
            "overflow_x": null,
            "grid_auto_flow": null,
            "grid_area": null,
            "grid_template_columns": null,
            "flex": null,
            "_model_name": "LayoutModel",
            "justify_items": null,
            "grid_row": null,
            "max_height": null,
            "align_content": null,
            "visibility": null,
            "align_self": null,
            "height": null,
            "min_height": null,
            "padding": null,
            "grid_auto_rows": null,
            "grid_gap": null,
            "max_width": null,
            "order": null,
            "_view_module_version": "1.2.0",
            "grid_template_areas": null,
            "object_position": null,
            "object_fit": null,
            "grid_auto_columns": null,
            "margin": null,
            "display": null,
            "left": null
          }
        },
        "98dd1d16392746099eb86693224088ab": {
          "model_module": "@jupyter-widgets/controls",
          "model_name": "HBoxModel",
          "model_module_version": "1.5.0",
          "state": {
            "_view_name": "HBoxView",
            "_dom_classes": [],
            "_model_name": "HBoxModel",
            "_view_module": "@jupyter-widgets/controls",
            "_model_module_version": "1.5.0",
            "_view_count": null,
            "_view_module_version": "1.5.0",
            "box_style": "",
            "layout": "IPY_MODEL_cba09a95151c42cfb976735546e61134",
            "_model_module": "@jupyter-widgets/controls",
            "children": [
              "IPY_MODEL_e9c9b183d95e4a74b77ce9e1bbf6c4ef",
              "IPY_MODEL_95aa202895f645ed8827ddda140f02ab",
              "IPY_MODEL_d1f8e679d64e44899f65a606081e2bb0"
            ]
          }
        },
        "cba09a95151c42cfb976735546e61134": {
          "model_module": "@jupyter-widgets/base",
          "model_name": "LayoutModel",
          "model_module_version": "1.2.0",
          "state": {
            "_view_name": "LayoutView",
            "grid_template_rows": null,
            "right": null,
            "justify_content": null,
            "_view_module": "@jupyter-widgets/base",
            "overflow": null,
            "_model_module_version": "1.2.0",
            "_view_count": null,
            "flex_flow": null,
            "width": null,
            "min_width": null,
            "border": null,
            "align_items": null,
            "bottom": null,
            "_model_module": "@jupyter-widgets/base",
            "top": null,
            "grid_column": null,
            "overflow_y": null,
            "overflow_x": null,
            "grid_auto_flow": null,
            "grid_area": null,
            "grid_template_columns": null,
            "flex": null,
            "_model_name": "LayoutModel",
            "justify_items": null,
            "grid_row": null,
            "max_height": null,
            "align_content": null,
            "visibility": null,
            "align_self": null,
            "height": null,
            "min_height": null,
            "padding": null,
            "grid_auto_rows": null,
            "grid_gap": null,
            "max_width": null,
            "order": null,
            "_view_module_version": "1.2.0",
            "grid_template_areas": null,
            "object_position": null,
            "object_fit": null,
            "grid_auto_columns": null,
            "margin": null,
            "display": null,
            "left": null
          }
        },
        "e9c9b183d95e4a74b77ce9e1bbf6c4ef": {
          "model_module": "@jupyter-widgets/controls",
          "model_name": "HTMLModel",
          "model_module_version": "1.5.0",
          "state": {
            "_view_name": "HTMLView",
            "style": "IPY_MODEL_aea8857134164f189db22cfb242a6d90",
            "_dom_classes": [],
            "description": "",
            "_model_name": "HTMLModel",
            "placeholder": "​",
            "_view_module": "@jupyter-widgets/controls",
            "_model_module_version": "1.5.0",
            "value": "Downloading: 100%",
            "_view_count": null,
            "_view_module_version": "1.5.0",
            "description_tooltip": null,
            "_model_module": "@jupyter-widgets/controls",
            "layout": "IPY_MODEL_41b8b9b8eb59467084bab3ff915ba6cc"
          }
        },
        "95aa202895f645ed8827ddda140f02ab": {
          "model_module": "@jupyter-widgets/controls",
          "model_name": "FloatProgressModel",
          "model_module_version": "1.5.0",
          "state": {
            "_view_name": "ProgressView",
            "style": "IPY_MODEL_aed87a36004d4e9caff530cc50078257",
            "_dom_classes": [],
            "description": "",
            "_model_name": "FloatProgressModel",
            "bar_style": "success",
            "max": 229,
            "_view_module": "@jupyter-widgets/controls",
            "_model_module_version": "1.5.0",
            "value": 229,
            "_view_count": null,
            "_view_module_version": "1.5.0",
            "orientation": "horizontal",
            "min": 0,
            "description_tooltip": null,
            "_model_module": "@jupyter-widgets/controls",
            "layout": "IPY_MODEL_5995b18f3d4543b0abd4b8c95b2e3c28"
          }
        },
        "d1f8e679d64e44899f65a606081e2bb0": {
          "model_module": "@jupyter-widgets/controls",
          "model_name": "HTMLModel",
          "model_module_version": "1.5.0",
          "state": {
            "_view_name": "HTMLView",
            "style": "IPY_MODEL_9ad07583046d4203b52fd967aa2c6b28",
            "_dom_classes": [],
            "description": "",
            "_model_name": "HTMLModel",
            "placeholder": "​",
            "_view_module": "@jupyter-widgets/controls",
            "_model_module_version": "1.5.0",
            "value": " 229/229 [00:00&lt;00:00, 5.26kB/s]",
            "_view_count": null,
            "_view_module_version": "1.5.0",
            "description_tooltip": null,
            "_model_module": "@jupyter-widgets/controls",
            "layout": "IPY_MODEL_d9b84333bf6e4697bf1215397ed37987"
          }
        },
        "aea8857134164f189db22cfb242a6d90": {
          "model_module": "@jupyter-widgets/controls",
          "model_name": "DescriptionStyleModel",
          "model_module_version": "1.5.0",
          "state": {
            "_view_name": "StyleView",
            "_model_name": "DescriptionStyleModel",
            "description_width": "",
            "_view_module": "@jupyter-widgets/base",
            "_model_module_version": "1.5.0",
            "_view_count": null,
            "_view_module_version": "1.2.0",
            "_model_module": "@jupyter-widgets/controls"
          }
        },
        "41b8b9b8eb59467084bab3ff915ba6cc": {
          "model_module": "@jupyter-widgets/base",
          "model_name": "LayoutModel",
          "model_module_version": "1.2.0",
          "state": {
            "_view_name": "LayoutView",
            "grid_template_rows": null,
            "right": null,
            "justify_content": null,
            "_view_module": "@jupyter-widgets/base",
            "overflow": null,
            "_model_module_version": "1.2.0",
            "_view_count": null,
            "flex_flow": null,
            "width": null,
            "min_width": null,
            "border": null,
            "align_items": null,
            "bottom": null,
            "_model_module": "@jupyter-widgets/base",
            "top": null,
            "grid_column": null,
            "overflow_y": null,
            "overflow_x": null,
            "grid_auto_flow": null,
            "grid_area": null,
            "grid_template_columns": null,
            "flex": null,
            "_model_name": "LayoutModel",
            "justify_items": null,
            "grid_row": null,
            "max_height": null,
            "align_content": null,
            "visibility": null,
            "align_self": null,
            "height": null,
            "min_height": null,
            "padding": null,
            "grid_auto_rows": null,
            "grid_gap": null,
            "max_width": null,
            "order": null,
            "_view_module_version": "1.2.0",
            "grid_template_areas": null,
            "object_position": null,
            "object_fit": null,
            "grid_auto_columns": null,
            "margin": null,
            "display": null,
            "left": null
          }
        },
        "aed87a36004d4e9caff530cc50078257": {
          "model_module": "@jupyter-widgets/controls",
          "model_name": "ProgressStyleModel",
          "model_module_version": "1.5.0",
          "state": {
            "_view_name": "StyleView",
            "_model_name": "ProgressStyleModel",
            "description_width": "",
            "_view_module": "@jupyter-widgets/base",
            "_model_module_version": "1.5.0",
            "_view_count": null,
            "_view_module_version": "1.2.0",
            "bar_color": null,
            "_model_module": "@jupyter-widgets/controls"
          }
        },
        "5995b18f3d4543b0abd4b8c95b2e3c28": {
          "model_module": "@jupyter-widgets/base",
          "model_name": "LayoutModel",
          "model_module_version": "1.2.0",
          "state": {
            "_view_name": "LayoutView",
            "grid_template_rows": null,
            "right": null,
            "justify_content": null,
            "_view_module": "@jupyter-widgets/base",
            "overflow": null,
            "_model_module_version": "1.2.0",
            "_view_count": null,
            "flex_flow": null,
            "width": null,
            "min_width": null,
            "border": null,
            "align_items": null,
            "bottom": null,
            "_model_module": "@jupyter-widgets/base",
            "top": null,
            "grid_column": null,
            "overflow_y": null,
            "overflow_x": null,
            "grid_auto_flow": null,
            "grid_area": null,
            "grid_template_columns": null,
            "flex": null,
            "_model_name": "LayoutModel",
            "justify_items": null,
            "grid_row": null,
            "max_height": null,
            "align_content": null,
            "visibility": null,
            "align_self": null,
            "height": null,
            "min_height": null,
            "padding": null,
            "grid_auto_rows": null,
            "grid_gap": null,
            "max_width": null,
            "order": null,
            "_view_module_version": "1.2.0",
            "grid_template_areas": null,
            "object_position": null,
            "object_fit": null,
            "grid_auto_columns": null,
            "margin": null,
            "display": null,
            "left": null
          }
        },
        "9ad07583046d4203b52fd967aa2c6b28": {
          "model_module": "@jupyter-widgets/controls",
          "model_name": "DescriptionStyleModel",
          "model_module_version": "1.5.0",
          "state": {
            "_view_name": "StyleView",
            "_model_name": "DescriptionStyleModel",
            "description_width": "",
            "_view_module": "@jupyter-widgets/base",
            "_model_module_version": "1.5.0",
            "_view_count": null,
            "_view_module_version": "1.2.0",
            "_model_module": "@jupyter-widgets/controls"
          }
        },
        "d9b84333bf6e4697bf1215397ed37987": {
          "model_module": "@jupyter-widgets/base",
          "model_name": "LayoutModel",
          "model_module_version": "1.2.0",
          "state": {
            "_view_name": "LayoutView",
            "grid_template_rows": null,
            "right": null,
            "justify_content": null,
            "_view_module": "@jupyter-widgets/base",
            "overflow": null,
            "_model_module_version": "1.2.0",
            "_view_count": null,
            "flex_flow": null,
            "width": null,
            "min_width": null,
            "border": null,
            "align_items": null,
            "bottom": null,
            "_model_module": "@jupyter-widgets/base",
            "top": null,
            "grid_column": null,
            "overflow_y": null,
            "overflow_x": null,
            "grid_auto_flow": null,
            "grid_area": null,
            "grid_template_columns": null,
            "flex": null,
            "_model_name": "LayoutModel",
            "justify_items": null,
            "grid_row": null,
            "max_height": null,
            "align_content": null,
            "visibility": null,
            "align_self": null,
            "height": null,
            "min_height": null,
            "padding": null,
            "grid_auto_rows": null,
            "grid_gap": null,
            "max_width": null,
            "order": null,
            "_view_module_version": "1.2.0",
            "grid_template_areas": null,
            "object_position": null,
            "object_fit": null,
            "grid_auto_columns": null,
            "margin": null,
            "display": null,
            "left": null
          }
        },
        "8eec299e87d946cf9b662d538b89ddec": {
          "model_module": "@jupyter-widgets/controls",
          "model_name": "HBoxModel",
          "model_module_version": "1.5.0",
          "state": {
            "_view_name": "HBoxView",
            "_dom_classes": [],
            "_model_name": "HBoxModel",
            "_view_module": "@jupyter-widgets/controls",
            "_model_module_version": "1.5.0",
            "_view_count": null,
            "_view_module_version": "1.5.0",
            "box_style": "",
            "layout": "IPY_MODEL_13c07090c3274be5a76d9a79535f17ef",
            "_model_module": "@jupyter-widgets/controls",
            "children": [
              "IPY_MODEL_d18febbbecc14b579ec67bd4b7ea4ede",
              "IPY_MODEL_584b0e42b28b472685d5dd8989fe42dc",
              "IPY_MODEL_20ed738d944f4809820819592ec3876b"
            ]
          }
        },
        "13c07090c3274be5a76d9a79535f17ef": {
          "model_module": "@jupyter-widgets/base",
          "model_name": "LayoutModel",
          "model_module_version": "1.2.0",
          "state": {
            "_view_name": "LayoutView",
            "grid_template_rows": null,
            "right": null,
            "justify_content": null,
            "_view_module": "@jupyter-widgets/base",
            "overflow": null,
            "_model_module_version": "1.2.0",
            "_view_count": null,
            "flex_flow": null,
            "width": null,
            "min_width": null,
            "border": null,
            "align_items": null,
            "bottom": null,
            "_model_module": "@jupyter-widgets/base",
            "top": null,
            "grid_column": null,
            "overflow_y": null,
            "overflow_x": null,
            "grid_auto_flow": null,
            "grid_area": null,
            "grid_template_columns": null,
            "flex": null,
            "_model_name": "LayoutModel",
            "justify_items": null,
            "grid_row": null,
            "max_height": null,
            "align_content": null,
            "visibility": null,
            "align_self": null,
            "height": null,
            "min_height": null,
            "padding": null,
            "grid_auto_rows": null,
            "grid_gap": null,
            "max_width": null,
            "order": null,
            "_view_module_version": "1.2.0",
            "grid_template_areas": null,
            "object_position": null,
            "object_fit": null,
            "grid_auto_columns": null,
            "margin": null,
            "display": null,
            "left": null
          }
        },
        "d18febbbecc14b579ec67bd4b7ea4ede": {
          "model_module": "@jupyter-widgets/controls",
          "model_name": "HTMLModel",
          "model_module_version": "1.5.0",
          "state": {
            "_view_name": "HTMLView",
            "style": "IPY_MODEL_d96db483cc41465e80c1ffa83895ec4e",
            "_dom_classes": [],
            "description": "",
            "_model_name": "HTMLModel",
            "placeholder": "​",
            "_view_module": "@jupyter-widgets/controls",
            "_model_module_version": "1.5.0",
            "value": "Downloading: 100%",
            "_view_count": null,
            "_view_module_version": "1.5.0",
            "description_tooltip": null,
            "_model_module": "@jupyter-widgets/controls",
            "layout": "IPY_MODEL_3f5dc1e2219a46cb9b4ca111e24d9312"
          }
        },
        "584b0e42b28b472685d5dd8989fe42dc": {
          "model_module": "@jupyter-widgets/controls",
          "model_name": "FloatProgressModel",
          "model_module_version": "1.5.0",
          "state": {
            "_view_name": "ProgressView",
            "style": "IPY_MODEL_a1cc6db39e864cf09f039695d7b7f295",
            "_dom_classes": [],
            "description": "",
            "_model_name": "FloatProgressModel",
            "bar_style": "success",
            "max": 438007537,
            "_view_module": "@jupyter-widgets/controls",
            "_model_module_version": "1.5.0",
            "value": 438007537,
            "_view_count": null,
            "_view_module_version": "1.5.0",
            "orientation": "horizontal",
            "min": 0,
            "description_tooltip": null,
            "_model_module": "@jupyter-widgets/controls",
            "layout": "IPY_MODEL_fb5ed05f34f94f39a1e4693f645b7bb3"
          }
        },
        "20ed738d944f4809820819592ec3876b": {
          "model_module": "@jupyter-widgets/controls",
          "model_name": "HTMLModel",
          "model_module_version": "1.5.0",
          "state": {
            "_view_name": "HTMLView",
            "style": "IPY_MODEL_f095ef056f6c4296b0e03ca09ef04c4f",
            "_dom_classes": [],
            "description": "",
            "_model_name": "HTMLModel",
            "placeholder": "​",
            "_view_module": "@jupyter-widgets/controls",
            "_model_module_version": "1.5.0",
            "value": " 438M/438M [00:16&lt;00:00, 21.7MB/s]",
            "_view_count": null,
            "_view_module_version": "1.5.0",
            "description_tooltip": null,
            "_model_module": "@jupyter-widgets/controls",
            "layout": "IPY_MODEL_08c698181ce541b3ba2a8a4981a4b717"
          }
        },
        "d96db483cc41465e80c1ffa83895ec4e": {
          "model_module": "@jupyter-widgets/controls",
          "model_name": "DescriptionStyleModel",
          "model_module_version": "1.5.0",
          "state": {
            "_view_name": "StyleView",
            "_model_name": "DescriptionStyleModel",
            "description_width": "",
            "_view_module": "@jupyter-widgets/base",
            "_model_module_version": "1.5.0",
            "_view_count": null,
            "_view_module_version": "1.2.0",
            "_model_module": "@jupyter-widgets/controls"
          }
        },
        "3f5dc1e2219a46cb9b4ca111e24d9312": {
          "model_module": "@jupyter-widgets/base",
          "model_name": "LayoutModel",
          "model_module_version": "1.2.0",
          "state": {
            "_view_name": "LayoutView",
            "grid_template_rows": null,
            "right": null,
            "justify_content": null,
            "_view_module": "@jupyter-widgets/base",
            "overflow": null,
            "_model_module_version": "1.2.0",
            "_view_count": null,
            "flex_flow": null,
            "width": null,
            "min_width": null,
            "border": null,
            "align_items": null,
            "bottom": null,
            "_model_module": "@jupyter-widgets/base",
            "top": null,
            "grid_column": null,
            "overflow_y": null,
            "overflow_x": null,
            "grid_auto_flow": null,
            "grid_area": null,
            "grid_template_columns": null,
            "flex": null,
            "_model_name": "LayoutModel",
            "justify_items": null,
            "grid_row": null,
            "max_height": null,
            "align_content": null,
            "visibility": null,
            "align_self": null,
            "height": null,
            "min_height": null,
            "padding": null,
            "grid_auto_rows": null,
            "grid_gap": null,
            "max_width": null,
            "order": null,
            "_view_module_version": "1.2.0",
            "grid_template_areas": null,
            "object_position": null,
            "object_fit": null,
            "grid_auto_columns": null,
            "margin": null,
            "display": null,
            "left": null
          }
        },
        "a1cc6db39e864cf09f039695d7b7f295": {
          "model_module": "@jupyter-widgets/controls",
          "model_name": "ProgressStyleModel",
          "model_module_version": "1.5.0",
          "state": {
            "_view_name": "StyleView",
            "_model_name": "ProgressStyleModel",
            "description_width": "",
            "_view_module": "@jupyter-widgets/base",
            "_model_module_version": "1.5.0",
            "_view_count": null,
            "_view_module_version": "1.2.0",
            "bar_color": null,
            "_model_module": "@jupyter-widgets/controls"
          }
        },
        "fb5ed05f34f94f39a1e4693f645b7bb3": {
          "model_module": "@jupyter-widgets/base",
          "model_name": "LayoutModel",
          "model_module_version": "1.2.0",
          "state": {
            "_view_name": "LayoutView",
            "grid_template_rows": null,
            "right": null,
            "justify_content": null,
            "_view_module": "@jupyter-widgets/base",
            "overflow": null,
            "_model_module_version": "1.2.0",
            "_view_count": null,
            "flex_flow": null,
            "width": null,
            "min_width": null,
            "border": null,
            "align_items": null,
            "bottom": null,
            "_model_module": "@jupyter-widgets/base",
            "top": null,
            "grid_column": null,
            "overflow_y": null,
            "overflow_x": null,
            "grid_auto_flow": null,
            "grid_area": null,
            "grid_template_columns": null,
            "flex": null,
            "_model_name": "LayoutModel",
            "justify_items": null,
            "grid_row": null,
            "max_height": null,
            "align_content": null,
            "visibility": null,
            "align_self": null,
            "height": null,
            "min_height": null,
            "padding": null,
            "grid_auto_rows": null,
            "grid_gap": null,
            "max_width": null,
            "order": null,
            "_view_module_version": "1.2.0",
            "grid_template_areas": null,
            "object_position": null,
            "object_fit": null,
            "grid_auto_columns": null,
            "margin": null,
            "display": null,
            "left": null
          }
        },
        "f095ef056f6c4296b0e03ca09ef04c4f": {
          "model_module": "@jupyter-widgets/controls",
          "model_name": "DescriptionStyleModel",
          "model_module_version": "1.5.0",
          "state": {
            "_view_name": "StyleView",
            "_model_name": "DescriptionStyleModel",
            "description_width": "",
            "_view_module": "@jupyter-widgets/base",
            "_model_module_version": "1.5.0",
            "_view_count": null,
            "_view_module_version": "1.2.0",
            "_model_module": "@jupyter-widgets/controls"
          }
        },
        "08c698181ce541b3ba2a8a4981a4b717": {
          "model_module": "@jupyter-widgets/base",
          "model_name": "LayoutModel",
          "model_module_version": "1.2.0",
          "state": {
            "_view_name": "LayoutView",
            "grid_template_rows": null,
            "right": null,
            "justify_content": null,
            "_view_module": "@jupyter-widgets/base",
            "overflow": null,
            "_model_module_version": "1.2.0",
            "_view_count": null,
            "flex_flow": null,
            "width": null,
            "min_width": null,
            "border": null,
            "align_items": null,
            "bottom": null,
            "_model_module": "@jupyter-widgets/base",
            "top": null,
            "grid_column": null,
            "overflow_y": null,
            "overflow_x": null,
            "grid_auto_flow": null,
            "grid_area": null,
            "grid_template_columns": null,
            "flex": null,
            "_model_name": "LayoutModel",
            "justify_items": null,
            "grid_row": null,
            "max_height": null,
            "align_content": null,
            "visibility": null,
            "align_self": null,
            "height": null,
            "min_height": null,
            "padding": null,
            "grid_auto_rows": null,
            "grid_gap": null,
            "max_width": null,
            "order": null,
            "_view_module_version": "1.2.0",
            "grid_template_areas": null,
            "object_position": null,
            "object_fit": null,
            "grid_auto_columns": null,
            "margin": null,
            "display": null,
            "left": null
          }
        },
        "3d7abd6c28c34093a5fd5ff6fd6ea160": {
          "model_module": "@jupyter-widgets/controls",
          "model_name": "HBoxModel",
          "model_module_version": "1.5.0",
          "state": {
            "_view_name": "HBoxView",
            "_dom_classes": [],
            "_model_name": "HBoxModel",
            "_view_module": "@jupyter-widgets/controls",
            "_model_module_version": "1.5.0",
            "_view_count": null,
            "_view_module_version": "1.5.0",
            "box_style": "",
            "layout": "IPY_MODEL_d31c597ed8e44e7281734518357b7202",
            "_model_module": "@jupyter-widgets/controls",
            "children": [
              "IPY_MODEL_06344153afec4e50bdee10902852d7ae",
              "IPY_MODEL_f8c1ce9e020241a0939578507fe1e53d",
              "IPY_MODEL_eecc40d6d0c249308b16c592086d8ff8"
            ]
          }
        },
        "d31c597ed8e44e7281734518357b7202": {
          "model_module": "@jupyter-widgets/base",
          "model_name": "LayoutModel",
          "model_module_version": "1.2.0",
          "state": {
            "_view_name": "LayoutView",
            "grid_template_rows": null,
            "right": null,
            "justify_content": null,
            "_view_module": "@jupyter-widgets/base",
            "overflow": null,
            "_model_module_version": "1.2.0",
            "_view_count": null,
            "flex_flow": null,
            "width": null,
            "min_width": null,
            "border": null,
            "align_items": null,
            "bottom": null,
            "_model_module": "@jupyter-widgets/base",
            "top": null,
            "grid_column": null,
            "overflow_y": null,
            "overflow_x": null,
            "grid_auto_flow": null,
            "grid_area": null,
            "grid_template_columns": null,
            "flex": null,
            "_model_name": "LayoutModel",
            "justify_items": null,
            "grid_row": null,
            "max_height": null,
            "align_content": null,
            "visibility": null,
            "align_self": null,
            "height": null,
            "min_height": null,
            "padding": null,
            "grid_auto_rows": null,
            "grid_gap": null,
            "max_width": null,
            "order": null,
            "_view_module_version": "1.2.0",
            "grid_template_areas": null,
            "object_position": null,
            "object_fit": null,
            "grid_auto_columns": null,
            "margin": null,
            "display": null,
            "left": null
          }
        },
        "06344153afec4e50bdee10902852d7ae": {
          "model_module": "@jupyter-widgets/controls",
          "model_name": "HTMLModel",
          "model_module_version": "1.5.0",
          "state": {
            "_view_name": "HTMLView",
            "style": "IPY_MODEL_7c69082bdfe34afebdc60bed8c053c89",
            "_dom_classes": [],
            "description": "",
            "_model_name": "HTMLModel",
            "placeholder": "​",
            "_view_module": "@jupyter-widgets/controls",
            "_model_module_version": "1.5.0",
            "value": "Downloading: 100%",
            "_view_count": null,
            "_view_module_version": "1.5.0",
            "description_tooltip": null,
            "_model_module": "@jupyter-widgets/controls",
            "layout": "IPY_MODEL_b3617cbe588d4d69b819cc7e73e65b2b"
          }
        },
        "f8c1ce9e020241a0939578507fe1e53d": {
          "model_module": "@jupyter-widgets/controls",
          "model_name": "FloatProgressModel",
          "model_module_version": "1.5.0",
          "state": {
            "_view_name": "ProgressView",
            "style": "IPY_MODEL_10d95f7519b64338a0b8794c024063b8",
            "_dom_classes": [],
            "description": "",
            "_model_name": "FloatProgressModel",
            "bar_style": "success",
            "max": 53,
            "_view_module": "@jupyter-widgets/controls",
            "_model_module_version": "1.5.0",
            "value": 53,
            "_view_count": null,
            "_view_module_version": "1.5.0",
            "orientation": "horizontal",
            "min": 0,
            "description_tooltip": null,
            "_model_module": "@jupyter-widgets/controls",
            "layout": "IPY_MODEL_2854f790f7b74952af7820c5a4b7e1ea"
          }
        },
        "eecc40d6d0c249308b16c592086d8ff8": {
          "model_module": "@jupyter-widgets/controls",
          "model_name": "HTMLModel",
          "model_module_version": "1.5.0",
          "state": {
            "_view_name": "HTMLView",
            "style": "IPY_MODEL_16ae2b3df39142fda6a3b80aaf6d681c",
            "_dom_classes": [],
            "description": "",
            "_model_name": "HTMLModel",
            "placeholder": "​",
            "_view_module": "@jupyter-widgets/controls",
            "_model_module_version": "1.5.0",
            "value": " 53.0/53.0 [00:00&lt;00:00, 1.30kB/s]",
            "_view_count": null,
            "_view_module_version": "1.5.0",
            "description_tooltip": null,
            "_model_module": "@jupyter-widgets/controls",
            "layout": "IPY_MODEL_f4c191870d5346d694f56873fd3e239b"
          }
        },
        "7c69082bdfe34afebdc60bed8c053c89": {
          "model_module": "@jupyter-widgets/controls",
          "model_name": "DescriptionStyleModel",
          "model_module_version": "1.5.0",
          "state": {
            "_view_name": "StyleView",
            "_model_name": "DescriptionStyleModel",
            "description_width": "",
            "_view_module": "@jupyter-widgets/base",
            "_model_module_version": "1.5.0",
            "_view_count": null,
            "_view_module_version": "1.2.0",
            "_model_module": "@jupyter-widgets/controls"
          }
        },
        "b3617cbe588d4d69b819cc7e73e65b2b": {
          "model_module": "@jupyter-widgets/base",
          "model_name": "LayoutModel",
          "model_module_version": "1.2.0",
          "state": {
            "_view_name": "LayoutView",
            "grid_template_rows": null,
            "right": null,
            "justify_content": null,
            "_view_module": "@jupyter-widgets/base",
            "overflow": null,
            "_model_module_version": "1.2.0",
            "_view_count": null,
            "flex_flow": null,
            "width": null,
            "min_width": null,
            "border": null,
            "align_items": null,
            "bottom": null,
            "_model_module": "@jupyter-widgets/base",
            "top": null,
            "grid_column": null,
            "overflow_y": null,
            "overflow_x": null,
            "grid_auto_flow": null,
            "grid_area": null,
            "grid_template_columns": null,
            "flex": null,
            "_model_name": "LayoutModel",
            "justify_items": null,
            "grid_row": null,
            "max_height": null,
            "align_content": null,
            "visibility": null,
            "align_self": null,
            "height": null,
            "min_height": null,
            "padding": null,
            "grid_auto_rows": null,
            "grid_gap": null,
            "max_width": null,
            "order": null,
            "_view_module_version": "1.2.0",
            "grid_template_areas": null,
            "object_position": null,
            "object_fit": null,
            "grid_auto_columns": null,
            "margin": null,
            "display": null,
            "left": null
          }
        },
        "10d95f7519b64338a0b8794c024063b8": {
          "model_module": "@jupyter-widgets/controls",
          "model_name": "ProgressStyleModel",
          "model_module_version": "1.5.0",
          "state": {
            "_view_name": "StyleView",
            "_model_name": "ProgressStyleModel",
            "description_width": "",
            "_view_module": "@jupyter-widgets/base",
            "_model_module_version": "1.5.0",
            "_view_count": null,
            "_view_module_version": "1.2.0",
            "bar_color": null,
            "_model_module": "@jupyter-widgets/controls"
          }
        },
        "2854f790f7b74952af7820c5a4b7e1ea": {
          "model_module": "@jupyter-widgets/base",
          "model_name": "LayoutModel",
          "model_module_version": "1.2.0",
          "state": {
            "_view_name": "LayoutView",
            "grid_template_rows": null,
            "right": null,
            "justify_content": null,
            "_view_module": "@jupyter-widgets/base",
            "overflow": null,
            "_model_module_version": "1.2.0",
            "_view_count": null,
            "flex_flow": null,
            "width": null,
            "min_width": null,
            "border": null,
            "align_items": null,
            "bottom": null,
            "_model_module": "@jupyter-widgets/base",
            "top": null,
            "grid_column": null,
            "overflow_y": null,
            "overflow_x": null,
            "grid_auto_flow": null,
            "grid_area": null,
            "grid_template_columns": null,
            "flex": null,
            "_model_name": "LayoutModel",
            "justify_items": null,
            "grid_row": null,
            "max_height": null,
            "align_content": null,
            "visibility": null,
            "align_self": null,
            "height": null,
            "min_height": null,
            "padding": null,
            "grid_auto_rows": null,
            "grid_gap": null,
            "max_width": null,
            "order": null,
            "_view_module_version": "1.2.0",
            "grid_template_areas": null,
            "object_position": null,
            "object_fit": null,
            "grid_auto_columns": null,
            "margin": null,
            "display": null,
            "left": null
          }
        },
        "16ae2b3df39142fda6a3b80aaf6d681c": {
          "model_module": "@jupyter-widgets/controls",
          "model_name": "DescriptionStyleModel",
          "model_module_version": "1.5.0",
          "state": {
            "_view_name": "StyleView",
            "_model_name": "DescriptionStyleModel",
            "description_width": "",
            "_view_module": "@jupyter-widgets/base",
            "_model_module_version": "1.5.0",
            "_view_count": null,
            "_view_module_version": "1.2.0",
            "_model_module": "@jupyter-widgets/controls"
          }
        },
        "f4c191870d5346d694f56873fd3e239b": {
          "model_module": "@jupyter-widgets/base",
          "model_name": "LayoutModel",
          "model_module_version": "1.2.0",
          "state": {
            "_view_name": "LayoutView",
            "grid_template_rows": null,
            "right": null,
            "justify_content": null,
            "_view_module": "@jupyter-widgets/base",
            "overflow": null,
            "_model_module_version": "1.2.0",
            "_view_count": null,
            "flex_flow": null,
            "width": null,
            "min_width": null,
            "border": null,
            "align_items": null,
            "bottom": null,
            "_model_module": "@jupyter-widgets/base",
            "top": null,
            "grid_column": null,
            "overflow_y": null,
            "overflow_x": null,
            "grid_auto_flow": null,
            "grid_area": null,
            "grid_template_columns": null,
            "flex": null,
            "_model_name": "LayoutModel",
            "justify_items": null,
            "grid_row": null,
            "max_height": null,
            "align_content": null,
            "visibility": null,
            "align_self": null,
            "height": null,
            "min_height": null,
            "padding": null,
            "grid_auto_rows": null,
            "grid_gap": null,
            "max_width": null,
            "order": null,
            "_view_module_version": "1.2.0",
            "grid_template_areas": null,
            "object_position": null,
            "object_fit": null,
            "grid_auto_columns": null,
            "margin": null,
            "display": null,
            "left": null
          }
        },
        "e2343045a8a74252b1618b78d42638b5": {
          "model_module": "@jupyter-widgets/controls",
          "model_name": "HBoxModel",
          "model_module_version": "1.5.0",
          "state": {
            "_view_name": "HBoxView",
            "_dom_classes": [],
            "_model_name": "HBoxModel",
            "_view_module": "@jupyter-widgets/controls",
            "_model_module_version": "1.5.0",
            "_view_count": null,
            "_view_module_version": "1.5.0",
            "box_style": "",
            "layout": "IPY_MODEL_abb75ecff7144783ae9ab575ccf6bba8",
            "_model_module": "@jupyter-widgets/controls",
            "children": [
              "IPY_MODEL_e1da6f107a3145c9a4f54534dc9177cd",
              "IPY_MODEL_b6699666060047bcb09ec2bebd0e0368",
              "IPY_MODEL_fa2fc9cb55324bb99a5e5d6c9bb0b55e"
            ]
          }
        },
        "abb75ecff7144783ae9ab575ccf6bba8": {
          "model_module": "@jupyter-widgets/base",
          "model_name": "LayoutModel",
          "model_module_version": "1.2.0",
          "state": {
            "_view_name": "LayoutView",
            "grid_template_rows": null,
            "right": null,
            "justify_content": null,
            "_view_module": "@jupyter-widgets/base",
            "overflow": null,
            "_model_module_version": "1.2.0",
            "_view_count": null,
            "flex_flow": null,
            "width": null,
            "min_width": null,
            "border": null,
            "align_items": null,
            "bottom": null,
            "_model_module": "@jupyter-widgets/base",
            "top": null,
            "grid_column": null,
            "overflow_y": null,
            "overflow_x": null,
            "grid_auto_flow": null,
            "grid_area": null,
            "grid_template_columns": null,
            "flex": null,
            "_model_name": "LayoutModel",
            "justify_items": null,
            "grid_row": null,
            "max_height": null,
            "align_content": null,
            "visibility": null,
            "align_self": null,
            "height": null,
            "min_height": null,
            "padding": null,
            "grid_auto_rows": null,
            "grid_gap": null,
            "max_width": null,
            "order": null,
            "_view_module_version": "1.2.0",
            "grid_template_areas": null,
            "object_position": null,
            "object_fit": null,
            "grid_auto_columns": null,
            "margin": null,
            "display": null,
            "left": null
          }
        },
        "e1da6f107a3145c9a4f54534dc9177cd": {
          "model_module": "@jupyter-widgets/controls",
          "model_name": "HTMLModel",
          "model_module_version": "1.5.0",
          "state": {
            "_view_name": "HTMLView",
            "style": "IPY_MODEL_e3b12c5bd5494633bd8199a072d7714d",
            "_dom_classes": [],
            "description": "",
            "_model_name": "HTMLModel",
            "placeholder": "​",
            "_view_module": "@jupyter-widgets/controls",
            "_model_module_version": "1.5.0",
            "value": "Downloading: 100%",
            "_view_count": null,
            "_view_module_version": "1.5.0",
            "description_tooltip": null,
            "_model_module": "@jupyter-widgets/controls",
            "layout": "IPY_MODEL_66e495a0a09e47bbb93a8f959a267d4e"
          }
        },
        "b6699666060047bcb09ec2bebd0e0368": {
          "model_module": "@jupyter-widgets/controls",
          "model_name": "FloatProgressModel",
          "model_module_version": "1.5.0",
          "state": {
            "_view_name": "ProgressView",
            "style": "IPY_MODEL_4ed21171bc034a34b096ca26582937a8",
            "_dom_classes": [],
            "description": "",
            "_model_name": "FloatProgressModel",
            "bar_style": "success",
            "max": 112,
            "_view_module": "@jupyter-widgets/controls",
            "_model_module_version": "1.5.0",
            "value": 112,
            "_view_count": null,
            "_view_module_version": "1.5.0",
            "orientation": "horizontal",
            "min": 0,
            "description_tooltip": null,
            "_model_module": "@jupyter-widgets/controls",
            "layout": "IPY_MODEL_316a5a6956ea4413be99741396ee1118"
          }
        },
        "fa2fc9cb55324bb99a5e5d6c9bb0b55e": {
          "model_module": "@jupyter-widgets/controls",
          "model_name": "HTMLModel",
          "model_module_version": "1.5.0",
          "state": {
            "_view_name": "HTMLView",
            "style": "IPY_MODEL_2abddf6c479b4c5188e6f93c93494eaa",
            "_dom_classes": [],
            "description": "",
            "_model_name": "HTMLModel",
            "placeholder": "​",
            "_view_module": "@jupyter-widgets/controls",
            "_model_module_version": "1.5.0",
            "value": " 112/112 [00:00&lt;00:00, 2.64kB/s]",
            "_view_count": null,
            "_view_module_version": "1.5.0",
            "description_tooltip": null,
            "_model_module": "@jupyter-widgets/controls",
            "layout": "IPY_MODEL_6dc89f131dc34fb48aa52d276bc0730c"
          }
        },
        "e3b12c5bd5494633bd8199a072d7714d": {
          "model_module": "@jupyter-widgets/controls",
          "model_name": "DescriptionStyleModel",
          "model_module_version": "1.5.0",
          "state": {
            "_view_name": "StyleView",
            "_model_name": "DescriptionStyleModel",
            "description_width": "",
            "_view_module": "@jupyter-widgets/base",
            "_model_module_version": "1.5.0",
            "_view_count": null,
            "_view_module_version": "1.2.0",
            "_model_module": "@jupyter-widgets/controls"
          }
        },
        "66e495a0a09e47bbb93a8f959a267d4e": {
          "model_module": "@jupyter-widgets/base",
          "model_name": "LayoutModel",
          "model_module_version": "1.2.0",
          "state": {
            "_view_name": "LayoutView",
            "grid_template_rows": null,
            "right": null,
            "justify_content": null,
            "_view_module": "@jupyter-widgets/base",
            "overflow": null,
            "_model_module_version": "1.2.0",
            "_view_count": null,
            "flex_flow": null,
            "width": null,
            "min_width": null,
            "border": null,
            "align_items": null,
            "bottom": null,
            "_model_module": "@jupyter-widgets/base",
            "top": null,
            "grid_column": null,
            "overflow_y": null,
            "overflow_x": null,
            "grid_auto_flow": null,
            "grid_area": null,
            "grid_template_columns": null,
            "flex": null,
            "_model_name": "LayoutModel",
            "justify_items": null,
            "grid_row": null,
            "max_height": null,
            "align_content": null,
            "visibility": null,
            "align_self": null,
            "height": null,
            "min_height": null,
            "padding": null,
            "grid_auto_rows": null,
            "grid_gap": null,
            "max_width": null,
            "order": null,
            "_view_module_version": "1.2.0",
            "grid_template_areas": null,
            "object_position": null,
            "object_fit": null,
            "grid_auto_columns": null,
            "margin": null,
            "display": null,
            "left": null
          }
        },
        "4ed21171bc034a34b096ca26582937a8": {
          "model_module": "@jupyter-widgets/controls",
          "model_name": "ProgressStyleModel",
          "model_module_version": "1.5.0",
          "state": {
            "_view_name": "StyleView",
            "_model_name": "ProgressStyleModel",
            "description_width": "",
            "_view_module": "@jupyter-widgets/base",
            "_model_module_version": "1.5.0",
            "_view_count": null,
            "_view_module_version": "1.2.0",
            "bar_color": null,
            "_model_module": "@jupyter-widgets/controls"
          }
        },
        "316a5a6956ea4413be99741396ee1118": {
          "model_module": "@jupyter-widgets/base",
          "model_name": "LayoutModel",
          "model_module_version": "1.2.0",
          "state": {
            "_view_name": "LayoutView",
            "grid_template_rows": null,
            "right": null,
            "justify_content": null,
            "_view_module": "@jupyter-widgets/base",
            "overflow": null,
            "_model_module_version": "1.2.0",
            "_view_count": null,
            "flex_flow": null,
            "width": null,
            "min_width": null,
            "border": null,
            "align_items": null,
            "bottom": null,
            "_model_module": "@jupyter-widgets/base",
            "top": null,
            "grid_column": null,
            "overflow_y": null,
            "overflow_x": null,
            "grid_auto_flow": null,
            "grid_area": null,
            "grid_template_columns": null,
            "flex": null,
            "_model_name": "LayoutModel",
            "justify_items": null,
            "grid_row": null,
            "max_height": null,
            "align_content": null,
            "visibility": null,
            "align_self": null,
            "height": null,
            "min_height": null,
            "padding": null,
            "grid_auto_rows": null,
            "grid_gap": null,
            "max_width": null,
            "order": null,
            "_view_module_version": "1.2.0",
            "grid_template_areas": null,
            "object_position": null,
            "object_fit": null,
            "grid_auto_columns": null,
            "margin": null,
            "display": null,
            "left": null
          }
        },
        "2abddf6c479b4c5188e6f93c93494eaa": {
          "model_module": "@jupyter-widgets/controls",
          "model_name": "DescriptionStyleModel",
          "model_module_version": "1.5.0",
          "state": {
            "_view_name": "StyleView",
            "_model_name": "DescriptionStyleModel",
            "description_width": "",
            "_view_module": "@jupyter-widgets/base",
            "_model_module_version": "1.5.0",
            "_view_count": null,
            "_view_module_version": "1.2.0",
            "_model_module": "@jupyter-widgets/controls"
          }
        },
        "6dc89f131dc34fb48aa52d276bc0730c": {
          "model_module": "@jupyter-widgets/base",
          "model_name": "LayoutModel",
          "model_module_version": "1.2.0",
          "state": {
            "_view_name": "LayoutView",
            "grid_template_rows": null,
            "right": null,
            "justify_content": null,
            "_view_module": "@jupyter-widgets/base",
            "overflow": null,
            "_model_module_version": "1.2.0",
            "_view_count": null,
            "flex_flow": null,
            "width": null,
            "min_width": null,
            "border": null,
            "align_items": null,
            "bottom": null,
            "_model_module": "@jupyter-widgets/base",
            "top": null,
            "grid_column": null,
            "overflow_y": null,
            "overflow_x": null,
            "grid_auto_flow": null,
            "grid_area": null,
            "grid_template_columns": null,
            "flex": null,
            "_model_name": "LayoutModel",
            "justify_items": null,
            "grid_row": null,
            "max_height": null,
            "align_content": null,
            "visibility": null,
            "align_self": null,
            "height": null,
            "min_height": null,
            "padding": null,
            "grid_auto_rows": null,
            "grid_gap": null,
            "max_width": null,
            "order": null,
            "_view_module_version": "1.2.0",
            "grid_template_areas": null,
            "object_position": null,
            "object_fit": null,
            "grid_auto_columns": null,
            "margin": null,
            "display": null,
            "left": null
          }
        },
        "0fcedd98bd0b4193ac1589bfcf5558fb": {
          "model_module": "@jupyter-widgets/controls",
          "model_name": "HBoxModel",
          "model_module_version": "1.5.0",
          "state": {
            "_view_name": "HBoxView",
            "_dom_classes": [],
            "_model_name": "HBoxModel",
            "_view_module": "@jupyter-widgets/controls",
            "_model_module_version": "1.5.0",
            "_view_count": null,
            "_view_module_version": "1.5.0",
            "box_style": "",
            "layout": "IPY_MODEL_73fa76e40aa44751ba33dbd82232227a",
            "_model_module": "@jupyter-widgets/controls",
            "children": [
              "IPY_MODEL_fb0e6db66abf41f7bda8d208d633262b",
              "IPY_MODEL_3803bc572efc4f33a8687685cb523ce7",
              "IPY_MODEL_eaf31ab9c2414c46887db1b3f993a358"
            ]
          }
        },
        "73fa76e40aa44751ba33dbd82232227a": {
          "model_module": "@jupyter-widgets/base",
          "model_name": "LayoutModel",
          "model_module_version": "1.2.0",
          "state": {
            "_view_name": "LayoutView",
            "grid_template_rows": null,
            "right": null,
            "justify_content": null,
            "_view_module": "@jupyter-widgets/base",
            "overflow": null,
            "_model_module_version": "1.2.0",
            "_view_count": null,
            "flex_flow": null,
            "width": null,
            "min_width": null,
            "border": null,
            "align_items": null,
            "bottom": null,
            "_model_module": "@jupyter-widgets/base",
            "top": null,
            "grid_column": null,
            "overflow_y": null,
            "overflow_x": null,
            "grid_auto_flow": null,
            "grid_area": null,
            "grid_template_columns": null,
            "flex": null,
            "_model_name": "LayoutModel",
            "justify_items": null,
            "grid_row": null,
            "max_height": null,
            "align_content": null,
            "visibility": null,
            "align_self": null,
            "height": null,
            "min_height": null,
            "padding": null,
            "grid_auto_rows": null,
            "grid_gap": null,
            "max_width": null,
            "order": null,
            "_view_module_version": "1.2.0",
            "grid_template_areas": null,
            "object_position": null,
            "object_fit": null,
            "grid_auto_columns": null,
            "margin": null,
            "display": null,
            "left": null
          }
        },
        "fb0e6db66abf41f7bda8d208d633262b": {
          "model_module": "@jupyter-widgets/controls",
          "model_name": "HTMLModel",
          "model_module_version": "1.5.0",
          "state": {
            "_view_name": "HTMLView",
            "style": "IPY_MODEL_294120f7e8b6479b84dde8044ba765f1",
            "_dom_classes": [],
            "description": "",
            "_model_name": "HTMLModel",
            "placeholder": "​",
            "_view_module": "@jupyter-widgets/controls",
            "_model_module_version": "1.5.0",
            "value": "Downloading: 100%",
            "_view_count": null,
            "_view_module_version": "1.5.0",
            "description_tooltip": null,
            "_model_module": "@jupyter-widgets/controls",
            "layout": "IPY_MODEL_b439cd7fa40c42e9af2c04139279d846"
          }
        },
        "3803bc572efc4f33a8687685cb523ce7": {
          "model_module": "@jupyter-widgets/controls",
          "model_name": "FloatProgressModel",
          "model_module_version": "1.5.0",
          "state": {
            "_view_name": "ProgressView",
            "style": "IPY_MODEL_fed2aa4a1c2c458ca7f3d506714e8f49",
            "_dom_classes": [],
            "description": "",
            "_model_name": "FloatProgressModel",
            "bar_style": "success",
            "max": 466081,
            "_view_module": "@jupyter-widgets/controls",
            "_model_module_version": "1.5.0",
            "value": 466081,
            "_view_count": null,
            "_view_module_version": "1.5.0",
            "orientation": "horizontal",
            "min": 0,
            "description_tooltip": null,
            "_model_module": "@jupyter-widgets/controls",
            "layout": "IPY_MODEL_210580aba98249669bc0374e92db5e35"
          }
        },
        "eaf31ab9c2414c46887db1b3f993a358": {
          "model_module": "@jupyter-widgets/controls",
          "model_name": "HTMLModel",
          "model_module_version": "1.5.0",
          "state": {
            "_view_name": "HTMLView",
            "style": "IPY_MODEL_48c3bcdf3bcf4e2490c78e5ca6f62ed2",
            "_dom_classes": [],
            "description": "",
            "_model_name": "HTMLModel",
            "placeholder": "​",
            "_view_module": "@jupyter-widgets/controls",
            "_model_module_version": "1.5.0",
            "value": " 466k/466k [00:00&lt;00:00, 1.46MB/s]",
            "_view_count": null,
            "_view_module_version": "1.5.0",
            "description_tooltip": null,
            "_model_module": "@jupyter-widgets/controls",
            "layout": "IPY_MODEL_11dd6f3020c14d8e928eac1a9fd47229"
          }
        },
        "294120f7e8b6479b84dde8044ba765f1": {
          "model_module": "@jupyter-widgets/controls",
          "model_name": "DescriptionStyleModel",
          "model_module_version": "1.5.0",
          "state": {
            "_view_name": "StyleView",
            "_model_name": "DescriptionStyleModel",
            "description_width": "",
            "_view_module": "@jupyter-widgets/base",
            "_model_module_version": "1.5.0",
            "_view_count": null,
            "_view_module_version": "1.2.0",
            "_model_module": "@jupyter-widgets/controls"
          }
        },
        "b439cd7fa40c42e9af2c04139279d846": {
          "model_module": "@jupyter-widgets/base",
          "model_name": "LayoutModel",
          "model_module_version": "1.2.0",
          "state": {
            "_view_name": "LayoutView",
            "grid_template_rows": null,
            "right": null,
            "justify_content": null,
            "_view_module": "@jupyter-widgets/base",
            "overflow": null,
            "_model_module_version": "1.2.0",
            "_view_count": null,
            "flex_flow": null,
            "width": null,
            "min_width": null,
            "border": null,
            "align_items": null,
            "bottom": null,
            "_model_module": "@jupyter-widgets/base",
            "top": null,
            "grid_column": null,
            "overflow_y": null,
            "overflow_x": null,
            "grid_auto_flow": null,
            "grid_area": null,
            "grid_template_columns": null,
            "flex": null,
            "_model_name": "LayoutModel",
            "justify_items": null,
            "grid_row": null,
            "max_height": null,
            "align_content": null,
            "visibility": null,
            "align_self": null,
            "height": null,
            "min_height": null,
            "padding": null,
            "grid_auto_rows": null,
            "grid_gap": null,
            "max_width": null,
            "order": null,
            "_view_module_version": "1.2.0",
            "grid_template_areas": null,
            "object_position": null,
            "object_fit": null,
            "grid_auto_columns": null,
            "margin": null,
            "display": null,
            "left": null
          }
        },
        "fed2aa4a1c2c458ca7f3d506714e8f49": {
          "model_module": "@jupyter-widgets/controls",
          "model_name": "ProgressStyleModel",
          "model_module_version": "1.5.0",
          "state": {
            "_view_name": "StyleView",
            "_model_name": "ProgressStyleModel",
            "description_width": "",
            "_view_module": "@jupyter-widgets/base",
            "_model_module_version": "1.5.0",
            "_view_count": null,
            "_view_module_version": "1.2.0",
            "bar_color": null,
            "_model_module": "@jupyter-widgets/controls"
          }
        },
        "210580aba98249669bc0374e92db5e35": {
          "model_module": "@jupyter-widgets/base",
          "model_name": "LayoutModel",
          "model_module_version": "1.2.0",
          "state": {
            "_view_name": "LayoutView",
            "grid_template_rows": null,
            "right": null,
            "justify_content": null,
            "_view_module": "@jupyter-widgets/base",
            "overflow": null,
            "_model_module_version": "1.2.0",
            "_view_count": null,
            "flex_flow": null,
            "width": null,
            "min_width": null,
            "border": null,
            "align_items": null,
            "bottom": null,
            "_model_module": "@jupyter-widgets/base",
            "top": null,
            "grid_column": null,
            "overflow_y": null,
            "overflow_x": null,
            "grid_auto_flow": null,
            "grid_area": null,
            "grid_template_columns": null,
            "flex": null,
            "_model_name": "LayoutModel",
            "justify_items": null,
            "grid_row": null,
            "max_height": null,
            "align_content": null,
            "visibility": null,
            "align_self": null,
            "height": null,
            "min_height": null,
            "padding": null,
            "grid_auto_rows": null,
            "grid_gap": null,
            "max_width": null,
            "order": null,
            "_view_module_version": "1.2.0",
            "grid_template_areas": null,
            "object_position": null,
            "object_fit": null,
            "grid_auto_columns": null,
            "margin": null,
            "display": null,
            "left": null
          }
        },
        "48c3bcdf3bcf4e2490c78e5ca6f62ed2": {
          "model_module": "@jupyter-widgets/controls",
          "model_name": "DescriptionStyleModel",
          "model_module_version": "1.5.0",
          "state": {
            "_view_name": "StyleView",
            "_model_name": "DescriptionStyleModel",
            "description_width": "",
            "_view_module": "@jupyter-widgets/base",
            "_model_module_version": "1.5.0",
            "_view_count": null,
            "_view_module_version": "1.2.0",
            "_model_module": "@jupyter-widgets/controls"
          }
        },
        "11dd6f3020c14d8e928eac1a9fd47229": {
          "model_module": "@jupyter-widgets/base",
          "model_name": "LayoutModel",
          "model_module_version": "1.2.0",
          "state": {
            "_view_name": "LayoutView",
            "grid_template_rows": null,
            "right": null,
            "justify_content": null,
            "_view_module": "@jupyter-widgets/base",
            "overflow": null,
            "_model_module_version": "1.2.0",
            "_view_count": null,
            "flex_flow": null,
            "width": null,
            "min_width": null,
            "border": null,
            "align_items": null,
            "bottom": null,
            "_model_module": "@jupyter-widgets/base",
            "top": null,
            "grid_column": null,
            "overflow_y": null,
            "overflow_x": null,
            "grid_auto_flow": null,
            "grid_area": null,
            "grid_template_columns": null,
            "flex": null,
            "_model_name": "LayoutModel",
            "justify_items": null,
            "grid_row": null,
            "max_height": null,
            "align_content": null,
            "visibility": null,
            "align_self": null,
            "height": null,
            "min_height": null,
            "padding": null,
            "grid_auto_rows": null,
            "grid_gap": null,
            "max_width": null,
            "order": null,
            "_view_module_version": "1.2.0",
            "grid_template_areas": null,
            "object_position": null,
            "object_fit": null,
            "grid_auto_columns": null,
            "margin": null,
            "display": null,
            "left": null
          }
        },
        "75d24d066a6949eab6ffffe0673aaa70": {
          "model_module": "@jupyter-widgets/controls",
          "model_name": "HBoxModel",
          "model_module_version": "1.5.0",
          "state": {
            "_view_name": "HBoxView",
            "_dom_classes": [],
            "_model_name": "HBoxModel",
            "_view_module": "@jupyter-widgets/controls",
            "_model_module_version": "1.5.0",
            "_view_count": null,
            "_view_module_version": "1.5.0",
            "box_style": "",
            "layout": "IPY_MODEL_f90092bad5224e2ebe8b46d77993764e",
            "_model_module": "@jupyter-widgets/controls",
            "children": [
              "IPY_MODEL_e2a68cd62f1e489393a6f04e0ffbd2bb",
              "IPY_MODEL_8fb1dace3c554399a0ccd60839829400",
              "IPY_MODEL_5db2487920c34697b7579a5150c88ded"
            ]
          }
        },
        "f90092bad5224e2ebe8b46d77993764e": {
          "model_module": "@jupyter-widgets/base",
          "model_name": "LayoutModel",
          "model_module_version": "1.2.0",
          "state": {
            "_view_name": "LayoutView",
            "grid_template_rows": null,
            "right": null,
            "justify_content": null,
            "_view_module": "@jupyter-widgets/base",
            "overflow": null,
            "_model_module_version": "1.2.0",
            "_view_count": null,
            "flex_flow": null,
            "width": null,
            "min_width": null,
            "border": null,
            "align_items": null,
            "bottom": null,
            "_model_module": "@jupyter-widgets/base",
            "top": null,
            "grid_column": null,
            "overflow_y": null,
            "overflow_x": null,
            "grid_auto_flow": null,
            "grid_area": null,
            "grid_template_columns": null,
            "flex": null,
            "_model_name": "LayoutModel",
            "justify_items": null,
            "grid_row": null,
            "max_height": null,
            "align_content": null,
            "visibility": null,
            "align_self": null,
            "height": null,
            "min_height": null,
            "padding": null,
            "grid_auto_rows": null,
            "grid_gap": null,
            "max_width": null,
            "order": null,
            "_view_module_version": "1.2.0",
            "grid_template_areas": null,
            "object_position": null,
            "object_fit": null,
            "grid_auto_columns": null,
            "margin": null,
            "display": null,
            "left": null
          }
        },
        "e2a68cd62f1e489393a6f04e0ffbd2bb": {
          "model_module": "@jupyter-widgets/controls",
          "model_name": "HTMLModel",
          "model_module_version": "1.5.0",
          "state": {
            "_view_name": "HTMLView",
            "style": "IPY_MODEL_63f6a3c612c44d0695e530fd569d541e",
            "_dom_classes": [],
            "description": "",
            "_model_name": "HTMLModel",
            "placeholder": "​",
            "_view_module": "@jupyter-widgets/controls",
            "_model_module_version": "1.5.0",
            "value": "Downloading: 100%",
            "_view_count": null,
            "_view_module_version": "1.5.0",
            "description_tooltip": null,
            "_model_module": "@jupyter-widgets/controls",
            "layout": "IPY_MODEL_5740e7b7a57545358fd7288719c4336b"
          }
        },
        "8fb1dace3c554399a0ccd60839829400": {
          "model_module": "@jupyter-widgets/controls",
          "model_name": "FloatProgressModel",
          "model_module_version": "1.5.0",
          "state": {
            "_view_name": "ProgressView",
            "style": "IPY_MODEL_7792f7f67c4d4b5196664ec6e1a902b3",
            "_dom_classes": [],
            "description": "",
            "_model_name": "FloatProgressModel",
            "bar_style": "success",
            "max": 399,
            "_view_module": "@jupyter-widgets/controls",
            "_model_module_version": "1.5.0",
            "value": 399,
            "_view_count": null,
            "_view_module_version": "1.5.0",
            "orientation": "horizontal",
            "min": 0,
            "description_tooltip": null,
            "_model_module": "@jupyter-widgets/controls",
            "layout": "IPY_MODEL_b7fbf3baad0e450b8ee0590369a129b4"
          }
        },
        "5db2487920c34697b7579a5150c88ded": {
          "model_module": "@jupyter-widgets/controls",
          "model_name": "HTMLModel",
          "model_module_version": "1.5.0",
          "state": {
            "_view_name": "HTMLView",
            "style": "IPY_MODEL_19d7448b6b274ad89e18702696721165",
            "_dom_classes": [],
            "description": "",
            "_model_name": "HTMLModel",
            "placeholder": "​",
            "_view_module": "@jupyter-widgets/controls",
            "_model_module_version": "1.5.0",
            "value": " 399/399 [00:00&lt;00:00, 10.0kB/s]",
            "_view_count": null,
            "_view_module_version": "1.5.0",
            "description_tooltip": null,
            "_model_module": "@jupyter-widgets/controls",
            "layout": "IPY_MODEL_b139e7c37ac94b18b79feda23a1cd316"
          }
        },
        "63f6a3c612c44d0695e530fd569d541e": {
          "model_module": "@jupyter-widgets/controls",
          "model_name": "DescriptionStyleModel",
          "model_module_version": "1.5.0",
          "state": {
            "_view_name": "StyleView",
            "_model_name": "DescriptionStyleModel",
            "description_width": "",
            "_view_module": "@jupyter-widgets/base",
            "_model_module_version": "1.5.0",
            "_view_count": null,
            "_view_module_version": "1.2.0",
            "_model_module": "@jupyter-widgets/controls"
          }
        },
        "5740e7b7a57545358fd7288719c4336b": {
          "model_module": "@jupyter-widgets/base",
          "model_name": "LayoutModel",
          "model_module_version": "1.2.0",
          "state": {
            "_view_name": "LayoutView",
            "grid_template_rows": null,
            "right": null,
            "justify_content": null,
            "_view_module": "@jupyter-widgets/base",
            "overflow": null,
            "_model_module_version": "1.2.0",
            "_view_count": null,
            "flex_flow": null,
            "width": null,
            "min_width": null,
            "border": null,
            "align_items": null,
            "bottom": null,
            "_model_module": "@jupyter-widgets/base",
            "top": null,
            "grid_column": null,
            "overflow_y": null,
            "overflow_x": null,
            "grid_auto_flow": null,
            "grid_area": null,
            "grid_template_columns": null,
            "flex": null,
            "_model_name": "LayoutModel",
            "justify_items": null,
            "grid_row": null,
            "max_height": null,
            "align_content": null,
            "visibility": null,
            "align_self": null,
            "height": null,
            "min_height": null,
            "padding": null,
            "grid_auto_rows": null,
            "grid_gap": null,
            "max_width": null,
            "order": null,
            "_view_module_version": "1.2.0",
            "grid_template_areas": null,
            "object_position": null,
            "object_fit": null,
            "grid_auto_columns": null,
            "margin": null,
            "display": null,
            "left": null
          }
        },
        "7792f7f67c4d4b5196664ec6e1a902b3": {
          "model_module": "@jupyter-widgets/controls",
          "model_name": "ProgressStyleModel",
          "model_module_version": "1.5.0",
          "state": {
            "_view_name": "StyleView",
            "_model_name": "ProgressStyleModel",
            "description_width": "",
            "_view_module": "@jupyter-widgets/base",
            "_model_module_version": "1.5.0",
            "_view_count": null,
            "_view_module_version": "1.2.0",
            "bar_color": null,
            "_model_module": "@jupyter-widgets/controls"
          }
        },
        "b7fbf3baad0e450b8ee0590369a129b4": {
          "model_module": "@jupyter-widgets/base",
          "model_name": "LayoutModel",
          "model_module_version": "1.2.0",
          "state": {
            "_view_name": "LayoutView",
            "grid_template_rows": null,
            "right": null,
            "justify_content": null,
            "_view_module": "@jupyter-widgets/base",
            "overflow": null,
            "_model_module_version": "1.2.0",
            "_view_count": null,
            "flex_flow": null,
            "width": null,
            "min_width": null,
            "border": null,
            "align_items": null,
            "bottom": null,
            "_model_module": "@jupyter-widgets/base",
            "top": null,
            "grid_column": null,
            "overflow_y": null,
            "overflow_x": null,
            "grid_auto_flow": null,
            "grid_area": null,
            "grid_template_columns": null,
            "flex": null,
            "_model_name": "LayoutModel",
            "justify_items": null,
            "grid_row": null,
            "max_height": null,
            "align_content": null,
            "visibility": null,
            "align_self": null,
            "height": null,
            "min_height": null,
            "padding": null,
            "grid_auto_rows": null,
            "grid_gap": null,
            "max_width": null,
            "order": null,
            "_view_module_version": "1.2.0",
            "grid_template_areas": null,
            "object_position": null,
            "object_fit": null,
            "grid_auto_columns": null,
            "margin": null,
            "display": null,
            "left": null
          }
        },
        "19d7448b6b274ad89e18702696721165": {
          "model_module": "@jupyter-widgets/controls",
          "model_name": "DescriptionStyleModel",
          "model_module_version": "1.5.0",
          "state": {
            "_view_name": "StyleView",
            "_model_name": "DescriptionStyleModel",
            "description_width": "",
            "_view_module": "@jupyter-widgets/base",
            "_model_module_version": "1.5.0",
            "_view_count": null,
            "_view_module_version": "1.2.0",
            "_model_module": "@jupyter-widgets/controls"
          }
        },
        "b139e7c37ac94b18b79feda23a1cd316": {
          "model_module": "@jupyter-widgets/base",
          "model_name": "LayoutModel",
          "model_module_version": "1.2.0",
          "state": {
            "_view_name": "LayoutView",
            "grid_template_rows": null,
            "right": null,
            "justify_content": null,
            "_view_module": "@jupyter-widgets/base",
            "overflow": null,
            "_model_module_version": "1.2.0",
            "_view_count": null,
            "flex_flow": null,
            "width": null,
            "min_width": null,
            "border": null,
            "align_items": null,
            "bottom": null,
            "_model_module": "@jupyter-widgets/base",
            "top": null,
            "grid_column": null,
            "overflow_y": null,
            "overflow_x": null,
            "grid_auto_flow": null,
            "grid_area": null,
            "grid_template_columns": null,
            "flex": null,
            "_model_name": "LayoutModel",
            "justify_items": null,
            "grid_row": null,
            "max_height": null,
            "align_content": null,
            "visibility": null,
            "align_self": null,
            "height": null,
            "min_height": null,
            "padding": null,
            "grid_auto_rows": null,
            "grid_gap": null,
            "max_width": null,
            "order": null,
            "_view_module_version": "1.2.0",
            "grid_template_areas": null,
            "object_position": null,
            "object_fit": null,
            "grid_auto_columns": null,
            "margin": null,
            "display": null,
            "left": null
          }
        },
        "4dd5e9675a5745168e149159242b1c8b": {
          "model_module": "@jupyter-widgets/controls",
          "model_name": "HBoxModel",
          "model_module_version": "1.5.0",
          "state": {
            "_view_name": "HBoxView",
            "_dom_classes": [],
            "_model_name": "HBoxModel",
            "_view_module": "@jupyter-widgets/controls",
            "_model_module_version": "1.5.0",
            "_view_count": null,
            "_view_module_version": "1.5.0",
            "box_style": "",
            "layout": "IPY_MODEL_1a2e3577969a452d92e127ae86c187aa",
            "_model_module": "@jupyter-widgets/controls",
            "children": [
              "IPY_MODEL_885af76215404e048f300f3e018f10f3",
              "IPY_MODEL_fea4b657cddc45799ab636e328b67ad3",
              "IPY_MODEL_f7b1dd9306d24f0bbc66f936ad82f03e"
            ]
          }
        },
        "1a2e3577969a452d92e127ae86c187aa": {
          "model_module": "@jupyter-widgets/base",
          "model_name": "LayoutModel",
          "model_module_version": "1.2.0",
          "state": {
            "_view_name": "LayoutView",
            "grid_template_rows": null,
            "right": null,
            "justify_content": null,
            "_view_module": "@jupyter-widgets/base",
            "overflow": null,
            "_model_module_version": "1.2.0",
            "_view_count": null,
            "flex_flow": null,
            "width": null,
            "min_width": null,
            "border": null,
            "align_items": null,
            "bottom": null,
            "_model_module": "@jupyter-widgets/base",
            "top": null,
            "grid_column": null,
            "overflow_y": null,
            "overflow_x": null,
            "grid_auto_flow": null,
            "grid_area": null,
            "grid_template_columns": null,
            "flex": null,
            "_model_name": "LayoutModel",
            "justify_items": null,
            "grid_row": null,
            "max_height": null,
            "align_content": null,
            "visibility": null,
            "align_self": null,
            "height": null,
            "min_height": null,
            "padding": null,
            "grid_auto_rows": null,
            "grid_gap": null,
            "max_width": null,
            "order": null,
            "_view_module_version": "1.2.0",
            "grid_template_areas": null,
            "object_position": null,
            "object_fit": null,
            "grid_auto_columns": null,
            "margin": null,
            "display": null,
            "left": null
          }
        },
        "885af76215404e048f300f3e018f10f3": {
          "model_module": "@jupyter-widgets/controls",
          "model_name": "HTMLModel",
          "model_module_version": "1.5.0",
          "state": {
            "_view_name": "HTMLView",
            "style": "IPY_MODEL_7b74507fb45144c7b79dff739dd3681a",
            "_dom_classes": [],
            "description": "",
            "_model_name": "HTMLModel",
            "placeholder": "​",
            "_view_module": "@jupyter-widgets/controls",
            "_model_module_version": "1.5.0",
            "value": "Downloading: 100%",
            "_view_count": null,
            "_view_module_version": "1.5.0",
            "description_tooltip": null,
            "_model_module": "@jupyter-widgets/controls",
            "layout": "IPY_MODEL_08abc9330a904f028ff4daa1a400e66e"
          }
        },
        "fea4b657cddc45799ab636e328b67ad3": {
          "model_module": "@jupyter-widgets/controls",
          "model_name": "FloatProgressModel",
          "model_module_version": "1.5.0",
          "state": {
            "_view_name": "ProgressView",
            "style": "IPY_MODEL_e19d6ec27c5442aeae13ecfe86e01606",
            "_dom_classes": [],
            "description": "",
            "_model_name": "FloatProgressModel",
            "bar_style": "success",
            "max": 231508,
            "_view_module": "@jupyter-widgets/controls",
            "_model_module_version": "1.5.0",
            "value": 231508,
            "_view_count": null,
            "_view_module_version": "1.5.0",
            "orientation": "horizontal",
            "min": 0,
            "description_tooltip": null,
            "_model_module": "@jupyter-widgets/controls",
            "layout": "IPY_MODEL_34fbbd8f58fd416f81d6d2da6a8c47ae"
          }
        },
        "f7b1dd9306d24f0bbc66f936ad82f03e": {
          "model_module": "@jupyter-widgets/controls",
          "model_name": "HTMLModel",
          "model_module_version": "1.5.0",
          "state": {
            "_view_name": "HTMLView",
            "style": "IPY_MODEL_65a7c9bf67ec4405ac291ba170783d92",
            "_dom_classes": [],
            "description": "",
            "_model_name": "HTMLModel",
            "placeholder": "​",
            "_view_module": "@jupyter-widgets/controls",
            "_model_module_version": "1.5.0",
            "value": " 232k/232k [00:00&lt;00:00, 1.40MB/s]",
            "_view_count": null,
            "_view_module_version": "1.5.0",
            "description_tooltip": null,
            "_model_module": "@jupyter-widgets/controls",
            "layout": "IPY_MODEL_e9f1aec195f14fa5becdb77e3f4e540d"
          }
        },
        "7b74507fb45144c7b79dff739dd3681a": {
          "model_module": "@jupyter-widgets/controls",
          "model_name": "DescriptionStyleModel",
          "model_module_version": "1.5.0",
          "state": {
            "_view_name": "StyleView",
            "_model_name": "DescriptionStyleModel",
            "description_width": "",
            "_view_module": "@jupyter-widgets/base",
            "_model_module_version": "1.5.0",
            "_view_count": null,
            "_view_module_version": "1.2.0",
            "_model_module": "@jupyter-widgets/controls"
          }
        },
        "08abc9330a904f028ff4daa1a400e66e": {
          "model_module": "@jupyter-widgets/base",
          "model_name": "LayoutModel",
          "model_module_version": "1.2.0",
          "state": {
            "_view_name": "LayoutView",
            "grid_template_rows": null,
            "right": null,
            "justify_content": null,
            "_view_module": "@jupyter-widgets/base",
            "overflow": null,
            "_model_module_version": "1.2.0",
            "_view_count": null,
            "flex_flow": null,
            "width": null,
            "min_width": null,
            "border": null,
            "align_items": null,
            "bottom": null,
            "_model_module": "@jupyter-widgets/base",
            "top": null,
            "grid_column": null,
            "overflow_y": null,
            "overflow_x": null,
            "grid_auto_flow": null,
            "grid_area": null,
            "grid_template_columns": null,
            "flex": null,
            "_model_name": "LayoutModel",
            "justify_items": null,
            "grid_row": null,
            "max_height": null,
            "align_content": null,
            "visibility": null,
            "align_self": null,
            "height": null,
            "min_height": null,
            "padding": null,
            "grid_auto_rows": null,
            "grid_gap": null,
            "max_width": null,
            "order": null,
            "_view_module_version": "1.2.0",
            "grid_template_areas": null,
            "object_position": null,
            "object_fit": null,
            "grid_auto_columns": null,
            "margin": null,
            "display": null,
            "left": null
          }
        },
        "e19d6ec27c5442aeae13ecfe86e01606": {
          "model_module": "@jupyter-widgets/controls",
          "model_name": "ProgressStyleModel",
          "model_module_version": "1.5.0",
          "state": {
            "_view_name": "StyleView",
            "_model_name": "ProgressStyleModel",
            "description_width": "",
            "_view_module": "@jupyter-widgets/base",
            "_model_module_version": "1.5.0",
            "_view_count": null,
            "_view_module_version": "1.2.0",
            "bar_color": null,
            "_model_module": "@jupyter-widgets/controls"
          }
        },
        "34fbbd8f58fd416f81d6d2da6a8c47ae": {
          "model_module": "@jupyter-widgets/base",
          "model_name": "LayoutModel",
          "model_module_version": "1.2.0",
          "state": {
            "_view_name": "LayoutView",
            "grid_template_rows": null,
            "right": null,
            "justify_content": null,
            "_view_module": "@jupyter-widgets/base",
            "overflow": null,
            "_model_module_version": "1.2.0",
            "_view_count": null,
            "flex_flow": null,
            "width": null,
            "min_width": null,
            "border": null,
            "align_items": null,
            "bottom": null,
            "_model_module": "@jupyter-widgets/base",
            "top": null,
            "grid_column": null,
            "overflow_y": null,
            "overflow_x": null,
            "grid_auto_flow": null,
            "grid_area": null,
            "grid_template_columns": null,
            "flex": null,
            "_model_name": "LayoutModel",
            "justify_items": null,
            "grid_row": null,
            "max_height": null,
            "align_content": null,
            "visibility": null,
            "align_self": null,
            "height": null,
            "min_height": null,
            "padding": null,
            "grid_auto_rows": null,
            "grid_gap": null,
            "max_width": null,
            "order": null,
            "_view_module_version": "1.2.0",
            "grid_template_areas": null,
            "object_position": null,
            "object_fit": null,
            "grid_auto_columns": null,
            "margin": null,
            "display": null,
            "left": null
          }
        },
        "65a7c9bf67ec4405ac291ba170783d92": {
          "model_module": "@jupyter-widgets/controls",
          "model_name": "DescriptionStyleModel",
          "model_module_version": "1.5.0",
          "state": {
            "_view_name": "StyleView",
            "_model_name": "DescriptionStyleModel",
            "description_width": "",
            "_view_module": "@jupyter-widgets/base",
            "_model_module_version": "1.5.0",
            "_view_count": null,
            "_view_module_version": "1.2.0",
            "_model_module": "@jupyter-widgets/controls"
          }
        },
        "e9f1aec195f14fa5becdb77e3f4e540d": {
          "model_module": "@jupyter-widgets/base",
          "model_name": "LayoutModel",
          "model_module_version": "1.2.0",
          "state": {
            "_view_name": "LayoutView",
            "grid_template_rows": null,
            "right": null,
            "justify_content": null,
            "_view_module": "@jupyter-widgets/base",
            "overflow": null,
            "_model_module_version": "1.2.0",
            "_view_count": null,
            "flex_flow": null,
            "width": null,
            "min_width": null,
            "border": null,
            "align_items": null,
            "bottom": null,
            "_model_module": "@jupyter-widgets/base",
            "top": null,
            "grid_column": null,
            "overflow_y": null,
            "overflow_x": null,
            "grid_auto_flow": null,
            "grid_area": null,
            "grid_template_columns": null,
            "flex": null,
            "_model_name": "LayoutModel",
            "justify_items": null,
            "grid_row": null,
            "max_height": null,
            "align_content": null,
            "visibility": null,
            "align_self": null,
            "height": null,
            "min_height": null,
            "padding": null,
            "grid_auto_rows": null,
            "grid_gap": null,
            "max_width": null,
            "order": null,
            "_view_module_version": "1.2.0",
            "grid_template_areas": null,
            "object_position": null,
            "object_fit": null,
            "grid_auto_columns": null,
            "margin": null,
            "display": null,
            "left": null
          }
        },
        "9aa42d512064462fbf5e0c734cf79441": {
          "model_module": "@jupyter-widgets/controls",
          "model_name": "HBoxModel",
          "model_module_version": "1.5.0",
          "state": {
            "_view_name": "HBoxView",
            "_dom_classes": [],
            "_model_name": "HBoxModel",
            "_view_module": "@jupyter-widgets/controls",
            "_model_module_version": "1.5.0",
            "_view_count": null,
            "_view_module_version": "1.5.0",
            "box_style": "",
            "layout": "IPY_MODEL_7fbbbe7e23b14a8393f2b659541b580e",
            "_model_module": "@jupyter-widgets/controls",
            "children": [
              "IPY_MODEL_45e05f0b9ab54af5a90bb96e94c2e33a",
              "IPY_MODEL_27d3be903e32477083b046a178f12e12",
              "IPY_MODEL_4102e6aaa06b411fa6ea8a7889d5c516"
            ]
          }
        },
        "7fbbbe7e23b14a8393f2b659541b580e": {
          "model_module": "@jupyter-widgets/base",
          "model_name": "LayoutModel",
          "model_module_version": "1.2.0",
          "state": {
            "_view_name": "LayoutView",
            "grid_template_rows": null,
            "right": null,
            "justify_content": null,
            "_view_module": "@jupyter-widgets/base",
            "overflow": null,
            "_model_module_version": "1.2.0",
            "_view_count": null,
            "flex_flow": null,
            "width": null,
            "min_width": null,
            "border": null,
            "align_items": null,
            "bottom": null,
            "_model_module": "@jupyter-widgets/base",
            "top": null,
            "grid_column": null,
            "overflow_y": null,
            "overflow_x": null,
            "grid_auto_flow": null,
            "grid_area": null,
            "grid_template_columns": null,
            "flex": null,
            "_model_name": "LayoutModel",
            "justify_items": null,
            "grid_row": null,
            "max_height": null,
            "align_content": null,
            "visibility": null,
            "align_self": null,
            "height": null,
            "min_height": null,
            "padding": null,
            "grid_auto_rows": null,
            "grid_gap": null,
            "max_width": null,
            "order": null,
            "_view_module_version": "1.2.0",
            "grid_template_areas": null,
            "object_position": null,
            "object_fit": null,
            "grid_auto_columns": null,
            "margin": null,
            "display": null,
            "left": null
          }
        },
        "45e05f0b9ab54af5a90bb96e94c2e33a": {
          "model_module": "@jupyter-widgets/controls",
          "model_name": "HTMLModel",
          "model_module_version": "1.5.0",
          "state": {
            "_view_name": "HTMLView",
            "style": "IPY_MODEL_3f96366ca47f4f9b8b62a902e45f0fcb",
            "_dom_classes": [],
            "description": "",
            "_model_name": "HTMLModel",
            "placeholder": "​",
            "_view_module": "@jupyter-widgets/controls",
            "_model_module_version": "1.5.0",
            "value": "Downloading: 100%",
            "_view_count": null,
            "_view_module_version": "1.5.0",
            "description_tooltip": null,
            "_model_module": "@jupyter-widgets/controls",
            "layout": "IPY_MODEL_bc13f2c956024ebb9c6f59f9fa2362ea"
          }
        },
        "27d3be903e32477083b046a178f12e12": {
          "model_module": "@jupyter-widgets/controls",
          "model_name": "FloatProgressModel",
          "model_module_version": "1.5.0",
          "state": {
            "_view_name": "ProgressView",
            "style": "IPY_MODEL_5db5b6545d5c4247aeafba2e5b2e7241",
            "_dom_classes": [],
            "description": "",
            "_model_name": "FloatProgressModel",
            "bar_style": "success",
            "max": 190,
            "_view_module": "@jupyter-widgets/controls",
            "_model_module_version": "1.5.0",
            "value": 190,
            "_view_count": null,
            "_view_module_version": "1.5.0",
            "orientation": "horizontal",
            "min": 0,
            "description_tooltip": null,
            "_model_module": "@jupyter-widgets/controls",
            "layout": "IPY_MODEL_c41e01dba7f242be80ea2e7ec7e36067"
          }
        },
        "4102e6aaa06b411fa6ea8a7889d5c516": {
          "model_module": "@jupyter-widgets/controls",
          "model_name": "HTMLModel",
          "model_module_version": "1.5.0",
          "state": {
            "_view_name": "HTMLView",
            "style": "IPY_MODEL_8ba624c0a8d3441687413162cdd7f7a7",
            "_dom_classes": [],
            "description": "",
            "_model_name": "HTMLModel",
            "placeholder": "​",
            "_view_module": "@jupyter-widgets/controls",
            "_model_module_version": "1.5.0",
            "value": " 190/190 [00:00&lt;00:00, 4.20kB/s]",
            "_view_count": null,
            "_view_module_version": "1.5.0",
            "description_tooltip": null,
            "_model_module": "@jupyter-widgets/controls",
            "layout": "IPY_MODEL_39959049d21345ba923c82f8f3457363"
          }
        },
        "3f96366ca47f4f9b8b62a902e45f0fcb": {
          "model_module": "@jupyter-widgets/controls",
          "model_name": "DescriptionStyleModel",
          "model_module_version": "1.5.0",
          "state": {
            "_view_name": "StyleView",
            "_model_name": "DescriptionStyleModel",
            "description_width": "",
            "_view_module": "@jupyter-widgets/base",
            "_model_module_version": "1.5.0",
            "_view_count": null,
            "_view_module_version": "1.2.0",
            "_model_module": "@jupyter-widgets/controls"
          }
        },
        "bc13f2c956024ebb9c6f59f9fa2362ea": {
          "model_module": "@jupyter-widgets/base",
          "model_name": "LayoutModel",
          "model_module_version": "1.2.0",
          "state": {
            "_view_name": "LayoutView",
            "grid_template_rows": null,
            "right": null,
            "justify_content": null,
            "_view_module": "@jupyter-widgets/base",
            "overflow": null,
            "_model_module_version": "1.2.0",
            "_view_count": null,
            "flex_flow": null,
            "width": null,
            "min_width": null,
            "border": null,
            "align_items": null,
            "bottom": null,
            "_model_module": "@jupyter-widgets/base",
            "top": null,
            "grid_column": null,
            "overflow_y": null,
            "overflow_x": null,
            "grid_auto_flow": null,
            "grid_area": null,
            "grid_template_columns": null,
            "flex": null,
            "_model_name": "LayoutModel",
            "justify_items": null,
            "grid_row": null,
            "max_height": null,
            "align_content": null,
            "visibility": null,
            "align_self": null,
            "height": null,
            "min_height": null,
            "padding": null,
            "grid_auto_rows": null,
            "grid_gap": null,
            "max_width": null,
            "order": null,
            "_view_module_version": "1.2.0",
            "grid_template_areas": null,
            "object_position": null,
            "object_fit": null,
            "grid_auto_columns": null,
            "margin": null,
            "display": null,
            "left": null
          }
        },
        "5db5b6545d5c4247aeafba2e5b2e7241": {
          "model_module": "@jupyter-widgets/controls",
          "model_name": "ProgressStyleModel",
          "model_module_version": "1.5.0",
          "state": {
            "_view_name": "StyleView",
            "_model_name": "ProgressStyleModel",
            "description_width": "",
            "_view_module": "@jupyter-widgets/base",
            "_model_module_version": "1.5.0",
            "_view_count": null,
            "_view_module_version": "1.2.0",
            "bar_color": null,
            "_model_module": "@jupyter-widgets/controls"
          }
        },
        "c41e01dba7f242be80ea2e7ec7e36067": {
          "model_module": "@jupyter-widgets/base",
          "model_name": "LayoutModel",
          "model_module_version": "1.2.0",
          "state": {
            "_view_name": "LayoutView",
            "grid_template_rows": null,
            "right": null,
            "justify_content": null,
            "_view_module": "@jupyter-widgets/base",
            "overflow": null,
            "_model_module_version": "1.2.0",
            "_view_count": null,
            "flex_flow": null,
            "width": null,
            "min_width": null,
            "border": null,
            "align_items": null,
            "bottom": null,
            "_model_module": "@jupyter-widgets/base",
            "top": null,
            "grid_column": null,
            "overflow_y": null,
            "overflow_x": null,
            "grid_auto_flow": null,
            "grid_area": null,
            "grid_template_columns": null,
            "flex": null,
            "_model_name": "LayoutModel",
            "justify_items": null,
            "grid_row": null,
            "max_height": null,
            "align_content": null,
            "visibility": null,
            "align_self": null,
            "height": null,
            "min_height": null,
            "padding": null,
            "grid_auto_rows": null,
            "grid_gap": null,
            "max_width": null,
            "order": null,
            "_view_module_version": "1.2.0",
            "grid_template_areas": null,
            "object_position": null,
            "object_fit": null,
            "grid_auto_columns": null,
            "margin": null,
            "display": null,
            "left": null
          }
        },
        "8ba624c0a8d3441687413162cdd7f7a7": {
          "model_module": "@jupyter-widgets/controls",
          "model_name": "DescriptionStyleModel",
          "model_module_version": "1.5.0",
          "state": {
            "_view_name": "StyleView",
            "_model_name": "DescriptionStyleModel",
            "description_width": "",
            "_view_module": "@jupyter-widgets/base",
            "_model_module_version": "1.5.0",
            "_view_count": null,
            "_view_module_version": "1.2.0",
            "_model_module": "@jupyter-widgets/controls"
          }
        },
        "39959049d21345ba923c82f8f3457363": {
          "model_module": "@jupyter-widgets/base",
          "model_name": "LayoutModel",
          "model_module_version": "1.2.0",
          "state": {
            "_view_name": "LayoutView",
            "grid_template_rows": null,
            "right": null,
            "justify_content": null,
            "_view_module": "@jupyter-widgets/base",
            "overflow": null,
            "_model_module_version": "1.2.0",
            "_view_count": null,
            "flex_flow": null,
            "width": null,
            "min_width": null,
            "border": null,
            "align_items": null,
            "bottom": null,
            "_model_module": "@jupyter-widgets/base",
            "top": null,
            "grid_column": null,
            "overflow_y": null,
            "overflow_x": null,
            "grid_auto_flow": null,
            "grid_area": null,
            "grid_template_columns": null,
            "flex": null,
            "_model_name": "LayoutModel",
            "justify_items": null,
            "grid_row": null,
            "max_height": null,
            "align_content": null,
            "visibility": null,
            "align_self": null,
            "height": null,
            "min_height": null,
            "padding": null,
            "grid_auto_rows": null,
            "grid_gap": null,
            "max_width": null,
            "order": null,
            "_view_module_version": "1.2.0",
            "grid_template_areas": null,
            "object_position": null,
            "object_fit": null,
            "grid_auto_columns": null,
            "margin": null,
            "display": null,
            "left": null
          }
        },
        "7410e81bd19f4d1e8e90be398c9144ea": {
          "model_module": "@jupyter-widgets/controls",
          "model_name": "HBoxModel",
          "model_module_version": "1.5.0",
          "state": {
            "_view_name": "HBoxView",
            "_dom_classes": [],
            "_model_name": "HBoxModel",
            "_view_module": "@jupyter-widgets/controls",
            "_model_module_version": "1.5.0",
            "_view_count": null,
            "_view_module_version": "1.5.0",
            "box_style": "",
            "layout": "IPY_MODEL_529a152c219f4a5ca63f1b9158ea4e2a",
            "_model_module": "@jupyter-widgets/controls",
            "children": [
              "IPY_MODEL_67b4272a425e4b039aea765d01c7b8fd",
              "IPY_MODEL_9d90bb62c0e24783844fe501f70d963c",
              "IPY_MODEL_d231573de9a14efaba04d9ab7af1405e"
            ]
          }
        },
        "529a152c219f4a5ca63f1b9158ea4e2a": {
          "model_module": "@jupyter-widgets/base",
          "model_name": "LayoutModel",
          "model_module_version": "1.2.0",
          "state": {
            "_view_name": "LayoutView",
            "grid_template_rows": null,
            "right": null,
            "justify_content": null,
            "_view_module": "@jupyter-widgets/base",
            "overflow": null,
            "_model_module_version": "1.2.0",
            "_view_count": null,
            "flex_flow": null,
            "width": null,
            "min_width": null,
            "border": null,
            "align_items": null,
            "bottom": null,
            "_model_module": "@jupyter-widgets/base",
            "top": null,
            "grid_column": null,
            "overflow_y": null,
            "overflow_x": null,
            "grid_auto_flow": null,
            "grid_area": null,
            "grid_template_columns": null,
            "flex": null,
            "_model_name": "LayoutModel",
            "justify_items": null,
            "grid_row": null,
            "max_height": null,
            "align_content": null,
            "visibility": null,
            "align_self": null,
            "height": null,
            "min_height": null,
            "padding": null,
            "grid_auto_rows": null,
            "grid_gap": null,
            "max_width": null,
            "order": null,
            "_view_module_version": "1.2.0",
            "grid_template_areas": null,
            "object_position": null,
            "object_fit": null,
            "grid_auto_columns": null,
            "margin": null,
            "display": null,
            "left": null
          }
        },
        "67b4272a425e4b039aea765d01c7b8fd": {
          "model_module": "@jupyter-widgets/controls",
          "model_name": "HTMLModel",
          "model_module_version": "1.5.0",
          "state": {
            "_view_name": "HTMLView",
            "style": "IPY_MODEL_54635b60e7814bbe805d34aeadb2ee99",
            "_dom_classes": [],
            "description": "",
            "_model_name": "HTMLModel",
            "placeholder": "​",
            "_view_module": "@jupyter-widgets/controls",
            "_model_module_version": "1.5.0",
            "value": "Batches: 100%",
            "_view_count": null,
            "_view_module_version": "1.5.0",
            "description_tooltip": null,
            "_model_module": "@jupyter-widgets/controls",
            "layout": "IPY_MODEL_50a4dd8f4e9643b0971d423ff50fa414"
          }
        },
        "9d90bb62c0e24783844fe501f70d963c": {
          "model_module": "@jupyter-widgets/controls",
          "model_name": "FloatProgressModel",
          "model_module_version": "1.5.0",
          "state": {
            "_view_name": "ProgressView",
            "style": "IPY_MODEL_af1aadbc90ba46daa0d265aa781ff371",
            "_dom_classes": [],
            "description": "",
            "_model_name": "FloatProgressModel",
            "bar_style": "success",
            "max": 3125,
            "_view_module": "@jupyter-widgets/controls",
            "_model_module_version": "1.5.0",
            "value": 3125,
            "_view_count": null,
            "_view_module_version": "1.5.0",
            "orientation": "horizontal",
            "min": 0,
            "description_tooltip": null,
            "_model_module": "@jupyter-widgets/controls",
            "layout": "IPY_MODEL_e3cbbd279b964346926364f91321525f"
          }
        },
        "d231573de9a14efaba04d9ab7af1405e": {
          "model_module": "@jupyter-widgets/controls",
          "model_name": "HTMLModel",
          "model_module_version": "1.5.0",
          "state": {
            "_view_name": "HTMLView",
            "style": "IPY_MODEL_8910389fd64a4eabb51b80477106eeec",
            "_dom_classes": [],
            "description": "",
            "_model_name": "HTMLModel",
            "placeholder": "​",
            "_view_module": "@jupyter-widgets/controls",
            "_model_module_version": "1.5.0",
            "value": " 3125/3125 [08:38&lt;00:00, 17.09it/s]",
            "_view_count": null,
            "_view_module_version": "1.5.0",
            "description_tooltip": null,
            "_model_module": "@jupyter-widgets/controls",
            "layout": "IPY_MODEL_c86dda29edaf4711bb351ef2019e2749"
          }
        },
        "54635b60e7814bbe805d34aeadb2ee99": {
          "model_module": "@jupyter-widgets/controls",
          "model_name": "DescriptionStyleModel",
          "model_module_version": "1.5.0",
          "state": {
            "_view_name": "StyleView",
            "_model_name": "DescriptionStyleModel",
            "description_width": "",
            "_view_module": "@jupyter-widgets/base",
            "_model_module_version": "1.5.0",
            "_view_count": null,
            "_view_module_version": "1.2.0",
            "_model_module": "@jupyter-widgets/controls"
          }
        },
        "50a4dd8f4e9643b0971d423ff50fa414": {
          "model_module": "@jupyter-widgets/base",
          "model_name": "LayoutModel",
          "model_module_version": "1.2.0",
          "state": {
            "_view_name": "LayoutView",
            "grid_template_rows": null,
            "right": null,
            "justify_content": null,
            "_view_module": "@jupyter-widgets/base",
            "overflow": null,
            "_model_module_version": "1.2.0",
            "_view_count": null,
            "flex_flow": null,
            "width": null,
            "min_width": null,
            "border": null,
            "align_items": null,
            "bottom": null,
            "_model_module": "@jupyter-widgets/base",
            "top": null,
            "grid_column": null,
            "overflow_y": null,
            "overflow_x": null,
            "grid_auto_flow": null,
            "grid_area": null,
            "grid_template_columns": null,
            "flex": null,
            "_model_name": "LayoutModel",
            "justify_items": null,
            "grid_row": null,
            "max_height": null,
            "align_content": null,
            "visibility": null,
            "align_self": null,
            "height": null,
            "min_height": null,
            "padding": null,
            "grid_auto_rows": null,
            "grid_gap": null,
            "max_width": null,
            "order": null,
            "_view_module_version": "1.2.0",
            "grid_template_areas": null,
            "object_position": null,
            "object_fit": null,
            "grid_auto_columns": null,
            "margin": null,
            "display": null,
            "left": null
          }
        },
        "af1aadbc90ba46daa0d265aa781ff371": {
          "model_module": "@jupyter-widgets/controls",
          "model_name": "ProgressStyleModel",
          "model_module_version": "1.5.0",
          "state": {
            "_view_name": "StyleView",
            "_model_name": "ProgressStyleModel",
            "description_width": "",
            "_view_module": "@jupyter-widgets/base",
            "_model_module_version": "1.5.0",
            "_view_count": null,
            "_view_module_version": "1.2.0",
            "bar_color": null,
            "_model_module": "@jupyter-widgets/controls"
          }
        },
        "e3cbbd279b964346926364f91321525f": {
          "model_module": "@jupyter-widgets/base",
          "model_name": "LayoutModel",
          "model_module_version": "1.2.0",
          "state": {
            "_view_name": "LayoutView",
            "grid_template_rows": null,
            "right": null,
            "justify_content": null,
            "_view_module": "@jupyter-widgets/base",
            "overflow": null,
            "_model_module_version": "1.2.0",
            "_view_count": null,
            "flex_flow": null,
            "width": null,
            "min_width": null,
            "border": null,
            "align_items": null,
            "bottom": null,
            "_model_module": "@jupyter-widgets/base",
            "top": null,
            "grid_column": null,
            "overflow_y": null,
            "overflow_x": null,
            "grid_auto_flow": null,
            "grid_area": null,
            "grid_template_columns": null,
            "flex": null,
            "_model_name": "LayoutModel",
            "justify_items": null,
            "grid_row": null,
            "max_height": null,
            "align_content": null,
            "visibility": null,
            "align_self": null,
            "height": null,
            "min_height": null,
            "padding": null,
            "grid_auto_rows": null,
            "grid_gap": null,
            "max_width": null,
            "order": null,
            "_view_module_version": "1.2.0",
            "grid_template_areas": null,
            "object_position": null,
            "object_fit": null,
            "grid_auto_columns": null,
            "margin": null,
            "display": null,
            "left": null
          }
        },
        "8910389fd64a4eabb51b80477106eeec": {
          "model_module": "@jupyter-widgets/controls",
          "model_name": "DescriptionStyleModel",
          "model_module_version": "1.5.0",
          "state": {
            "_view_name": "StyleView",
            "_model_name": "DescriptionStyleModel",
            "description_width": "",
            "_view_module": "@jupyter-widgets/base",
            "_model_module_version": "1.5.0",
            "_view_count": null,
            "_view_module_version": "1.2.0",
            "_model_module": "@jupyter-widgets/controls"
          }
        },
        "c86dda29edaf4711bb351ef2019e2749": {
          "model_module": "@jupyter-widgets/base",
          "model_name": "LayoutModel",
          "model_module_version": "1.2.0",
          "state": {
            "_view_name": "LayoutView",
            "grid_template_rows": null,
            "right": null,
            "justify_content": null,
            "_view_module": "@jupyter-widgets/base",
            "overflow": null,
            "_model_module_version": "1.2.0",
            "_view_count": null,
            "flex_flow": null,
            "width": null,
            "min_width": null,
            "border": null,
            "align_items": null,
            "bottom": null,
            "_model_module": "@jupyter-widgets/base",
            "top": null,
            "grid_column": null,
            "overflow_y": null,
            "overflow_x": null,
            "grid_auto_flow": null,
            "grid_area": null,
            "grid_template_columns": null,
            "flex": null,
            "_model_name": "LayoutModel",
            "justify_items": null,
            "grid_row": null,
            "max_height": null,
            "align_content": null,
            "visibility": null,
            "align_self": null,
            "height": null,
            "min_height": null,
            "padding": null,
            "grid_auto_rows": null,
            "grid_gap": null,
            "max_width": null,
            "order": null,
            "_view_module_version": "1.2.0",
            "grid_template_areas": null,
            "object_position": null,
            "object_fit": null,
            "grid_auto_columns": null,
            "margin": null,
            "display": null,
            "left": null
          }
        }
      }
    }
  },
  "cells": [
    {
      "cell_type": "markdown",
      "metadata": {
        "id": "8FOHM0OXeAm7"
      },
      "source": [
        "# Initial Analysis for Political Parties' Interests"
      ]
    },
    {
      "cell_type": "markdown",
      "metadata": {
        "id": "oA_fe4oxWT6p"
      },
      "source": [
        "## Mounting the Google Drive\n",
        "The Quotebank data is stored on Google Drive."
      ]
    },
    {
      "cell_type": "code",
      "metadata": {
        "colab": {
          "base_uri": "https://localhost:8080/"
        },
        "id": "CEcIlRwfWY4C",
        "outputId": "b22bb205-44e7-410a-9c4f-41a84c64b76c"
      },
      "source": [
        "from google.colab import drive\n",
        "drive.mount('/content/drive')"
      ],
      "execution_count": null,
      "outputs": [
        {
          "output_type": "stream",
          "name": "stdout",
          "text": [
            "Mounted at /content/drive\n"
          ]
        }
      ]
    },
    {
      "cell_type": "markdown",
      "metadata": {
        "id": "c_Dmorxcf7Am"
      },
      "source": [
        "## Installs"
      ]
    },
    {
      "cell_type": "code",
      "metadata": {
        "colab": {
          "base_uri": "https://localhost:8080/"
        },
        "id": "hf5YsV90f6Xu",
        "outputId": "f208863b-fd17-4e3f-a509-84cce93b1589"
      },
      "source": [
        "!python -m pip install --upgrade pip\n",
        "!pip install pytrends\n",
        "!pip install nltk\n",
        "!pip install tld\n",
        "!pip install pyarrow\n",
        "!pip install qwikidata\n",
        "!pip install sentence-transformers\n",
        "!pip install transformers\n",
        "!pip install umap-learn\n",
        "!pip install hdbscan\n",
        "!pip install tqdm"
      ],
      "execution_count": null,
      "outputs": [
        {
          "output_type": "stream",
          "name": "stdout",
          "text": [
            "Requirement already satisfied: pip in /usr/local/lib/python3.7/dist-packages (21.1.3)\n",
            "Collecting pip\n",
            "  Downloading pip-21.3.1-py3-none-any.whl (1.7 MB)\n",
            "\u001b[K     |████████████████████████████████| 1.7 MB 2.8 MB/s \n",
            "\u001b[?25hInstalling collected packages: pip\n",
            "  Attempting uninstall: pip\n",
            "    Found existing installation: pip 21.1.3\n",
            "    Uninstalling pip-21.1.3:\n",
            "      Successfully uninstalled pip-21.1.3\n",
            "Successfully installed pip-21.3.1\n",
            "Collecting pytrends\n",
            "  Downloading pytrends-4.7.3-py3-none-any.whl (14 kB)\n",
            "Requirement already satisfied: pandas>=0.25 in /usr/local/lib/python3.7/dist-packages (from pytrends) (1.1.5)\n",
            "Requirement already satisfied: lxml in /usr/local/lib/python3.7/dist-packages (from pytrends) (4.2.6)\n",
            "Requirement already satisfied: requests in /usr/local/lib/python3.7/dist-packages (from pytrends) (2.23.0)\n",
            "Requirement already satisfied: python-dateutil>=2.7.3 in /usr/local/lib/python3.7/dist-packages (from pandas>=0.25->pytrends) (2.8.2)\n",
            "Requirement already satisfied: pytz>=2017.2 in /usr/local/lib/python3.7/dist-packages (from pandas>=0.25->pytrends) (2018.9)\n",
            "Requirement already satisfied: numpy>=1.15.4 in /usr/local/lib/python3.7/dist-packages (from pandas>=0.25->pytrends) (1.19.5)\n",
            "Requirement already satisfied: urllib3!=1.25.0,!=1.25.1,<1.26,>=1.21.1 in /usr/local/lib/python3.7/dist-packages (from requests->pytrends) (1.24.3)\n",
            "Requirement already satisfied: idna<3,>=2.5 in /usr/local/lib/python3.7/dist-packages (from requests->pytrends) (2.10)\n",
            "Requirement already satisfied: chardet<4,>=3.0.2 in /usr/local/lib/python3.7/dist-packages (from requests->pytrends) (3.0.4)\n",
            "Requirement already satisfied: certifi>=2017.4.17 in /usr/local/lib/python3.7/dist-packages (from requests->pytrends) (2021.10.8)\n",
            "Requirement already satisfied: six>=1.5 in /usr/local/lib/python3.7/dist-packages (from python-dateutil>=2.7.3->pandas>=0.25->pytrends) (1.15.0)\n",
            "Installing collected packages: pytrends\n",
            "Successfully installed pytrends-4.7.3\n",
            "\u001b[33mWARNING: Running pip as the 'root' user can result in broken permissions and conflicting behaviour with the system package manager. It is recommended to use a virtual environment instead: https://pip.pypa.io/warnings/venv\u001b[0m\n",
            "Requirement already satisfied: nltk in /usr/local/lib/python3.7/dist-packages (3.2.5)\n",
            "Requirement already satisfied: six in /usr/local/lib/python3.7/dist-packages (from nltk) (1.15.0)\n",
            "\u001b[33mWARNING: Running pip as the 'root' user can result in broken permissions and conflicting behaviour with the system package manager. It is recommended to use a virtual environment instead: https://pip.pypa.io/warnings/venv\u001b[0m\n",
            "Collecting tld\n",
            "  Downloading tld-0.12.6-py37-none-any.whl (412 kB)\n",
            "     |████████████████████████████████| 412 kB 4.9 MB/s            \n",
            "\u001b[?25hInstalling collected packages: tld\n",
            "Successfully installed tld-0.12.6\n",
            "\u001b[33mWARNING: Running pip as the 'root' user can result in broken permissions and conflicting behaviour with the system package manager. It is recommended to use a virtual environment instead: https://pip.pypa.io/warnings/venv\u001b[0m\n",
            "Requirement already satisfied: pyarrow in /usr/local/lib/python3.7/dist-packages (3.0.0)\n",
            "Requirement already satisfied: numpy>=1.16.6 in /usr/local/lib/python3.7/dist-packages (from pyarrow) (1.19.5)\n",
            "\u001b[33mWARNING: Running pip as the 'root' user can result in broken permissions and conflicting behaviour with the system package manager. It is recommended to use a virtual environment instead: https://pip.pypa.io/warnings/venv\u001b[0m\n",
            "Collecting qwikidata\n",
            "  Downloading qwikidata-0.4.0-py3-none-any.whl (20 kB)\n",
            "Collecting mypy-extensions\n",
            "  Downloading mypy_extensions-0.4.3-py2.py3-none-any.whl (4.5 kB)\n",
            "Requirement already satisfied: requests in /usr/local/lib/python3.7/dist-packages (from qwikidata) (2.23.0)\n",
            "Requirement already satisfied: urllib3!=1.25.0,!=1.25.1,<1.26,>=1.21.1 in /usr/local/lib/python3.7/dist-packages (from requests->qwikidata) (1.24.3)\n",
            "Requirement already satisfied: idna<3,>=2.5 in /usr/local/lib/python3.7/dist-packages (from requests->qwikidata) (2.10)\n",
            "Requirement already satisfied: certifi>=2017.4.17 in /usr/local/lib/python3.7/dist-packages (from requests->qwikidata) (2021.10.8)\n",
            "Requirement already satisfied: chardet<4,>=3.0.2 in /usr/local/lib/python3.7/dist-packages (from requests->qwikidata) (3.0.4)\n",
            "Installing collected packages: mypy-extensions, qwikidata\n",
            "Successfully installed mypy-extensions-0.4.3 qwikidata-0.4.0\n",
            "\u001b[33mWARNING: Running pip as the 'root' user can result in broken permissions and conflicting behaviour with the system package manager. It is recommended to use a virtual environment instead: https://pip.pypa.io/warnings/venv\u001b[0m\n",
            "Collecting sentence-transformers\n",
            "  Downloading sentence-transformers-2.1.0.tar.gz (78 kB)\n",
            "     |████████████████████████████████| 78 kB 3.6 MB/s             \n",
            "\u001b[?25h  Preparing metadata (setup.py) ... \u001b[?25l\u001b[?25hdone\n",
            "Collecting transformers<5.0.0,>=4.6.0\n",
            "  Downloading transformers-4.12.3-py3-none-any.whl (3.1 MB)\n",
            "     |████████████████████████████████| 3.1 MB 11.0 MB/s            \n",
            "\u001b[?25hCollecting tokenizers>=0.10.3\n",
            "  Downloading tokenizers-0.10.3-cp37-cp37m-manylinux_2_5_x86_64.manylinux1_x86_64.manylinux_2_12_x86_64.manylinux2010_x86_64.whl (3.3 MB)\n",
            "     |████████████████████████████████| 3.3 MB 47.2 MB/s            \n",
            "\u001b[?25hRequirement already satisfied: tqdm in /usr/local/lib/python3.7/dist-packages (from sentence-transformers) (4.62.3)\n",
            "Requirement already satisfied: torch>=1.6.0 in /usr/local/lib/python3.7/dist-packages (from sentence-transformers) (1.9.0+cu111)\n",
            "Requirement already satisfied: torchvision in /usr/local/lib/python3.7/dist-packages (from sentence-transformers) (0.10.0+cu111)\n",
            "Requirement already satisfied: numpy in /usr/local/lib/python3.7/dist-packages (from sentence-transformers) (1.19.5)\n",
            "Requirement already satisfied: scikit-learn in /usr/local/lib/python3.7/dist-packages (from sentence-transformers) (0.22.2.post1)\n",
            "Requirement already satisfied: scipy in /usr/local/lib/python3.7/dist-packages (from sentence-transformers) (1.4.1)\n",
            "Requirement already satisfied: nltk in /usr/local/lib/python3.7/dist-packages (from sentence-transformers) (3.2.5)\n",
            "Collecting sentencepiece\n",
            "  Downloading sentencepiece-0.1.96-cp37-cp37m-manylinux_2_17_x86_64.manylinux2014_x86_64.whl (1.2 MB)\n",
            "     |████████████████████████████████| 1.2 MB 48.2 MB/s            \n",
            "\u001b[?25hCollecting huggingface-hub\n",
            "  Downloading huggingface_hub-0.1.2-py3-none-any.whl (59 kB)\n",
            "     |████████████████████████████████| 59 kB 7.3 MB/s             \n",
            "\u001b[?25hRequirement already satisfied: typing-extensions in /usr/local/lib/python3.7/dist-packages (from torch>=1.6.0->sentence-transformers) (3.10.0.2)\n",
            "Requirement already satisfied: packaging>=20.0 in /usr/local/lib/python3.7/dist-packages (from transformers<5.0.0,>=4.6.0->sentence-transformers) (21.2)\n",
            "Requirement already satisfied: regex!=2019.12.17 in /usr/local/lib/python3.7/dist-packages (from transformers<5.0.0,>=4.6.0->sentence-transformers) (2019.12.20)\n",
            "Collecting sacremoses\n",
            "  Downloading sacremoses-0.0.46-py3-none-any.whl (895 kB)\n",
            "     |████████████████████████████████| 895 kB 45.1 MB/s            \n",
            "\u001b[?25hRequirement already satisfied: filelock in /usr/local/lib/python3.7/dist-packages (from transformers<5.0.0,>=4.6.0->sentence-transformers) (3.3.2)\n",
            "Collecting pyyaml>=5.1\n",
            "  Downloading PyYAML-6.0-cp37-cp37m-manylinux_2_5_x86_64.manylinux1_x86_64.manylinux_2_12_x86_64.manylinux2010_x86_64.whl (596 kB)\n",
            "     |████████████████████████████████| 596 kB 73.9 MB/s            \n",
            "\u001b[?25hRequirement already satisfied: requests in /usr/local/lib/python3.7/dist-packages (from transformers<5.0.0,>=4.6.0->sentence-transformers) (2.23.0)\n",
            "Requirement already satisfied: importlib-metadata in /usr/local/lib/python3.7/dist-packages (from transformers<5.0.0,>=4.6.0->sentence-transformers) (4.8.1)\n",
            "Requirement already satisfied: six in /usr/local/lib/python3.7/dist-packages (from nltk->sentence-transformers) (1.15.0)\n",
            "Requirement already satisfied: joblib>=0.11 in /usr/local/lib/python3.7/dist-packages (from scikit-learn->sentence-transformers) (1.1.0)\n",
            "Requirement already satisfied: pillow>=5.3.0 in /usr/local/lib/python3.7/dist-packages (from torchvision->sentence-transformers) (7.1.2)\n",
            "Requirement already satisfied: pyparsing<3,>=2.0.2 in /usr/local/lib/python3.7/dist-packages (from packaging>=20.0->transformers<5.0.0,>=4.6.0->sentence-transformers) (2.4.7)\n",
            "Requirement already satisfied: zipp>=0.5 in /usr/local/lib/python3.7/dist-packages (from importlib-metadata->transformers<5.0.0,>=4.6.0->sentence-transformers) (3.6.0)\n",
            "Requirement already satisfied: idna<3,>=2.5 in /usr/local/lib/python3.7/dist-packages (from requests->transformers<5.0.0,>=4.6.0->sentence-transformers) (2.10)\n",
            "Requirement already satisfied: chardet<4,>=3.0.2 in /usr/local/lib/python3.7/dist-packages (from requests->transformers<5.0.0,>=4.6.0->sentence-transformers) (3.0.4)\n",
            "Requirement already satisfied: certifi>=2017.4.17 in /usr/local/lib/python3.7/dist-packages (from requests->transformers<5.0.0,>=4.6.0->sentence-transformers) (2021.10.8)\n",
            "Requirement already satisfied: urllib3!=1.25.0,!=1.25.1,<1.26,>=1.21.1 in /usr/local/lib/python3.7/dist-packages (from requests->transformers<5.0.0,>=4.6.0->sentence-transformers) (1.24.3)\n",
            "Requirement already satisfied: click in /usr/local/lib/python3.7/dist-packages (from sacremoses->transformers<5.0.0,>=4.6.0->sentence-transformers) (7.1.2)\n",
            "Building wheels for collected packages: sentence-transformers\n",
            "  Building wheel for sentence-transformers (setup.py) ... \u001b[?25l\u001b[?25hdone\n",
            "  Created wheel for sentence-transformers: filename=sentence_transformers-2.1.0-py3-none-any.whl size=121000 sha256=66280569a4e7b53bc91639812aa9f44c189330322f4941e413119e696065e693\n",
            "  Stored in directory: /root/.cache/pip/wheels/90/f0/bb/ed1add84da70092ea526466eadc2bfb197c4bcb8d4fa5f7bad\n",
            "Successfully built sentence-transformers\n",
            "Installing collected packages: pyyaml, tokenizers, sacremoses, huggingface-hub, transformers, sentencepiece, sentence-transformers\n",
            "  Attempting uninstall: pyyaml\n",
            "    Found existing installation: PyYAML 3.13\n",
            "    Uninstalling PyYAML-3.13:\n",
            "      Successfully uninstalled PyYAML-3.13\n",
            "Successfully installed huggingface-hub-0.1.2 pyyaml-6.0 sacremoses-0.0.46 sentence-transformers-2.1.0 sentencepiece-0.1.96 tokenizers-0.10.3 transformers-4.12.3\n",
            "\u001b[33mWARNING: Running pip as the 'root' user can result in broken permissions and conflicting behaviour with the system package manager. It is recommended to use a virtual environment instead: https://pip.pypa.io/warnings/venv\u001b[0m\n",
            "Requirement already satisfied: transformers in /usr/local/lib/python3.7/dist-packages (4.12.3)\n",
            "Requirement already satisfied: regex!=2019.12.17 in /usr/local/lib/python3.7/dist-packages (from transformers) (2019.12.20)\n",
            "Requirement already satisfied: importlib-metadata in /usr/local/lib/python3.7/dist-packages (from transformers) (4.8.1)\n",
            "Requirement already satisfied: filelock in /usr/local/lib/python3.7/dist-packages (from transformers) (3.3.2)\n",
            "Requirement already satisfied: pyyaml>=5.1 in /usr/local/lib/python3.7/dist-packages (from transformers) (6.0)\n",
            "Requirement already satisfied: requests in /usr/local/lib/python3.7/dist-packages (from transformers) (2.23.0)\n",
            "Requirement already satisfied: tqdm>=4.27 in /usr/local/lib/python3.7/dist-packages (from transformers) (4.62.3)\n",
            "Requirement already satisfied: tokenizers<0.11,>=0.10.1 in /usr/local/lib/python3.7/dist-packages (from transformers) (0.10.3)\n",
            "Requirement already satisfied: huggingface-hub<1.0,>=0.1.0 in /usr/local/lib/python3.7/dist-packages (from transformers) (0.1.2)\n",
            "Requirement already satisfied: sacremoses in /usr/local/lib/python3.7/dist-packages (from transformers) (0.0.46)\n",
            "Requirement already satisfied: packaging>=20.0 in /usr/local/lib/python3.7/dist-packages (from transformers) (21.2)\n",
            "Requirement already satisfied: numpy>=1.17 in /usr/local/lib/python3.7/dist-packages (from transformers) (1.19.5)\n",
            "Requirement already satisfied: typing-extensions>=3.7.4.3 in /usr/local/lib/python3.7/dist-packages (from huggingface-hub<1.0,>=0.1.0->transformers) (3.10.0.2)\n",
            "Requirement already satisfied: pyparsing<3,>=2.0.2 in /usr/local/lib/python3.7/dist-packages (from packaging>=20.0->transformers) (2.4.7)\n",
            "Requirement already satisfied: zipp>=0.5 in /usr/local/lib/python3.7/dist-packages (from importlib-metadata->transformers) (3.6.0)\n",
            "Requirement already satisfied: chardet<4,>=3.0.2 in /usr/local/lib/python3.7/dist-packages (from requests->transformers) (3.0.4)\n",
            "Requirement already satisfied: urllib3!=1.25.0,!=1.25.1,<1.26,>=1.21.1 in /usr/local/lib/python3.7/dist-packages (from requests->transformers) (1.24.3)\n",
            "Requirement already satisfied: idna<3,>=2.5 in /usr/local/lib/python3.7/dist-packages (from requests->transformers) (2.10)\n",
            "Requirement already satisfied: certifi>=2017.4.17 in /usr/local/lib/python3.7/dist-packages (from requests->transformers) (2021.10.8)\n",
            "Requirement already satisfied: joblib in /usr/local/lib/python3.7/dist-packages (from sacremoses->transformers) (1.1.0)\n",
            "Requirement already satisfied: click in /usr/local/lib/python3.7/dist-packages (from sacremoses->transformers) (7.1.2)\n",
            "Requirement already satisfied: six in /usr/local/lib/python3.7/dist-packages (from sacremoses->transformers) (1.15.0)\n",
            "\u001b[33mWARNING: Running pip as the 'root' user can result in broken permissions and conflicting behaviour with the system package manager. It is recommended to use a virtual environment instead: https://pip.pypa.io/warnings/venv\u001b[0m\n",
            "Collecting umap-learn\n",
            "  Downloading umap-learn-0.5.2.tar.gz (86 kB)\n",
            "     |████████████████████████████████| 86 kB 3.3 MB/s             \n",
            "\u001b[?25h  Preparing metadata (setup.py) ... \u001b[?25l\u001b[?25hdone\n",
            "Requirement already satisfied: numpy>=1.17 in /usr/local/lib/python3.7/dist-packages (from umap-learn) (1.19.5)\n",
            "Requirement already satisfied: scikit-learn>=0.22 in /usr/local/lib/python3.7/dist-packages (from umap-learn) (0.22.2.post1)\n",
            "Requirement already satisfied: scipy>=1.0 in /usr/local/lib/python3.7/dist-packages (from umap-learn) (1.4.1)\n",
            "Requirement already satisfied: numba>=0.49 in /usr/local/lib/python3.7/dist-packages (from umap-learn) (0.51.2)\n",
            "Collecting pynndescent>=0.5\n",
            "  Downloading pynndescent-0.5.5.tar.gz (1.1 MB)\n",
            "     |████████████████████████████████| 1.1 MB 17.8 MB/s            \n",
            "\u001b[?25h  Preparing metadata (setup.py) ... \u001b[?25l\u001b[?25hdone\n",
            "Requirement already satisfied: tqdm in /usr/local/lib/python3.7/dist-packages (from umap-learn) (4.62.3)\n",
            "Requirement already satisfied: setuptools in /usr/local/lib/python3.7/dist-packages (from numba>=0.49->umap-learn) (57.4.0)\n",
            "Requirement already satisfied: llvmlite<0.35,>=0.34.0.dev0 in /usr/local/lib/python3.7/dist-packages (from numba>=0.49->umap-learn) (0.34.0)\n",
            "Requirement already satisfied: joblib>=0.11 in /usr/local/lib/python3.7/dist-packages (from pynndescent>=0.5->umap-learn) (1.1.0)\n",
            "Building wheels for collected packages: umap-learn, pynndescent\n",
            "  Building wheel for umap-learn (setup.py) ... \u001b[?25l\u001b[?25hdone\n",
            "  Created wheel for umap-learn: filename=umap_learn-0.5.2-py3-none-any.whl size=82709 sha256=66a14a15b9365ccc97a19506b5a57f298cb1006c16de3af2eaf45fe03d8667cf\n",
            "  Stored in directory: /root/.cache/pip/wheels/84/1b/c6/aaf68a748122632967cef4dffef68224eb16798b6793257d82\n",
            "  Building wheel for pynndescent (setup.py) ... \u001b[?25l\u001b[?25hdone\n",
            "  Created wheel for pynndescent: filename=pynndescent-0.5.5-py3-none-any.whl size=52603 sha256=d6f1911345c1a530a17535a66ad088dc2ab8320d8448814d3decda940c77a775\n",
            "  Stored in directory: /root/.cache/pip/wheels/af/e9/33/04db1436df0757c42fda8ea6796d7a8586e23c85fac355f476\n",
            "Successfully built umap-learn pynndescent\n",
            "Installing collected packages: pynndescent, umap-learn\n",
            "Successfully installed pynndescent-0.5.5 umap-learn-0.5.2\n",
            "\u001b[33mWARNING: Running pip as the 'root' user can result in broken permissions and conflicting behaviour with the system package manager. It is recommended to use a virtual environment instead: https://pip.pypa.io/warnings/venv\u001b[0m\n",
            "Collecting hdbscan\n",
            "  Downloading hdbscan-0.8.27.tar.gz (6.4 MB)\n",
            "     |████████████████████████████████| 6.4 MB 5.1 MB/s            \n",
            "\u001b[?25h  Installing build dependencies ... \u001b[?25l\u001b[?25hdone\n",
            "  Getting requirements to build wheel ... \u001b[?25l\u001b[?25hdone\n",
            "  Preparing metadata (pyproject.toml) ... \u001b[?25l\u001b[?25hdone\n",
            "Requirement already satisfied: cython>=0.27 in /usr/local/lib/python3.7/dist-packages (from hdbscan) (0.29.24)\n",
            "Requirement already satisfied: scipy>=1.0 in /usr/local/lib/python3.7/dist-packages (from hdbscan) (1.4.1)\n",
            "Requirement already satisfied: scikit-learn>=0.20 in /usr/local/lib/python3.7/dist-packages (from hdbscan) (0.22.2.post1)\n",
            "Requirement already satisfied: joblib>=1.0 in /usr/local/lib/python3.7/dist-packages (from hdbscan) (1.1.0)\n",
            "Requirement already satisfied: six in /usr/local/lib/python3.7/dist-packages (from hdbscan) (1.15.0)\n",
            "Requirement already satisfied: numpy>=1.16 in /usr/local/lib/python3.7/dist-packages (from hdbscan) (1.19.5)\n",
            "Building wheels for collected packages: hdbscan\n",
            "  Building wheel for hdbscan (pyproject.toml) ... \u001b[?25l\u001b[?25hdone\n",
            "  Created wheel for hdbscan: filename=hdbscan-0.8.27-cp37-cp37m-linux_x86_64.whl size=2311894 sha256=0225566ce17fc1c05e46567bd24753981b1d0ea3574a0593282b1e6e59e4aec4\n",
            "  Stored in directory: /root/.cache/pip/wheels/73/5f/2f/9a259b84003b84847c259779206acecabb25ab56f1506ee72b\n",
            "Successfully built hdbscan\n",
            "Installing collected packages: hdbscan\n",
            "Successfully installed hdbscan-0.8.27\n",
            "\u001b[33mWARNING: Running pip as the 'root' user can result in broken permissions and conflicting behaviour with the system package manager. It is recommended to use a virtual environment instead: https://pip.pypa.io/warnings/venv\u001b[0m\n",
            "Requirement already satisfied: tqdm in /usr/local/lib/python3.7/dist-packages (4.62.3)\n",
            "\u001b[33mWARNING: Running pip as the 'root' user can result in broken permissions and conflicting behaviour with the system package manager. It is recommended to use a virtual environment instead: https://pip.pypa.io/warnings/venv\u001b[0m\n"
          ]
        }
      ]
    },
    {
      "cell_type": "markdown",
      "metadata": {
        "id": "LDxR5xYQBbE4"
      },
      "source": [
        "## Imports"
      ]
    },
    {
      "cell_type": "code",
      "metadata": {
        "id": "GL8NAnbFBez4"
      },
      "source": [
        "import bz2\n",
        "import json\n",
        "import umap\n",
        "import hdbscan\n",
        "import nltk\n",
        "import ast\n",
        "import torch\n",
        "import pyarrow\n",
        "import os.path\n",
        "import pandas as pd\n",
        "import numpy as np\n",
        "import seaborn as sns\n",
        "import matplotlib.pyplot as plt\n",
        "import torch.nn.functional as f\n",
        "from tqdm import tqdm\n",
        "from tld import get_tld\n",
        "from itertools import chain\n",
        "from datetime import datetime\n",
        "from pytrends import dailydata\n",
        "from google.colab import drive\n",
        "from collections import Counter\n",
        "from scipy.stats import pearsonr\n",
        "from nltk.corpus import stopwords\n",
        "from collections import defaultdict\n",
        "from pytrends.request import TrendReq\n",
        "from nltk.cluster import KMeansClusterer\n",
        "from sentence_transformers import SentenceTransformer\n",
        "from transformers import BertModel, BertTokenizer\n",
        "from sklearn.preprocessing import StandardScaler, normalize\n",
        "from qwikidata.entity import WikidataItem, WikidataLexeme, WikidataProperty\n",
        "from qwikidata.linked_data_interface import get_entity_dict_from_api"
      ],
      "execution_count": null,
      "outputs": []
    },
    {
      "cell_type": "markdown",
      "metadata": {
        "id": "KUt1rItUBfnI"
      },
      "source": [
        "## Constants"
      ]
    },
    {
      "cell_type": "code",
      "metadata": {
        "id": "ejXdQWRrBg8g"
      },
      "source": [
        "# Whether to create a parsed file from the Quotebank dataset.\n",
        "PARSE_QUOTEBANK = True\n",
        "\n",
        "# Colorblind-friendly color palette.\n",
        "COLORS = ['#377EB8', '#FF7F00', '#4DAF4A', '#F781BF']\n",
        "\n",
        "# A mapping between a year and the file that contains the input of that year.\n",
        "QUOTES_BY_YEAR = {year: f\"/content/drive/MyDrive/politicians-quotes-{year}.json.bz2\" for year in range(2015, 2021)}\n",
        "\n",
        "# A mapping between a party and quotes of its members\n",
        "WIKIDATA_POLITICIANS_PATH = f\"/content/drive/MyDrive/wikidata_politicians.csv\"\n",
        "\n",
        "# Path to parquet file used for Wikidata information\n",
        "WIKIDATA_PATH = f\"/content/drive/MyDrive/Quotebank_Wikidata/speaker_attributes.parquet\"\n",
        "\n",
        "# Path to file with mapping between q-codes and labels\n",
        "WIKIDATA_LABELS_PATH = f\"/content/drive/MyDrive/Quotebank_Wikidata/wikidata_labels_descriptions_quotebank.csv.bz2\"\n",
        "\n",
        "# Wikidata columns that are represented by q codes\n",
        "WIKIDATA_QCODES_COL = ['occupation', 'party']\n",
        "\n",
        "# The name of the single-value general stats\n",
        "VALUE_STATS = {'nan_speakers', 'nan_percentage', 'avg_quote_len', 'num_quotes'}\n",
        "\n",
        "# The name of the counter general stats\n",
        "COUNTER_STATS = {'quotes_by_date', 'qids_count'}\n",
        "\n",
        "# The year for which the data will be analyzed\n",
        "YEAR = 2018"
      ],
      "execution_count": null,
      "outputs": []
    },
    {
      "cell_type": "markdown",
      "metadata": {
        "id": "sCm34P0FgHZi"
      },
      "source": [
        "## Setup"
      ]
    },
    {
      "cell_type": "code",
      "metadata": {
        "colab": {
          "base_uri": "https://localhost:8080/"
        },
        "id": "YlA_werTgHPU",
        "outputId": "e5543a90-961a-493d-bfa5-8c08b3e814fb"
      },
      "source": [
        "# Connect to Google trends API\n",
        "pytrend = TrendReq()\n",
        "# NLTK setup\n",
        "nltk.download('stopwords')\n",
        "nltk.download('punkt')\n",
        "nltk.download('averaged_perceptron_tagger')\n",
        "tqdm.pandas()"
      ],
      "execution_count": null,
      "outputs": [
        {
          "output_type": "stream",
          "name": "stdout",
          "text": [
            "[nltk_data] Downloading package stopwords to /root/nltk_data...\n",
            "[nltk_data]   Unzipping corpora/stopwords.zip.\n",
            "[nltk_data] Downloading package punkt to /root/nltk_data...\n",
            "[nltk_data]   Unzipping tokenizers/punkt.zip.\n",
            "[nltk_data] Downloading package averaged_perceptron_tagger to\n",
            "[nltk_data]     /root/nltk_data...\n",
            "[nltk_data]   Unzipping taggers/averaged_perceptron_tagger.zip.\n"
          ]
        }
      ]
    },
    {
      "cell_type": "markdown",
      "metadata": {
        "id": "pTGtp0hqkd3_"
      },
      "source": [
        "## General Quotebank Analysis"
      ]
    },
    {
      "cell_type": "code",
      "metadata": {
        "id": "YczcOet6kd3_"
      },
      "source": [
        "def describe_chunks(df_reader):\n",
        "    \"\"\"\n",
        "    Compute general statistics about the dataset.\n",
        "    \"\"\"\n",
        "    # Initialize single-value stats\n",
        "    stats = {stat: 0 for stat in VALUE_STATS}\n",
        "    # Initialize counter stats\n",
        "    stats = {**stats, **{stat: Counter() for stat in COUNTER_STATS}}\n",
        "    for chunk in df_reader:\n",
        "        # Compute stats per chunk\n",
        "        stats['nan_speakers'] += (chunk['speaker'] == 'None').sum()\n",
        "        stats['avg_quote_len'] += chunk['quotation'].str.len().sum(axis=0)\n",
        "        stats['num_quotes'] += len(chunk)\n",
        "        quotes_by_date = Counter(\n",
        "            (chunk.groupby(by=chunk[\"date\"].dt.date).count())[\"quoteID\"].T.to_dict()\n",
        "        )\n",
        "        stats['quotes_by_date'] += quotes_by_date\n",
        "        stats['qids_count'] += Counter(chain.from_iterable(chunk['qids']))\n",
        "    \n",
        "    stats['avg_quote_len'] = stats['avg_quote_len'] / stats['num_quotes']\n",
        "    stats['nan_percentage'] = stats['nan_speakers'] / stats['num_quotes']\n",
        "    return stats"
      ],
      "execution_count": null,
      "outputs": []
    },
    {
      "cell_type": "code",
      "metadata": {
        "id": "CG0g8zlEkd3_"
      },
      "source": [
        "# Analyze data chunk by chunk\n",
        "df_reader = pd.read_json(f'quotes-{YEAR}.json.bz2', lines=True,\n",
        "                         compression='bz2', chunksize=10000)\n",
        "stats = describe_chunks(df_reader)"
      ],
      "execution_count": null,
      "outputs": []
    },
    {
      "cell_type": "code",
      "metadata": {
        "id": "eGXwwABDkd4A",
        "outputId": "27da9b3e-567d-4c98-d723-cfd58c4b73fe"
      },
      "source": [
        "# Print full data stats\n",
        "pd.DataFrame.from_dict({name: [stats[name]] for name in VALUE_STATS}).style.hide_index()"
      ],
      "execution_count": null,
      "outputs": [
        {
          "data": {
            "text/html": [
              "<style type=\"text/css\">\n",
              "</style>\n",
              "<table id=\"T_6574f_\">\n",
              "  <thead>\n",
              "    <tr>\n",
              "      <th class=\"col_heading level0 col0\" >nan_percentage</th>\n",
              "      <th class=\"col_heading level0 col1\" >nan_speakers</th>\n",
              "      <th class=\"col_heading level0 col2\" >num_quotes</th>\n",
              "      <th class=\"col_heading level0 col3\" >avg_quote_len</th>\n",
              "    </tr>\n",
              "  </thead>\n",
              "  <tbody>\n",
              "    <tr>\n",
              "      <td id=\"T_6574f_row0_col0\" class=\"data row0 col0\" >0.351031</td>\n",
              "      <td id=\"T_6574f_row0_col1\" class=\"data row0 col1\" >9558032</td>\n",
              "      <td id=\"T_6574f_row0_col2\" class=\"data row0 col2\" >27228451</td>\n",
              "      <td id=\"T_6574f_row0_col3\" class=\"data row0 col3\" >134.068001</td>\n",
              "    </tr>\n",
              "  </tbody>\n",
              "</table>\n"
            ],
            "text/plain": [
              "<pandas.io.formats.style.Styler at 0x7f3328a12d90>"
            ]
          },
          "execution_count": 123,
          "metadata": {},
          "output_type": "execute_result"
        }
      ]
    },
    {
      "cell_type": "code",
      "metadata": {
        "id": "wMZrlHgdkd4A",
        "outputId": "b9729527-4a84-4541-a3ae-13c45d8b2f93"
      },
      "source": [
        "# Plot the number of quotes by date\n",
        "plt.figure(figsize=(10, 5))\n",
        "plt.bar((stats['quotes_by_date']).keys(),\n",
        "        stats['quotes_by_date'].values(),\n",
        "        color=COLORS[0]);\n",
        "plt.title('Number of quotes by date')\n",
        "plt.ylabel('Quotes per day')\n",
        "plt.xlabel('Date');"
      ],
      "execution_count": null,
      "outputs": [
        {
          "data": {
            "image/png": "[encoded data removed]",
            "text/plain": [
              "<Figure size 720x360 with 1 Axes>"
            ]
          },
          "metadata": {
            "needs_background": "light"
          },
          "output_type": "display_data"
        }
      ]
    },
    {
      "cell_type": "code",
      "metadata": {
        "id": "Inu6xp5Lkd4A",
        "outputId": "e6910cca-33e1-4020-aeb0-7ac6f26358dd"
      },
      "source": [
        "# Plot the number of quotes for the most common speakers\n",
        "most_common_qids = stats['qids_count'].most_common(10)\n",
        "plt.figure(figsize=(10, 5))\n",
        "plt.bar([t[0] for t in most_common_qids],\n",
        "        [t[1] for t in most_common_qids],\n",
        "        color=COLORS[0])\n",
        "plt.title(f'Number of quotes by speaker Q ID in {YEAR}')\n",
        "plt.xlabel('Speaker')\n",
        "plt.ylabel('Number of quotes');"
      ],
      "execution_count": null,
      "outputs": [
        {
          "data": {
            "image/png": "[encoded data removed]",
            "text/plain": [
              "<Figure size 720x360 with 1 Axes>"
            ]
          },
          "metadata": {
            "needs_background": "light"
          },
          "output_type": "display_data"
        }
      ]
    },
    {
      "cell_type": "markdown",
      "metadata": {
        "id": "Q86936eGA5ZZ"
      },
      "source": [
        "## Quote Parsing"
      ]
    },
    {
      "cell_type": "markdown",
      "metadata": {
        "id": "FUw5Ks39YuIl"
      },
      "source": [
        "The Quotebank data is too large to handle in-memory in a single DataFrame. Therefore, for our initial analyses we select only the quotes from 2018 that were uttered by politicians. We detect these quotes by looking at the Q IDs of the speakers, merging them with Wikidata based on the Q ID, resolving the Q IDs of their profession and filtering those quotes that belong to politicians."
      ]
    },
    {
      "cell_type": "code",
      "metadata": {
        "id": "0OdPWN0HE3Wg"
      },
      "source": [
        "# A list of politicians of interest.\n",
        "politicians = [\"Barack Obama\", \"George W. Bush\", \"Donald Trump\", \"John McCain\",\n",
        "            \"Mitt Romney\", \"Hillary Clinton\", \"Benjamin Netanyahu\",\n",
        "            \"Narendra Modi\", \"Joe Biden\", \"Theresa May\", \"Boris Johnson\"]"
      ],
      "execution_count": null,
      "outputs": []
    },
    {
      "cell_type": "code",
      "metadata": {
        "id": "IhcxNMaxA7VY"
      },
      "source": [
        "def get_politicians_data(year):\n",
        "  \"\"\"\n",
        "  Given a year, parses the Quotebank data and creates a file containing\n",
        "  the quotes of politicians from that year.\n",
        "  \"\"\"\n",
        "  path_to_out = QUOTES_BY_YEAR[year]\n",
        "  path_to_file = f'/content/drive/MyDrive/Quotebank/quotes-{year}.json.bz2'\n",
        "  with bz2.open(path_to_file, 'rb') as s_file:\n",
        "    with bz2.open(path_to_out, 'wb') as d_file:\n",
        "      for i, instance in enumerate(s_file):\n",
        "        # Load a sample.\n",
        "        instance = json.loads(instance)\n",
        "        if (sum([politician in instance['speaker'] for politician in politicians]) > 0):\n",
        "          # Write sample to new file.\n",
        "          d_file.write((json.dumps(instance)+'\\n').encode('utf-8'))\n",
        "        print(i)"
      ],
      "execution_count": null,
      "outputs": []
    },
    {
      "cell_type": "code",
      "metadata": {
        "id": "YHpJEVHDQFjV"
      },
      "source": [
        "# get_politicians_data(YEAR)"
      ],
      "execution_count": null,
      "outputs": []
    },
    {
      "cell_type": "code",
      "metadata": {
        "id": "LFEoxm6XSLx7"
      },
      "source": [
        "# Store politicians data in DataFrame.\n",
        "data = pd.read_json(QUOTES_BY_YEAR[YEAR], lines=True)"
      ],
      "execution_count": null,
      "outputs": []
    },
    {
      "cell_type": "markdown",
      "metadata": {
        "id": "kOQ8TDgzcRN_"
      },
      "source": [
        "Below, we look at a couple of quotes that belong to Donald Trump and Barack Obama, two of our politicians of interest.\n",
        "\n"
      ]
    },
    {
      "cell_type": "code",
      "metadata": {
        "colab": {
          "base_uri": "https://localhost:8080/",
          "height": 371
        },
        "id": "sZUunRkQTkCS",
        "outputId": "483592ab-ff9d-4feb-8b42-00b53ae9cb2a"
      },
      "source": [
        "trump_quotes = data[data[\"speaker\"].str.contains(\"Donald Trump\")]\n",
        "trump_quotes.head()"
      ],
      "execution_count": null,
      "outputs": [
        {
          "data": {
            "text/html": [
              "<div>\n",
              "<style scoped>\n",
              "    .dataframe tbody tr th:only-of-type {\n",
              "        vertical-align: middle;\n",
              "    }\n",
              "\n",
              "    .dataframe tbody tr th {\n",
              "        vertical-align: top;\n",
              "    }\n",
              "\n",
              "    .dataframe thead th {\n",
              "        text-align: right;\n",
              "    }\n",
              "</style>\n",
              "<table border=\"1\" class=\"dataframe\">\n",
              "  <thead>\n",
              "    <tr style=\"text-align: right;\">\n",
              "      <th></th>\n",
              "      <th>quoteID</th>\n",
              "      <th>quotation</th>\n",
              "      <th>speaker</th>\n",
              "      <th>qids</th>\n",
              "      <th>date</th>\n",
              "      <th>numOccurrences</th>\n",
              "      <th>probas</th>\n",
              "      <th>urls</th>\n",
              "      <th>phase</th>\n",
              "    </tr>\n",
              "  </thead>\n",
              "  <tbody>\n",
              "    <tr>\n",
              "      <th>0</th>\n",
              "      <td>2018-05-08-001245</td>\n",
              "      <td>A constructive deal could easily have been str...</td>\n",
              "      <td>President Donald Trump</td>\n",
              "      <td>[Q22686]</td>\n",
              "      <td>2018-05-08 18:36:49</td>\n",
              "      <td>8</td>\n",
              "      <td>[[President Donald Trump, 0.5633], [None, 0.38...</td>\n",
              "      <td>[http://baynews9.com/fl/tampa/news/2018/05/08/...</td>\n",
              "      <td>E</td>\n",
              "    </tr>\n",
              "    <tr>\n",
              "      <th>1</th>\n",
              "      <td>2018-09-26-003692</td>\n",
              "      <td>actually admitted that they're going after far...</td>\n",
              "      <td>President Donald Trump</td>\n",
              "      <td>[Q22686]</td>\n",
              "      <td>2018-09-26 00:00:00</td>\n",
              "      <td>138</td>\n",
              "      <td>[[President Donald Trump, 0.6838], [None, 0.30...</td>\n",
              "      <td>[http://dailyherald.com/news/20180926/kavanaug...</td>\n",
              "      <td>E</td>\n",
              "    </tr>\n",
              "    <tr>\n",
              "      <th>3</th>\n",
              "      <td>2018-07-30-004176</td>\n",
              "      <td>always leaves room for negotiation.</td>\n",
              "      <td>President Donald Trump</td>\n",
              "      <td>[Q22686]</td>\n",
              "      <td>2018-07-30 20:44:00</td>\n",
              "      <td>4</td>\n",
              "      <td>[[President Donald Trump, 0.6616], [None, 0.33...</td>\n",
              "      <td>[http://www.10news.com/newsy/trump-25-billion-...</td>\n",
              "      <td>E</td>\n",
              "    </tr>\n",
              "    <tr>\n",
              "      <th>4</th>\n",
              "      <td>2018-10-30-005630</td>\n",
              "      <td>an incredible leader who is respected by every...</td>\n",
              "      <td>President Donald Trump</td>\n",
              "      <td>[Q22686]</td>\n",
              "      <td>2018-10-30 03:10:00</td>\n",
              "      <td>3</td>\n",
              "      <td>[[President Donald Trump, 0.358], [Cathy McMor...</td>\n",
              "      <td>[http://m.spokesman.com/stories/2018/oct/30/pr...</td>\n",
              "      <td>E</td>\n",
              "    </tr>\n",
              "    <tr>\n",
              "      <th>5</th>\n",
              "      <td>2018-04-21-003582</td>\n",
              "      <td>and he is already a proven liar and leaker.</td>\n",
              "      <td>President Donald Trump</td>\n",
              "      <td>[Q22686]</td>\n",
              "      <td>2018-04-21 21:38:52</td>\n",
              "      <td>1</td>\n",
              "      <td>[[President Donald Trump, 0.7394], [None, 0.16...</td>\n",
              "      <td>[https://mic.com/articles/189012/this-week-in-...</td>\n",
              "      <td>E</td>\n",
              "    </tr>\n",
              "  </tbody>\n",
              "</table>\n",
              "</div>"
            ],
            "text/plain": [
              "             quoteID  ... phase\n",
              "0  2018-05-08-001245  ...     E\n",
              "1  2018-09-26-003692  ...     E\n",
              "3  2018-07-30-004176  ...     E\n",
              "4  2018-10-30-005630  ...     E\n",
              "5  2018-04-21-003582  ...     E\n",
              "\n",
              "[5 rows x 9 columns]"
            ]
          },
          "execution_count": 10,
          "metadata": {},
          "output_type": "execute_result"
        }
      ]
    },
    {
      "cell_type": "code",
      "metadata": {
        "colab": {
          "base_uri": "https://localhost:8080/",
          "height": 354
        },
        "id": "AnSYiIeZ6PVm",
        "outputId": "c1fd0849-44c4-4c05-8b4a-14dd3826ac99"
      },
      "source": [
        "obama_quotes = data[data[\"speaker\"].str.contains(\"Barack Obama\")]\n",
        "obama_quotes.head()"
      ],
      "execution_count": null,
      "outputs": [
        {
          "data": {
            "text/html": [
              "<div>\n",
              "<style scoped>\n",
              "    .dataframe tbody tr th:only-of-type {\n",
              "        vertical-align: middle;\n",
              "    }\n",
              "\n",
              "    .dataframe tbody tr th {\n",
              "        vertical-align: top;\n",
              "    }\n",
              "\n",
              "    .dataframe thead th {\n",
              "        text-align: right;\n",
              "    }\n",
              "</style>\n",
              "<table border=\"1\" class=\"dataframe\">\n",
              "  <thead>\n",
              "    <tr style=\"text-align: right;\">\n",
              "      <th></th>\n",
              "      <th>quoteID</th>\n",
              "      <th>quotation</th>\n",
              "      <th>speaker</th>\n",
              "      <th>qids</th>\n",
              "      <th>date</th>\n",
              "      <th>numOccurrences</th>\n",
              "      <th>probas</th>\n",
              "      <th>urls</th>\n",
              "      <th>phase</th>\n",
              "    </tr>\n",
              "  </thead>\n",
              "  <tbody>\n",
              "    <tr>\n",
              "      <th>21</th>\n",
              "      <td>2018-02-12-035226</td>\n",
              "      <td>I cannot paint.</td>\n",
              "      <td>Barack Obama</td>\n",
              "      <td>[Q76]</td>\n",
              "      <td>2018-02-12 13:50:00</td>\n",
              "      <td>2</td>\n",
              "      <td>[[Barack Obama, 0.8319], [Kehinde Wiley, 0.090...</td>\n",
              "      <td>[http://www.chicagotribune.com/news/ct-obama-p...</td>\n",
              "      <td>E</td>\n",
              "    </tr>\n",
              "    <tr>\n",
              "      <th>35</th>\n",
              "      <td>2018-11-03-029313</td>\n",
              "      <td>incessant, non-stop attempts to divide us with...</td>\n",
              "      <td>Barack Obama</td>\n",
              "      <td>[Q76]</td>\n",
              "      <td>2018-11-03 01:43:21</td>\n",
              "      <td>3</td>\n",
              "      <td>[[Barack Obama, 0.7987], [None, 0.164], [Donal...</td>\n",
              "      <td>[http://thehill.com/homenews/news/414678-obama...</td>\n",
              "      <td>E</td>\n",
              "    </tr>\n",
              "    <tr>\n",
              "      <th>106</th>\n",
              "      <td>2018-10-22-004462</td>\n",
              "      <td>All right? I believe in a fact-based reality. ...</td>\n",
              "      <td>President Barack Obama</td>\n",
              "      <td>[Q76]</td>\n",
              "      <td>2018-10-22 21:36:28</td>\n",
              "      <td>1</td>\n",
              "      <td>[[President Barack Obama, 0.7669], [None, 0.21...</td>\n",
              "      <td>[http://www.rawstory.com/2018/10/dont-believe-...</td>\n",
              "      <td>E</td>\n",
              "    </tr>\n",
              "    <tr>\n",
              "      <th>176</th>\n",
              "      <td>2018-10-26-096425</td>\n",
              "      <td>The biggest threat to our democracy is cynicis...</td>\n",
              "      <td>President Barack Obama</td>\n",
              "      <td>[Q76]</td>\n",
              "      <td>2018-10-26 19:37:30</td>\n",
              "      <td>3</td>\n",
              "      <td>[[President Barack Obama, 0.8994], [None, 0.08...</td>\n",
              "      <td>[http://cbsnews.com/news/live-stream-obama-ral...</td>\n",
              "      <td>E</td>\n",
              "    </tr>\n",
              "    <tr>\n",
              "      <th>201</th>\n",
              "      <td>2018-11-14-125138</td>\n",
              "      <td>was the day I was getting my hair and makeup d...</td>\n",
              "      <td>Barack Obama</td>\n",
              "      <td>[Q76]</td>\n",
              "      <td>2018-11-14 16:01:00</td>\n",
              "      <td>1</td>\n",
              "      <td>[[Barack Obama, 0.7869], [None, 0.2131]]</td>\n",
              "      <td>[http://www.wmagazine.com/story/michelle-obama...</td>\n",
              "      <td>E</td>\n",
              "    </tr>\n",
              "  </tbody>\n",
              "</table>\n",
              "</div>"
            ],
            "text/plain": [
              "               quoteID  ... phase\n",
              "21   2018-02-12-035226  ...     E\n",
              "35   2018-11-03-029313  ...     E\n",
              "106  2018-10-22-004462  ...     E\n",
              "176  2018-10-26-096425  ...     E\n",
              "201  2018-11-14-125138  ...     E\n",
              "\n",
              "[5 rows x 9 columns]"
            ]
          },
          "execution_count": 11,
          "metadata": {},
          "output_type": "execute_result"
        }
      ]
    },
    {
      "cell_type": "markdown",
      "metadata": {
        "id": "WIA84G5EgonW"
      },
      "source": [
        "## Quotes and Google Trends"
      ]
    },
    {
      "cell_type": "markdown",
      "metadata": {
        "id": "A8JB7rrBcbQJ"
      },
      "source": [
        "One on of our theories is that politicians talk about subjects of interest. For example, when a major event takes place, we would expect to hear about it in the news, and more importantly, we would expect political stakeholders to talk about it. However, not all politicians may pay the same amount of attention to all events.\n",
        "\n",
        "We plot the Google search trends against the number of quotes on specific subjects for Donald Trump and Barack Obama, two leaders from opposing parties."
      ]
    },
    {
      "cell_type": "code",
      "metadata": {
        "id": "P_Ur7WaGVbWM"
      },
      "source": [
        "def plot_trend(all_quotes, keyword, year, ax, speaker_name):\n",
        "  \"\"\"\n",
        "  Given a list of quotes, a keyword of interest and a year, plot the Google\n",
        "  search trend against the politicians' trends of uttering related quotes.\n",
        "  \"\"\"\n",
        "  # Get quotes stats from Quotebank\n",
        "  relevant_quotes = all_quotes[all_quotes[\"quotation\"].str.contains(keyword)]\n",
        "  quotes_by_date = relevant_quotes.groupby(by=relevant_quotes['date'].dt.date)\n",
        "  quotes_occ = pd.DataFrame(quotes_by_date['numOccurrences'].sum(),\n",
        "                           columns=['numOccurrences'])\n",
        "\n",
        "  # Get Google Trends data\n",
        "  pytrend.build_payload(kw_list=[keyword], geo='US',\n",
        "                        timeframe=f'{year}-01-01 {year}-12-31')\n",
        "  df_google = pytrend.interest_over_time()\n",
        "\n",
        "  # Treat missing quote trend values for a nicer plot\n",
        "  idx = pd.date_range(f\"01-01-{year}\", f\"12-31-{year}\")\n",
        "  quotes_occ = quotes_occ.reindex(idx, fill_value=0)\n",
        "\n",
        "  # Scale trend\n",
        "  quotes_occ[\"numOccurrences\"] = StandardScaler().fit_transform(\n",
        "    quotes_occ[[\"numOccurrences\"]]\n",
        "  )\n",
        "\n",
        "  # Scale trend\n",
        "  df_google[keyword] = StandardScaler().fit_transform(df_google[[keyword]])\n",
        "\n",
        "  # Plot trends\n",
        "  ax.plot(quotes_occ, label=f\"{speaker_name} quote trend\", color=COLORS[0])\n",
        "  df_google.plot(y=keyword, use_index=True, ax=ax,\n",
        "                 label='Google trend', color=COLORS[1])\n",
        "  \n",
        "  ax.set_title(f'Quotes & Search Trend for \"{keyword}\"')\n",
        "  ax.set_xlabel('Date')\n",
        "  ax.set_ylabel('Trend')\n",
        "  ax.legend()"
      ],
      "execution_count": null,
      "outputs": []
    },
    {
      "cell_type": "code",
      "metadata": {
        "colab": {
          "base_uri": "https://localhost:8080/",
          "height": 342
        },
        "id": "DkYuT3jvfuyZ",
        "outputId": "b1309e9e-b925-4fb7-e73b-e808a1bc1d80"
      },
      "source": [
        "fig, axs = plt.subplots(figsize=(15, 5), nrows=1, ncols=2, sharey=True)\n",
        "plot_trend(trump_quotes, \"shooting\", 2018, axs[0], \"Donald Trump\")\n",
        "plot_trend(obama_quotes, \"shooting\", 2018, axs[1], \"Barack Obama\")"
      ],
      "execution_count": null,
      "outputs": [
        {
          "data": {
            "image/png": "[encoded data removed]",
            "text/plain": [
              "<Figure size 1080x360 with 2 Axes>"
            ]
          },
          "metadata": {},
          "output_type": "display_data"
        }
      ]
    },
    {
      "cell_type": "code",
      "metadata": {
        "colab": {
          "base_uri": "https://localhost:8080/",
          "height": 342
        },
        "id": "5kQIe4Z93LOg",
        "outputId": "397474a7-cc68-4247-e1a8-6b2f47be46c7"
      },
      "source": [
        "fig, axs = plt.subplots(figsize=(15, 5), nrows=1, ncols=2, sharey=True)\n",
        "plot_trend(trump_quotes, \"terror\", 2018, axs[0], \"Donald Trump\")\n",
        "plot_trend(obama_quotes, \"terror\", 2018, axs[1], \"Barack Obama\")"
      ],
      "execution_count": null,
      "outputs": [
        {
          "data": {
            "image/png": "[encoded data removed]",
            "text/plain": [
              "<Figure size 1080x360 with 2 Axes>"
            ]
          },
          "metadata": {},
          "output_type": "display_data"
        }
      ]
    },
    {
      "cell_type": "markdown",
      "metadata": {
        "id": "fFLBDQHeCnE7"
      },
      "source": [
        "## Most common words"
      ]
    },
    {
      "cell_type": "markdown",
      "metadata": {
        "id": "s4SFd_WiUM42"
      },
      "source": [
        "We analyze the most common words said by Trump and Obama to see if we can find a pattern. For the current analysis, we only look at the most common nouns of each politician after tokenizing and preprocessing their quotes."
      ]
    },
    {
      "cell_type": "code",
      "metadata": {
        "id": "hQlhsLe7XsLv"
      },
      "source": [
        "def preprocess_text(text):\n",
        "  \"\"\"\n",
        "  Apply NLTK preprocessing operations to extract more meaningful data\n",
        "  from the quotes.\n",
        "  \"\"\"\n",
        "  tokens = nltk.word_tokenize(text)\n",
        "  # Remove stopwords\n",
        "  stopwords_removed = [word for word in tokens if word not in stopwords.words(\"english\")]\n",
        "  tagged = nltk.pos_tag(stopwords_removed)\n",
        "  # Return only nouns\n",
        "  return [word for word, tag in tagged if tag.startswith('N') and word.isalpha()]"
      ],
      "execution_count": null,
      "outputs": []
    },
    {
      "cell_type": "code",
      "metadata": {
        "id": "B1qij9ZdCpog"
      },
      "source": [
        "# Count most common words for Donald Trump\n",
        "trump_words_cnt = Counter(preprocess_text(\" \".join(trump_quotes[\"quotation\"].str.lower())))"
      ],
      "execution_count": null,
      "outputs": []
    },
    {
      "cell_type": "code",
      "metadata": {
        "colab": {
          "base_uri": "https://localhost:8080/"
        },
        "id": "krlUYxmTwZib",
        "outputId": "58e494a3-7f9e-490f-e794-f46567dbb6f0"
      },
      "source": [
        "trump_words_cnt.most_common(30)"
      ],
      "execution_count": null,
      "outputs": [
        {
          "data": {
            "text/plain": [
              "[('people', 14746),\n",
              " ('country', 8374),\n",
              " ('president', 6797),\n",
              " ('time', 5574),\n",
              " ('trump', 5079),\n",
              " ('states', 4818),\n",
              " ('lot', 4650),\n",
              " ('deal', 4224),\n",
              " ('world', 4175),\n",
              " ('things', 4015),\n",
              " ('years', 4005),\n",
              " ('trade', 3746),\n",
              " ('way', 3711),\n",
              " ('something', 3200),\n",
              " ('thing', 3179),\n",
              " ('countries', 2794),\n",
              " ('russia', 2741),\n",
              " ('democrats', 2729),\n",
              " ('security', 2508),\n",
              " ('nothing', 2311),\n",
              " ('china', 2304),\n",
              " ('border', 2256),\n",
              " ('job', 2242),\n",
              " ('news', 2217),\n",
              " ('money', 2042),\n",
              " ('year', 1971),\n",
              " ('today', 1946),\n",
              " ('house', 1867),\n",
              " ('america', 1826),\n",
              " ('day', 1824)]"
            ]
          },
          "execution_count": 34,
          "metadata": {},
          "output_type": "execute_result"
        }
      ]
    },
    {
      "cell_type": "code",
      "metadata": {
        "id": "4VIZOKhuFTuz"
      },
      "source": [
        "# Count most common words for Barack Obama.\n",
        "obama_words_cnt = Counter(preprocess_text(\" \".join(obama_quotes[\"quotation\"].str.lower())))"
      ],
      "execution_count": null,
      "outputs": []
    },
    {
      "cell_type": "code",
      "metadata": {
        "colab": {
          "base_uri": "https://localhost:8080/"
        },
        "id": "pxXOnILKpPuB",
        "outputId": "c24d659f-dfac-40fa-efa7-b86a27af6fd6"
      },
      "source": [
        "obama_words_cnt.most_common(30)"
      ],
      "execution_count": null,
      "outputs": [
        {
          "data": {
            "text/plain": [
              "[('people', 1585),\n",
              " ('time', 654),\n",
              " ('president', 577),\n",
              " ('world', 574),\n",
              " ('way', 533),\n",
              " ('country', 533),\n",
              " ('politics', 488),\n",
              " ('years', 441),\n",
              " ('democracy', 419),\n",
              " ('things', 402),\n",
              " ('work', 359),\n",
              " ('power', 343),\n",
              " ('something', 325),\n",
              " ('life', 323),\n",
              " ('america', 320),\n",
              " ('obama', 272),\n",
              " ('day', 271),\n",
              " ('thing', 266),\n",
              " ('states', 263),\n",
              " ('change', 258),\n",
              " ('election', 255),\n",
              " ('house', 254),\n",
              " ('history', 254),\n",
              " ('kind', 247),\n",
              " ('vote', 243),\n",
              " ('today', 225),\n",
              " ('trump', 222),\n",
              " ('americans', 212),\n",
              " ('women', 211),\n",
              " ('man', 204)]"
            ]
          },
          "execution_count": 36,
          "metadata": {},
          "output_type": "execute_result"
        }
      ]
    },
    {
      "cell_type": "markdown",
      "metadata": {
        "id": "25b5RVCe-6w0"
      },
      "source": [
        "While Donald Trump talks about _Russia_, _China_, _money_, and _democrats_, Barack Obama chooses to talk about _democracy_, _change_, and _work_. This simple approach has revealed that although some of the main nouns are shared between the representants of the two parties, there are also differences that should be futher analyzed to figure out if they can tell us more about their parties."
      ]
    },
    {
      "cell_type": "code",
      "metadata": {
        "id": "btbKO7SXEDZk"
      },
      "source": [
        "# Using this option to display the full quotes\n",
        "pd.set_option('display.max_colwidth', None)"
      ],
      "execution_count": null,
      "outputs": []
    },
    {
      "cell_type": "code",
      "metadata": {
        "colab": {
          "base_uri": "https://localhost:8080/"
        },
        "id": "8o1T6MedGCgG",
        "outputId": "6645116a-bd65-40da-eb2c-300841885faa"
      },
      "source": [
        "obama_quotes[obama_quotes[\"quotation\"].str.contains('gay')]['quotation'].head()"
      ],
      "execution_count": null,
      "outputs": [
        {
          "data": {
            "text/plain": [
              "3028                                                                                                                                                                                             the scene of an uprising against police repression that led to a key turning point in the struggle for the civil rights of lesbian, gay, bisexual, and transgender (LGBT) Americans.\n",
              "20109                                                                                                                                                                                        (W) hen I hear people say they don't like identity politics, I think it's important to remember that identity politics doesn't just apply when it's black people or gay people or women,\n",
              "31804    I still have to stand here at a lecture and devote some time to saying that black people and white people and Asian people and Latin American people and women and men and gays and straights... are all human, that our differences are superficial, and that we should treat each other with care and respect. I would have thought we would have figured that out by now.\n",
              "37441                                                                                                                                                                 Which is why, by the way, when I hear people say they don't like identity politics, I think it's important to remember that identity politics doesn't just apply when it's black people or gay people or women,\n",
              "48616                                                                                                                                                  One day, to your horror, your problem is one hundred times more serious than what we have. It came to pass. Si Obama yun (That's Obama). Ngayon pagsabi kay Trump ngayon (But now Trump), he's declaring a national emergency,\n",
              "Name: quotation, dtype: object"
            ]
          },
          "execution_count": 43,
          "metadata": {},
          "output_type": "execute_result"
        }
      ]
    },
    {
      "cell_type": "code",
      "metadata": {
        "colab": {
          "base_uri": "https://localhost:8080/",
          "height": 1000
        },
        "id": "19CYaL57IidE",
        "outputId": "ba35c94f-ca7b-401f-fde9-45b66c7c1fc8"
      },
      "source": [
        "trump_quotes[trump_quotes[\"quotation\"].str.contains('gay')].head()"
      ],
      "execution_count": null,
      "outputs": [
        {
          "data": {
            "text/html": [
              "<div>\n",
              "<style scoped>\n",
              "    .dataframe tbody tr th:only-of-type {\n",
              "        vertical-align: middle;\n",
              "    }\n",
              "\n",
              "    .dataframe tbody tr th {\n",
              "        vertical-align: top;\n",
              "    }\n",
              "\n",
              "    .dataframe thead th {\n",
              "        text-align: right;\n",
              "    }\n",
              "</style>\n",
              "<table border=\"1\" class=\"dataframe\">\n",
              "  <thead>\n",
              "    <tr style=\"text-align: right;\">\n",
              "      <th></th>\n",
              "      <th>quoteID</th>\n",
              "      <th>quotation</th>\n",
              "      <th>speaker</th>\n",
              "      <th>qids</th>\n",
              "      <th>date</th>\n",
              "      <th>numOccurrences</th>\n",
              "      <th>probas</th>\n",
              "      <th>urls</th>\n",
              "      <th>phase</th>\n",
              "    </tr>\n",
              "  </thead>\n",
              "  <tbody>\n",
              "    <tr>\n",
              "      <th>1861</th>\n",
              "      <td>2018-01-18-038590</td>\n",
              "      <td>I cannot vibe with gays</td>\n",
              "      <td>President Donald Trump</td>\n",
              "      <td>[Q22686]</td>\n",
              "      <td>2018-01-18 17:42:12</td>\n",
              "      <td>1</td>\n",
              "      <td>[[President Donald Trump, 0.5233], [None, 0.4767]]</td>\n",
              "      <td>[http://fuse.tv/2018/01/offset-migos-boss-life-queer-lyric-controversy-yfn-lucci]</td>\n",
              "      <td>E</td>\n",
              "    </tr>\n",
              "    <tr>\n",
              "      <th>4127</th>\n",
              "      <td>2018-01-15-062263</td>\n",
              "      <td>On the surface it may seem like Trump is giving a speech to one of our nation's most beloved icons -- the American farmer. But, the Farm Bureau actually represents a small, tight-knit clan of wealthy, far-right ideologues who oppose gay marriage and gun-free zones, support racist voter suppression laws, and want to gut social welfare programs like Medicaid.</td>\n",
              "      <td>President Donald Trump</td>\n",
              "      <td>[Q22686]</td>\n",
              "      <td>2018-01-15 17:55:00</td>\n",
              "      <td>1</td>\n",
              "      <td>[[President Donald Trump, 0.5711], [None, 0.4289]]</td>\n",
              "      <td>[http://www.southeastfarmpress.com/farm-policy/trump-afbf-what-did-everyone-else-say]</td>\n",
              "      <td>E</td>\n",
              "    </tr>\n",
              "    <tr>\n",
              "      <th>15536</th>\n",
              "      <td>2018-10-29-025115</td>\n",
              "      <td>has shown himself to be completely shameless when it comes to throwing anybody under the bus to score political points. As a gay man, I feel that threat.</td>\n",
              "      <td>President Donald Trump</td>\n",
              "      <td>[Q22686]</td>\n",
              "      <td>2018-10-29 00:17:18</td>\n",
              "      <td>4</td>\n",
              "      <td>[[President Donald Trump, 0.6485], [None, 0.2856], [Nickie Antonio, 0.0659]]</td>\n",
              "      <td>[https://www.ohio.com/news/20181028/blue-wave-lgbt-candidates-hope-for-rainbow-wave, https://www.times-gazette.com/news/20181031/blue-wave-lgbtq-candidates-hope-for-rainbow-wave, https://www.dispatch.com/news/20181101/blue-wave-lgbtq-candidates-hope-for-rainbow-wave, https://www.indeonline.com/news/20181101/blue-wave-lgbtq-candidates-hope-for-rainbow-wave]</td>\n",
              "      <td>E</td>\n",
              "    </tr>\n",
              "    <tr>\n",
              "      <th>24896</th>\n",
              "      <td>2018-02-13-074191</td>\n",
              "      <td>It's not just for me. I got out there because -- it's not just gay kids, I think that everybody can relate to being different or feeling like they're not good enough or they'll never make it because they're from a small town, or maybe they just don't feel like they're good enough.</td>\n",
              "      <td>President Donald Trump</td>\n",
              "      <td>[Q22686]</td>\n",
              "      <td>2018-02-13 16:14:48</td>\n",
              "      <td>2</td>\n",
              "      <td>[[President Donald Trump, 0.3286], [None, 0.3038], [Mike Pence, 0.2501], [Adam Rippon, 0.1175]]</td>\n",
              "      <td>[http://people.com/sports/winter-olympics-2018-adam-rippon-message-haters/, http://people.com/sports/winter-olympics-2018-adam-rippon-gus-kenworthy-competing-openly-gay-athletes/]</td>\n",
              "      <td>E</td>\n",
              "    </tr>\n",
              "    <tr>\n",
              "      <th>30200</th>\n",
              "      <td>2018-01-26-124359</td>\n",
              "      <td>Tomorrow marks the 73rd anniversary of the liberation of Auschwitz-Birkenau, the Nazi death and concentration camp in Poland. We take this opportunity to recall the Nazis' systematic persecution and brutal murder of six million Jewish people. In their death camps and under their inhuman rule, the Nazis also enslaved and killed millions of Slavs, Roma, gays, people with disabilities, priests and religious leaders, and others who courageously opposed their brutal regime,</td>\n",
              "      <td>President Donald Trump</td>\n",
              "      <td>[Q22686]</td>\n",
              "      <td>2018-01-26 21:54:07</td>\n",
              "      <td>1</td>\n",
              "      <td>[[President Donald Trump, 0.8092], [None, 0.1908]]</td>\n",
              "      <td>[http://israelnationalnews.com/News/News.aspx/241218]</td>\n",
              "      <td>E</td>\n",
              "    </tr>\n",
              "  </tbody>\n",
              "</table>\n",
              "</div>"
            ],
            "text/plain": [
              "                 quoteID  ... phase\n",
              "1861   2018-01-18-038590  ...     E\n",
              "4127   2018-01-15-062263  ...     E\n",
              "15536  2018-10-29-025115  ...     E\n",
              "24896  2018-02-13-074191  ...     E\n",
              "30200  2018-01-26-124359  ...     E\n",
              "\n",
              "[5 rows x 9 columns]"
            ]
          },
          "execution_count": 45,
          "metadata": {},
          "output_type": "execute_result"
        }
      ]
    },
    {
      "cell_type": "code",
      "metadata": {
        "id": "TD9CdgJOEKrg"
      },
      "source": [
        "# Resetting the column width\n",
        "pd.reset_option('display.max_colwidth')"
      ],
      "execution_count": null,
      "outputs": []
    },
    {
      "cell_type": "markdown",
      "metadata": {
        "id": "tGzcxuhcSC0A"
      },
      "source": [
        "## News websites and speakers"
      ]
    },
    {
      "cell_type": "markdown",
      "metadata": {
        "id": "1POu59Wn2XCx"
      },
      "source": [
        "### Helpers"
      ]
    },
    {
      "cell_type": "code",
      "metadata": {
        "id": "DWY21v6X2d8P"
      },
      "source": [
        "def get_domain_names(urls):\n",
        "  \"\"\"\n",
        "  Get a list with all domain names for the urls list given as parameter.\n",
        "  \"\"\"\n",
        "  domains = []\n",
        "  for url in urls:\n",
        "    res = get_tld(url, as_object=True)\n",
        "    domains.append(res.domain)\n",
        "  return domains\n",
        "\n",
        "def standardize_speaker_name(x):\n",
        "  \"\"\"\n",
        "  Standardize a speaker name to a common one from the list of politicians.\n",
        "  \"\"\"\n",
        "  plts = np.array(politicians)\n",
        "  return plts[[p in x for p in plts]][0]"
      ],
      "execution_count": null,
      "outputs": []
    },
    {
      "cell_type": "markdown",
      "metadata": {
        "id": "5J8xW20u2m2h"
      },
      "source": [
        "### News websites' preference for a speaker"
      ]
    },
    {
      "cell_type": "code",
      "metadata": {
        "id": "XH54Ubx1SE-9"
      },
      "source": [
        "# Do not alter original data\n",
        "new_data_domains = data.copy()\n",
        "# Convert urls into domain names -> this takes 1 minute\n",
        "new_data_domains['urls'] = new_data_domains['urls'].apply(get_domain_names)"
      ],
      "execution_count": null,
      "outputs": []
    },
    {
      "cell_type": "code",
      "metadata": {
        "id": "0IsNy0Vu4Tpp"
      },
      "source": [
        "# Standardize speaker names in order to be able to group quotes\n",
        "new_data_domains['speaker'] = new_data_domains['speaker'].apply(standardize_speaker_name)\n",
        "new_data_domains.head(10)\n",
        "# Gather all sites that retreieved a politician's quotes\n",
        "by_politician = new_data_domains.groupby('speaker')['urls'].agg(lambda x: list(chain.from_iterable(x.values))).reset_index()"
      ],
      "execution_count": null,
      "outputs": []
    },
    {
      "cell_type": "code",
      "metadata": {
        "id": "mFXk8qocBIBQ"
      },
      "source": [
        "# Get number of quotes retrieved by a website, for each politician\n",
        "politicians_websites = []\n",
        "for index, row in by_politician.iterrows():\n",
        "  p_websites = pd.DataFrame(Counter(row['urls']).most_common(5),\n",
        "                                columns=[\"Website name\", \"{}\".format(row['speaker'])])\n",
        "  politicians_websites.append(p_websites)"
      ],
      "execution_count": null,
      "outputs": []
    },
    {
      "cell_type": "code",
      "metadata": {
        "colab": {
          "base_uri": "https://localhost:8080/",
          "height": 1000
        },
        "id": "iFpDxjqtCncW",
        "outputId": "c47a2bb3-2024-4998-c779-27480d293c46"
      },
      "source": [
        "# Plot the websites, preferences for each politician\n",
        "w = 2\n",
        "h = len(politicians_websites) // w + 1\n",
        "fig, ax = plt.subplots(h, w, figsize=(20, 20))\n",
        "# TODO: See why title is not showing\n",
        "# fig.suptitle(\"Title centered above all subplots\", fontsize=25)\n",
        "for i in range(h):\n",
        "  j = 0\n",
        "  while i * w + j < len(politicians_websites) and j < w:\n",
        "    sbplt = ax[i, j]\n",
        "    ax_sns = sns.barplot(x=politicians_websites[j + i * w].columns[-1], y=\"Website name\", \n",
        "                         data=politicians_websites[j + i * w], ax=sbplt, color='blue')#.set(xscale=\"log\")\n",
        "    ax_sns.set(xlabel=\"Count of quotes\", ylabel=None, title=politicians_websites[j + i * w].columns[-1])\n",
        "    j += 1\n",
        "fig.tight_layout()"
      ],
      "execution_count": null,
      "outputs": [
        {
          "data": {
            "image/png": "[encoded data removed]",
            "text/plain": [
              "<Figure size 1440x1440 with 12 Axes>"
            ]
          },
          "metadata": {},
          "output_type": "display_data"
        }
      ]
    },
    {
      "cell_type": "markdown",
      "metadata": {
        "id": "fng8VWlseg1Y"
      },
      "source": [
        "## Wikidata q-codes, first approach"
      ]
    },
    {
      "cell_type": "markdown",
      "metadata": {
        "id": "SBjOq3O6wG2H"
      },
      "source": [
        "### Helpers"
      ]
    },
    {
      "cell_type": "code",
      "metadata": {
        "id": "TMcbDQadwNtP"
      },
      "source": [
        "def convert_qcodes_en(q_codes):\n",
        "  \"\"\"\n",
        "  Function for transforming wikidata q codes into list of english aliases or\n",
        "  labels related to the specific q code. If list of q_codes is given aggregate\n",
        "  all the words corresponding to each code. \n",
        "  \"\"\"\n",
        "  codes_values = []\n",
        "  if q_codes is not None:\n",
        "    for q_code in q_codes:\n",
        "      s = get_entity_dict_from_api(q_code)\n",
        "      s_value = []\n",
        "      if len(s.get('aliases', {}).get(\"en\", [])) > 0:\n",
        "        s_value.extend([v[\"value\"] for v in s['aliases'][\"en\"]])\n",
        "      if s.get('labels', {}).get(\"en\", {}) != dict():\n",
        "        s_value.append(s['labels'][\"en\"][\"value\"])\n",
        "\n",
        "      codes_values.extend(s_value)\n",
        "  if len(codes_values) == 0:\n",
        "    return None\n",
        "\n",
        "  return codes_values"
      ],
      "execution_count": null,
      "outputs": []
    },
    {
      "cell_type": "markdown",
      "metadata": {
        "id": "sUdSoAzAwZeZ"
      },
      "source": [
        "### Converting Q codes into list of aliases and label aggregated"
      ]
    },
    {
      "cell_type": "code",
      "metadata": {
        "id": "ZFha0gA7jRJy"
      },
      "source": [
        "# Read .parquet file into a dataframe\n",
        "wikidata = pd.read_parquet(WIKIDATA_PATH, engine='pyarrow')"
      ],
      "execution_count": null,
      "outputs": []
    },
    {
      "cell_type": "code",
      "metadata": {
        "id": "IQtalz0IwuY8"
      },
      "source": [
        "# Small test for converting wikidata qcodes into words (just first 5 entries)\n",
        "new_wikidata = wikidata.iloc[:5].copy()\n",
        "for name in WIKIDATA_QCODES_COL:\n",
        "  new_wikidata[name] = new_wikidata[name].apply(convert_qcodes_en) \n",
        "new_wikidata.head(1)"
      ],
      "execution_count": null,
      "outputs": []
    },
    {
      "cell_type": "markdown",
      "metadata": {
        "id": "SmFeW5IwITXQ"
      },
      "source": [
        "## Quotebank dataset preprocessing "
      ]
    },
    {
      "cell_type": "markdown",
      "metadata": {
        "id": "syKZeh1JMQj8"
      },
      "source": [
        "### Helpers"
      ]
    },
    {
      "cell_type": "code",
      "metadata": {
        "id": "vemdf8bzMbkK"
      },
      "source": [
        "def convert_qcodes(l, df):\n",
        "  \"\"\"\n",
        "  Convert list of qcodes to labels\n",
        "  \"\"\"\n",
        "  return None if l is None else list(map(lambda x: df.loc[x]['Label'] if x in df.index else None, l))\n",
        "\n",
        "\n",
        "def infer_format(time_stmp):\n",
        "    if time_stmp[6:8] == '00':\n",
        "        time_stmp = time_stmp[:5]\n",
        "        dt_format = '+%Y'\n",
        "    else:\n",
        "        time_stmp = time_stmp[:8]\n",
        "        dt_format = '+%Y-%m'\n",
        "    return time_stmp, dt_format\n",
        "\n",
        "    \n",
        "def get_party_membership(q_code):\n",
        "    \"\"\"\n",
        "    Function for obtaining party membership intervals for speaker with q_code\n",
        "    \"\"\"\n",
        "    tmp = []\n",
        "    if q_code is not None:\n",
        "        try:\n",
        "            s = get_entity_dict_from_api(q_code)\n",
        "        except:\n",
        "            return []\n",
        "        if len(s.get(\"claims\", {}).get(\"P102\", [])) > 0:\n",
        "            # Separate case when there is only one political party for a speaker\n",
        "            # Just consider it as the correct party\n",
        "            if len(s[\"claims\"][\"P102\"]) == 1:\n",
        "                if s[\"claims\"][\"P102\"][0][\"mainsnak\"].get(\"datavalue\", {}).get(\"value\", {}).get(\"id\") is not None:\n",
        "                        party = s[\"claims\"][\"P102\"][0][\"mainsnak\"][\"datavalue\"][\"value\"][\"id\"]\n",
        "                        tmp.append([party, datetime.strptime(*infer_format('+2008-07-31T00:00:00Z')),\n",
        "                                            datetime.strptime(*infer_format('+2020-05-01T00:00:00Z'))])\n",
        "            else:\n",
        "                for i, v in enumerate(s[\"claims\"][\"P102\"]):\n",
        "                    if v[\"mainsnak\"].get(\"datavalue\", {}).get(\"value\", {}).get(\"id\") is not None:\n",
        "                        party = v[\"mainsnak\"][\"datavalue\"][\"value\"][\"id\"]\n",
        "                        if party in q_codes_labels.index:\n",
        "                            party = q_codes_labels.loc[party]['Label']\n",
        "                            start_time, end_time = None, None\n",
        "                            if len(v.get('qualifiers', {}).get('P580', [])) > 0:\n",
        "                                if v['qualifiers']['P580'][0].get('datavalue', {}).get(\"value\", {}).get('time') is not None:\n",
        "                                    start_time = v['qualifiers']['P580'][0][\"datavalue\"][\"value\"][\"time\"]\n",
        "                            if len(v.get('qualifiers', {}).get('P582', [])) > 0:\n",
        "                                if v['qualifiers']['P582'][0].get('datavalue', {}).get(\"value\", {}).get('time') is not None:\n",
        "                                    end_time = v['qualifiers']['P582'][0][\"datavalue\"][\"value\"][\"time\"]\n",
        "                            if start_time is not None and end_time is not None:\n",
        "                                tmp.append([party, datetime.strptime(*infer_format(start_time)),\n",
        "                                            datetime.strptime(*infer_format(end_time))])\n",
        "                            elif start_time is not None and end_time is None:\n",
        "                                tmp.append([party, datetime.strptime(*infer_format(start_time)),\n",
        "                                            datetime.strptime(*infer_format('+2020-05-01T00:00:00Z'))])\n",
        "                            else:\n",
        "                                continue\n",
        "\n",
        "    if len(tmp) == 0:\n",
        "        return []\n",
        "\n",
        "    return tmp\n",
        "\n",
        "\n",
        "def map_speaker_to_party(qids):\n",
        "    speaker_to_parties = {}\n",
        "\n",
        "    qids = qids[:100]\n",
        "    for qid in tqdm(qids):\n",
        "        if qid not in speaker_to_parties:\n",
        "            # Create entry in dict of mappings between politicians and party memberships intervals\n",
        "            speaker_to_parties[qid] = get_party_membership(qid)\n",
        "    df_speaker_to_parties = pd.DataFrame.from_dict(speaker_to_parties, orient='index')\n",
        "    return df_speaker_to_parties\n",
        "    # df_speaker_to_parties.to_csv()\n",
        "\n",
        "def get_politicians_party(df):\n",
        "    # TODO: Test this\n",
        "    speaker_to_parties = {}\n",
        "\n",
        "    for i, sample in tqdm(df.iterrows()):\n",
        "        qid = sample['qids']\n",
        "        if qid not in speaker_to_parties:\n",
        "            # Create entry in dict of mappings between politicians and party memberships intervals\n",
        "            speaker_to_parties[qid] = get_party_membership(qid)\n",
        "        new_sample = sample\n",
        "        # Map parties to parties membership intervals\n",
        "        new_sample['party'] = speaker_to_parties[qid]\n",
        "        # Get quote date\n",
        "        quote_date = datetime.strptime(new_sample['quoteID'][:7], '%Y-%m')\n",
        "        # Select the party membership interval corresponding to the quote date\n",
        "        if new_sample['party'] is not None:\n",
        "            new_sample['party'] = [p for p in new_sample['party'] if p[1] <= quote_date < p[2]]\n",
        "            # If no membership interval found, take the last party\n",
        "            if len(new_sample['party']) == 0:\n",
        "                continue\n",
        "                # new_sample['party'] = [speaker_to_parties[qid][-1]]\n",
        "            # If multiple parties found  take the last one\n",
        "            if len(new_sample['party']) > 1:\n",
        "                new_sample['party'] = [speaker_to_parties[qid][-1]]\n",
        "            df.iloc[i] = new_sample\n",
        "            \n",
        "    return df\n",
        "\n",
        "\n",
        "def get_politicians_entire_data(year, wiki_politicians, proba_threshold=0.6, sub_samples=None):\n",
        "    # Given a year, parses the Quotebank data and creates a zip containing\n",
        "    # the quotes of politicians that belong to a party from that year.\n",
        "\n",
        "    to_remove_keys = ('numOccurrences', 'phase', 'urls', 'date', 'probas')\n",
        "    path_to_out = QUOTES_BY_YEAR[year]\n",
        "    path_to_file = f'/content/drive/MyDrive/Quotebank/quotes-{year}.json.bz2'\n",
        "    with bz2.open(path_to_file, 'rb') as s_file:\n",
        "        with bz2.open(path_to_out, 'wb') as d_file:\n",
        "            for i, instance in tqdm(enumerate(s_file)):\n",
        "                if sub_samples is not None and i > sub_samples:\n",
        "                    break\n",
        "                # Load a sample.\n",
        "                instance = json.loads(instance)\n",
        "                # If there is un unknown speaker with the highest probability, \n",
        "                # therefore no qids or the attributed speaker has a lower\n",
        "                # probability than a threshold, then pass\n",
        "                if len(instance['qids']) == 0 or float(instance['probas'][0][1]) < proba_threshold \\\n",
        "                or len(instance['qids']) > 1:\n",
        "                    continue\n",
        "                # Remove unnecessary keys\n",
        "                for key in to_remove_keys:\n",
        "                    instance.pop(key, None)\n",
        "                qids = instance['qids'].copy()\n",
        "                # For each attributed qid in the list of qids\n",
        "                for qid in qids:\n",
        "                    # Get corresponding wiki_politicians sample for the specific qid in quotebank\n",
        "                    # This happens only if quotebank speaker is politician in a party\n",
        "                    try:\n",
        "                        # wikidata_sample = pd.DataFrame(wiki_politicians.loc[qid]).T\n",
        "                        wikidata_sample = wiki_politicians.loc[qid]\n",
        "                    except KeyError:\n",
        "                        continue\n",
        "                    # Replace qid for politcian\n",
        "                    instance['qids'] = qid\n",
        "                    # Merge quotebank sample with wikidata sample\n",
        "                    instance['party'] = wikidata_sample['party']\n",
        "                    instance['party_qcodes'] = wikidata_sample['party_qcodes']\n",
        "                    # Write to file\n",
        "                    d_file.write((json.dumps(instance)+'\\n').encode('utf-8'))"
      ],
      "execution_count": 24,
      "outputs": []
    },
    {
      "cell_type": "markdown",
      "metadata": {
        "id": "cU6sRkUeMYRc"
      },
      "source": [
        "### Get wikidata politicians (DO NOT RUN THIS AGAIN, FILE ALREADY CREATED)"
      ]
    },
    {
      "cell_type": "code",
      "metadata": {
        "id": "Zt0hEOffX_DG"
      },
      "source": [
        "# Mapping between wikidata q codes and their labels\n",
        "q_codes_labels = pd.read_csv(WIKIDATA_LABELS_PATH, compression='bz2', index_col='QID')"
      ],
      "execution_count": null,
      "outputs": []
    },
    {
      "cell_type": "code",
      "metadata": {
        "colab": {
          "base_uri": "https://localhost:8080/",
          "height": 172
        },
        "id": "UNP8BIuwY33k",
        "outputId": "24b65f7b-192b-471f-e906-a60856d71f80"
      },
      "source": [
        "q_codes_labels.head(3)"
      ],
      "execution_count": null,
      "outputs": [
        {
          "data": {
            "text/html": [
              "<div>\n",
              "<style scoped>\n",
              "    .dataframe tbody tr th:only-of-type {\n",
              "        vertical-align: middle;\n",
              "    }\n",
              "\n",
              "    .dataframe tbody tr th {\n",
              "        vertical-align: top;\n",
              "    }\n",
              "\n",
              "    .dataframe thead th {\n",
              "        text-align: right;\n",
              "    }\n",
              "</style>\n",
              "<table border=\"1\" class=\"dataframe\">\n",
              "  <thead>\n",
              "    <tr style=\"text-align: right;\">\n",
              "      <th></th>\n",
              "      <th>Label</th>\n",
              "      <th>Description</th>\n",
              "    </tr>\n",
              "    <tr>\n",
              "      <th>QID</th>\n",
              "      <th></th>\n",
              "      <th></th>\n",
              "    </tr>\n",
              "  </thead>\n",
              "  <tbody>\n",
              "    <tr>\n",
              "      <th>Q31</th>\n",
              "      <td>Belgium</td>\n",
              "      <td>country in western Europe</td>\n",
              "    </tr>\n",
              "    <tr>\n",
              "      <th>Q45</th>\n",
              "      <td>Portugal</td>\n",
              "      <td>country in southwestern Europe</td>\n",
              "    </tr>\n",
              "    <tr>\n",
              "      <th>Q75</th>\n",
              "      <td>Internet</td>\n",
              "      <td>global system of connected computer networks</td>\n",
              "    </tr>\n",
              "  </tbody>\n",
              "</table>\n",
              "</div>"
            ],
            "text/plain": [
              "        Label                                   Description\n",
              "QID                                                        \n",
              "Q31   Belgium                     country in western Europe\n",
              "Q45  Portugal                country in southwestern Europe\n",
              "Q75  Internet  global system of connected computer networks"
            ]
          },
          "execution_count": 7,
          "metadata": {},
          "output_type": "execute_result"
        }
      ]
    },
    {
      "cell_type": "code",
      "metadata": {
        "colab": {
          "base_uri": "https://localhost:8080/",
          "height": 189
        },
        "id": "t8lM2huGIPcH",
        "outputId": "e3052e73-fd26-4c14-8812-178c048224c7"
      },
      "source": [
        "# Read wikidata .parquet file into a dataframe\n",
        "wikidata = pd.read_parquet(WIKIDATA_PATH, engine='pyarrow').set_index('id')\n",
        "party_qcodes = wikidata['party']\n",
        "# Map qcodes to labels\n",
        "wikidata = wikidata[WIKIDATA_QCODES_COL].progress_applymap(lambda lst: convert_qcodes(lst, q_codes_labels))\n",
        "wikidata['party_qcodes'] = party_qcodes.values\n",
        "wikidata.head(3)"
      ],
      "execution_count": null,
      "outputs": [
        {
          "name": "stderr",
          "output_type": "stream",
          "text": [
            "100%|██████████| 18111962/18111962 [24:31<00:00, 12307.74it/s] \n"
          ]
        },
        {
          "data": {
            "text/html": [
              "<div>\n",
              "<style scoped>\n",
              "    .dataframe tbody tr th:only-of-type {\n",
              "        vertical-align: middle;\n",
              "    }\n",
              "\n",
              "    .dataframe tbody tr th {\n",
              "        vertical-align: top;\n",
              "    }\n",
              "\n",
              "    .dataframe thead th {\n",
              "        text-align: right;\n",
              "    }\n",
              "</style>\n",
              "<table border=\"1\" class=\"dataframe\">\n",
              "  <thead>\n",
              "    <tr style=\"text-align: right;\">\n",
              "      <th></th>\n",
              "      <th>occupation</th>\n",
              "      <th>party</th>\n",
              "    </tr>\n",
              "    <tr>\n",
              "      <th>id</th>\n",
              "      <th></th>\n",
              "      <th></th>\n",
              "    </tr>\n",
              "  </thead>\n",
              "  <tbody>\n",
              "    <tr>\n",
              "      <th>Q23</th>\n",
              "      <td>[politician, military officer, farmer, cartogr...</td>\n",
              "      <td>[independent politician]</td>\n",
              "    </tr>\n",
              "    <tr>\n",
              "      <th>Q42</th>\n",
              "      <td>[playwright, screenwriter, novelist, children'...</td>\n",
              "      <td>None</td>\n",
              "    </tr>\n",
              "    <tr>\n",
              "      <th>Q1868</th>\n",
              "      <td>[writer, lawyer, librarian, information scient...</td>\n",
              "      <td>None</td>\n",
              "    </tr>\n",
              "  </tbody>\n",
              "</table>\n",
              "</div>"
            ],
            "text/plain": [
              "                                              occupation                     party\n",
              "id                                                                                \n",
              "Q23    [politician, military officer, farmer, cartogr...  [independent politician]\n",
              "Q42    [playwright, screenwriter, novelist, children'...                      None\n",
              "Q1868  [writer, lawyer, librarian, information scient...                      None"
            ]
          },
          "execution_count": 11,
          "metadata": {},
          "output_type": "execute_result"
        }
      ]
    },
    {
      "cell_type": "code",
      "metadata": {
        "colab": {
          "base_uri": "https://localhost:8080/"
        },
        "id": "7d96jOBP0vVx",
        "outputId": "e6b0a1fd-4946-4d4a-811f-96beb1ac8bbe"
      },
      "source": [
        "# Total entries in wikidata\n",
        "wikidata.shape"
      ],
      "execution_count": null,
      "outputs": [
        {
          "data": {
            "text/plain": [
              "(9055981, 3)"
            ]
          },
          "execution_count": 16,
          "metadata": {},
          "output_type": "execute_result"
        }
      ]
    },
    {
      "cell_type": "code",
      "metadata": {
        "colab": {
          "base_uri": "https://localhost:8080/",
          "height": 172
        },
        "id": "OCa2tEET0IJ4",
        "outputId": "cb3f95d7-7fe7-421c-f4b4-d81ab5fca45c"
      },
      "source": [
        "# Keep only politicians\n",
        "wikidata_politicians = wikidata.loc[wikidata['occupation'].apply(lambda lst: 'politician' in str(lst))]\n",
        "wikidata_politicians.head(3)"
      ],
      "execution_count": null,
      "outputs": [
        {
          "data": {
            "text/html": [
              "<div>\n",
              "<style scoped>\n",
              "    .dataframe tbody tr th:only-of-type {\n",
              "        vertical-align: middle;\n",
              "    }\n",
              "\n",
              "    .dataframe tbody tr th {\n",
              "        vertical-align: top;\n",
              "    }\n",
              "\n",
              "    .dataframe thead th {\n",
              "        text-align: right;\n",
              "    }\n",
              "</style>\n",
              "<table border=\"1\" class=\"dataframe\">\n",
              "  <thead>\n",
              "    <tr style=\"text-align: right;\">\n",
              "      <th></th>\n",
              "      <th>occupation</th>\n",
              "      <th>party</th>\n",
              "      <th>party_qcodes</th>\n",
              "    </tr>\n",
              "    <tr>\n",
              "      <th>id</th>\n",
              "      <th></th>\n",
              "      <th></th>\n",
              "      <th></th>\n",
              "    </tr>\n",
              "  </thead>\n",
              "  <tbody>\n",
              "    <tr>\n",
              "      <th>Q23</th>\n",
              "      <td>[politician, military officer, farmer, cartogr...</td>\n",
              "      <td>[independent politician]</td>\n",
              "      <td>[Q327591]</td>\n",
              "    </tr>\n",
              "    <tr>\n",
              "      <th>Q207</th>\n",
              "      <td>[politician, motivational speaker, autobiograp...</td>\n",
              "      <td>[Republican Party]</td>\n",
              "      <td>[Q29468]</td>\n",
              "    </tr>\n",
              "    <tr>\n",
              "      <th>Q368</th>\n",
              "      <td>[military officer, politician]</td>\n",
              "      <td>[independent politician]</td>\n",
              "      <td>[Q327591]</td>\n",
              "    </tr>\n",
              "  </tbody>\n",
              "</table>\n",
              "</div>"
            ],
            "text/plain": [
              "                                             occupation  ... party_qcodes\n",
              "id                                                       ...             \n",
              "Q23   [politician, military officer, farmer, cartogr...  ...    [Q327591]\n",
              "Q207  [politician, motivational speaker, autobiograp...  ...     [Q29468]\n",
              "Q368                     [military officer, politician]  ...    [Q327591]\n",
              "\n",
              "[3 rows x 3 columns]"
            ]
          },
          "execution_count": 15,
          "metadata": {},
          "output_type": "execute_result"
        }
      ]
    },
    {
      "cell_type": "code",
      "metadata": {
        "colab": {
          "base_uri": "https://localhost:8080/"
        },
        "id": "5TTyLwSL0tD7",
        "outputId": "5b1257f3-8b3a-4eac-c99e-521c6ff73122"
      },
      "source": [
        "# Total number of politicians\n",
        "wikidata_politicians.shape"
      ],
      "execution_count": null,
      "outputs": [
        {
          "data": {
            "text/plain": [
              "(659455, 3)"
            ]
          },
          "execution_count": 17,
          "metadata": {},
          "output_type": "execute_result"
        }
      ]
    },
    {
      "cell_type": "code",
      "metadata": {
        "id": "D7OGCaxYze0d"
      },
      "source": [
        "# Save table with wikidata politicians\n",
        "wikidata_politicians.to_csv('/content/drive/MyDrive/wikidata_politicians.csv')"
      ],
      "execution_count": null,
      "outputs": []
    },
    {
      "cell_type": "markdown",
      "metadata": {
        "id": "4Ul1g1t82jgf"
      },
      "source": [
        "### Get quotebank politicians (already made, only for 2018, for analysis purpose)"
      ]
    },
    {
      "cell_type": "code",
      "metadata": {
        "colab": {
          "base_uri": "https://localhost:8080/"
        },
        "id": "_gF9Xdcq4UgO",
        "outputId": "33cc3f5f-0d02-4fd7-925a-90e2a762107c"
      },
      "source": [
        "# Read dataframe with wikidata politicians\n",
        "wikidata_politicians = pd.read_csv(WIKIDATA_POLITICIANS_PATH).set_index('id')\n",
        "# Keep only the ones belonging to a party\n",
        "wikidata_politicians_in_party = wikidata_politicians.loc[~wikidata_politicians['party'].isna()]\n",
        "print(\"There are {} politicians belonging to at least a party in Wikidata !\".format(wikidata_politicians_in_party.shape[0]))"
      ],
      "execution_count": null,
      "outputs": [
        {
          "output_type": "stream",
          "name": "stdout",
          "text": [
            "There are 305302 politicians belonging to at least a party in Wikidata !\n"
          ]
        }
      ]
    },
    {
      "cell_type": "code",
      "metadata": {
        "colab": {
          "base_uri": "https://localhost:8080/"
        },
        "id": "0uyWxMocmevH",
        "outputId": "0bbd280d-0d06-4fd7-b830-083b3a795d41"
      },
      "source": [
        "# Create zipped file for a specific year, with all Quotebank's entries where\n",
        "# the speaker is a politician belonging to at least one party\n",
        "get_politicians_entire_data(YEAR, wikidata_politicians_in_party, proba_threshold=0.6)"
      ],
      "execution_count": null,
      "outputs": [
        {
          "name": "stderr",
          "output_type": "stream",
          "text": [
            "27228451it [1:02:45, 7231.21it/s]\n"
          ]
        }
      ]
    },
    {
      "cell_type": "markdown",
      "metadata": {
        "id": "H03dDj51oeXk"
      },
      "source": [
        "### Code"
      ]
    },
    {
      "cell_type": "code",
      "metadata": {
        "id": "U0n_VLMBYCPL"
      },
      "source": [
        "# Read the Quotebank data just created\n",
        "quotebank_data = pd.read_json(QUOTES_BY_YEAR[YEAR], lines=True)"
      ],
      "execution_count": null,
      "outputs": []
    },
    {
      "cell_type": "code",
      "metadata": {
        "colab": {
          "base_uri": "https://localhost:8080/"
        },
        "id": "8CO3r0GgD7WU",
        "outputId": "e59fa97c-4e83-46bd-b64e-f2f5e62aa995"
      },
      "source": [
        "quotebank_data.shape"
      ],
      "execution_count": null,
      "outputs": [
        {
          "output_type": "execute_result",
          "data": {
            "text/plain": [
              "(2527083, 6)"
            ]
          },
          "metadata": {},
          "execution_count": 11
        }
      ]
    },
    {
      "cell_type": "code",
      "metadata": {
        "id": "tM4pc10hqT2H"
      },
      "source": [
        "# Replace nan parties (corresponding to when a politician interrupted his political activity)\n",
        "quotebank_data['party'] = quotebank_data['party'].apply(lambda x: x.replace('nan', '\"no_party\"'))"
      ],
      "execution_count": null,
      "outputs": []
    },
    {
      "cell_type": "code",
      "metadata": {
        "id": "T4GBb_0d_LsP"
      },
      "source": [
        "# Get parties list\n",
        "parties_list = quotebank_data['party'].values"
      ],
      "execution_count": null,
      "outputs": []
    },
    {
      "cell_type": "code",
      "metadata": {
        "colab": {
          "base_uri": "https://localhost:8080/"
        },
        "id": "Sq2WQB2y_VIh",
        "outputId": "6455e009-10b1-40cb-bf60-7a397718e93b"
      },
      "source": [
        "# Map a string representing a list, to a list\n",
        "for i, value in tqdm(enumerate(parties_list)):\n",
        "    try:\n",
        "        parties_list[i] = ast.literal_eval(parties_list[i])\n",
        "    except:\n",
        "        print(parties_list[i])"
      ],
      "execution_count": null,
      "outputs": [
        {
          "output_type": "stream",
          "name": "stderr",
          "text": [
            "2527083it [00:31, 79051.59it/s]\n"
          ]
        }
      ]
    },
    {
      "cell_type": "code",
      "metadata": {
        "id": "UFXKa_6PoYdA",
        "colab": {
          "base_uri": "https://localhost:8080/"
        },
        "outputId": "2a434661-3fd0-44ca-b9f0-2e2202758904"
      },
      "source": [
        "# Number of parties\n",
        "parties_2018 = set(chain.from_iterable(quotebank_data['party'].values))\n",
        "parties_2018.remove('no_party')\n",
        "print(\"Number of parties in year {} is: {}\\n\".format(YEAR, len(parties_2018)))"
      ],
      "execution_count": null,
      "outputs": [
        {
          "output_type": "stream",
          "name": "stdout",
          "text": [
            "Number of parties in year 2018 is: 2661\n",
            "\n"
          ]
        }
      ]
    },
    {
      "cell_type": "code",
      "metadata": {
        "colab": {
          "base_uri": "https://localhost:8080/",
          "height": 357
        },
        "id": "lryqEOXNwgdD",
        "outputId": "a1fa5f67-fc5f-4db3-d492-9a459a84b889"
      },
      "source": [
        "# Parties with the most quotes (note that each quote may belong to multiple parties,\n",
        "# as there are speakers belonging to multiple parties over time)\n",
        "parties_quotes_nr = Counter(chain.from_iterable(quotebank_data['party'].values))\n",
        "sorted_parties_quotes_nr = list(sorted(parties_quotes_nr.items(), key=lambda x: x[1], reverse=True))\n",
        "df_sorted_parties_quotes_nr = pd.DataFrame(sorted_parties_quotes_nr, columns=['Party', 'Number of quotes'])\n",
        "df_sorted_parties_quotes_nr.head(10)"
      ],
      "execution_count": null,
      "outputs": [
        {
          "output_type": "execute_result",
          "data": {
            "text/html": [
              "<div>\n",
              "<style scoped>\n",
              "    .dataframe tbody tr th:only-of-type {\n",
              "        vertical-align: middle;\n",
              "    }\n",
              "\n",
              "    .dataframe tbody tr th {\n",
              "        vertical-align: top;\n",
              "    }\n",
              "\n",
              "    .dataframe thead th {\n",
              "        text-align: right;\n",
              "    }\n",
              "</style>\n",
              "<table border=\"1\" class=\"dataframe\">\n",
              "  <thead>\n",
              "    <tr style=\"text-align: right;\">\n",
              "      <th></th>\n",
              "      <th>Party</th>\n",
              "      <th>Number of quotes</th>\n",
              "    </tr>\n",
              "  </thead>\n",
              "  <tbody>\n",
              "    <tr>\n",
              "      <th>0</th>\n",
              "      <td>Republican Party</td>\n",
              "      <td>878771</td>\n",
              "    </tr>\n",
              "    <tr>\n",
              "      <th>1</th>\n",
              "      <td>Democratic Party</td>\n",
              "      <td>634535</td>\n",
              "    </tr>\n",
              "    <tr>\n",
              "      <th>2</th>\n",
              "      <td>Bharatiya Janata Party</td>\n",
              "      <td>129360</td>\n",
              "    </tr>\n",
              "    <tr>\n",
              "      <th>3</th>\n",
              "      <td>Independence Party of America</td>\n",
              "      <td>104301</td>\n",
              "    </tr>\n",
              "    <tr>\n",
              "      <th>4</th>\n",
              "      <td>Conservative Party</td>\n",
              "      <td>79051</td>\n",
              "    </tr>\n",
              "    <tr>\n",
              "      <th>5</th>\n",
              "      <td>Indian National Congress</td>\n",
              "      <td>77471</td>\n",
              "    </tr>\n",
              "    <tr>\n",
              "      <th>6</th>\n",
              "      <td>Labour Party</td>\n",
              "      <td>59292</td>\n",
              "    </tr>\n",
              "    <tr>\n",
              "      <th>7</th>\n",
              "      <td>independent politician</td>\n",
              "      <td>55590</td>\n",
              "    </tr>\n",
              "    <tr>\n",
              "      <th>8</th>\n",
              "      <td>Liberal Party of Australia</td>\n",
              "      <td>39614</td>\n",
              "    </tr>\n",
              "    <tr>\n",
              "      <th>9</th>\n",
              "      <td>Australian Labor Party</td>\n",
              "      <td>32379</td>\n",
              "    </tr>\n",
              "  </tbody>\n",
              "</table>\n",
              "</div>"
            ],
            "text/plain": [
              "                           Party  Number of quotes\n",
              "0               Republican Party            878771\n",
              "1               Democratic Party            634535\n",
              "2         Bharatiya Janata Party            129360\n",
              "3  Independence Party of America            104301\n",
              "4             Conservative Party             79051\n",
              "5       Indian National Congress             77471\n",
              "6                   Labour Party             59292\n",
              "7         independent politician             55590\n",
              "8     Liberal Party of Australia             39614\n",
              "9         Australian Labor Party             32379"
            ]
          },
          "metadata": {},
          "execution_count": 16
        }
      ]
    },
    {
      "cell_type": "code",
      "metadata": {
        "id": "PIUE0Alzrqtj",
        "colab": {
          "base_uri": "https://localhost:8080/",
          "height": 357
        },
        "outputId": "454dc6b2-3798-4bc5-a0d1-a34cc10f98f1"
      },
      "source": [
        "# Number of quotes by politician (20 most influential)\n",
        "quotes_by_politician = quotebank_data.groupby('speaker')['quotation'].count()\n",
        "quotes_by_politician = quotes_by_politician.sort_values(ascending=False)\n",
        "df_quotes_by_politician = pd.DataFrame(quotes_by_politician).reset_index().rename(columns={\"quotation\": \"number of quotes\"})\n",
        "df_quotes_by_politician.head(10)"
      ],
      "execution_count": null,
      "outputs": [
        {
          "output_type": "execute_result",
          "data": {
            "text/html": [
              "<div>\n",
              "<style scoped>\n",
              "    .dataframe tbody tr th:only-of-type {\n",
              "        vertical-align: middle;\n",
              "    }\n",
              "\n",
              "    .dataframe tbody tr th {\n",
              "        vertical-align: top;\n",
              "    }\n",
              "\n",
              "    .dataframe thead th {\n",
              "        text-align: right;\n",
              "    }\n",
              "</style>\n",
              "<table border=\"1\" class=\"dataframe\">\n",
              "  <thead>\n",
              "    <tr style=\"text-align: right;\">\n",
              "      <th></th>\n",
              "      <th>speaker</th>\n",
              "      <th>number of quotes</th>\n",
              "    </tr>\n",
              "  </thead>\n",
              "  <tbody>\n",
              "    <tr>\n",
              "      <th>0</th>\n",
              "      <td>President Donald Trump</td>\n",
              "      <td>68982</td>\n",
              "    </tr>\n",
              "    <tr>\n",
              "      <th>1</th>\n",
              "      <td>President Trump</td>\n",
              "      <td>32700</td>\n",
              "    </tr>\n",
              "    <tr>\n",
              "      <th>2</th>\n",
              "      <td>Narendra Modi</td>\n",
              "      <td>26131</td>\n",
              "    </tr>\n",
              "    <tr>\n",
              "      <th>3</th>\n",
              "      <td>Rahul Gandhi</td>\n",
              "      <td>14228</td>\n",
              "    </tr>\n",
              "    <tr>\n",
              "      <th>4</th>\n",
              "      <td>Benjamin Netanyahu</td>\n",
              "      <td>12681</td>\n",
              "    </tr>\n",
              "    <tr>\n",
              "      <th>5</th>\n",
              "      <td>Mike Pompeo</td>\n",
              "      <td>12403</td>\n",
              "    </tr>\n",
              "    <tr>\n",
              "      <th>6</th>\n",
              "      <td>Harry Roque</td>\n",
              "      <td>12045</td>\n",
              "    </tr>\n",
              "    <tr>\n",
              "      <th>7</th>\n",
              "      <td>Rodrigo Duterte</td>\n",
              "      <td>11564</td>\n",
              "    </tr>\n",
              "    <tr>\n",
              "      <th>8</th>\n",
              "      <td>Vladimir Putin</td>\n",
              "      <td>11242</td>\n",
              "    </tr>\n",
              "    <tr>\n",
              "      <th>9</th>\n",
              "      <td>Arun Jaitley</td>\n",
              "      <td>8907</td>\n",
              "    </tr>\n",
              "  </tbody>\n",
              "</table>\n",
              "</div>"
            ],
            "text/plain": [
              "                  speaker  number of quotes\n",
              "0  President Donald Trump             68982\n",
              "1         President Trump             32700\n",
              "2           Narendra Modi             26131\n",
              "3            Rahul Gandhi             14228\n",
              "4      Benjamin Netanyahu             12681\n",
              "5             Mike Pompeo             12403\n",
              "6             Harry Roque             12045\n",
              "7         Rodrigo Duterte             11564\n",
              "8          Vladimir Putin             11242\n",
              "9            Arun Jaitley              8907"
            ]
          },
          "metadata": {},
          "execution_count": 17
        }
      ]
    },
    {
      "cell_type": "code",
      "metadata": {
        "id": "umfPJ779nRn3",
        "colab": {
          "base_uri": "https://localhost:8080/",
          "height": 374
        },
        "outputId": "1645e7d2-3c89-4dd3-cf04-7df3ef34701b"
      },
      "source": [
        "# Number of speakers belonging to each party, if politician belonged to multiple\n",
        "# parties, count him in each of them\n",
        "\n",
        "speakers_parties = quotebank_data.drop_duplicates(subset=['speaker'])['party']\n",
        "\n",
        "party_members = defaultdict(lambda: 0)\n",
        "speakers_parties = speakers_parties.values\n",
        "\n",
        "for parties in tqdm(speakers_parties):\n",
        "    for p in parties:\n",
        "        party_members[p] += 1\n",
        "\n",
        "party_members = list(party_members.items())\n",
        "party_members = sorted(party_members, key=lambda x: x[1], reverse=True)\n",
        "df_party_members = pd.DataFrame(party_members, columns=['Party', 'Members'])\n",
        "df_party_members.head(10)"
      ],
      "execution_count": null,
      "outputs": [
        {
          "output_type": "stream",
          "name": "stderr",
          "text": [
            "100%|██████████| 36739/36739 [00:00<00:00, 665715.66it/s]\n"
          ]
        },
        {
          "output_type": "execute_result",
          "data": {
            "text/html": [
              "<div>\n",
              "<style scoped>\n",
              "    .dataframe tbody tr th:only-of-type {\n",
              "        vertical-align: middle;\n",
              "    }\n",
              "\n",
              "    .dataframe tbody tr th {\n",
              "        vertical-align: top;\n",
              "    }\n",
              "\n",
              "    .dataframe thead th {\n",
              "        text-align: right;\n",
              "    }\n",
              "</style>\n",
              "<table border=\"1\" class=\"dataframe\">\n",
              "  <thead>\n",
              "    <tr style=\"text-align: right;\">\n",
              "      <th></th>\n",
              "      <th>Party</th>\n",
              "      <th>Members</th>\n",
              "    </tr>\n",
              "  </thead>\n",
              "  <tbody>\n",
              "    <tr>\n",
              "      <th>0</th>\n",
              "      <td>Democratic Party</td>\n",
              "      <td>6563</td>\n",
              "    </tr>\n",
              "    <tr>\n",
              "      <th>1</th>\n",
              "      <td>Republican Party</td>\n",
              "      <td>6180</td>\n",
              "    </tr>\n",
              "    <tr>\n",
              "      <th>2</th>\n",
              "      <td>Bharatiya Janata Party</td>\n",
              "      <td>995</td>\n",
              "    </tr>\n",
              "    <tr>\n",
              "      <th>3</th>\n",
              "      <td>Labour Party</td>\n",
              "      <td>937</td>\n",
              "    </tr>\n",
              "    <tr>\n",
              "      <th>4</th>\n",
              "      <td>Indian National Congress</td>\n",
              "      <td>814</td>\n",
              "    </tr>\n",
              "    <tr>\n",
              "      <th>5</th>\n",
              "      <td>Conservative Party</td>\n",
              "      <td>689</td>\n",
              "    </tr>\n",
              "    <tr>\n",
              "      <th>6</th>\n",
              "      <td>independent politician</td>\n",
              "      <td>521</td>\n",
              "    </tr>\n",
              "    <tr>\n",
              "      <th>7</th>\n",
              "      <td>Australian Labor Party</td>\n",
              "      <td>498</td>\n",
              "    </tr>\n",
              "    <tr>\n",
              "      <th>8</th>\n",
              "      <td>Liberal Party of Canada</td>\n",
              "      <td>385</td>\n",
              "    </tr>\n",
              "    <tr>\n",
              "      <th>9</th>\n",
              "      <td>Christian Democratic Union</td>\n",
              "      <td>341</td>\n",
              "    </tr>\n",
              "  </tbody>\n",
              "</table>\n",
              "</div>"
            ],
            "text/plain": [
              "                        Party  Members\n",
              "0            Democratic Party     6563\n",
              "1            Republican Party     6180\n",
              "2      Bharatiya Janata Party      995\n",
              "3                Labour Party      937\n",
              "4    Indian National Congress      814\n",
              "5          Conservative Party      689\n",
              "6      independent politician      521\n",
              "7      Australian Labor Party      498\n",
              "8     Liberal Party of Canada      385\n",
              "9  Christian Democratic Union      341"
            ]
          },
          "metadata": {},
          "execution_count": 18
        }
      ]
    },
    {
      "cell_type": "markdown",
      "metadata": {
        "id": "PKMRYKiGrAOR"
      },
      "source": [
        "#### Analysis when a single party per person is kept"
      ]
    },
    {
      "cell_type": "markdown",
      "metadata": {
        "id": "vD2YzAYd6jqh"
      },
      "source": [
        "The logic is the following: \n",
        "* If a speaker belonged to only one political party throughout his life, consider that party as the correct one, regardless of the quotation date.\n",
        "*   If a speaker belonged to multiple parties:\n",
        "    - Take the party whose (start_time, end_time) interval contains the quotation date. If a party of a speaker has a start_time, but not and end_time, consider the end_time == current_time. If a speaker has 2 parties with a start_time and no end_time, it means he belongs to multiple parties, therefore, take only the last one.\n",
        "\n",
        "\n"
      ]
    },
    {
      "cell_type": "code",
      "metadata": {
        "colab": {
          "base_uri": "https://localhost:8080/",
          "height": 434
        },
        "id": "Zqab4OFOrOYP",
        "outputId": "463d443f-ec4a-4aa5-b88b-28130aa72074"
      },
      "source": [
        "# Get party membership intervals for each speaker and save dataframe\n",
        "quotebank_qids = quotebank_data['qids'].unique()\n",
        "map_speaker_to_party(quotebank_qids)\n",
        "# TODO: Check this\n"
      ],
      "execution_count": 25,
      "outputs": [
        {
          "output_type": "stream",
          "name": "stderr",
          "text": [
            "100%|██████████| 100/100 [00:16<00:00,  5.99it/s]\n"
          ]
        },
        {
          "output_type": "execute_result",
          "data": {
            "text/html": [
              "<div>\n",
              "<style scoped>\n",
              "    .dataframe tbody tr th:only-of-type {\n",
              "        vertical-align: middle;\n",
              "    }\n",
              "\n",
              "    .dataframe tbody tr th {\n",
              "        vertical-align: top;\n",
              "    }\n",
              "\n",
              "    .dataframe thead th {\n",
              "        text-align: right;\n",
              "    }\n",
              "</style>\n",
              "<table border=\"1\" class=\"dataframe\">\n",
              "  <thead>\n",
              "    <tr style=\"text-align: right;\">\n",
              "      <th></th>\n",
              "      <th>0</th>\n",
              "      <th>1</th>\n",
              "      <th>2</th>\n",
              "      <th>3</th>\n",
              "      <th>4</th>\n",
              "    </tr>\n",
              "  </thead>\n",
              "  <tbody>\n",
              "    <tr>\n",
              "      <th>Q919045</th>\n",
              "      <td>[Q3240730, 2008-07-01 00:00:00, 2020-05-01 00:...</td>\n",
              "      <td>None</td>\n",
              "      <td>None</td>\n",
              "      <td>None</td>\n",
              "      <td>None</td>\n",
              "    </tr>\n",
              "    <tr>\n",
              "      <th>Q862103</th>\n",
              "      <td>[Q29468, 2008-07-01 00:00:00, 2020-05-01 00:00...</td>\n",
              "      <td>None</td>\n",
              "      <td>None</td>\n",
              "      <td>None</td>\n",
              "      <td>None</td>\n",
              "    </tr>\n",
              "    <tr>\n",
              "      <th>Q27986907</th>\n",
              "      <td>[Q29468, 2008-07-01 00:00:00, 2020-05-01 00:00...</td>\n",
              "      <td>None</td>\n",
              "      <td>None</td>\n",
              "      <td>None</td>\n",
              "      <td>None</td>\n",
              "    </tr>\n",
              "    <tr>\n",
              "      <th>Q57892</th>\n",
              "      <td>[Q24708, 2008-07-01 00:00:00, 2020-05-01 00:00...</td>\n",
              "      <td>None</td>\n",
              "      <td>None</td>\n",
              "      <td>None</td>\n",
              "      <td>None</td>\n",
              "    </tr>\n",
              "    <tr>\n",
              "      <th>Q1855840</th>\n",
              "      <td>[Q29552, 2008-07-01 00:00:00, 2020-05-01 00:00...</td>\n",
              "      <td>None</td>\n",
              "      <td>None</td>\n",
              "      <td>None</td>\n",
              "      <td>None</td>\n",
              "    </tr>\n",
              "    <tr>\n",
              "      <th>...</th>\n",
              "      <td>...</td>\n",
              "      <td>...</td>\n",
              "      <td>...</td>\n",
              "      <td>...</td>\n",
              "      <td>...</td>\n",
              "    </tr>\n",
              "    <tr>\n",
              "      <th>Q174438</th>\n",
              "      <td>[Q29552, 2008-07-01 00:00:00, 2020-05-01 00:00...</td>\n",
              "      <td>None</td>\n",
              "      <td>None</td>\n",
              "      <td>None</td>\n",
              "      <td>None</td>\n",
              "    </tr>\n",
              "    <tr>\n",
              "      <th>Q167607</th>\n",
              "      <td>None</td>\n",
              "      <td>None</td>\n",
              "      <td>None</td>\n",
              "      <td>None</td>\n",
              "      <td>None</td>\n",
              "    </tr>\n",
              "    <tr>\n",
              "      <th>Q4962244</th>\n",
              "      <td>[Q29468, 2008-07-01 00:00:00, 2020-05-01 00:00...</td>\n",
              "      <td>None</td>\n",
              "      <td>None</td>\n",
              "      <td>None</td>\n",
              "      <td>None</td>\n",
              "    </tr>\n",
              "    <tr>\n",
              "      <th>Q1029527</th>\n",
              "      <td>[Q29468, 2008-07-01 00:00:00, 2020-05-01 00:00...</td>\n",
              "      <td>None</td>\n",
              "      <td>None</td>\n",
              "      <td>None</td>\n",
              "      <td>None</td>\n",
              "    </tr>\n",
              "    <tr>\n",
              "      <th>Q5247768</th>\n",
              "      <td>[Q1822905, 2008-07-01 00:00:00, 2020-05-01 00:...</td>\n",
              "      <td>None</td>\n",
              "      <td>None</td>\n",
              "      <td>None</td>\n",
              "      <td>None</td>\n",
              "    </tr>\n",
              "  </tbody>\n",
              "</table>\n",
              "<p>100 rows × 5 columns</p>\n",
              "</div>"
            ],
            "text/plain": [
              "                                                           0     1  ...     3     4\n",
              "Q919045    [Q3240730, 2008-07-01 00:00:00, 2020-05-01 00:...  None  ...  None  None\n",
              "Q862103    [Q29468, 2008-07-01 00:00:00, 2020-05-01 00:00...  None  ...  None  None\n",
              "Q27986907  [Q29468, 2008-07-01 00:00:00, 2020-05-01 00:00...  None  ...  None  None\n",
              "Q57892     [Q24708, 2008-07-01 00:00:00, 2020-05-01 00:00...  None  ...  None  None\n",
              "Q1855840   [Q29552, 2008-07-01 00:00:00, 2020-05-01 00:00...  None  ...  None  None\n",
              "...                                                      ...   ...  ...   ...   ...\n",
              "Q174438    [Q29552, 2008-07-01 00:00:00, 2020-05-01 00:00...  None  ...  None  None\n",
              "Q167607                                                 None  None  ...  None  None\n",
              "Q4962244   [Q29468, 2008-07-01 00:00:00, 2020-05-01 00:00...  None  ...  None  None\n",
              "Q1029527   [Q29468, 2008-07-01 00:00:00, 2020-05-01 00:00...  None  ...  None  None\n",
              "Q5247768   [Q1822905, 2008-07-01 00:00:00, 2020-05-01 00:...  None  ...  None  None\n",
              "\n",
              "[100 rows x 5 columns]"
            ]
          },
          "metadata": {},
          "execution_count": 25
        }
      ]
    },
    {
      "cell_type": "markdown",
      "metadata": {
        "id": "xjn5d946aUnc"
      },
      "source": [
        "## BERT"
      ]
    },
    {
      "cell_type": "code",
      "metadata": {
        "colab": {
          "base_uri": "https://localhost:8080/",
          "height": 450,
          "referenced_widgets": [
            "0bd6457098f34626a0081d3b50fe98ee",
            "95b3d1ebc7754399ab3975cad7708bc4",
            "7a013db46acd4ae3a278ea5760275b79",
            "7a93e353e8c4427b9537c78838add3f8",
            "5d31f52fc8824d458a5029154a88f9b6",
            "4aabb2505d0f4e5d9dcd4c7f05688b3b",
            "d8538f78f08d4a26b2aa2a9a7c81e3c9",
            "270c457fae9d4dcd86db2017615c31cd",
            "2b28991f89714cf08c164f8abdf083a2",
            "ec3a875a68384f9b941b7b525d7a44da",
            "b76771dd74934b25a7989a8720c5c274",
            "96b97cac56a34ff5a357158bafc1d9ce",
            "171961d31e754456aeb2f706c1c5aaee",
            "42357d8849f14743836ec1831a27cea2",
            "09e5582a914c4077aef1ef0e515a0895",
            "81acd487af644a66b4c37426028683a6",
            "6ab514ca32f74f4db974b028a81445f3",
            "b457cff40eb84a8e8182d455ee601e4e",
            "5ad4815b091c4af68d49ea92bb9e6801",
            "2bdbb91177674b4eb6dcdf2ba97514ac",
            "799b7b868ab146a8a2ae45a78f8c04e4",
            "c6e928cb29ab45af895f12fdd8d3d13a",
            "2c4e59ef11574385924a806d05df6293",
            "bb10fa63545b4d0886b1dd064a178b05",
            "103a10caaa8548229963364ec14ab87c",
            "80d0cbb2c2fb413aa219b9d87bfff3e6",
            "2d4a40de0e844ef2982be43a836ecf0e",
            "3b554c0a1c6f4e7f8b4c8a3f351d2ce6",
            "71ae283b85fa481ba473a749d6e0f593",
            "cd191686d3a946ff823ceba702a8133c",
            "b208891e30bc4c1c84b01d330dd4dd67",
            "eb8b03ef2d1b477d91e5324c1e770b56",
            "5c51f9d74e6842be99971f74ba726a99",
            "c7ab8bab1a32486abc949ba7e43de62a",
            "5a67f7afa6b64f7599b5d8ee42d18f68",
            "75c5e8788cee4dbfb56009f2480ac3a6",
            "453686412194400cbf6af9468a72de6a",
            "39dc2bde81fc468cb51abcf9ef28392d",
            "b69025db7dbe473486b76a7113a66d45",
            "a056c77d1aa94b2582ae6caae6a72d5b",
            "479a7ce1ae71487ab46460c8a8acbf9c",
            "cea8d2e3ff0b4bec83fd1563af406668",
            "09b6041d17b44f8a99349cf54076619b",
            "f6dd55bcea97486b90297695d580693b",
            "482b978197ff48fc89a5ec92ec877eb1",
            "249cc853de18436788a9c6598c8e335e",
            "fffa949bcf83443093d517abd1e836e6",
            "6683d7c31a574e89ba562d2a8ceb3074",
            "ed16912dbca0459fb270752fc33779a1",
            "7830315b30b4434daf1a062bbd8429a7",
            "7f1001e3631d4f1a93c49637d148a176",
            "9a7f4269d9f24d07a2e0f5478a02c933",
            "bbf3c18ed97b47458ed66f7f86257604",
            "a32bb3954bca4f028a7f4697e0641847",
            "3d7da088ac5245db86749efc810eca7e",
            "98dd1d16392746099eb86693224088ab",
            "cba09a95151c42cfb976735546e61134",
            "e9c9b183d95e4a74b77ce9e1bbf6c4ef",
            "95aa202895f645ed8827ddda140f02ab",
            "d1f8e679d64e44899f65a606081e2bb0",
            "aea8857134164f189db22cfb242a6d90",
            "41b8b9b8eb59467084bab3ff915ba6cc",
            "aed87a36004d4e9caff530cc50078257",
            "5995b18f3d4543b0abd4b8c95b2e3c28",
            "9ad07583046d4203b52fd967aa2c6b28",
            "d9b84333bf6e4697bf1215397ed37987",
            "8eec299e87d946cf9b662d538b89ddec",
            "13c07090c3274be5a76d9a79535f17ef",
            "d18febbbecc14b579ec67bd4b7ea4ede",
            "584b0e42b28b472685d5dd8989fe42dc",
            "20ed738d944f4809820819592ec3876b",
            "d96db483cc41465e80c1ffa83895ec4e",
            "3f5dc1e2219a46cb9b4ca111e24d9312",
            "a1cc6db39e864cf09f039695d7b7f295",
            "fb5ed05f34f94f39a1e4693f645b7bb3",
            "f095ef056f6c4296b0e03ca09ef04c4f",
            "08c698181ce541b3ba2a8a4981a4b717",
            "3d7abd6c28c34093a5fd5ff6fd6ea160",
            "d31c597ed8e44e7281734518357b7202",
            "06344153afec4e50bdee10902852d7ae",
            "f8c1ce9e020241a0939578507fe1e53d",
            "eecc40d6d0c249308b16c592086d8ff8",
            "7c69082bdfe34afebdc60bed8c053c89",
            "b3617cbe588d4d69b819cc7e73e65b2b",
            "10d95f7519b64338a0b8794c024063b8",
            "2854f790f7b74952af7820c5a4b7e1ea",
            "16ae2b3df39142fda6a3b80aaf6d681c",
            "f4c191870d5346d694f56873fd3e239b",
            "e2343045a8a74252b1618b78d42638b5",
            "abb75ecff7144783ae9ab575ccf6bba8",
            "e1da6f107a3145c9a4f54534dc9177cd",
            "b6699666060047bcb09ec2bebd0e0368",
            "fa2fc9cb55324bb99a5e5d6c9bb0b55e",
            "e3b12c5bd5494633bd8199a072d7714d",
            "66e495a0a09e47bbb93a8f959a267d4e",
            "4ed21171bc034a34b096ca26582937a8",
            "316a5a6956ea4413be99741396ee1118",
            "2abddf6c479b4c5188e6f93c93494eaa",
            "6dc89f131dc34fb48aa52d276bc0730c",
            "0fcedd98bd0b4193ac1589bfcf5558fb",
            "73fa76e40aa44751ba33dbd82232227a",
            "fb0e6db66abf41f7bda8d208d633262b",
            "3803bc572efc4f33a8687685cb523ce7",
            "eaf31ab9c2414c46887db1b3f993a358",
            "294120f7e8b6479b84dde8044ba765f1",
            "b439cd7fa40c42e9af2c04139279d846",
            "fed2aa4a1c2c458ca7f3d506714e8f49",
            "210580aba98249669bc0374e92db5e35",
            "48c3bcdf3bcf4e2490c78e5ca6f62ed2",
            "11dd6f3020c14d8e928eac1a9fd47229",
            "75d24d066a6949eab6ffffe0673aaa70",
            "f90092bad5224e2ebe8b46d77993764e",
            "e2a68cd62f1e489393a6f04e0ffbd2bb",
            "8fb1dace3c554399a0ccd60839829400",
            "5db2487920c34697b7579a5150c88ded",
            "63f6a3c612c44d0695e530fd569d541e",
            "5740e7b7a57545358fd7288719c4336b",
            "7792f7f67c4d4b5196664ec6e1a902b3",
            "b7fbf3baad0e450b8ee0590369a129b4",
            "19d7448b6b274ad89e18702696721165",
            "b139e7c37ac94b18b79feda23a1cd316",
            "4dd5e9675a5745168e149159242b1c8b",
            "1a2e3577969a452d92e127ae86c187aa",
            "885af76215404e048f300f3e018f10f3",
            "fea4b657cddc45799ab636e328b67ad3",
            "f7b1dd9306d24f0bbc66f936ad82f03e",
            "7b74507fb45144c7b79dff739dd3681a",
            "08abc9330a904f028ff4daa1a400e66e",
            "e19d6ec27c5442aeae13ecfe86e01606",
            "34fbbd8f58fd416f81d6d2da6a8c47ae",
            "65a7c9bf67ec4405ac291ba170783d92",
            "e9f1aec195f14fa5becdb77e3f4e540d",
            "9aa42d512064462fbf5e0c734cf79441",
            "7fbbbe7e23b14a8393f2b659541b580e",
            "45e05f0b9ab54af5a90bb96e94c2e33a",
            "27d3be903e32477083b046a178f12e12",
            "4102e6aaa06b411fa6ea8a7889d5c516",
            "3f96366ca47f4f9b8b62a902e45f0fcb",
            "bc13f2c956024ebb9c6f59f9fa2362ea",
            "5db5b6545d5c4247aeafba2e5b2e7241",
            "c41e01dba7f242be80ea2e7ec7e36067",
            "8ba624c0a8d3441687413162cdd7f7a7",
            "39959049d21345ba923c82f8f3457363"
          ]
        },
        "id": "wW893RJ6aX7W",
        "outputId": "0a785033-bddf-485d-88fb-7360772b7550"
      },
      "source": [
        "# Check cuda runtime and set model\n",
        "device = torch.device(\"cuda\" if torch.cuda.is_available() else \"cpu\")\n",
        "model = SentenceTransformer('bert-base-nli-mean-tokens')\n",
        "print(device)"
      ],
      "execution_count": null,
      "outputs": [
        {
          "output_type": "display_data",
          "data": {
            "application/vnd.jupyter.widget-view+json": {
              "model_id": "0bd6457098f34626a0081d3b50fe98ee",
              "version_minor": 0,
              "version_major": 2
            },
            "text/plain": [
              "Downloading:   0%|          | 0.00/391 [00:00<?, ?B/s]"
            ]
          },
          "metadata": {}
        },
        {
          "output_type": "display_data",
          "data": {
            "application/vnd.jupyter.widget-view+json": {
              "model_id": "96b97cac56a34ff5a357158bafc1d9ce",
              "version_minor": 0,
              "version_major": 2
            },
            "text/plain": [
              "Downloading:   0%|          | 0.00/3.95k [00:00<?, ?B/s]"
            ]
          },
          "metadata": {}
        },
        {
          "output_type": "display_data",
          "data": {
            "application/vnd.jupyter.widget-view+json": {
              "model_id": "2c4e59ef11574385924a806d05df6293",
              "version_minor": 0,
              "version_major": 2
            },
            "text/plain": [
              "Downloading:   0%|          | 0.00/2.00 [00:00<?, ?B/s]"
            ]
          },
          "metadata": {}
        },
        {
          "output_type": "display_data",
          "data": {
            "application/vnd.jupyter.widget-view+json": {
              "model_id": "c7ab8bab1a32486abc949ba7e43de62a",
              "version_minor": 0,
              "version_major": 2
            },
            "text/plain": [
              "Downloading:   0%|          | 0.00/625 [00:00<?, ?B/s]"
            ]
          },
          "metadata": {}
        },
        {
          "output_type": "display_data",
          "data": {
            "application/vnd.jupyter.widget-view+json": {
              "model_id": "482b978197ff48fc89a5ec92ec877eb1",
              "version_minor": 0,
              "version_major": 2
            },
            "text/plain": [
              "Downloading:   0%|          | 0.00/122 [00:00<?, ?B/s]"
            ]
          },
          "metadata": {}
        },
        {
          "output_type": "display_data",
          "data": {
            "application/vnd.jupyter.widget-view+json": {
              "model_id": "98dd1d16392746099eb86693224088ab",
              "version_minor": 0,
              "version_major": 2
            },
            "text/plain": [
              "Downloading:   0%|          | 0.00/229 [00:00<?, ?B/s]"
            ]
          },
          "metadata": {}
        },
        {
          "output_type": "display_data",
          "data": {
            "application/vnd.jupyter.widget-view+json": {
              "model_id": "8eec299e87d946cf9b662d538b89ddec",
              "version_minor": 0,
              "version_major": 2
            },
            "text/plain": [
              "Downloading:   0%|          | 0.00/438M [00:00<?, ?B/s]"
            ]
          },
          "metadata": {}
        },
        {
          "output_type": "display_data",
          "data": {
            "application/vnd.jupyter.widget-view+json": {
              "model_id": "3d7abd6c28c34093a5fd5ff6fd6ea160",
              "version_minor": 0,
              "version_major": 2
            },
            "text/plain": [
              "Downloading:   0%|          | 0.00/53.0 [00:00<?, ?B/s]"
            ]
          },
          "metadata": {}
        },
        {
          "output_type": "display_data",
          "data": {
            "application/vnd.jupyter.widget-view+json": {
              "model_id": "e2343045a8a74252b1618b78d42638b5",
              "version_minor": 0,
              "version_major": 2
            },
            "text/plain": [
              "Downloading:   0%|          | 0.00/112 [00:00<?, ?B/s]"
            ]
          },
          "metadata": {}
        },
        {
          "output_type": "display_data",
          "data": {
            "application/vnd.jupyter.widget-view+json": {
              "model_id": "0fcedd98bd0b4193ac1589bfcf5558fb",
              "version_minor": 0,
              "version_major": 2
            },
            "text/plain": [
              "Downloading:   0%|          | 0.00/466k [00:00<?, ?B/s]"
            ]
          },
          "metadata": {}
        },
        {
          "output_type": "display_data",
          "data": {
            "application/vnd.jupyter.widget-view+json": {
              "model_id": "75d24d066a6949eab6ffffe0673aaa70",
              "version_minor": 0,
              "version_major": 2
            },
            "text/plain": [
              "Downloading:   0%|          | 0.00/399 [00:00<?, ?B/s]"
            ]
          },
          "metadata": {}
        },
        {
          "output_type": "display_data",
          "data": {
            "application/vnd.jupyter.widget-view+json": {
              "model_id": "4dd5e9675a5745168e149159242b1c8b",
              "version_minor": 0,
              "version_major": 2
            },
            "text/plain": [
              "Downloading:   0%|          | 0.00/232k [00:00<?, ?B/s]"
            ]
          },
          "metadata": {}
        },
        {
          "output_type": "display_data",
          "data": {
            "application/vnd.jupyter.widget-view+json": {
              "model_id": "9aa42d512064462fbf5e0c734cf79441",
              "version_minor": 0,
              "version_major": 2
            },
            "text/plain": [
              "Downloading:   0%|          | 0.00/190 [00:00<?, ?B/s]"
            ]
          },
          "metadata": {}
        },
        {
          "output_type": "stream",
          "name": "stdout",
          "text": [
            "cuda\n"
          ]
        }
      ]
    },
    {
      "cell_type": "code",
      "metadata": {
        "id": "KcipuJmjYj-G"
      },
      "source": [
        "# Get a subset of quotebank\n",
        "quotebank_subset = quotebank_data[:100000]"
      ],
      "execution_count": null,
      "outputs": []
    },
    {
      "cell_type": "code",
      "metadata": {
        "colab": {
          "base_uri": "https://localhost:8080/",
          "height": 49,
          "referenced_widgets": [
            "7410e81bd19f4d1e8e90be398c9144ea",
            "529a152c219f4a5ca63f1b9158ea4e2a",
            "67b4272a425e4b039aea765d01c7b8fd",
            "9d90bb62c0e24783844fe501f70d963c",
            "d231573de9a14efaba04d9ab7af1405e",
            "54635b60e7814bbe805d34aeadb2ee99",
            "50a4dd8f4e9643b0971d423ff50fa414",
            "af1aadbc90ba46daa0d265aa781ff371",
            "e3cbbd279b964346926364f91321525f",
            "8910389fd64a4eabb51b80477106eeec",
            "c86dda29edaf4711bb351ef2019e2749"
          ]
        },
        "id": "mWvJk0788JDf",
        "outputId": "56769f36-f66c-4927-bf36-3590aa3db4ab"
      },
      "source": [
        "# Find sentence embeddings\n",
        "sentence_embeddings = model.encode(list(quotebank_subset['quotation']), show_progress_bar=True)\n",
        "# Reduce dimensionality of embeddings\n",
        "umap_embeddings = umap.UMAP(n_neighbors=100, n_components=5, metric='cosine').fit_transform(sentence_embeddings)"
      ],
      "execution_count": null,
      "outputs": [
        {
          "output_type": "display_data",
          "data": {
            "application/vnd.jupyter.widget-view+json": {
              "model_id": "7410e81bd19f4d1e8e90be398c9144ea",
              "version_minor": 0,
              "version_major": 2
            },
            "text/plain": [
              "Batches:   0%|          | 0/3125 [00:00<?, ?it/s]"
            ]
          },
          "metadata": {}
        }
      ]
    },
    {
      "cell_type": "code",
      "metadata": {
        "id": "RCsRvnNs9ct-"
      },
      "source": [
        "# Cluster documents\n",
        "cluster = hdbscan.HDBSCAN(min_cluster_size=10, metric='euclidean', cluster_selection_method='eom').fit(umap_embeddings)"
      ],
      "execution_count": null,
      "outputs": []
    },
    {
      "cell_type": "code",
      "metadata": {
        "colab": {
          "base_uri": "https://localhost:8080/",
          "height": 714
        },
        "id": "OdG2Q0Mf9-3T",
        "outputId": "a2aabd38-1113-4000-ab99-8d04acd1a112"
      },
      "source": [
        "# Prepare data\n",
        "umap_data = umap.UMAP(n_neighbors=100, n_components=2, min_dist=0.0, metric='cosine').fit_transform(sentence_embeddings)\n",
        "result = pd.DataFrame(umap_data, columns=['x', 'y'])\n",
        "result['labels'] = cluster.labels_\n",
        "quotebank_subset['labels'] = cluster.labels_\n",
        "\n",
        "# Visualize clusters\n",
        "fig, ax = plt.subplots(figsize=(20, 10))\n",
        "outliers = result.loc[result.labels == -1, :]\n",
        "clustered = result.loc[result.labels != -1, :]\n",
        "plt.scatter(outliers.x, outliers.y, color='#BDBDBD', s=0.005)\n",
        "plt.scatter(clustered.x, clustered.y, c=clustered.labels, s=30, cmap='hsv_r')\n",
        "plt.colorbar()"
      ],
      "execution_count": null,
      "outputs": [
        {
          "output_type": "stream",
          "name": "stderr",
          "text": [
            "/usr/local/lib/python3.7/dist-packages/ipykernel_launcher.py:5: SettingWithCopyWarning: \n",
            "A value is trying to be set on a copy of a slice from a DataFrame.\n",
            "Try using .loc[row_indexer,col_indexer] = value instead\n",
            "\n",
            "See the caveats in the documentation: https://pandas.pydata.org/pandas-docs/stable/user_guide/indexing.html#returning-a-view-versus-a-copy\n",
            "  \"\"\"\n"
          ]
        },
        {
          "output_type": "execute_result",
          "data": {
            "text/plain": [
              "<matplotlib.colorbar.Colorbar at 0x7fbbd19a39d0>"
            ]
          },
          "metadata": {},
          "execution_count": 32
        },
        {
          "output_type": "display_data",
          "data": {
            "image/png": "[encoded data removed]",
            "text/plain": [
              "<Figure size 1440x720 with 2 Axes>"
            ]
          },
          "metadata": {
            "needs_background": "light"
          }
        }
      ]
    },
    {
      "cell_type": "code",
      "metadata": {
        "colab": {
          "base_uri": "https://localhost:8080/"
        },
        "id": "gK2QxpTnE3rG",
        "outputId": "725e7a85-f013-4e76-80fb-9adcf6042429"
      },
      "source": [
        "# Check a cluster results\n",
        "clusters = quotebank_subset.groupby('labels')[['quotation', 'party']].agg(list)\n",
        "clusters.quotation.loc[3]"
      ],
      "execution_count": null,
      "outputs": [
        {
          "output_type": "execute_result",
          "data": {
            "text/plain": [
              "['spending billions to militarize outer space.',\n",
              " 'That means having additional partners on the Gateway is maybe more difficult than having partners on the International Space Station,',\n",
              " 'We have the air force. We will have a space force,',\n",
              " 'identifying any operational authorities that are needed for U.S. Space Command.',\n",
              " 'Steve returns to a position ideally suited for him and the agency as we return to the Moon,',\n",
              " 'Among the functions performed are the provision of early warning by receiving from space satellites information about missile launches, and the provision of information about the occurrence of nuclear explosions,',\n",
              " 'provide national leadership in rocket propulsion',\n",
              " 'Seconds before clearing the lens with my jumper, the Space Station came into view, so it was a rush to focus and start taking images. I took a series of exposures only a few seconds long since the sky was already getting brighter. It was over as quickly as it began, as the Station continued on its journey.',\n",
              " 'The idea of a helicopter flying the skies of another planet is thrilling,',\n",
              " \"And I just don't mean going up to the moon and going up to Mars, where we'll be going very soon... We'll be going to Mars very soon. But from a military standpoint, space is becoming every day more and more important.\",\n",
              " 'committed to lunar exploration.',\n",
              " 'Facilities like Colorado Air and Space Port will be developed around the country and the world,',\n",
              " 'The government would certainly continue research in space technology and make the best efforts to cope with any new technology in the future,',\n",
              " \"We are finally going to lead again. Very soon, we're going to Mars -- you wouldn't be going to Mars if my opponent won. You wouldn't even be thinking of it,\",\n",
              " 'If Florida can put a man on the moon it should be able to pick people u p to get to their doctor appointments,',\n",
              " \"Last year, I authored language that was adopted into the Senate's FY2018 National Defense Authorization Act, stating that it is a matter of U.S. policy to utilize an integrated system of assets in space for defense of the homeland. The best way to operationalize this policy is developing and deploying a space-based interceptor layer.\",\n",
              " \"This is a big day. We're going back to Mars! This is an extraordinary mission with a whole host of firsts.\",\n",
              " 'The NASA summit, which includes our leader Raila, will meet today or latest tomorrow and thereafter issue a joint statement on the way forward. We are an integral part of NASA and anyone saying that we have left is practising cheap politics.',\n",
              " 'The use of new composite materials has made it possible [ to fly ] to its target like a meteorite, like a ball of fire,',\n",
              " 'an expert in electrical engineering and rocket,',\n",
              " 'We must establish a plan for space traffic management and coordination.',\n",
              " \"We're going to be on the James Webb space telescope, the successor to the Hubble space telescope,\",\n",
              " 'Well, because then those private companies can then embed in their marketing campaigns NASA. We can embed NASA into the culture and fabric of American society and inspire generations of folks that will create those next capabilities to keep America preeminent not only in space but in science and technology and discovery and exploration.',\n",
              " 'America will always be the first in space.',\n",
              " \"The inertial measurement unit powers back on only when it's needed, such as during safe mode, orbital trim maneuvers, or communications coverage during critical events around a Mars landing.\",\n",
              " \"India's Mars mission was less costly than the Hollywood. We are not only aiming for excellency but we want to be the leaders in cutting age technology that will eventually help in world development,\",\n",
              " 'The American people paid for that mission, on rockets built by Americans, with American technology & carrying American astronauts,',\n",
              " 'We will renew and strengthen our commitment to American commercial space companies, and NASA will lead the way as we once again explore the Moon and look to Mars, and beyond,',\n",
              " 'road map, a launch pad.',\n",
              " 'We will carry it a step further [ after domestically produced unmanned aerial vehicles ]... We should reach the ability to produce unmanned tanks as well. We will do it,',\n",
              " \"We're going back to Mars. This is an extraordinary mission with a whole host of firsts.\",\n",
              " \"Even today... we've got American astronauts and Russian cosmonauts dependent on each other in the International Space Station.\",\n",
              " 'In just a few seconds, guests can take a spaceship to a black hole or drive a rover on Mars as they learn about the origins of the universe,',\n",
              " \"We can put a man on the moon. Surely we're going to be able to find a solution.\",\n",
              " 'In that vein, I hope you will help make Redstone Arsenal a finalist in the space command headquarters debate. Redstone Arsenal has a lot to offer,',\n",
              " \"we are doing a tremendous amount of work in space, and it's the new frontier.\",\n",
              " 'While the moon will provide a great testing ground in preparation for the journey to Mars, we must remain vigilant and ensure that we limit costly delays that could push a crewed Mars mission in the 2030s out of reach,',\n",
              " 'Have you seen the documentaries lately about space? The one with Mark Hamill?',\n",
              " 'reorganisation so big you can see it from outer space',\n",
              " \"What you're looking at is the first launch and landing of the @SpaceX Falcon 9 rocket on the West Coast. The rocket took off from Vandenberg Air Force Base at 7:21 p.m. and landed safely back on Earth.\",\n",
              " \"This week we landed on the surface of Mars, it's the eighth time in the history of humanity that anyone has landed on the surface mars softly with a mission that's capable of carrying forward,\",\n",
              " \"You know, I was saying it the other day -- because we're doing a tremendous amount of work in space -- I said, `Maybe we need a new force, we'll call it the Space Force.' And I was not really serious, and then I said, `What a great idea, maybe we'll have to do that. That could happen, '\",\n",
              " 'The U.K. is already home to a number of world leading space businesses such as Surrey Satellite Technology, which controls a 40 percent share of the global small satellite market. With our recent announcement on the first U.K. mainland spaceport, we are now looking forward to launching our satellites into space. We are seeing innovative new firms coming on to the market like Orbex, which intends to redefine satellite launch services with innovative rockets using low carbon fuels. We are also attracting companies to the U.K. such as Orbital Micro Systems which is relocating from Colorado, and aims to revolutionize weather forecasting using a fleet of small satellites.',\n",
              " 'It is critical that America leads this sustained presence with commercial and international partners on and around the Moon,',\n",
              " 'Roscosmos has been very transparent with NASA on the failed launch of the Soyuz,',\n",
              " 'It flies to its target like a meteorite, like a burning ball, a fiery ball. And the winged unit can still be guided very well,',\n",
              " 'This record-breaking piece of kit is using a wide range of innovative technologies to blur the lines between air and space, and could one day gather battle-winning information to help our troops on the front line.',\n",
              " 'Under (Trump), America will lead in space once again,',\n",
              " 'We need to help NASA lift its gaze past the moon and understand how the work we do in space closest to Earth will serve us in our quest for Mars.',\n",
              " 'We were actually thinking of a sixth, and that would be the Space Force,',\n",
              " 'What did you guys think of the new movie about the moon landing?',\n",
              " 'The devices talk directly to the satellite,',\n",
              " 'We believe that there is a lot of amazing science that we can do on the surface of the Moon,',\n",
              " 'NASA will be one customer of many customers in a diverse marketplace between the Earth and the moon,',\n",
              " 'Making space regulations great again',\n",
              " 'As we write this new chapter of American exploration, I urge you to embrace this new energy and these new opportunities. Rededicate yourselves to the mission of NASA after you leave here today.',\n",
              " 'Certainly, there are in the future missions to Venus, and we are going to understand Venus even better than we already understand, and again, it should be and will be a collaboration,',\n",
              " 'It is my privilege to announce that today, President Trump will direct the Department of Defense to establish a combatant command that will oversee all our military activities in space.',\n",
              " \"They've actually built a mock space ship. It's very real,\",\n",
              " 'You here at the Johnson Space Center will guide these journeys,',\n",
              " 'For six decades, NASA has led peaceful exploration of space, making discoveries about our planet, our solar system, and our universe,',\n",
              " \"The directive I am signing today will refocus America' s space program on human exploration and discovery. It marks an initial step in returning American astronauts to the Moon for the first time since 1972, for long-term exploration and use. This time, we will not only plant our flag and leave our footprints -- we will establish a foundation for an eventual mission to Mars, and perhaps someday, worlds beyond.\",\n",
              " \"America's proud legacy of leadership in space -- essential to our nat'l security & prosperity\",\n",
              " \"I knew about the North Star but didn't know how to find it. Now I feel empowered to do an astronomy interpretive talk and share what I have learned with my family, my community and our park visitors,\",\n",
              " 'Congratulations to @AstroHague! Nick Hague, our astronaut who was forced to abort his recent Soyuz launch in October, will be headed to the @Space_Station on February 28, 2019. He will be joined by @NASA astronaut @Astro_Christina and Russian cosmonaut Alexey Ovchinin,',\n",
              " 'new national strategy for space.',\n",
              " 'All the truss structures on that International Space Station were built in my hometown, Tulsa, Oklahoma,',\n",
              " 'From agriculture to harnessing the energy of the atom, from vaccine innovation to advances in space technology, science has helped us build our nation,',\n",
              " \"Years after those monumental programs, it was in Florida where the most powerful rocket ever built, ignited, sending humans towards the heavens, to step foot on the moon. For thirty years, the space shuttle ferried astronauts from Cape Canaveral. Today, Florida's space coast continues to lead the world in space.\",\n",
              " 'Space Force, Space Force!',\n",
              " 'The Department is repositioning and consolidating all of its space commerce functions under my direct supervision in the Office of the Secretary,',\n",
              " \"I am hereby directing the DoD and Pentagon to begin the process necessary to establish a `space force' as the sixth branch of the armed forces,\",\n",
              " \"In this case, it's the revolution of the Earth that's on display. The comet particles are moving much more slowly than the Earth's motion around the sun, so that's why the meteors appear to be moving so fast\",\n",
              " \"I'm thrilled to extend progress in commercial cooperation we've made in low-Earth orbit to the lunar environment with this new agreement with the Israel Space Agency and SpaceIL,\",\n",
              " \"it's the F35 with space and cyber and unmanned vehicles, ready, ready to take the fight to the enemy\",\n",
              " 'She set the highest standards for human space flight operations,',\n",
              " 'They know, they understand. Think of that. Space force!',\n",
              " 'This monolith can be seen from space,',\n",
              " \"how to accelerate the progress of the commercialisation of space. We're moving quite aggressively to try to accomplish that\",\n",
              " \"Israel's ability to develop and launch satellites projects a clear message of national might,\",\n",
              " 'We have proposed to help Uzbekistan in the areas of space, human resource development and IT.',\n",
              " \"When the hurly burly of Budget shall be over and the Aam Aadmi realises that he has been promised the unachievable moon, Rajasthan shall state that Aam Aadmi has started to speak clearly. Time to retrospect, isn't it? Let's shed our arrogance and wake up! Jai Hind.\",\n",
              " 'new command structure for the physical domain of space led by a four-star flag officer... to ensure integration across the military,',\n",
              " '(They) would think those jobs might as well have been created on the moon in terms of their accessibility to those jobs,',\n",
              " 'ultimately that gives you potentially the propulsion capability to get you further into deep space without having to launch all of that fuel from earth.',\n",
              " 'We had a great talk as you know this morning with President Moon and I think a lot of things are happening.',\n",
              " 'diverse suite of capabilities to affect satellites in all orbital regimes,',\n",
              " 'Astronomers are excited to use HiPERCAM on the GTC to start exploring the Universe at high speed.',\n",
              " 'learn as much about Mars as possible,',\n",
              " 'Our ISRO scientists have made us proud yet again. ISRO today created a century in satellite launching. Farmers, fishermen & scientists of the nation will be helped in getting ground details with this success,',\n",
              " \"This is a big deal for our country, and we want America to know we're back. We're flying American astronauts on American rockets from American soil,\",\n",
              " 'we are going to have the Space Force,',\n",
              " 'When he meets ScotRail, and the RMT, will he put a rocket under them both to improve performance?',\n",
              " 'In turn, it will keep us on a path that fosters innovation and experimentation, encourage the growth of the U.S. space industry, and create American jobs.',\n",
              " 'The NASA Summit will do a thorough audit of the MOU and undertake soul-searching on whether Kenyans were taken for a ride on not by this MOU.',\n",
              " 'And I am happy to announce that by 2022, the 75th Independence year, we are planning a manned space mission. We will put an Indian in space by 2022 or earlier.',\n",
              " 'strengthen American security in space',\n",
              " 'the outstanding managerial skills that made James Webb such a successful manager of NASA.',\n",
              " 'We have to protect our assets in space,',\n",
              " \"a highly provocative demonstration of China's growing capability to militarize space.\",\n",
              " \"Think of radars out there that can listen for signals from deep space. And SETI stands for `search for extraterrestrial intelligence,' and there are universities involved in this [ program ], private companies, nonprofits, and they are trying to find out if there are signals out there. We, as humanity, we send signals into space all the time and somebody out there may capture them, you know. Who knows? It's science fiction for now but maybe, and the question is, is there another civilization somewhere?\",\n",
              " \"We're pleased that the White House is focusing on America's reliance on space, and on the growing threats from Russia and China,\",\n",
              " 'But if we can take advantage of commercial industry that can develop a reusable rocket, we want them to be successful,',\n",
              " 'I met today with the senior leadership here at NASA,',\n",
              " \"I'm encouraged by the venture by University of Nairobi. It is an inspiration to Kenyans to study space science for development of our economy,\",\n",
              " 'You will have the space force',\n",
              " 'establishing a permanent presence around and on the Moon.',\n",
              " \"Threat to space system from debris and other irresponsible activities is adding to the complexities. Competitive approach and the important role played by space technologies in providing securities has heightened international community's interest in space,\",\n",
              " \"OK? He's a global citizen who thinks a bunch of humans got together and said, `We're going to go to the moon, '\",\n",
              " \"We'll call it `Space Force.' And I was not really serious. Then I said: `What a great idea.' Maybe we'll have to do that. That could happen. That could be the big breaking story.\",\n",
              " 'NASA represents what is best about the United States of America: We lead, we discover, we pioneer, and we inspire,',\n",
              " \"It is no less than a scoop for the Tekniske Museum that it has succeeded in obtaining Andreas Mogensen's capsule, which is clear proof that Denmark is a space nation,\",\n",
              " 'The Canaveral Harbor Sand Bypass is important to our local economy, our space program and our national security,',\n",
              " 'You must anticipate to see elevated bilateral collaboration between us to design UGV (unmanned ground vehicles) as well as robotics,',\n",
              " 'a lot of space experience',\n",
              " \"Another area we are developing is the use of orbital surveying as a tool to investigate crimes. We already have access to a number of resources storing data on Earth's remote sensing, including from foreign spacecraft,\",\n",
              " 'SpaceX wanted us to go on the Block 5 and we were OK with that.',\n",
              " 'When is the election? When is Raya (Aidilfitri)? Have to look for the moon. Soon.',\n",
              " 'When people first started talking about launching rockets out of northeast Arnhem Land there were a few quizzical glances (and headlines), to say the least,',\n",
              " 'we have to have the capacity to protect our existing infrastructure in space',\n",
              " \"And then we can use our taxpayer dollars that NASA receives to do things where commercial industry won't go.\",\n",
              " 'we need to use the moon as a proving ground to accelerate our path to Mars',\n",
              " 'By 2013, the NAF developed an experimental UAV, codenamed GULMA, which was then unveiled as the first indigenous UAV. It is noteworthy that Gulma UAV was a technology demonstrator used to gather performance data on UAV systems.',\n",
              " 'This applies to @OSIRISREx and NASA TV too. @NASA will continue to stun the world with its achievements,',\n",
              " 'In the coming period the U.S. will conduct operations to, from, in and through space in support of its national interests both on the earth and in space.',\n",
              " 'STEM education is vital to everything we do at NASA. In recognition of this, I am proud to announce a new permanent STEM committee that will provide guidance to the NASA Advisory Council on how NASA can promote STEM-learning initiatives,']"
            ]
          },
          "metadata": {},
          "execution_count": 33
        }
      ]
    },
    {
      "cell_type": "markdown",
      "metadata": {
        "id": "BLdri1RcgKb0"
      },
      "source": [
        "**Space as main topic here**"
      ]
    },
    {
      "cell_type": "code",
      "metadata": {
        "colab": {
          "base_uri": "https://localhost:8080/"
        },
        "id": "rBNXgqU4WobH",
        "outputId": "43e33ecc-9ff7-4a5a-97d7-d058d6ce8ec3"
      },
      "source": [
        "# Get the parties interested in topic 3 \n",
        "# TODO: check here, this needs improvements\n",
        "Counter((map(lambda x: x[0][0], clusters.party.loc[3])))"
      ],
      "execution_count": null,
      "outputs": [
        {
          "output_type": "execute_result",
          "data": {
            "text/plain": [
              "Counter({'A': 3,\n",
              "         'B': 9,\n",
              "         'C': 8,\n",
              "         'D': 9,\n",
              "         'F': 1,\n",
              "         'I': 1,\n",
              "         'K': 1,\n",
              "         'L': 5,\n",
              "         'N': 1,\n",
              "         'P': 2,\n",
              "         'R': 80,\n",
              "         'S': 1,\n",
              "         'T': 1,\n",
              "         'U': 4})"
            ]
          },
          "metadata": {},
          "execution_count": 34
        }
      ]
    },
    {
      "cell_type": "code",
      "metadata": {
        "colab": {
          "base_uri": "https://localhost:8080/"
        },
        "id": "MLQqLW3fVTpy",
        "outputId": "3e4120cb-0721-4b7f-954f-e4cde51a046f"
      },
      "source": [
        "# Get another cluster's quotes\n",
        "clusters.quotation.loc[4]"
      ],
      "execution_count": null,
      "outputs": [
        {
          "output_type": "execute_result",
          "data": {
            "text/plain": [
              "[\"It's much more than has been usual thus far,\",\n",
              " 'act more American than the Americans.',\n",
              " \"You're probably in better condition than other detainees...\",\n",
              " 'What we achieved here together is perhaps more than I had expected,',\n",
              " \"I think it's probably looming larger [ here ] than other places,\",\n",
              " 'someone I would have seen as having a more weighty [ sic ] and more authority than any of the other special advisers',\n",
              " 'Are the slides big enough??????????.',\n",
              " 'was more dramatic than destructive.',\n",
              " 'Glide is bigger than so much of what people think it is,',\n",
              " \"It's going so much better than I would have imagined,\",\n",
              " \"much better handling than you'd predict looking at it.\",\n",
              " 'an animal with more length, depth and width than most',\n",
              " 'It could be dramatically longer than that; it could be shorter than that.',\n",
              " 'much greater empathy and respect than some British MPs',\n",
              " 'This is far greater than trade; this is far deeper than tariffs,',\n",
              " 'much better than what we have.',\n",
              " 'The job is bigger than you anticipate,',\n",
              " 'solves a problem and it is broader than what the Republicans introduced.',\n",
              " 'That by itself is a big bill,',\n",
              " 'He is much more consistent than the old (Northern) League,',\n",
              " 'more energized than the Republicans',\n",
              " 'bigger than that one seat,',\n",
              " 'had been more satisfying than I had hoped in most ways: busy, and consequential, and full of purpose.',\n",
              " 'More room is better than less',\n",
              " \"What's happening around them will be more exciting than what's happening on their phones,\",\n",
              " 'working far more rapidly than anybody would understand.',\n",
              " \"Infinera's solutions are performing better than advertised at delivering the capacity we need, where and when we need it.\",\n",
              " 'light in weight but heavy in value,',\n",
              " 'more a G6 plus one than a G7',\n",
              " 'I think this is much more comprehensive than anybody would think to begin with.',\n",
              " 'Hopefully there will be more answers than were provided last time.',\n",
              " \"Or does someone help him? Or does he dictate into the microphone? He's much more prolific than I am.\",\n",
              " 'competitive advantage over other regulated entities',\n",
              " \"And their stories, I'll be honest with you, are much more compelling than mine,\",\n",
              " \"The `special relationship' is much deeper than one man and one woman in office. It is a multilayered partnership,\",\n",
              " 'And meeting eye-to-eye is much better than a phone call.',\n",
              " \"Hopefully, I'm a bigger man than that,\",\n",
              " 'Mine is longer and stronger than yours',\n",
              " \"I think it's gone better than what we could have expected,\",\n",
              " 'The value of human beings is far greater than that of money,',\n",
              " \"You're really big. That's really small.\",\n",
              " 'the counterpunch is stronger than the punch itself,',\n",
              " 'so yes, that date is out there but we have a little more room than that would suggest.',\n",
              " 'closer to a deal than at any previous point in negotiations',\n",
              " \"It's not about ideology, it's much bigger than that,\",\n",
              " 'About More Than Bottled Water',\n",
              " 'much bigger than a ransomware attack.',\n",
              " \"allowed more development than we'd like to see\",\n",
              " 'This is going to be much bigger than you think,',\n",
              " 'This is substantially more than we have previously done.',\n",
              " 'Some have higher returns to the student than others,',\n",
              " 'The man himself is much more impressive than his public utterances.',\n",
              " 'there is a better understanding of the system than ever before.',\n",
              " 'far greater than the power of hinsa',\n",
              " 'My family and those closest to me were stronger than I.',\n",
              " 'It was more constructive than I believed it was going to be,',\n",
              " 'The digital world is more real than the physical, analog world,',\n",
              " 'unlike many others who are younger than him',\n",
              " \"I think the act gives us much broader authority than we've exercised in the past,\",\n",
              " 'a much higher chance of actually achieving a real peace.',\n",
              " 'Richard Whitehead was much more than a skilled worker,',\n",
              " 'The actual walking shoe itself is slightly lighter and more flexible than the running shoe, which tends to have more weight and rigidity,',\n",
              " \"That's definitely a lot better shape than it was a few years ago,\"]"
            ]
          },
          "metadata": {},
          "execution_count": 36
        }
      ]
    },
    {
      "cell_type": "markdown",
      "metadata": {
        "id": "OXvCIRgMg8vT"
      },
      "source": [
        "**Something related to big**"
      ]
    },
    {
      "cell_type": "code",
      "metadata": {
        "colab": {
          "base_uri": "https://localhost:8080/"
        },
        "id": "fFfMSBqrNDYB",
        "outputId": "a68abcce-574a-44ba-e448-b3a43ff84326"
      },
      "source": [
        "# Get the parties interested in topic 4\n",
        "# TODO: Check here\n",
        "Counter((map(lambda x: x[0][0], clusters.party.loc[4])))"
      ],
      "execution_count": null,
      "outputs": [
        {
          "output_type": "execute_result",
          "data": {
            "text/plain": [
              "Counter({'B': 1,\n",
              "         'C': 7,\n",
              "         'D': 20,\n",
              "         'F': 1,\n",
              "         'H': 1,\n",
              "         'I': 1,\n",
              "         'J': 1,\n",
              "         'L': 3,\n",
              "         'N': 1,\n",
              "         'O': 2,\n",
              "         'R': 19,\n",
              "         'S': 2,\n",
              "         'U': 1,\n",
              "         'i': 3})"
            ]
          },
          "metadata": {},
          "execution_count": 37
        }
      ]
    },
    {
      "cell_type": "markdown",
      "metadata": {
        "id": "RnEiJbJsQW-j"
      },
      "source": [
        "## Suggestions\n",
        "\n",
        "*   Apply \"get_membership_party\" on yearly resulted dataframes\n",
        "\n",
        "*   Tune parameters for UMAP - use this to get some insights https://pair-code.github.io/understanding-umap/\n",
        "*   Tune parameters for HDBSCAN\n",
        "\n",
        "* As research question\n",
        "> Check parties interests over years\n",
        "\n",
        "* Tokenize quotes \n",
        "* We will treat the missing qcodes in the final milestone\n",
        "\n",
        "\n",
        "\n",
        "\n",
        "\n",
        "\n",
        "\n",
        "\n",
        "\n",
        "\n",
        "\n",
        "\n"
      ]
    },
    {
      "cell_type": "code",
      "metadata": {
        "id": "efQlBwwg-yfA"
      },
      "source": [
        ""
      ],
      "execution_count": null,
      "outputs": []
    }
  ]
}